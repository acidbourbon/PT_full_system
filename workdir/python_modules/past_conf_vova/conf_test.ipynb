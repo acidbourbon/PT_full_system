{
 "cells": [
  {
   "cell_type": "code",
   "execution_count": 1,
   "id": "european-casino",
   "metadata": {},
   "outputs": [
    {
     "name": "stdout",
     "output_type": "stream",
     "text": [
      "Welcome to JupyROOT 6.14/04\n"
     ]
    }
   ],
   "source": [
    "import sys  \n",
    "sys.path.insert(0, '../')\n",
    "sys.path.insert(0, '.')\n",
    "\n",
    "import pasttrec_ctrl as pt\n",
    "import pasttrec_conf as pc\n",
    "import os\n",
    "\n",
    "conf = pc.generateDefaultConfiguration(pc.getConnectedMDCtree())\n",
    "for oep in conf:\n",
    "    for fpga in oep.fpga:\n",
    "        if fpga.addr != \"0x1801\": continue\n",
    "        fpga.found_baseline()\n",
    "        \n",
    "with open(\"test_whole.txt\",\"w\") as f:\n",
    "    for oep in conf:\n",
    "        print(oep, file=f)\n",
    "os.chmod(\"test_whole.txt\", 0o777)  \n"
   ]
  },
  {
   "cell_type": "code",
   "execution_count": 5,
   "id": "beneficial-object",
   "metadata": {},
   "outputs": [
    {
     "name": "stdout",
     "output_type": "stream",
     "text": [
      "[14, 20, 15, 17, 23, 19, 22, 10]\n"
     ]
    }
   ],
   "source": [
    "print(conf[2].fpga[0].pasttrec[0].baselines)"
   ]
  },
  {
   "cell_type": "code",
   "execution_count": null,
   "id": "permanent-category",
   "metadata": {},
   "outputs": [],
   "source": []
  }
 ],
 "metadata": {
  "kernelspec": {
   "display_name": "Python 3",
   "language": "python",
   "name": "python3"
  },
  "language_info": {
   "codemirror_mode": {
    "name": "ipython",
    "version": 3
   },
   "file_extension": ".py",
   "mimetype": "text/x-python",
   "name": "python",
   "nbconvert_exporter": "python",
   "pygments_lexer": "ipython3",
   "version": "3.6.9"
  }
 },
 "nbformat": 4,
 "nbformat_minor": 5
}
