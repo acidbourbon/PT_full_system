{
 "cells": [
  {
   "cell_type": "code",
   "execution_count": 1,
   "id": "ranging-charge",
   "metadata": {
    "scrolled": true
   },
   "outputs": [
    {
     "name": "stdout",
     "output_type": "stream",
     "text": [
      "Welcome to JupyROOT 6.14/04\n"
     ]
    }
   ],
   "source": [
    "import sys  \n",
    "sys.path.insert(0, '../')\n",
    "\n",
    "import pasttrec_ctrl as pt\n",
    "import pasttrec_conf as pc"
   ]
  },
  {
   "cell_type": "code",
   "execution_count": 2,
   "id": "foster-devices",
   "metadata": {},
   "outputs": [],
   "source": [
    "# pt.found_baselines_for_boards([\"0x1814\", \"0x1815\", \"0x1800\"],plot=False)"
   ]
  },
  {
   "cell_type": "code",
   "execution_count": null,
   "id": "female-trust",
   "metadata": {},
   "outputs": [],
   "source": [
    "mdc_tree = pc.getConnectedMDCtree()\n",
    "conf = pc.generateDefaultConfiguration(mdc_tree)\n",
    "pc.found_all_baselines(conf)\n",
    "print(*conf.values(),sep=\"\\n\")"
   ]
  },
  {
   "cell_type": "code",
   "execution_count": null,
   "id": "fifth-guatemala",
   "metadata": {},
   "outputs": [],
   "source": []
  }
 ],
 "metadata": {
  "kernelspec": {
   "display_name": "Python 3",
   "language": "python",
   "name": "python3"
  },
  "language_info": {
   "codemirror_mode": {
    "name": "ipython",
    "version": 3
   },
   "file_extension": ".py",
   "mimetype": "text/x-python",
   "name": "python",
   "nbconvert_exporter": "python",
   "pygments_lexer": "ipython3",
   "version": "3.6.9"
  }
 },
 "nbformat": 4,
 "nbformat_minor": 5
}
