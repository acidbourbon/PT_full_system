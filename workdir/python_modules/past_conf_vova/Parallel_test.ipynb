{
 "cells": [
  {
   "cell_type": "code",
   "execution_count": 1,
   "id": "limited-services",
   "metadata": {
    "scrolled": true
   },
   "outputs": [
    {
     "name": "stdout",
     "output_type": "stream",
     "text": [
      "Welcome to JupyROOT 6.14/04\n"
     ]
    }
   ],
   "source": [
    "import sys  \n",
    "sys.path.insert(0, '../')\n",
    "\n",
    "import pasttrec_ctrl as pt\n",
    "import pasttrec_conf as pc"
   ]
  },
  {
   "cell_type": "code",
   "execution_count": 2,
   "id": "appointed-pitch",
   "metadata": {},
   "outputs": [],
   "source": [
    "# pt.found_baselines_for_boards([\"0x1814\", \"0x1815\", \"0x1800\"],plot=False)"
   ]
  },
  {
   "cell_type": "code",
   "execution_count": 3,
   "id": "unable-kruger",
   "metadata": {},
   "outputs": [
    {
     "name": "stdout",
     "output_type": "stream",
     "text": [
      "OEP \t |    |\t        FPGA1       |\t        FPGA2       |\t        FPGA3       \n",
      "0x8001\t | -- |\t\t\t0x1800\t\t|\n",
      "\t\t | CH |\tPT1  PT2  PT3  PT4  |\tPT1  PT2  PT3  PT4  |\tPT1  PT2  PT3  PT4  \n",
      "\t\t | GA |\t4.00 4.00 4.00 4.00\t|\n",
      "\t\t | TH |\t0x08 0x08 0x08 0x08\t|\n",
      "\t\t | PT |\t0010 0010 0010 0010\t|\n",
      "\t\t | B0 |\t0x15 0x12 0x14 0x11\t|\n",
      "\t\t | B1 |\t0x10 0x12 0x15 0x14\t|\n",
      "\t\t | B2 |\t0x10 0x11 0x15 0x13\t|\n",
      "\t\t | B3 |\t0x12 0x10 0x0F 0x0E\t|\n",
      "\t\t | B4 |\t0x13 0x11 0x0F 0x15\t|\n",
      "\t\t | B5 |\t0x17 0x0E 0x12 0x17\t|\n",
      "\t\t | B6 |\t0x10 0x0E 0x13 0x14\t|\n",
      "\t\t | B7 |\t0x15 0x16 0x16 0x17\t|\n",
      "OEP \t |    |\t        FPGA1       |\t        FPGA2       |\t        FPGA3       \n",
      "0x8009\t | -- |\t\t\t0x1814\t\t|\t\t\t0x1815\t\t|\n",
      "\t\t | CH |\tPT1  PT2  PT3  PT4  |\tPT1  PT2  PT3  PT4  |\tPT1  PT2  PT3  PT4  \n",
      "\t\t | GA |\t4.00 4.00 4.00 4.00\t|\t4.00 4.00 4.00 4.00\t|\n",
      "\t\t | TH |\t0x08 0x08 0x08 0x08\t|\t0x08 0x08 0x08 0x08\t|\n",
      "\t\t | PT |\t0010 0010 0010 0010\t|\t0010 0010 0010 0010\t|\n",
      "\t\t | B0 |\t0x14 0x14 0x14 0x13\t|\t0x16 0x18 0x12 0x19\t|\n",
      "\t\t | B1 |\t0x15 0x1A 0x13 0x1C\t|\t0x17 0x14 0x15 0x16\t|\n",
      "\t\t | B2 |\t0x0E 0x16 0x13 0x0F\t|\t0x0E 0x0E 0x12 0x17\t|\n",
      "\t\t | B3 |\t0x13 0x14 0x12 0x18\t|\t0x15 0x11 0x17 0x17\t|\n",
      "\t\t | B4 |\t0x14 0x12 0x11 0x14\t|\t0x15 0x0E 0x18 0x17\t|\n",
      "\t\t | B5 |\t0x15 0x1C 0x18 0x11\t|\t0x11 0x13 0x14 0x13\t|\n",
      "\t\t | B6 |\t0x14 0x18 0x14 0x11\t|\t0x16 0x16 0x15 0x14\t|\n",
      "\t\t | B7 |\t0x12 0x1C 0x10 0x15\t|\t0x0D 0x0F 0x18 0x15\t|\n"
     ]
    }
   ],
   "source": [
    "mdc_tree = pc.getConnectedMDCtree()\n",
    "conf = pc.generateDefaultConfiguration(mdc_tree)\n",
    "conf = {\"0x8001\": conf[\"0x8001\"], \"0x8009\": conf[\"0x8009\"] }\n",
    "# print(*conf.values(), sep=\"\\n\")\n",
    "pc.found_all_baselines(conf)\n",
    "print(*conf.values(),sep=\"\\n\")"
   ]
  },
  {
   "cell_type": "code",
   "execution_count": null,
   "id": "israeli-constant",
   "metadata": {},
   "outputs": [],
   "source": []
  }
 ],
 "metadata": {
  "kernelspec": {
   "display_name": "Python 3",
   "language": "python",
   "name": "python3"
  },
  "language_info": {
   "codemirror_mode": {
    "name": "ipython",
    "version": 3
   },
   "file_extension": ".py",
   "mimetype": "text/x-python",
   "name": "python",
   "nbconvert_exporter": "python",
   "pygments_lexer": "ipython3",
   "version": "3.6.9"
  }
 },
 "nbformat": 4,
 "nbformat_minor": 5
}
