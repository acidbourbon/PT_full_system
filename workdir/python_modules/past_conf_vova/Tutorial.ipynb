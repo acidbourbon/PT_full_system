{
 "cells": [
  {
   "cell_type": "markdown",
   "id": "fiscal-cedar",
   "metadata": {},
   "source": [
    "# Handling PASTTREC configurations"
   ]
  },
  {
   "cell_type": "markdown",
   "id": "israeli-minneapolis",
   "metadata": {},
   "source": [
    "## Import all required libs"
   ]
  },
  {
   "cell_type": "code",
   "execution_count": 1,
   "id": "rolled-watts",
   "metadata": {},
   "outputs": [
    {
     "name": "stdout",
     "output_type": "stream",
     "text": [
      "Welcome to JupyROOT 6.14/04\n"
     ]
    }
   ],
   "source": [
    "import sys  \n",
    "sys.path.insert(0, '../')\n",
    "\n",
    "import pasttrec_ctrl as pt\n",
    "import pasttrec_conf as pc\n",
    "board = \"0x1800\""
   ]
  },
  {
   "cell_type": "markdown",
   "id": "residential-communist",
   "metadata": {},
   "source": [
    "## Creating a new default configuration for all connected boards"
   ]
  },
  {
   "cell_type": "markdown",
   "id": "atmospheric-tracker",
   "metadata": {},
   "source": [
    "### Retrieving a list of all connected boards"
   ]
  },
  {
   "cell_type": "markdown",
   "id": "happy-rover",
   "metadata": {},
   "source": [
    "Next commands get a list of all connected to TRB OEPs and their data FPGA. \n",
    "> getConnectedMDCtree() - returns a dictionary, where each key correspond to OEP address, and value - to the same dictionary of its FPGAs"
   ]
  },
  {
   "cell_type": "code",
   "execution_count": 2,
   "id": "korean-formula",
   "metadata": {},
   "outputs": [
    {
     "name": "stdout",
     "output_type": "stream",
     "text": [
      "('0x8008', {'0x812': {}, '0x813': {}})\n",
      "('0x8009', {'0x1814': {}, '0x1815': {}})\n",
      "('0x8001', {'0x1800': {}})\n",
      "('0x8011', {'0x1818': {}, '0x1819': {}})\n",
      "('0x8012', {'0x1820': {}, '0x1821': {}})\n",
      "('0x8010', {'0x1816': {}, '0x1817': {}})\n",
      "('0x8007', {'0x1810': {}, '0x1811': {}})\n",
      "('0x8006', {'0x1809': {}, '0x1808': {}})\n",
      "('0x8002', {'0x1802': {}, '0x1803': {}})\n",
      "('0x8005', {'0x806': {}, '0x807': {}})\n"
     ]
    }
   ],
   "source": [
    "mdc_tree = pc.getConnectedMDCtree()\n",
    "print(*mdc_tree.items(),sep=\"\\n\")"
   ]
  },
  {
   "cell_type": "markdown",
   "id": "vulnerable-accordance",
   "metadata": {},
   "source": [
    "### Create configuration structure based on retrieved tree"
   ]
  },
  {
   "cell_type": "markdown",
   "id": "uniform-nudist",
   "metadata": {},
   "source": [
    "What does configuration mean?\n",
    "\n",
    "It's a dictionary of OEP address - MDCTDC_OEP object pairs, that allow easy handling of all settings."
   ]
  },
  {
   "cell_type": "code",
   "execution_count": 3,
   "id": "industrial-brook",
   "metadata": {},
   "outputs": [
    {
     "name": "stdout",
     "output_type": "stream",
     "text": [
      "OEP \t |    |\t        FPGA1       |\t        FPGA2       |\t        FPGA3       \n",
      "0x8008\t | -- |\t\t\t0x0812\t\t|\t\t\t0x0813\t\t|\n",
      "\t\t | CH |\tPT1  PT2  PT3  PT4  |\tPT1  PT2  PT3  PT4  |\tPT1  PT2  PT3  PT4  \n",
      "\t\t | GA |\t4.00 4.00 4.00 4.00\t|\t4.00 4.00 4.00 4.00\t|\n",
      "\t\t | TH |\t0x08 0x08 0x08 0x08\t|\t0x08 0x08 0x08 0x08\t|\n",
      "\t\t | PT |\t0010 0010 0010 0010\t|\t0010 0010 0010 0010\t|\n",
      "\t\t | B0 |\t0x0F 0x0F 0x0F 0x0F\t|\t0x0F 0x0F 0x0F 0x0F\t|\n",
      "\t\t | B1 |\t0x0F 0x0F 0x0F 0x0F\t|\t0x0F 0x0F 0x0F 0x0F\t|\n",
      "\t\t | B2 |\t0x0F 0x0F 0x0F 0x0F\t|\t0x0F 0x0F 0x0F 0x0F\t|\n",
      "\t\t | B3 |\t0x0F 0x0F 0x0F 0x0F\t|\t0x0F 0x0F 0x0F 0x0F\t|\n",
      "\t\t | B4 |\t0x0F 0x0F 0x0F 0x0F\t|\t0x0F 0x0F 0x0F 0x0F\t|\n",
      "\t\t | B5 |\t0x0F 0x0F 0x0F 0x0F\t|\t0x0F 0x0F 0x0F 0x0F\t|\n",
      "\t\t | B6 |\t0x0F 0x0F 0x0F 0x0F\t|\t0x0F 0x0F 0x0F 0x0F\t|\n",
      "\t\t | B7 |\t0x0F 0x0F 0x0F 0x0F\t|\t0x0F 0x0F 0x0F 0x0F\t|\n",
      "OEP \t |    |\t        FPGA1       |\t        FPGA2       |\t        FPGA3       \n",
      "0x8009\t | -- |\t\t\t0x1814\t\t|\t\t\t0x1815\t\t|\n",
      "\t\t | CH |\tPT1  PT2  PT3  PT4  |\tPT1  PT2  PT3  PT4  |\tPT1  PT2  PT3  PT4  \n",
      "\t\t | GA |\t4.00 4.00 4.00 4.00\t|\t4.00 4.00 4.00 4.00\t|\n",
      "\t\t | TH |\t0x08 0x08 0x08 0x08\t|\t0x08 0x08 0x08 0x08\t|\n",
      "\t\t | PT |\t0010 0010 0010 0010\t|\t0010 0010 0010 0010\t|\n",
      "\t\t | B0 |\t0x0F 0x0F 0x0F 0x0F\t|\t0x0F 0x0F 0x0F 0x0F\t|\n",
      "\t\t | B1 |\t0x0F 0x0F 0x0F 0x0F\t|\t0x0F 0x0F 0x0F 0x0F\t|\n",
      "\t\t | B2 |\t0x0F 0x0F 0x0F 0x0F\t|\t0x0F 0x0F 0x0F 0x0F\t|\n",
      "\t\t | B3 |\t0x0F 0x0F 0x0F 0x0F\t|\t0x0F 0x0F 0x0F 0x0F\t|\n",
      "\t\t | B4 |\t0x0F 0x0F 0x0F 0x0F\t|\t0x0F 0x0F 0x0F 0x0F\t|\n",
      "\t\t | B5 |\t0x0F 0x0F 0x0F 0x0F\t|\t0x0F 0x0F 0x0F 0x0F\t|\n",
      "\t\t | B6 |\t0x0F 0x0F 0x0F 0x0F\t|\t0x0F 0x0F 0x0F 0x0F\t|\n",
      "\t\t | B7 |\t0x0F 0x0F 0x0F 0x0F\t|\t0x0F 0x0F 0x0F 0x0F\t|\n",
      "OEP \t |    |\t        FPGA1       |\t        FPGA2       |\t        FPGA3       \n",
      "0x8001\t | -- |\t\t\t0x1800\t\t|\n",
      "\t\t | CH |\tPT1  PT2  PT3  PT4  |\tPT1  PT2  PT3  PT4  |\tPT1  PT2  PT3  PT4  \n",
      "\t\t | GA |\t4.00 4.00 4.00 4.00\t|\n",
      "\t\t | TH |\t0x08 0x08 0x08 0x08\t|\n",
      "\t\t | PT |\t0010 0010 0010 0010\t|\n",
      "\t\t | B0 |\t0x0F 0x0F 0x0F 0x0F\t|\n",
      "\t\t | B1 |\t0x0F 0x0F 0x0F 0x0F\t|\n",
      "\t\t | B2 |\t0x0F 0x0F 0x0F 0x0F\t|\n",
      "\t\t | B3 |\t0x0F 0x0F 0x0F 0x0F\t|\n",
      "\t\t | B4 |\t0x0F 0x0F 0x0F 0x0F\t|\n",
      "\t\t | B5 |\t0x0F 0x0F 0x0F 0x0F\t|\n",
      "\t\t | B6 |\t0x0F 0x0F 0x0F 0x0F\t|\n",
      "\t\t | B7 |\t0x0F 0x0F 0x0F 0x0F\t|\n",
      "OEP \t |    |\t        FPGA1       |\t        FPGA2       |\t        FPGA3       \n",
      "0x8011\t | -- |\t\t\t0x1818\t\t|\t\t\t0x1819\t\t|\n",
      "\t\t | CH |\tPT1  PT2  PT3  PT4  |\tPT1  PT2  PT3  PT4  |\tPT1  PT2  PT3  PT4  \n",
      "\t\t | GA |\t4.00 4.00 4.00 4.00\t|\t4.00 4.00 4.00 4.00\t|\n",
      "\t\t | TH |\t0x08 0x08 0x08 0x08\t|\t0x08 0x08 0x08 0x08\t|\n",
      "\t\t | PT |\t0010 0010 0010 0010\t|\t0010 0010 0010 0010\t|\n",
      "\t\t | B0 |\t0x0F 0x0F 0x0F 0x0F\t|\t0x0F 0x0F 0x0F 0x0F\t|\n",
      "\t\t | B1 |\t0x0F 0x0F 0x0F 0x0F\t|\t0x0F 0x0F 0x0F 0x0F\t|\n",
      "\t\t | B2 |\t0x0F 0x0F 0x0F 0x0F\t|\t0x0F 0x0F 0x0F 0x0F\t|\n",
      "\t\t | B3 |\t0x0F 0x0F 0x0F 0x0F\t|\t0x0F 0x0F 0x0F 0x0F\t|\n",
      "\t\t | B4 |\t0x0F 0x0F 0x0F 0x0F\t|\t0x0F 0x0F 0x0F 0x0F\t|\n",
      "\t\t | B5 |\t0x0F 0x0F 0x0F 0x0F\t|\t0x0F 0x0F 0x0F 0x0F\t|\n",
      "\t\t | B6 |\t0x0F 0x0F 0x0F 0x0F\t|\t0x0F 0x0F 0x0F 0x0F\t|\n",
      "\t\t | B7 |\t0x0F 0x0F 0x0F 0x0F\t|\t0x0F 0x0F 0x0F 0x0F\t|\n",
      "OEP \t |    |\t        FPGA1       |\t        FPGA2       |\t        FPGA3       \n",
      "0x8012\t | -- |\t\t\t0x1820\t\t|\t\t\t0x1821\t\t|\n",
      "\t\t | CH |\tPT1  PT2  PT3  PT4  |\tPT1  PT2  PT3  PT4  |\tPT1  PT2  PT3  PT4  \n",
      "\t\t | GA |\t4.00 4.00 4.00 4.00\t|\t4.00 4.00 4.00 4.00\t|\n",
      "\t\t | TH |\t0x08 0x08 0x08 0x08\t|\t0x08 0x08 0x08 0x08\t|\n",
      "\t\t | PT |\t0010 0010 0010 0010\t|\t0010 0010 0010 0010\t|\n",
      "\t\t | B0 |\t0x0F 0x0F 0x0F 0x0F\t|\t0x0F 0x0F 0x0F 0x0F\t|\n",
      "\t\t | B1 |\t0x0F 0x0F 0x0F 0x0F\t|\t0x0F 0x0F 0x0F 0x0F\t|\n",
      "\t\t | B2 |\t0x0F 0x0F 0x0F 0x0F\t|\t0x0F 0x0F 0x0F 0x0F\t|\n",
      "\t\t | B3 |\t0x0F 0x0F 0x0F 0x0F\t|\t0x0F 0x0F 0x0F 0x0F\t|\n",
      "\t\t | B4 |\t0x0F 0x0F 0x0F 0x0F\t|\t0x0F 0x0F 0x0F 0x0F\t|\n",
      "\t\t | B5 |\t0x0F 0x0F 0x0F 0x0F\t|\t0x0F 0x0F 0x0F 0x0F\t|\n",
      "\t\t | B6 |\t0x0F 0x0F 0x0F 0x0F\t|\t0x0F 0x0F 0x0F 0x0F\t|\n",
      "\t\t | B7 |\t0x0F 0x0F 0x0F 0x0F\t|\t0x0F 0x0F 0x0F 0x0F\t|\n",
      "OEP \t |    |\t        FPGA1       |\t        FPGA2       |\t        FPGA3       \n",
      "0x8010\t | -- |\t\t\t0x1816\t\t|\t\t\t0x1817\t\t|\n",
      "\t\t | CH |\tPT1  PT2  PT3  PT4  |\tPT1  PT2  PT3  PT4  |\tPT1  PT2  PT3  PT4  \n",
      "\t\t | GA |\t4.00 4.00 4.00 4.00\t|\t4.00 4.00 4.00 4.00\t|\n",
      "\t\t | TH |\t0x08 0x08 0x08 0x08\t|\t0x08 0x08 0x08 0x08\t|\n",
      "\t\t | PT |\t0010 0010 0010 0010\t|\t0010 0010 0010 0010\t|\n",
      "\t\t | B0 |\t0x0F 0x0F 0x0F 0x0F\t|\t0x0F 0x0F 0x0F 0x0F\t|\n",
      "\t\t | B1 |\t0x0F 0x0F 0x0F 0x0F\t|\t0x0F 0x0F 0x0F 0x0F\t|\n",
      "\t\t | B2 |\t0x0F 0x0F 0x0F 0x0F\t|\t0x0F 0x0F 0x0F 0x0F\t|\n",
      "\t\t | B3 |\t0x0F 0x0F 0x0F 0x0F\t|\t0x0F 0x0F 0x0F 0x0F\t|\n",
      "\t\t | B4 |\t0x0F 0x0F 0x0F 0x0F\t|\t0x0F 0x0F 0x0F 0x0F\t|\n",
      "\t\t | B5 |\t0x0F 0x0F 0x0F 0x0F\t|\t0x0F 0x0F 0x0F 0x0F\t|\n",
      "\t\t | B6 |\t0x0F 0x0F 0x0F 0x0F\t|\t0x0F 0x0F 0x0F 0x0F\t|\n",
      "\t\t | B7 |\t0x0F 0x0F 0x0F 0x0F\t|\t0x0F 0x0F 0x0F 0x0F\t|\n",
      "OEP \t |    |\t        FPGA1       |\t        FPGA2       |\t        FPGA3       \n",
      "0x8007\t | -- |\t\t\t0x1810\t\t|\t\t\t0x1811\t\t|\n",
      "\t\t | CH |\tPT1  PT2  PT3  PT4  |\tPT1  PT2  PT3  PT4  |\tPT1  PT2  PT3  PT4  \n",
      "\t\t | GA |\t4.00 4.00 4.00 4.00\t|\t4.00 4.00 4.00 4.00\t|\n",
      "\t\t | TH |\t0x08 0x08 0x08 0x08\t|\t0x08 0x08 0x08 0x08\t|\n",
      "\t\t | PT |\t0010 0010 0010 0010\t|\t0010 0010 0010 0010\t|\n",
      "\t\t | B0 |\t0x0F 0x0F 0x0F 0x0F\t|\t0x0F 0x0F 0x0F 0x0F\t|\n",
      "\t\t | B1 |\t0x0F 0x0F 0x0F 0x0F\t|\t0x0F 0x0F 0x0F 0x0F\t|\n",
      "\t\t | B2 |\t0x0F 0x0F 0x0F 0x0F\t|\t0x0F 0x0F 0x0F 0x0F\t|\n",
      "\t\t | B3 |\t0x0F 0x0F 0x0F 0x0F\t|\t0x0F 0x0F 0x0F 0x0F\t|\n",
      "\t\t | B4 |\t0x0F 0x0F 0x0F 0x0F\t|\t0x0F 0x0F 0x0F 0x0F\t|\n",
      "\t\t | B5 |\t0x0F 0x0F 0x0F 0x0F\t|\t0x0F 0x0F 0x0F 0x0F\t|\n",
      "\t\t | B6 |\t0x0F 0x0F 0x0F 0x0F\t|\t0x0F 0x0F 0x0F 0x0F\t|\n",
      "\t\t | B7 |\t0x0F 0x0F 0x0F 0x0F\t|\t0x0F 0x0F 0x0F 0x0F\t|\n",
      "OEP \t |    |\t        FPGA1       |\t        FPGA2       |\t        FPGA3       \n",
      "0x8006\t | -- |\t\t\t0x1809\t\t|\t\t\t0x1808\t\t|\n",
      "\t\t | CH |\tPT1  PT2  PT3  PT4  |\tPT1  PT2  PT3  PT4  |\tPT1  PT2  PT3  PT4  \n",
      "\t\t | GA |\t4.00 4.00 4.00 4.00\t|\t4.00 4.00 4.00 4.00\t|\n",
      "\t\t | TH |\t0x08 0x08 0x08 0x08\t|\t0x08 0x08 0x08 0x08\t|\n",
      "\t\t | PT |\t0010 0010 0010 0010\t|\t0010 0010 0010 0010\t|\n",
      "\t\t | B0 |\t0x0F 0x0F 0x0F 0x0F\t|\t0x0F 0x0F 0x0F 0x0F\t|\n",
      "\t\t | B1 |\t0x0F 0x0F 0x0F 0x0F\t|\t0x0F 0x0F 0x0F 0x0F\t|\n",
      "\t\t | B2 |\t0x0F 0x0F 0x0F 0x0F\t|\t0x0F 0x0F 0x0F 0x0F\t|\n",
      "\t\t | B3 |\t0x0F 0x0F 0x0F 0x0F\t|\t0x0F 0x0F 0x0F 0x0F\t|\n",
      "\t\t | B4 |\t0x0F 0x0F 0x0F 0x0F\t|\t0x0F 0x0F 0x0F 0x0F\t|\n",
      "\t\t | B5 |\t0x0F 0x0F 0x0F 0x0F\t|\t0x0F 0x0F 0x0F 0x0F\t|\n",
      "\t\t | B6 |\t0x0F 0x0F 0x0F 0x0F\t|\t0x0F 0x0F 0x0F 0x0F\t|\n",
      "\t\t | B7 |\t0x0F 0x0F 0x0F 0x0F\t|\t0x0F 0x0F 0x0F 0x0F\t|\n",
      "OEP \t |    |\t        FPGA1       |\t        FPGA2       |\t        FPGA3       \n",
      "0x8002\t | -- |\t\t\t0x1802\t\t|\t\t\t0x1803\t\t|\n",
      "\t\t | CH |\tPT1  PT2  PT3  PT4  |\tPT1  PT2  PT3  PT4  |\tPT1  PT2  PT3  PT4  \n",
      "\t\t | GA |\t4.00 4.00 4.00 4.00\t|\t4.00 4.00 4.00 4.00\t|\n",
      "\t\t | TH |\t0x08 0x08 0x08 0x08\t|\t0x08 0x08 0x08 0x08\t|\n",
      "\t\t | PT |\t0010 0010 0010 0010\t|\t0010 0010 0010 0010\t|\n",
      "\t\t | B0 |\t0x0F 0x0F 0x0F 0x0F\t|\t0x0F 0x0F 0x0F 0x0F\t|\n",
      "\t\t | B1 |\t0x0F 0x0F 0x0F 0x0F\t|\t0x0F 0x0F 0x0F 0x0F\t|\n",
      "\t\t | B2 |\t0x0F 0x0F 0x0F 0x0F\t|\t0x0F 0x0F 0x0F 0x0F\t|\n",
      "\t\t | B3 |\t0x0F 0x0F 0x0F 0x0F\t|\t0x0F 0x0F 0x0F 0x0F\t|\n",
      "\t\t | B4 |\t0x0F 0x0F 0x0F 0x0F\t|\t0x0F 0x0F 0x0F 0x0F\t|\n",
      "\t\t | B5 |\t0x0F 0x0F 0x0F 0x0F\t|\t0x0F 0x0F 0x0F 0x0F\t|\n",
      "\t\t | B6 |\t0x0F 0x0F 0x0F 0x0F\t|\t0x0F 0x0F 0x0F 0x0F\t|\n",
      "\t\t | B7 |\t0x0F 0x0F 0x0F 0x0F\t|\t0x0F 0x0F 0x0F 0x0F\t|\n",
      "OEP \t |    |\t        FPGA1       |\t        FPGA2       |\t        FPGA3       \n",
      "0x8005\t | -- |\t\t\t0x0806\t\t|\t\t\t0x0807\t\t|\n",
      "\t\t | CH |\tPT1  PT2  PT3  PT4  |\tPT1  PT2  PT3  PT4  |\tPT1  PT2  PT3  PT4  \n",
      "\t\t | GA |\t4.00 4.00 4.00 4.00\t|\t4.00 4.00 4.00 4.00\t|\n",
      "\t\t | TH |\t0x08 0x08 0x08 0x08\t|\t0x08 0x08 0x08 0x08\t|\n",
      "\t\t | PT |\t0010 0010 0010 0010\t|\t0010 0010 0010 0010\t|\n",
      "\t\t | B0 |\t0x0F 0x0F 0x0F 0x0F\t|\t0x0F 0x0F 0x0F 0x0F\t|\n",
      "\t\t | B1 |\t0x0F 0x0F 0x0F 0x0F\t|\t0x0F 0x0F 0x0F 0x0F\t|\n",
      "\t\t | B2 |\t0x0F 0x0F 0x0F 0x0F\t|\t0x0F 0x0F 0x0F 0x0F\t|\n",
      "\t\t | B3 |\t0x0F 0x0F 0x0F 0x0F\t|\t0x0F 0x0F 0x0F 0x0F\t|\n",
      "\t\t | B4 |\t0x0F 0x0F 0x0F 0x0F\t|\t0x0F 0x0F 0x0F 0x0F\t|\n",
      "\t\t | B5 |\t0x0F 0x0F 0x0F 0x0F\t|\t0x0F 0x0F 0x0F 0x0F\t|\n",
      "\t\t | B6 |\t0x0F 0x0F 0x0F 0x0F\t|\t0x0F 0x0F 0x0F 0x0F\t|\n",
      "\t\t | B7 |\t0x0F 0x0F 0x0F 0x0F\t|\t0x0F 0x0F 0x0F 0x0F\t|\n"
     ]
    }
   ],
   "source": [
    "conf = pc.generateDefaultConfiguration(mdc_tree)\n",
    "for oep in conf.values():\n",
    "    print(oep)"
   ]
  },
  {
   "cell_type": "markdown",
   "id": "capable-homework",
   "metadata": {},
   "source": [
    "## Navigation"
   ]
  },
  {
   "cell_type": "markdown",
   "id": "interracial-publicity",
   "metadata": {},
   "source": [
    "### Through OEPs\n",
    "\n",
    "To retrieve MDCTDC_OEP object for OEP with the given address, it's enough to just use this address as a key:"
   ]
  },
  {
   "cell_type": "code",
   "execution_count": 4,
   "id": "polyphonic-characteristic",
   "metadata": {
    "scrolled": true
   },
   "outputs": [
    {
     "name": "stdout",
     "output_type": "stream",
     "text": [
      "OEP \t |    |\t        FPGA1       |\t        FPGA2       |\t        FPGA3       \n",
      "0x8001\t | -- |\t\t\t0x1800\t\t|\n",
      "\t\t | CH |\tPT1  PT2  PT3  PT4  |\tPT1  PT2  PT3  PT4  |\tPT1  PT2  PT3  PT4  \n",
      "\t\t | GA |\t4.00 4.00 4.00 4.00\t|\n",
      "\t\t | TH |\t0x08 0x08 0x08 0x08\t|\n",
      "\t\t | PT |\t0010 0010 0010 0010\t|\n",
      "\t\t | B0 |\t0x0F 0x0F 0x0F 0x0F\t|\n",
      "\t\t | B1 |\t0x0F 0x0F 0x0F 0x0F\t|\n",
      "\t\t | B2 |\t0x0F 0x0F 0x0F 0x0F\t|\n",
      "\t\t | B3 |\t0x0F 0x0F 0x0F 0x0F\t|\n",
      "\t\t | B4 |\t0x0F 0x0F 0x0F 0x0F\t|\n",
      "\t\t | B5 |\t0x0F 0x0F 0x0F 0x0F\t|\n",
      "\t\t | B6 |\t0x0F 0x0F 0x0F 0x0F\t|\n",
      "\t\t | B7 |\t0x0F 0x0F 0x0F 0x0F\t|\n"
     ]
    }
   ],
   "source": [
    "print(conf[\"0x8001\"])"
   ]
  },
  {
   "cell_type": "markdown",
   "id": "complicated-chocolate",
   "metadata": {},
   "source": [
    "### Through FPGAs and PASTTREC\n",
    "\n",
    "The same key access is available for every FPGA"
   ]
  },
  {
   "cell_type": "code",
   "execution_count": 5,
   "id": "sufficient-sheffield",
   "metadata": {
    "scrolled": false
   },
   "outputs": [
    {
     "name": "stdout",
     "output_type": "stream",
     "text": [
      "FPGA 0x1800\n",
      "\tPASTTREC 0: gain: 4, pt: 10, thr: 8, baselines: [15, 15, 15, 15, 15, 15, 15, 15]\n",
      "\tPASTTREC 1: gain: 4, pt: 10, thr: 8, baselines: [15, 15, 15, 15, 15, 15, 15, 15]\n",
      "\tPASTTREC 2: gain: 4, pt: 10, thr: 8, baselines: [15, 15, 15, 15, 15, 15, 15, 15]\n",
      "\tPASTTREC 3: gain: 4, pt: 10, thr: 8, baselines: [15, 15, 15, 15, 15, 15, 15, 15]\n",
      "\n"
     ]
    }
   ],
   "source": [
    "print(conf[\"0x8001\"][board])"
   ]
  },
  {
   "cell_type": "markdown",
   "id": "complicated-fruit",
   "metadata": {},
   "source": [
    ".. and PASTTREC"
   ]
  },
  {
   "cell_type": "code",
   "execution_count": 6,
   "id": "apart-salmon",
   "metadata": {
    "scrolled": false
   },
   "outputs": [
    {
     "name": "stdout",
     "output_type": "stream",
     "text": [
      "gain: 4, pt: 10, thr: 8, baselines: [15, 15, 15, 15, 15, 15, 15, 15]\n"
     ]
    }
   ],
   "source": [
    "print(conf[\"0x8001\"][board][1])"
   ]
  },
  {
   "cell_type": "markdown",
   "id": "suspected-bangladesh",
   "metadata": {},
   "source": [
    "## Changing settings"
   ]
  },
  {
   "cell_type": "markdown",
   "id": "appropriate-spoke",
   "metadata": {},
   "source": [
    "### Manual mode\n",
    "\n",
    "To change any setting the corresponding setter should be used:"
   ]
  },
  {
   "cell_type": "code",
   "execution_count": 7,
   "id": "abstract-james",
   "metadata": {},
   "outputs": [
    {
     "name": "stdout",
     "output_type": "stream",
     "text": [
      "gain: 4, pt: 10, thr: 8, baselines: [15, 15, 15, 15, 15, 15, 15, 15]\n",
      "gain: 1, pt: 15, thr: 8, baselines: [15, 15, 15, 15, 15, 15, 15, 15]\n"
     ]
    }
   ],
   "source": [
    "print(conf[\"0x8001\"][board][1])\n",
    "conf[\"0x8001\"][board][1].setGain(1) \n",
    "conf[\"0x8001\"][board][1].setPt(15) \n",
    "print(conf[\"0x8001\"][board][1])"
   ]
  },
  {
   "cell_type": "markdown",
   "id": "invalid-junction",
   "metadata": {},
   "source": [
    "### Automatic baseline finder for specific TDC"
   ]
  },
  {
   "cell_type": "code",
   "execution_count": 8,
   "id": "built-charlotte",
   "metadata": {},
   "outputs": [
    {
     "name": "stdout",
     "output_type": "stream",
     "text": [
      "FPGA 0x1800\n",
      "\tPASTTREC 0: gain: 4, pt: 10, thr: 8, baselines: [21, 16, 16, 18, 18, 23, 16, 21]\n",
      "\tPASTTREC 1: gain: 1, pt: 15, thr: 8, baselines: [18, 18, 17, 16, 18, 14, 14, 22]\n",
      "\tPASTTREC 2: gain: 4, pt: 10, thr: 8, baselines: [20, 22, 21, 15, 15, 18, 19, 23]\n",
      "\tPASTTREC 3: gain: 4, pt: 10, thr: 8, baselines: [17, 20, 19, 14, 21, 23, 20, 23]\n",
      "\n"
     ]
    }
   ],
   "source": [
    "conf[\"0x8001\"][board].found_baseline(scanning_time = 0.2)\n",
    "print(conf[\"0x8001\"][board])"
   ]
  },
  {
   "cell_type": "markdown",
   "id": "friendly-peeing",
   "metadata": {},
   "source": [
    "## Save & load configurations"
   ]
  },
  {
   "cell_type": "markdown",
   "id": "detailed-metropolitan",
   "metadata": {},
   "source": [
    "To save configurations to file:"
   ]
  },
  {
   "cell_type": "code",
   "execution_count": 9,
   "id": "outside-pharmacology",
   "metadata": {},
   "outputs": [],
   "source": [
    "pc.writeConfigurationToFile(file=\"mytestconf.conf\", conf=conf)"
   ]
  },
  {
   "cell_type": "markdown",
   "id": "japanese-series",
   "metadata": {},
   "source": [
    "To load it from the file:"
   ]
  },
  {
   "cell_type": "code",
   "execution_count": 10,
   "id": "numeric-liberty",
   "metadata": {},
   "outputs": [
    {
     "name": "stdout",
     "output_type": "stream",
     "text": [
      "OEP \t |    |\t        FPGA1       |\t        FPGA2       |\t        FPGA3       \n",
      "0x8008\t | -- |\t\t\t0x0812\t\t|\t\t\t0x0813\t\t|\n",
      "\t\t | CH |\tPT1  PT2  PT3  PT4  |\tPT1  PT2  PT3  PT4  |\tPT1  PT2  PT3  PT4  \n",
      "\t\t | GA |\t4.00 4.00 4.00 4.00\t|\t4.00 4.00 4.00 4.00\t|\n",
      "\t\t | TH |\t0x08 0x08 0x08 0x08\t|\t0x08 0x08 0x08 0x08\t|\n",
      "\t\t | PT |\t0010 0010 0010 0010\t|\t0010 0010 0010 0010\t|\n",
      "\t\t | B0 |\t0x0F 0x0F 0x0F 0x0F\t|\t0x0F 0x0F 0x0F 0x0F\t|\n",
      "\t\t | B1 |\t0x0F 0x0F 0x0F 0x0F\t|\t0x0F 0x0F 0x0F 0x0F\t|\n",
      "\t\t | B2 |\t0x0F 0x0F 0x0F 0x0F\t|\t0x0F 0x0F 0x0F 0x0F\t|\n",
      "\t\t | B3 |\t0x0F 0x0F 0x0F 0x0F\t|\t0x0F 0x0F 0x0F 0x0F\t|\n",
      "\t\t | B4 |\t0x0F 0x0F 0x0F 0x0F\t|\t0x0F 0x0F 0x0F 0x0F\t|\n",
      "\t\t | B5 |\t0x0F 0x0F 0x0F 0x0F\t|\t0x0F 0x0F 0x0F 0x0F\t|\n",
      "\t\t | B6 |\t0x0F 0x0F 0x0F 0x0F\t|\t0x0F 0x0F 0x0F 0x0F\t|\n",
      "\t\t | B7 |\t0x0F 0x0F 0x0F 0x0F\t|\t0x0F 0x0F 0x0F 0x0F\t|\n",
      "OEP \t |    |\t        FPGA1       |\t        FPGA2       |\t        FPGA3       \n",
      "0x8009\t | -- |\t\t\t0x1814\t\t|\t\t\t0x1815\t\t|\n",
      "\t\t | CH |\tPT1  PT2  PT3  PT4  |\tPT1  PT2  PT3  PT4  |\tPT1  PT2  PT3  PT4  \n",
      "\t\t | GA |\t4.00 4.00 4.00 4.00\t|\t4.00 4.00 4.00 4.00\t|\n",
      "\t\t | TH |\t0x08 0x08 0x08 0x08\t|\t0x08 0x08 0x08 0x08\t|\n",
      "\t\t | PT |\t0010 0010 0010 0010\t|\t0010 0010 0010 0010\t|\n",
      "\t\t | B0 |\t0x0F 0x0F 0x0F 0x0F\t|\t0x0F 0x0F 0x0F 0x0F\t|\n",
      "\t\t | B1 |\t0x0F 0x0F 0x0F 0x0F\t|\t0x0F 0x0F 0x0F 0x0F\t|\n",
      "\t\t | B2 |\t0x0F 0x0F 0x0F 0x0F\t|\t0x0F 0x0F 0x0F 0x0F\t|\n",
      "\t\t | B3 |\t0x0F 0x0F 0x0F 0x0F\t|\t0x0F 0x0F 0x0F 0x0F\t|\n",
      "\t\t | B4 |\t0x0F 0x0F 0x0F 0x0F\t|\t0x0F 0x0F 0x0F 0x0F\t|\n",
      "\t\t | B5 |\t0x0F 0x0F 0x0F 0x0F\t|\t0x0F 0x0F 0x0F 0x0F\t|\n",
      "\t\t | B6 |\t0x0F 0x0F 0x0F 0x0F\t|\t0x0F 0x0F 0x0F 0x0F\t|\n",
      "\t\t | B7 |\t0x0F 0x0F 0x0F 0x0F\t|\t0x0F 0x0F 0x0F 0x0F\t|\n",
      "OEP \t |    |\t        FPGA1       |\t        FPGA2       |\t        FPGA3       \n",
      "0x8001\t | -- |\t\t\t0x1800\t\t|\n",
      "\t\t | CH |\tPT1  PT2  PT3  PT4  |\tPT1  PT2  PT3  PT4  |\tPT1  PT2  PT3  PT4  \n",
      "\t\t | GA |\t4.00 1.00 4.00 4.00\t|\n",
      "\t\t | TH |\t0x08 0x08 0x08 0x08\t|\n",
      "\t\t | PT |\t0010 0015 0010 0010\t|\n",
      "\t\t | B0 |\t0x15 0x12 0x14 0x11\t|\n",
      "\t\t | B1 |\t0x10 0x12 0x16 0x14\t|\n",
      "\t\t | B2 |\t0x10 0x11 0x15 0x13\t|\n",
      "\t\t | B3 |\t0x12 0x10 0x0F 0x0E\t|\n",
      "\t\t | B4 |\t0x12 0x12 0x0F 0x15\t|\n",
      "\t\t | B5 |\t0x17 0x0E 0x12 0x17\t|\n",
      "\t\t | B6 |\t0x10 0x0E 0x13 0x14\t|\n",
      "\t\t | B7 |\t0x15 0x16 0x17 0x17\t|\n",
      "OEP \t |    |\t        FPGA1       |\t        FPGA2       |\t        FPGA3       \n",
      "0x8011\t | -- |\t\t\t0x1819\t\t|\t\t\t0x1818\t\t|\n",
      "\t\t | CH |\tPT1  PT2  PT3  PT4  |\tPT1  PT2  PT3  PT4  |\tPT1  PT2  PT3  PT4  \n",
      "\t\t | GA |\t4.00 4.00 4.00 4.00\t|\t4.00 4.00 4.00 4.00\t|\n",
      "\t\t | TH |\t0x08 0x08 0x08 0x08\t|\t0x08 0x08 0x08 0x08\t|\n",
      "\t\t | PT |\t0010 0010 0010 0010\t|\t0010 0010 0010 0010\t|\n",
      "\t\t | B0 |\t0x0F 0x0F 0x0F 0x0F\t|\t0x0F 0x0F 0x0F 0x0F\t|\n",
      "\t\t | B1 |\t0x0F 0x0F 0x0F 0x0F\t|\t0x0F 0x0F 0x0F 0x0F\t|\n",
      "\t\t | B2 |\t0x0F 0x0F 0x0F 0x0F\t|\t0x0F 0x0F 0x0F 0x0F\t|\n",
      "\t\t | B3 |\t0x0F 0x0F 0x0F 0x0F\t|\t0x0F 0x0F 0x0F 0x0F\t|\n",
      "\t\t | B4 |\t0x0F 0x0F 0x0F 0x0F\t|\t0x0F 0x0F 0x0F 0x0F\t|\n",
      "\t\t | B5 |\t0x0F 0x0F 0x0F 0x0F\t|\t0x0F 0x0F 0x0F 0x0F\t|\n",
      "\t\t | B6 |\t0x0F 0x0F 0x0F 0x0F\t|\t0x0F 0x0F 0x0F 0x0F\t|\n",
      "\t\t | B7 |\t0x0F 0x0F 0x0F 0x0F\t|\t0x0F 0x0F 0x0F 0x0F\t|\n",
      "OEP \t |    |\t        FPGA1       |\t        FPGA2       |\t        FPGA3       \n",
      "0x8012\t | -- |\t\t\t0x1820\t\t|\t\t\t0x1821\t\t|\n",
      "\t\t | CH |\tPT1  PT2  PT3  PT4  |\tPT1  PT2  PT3  PT4  |\tPT1  PT2  PT3  PT4  \n",
      "\t\t | GA |\t4.00 4.00 4.00 4.00\t|\t4.00 4.00 4.00 4.00\t|\n",
      "\t\t | TH |\t0x08 0x08 0x08 0x08\t|\t0x08 0x08 0x08 0x08\t|\n",
      "\t\t | PT |\t0010 0010 0010 0010\t|\t0010 0010 0010 0010\t|\n",
      "\t\t | B0 |\t0x0F 0x0F 0x0F 0x0F\t|\t0x0F 0x0F 0x0F 0x0F\t|\n",
      "\t\t | B1 |\t0x0F 0x0F 0x0F 0x0F\t|\t0x0F 0x0F 0x0F 0x0F\t|\n",
      "\t\t | B2 |\t0x0F 0x0F 0x0F 0x0F\t|\t0x0F 0x0F 0x0F 0x0F\t|\n",
      "\t\t | B3 |\t0x0F 0x0F 0x0F 0x0F\t|\t0x0F 0x0F 0x0F 0x0F\t|\n",
      "\t\t | B4 |\t0x0F 0x0F 0x0F 0x0F\t|\t0x0F 0x0F 0x0F 0x0F\t|\n",
      "\t\t | B5 |\t0x0F 0x0F 0x0F 0x0F\t|\t0x0F 0x0F 0x0F 0x0F\t|\n",
      "\t\t | B6 |\t0x0F 0x0F 0x0F 0x0F\t|\t0x0F 0x0F 0x0F 0x0F\t|\n",
      "\t\t | B7 |\t0x0F 0x0F 0x0F 0x0F\t|\t0x0F 0x0F 0x0F 0x0F\t|\n",
      "OEP \t |    |\t        FPGA1       |\t        FPGA2       |\t        FPGA3       \n",
      "0x8010\t | -- |\t\t\t0x1816\t\t|\t\t\t0x1817\t\t|\n",
      "\t\t | CH |\tPT1  PT2  PT3  PT4  |\tPT1  PT2  PT3  PT4  |\tPT1  PT2  PT3  PT4  \n",
      "\t\t | GA |\t4.00 4.00 4.00 4.00\t|\t4.00 4.00 4.00 4.00\t|\n",
      "\t\t | TH |\t0x08 0x08 0x08 0x08\t|\t0x08 0x08 0x08 0x08\t|\n",
      "\t\t | PT |\t0010 0010 0010 0010\t|\t0010 0010 0010 0010\t|\n",
      "\t\t | B0 |\t0x0F 0x0F 0x0F 0x0F\t|\t0x0F 0x0F 0x0F 0x0F\t|\n",
      "\t\t | B1 |\t0x0F 0x0F 0x0F 0x0F\t|\t0x0F 0x0F 0x0F 0x0F\t|\n",
      "\t\t | B2 |\t0x0F 0x0F 0x0F 0x0F\t|\t0x0F 0x0F 0x0F 0x0F\t|\n",
      "\t\t | B3 |\t0x0F 0x0F 0x0F 0x0F\t|\t0x0F 0x0F 0x0F 0x0F\t|\n",
      "\t\t | B4 |\t0x0F 0x0F 0x0F 0x0F\t|\t0x0F 0x0F 0x0F 0x0F\t|\n",
      "\t\t | B5 |\t0x0F 0x0F 0x0F 0x0F\t|\t0x0F 0x0F 0x0F 0x0F\t|\n",
      "\t\t | B6 |\t0x0F 0x0F 0x0F 0x0F\t|\t0x0F 0x0F 0x0F 0x0F\t|\n",
      "\t\t | B7 |\t0x0F 0x0F 0x0F 0x0F\t|\t0x0F 0x0F 0x0F 0x0F\t|\n",
      "OEP \t |    |\t        FPGA1       |\t        FPGA2       |\t        FPGA3       \n",
      "0x8007\t | -- |\t\t\t0x1810\t\t|\t\t\t0x1811\t\t|\n",
      "\t\t | CH |\tPT1  PT2  PT3  PT4  |\tPT1  PT2  PT3  PT4  |\tPT1  PT2  PT3  PT4  \n",
      "\t\t | GA |\t4.00 4.00 4.00 4.00\t|\t4.00 4.00 4.00 4.00\t|\n",
      "\t\t | TH |\t0x08 0x08 0x08 0x08\t|\t0x08 0x08 0x08 0x08\t|\n",
      "\t\t | PT |\t0010 0010 0010 0010\t|\t0010 0010 0010 0010\t|\n",
      "\t\t | B0 |\t0x0F 0x0F 0x0F 0x0F\t|\t0x0F 0x0F 0x0F 0x0F\t|\n",
      "\t\t | B1 |\t0x0F 0x0F 0x0F 0x0F\t|\t0x0F 0x0F 0x0F 0x0F\t|\n",
      "\t\t | B2 |\t0x0F 0x0F 0x0F 0x0F\t|\t0x0F 0x0F 0x0F 0x0F\t|\n",
      "\t\t | B3 |\t0x0F 0x0F 0x0F 0x0F\t|\t0x0F 0x0F 0x0F 0x0F\t|\n",
      "\t\t | B4 |\t0x0F 0x0F 0x0F 0x0F\t|\t0x0F 0x0F 0x0F 0x0F\t|\n",
      "\t\t | B5 |\t0x0F 0x0F 0x0F 0x0F\t|\t0x0F 0x0F 0x0F 0x0F\t|\n",
      "\t\t | B6 |\t0x0F 0x0F 0x0F 0x0F\t|\t0x0F 0x0F 0x0F 0x0F\t|\n",
      "\t\t | B7 |\t0x0F 0x0F 0x0F 0x0F\t|\t0x0F 0x0F 0x0F 0x0F\t|\n",
      "OEP \t |    |\t        FPGA1       |\t        FPGA2       |\t        FPGA3       \n",
      "0x8006\t | -- |\t\t\t0x1808\t\t|\t\t\t0x1809\t\t|\n",
      "\t\t | CH |\tPT1  PT2  PT3  PT4  |\tPT1  PT2  PT3  PT4  |\tPT1  PT2  PT3  PT4  \n",
      "\t\t | GA |\t4.00 4.00 4.00 4.00\t|\t4.00 4.00 4.00 4.00\t|\n",
      "\t\t | TH |\t0x08 0x08 0x08 0x08\t|\t0x08 0x08 0x08 0x08\t|\n",
      "\t\t | PT |\t0010 0010 0010 0010\t|\t0010 0010 0010 0010\t|\n",
      "\t\t | B0 |\t0x0F 0x0F 0x0F 0x0F\t|\t0x0F 0x0F 0x0F 0x0F\t|\n",
      "\t\t | B1 |\t0x0F 0x0F 0x0F 0x0F\t|\t0x0F 0x0F 0x0F 0x0F\t|\n",
      "\t\t | B2 |\t0x0F 0x0F 0x0F 0x0F\t|\t0x0F 0x0F 0x0F 0x0F\t|\n",
      "\t\t | B3 |\t0x0F 0x0F 0x0F 0x0F\t|\t0x0F 0x0F 0x0F 0x0F\t|\n",
      "\t\t | B4 |\t0x0F 0x0F 0x0F 0x0F\t|\t0x0F 0x0F 0x0F 0x0F\t|\n",
      "\t\t | B5 |\t0x0F 0x0F 0x0F 0x0F\t|\t0x0F 0x0F 0x0F 0x0F\t|\n",
      "\t\t | B6 |\t0x0F 0x0F 0x0F 0x0F\t|\t0x0F 0x0F 0x0F 0x0F\t|\n",
      "\t\t | B7 |\t0x0F 0x0F 0x0F 0x0F\t|\t0x0F 0x0F 0x0F 0x0F\t|\n",
      "OEP \t |    |\t        FPGA1       |\t        FPGA2       |\t        FPGA3       \n",
      "0x8002\t | -- |\t\t\t0x1802\t\t|\t\t\t0x1803\t\t|\n",
      "\t\t | CH |\tPT1  PT2  PT3  PT4  |\tPT1  PT2  PT3  PT4  |\tPT1  PT2  PT3  PT4  \n",
      "\t\t | GA |\t4.00 4.00 4.00 4.00\t|\t4.00 4.00 4.00 4.00\t|\n",
      "\t\t | TH |\t0x08 0x08 0x08 0x08\t|\t0x08 0x08 0x08 0x08\t|\n",
      "\t\t | PT |\t0010 0010 0010 0010\t|\t0010 0010 0010 0010\t|\n",
      "\t\t | B0 |\t0x0F 0x0F 0x0F 0x0F\t|\t0x0F 0x0F 0x0F 0x0F\t|\n",
      "\t\t | B1 |\t0x0F 0x0F 0x0F 0x0F\t|\t0x0F 0x0F 0x0F 0x0F\t|\n",
      "\t\t | B2 |\t0x0F 0x0F 0x0F 0x0F\t|\t0x0F 0x0F 0x0F 0x0F\t|\n",
      "\t\t | B3 |\t0x0F 0x0F 0x0F 0x0F\t|\t0x0F 0x0F 0x0F 0x0F\t|\n",
      "\t\t | B4 |\t0x0F 0x0F 0x0F 0x0F\t|\t0x0F 0x0F 0x0F 0x0F\t|\n",
      "\t\t | B5 |\t0x0F 0x0F 0x0F 0x0F\t|\t0x0F 0x0F 0x0F 0x0F\t|\n",
      "\t\t | B6 |\t0x0F 0x0F 0x0F 0x0F\t|\t0x0F 0x0F 0x0F 0x0F\t|\n",
      "\t\t | B7 |\t0x0F 0x0F 0x0F 0x0F\t|\t0x0F 0x0F 0x0F 0x0F\t|\n",
      "OEP \t |    |\t        FPGA1       |\t        FPGA2       |\t        FPGA3       \n",
      "0x8005\t | -- |\t\t\t0x0806\t\t|\t\t\t0x0807\t\t|\n",
      "\t\t | CH |\tPT1  PT2  PT3  PT4  |\tPT1  PT2  PT3  PT4  |\tPT1  PT2  PT3  PT4  \n",
      "\t\t | GA |\t4.00 4.00 4.00 4.00\t|\t4.00 4.00 4.00 4.00\t|\n",
      "\t\t | TH |\t0x08 0x08 0x08 0x08\t|\t0x08 0x08 0x08 0x08\t|\n",
      "\t\t | PT |\t0010 0010 0010 0010\t|\t0010 0010 0010 0010\t|\n",
      "\t\t | B0 |\t0x0F 0x0F 0x0F 0x0F\t|\t0x0F 0x0F 0x0F 0x0F\t|\n",
      "\t\t | B1 |\t0x0F 0x0F 0x0F 0x0F\t|\t0x0F 0x0F 0x0F 0x0F\t|\n",
      "\t\t | B2 |\t0x0F 0x0F 0x0F 0x0F\t|\t0x0F 0x0F 0x0F 0x0F\t|\n",
      "\t\t | B3 |\t0x0F 0x0F 0x0F 0x0F\t|\t0x0F 0x0F 0x0F 0x0F\t|\n",
      "\t\t | B4 |\t0x0F 0x0F 0x0F 0x0F\t|\t0x0F 0x0F 0x0F 0x0F\t|\n",
      "\t\t | B5 |\t0x0F 0x0F 0x0F 0x0F\t|\t0x0F 0x0F 0x0F 0x0F\t|\n",
      "\t\t | B6 |\t0x0F 0x0F 0x0F 0x0F\t|\t0x0F 0x0F 0x0F 0x0F\t|\n",
      "\t\t | B7 |\t0x0F 0x0F 0x0F 0x0F\t|\t0x0F 0x0F 0x0F 0x0F\t|\n"
     ]
    }
   ],
   "source": [
    "conf2 = pc.readConfigurationFromFile(\"mytestconf.conf\")\n",
    "print(*conf2.values(), sep=\"\\n\")"
   ]
  },
  {
   "cell_type": "markdown",
   "id": "civic-train",
   "metadata": {},
   "source": [
    "## Upload configurations to FPGA flash (under testing)"
   ]
  },
  {
   "cell_type": "markdown",
   "id": "atomic-tomorrow",
   "metadata": {},
   "source": [
    "First of all, it's required to create an image structure of configuration on the file system. \n",
    "\n",
    "### Create an image in folder mytestimage"
   ]
  },
  {
   "cell_type": "code",
   "execution_count": 11,
   "id": "commercial-mumbai",
   "metadata": {},
   "outputs": [],
   "source": [
    "pc.createImage(conf=conf, path=\"mytestimage\")"
   ]
  },
  {
   "cell_type": "markdown",
   "id": "structured-messaging",
   "metadata": {},
   "source": [
    "This command creates the next file structure:\n",
    "* mytestimage\n",
    "    * 0x8001    - *oep*\n",
    "        * 0x1801.hex  - *fpga*\n",
    "        * 0x1800.hex\n",
    "    * 0x8002\n",
    "    * 0x8005\n",
    "    ...\n",
    "    \n",
    "And inside each hex file there is a simple list of SC commands:\n",
    "> 0xA0FF 0xFFFFFFFF <br>\n",
    "> 0xA010 0x00050010<br>\n",
    "> 0xA011 0x0005011E<br>\n",
    "> 0xA012 0x0005022A<br>\n",
    "> 0xA013 0x00050308<br>\n",
    "> 0xA014 0x00050D05<br>\n",
    "> ..."
   ]
  },
  {
   "cell_type": "markdown",
   "id": "cognitive-investor",
   "metadata": {},
   "source": [
    "### Upload image to FPGA  (under testing)"
   ]
  },
  {
   "cell_type": "code",
   "execution_count": 12,
   "id": "patent-shakespeare",
   "metadata": {},
   "outputs": [
    {
     "name": "stdout",
     "output_type": "stream",
     "text": [
      "Running:  ./flash_settings.pl -y 0x1800 /workdir/python_modules/past_conf_vova/mytestimage/0x8001/0x1800.hex\n",
      "Programming Endpoint(s) @ Address 0x1800\n",
      "Symbols:\n",
      "  E: Erasing\n",
      "  P: Programming\n",
      "  @: Success\n",
      "  .: Skipped\n",
      "\n",
      "Block: 0 1 2 3 4 5 6 7 8 9 A B C D E F\n",
      "0      . . . . . . . . . . . . . . . . \n",
      "1      . . . . . . . . . . . . . . . . \n",
      "2      . . . . . . . . . . . . . . . . \n",
      "3      @ . . . . . . . . . . . . . . . \n",
      "\n",
      "Success\n",
      "\n",
      "page 0/2 verified\n",
      "page 1/2 verified\n",
      "page 2/2 verified\n"
     ]
    },
    {
     "name": "stderr",
     "output_type": "stream",
     "text": [
      "Found 1 Endpoint(s) of group MDC TDC\n",
      "Start programming ImageFile '/tmp/tmp.hywcqGcRsu'\n"
     ]
    }
   ],
   "source": [
    "pc.uploadImage(path=\"mytestimage\", flash_settings=\"./flash_settings.pl -y\", TDCs=[\"0x1800\"])"
   ]
  },
  {
   "cell_type": "markdown",
   "id": "central-overview",
   "metadata": {},
   "source": [
    "# PASTTREC handling"
   ]
  },
  {
   "cell_type": "markdown",
   "id": "thousand-generation",
   "metadata": {},
   "source": [
    "## Slow control reset\n",
    "To reset only PASTTREC SPI module without interruption anything else:"
   ]
  },
  {
   "cell_type": "code",
   "execution_count": 13,
   "id": "chief-diesel",
   "metadata": {},
   "outputs": [],
   "source": [
    "pt.reset_board(board)"
   ]
  },
  {
   "cell_type": "markdown",
   "id": "dressed-finance",
   "metadata": {},
   "source": [
    "## Set threshold for specific PASTTREC\n",
    "Pasttrec IDs: [0 1 2 3]"
   ]
  },
  {
   "cell_type": "code",
   "execution_count": 14,
   "id": "medical-treasury",
   "metadata": {},
   "outputs": [],
   "source": [
    "pt.set_threshold_for_pasttrec(TDC=board, PAST=1, THR=0x00)"
   ]
  },
  {
   "cell_type": "markdown",
   "id": "annoying-longer",
   "metadata": {},
   "source": [
    "## Set threshold for board\n",
    "Parameter conn is not used - only for compatibility with old tools. Can be anything"
   ]
  },
  {
   "cell_type": "code",
   "execution_count": 15,
   "id": "appreciated-prophet",
   "metadata": {},
   "outputs": [],
   "source": [
    "pt.set_threshold_for_board(TDC=board,conn=-1,thresh=0)"
   ]
  },
  {
   "cell_type": "markdown",
   "id": "conditional-chain",
   "metadata": {},
   "source": [
    "## A baseline for the specific channel\n",
    "Baseline range: -15:15"
   ]
  },
  {
   "cell_type": "code",
   "execution_count": 16,
   "id": "removable-field",
   "metadata": {},
   "outputs": [],
   "source": [
    "pt.set_baseline(board,9,-13)"
   ]
  },
  {
   "cell_type": "markdown",
   "id": "palestinian-humidity",
   "metadata": {},
   "source": [
    "## A baseline for the range of channels"
   ]
  },
  {
   "cell_type": "code",
   "execution_count": 17,
   "id": "duplicate-point",
   "metadata": {},
   "outputs": [],
   "source": [
    "pt.set_all_baselines(TDC=board, channels=[1,2,3,5],values=[-15,0,15,13])"
   ]
  },
  {
   "cell_type": "markdown",
   "id": "modern-truth",
   "metadata": {},
   "source": [
    "## Find all baselines for a board with noise method"
   ]
  },
  {
   "cell_type": "code",
   "execution_count": 18,
   "id": "civilian-swaziland",
   "metadata": {},
   "outputs": [
    {
     "data": {
      "text/plain": [
       "{0: {'mean': 6.973860611013271, 'rms': 1.17748472726834},\n",
       " 1: {'mean': 1.4467748962056677, 'rms': 0.8779164679387104},\n",
       " 2: {'mean': 1.3443793040790875, 'rms': 0.8748416517264402},\n",
       " 3: {'mean': 2.5455196171744774, 'rms': 1.0033158077769362},\n",
       " 4: {'mean': 3.4961917069204764, 'rms': 1.099122298930615},\n",
       " 5: {'mean': 8.022310669425474, 'rms': 0.6260988383191868},\n",
       " 6: {'mean': 0.7632506997943083, 'rms': 0.9136375702917273},\n",
       " 7: {'mean': 7.097107909453774, 'rms': 1.1814933218808241},\n",
       " 8: {'mean': 2.8339979013641132, 'rms': 0.37461203155047534},\n",
       " 9: {'mean': 3.2531674208144796, 'rms': 0.43999836900885425},\n",
       " 10: {'mean': 2.0535938152946094, 'rms': 0.2275219374152952},\n",
       " 11: {'mean': 1.000909958497015, 'rms': 0.06810096107501958},\n",
       " 12: {'mean': 2.66991991991992, 'rms': 0.47024166214235846},\n",
       " 13: {'mean': -1.2155619596541787, 'rms': 0.4112116258135571},\n",
       " 14: {'mean': -0.9998819989379905, 'rms': 0.01536190742611349},\n",
       " 15: {'mean': 6.9839319470699435, 'rms': 0.125737307928449},\n",
       " 16: {'mean': 5.44038279859353, 'rms': 0.8569935050636749},\n",
       " 17: {'mean': 7.251384552771974, 'rms': 0.8831551300057428},\n",
       " 18: {'mean': 6.692623583683515, 'rms': 1.0309499340837558},\n",
       " 19: {'mean': 0.33169367953848916, 'rms': 0.7407639166225817},\n",
       " 20: {'mean': -0.31505694302879367, 'rms': 0.7480026390965544},\n",
       " 21: {'mean': 3.442974300697542, 'rms': 0.928045812796728},\n",
       " 22: {'mean': 4.211758357685919, 'rms': 1.0981394244791227},\n",
       " 23: {'mean': 7.743581456718569, 'rms': 0.8545789216227939},\n",
       " 24: {'mean': 1.5771657589358323, 'rms': 1.109496757617881},\n",
       " 25: {'mean': 5.291270904458116, 'rms': 1.3537363679774375},\n",
       " 26: {'mean': 3.5833382918557, 'rms': 1.2034045284196826},\n",
       " 27: {'mean': -0.6389219971662796, 'rms': 0.9466554635278667},\n",
       " 28: {'mean': 6.947501986658856, 'rms': 1.2433047518781},\n",
       " 29: {'mean': 7.960685942662025, 'rms': 0.6051456498184082},\n",
       " 30: {'mean': 6.019152922422079, 'rms': 1.3748823216822947},\n",
       " 31: {'mean': 8.044650109869385, 'rms': 0.39977364893836537}}"
      ]
     },
     "execution_count": 18,
     "metadata": {},
     "output_type": "execute_result"
    },
    {
     "data": {
      "image/png": "[encoded data removed]",
      "text/plain": [
       "<matplotlib.figure.Figure at 0x7f61e3b75198>"
      ]
     },
     "metadata": {
      "needs_background": "light"
     },
     "output_type": "display_data"
    }
   ],
   "source": [
    "pt.found_baselines_for_board(board=board,scaning_time=0.2,channels=range(32), plot=True)"
   ]
  },
  {
   "cell_type": "code",
   "execution_count": null,
   "id": "exceptional-arizona",
   "metadata": {},
   "outputs": [],
   "source": []
  },
  {
   "cell_type": "code",
   "execution_count": null,
   "id": "economic-republican",
   "metadata": {},
   "outputs": [],
   "source": []
  }
 ],
 "metadata": {
  "kernelspec": {
   "display_name": "Python 3",
   "language": "python",
   "name": "python3"
  },
  "language_info": {
   "codemirror_mode": {
    "name": "ipython",
    "version": 3
   },
   "file_extension": ".py",
   "mimetype": "text/x-python",
   "name": "python",
   "nbconvert_exporter": "python",
   "pygments_lexer": "ipython3",
   "version": "3.6.9"
  }
 },
 "nbformat": 4,
 "nbformat_minor": 5
}
