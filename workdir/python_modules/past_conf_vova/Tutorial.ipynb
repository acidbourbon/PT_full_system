{
 "cells": [
  {
   "cell_type": "markdown",
   "id": "fiscal-cedar",
   "metadata": {},
   "source": [
    "# Handling PASTTREC configurations"
   ]
  },
  {
   "cell_type": "markdown",
   "id": "israeli-minneapolis",
   "metadata": {},
   "source": [
    "## Import all required libs"
   ]
  },
  {
   "cell_type": "code",
   "execution_count": 1,
   "id": "rolled-watts",
   "metadata": {},
   "outputs": [
    {
     "name": "stdout",
     "output_type": "stream",
     "text": [
      "Welcome to JupyROOT 6.14/04\n"
     ]
    }
   ],
   "source": [
    "import sys  \n",
    "sys.path.insert(0, '../')\n",
    "\n",
    "import pasttrec_ctrl as pt\n",
    "import pasttrec_conf as pc\n",
    "board = \"0x1800\""
   ]
  },
  {
   "cell_type": "markdown",
   "id": "residential-communist",
   "metadata": {},
   "source": [
    "## Creating a new default configuration for all connected boards"
   ]
  },
  {
   "cell_type": "markdown",
   "id": "atmospheric-tracker",
   "metadata": {},
   "source": [
    "### Retrieving a list of all connected boards"
   ]
  },
  {
   "cell_type": "markdown",
   "id": "happy-rover",
   "metadata": {},
   "source": [
    "Next commands get a list of all connected to TRB OEPs and their data FPGA. \n",
    "> getConnectedMDCtree() - returns a dictionary, where each key correspond to OEP address, and value - to the same dictionary of its FPGAs"
   ]
  },
  {
   "cell_type": "code",
   "execution_count": 2,
   "id": "korean-formula",
   "metadata": {},
   "outputs": [
    {
     "name": "stdout",
     "output_type": "stream",
     "text": [
      "('0x8008', {'0x1812': {}, '0x1813': {}})\n",
      "('0x8009', {'0x1814': {}, '0x1815': {}})\n",
      "('0x8001', {'0x1800': {}})\n",
      "('0x8011', {'0x1818': {}, '0x1819': {}})\n",
      "('0x8012', {'0x1820': {}, '0x1821': {}})\n",
      "('0x8010', {'0x1816': {}, '0x1817': {}})\n",
      "('0x8007', {'0x1810': {}, '0x1811': {}})\n",
      "('0x8006', {'0x1808': {}, '0x1809': {}})\n",
      "('0x8002', {'0x1802': {}, '0x1803': {}})\n",
      "('0x8005', {'0x1806': {}, '0x1807': {}})\n"
     ]
    }
   ],
   "source": [
    "mdc_tree = pc.getConnectedMDCtree()\n",
    "print(*mdc_tree.items(),sep=\"\\n\")"
   ]
  },
  {
   "cell_type": "markdown",
   "id": "vulnerable-accordance",
   "metadata": {},
   "source": [
    "### Create configuration structure based on retrieved tree"
   ]
  },
  {
   "cell_type": "markdown",
   "id": "uniform-nudist",
   "metadata": {},
   "source": [
    "What does configuration mean?\n",
    "\n",
    "It's a dictionary of OEP address - MDCTDC_OEP object pairs, that allow easy handling of all settings."
   ]
  },
  {
   "cell_type": "code",
   "execution_count": 3,
   "id": "industrial-brook",
   "metadata": {},
   "outputs": [
    {
     "name": "stdout",
     "output_type": "stream",
     "text": [
      "OEP \t |    |\t        FPGA1       |\t        FPGA2       |\t        FPGA3       \n",
      "0x8008\t | -- |\t\t\t0x1812\t\t|\t\t\t0x1813\t\t|\n",
      "\t\t | CH |\tPT1  PT2  PT3  PT4  |\tPT1  PT2  PT3  PT4  |\tPT1  PT2  PT3  PT4  \n",
      "\t\t | GA |\t4.00 4.00 4.00 4.00\t|\t4.00 4.00 4.00 4.00\t|\n",
      "\t\t | TH |\t0x08 0x08 0x08 0x08\t|\t0x08 0x08 0x08 0x08\t|\n",
      "\t\t | PT |\t0010 0010 0010 0010\t|\t0010 0010 0010 0010\t|\n",
      "\t\t | B0 |\t0x0F 0x0F 0x0F 0x0F\t|\t0x0F 0x0F 0x0F 0x0F\t|\n",
      "\t\t | B1 |\t0x0F 0x0F 0x0F 0x0F\t|\t0x0F 0x0F 0x0F 0x0F\t|\n",
      "\t\t | B2 |\t0x0F 0x0F 0x0F 0x0F\t|\t0x0F 0x0F 0x0F 0x0F\t|\n",
      "\t\t | B3 |\t0x0F 0x0F 0x0F 0x0F\t|\t0x0F 0x0F 0x0F 0x0F\t|\n",
      "\t\t | B4 |\t0x0F 0x0F 0x0F 0x0F\t|\t0x0F 0x0F 0x0F 0x0F\t|\n",
      "\t\t | B5 |\t0x0F 0x0F 0x0F 0x0F\t|\t0x0F 0x0F 0x0F 0x0F\t|\n",
      "\t\t | B6 |\t0x0F 0x0F 0x0F 0x0F\t|\t0x0F 0x0F 0x0F 0x0F\t|\n",
      "\t\t | B7 |\t0x0F 0x0F 0x0F 0x0F\t|\t0x0F 0x0F 0x0F 0x0F\t|\n",
      "OEP \t |    |\t        FPGA1       |\t        FPGA2       |\t        FPGA3       \n",
      "0x8009\t | -- |\t\t\t0x1814\t\t|\t\t\t0x1815\t\t|\n",
      "\t\t | CH |\tPT1  PT2  PT3  PT4  |\tPT1  PT2  PT3  PT4  |\tPT1  PT2  PT3  PT4  \n",
      "\t\t | GA |\t4.00 4.00 4.00 4.00\t|\t4.00 4.00 4.00 4.00\t|\n",
      "\t\t | TH |\t0x08 0x08 0x08 0x08\t|\t0x08 0x08 0x08 0x08\t|\n",
      "\t\t | PT |\t0010 0010 0010 0010\t|\t0010 0010 0010 0010\t|\n",
      "\t\t | B0 |\t0x0F 0x0F 0x0F 0x0F\t|\t0x0F 0x0F 0x0F 0x0F\t|\n",
      "\t\t | B1 |\t0x0F 0x0F 0x0F 0x0F\t|\t0x0F 0x0F 0x0F 0x0F\t|\n",
      "\t\t | B2 |\t0x0F 0x0F 0x0F 0x0F\t|\t0x0F 0x0F 0x0F 0x0F\t|\n",
      "\t\t | B3 |\t0x0F 0x0F 0x0F 0x0F\t|\t0x0F 0x0F 0x0F 0x0F\t|\n",
      "\t\t | B4 |\t0x0F 0x0F 0x0F 0x0F\t|\t0x0F 0x0F 0x0F 0x0F\t|\n",
      "\t\t | B5 |\t0x0F 0x0F 0x0F 0x0F\t|\t0x0F 0x0F 0x0F 0x0F\t|\n",
      "\t\t | B6 |\t0x0F 0x0F 0x0F 0x0F\t|\t0x0F 0x0F 0x0F 0x0F\t|\n",
      "\t\t | B7 |\t0x0F 0x0F 0x0F 0x0F\t|\t0x0F 0x0F 0x0F 0x0F\t|\n",
      "OEP \t |    |\t        FPGA1       |\t        FPGA2       |\t        FPGA3       \n",
      "0x8001\t | -- |\t\t\t0x1800\t\t|\n",
      "\t\t | CH |\tPT1  PT2  PT3  PT4  |\tPT1  PT2  PT3  PT4  |\tPT1  PT2  PT3  PT4  \n",
      "\t\t | GA |\t4.00 4.00 4.00 4.00\t|\n",
      "\t\t | TH |\t0x08 0x08 0x08 0x08\t|\n",
      "\t\t | PT |\t0010 0010 0010 0010\t|\n",
      "\t\t | B0 |\t0x0F 0x0F 0x0F 0x0F\t|\n",
      "\t\t | B1 |\t0x0F 0x0F 0x0F 0x0F\t|\n",
      "\t\t | B2 |\t0x0F 0x0F 0x0F 0x0F\t|\n",
      "\t\t | B3 |\t0x0F 0x0F 0x0F 0x0F\t|\n",
      "\t\t | B4 |\t0x0F 0x0F 0x0F 0x0F\t|\n",
      "\t\t | B5 |\t0x0F 0x0F 0x0F 0x0F\t|\n",
      "\t\t | B6 |\t0x0F 0x0F 0x0F 0x0F\t|\n",
      "\t\t | B7 |\t0x0F 0x0F 0x0F 0x0F\t|\n",
      "OEP \t |    |\t        FPGA1       |\t        FPGA2       |\t        FPGA3       \n",
      "0x8011\t | -- |\t\t\t0x1818\t\t|\t\t\t0x1819\t\t|\n",
      "\t\t | CH |\tPT1  PT2  PT3  PT4  |\tPT1  PT2  PT3  PT4  |\tPT1  PT2  PT3  PT4  \n",
      "\t\t | GA |\t4.00 4.00 4.00 4.00\t|\t4.00 4.00 4.00 4.00\t|\n",
      "\t\t | TH |\t0x08 0x08 0x08 0x08\t|\t0x08 0x08 0x08 0x08\t|\n",
      "\t\t | PT |\t0010 0010 0010 0010\t|\t0010 0010 0010 0010\t|\n",
      "\t\t | B0 |\t0x0F 0x0F 0x0F 0x0F\t|\t0x0F 0x0F 0x0F 0x0F\t|\n",
      "\t\t | B1 |\t0x0F 0x0F 0x0F 0x0F\t|\t0x0F 0x0F 0x0F 0x0F\t|\n",
      "\t\t | B2 |\t0x0F 0x0F 0x0F 0x0F\t|\t0x0F 0x0F 0x0F 0x0F\t|\n",
      "\t\t | B3 |\t0x0F 0x0F 0x0F 0x0F\t|\t0x0F 0x0F 0x0F 0x0F\t|\n",
      "\t\t | B4 |\t0x0F 0x0F 0x0F 0x0F\t|\t0x0F 0x0F 0x0F 0x0F\t|\n",
      "\t\t | B5 |\t0x0F 0x0F 0x0F 0x0F\t|\t0x0F 0x0F 0x0F 0x0F\t|\n",
      "\t\t | B6 |\t0x0F 0x0F 0x0F 0x0F\t|\t0x0F 0x0F 0x0F 0x0F\t|\n",
      "\t\t | B7 |\t0x0F 0x0F 0x0F 0x0F\t|\t0x0F 0x0F 0x0F 0x0F\t|\n",
      "OEP \t |    |\t        FPGA1       |\t        FPGA2       |\t        FPGA3       \n",
      "0x8012\t | -- |\t\t\t0x1820\t\t|\t\t\t0x1821\t\t|\n",
      "\t\t | CH |\tPT1  PT2  PT3  PT4  |\tPT1  PT2  PT3  PT4  |\tPT1  PT2  PT3  PT4  \n",
      "\t\t | GA |\t4.00 4.00 4.00 4.00\t|\t4.00 4.00 4.00 4.00\t|\n",
      "\t\t | TH |\t0x08 0x08 0x08 0x08\t|\t0x08 0x08 0x08 0x08\t|\n",
      "\t\t | PT |\t0010 0010 0010 0010\t|\t0010 0010 0010 0010\t|\n",
      "\t\t | B0 |\t0x0F 0x0F 0x0F 0x0F\t|\t0x0F 0x0F 0x0F 0x0F\t|\n",
      "\t\t | B1 |\t0x0F 0x0F 0x0F 0x0F\t|\t0x0F 0x0F 0x0F 0x0F\t|\n",
      "\t\t | B2 |\t0x0F 0x0F 0x0F 0x0F\t|\t0x0F 0x0F 0x0F 0x0F\t|\n",
      "\t\t | B3 |\t0x0F 0x0F 0x0F 0x0F\t|\t0x0F 0x0F 0x0F 0x0F\t|\n",
      "\t\t | B4 |\t0x0F 0x0F 0x0F 0x0F\t|\t0x0F 0x0F 0x0F 0x0F\t|\n",
      "\t\t | B5 |\t0x0F 0x0F 0x0F 0x0F\t|\t0x0F 0x0F 0x0F 0x0F\t|\n",
      "\t\t | B6 |\t0x0F 0x0F 0x0F 0x0F\t|\t0x0F 0x0F 0x0F 0x0F\t|\n",
      "\t\t | B7 |\t0x0F 0x0F 0x0F 0x0F\t|\t0x0F 0x0F 0x0F 0x0F\t|\n",
      "OEP \t |    |\t        FPGA1       |\t        FPGA2       |\t        FPGA3       \n",
      "0x8010\t | -- |\t\t\t0x1816\t\t|\t\t\t0x1817\t\t|\n",
      "\t\t | CH |\tPT1  PT2  PT3  PT4  |\tPT1  PT2  PT3  PT4  |\tPT1  PT2  PT3  PT4  \n",
      "\t\t | GA |\t4.00 4.00 4.00 4.00\t|\t4.00 4.00 4.00 4.00\t|\n",
      "\t\t | TH |\t0x08 0x08 0x08 0x08\t|\t0x08 0x08 0x08 0x08\t|\n",
      "\t\t | PT |\t0010 0010 0010 0010\t|\t0010 0010 0010 0010\t|\n",
      "\t\t | B0 |\t0x0F 0x0F 0x0F 0x0F\t|\t0x0F 0x0F 0x0F 0x0F\t|\n",
      "\t\t | B1 |\t0x0F 0x0F 0x0F 0x0F\t|\t0x0F 0x0F 0x0F 0x0F\t|\n",
      "\t\t | B2 |\t0x0F 0x0F 0x0F 0x0F\t|\t0x0F 0x0F 0x0F 0x0F\t|\n",
      "\t\t | B3 |\t0x0F 0x0F 0x0F 0x0F\t|\t0x0F 0x0F 0x0F 0x0F\t|\n",
      "\t\t | B4 |\t0x0F 0x0F 0x0F 0x0F\t|\t0x0F 0x0F 0x0F 0x0F\t|\n",
      "\t\t | B5 |\t0x0F 0x0F 0x0F 0x0F\t|\t0x0F 0x0F 0x0F 0x0F\t|\n",
      "\t\t | B6 |\t0x0F 0x0F 0x0F 0x0F\t|\t0x0F 0x0F 0x0F 0x0F\t|\n",
      "\t\t | B7 |\t0x0F 0x0F 0x0F 0x0F\t|\t0x0F 0x0F 0x0F 0x0F\t|\n",
      "OEP \t |    |\t        FPGA1       |\t        FPGA2       |\t        FPGA3       \n",
      "0x8007\t | -- |\t\t\t0x1810\t\t|\t\t\t0x1811\t\t|\n",
      "\t\t | CH |\tPT1  PT2  PT3  PT4  |\tPT1  PT2  PT3  PT4  |\tPT1  PT2  PT3  PT4  \n",
      "\t\t | GA |\t4.00 4.00 4.00 4.00\t|\t4.00 4.00 4.00 4.00\t|\n",
      "\t\t | TH |\t0x08 0x08 0x08 0x08\t|\t0x08 0x08 0x08 0x08\t|\n",
      "\t\t | PT |\t0010 0010 0010 0010\t|\t0010 0010 0010 0010\t|\n",
      "\t\t | B0 |\t0x0F 0x0F 0x0F 0x0F\t|\t0x0F 0x0F 0x0F 0x0F\t|\n",
      "\t\t | B1 |\t0x0F 0x0F 0x0F 0x0F\t|\t0x0F 0x0F 0x0F 0x0F\t|\n",
      "\t\t | B2 |\t0x0F 0x0F 0x0F 0x0F\t|\t0x0F 0x0F 0x0F 0x0F\t|\n",
      "\t\t | B3 |\t0x0F 0x0F 0x0F 0x0F\t|\t0x0F 0x0F 0x0F 0x0F\t|\n",
      "\t\t | B4 |\t0x0F 0x0F 0x0F 0x0F\t|\t0x0F 0x0F 0x0F 0x0F\t|\n",
      "\t\t | B5 |\t0x0F 0x0F 0x0F 0x0F\t|\t0x0F 0x0F 0x0F 0x0F\t|\n",
      "\t\t | B6 |\t0x0F 0x0F 0x0F 0x0F\t|\t0x0F 0x0F 0x0F 0x0F\t|\n",
      "\t\t | B7 |\t0x0F 0x0F 0x0F 0x0F\t|\t0x0F 0x0F 0x0F 0x0F\t|\n",
      "OEP \t |    |\t        FPGA1       |\t        FPGA2       |\t        FPGA3       \n",
      "0x8006\t | -- |\t\t\t0x1808\t\t|\t\t\t0x1809\t\t|\n",
      "\t\t | CH |\tPT1  PT2  PT3  PT4  |\tPT1  PT2  PT3  PT4  |\tPT1  PT2  PT3  PT4  \n",
      "\t\t | GA |\t4.00 4.00 4.00 4.00\t|\t4.00 4.00 4.00 4.00\t|\n",
      "\t\t | TH |\t0x08 0x08 0x08 0x08\t|\t0x08 0x08 0x08 0x08\t|\n",
      "\t\t | PT |\t0010 0010 0010 0010\t|\t0010 0010 0010 0010\t|\n",
      "\t\t | B0 |\t0x0F 0x0F 0x0F 0x0F\t|\t0x0F 0x0F 0x0F 0x0F\t|\n",
      "\t\t | B1 |\t0x0F 0x0F 0x0F 0x0F\t|\t0x0F 0x0F 0x0F 0x0F\t|\n",
      "\t\t | B2 |\t0x0F 0x0F 0x0F 0x0F\t|\t0x0F 0x0F 0x0F 0x0F\t|\n",
      "\t\t | B3 |\t0x0F 0x0F 0x0F 0x0F\t|\t0x0F 0x0F 0x0F 0x0F\t|\n",
      "\t\t | B4 |\t0x0F 0x0F 0x0F 0x0F\t|\t0x0F 0x0F 0x0F 0x0F\t|\n",
      "\t\t | B5 |\t0x0F 0x0F 0x0F 0x0F\t|\t0x0F 0x0F 0x0F 0x0F\t|\n",
      "\t\t | B6 |\t0x0F 0x0F 0x0F 0x0F\t|\t0x0F 0x0F 0x0F 0x0F\t|\n",
      "\t\t | B7 |\t0x0F 0x0F 0x0F 0x0F\t|\t0x0F 0x0F 0x0F 0x0F\t|\n",
      "OEP \t |    |\t        FPGA1       |\t        FPGA2       |\t        FPGA3       \n",
      "0x8002\t | -- |\t\t\t0x1802\t\t|\t\t\t0x1803\t\t|\n",
      "\t\t | CH |\tPT1  PT2  PT3  PT4  |\tPT1  PT2  PT3  PT4  |\tPT1  PT2  PT3  PT4  \n",
      "\t\t | GA |\t4.00 4.00 4.00 4.00\t|\t4.00 4.00 4.00 4.00\t|\n",
      "\t\t | TH |\t0x08 0x08 0x08 0x08\t|\t0x08 0x08 0x08 0x08\t|\n",
      "\t\t | PT |\t0010 0010 0010 0010\t|\t0010 0010 0010 0010\t|\n",
      "\t\t | B0 |\t0x0F 0x0F 0x0F 0x0F\t|\t0x0F 0x0F 0x0F 0x0F\t|\n",
      "\t\t | B1 |\t0x0F 0x0F 0x0F 0x0F\t|\t0x0F 0x0F 0x0F 0x0F\t|\n",
      "\t\t | B2 |\t0x0F 0x0F 0x0F 0x0F\t|\t0x0F 0x0F 0x0F 0x0F\t|\n",
      "\t\t | B3 |\t0x0F 0x0F 0x0F 0x0F\t|\t0x0F 0x0F 0x0F 0x0F\t|\n",
      "\t\t | B4 |\t0x0F 0x0F 0x0F 0x0F\t|\t0x0F 0x0F 0x0F 0x0F\t|\n",
      "\t\t | B5 |\t0x0F 0x0F 0x0F 0x0F\t|\t0x0F 0x0F 0x0F 0x0F\t|\n",
      "\t\t | B6 |\t0x0F 0x0F 0x0F 0x0F\t|\t0x0F 0x0F 0x0F 0x0F\t|\n",
      "\t\t | B7 |\t0x0F 0x0F 0x0F 0x0F\t|\t0x0F 0x0F 0x0F 0x0F\t|\n",
      "OEP \t |    |\t        FPGA1       |\t        FPGA2       |\t        FPGA3       \n",
      "0x8005\t | -- |\t\t\t0x1806\t\t|\t\t\t0x1807\t\t|\n",
      "\t\t | CH |\tPT1  PT2  PT3  PT4  |\tPT1  PT2  PT3  PT4  |\tPT1  PT2  PT3  PT4  \n",
      "\t\t | GA |\t4.00 4.00 4.00 4.00\t|\t4.00 4.00 4.00 4.00\t|\n",
      "\t\t | TH |\t0x08 0x08 0x08 0x08\t|\t0x08 0x08 0x08 0x08\t|\n",
      "\t\t | PT |\t0010 0010 0010 0010\t|\t0010 0010 0010 0010\t|\n",
      "\t\t | B0 |\t0x0F 0x0F 0x0F 0x0F\t|\t0x0F 0x0F 0x0F 0x0F\t|\n",
      "\t\t | B1 |\t0x0F 0x0F 0x0F 0x0F\t|\t0x0F 0x0F 0x0F 0x0F\t|\n",
      "\t\t | B2 |\t0x0F 0x0F 0x0F 0x0F\t|\t0x0F 0x0F 0x0F 0x0F\t|\n",
      "\t\t | B3 |\t0x0F 0x0F 0x0F 0x0F\t|\t0x0F 0x0F 0x0F 0x0F\t|\n",
      "\t\t | B4 |\t0x0F 0x0F 0x0F 0x0F\t|\t0x0F 0x0F 0x0F 0x0F\t|\n",
      "\t\t | B5 |\t0x0F 0x0F 0x0F 0x0F\t|\t0x0F 0x0F 0x0F 0x0F\t|\n",
      "\t\t | B6 |\t0x0F 0x0F 0x0F 0x0F\t|\t0x0F 0x0F 0x0F 0x0F\t|\n",
      "\t\t | B7 |\t0x0F 0x0F 0x0F 0x0F\t|\t0x0F 0x0F 0x0F 0x0F\t|\n"
     ]
    }
   ],
   "source": [
    "conf = pc.generateDefaultConfiguration(mdc_tree)\n",
    "for oep in conf.values():\n",
    "    print(oep)"
   ]
  },
  {
   "cell_type": "markdown",
   "id": "capable-homework",
   "metadata": {},
   "source": [
    "## Navigation"
   ]
  },
  {
   "cell_type": "markdown",
   "id": "interracial-publicity",
   "metadata": {},
   "source": [
    "### Through OEPs\n",
    "\n",
    "To retrieve MDCTDC_OEP object for OEP with the given address, it's enough to just use this address as a key:"
   ]
  },
  {
   "cell_type": "code",
   "execution_count": 4,
   "id": "polyphonic-characteristic",
   "metadata": {
    "scrolled": true
   },
   "outputs": [
    {
     "name": "stdout",
     "output_type": "stream",
     "text": [
      "OEP \t |    |\t        FPGA1       |\t        FPGA2       |\t        FPGA3       \n",
      "0x8001\t | -- |\t\t\t0x1800\t\t|\n",
      "\t\t | CH |\tPT1  PT2  PT3  PT4  |\tPT1  PT2  PT3  PT4  |\tPT1  PT2  PT3  PT4  \n",
      "\t\t | GA |\t4.00 4.00 4.00 4.00\t|\n",
      "\t\t | TH |\t0x08 0x08 0x08 0x08\t|\n",
      "\t\t | PT |\t0010 0010 0010 0010\t|\n",
      "\t\t | B0 |\t0x0F 0x0F 0x0F 0x0F\t|\n",
      "\t\t | B1 |\t0x0F 0x0F 0x0F 0x0F\t|\n",
      "\t\t | B2 |\t0x0F 0x0F 0x0F 0x0F\t|\n",
      "\t\t | B3 |\t0x0F 0x0F 0x0F 0x0F\t|\n",
      "\t\t | B4 |\t0x0F 0x0F 0x0F 0x0F\t|\n",
      "\t\t | B5 |\t0x0F 0x0F 0x0F 0x0F\t|\n",
      "\t\t | B6 |\t0x0F 0x0F 0x0F 0x0F\t|\n",
      "\t\t | B7 |\t0x0F 0x0F 0x0F 0x0F\t|\n"
     ]
    }
   ],
   "source": [
    "print(conf[\"0x8001\"])"
   ]
  },
  {
   "cell_type": "markdown",
   "id": "complicated-chocolate",
   "metadata": {},
   "source": [
    "### Through FPGAs and PASTTREC\n",
    "\n",
    "The same key access is available for every FPGA"
   ]
  },
  {
   "cell_type": "code",
   "execution_count": 5,
   "id": "sufficient-sheffield",
   "metadata": {
    "scrolled": false
   },
   "outputs": [
    {
     "name": "stdout",
     "output_type": "stream",
     "text": [
      "FPGA 0x1800\n",
      "\tPASTTREC 0: gain: 4, pt: 10, thr: 8, baselines: [15, 15, 15, 15, 15, 15, 15, 15]\n",
      "\tPASTTREC 1: gain: 4, pt: 10, thr: 8, baselines: [15, 15, 15, 15, 15, 15, 15, 15]\n",
      "\tPASTTREC 2: gain: 4, pt: 10, thr: 8, baselines: [15, 15, 15, 15, 15, 15, 15, 15]\n",
      "\tPASTTREC 3: gain: 4, pt: 10, thr: 8, baselines: [15, 15, 15, 15, 15, 15, 15, 15]\n",
      "\n"
     ]
    }
   ],
   "source": [
    "print(conf[\"0x8001\"][board])"
   ]
  },
  {
   "cell_type": "markdown",
   "id": "complicated-fruit",
   "metadata": {},
   "source": [
    ".. and PASTTREC"
   ]
  },
  {
   "cell_type": "code",
   "execution_count": 6,
   "id": "apart-salmon",
   "metadata": {
    "scrolled": false
   },
   "outputs": [
    {
     "name": "stdout",
     "output_type": "stream",
     "text": [
      "gain: 4, pt: 10, thr: 8, baselines: [15, 15, 15, 15, 15, 15, 15, 15]\n"
     ]
    }
   ],
   "source": [
    "print(conf[\"0x8001\"][board][1])"
   ]
  },
  {
   "cell_type": "markdown",
   "id": "suspected-bangladesh",
   "metadata": {},
   "source": [
    "## Changing settings"
   ]
  },
  {
   "cell_type": "markdown",
   "id": "appropriate-spoke",
   "metadata": {},
   "source": [
    "### Manual mode\n",
    "\n",
    "To change any setting the corresponding setter should be used:"
   ]
  },
  {
   "cell_type": "code",
   "execution_count": 7,
   "id": "abstract-james",
   "metadata": {},
   "outputs": [
    {
     "name": "stdout",
     "output_type": "stream",
     "text": [
      "gain: 4, pt: 10, thr: 8, baselines: [15, 15, 15, 15, 15, 15, 15, 15]\n",
      "gain: 1, pt: 15, thr: 8, baselines: [15, 15, 15, 15, 15, 15, 15, 15]\n"
     ]
    }
   ],
   "source": [
    "print(conf[\"0x8001\"][board][1])\n",
    "conf[\"0x8001\"][board][1].setGain(1) \n",
    "conf[\"0x8001\"][board][1].setPt(15) \n",
    "print(conf[\"0x8001\"][board][1])"
   ]
  },
  {
   "cell_type": "markdown",
   "id": "invalid-junction",
   "metadata": {},
   "source": [
    "### Automatic baseline finder for specific TDC"
   ]
  },
  {
   "cell_type": "code",
   "execution_count": 8,
   "id": "built-charlotte",
   "metadata": {},
   "outputs": [
    {
     "name": "stdout",
     "output_type": "stream",
     "text": [
      "FPGA 0x1800\n",
      "\tPASTTREC 0: gain: 4, pt: 10, thr: 8, baselines: [21, 16, 16, 18, 18, 23, 16, 21]\n",
      "\tPASTTREC 1: gain: 1, pt: 15, thr: 8, baselines: [18, 18, 17, 16, 17, 14, 14, 22]\n",
      "\tPASTTREC 2: gain: 4, pt: 10, thr: 8, baselines: [20, 22, 21, 15, 15, 18, 19, 23]\n",
      "\tPASTTREC 3: gain: 4, pt: 10, thr: 8, baselines: [17, 20, 18, 14, 21, 23, 21, 23]\n",
      "\n"
     ]
    }
   ],
   "source": [
    "conf[\"0x8001\"][board].found_baseline(scanning_time = 0.2)\n",
    "print(conf[\"0x8001\"][board])"
   ]
  },
  {
   "cell_type": "markdown",
   "id": "composite-proportion",
   "metadata": {},
   "source": [
    "### Automatic baseline finder for all TDC"
   ]
  },
  {
   "cell_type": "code",
   "execution_count": 9,
   "id": "norwegian-training",
   "metadata": {},
   "outputs": [
    {
     "name": "stdout",
     "output_type": "stream",
     "text": [
      "OEP \t |    |\t        FPGA1       |\t        FPGA2       |\t        FPGA3       \n",
      "0x8001\t | -- |\t\t\t0x1800\t\t|\n",
      "\t\t | CH |\tPT1  PT2  PT3  PT4  |\tPT1  PT2  PT3  PT4  |\tPT1  PT2  PT3  PT4  \n",
      "\t\t | GA |\t4.00 1.00 4.00 4.00\t|\n",
      "\t\t | TH |\t0x08 0x08 0x08 0x08\t|\n",
      "\t\t | PT |\t0010 0015 0010 0010\t|\n",
      "\t\t | B0 |\t0x15 0x12 0x14 0x11\t|\n",
      "\t\t | B1 |\t0x10 0x12 0x16 0x14\t|\n",
      "\t\t | B2 |\t0x10 0x11 0x15 0x12\t|\n",
      "\t\t | B3 |\t0x12 0x10 0x0F 0x0E\t|\n",
      "\t\t | B4 |\t0x12 0x11 0x0F 0x15\t|\n",
      "\t\t | B5 |\t0x17 0x0E 0x12 0x17\t|\n",
      "\t\t | B6 |\t0x10 0x0E 0x13 0x14\t|\n",
      "\t\t | B7 |\t0x15 0x16 0x17 0x17\t|\n",
      "OEP \t |    |\t        FPGA1       |\t        FPGA2       |\t        FPGA3       \n",
      "0x8009\t | -- |\t\t\t0x1814\t\t|\t\t\t0x1815\t\t|\n",
      "\t\t | CH |\tPT1  PT2  PT3  PT4  |\tPT1  PT2  PT3  PT4  |\tPT1  PT2  PT3  PT4  \n",
      "\t\t | GA |\t4.00 4.00 4.00 4.00\t|\t4.00 4.00 4.00 4.00\t|\n",
      "\t\t | TH |\t0x08 0x08 0x08 0x08\t|\t0x08 0x08 0x08 0x08\t|\n",
      "\t\t | PT |\t0010 0010 0010 0010\t|\t0010 0010 0010 0010\t|\n",
      "\t\t | B0 |\t0x14 0x14 0x14 0x13\t|\t0x16 0x18 0x12 0x19\t|\n",
      "\t\t | B1 |\t0x15 0x1A 0x13 0x1C\t|\t0x17 0x14 0x15 0x16\t|\n",
      "\t\t | B2 |\t0x0E 0x16 0x13 0x0F\t|\t0x0E 0x0E 0x12 0x17\t|\n",
      "\t\t | B3 |\t0x13 0x14 0x12 0x18\t|\t0x15 0x11 0x17 0x17\t|\n",
      "\t\t | B4 |\t0x14 0x12 0x11 0x14\t|\t0x15 0x0E 0x18 0x17\t|\n",
      "\t\t | B5 |\t0x15 0x1C 0x18 0x11\t|\t0x11 0x13 0x14 0x13\t|\n",
      "\t\t | B6 |\t0x14 0x18 0x14 0x11\t|\t0x17 0x16 0x15 0x14\t|\n",
      "\t\t | B7 |\t0x12 0x1C 0x10 0x15\t|\t0x0D 0x0F 0x18 0x16\t|\n"
     ]
    }
   ],
   "source": [
    "conf_baseline = {\"0x8001\": conf[\"0x8001\"], \"0x8009\": conf[\"0x8009\"] }\n",
    "pc.found_all_baselines(conf_baseline, plot=True)\n",
    "print(*conf_baseline.values(),sep=\"\\n\")"
   ]
  },
  {
   "cell_type": "markdown",
   "id": "friendly-peeing",
   "metadata": {},
   "source": [
    "## Save & load configurations"
   ]
  },
  {
   "cell_type": "markdown",
   "id": "detailed-metropolitan",
   "metadata": {},
   "source": [
    "To save configurations to file:"
   ]
  },
  {
   "cell_type": "code",
   "execution_count": 10,
   "id": "outside-pharmacology",
   "metadata": {},
   "outputs": [],
   "source": [
    "pc.writeConfigurationToFile(file=\"mytestconf.conf\", conf=conf)"
   ]
  },
  {
   "cell_type": "markdown",
   "id": "japanese-series",
   "metadata": {},
   "source": [
    "To load it from the file:"
   ]
  },
  {
   "cell_type": "code",
   "execution_count": 11,
   "id": "numeric-liberty",
   "metadata": {},
   "outputs": [
    {
     "name": "stdout",
     "output_type": "stream",
     "text": [
      "OEP \t |    |\t        FPGA1       |\t        FPGA2       |\t        FPGA3       \n",
      "0x8008\t | -- |\t\t\t0x1812\t\t|\t\t\t0x1813\t\t|\n",
      "\t\t | CH |\tPT1  PT2  PT3  PT4  |\tPT1  PT2  PT3  PT4  |\tPT1  PT2  PT3  PT4  \n",
      "\t\t | GA |\t4.00 4.00 4.00 4.00\t|\t4.00 4.00 4.00 4.00\t|\n",
      "\t\t | TH |\t0x08 0x08 0x08 0x08\t|\t0x08 0x08 0x08 0x08\t|\n",
      "\t\t | PT |\t0010 0010 0010 0010\t|\t0010 0010 0010 0010\t|\n",
      "\t\t | B0 |\t0x0F 0x0F 0x0F 0x0F\t|\t0x0F 0x0F 0x0F 0x0F\t|\n",
      "\t\t | B1 |\t0x0F 0x0F 0x0F 0x0F\t|\t0x0F 0x0F 0x0F 0x0F\t|\n",
      "\t\t | B2 |\t0x0F 0x0F 0x0F 0x0F\t|\t0x0F 0x0F 0x0F 0x0F\t|\n",
      "\t\t | B3 |\t0x0F 0x0F 0x0F 0x0F\t|\t0x0F 0x0F 0x0F 0x0F\t|\n",
      "\t\t | B4 |\t0x0F 0x0F 0x0F 0x0F\t|\t0x0F 0x0F 0x0F 0x0F\t|\n",
      "\t\t | B5 |\t0x0F 0x0F 0x0F 0x0F\t|\t0x0F 0x0F 0x0F 0x0F\t|\n",
      "\t\t | B6 |\t0x0F 0x0F 0x0F 0x0F\t|\t0x0F 0x0F 0x0F 0x0F\t|\n",
      "\t\t | B7 |\t0x0F 0x0F 0x0F 0x0F\t|\t0x0F 0x0F 0x0F 0x0F\t|\n",
      "OEP \t |    |\t        FPGA1       |\t        FPGA2       |\t        FPGA3       \n",
      "0x8009\t | -- |\t\t\t0x1814\t\t|\t\t\t0x1815\t\t|\n",
      "\t\t | CH |\tPT1  PT2  PT3  PT4  |\tPT1  PT2  PT3  PT4  |\tPT1  PT2  PT3  PT4  \n",
      "\t\t | GA |\t4.00 4.00 4.00 4.00\t|\t4.00 4.00 4.00 4.00\t|\n",
      "\t\t | TH |\t0x08 0x08 0x08 0x08\t|\t0x08 0x08 0x08 0x08\t|\n",
      "\t\t | PT |\t0010 0010 0010 0010\t|\t0010 0010 0010 0010\t|\n",
      "\t\t | B0 |\t0x14 0x14 0x14 0x13\t|\t0x16 0x18 0x12 0x19\t|\n",
      "\t\t | B1 |\t0x15 0x1A 0x13 0x1C\t|\t0x17 0x14 0x15 0x16\t|\n",
      "\t\t | B2 |\t0x0E 0x16 0x13 0x0F\t|\t0x0E 0x0E 0x12 0x17\t|\n",
      "\t\t | B3 |\t0x13 0x14 0x12 0x18\t|\t0x15 0x11 0x17 0x17\t|\n",
      "\t\t | B4 |\t0x14 0x12 0x11 0x14\t|\t0x15 0x0E 0x18 0x17\t|\n",
      "\t\t | B5 |\t0x15 0x1C 0x18 0x11\t|\t0x11 0x13 0x14 0x13\t|\n",
      "\t\t | B6 |\t0x14 0x18 0x14 0x11\t|\t0x17 0x16 0x15 0x14\t|\n",
      "\t\t | B7 |\t0x12 0x1C 0x10 0x15\t|\t0x0D 0x0F 0x18 0x16\t|\n",
      "OEP \t |    |\t        FPGA1       |\t        FPGA2       |\t        FPGA3       \n",
      "0x8001\t | -- |\t\t\t0x1800\t\t|\n",
      "\t\t | CH |\tPT1  PT2  PT3  PT4  |\tPT1  PT2  PT3  PT4  |\tPT1  PT2  PT3  PT4  \n",
      "\t\t | GA |\t4.00 1.00 4.00 4.00\t|\n",
      "\t\t | TH |\t0x08 0x08 0x08 0x08\t|\n",
      "\t\t | PT |\t0010 0015 0010 0010\t|\n",
      "\t\t | B0 |\t0x15 0x12 0x14 0x11\t|\n",
      "\t\t | B1 |\t0x10 0x12 0x16 0x14\t|\n",
      "\t\t | B2 |\t0x10 0x11 0x15 0x12\t|\n",
      "\t\t | B3 |\t0x12 0x10 0x0F 0x0E\t|\n",
      "\t\t | B4 |\t0x12 0x11 0x0F 0x15\t|\n",
      "\t\t | B5 |\t0x17 0x0E 0x12 0x17\t|\n",
      "\t\t | B6 |\t0x10 0x0E 0x13 0x14\t|\n",
      "\t\t | B7 |\t0x15 0x16 0x17 0x17\t|\n",
      "OEP \t |    |\t        FPGA1       |\t        FPGA2       |\t        FPGA3       \n",
      "0x8011\t | -- |\t\t\t0x1818\t\t|\t\t\t0x1819\t\t|\n",
      "\t\t | CH |\tPT1  PT2  PT3  PT4  |\tPT1  PT2  PT3  PT4  |\tPT1  PT2  PT3  PT4  \n",
      "\t\t | GA |\t4.00 4.00 4.00 4.00\t|\t4.00 4.00 4.00 4.00\t|\n",
      "\t\t | TH |\t0x08 0x08 0x08 0x08\t|\t0x08 0x08 0x08 0x08\t|\n",
      "\t\t | PT |\t0010 0010 0010 0010\t|\t0010 0010 0010 0010\t|\n",
      "\t\t | B0 |\t0x0F 0x0F 0x0F 0x0F\t|\t0x0F 0x0F 0x0F 0x0F\t|\n",
      "\t\t | B1 |\t0x0F 0x0F 0x0F 0x0F\t|\t0x0F 0x0F 0x0F 0x0F\t|\n",
      "\t\t | B2 |\t0x0F 0x0F 0x0F 0x0F\t|\t0x0F 0x0F 0x0F 0x0F\t|\n",
      "\t\t | B3 |\t0x0F 0x0F 0x0F 0x0F\t|\t0x0F 0x0F 0x0F 0x0F\t|\n",
      "\t\t | B4 |\t0x0F 0x0F 0x0F 0x0F\t|\t0x0F 0x0F 0x0F 0x0F\t|\n",
      "\t\t | B5 |\t0x0F 0x0F 0x0F 0x0F\t|\t0x0F 0x0F 0x0F 0x0F\t|\n",
      "\t\t | B6 |\t0x0F 0x0F 0x0F 0x0F\t|\t0x0F 0x0F 0x0F 0x0F\t|\n",
      "\t\t | B7 |\t0x0F 0x0F 0x0F 0x0F\t|\t0x0F 0x0F 0x0F 0x0F\t|\n",
      "OEP \t |    |\t        FPGA1       |\t        FPGA2       |\t        FPGA3       \n",
      "0x8012\t | -- |\t\t\t0x1820\t\t|\t\t\t0x1821\t\t|\n",
      "\t\t | CH |\tPT1  PT2  PT3  PT4  |\tPT1  PT2  PT3  PT4  |\tPT1  PT2  PT3  PT4  \n",
      "\t\t | GA |\t4.00 4.00 4.00 4.00\t|\t4.00 4.00 4.00 4.00\t|\n",
      "\t\t | TH |\t0x08 0x08 0x08 0x08\t|\t0x08 0x08 0x08 0x08\t|\n",
      "\t\t | PT |\t0010 0010 0010 0010\t|\t0010 0010 0010 0010\t|\n",
      "\t\t | B0 |\t0x0F 0x0F 0x0F 0x0F\t|\t0x0F 0x0F 0x0F 0x0F\t|\n",
      "\t\t | B1 |\t0x0F 0x0F 0x0F 0x0F\t|\t0x0F 0x0F 0x0F 0x0F\t|\n",
      "\t\t | B2 |\t0x0F 0x0F 0x0F 0x0F\t|\t0x0F 0x0F 0x0F 0x0F\t|\n",
      "\t\t | B3 |\t0x0F 0x0F 0x0F 0x0F\t|\t0x0F 0x0F 0x0F 0x0F\t|\n",
      "\t\t | B4 |\t0x0F 0x0F 0x0F 0x0F\t|\t0x0F 0x0F 0x0F 0x0F\t|\n",
      "\t\t | B5 |\t0x0F 0x0F 0x0F 0x0F\t|\t0x0F 0x0F 0x0F 0x0F\t|\n",
      "\t\t | B6 |\t0x0F 0x0F 0x0F 0x0F\t|\t0x0F 0x0F 0x0F 0x0F\t|\n",
      "\t\t | B7 |\t0x0F 0x0F 0x0F 0x0F\t|\t0x0F 0x0F 0x0F 0x0F\t|\n",
      "OEP \t |    |\t        FPGA1       |\t        FPGA2       |\t        FPGA3       \n",
      "0x8010\t | -- |\t\t\t0x1816\t\t|\t\t\t0x1817\t\t|\n",
      "\t\t | CH |\tPT1  PT2  PT3  PT4  |\tPT1  PT2  PT3  PT4  |\tPT1  PT2  PT3  PT4  \n",
      "\t\t | GA |\t4.00 4.00 4.00 4.00\t|\t4.00 4.00 4.00 4.00\t|\n",
      "\t\t | TH |\t0x08 0x08 0x08 0x08\t|\t0x08 0x08 0x08 0x08\t|\n",
      "\t\t | PT |\t0010 0010 0010 0010\t|\t0010 0010 0010 0010\t|\n",
      "\t\t | B0 |\t0x0F 0x0F 0x0F 0x0F\t|\t0x0F 0x0F 0x0F 0x0F\t|\n",
      "\t\t | B1 |\t0x0F 0x0F 0x0F 0x0F\t|\t0x0F 0x0F 0x0F 0x0F\t|\n",
      "\t\t | B2 |\t0x0F 0x0F 0x0F 0x0F\t|\t0x0F 0x0F 0x0F 0x0F\t|\n",
      "\t\t | B3 |\t0x0F 0x0F 0x0F 0x0F\t|\t0x0F 0x0F 0x0F 0x0F\t|\n",
      "\t\t | B4 |\t0x0F 0x0F 0x0F 0x0F\t|\t0x0F 0x0F 0x0F 0x0F\t|\n",
      "\t\t | B5 |\t0x0F 0x0F 0x0F 0x0F\t|\t0x0F 0x0F 0x0F 0x0F\t|\n",
      "\t\t | B6 |\t0x0F 0x0F 0x0F 0x0F\t|\t0x0F 0x0F 0x0F 0x0F\t|\n",
      "\t\t | B7 |\t0x0F 0x0F 0x0F 0x0F\t|\t0x0F 0x0F 0x0F 0x0F\t|\n",
      "OEP \t |    |\t        FPGA1       |\t        FPGA2       |\t        FPGA3       \n",
      "0x8007\t | -- |\t\t\t0x1810\t\t|\t\t\t0x1811\t\t|\n",
      "\t\t | CH |\tPT1  PT2  PT3  PT4  |\tPT1  PT2  PT3  PT4  |\tPT1  PT2  PT3  PT4  \n",
      "\t\t | GA |\t4.00 4.00 4.00 4.00\t|\t4.00 4.00 4.00 4.00\t|\n",
      "\t\t | TH |\t0x08 0x08 0x08 0x08\t|\t0x08 0x08 0x08 0x08\t|\n",
      "\t\t | PT |\t0010 0010 0010 0010\t|\t0010 0010 0010 0010\t|\n",
      "\t\t | B0 |\t0x0F 0x0F 0x0F 0x0F\t|\t0x0F 0x0F 0x0F 0x0F\t|\n",
      "\t\t | B1 |\t0x0F 0x0F 0x0F 0x0F\t|\t0x0F 0x0F 0x0F 0x0F\t|\n",
      "\t\t | B2 |\t0x0F 0x0F 0x0F 0x0F\t|\t0x0F 0x0F 0x0F 0x0F\t|\n",
      "\t\t | B3 |\t0x0F 0x0F 0x0F 0x0F\t|\t0x0F 0x0F 0x0F 0x0F\t|\n",
      "\t\t | B4 |\t0x0F 0x0F 0x0F 0x0F\t|\t0x0F 0x0F 0x0F 0x0F\t|\n",
      "\t\t | B5 |\t0x0F 0x0F 0x0F 0x0F\t|\t0x0F 0x0F 0x0F 0x0F\t|\n",
      "\t\t | B6 |\t0x0F 0x0F 0x0F 0x0F\t|\t0x0F 0x0F 0x0F 0x0F\t|\n",
      "\t\t | B7 |\t0x0F 0x0F 0x0F 0x0F\t|\t0x0F 0x0F 0x0F 0x0F\t|\n",
      "OEP \t |    |\t        FPGA1       |\t        FPGA2       |\t        FPGA3       \n",
      "0x8006\t | -- |\t\t\t0x1808\t\t|\t\t\t0x1809\t\t|\n",
      "\t\t | CH |\tPT1  PT2  PT3  PT4  |\tPT1  PT2  PT3  PT4  |\tPT1  PT2  PT3  PT4  \n",
      "\t\t | GA |\t4.00 4.00 4.00 4.00\t|\t4.00 4.00 4.00 4.00\t|\n",
      "\t\t | TH |\t0x08 0x08 0x08 0x08\t|\t0x08 0x08 0x08 0x08\t|\n",
      "\t\t | PT |\t0010 0010 0010 0010\t|\t0010 0010 0010 0010\t|\n",
      "\t\t | B0 |\t0x0F 0x0F 0x0F 0x0F\t|\t0x0F 0x0F 0x0F 0x0F\t|\n",
      "\t\t | B1 |\t0x0F 0x0F 0x0F 0x0F\t|\t0x0F 0x0F 0x0F 0x0F\t|\n",
      "\t\t | B2 |\t0x0F 0x0F 0x0F 0x0F\t|\t0x0F 0x0F 0x0F 0x0F\t|\n",
      "\t\t | B3 |\t0x0F 0x0F 0x0F 0x0F\t|\t0x0F 0x0F 0x0F 0x0F\t|\n",
      "\t\t | B4 |\t0x0F 0x0F 0x0F 0x0F\t|\t0x0F 0x0F 0x0F 0x0F\t|\n",
      "\t\t | B5 |\t0x0F 0x0F 0x0F 0x0F\t|\t0x0F 0x0F 0x0F 0x0F\t|\n",
      "\t\t | B6 |\t0x0F 0x0F 0x0F 0x0F\t|\t0x0F 0x0F 0x0F 0x0F\t|\n",
      "\t\t | B7 |\t0x0F 0x0F 0x0F 0x0F\t|\t0x0F 0x0F 0x0F 0x0F\t|\n",
      "OEP \t |    |\t        FPGA1       |\t        FPGA2       |\t        FPGA3       \n",
      "0x8002\t | -- |\t\t\t0x1802\t\t|\t\t\t0x1803\t\t|\n",
      "\t\t | CH |\tPT1  PT2  PT3  PT4  |\tPT1  PT2  PT3  PT4  |\tPT1  PT2  PT3  PT4  \n",
      "\t\t | GA |\t4.00 4.00 4.00 4.00\t|\t4.00 4.00 4.00 4.00\t|\n",
      "\t\t | TH |\t0x08 0x08 0x08 0x08\t|\t0x08 0x08 0x08 0x08\t|\n",
      "\t\t | PT |\t0010 0010 0010 0010\t|\t0010 0010 0010 0010\t|\n",
      "\t\t | B0 |\t0x0F 0x0F 0x0F 0x0F\t|\t0x0F 0x0F 0x0F 0x0F\t|\n",
      "\t\t | B1 |\t0x0F 0x0F 0x0F 0x0F\t|\t0x0F 0x0F 0x0F 0x0F\t|\n",
      "\t\t | B2 |\t0x0F 0x0F 0x0F 0x0F\t|\t0x0F 0x0F 0x0F 0x0F\t|\n",
      "\t\t | B3 |\t0x0F 0x0F 0x0F 0x0F\t|\t0x0F 0x0F 0x0F 0x0F\t|\n",
      "\t\t | B4 |\t0x0F 0x0F 0x0F 0x0F\t|\t0x0F 0x0F 0x0F 0x0F\t|\n",
      "\t\t | B5 |\t0x0F 0x0F 0x0F 0x0F\t|\t0x0F 0x0F 0x0F 0x0F\t|\n",
      "\t\t | B6 |\t0x0F 0x0F 0x0F 0x0F\t|\t0x0F 0x0F 0x0F 0x0F\t|\n",
      "\t\t | B7 |\t0x0F 0x0F 0x0F 0x0F\t|\t0x0F 0x0F 0x0F 0x0F\t|\n",
      "OEP \t |    |\t        FPGA1       |\t        FPGA2       |\t        FPGA3       \n",
      "0x8005\t | -- |\t\t\t0x1806\t\t|\t\t\t0x1807\t\t|\n",
      "\t\t | CH |\tPT1  PT2  PT3  PT4  |\tPT1  PT2  PT3  PT4  |\tPT1  PT2  PT3  PT4  \n",
      "\t\t | GA |\t4.00 4.00 4.00 4.00\t|\t4.00 4.00 4.00 4.00\t|\n",
      "\t\t | TH |\t0x08 0x08 0x08 0x08\t|\t0x08 0x08 0x08 0x08\t|\n",
      "\t\t | PT |\t0010 0010 0010 0010\t|\t0010 0010 0010 0010\t|\n",
      "\t\t | B0 |\t0x0F 0x0F 0x0F 0x0F\t|\t0x0F 0x0F 0x0F 0x0F\t|\n",
      "\t\t | B1 |\t0x0F 0x0F 0x0F 0x0F\t|\t0x0F 0x0F 0x0F 0x0F\t|\n",
      "\t\t | B2 |\t0x0F 0x0F 0x0F 0x0F\t|\t0x0F 0x0F 0x0F 0x0F\t|\n",
      "\t\t | B3 |\t0x0F 0x0F 0x0F 0x0F\t|\t0x0F 0x0F 0x0F 0x0F\t|\n",
      "\t\t | B4 |\t0x0F 0x0F 0x0F 0x0F\t|\t0x0F 0x0F 0x0F 0x0F\t|\n",
      "\t\t | B5 |\t0x0F 0x0F 0x0F 0x0F\t|\t0x0F 0x0F 0x0F 0x0F\t|\n",
      "\t\t | B6 |\t0x0F 0x0F 0x0F 0x0F\t|\t0x0F 0x0F 0x0F 0x0F\t|\n",
      "\t\t | B7 |\t0x0F 0x0F 0x0F 0x0F\t|\t0x0F 0x0F 0x0F 0x0F\t|\n"
     ]
    }
   ],
   "source": [
    "conf2 = pc.readConfigurationFromFile(\"mytestconf.conf\")\n",
    "print(*conf2.values(), sep=\"\\n\")"
   ]
  },
  {
   "cell_type": "markdown",
   "id": "civic-train",
   "metadata": {},
   "source": [
    "## Upload configurations to FPGA flash (under testing)"
   ]
  },
  {
   "cell_type": "markdown",
   "id": "atomic-tomorrow",
   "metadata": {},
   "source": [
    "First of all, it's required to create an image structure of configuration on the file system. \n",
    "\n",
    "### Create an image in folder mytestimage"
   ]
  },
  {
   "cell_type": "code",
   "execution_count": 12,
   "id": "commercial-mumbai",
   "metadata": {},
   "outputs": [],
   "source": [
    "pc.createImage(conf=conf, path=\"mytestimage\")"
   ]
  },
  {
   "cell_type": "markdown",
   "id": "structured-messaging",
   "metadata": {},
   "source": [
    "This command creates the next file structure:\n",
    "* mytestimage\n",
    "    * 0x8001    - *oep*\n",
    "        * 0x1801.hex  - *fpga*\n",
    "        * 0x1800.hex\n",
    "    * 0x8002\n",
    "    * 0x8005\n",
    "    ...\n",
    "    \n",
    "And inside each hex file there is a simple list of SC commands:\n",
    "> 0xA0FF 0xFFFFFFFF <br>\n",
    "> 0xA010 0x00050010<br>\n",
    "> 0xA011 0x0005011E<br>\n",
    "> 0xA012 0x0005022A<br>\n",
    "> 0xA013 0x00050308<br>\n",
    "> 0xA014 0x00050D05<br>\n",
    "> ..."
   ]
  },
  {
   "cell_type": "markdown",
   "id": "cognitive-investor",
   "metadata": {},
   "source": [
    "### Upload image to FPGA  (under testing)"
   ]
  },
  {
   "cell_type": "code",
   "execution_count": 15,
   "id": "patent-shakespeare",
   "metadata": {},
   "outputs": [
    {
     "name": "stdout",
     "output_type": "stream",
     "text": [
      "Running:  ./flash_settings.pl -y 0x1814 /workdir/python_modules/past_conf_vova/mytestimage/0x8009/0x1814.hex\n",
      "Running:  ./flash_settings.pl -y 0x1815 /workdir/python_modules/past_conf_vova/mytestimage/0x8009/0x1815.hex\n",
      "Running:  ./flash_settings.pl -y 0x1800 /workdir/python_modules/past_conf_vova/mytestimage/0x8001/0x1800.hex\n",
      "Programming Endpoint(s) @ Address 0x1814\n",
      "Symbols:\n",
      "  E: Erasing\n",
      "  P: Programming\n",
      "  @: Success\n",
      "  .: Skipped\n",
      "\n",
      "Block: 0 1 2 3 4 5 6 7 8 9 A B C D E F\n",
      "0      . . . . . . . . . . . . . . . . \n",
      "1      . . . . . . . . . . . . . . . . \n",
      "2      . . . . . . . . . . . . . . . . \n",
      "3      @ . . . . . . . . . . . . . . . \n",
      "\n",
      "Success\n",
      "\n",
      "page 0/2 verified\n",
      "page 1/2 verified\n",
      "page 2/2 verified\n",
      "Programming Endpoint(s) @ Address 0x1815\n",
      "Symbols:\n",
      "  E: Erasing\n",
      "  P: Programming\n",
      "  @: Success\n",
      "  .: Skipped\n",
      "\n",
      "Block: 0 1 2 3 4 5 6 7 8 9 A B C D E F\n",
      "0      . . . . . . . . . . . . . . . . \n",
      "1      . . . . . . . . . . . . . . . . \n",
      "2      . . . . . . . . . . . . . . . . \n",
      "3      @ . . . . . . . . . . . . . . . \n",
      "\n",
      "Success\n",
      "\n",
      "page 0/2 verified\n",
      "page 1/2 verified\n",
      "page 2/2 verified\n",
      "Programming Endpoint(s) @ Address 0x1800\n",
      "Symbols:\n",
      "  E: Erasing\n",
      "  P: Programming\n",
      "  @: Success\n",
      "  .: Skipped\n",
      "\n",
      "Block: 0 1 2 3 4 5 6 7 8 9 A B C D E F\n",
      "0      . . . . . . . . . . . . . . . . \n",
      "1      . . . . . . . . . . . . . . . . \n",
      "2      . . . . . . . . . . . . . . . . \n",
      "3      @ . . . . . . . . . . . . . . . \n",
      "\n",
      "Success\n",
      "\n",
      "page 0/2 verified\n",
      "page 1/2 verified\n",
      "page 2/2 verified\n"
     ]
    },
    {
     "name": "stderr",
     "output_type": "stream",
     "text": [
      "Found 1 Endpoint(s) of group MDC TDC\n",
      "Start programming ImageFile '/tmp/tmp.vGjyGu2ZQx'\n",
      "Found 1 Endpoint(s) of group MDC TDC\n",
      "Start programming ImageFile '/tmp/tmp.pRu9XdulaA'\n",
      "Found 1 Endpoint(s) of group MDC TDC\n",
      "Start programming ImageFile '/tmp/tmp.mtYq7rlVxU'\n"
     ]
    }
   ],
   "source": [
    "pc.uploadImage(path=\"mytestimage\", flash_settings=\"./flash_settings.pl -y\", TDCs=[\"0x1800\",\"0x1814\",\"0x1815\"])\n",
    "pt.reset_boards([\"0x1800\",\"0x1814\"])"
   ]
  },
  {
   "cell_type": "markdown",
   "id": "central-overview",
   "metadata": {},
   "source": [
    "# PASTTREC handling"
   ]
  },
  {
   "cell_type": "markdown",
   "id": "thousand-generation",
   "metadata": {},
   "source": [
    "## Slow control reset\n",
    "To reset only PASTTREC SPI module without interruption anything else:"
   ]
  },
  {
   "cell_type": "code",
   "execution_count": 16,
   "id": "chief-diesel",
   "metadata": {},
   "outputs": [],
   "source": [
    "pt.reset_board(board)"
   ]
  },
  {
   "cell_type": "markdown",
   "id": "dressed-finance",
   "metadata": {},
   "source": [
    "## Set threshold for specific PASTTREC\n",
    "Pasttrec IDs: [0 1 2 3]"
   ]
  },
  {
   "cell_type": "code",
   "execution_count": 17,
   "id": "medical-treasury",
   "metadata": {},
   "outputs": [],
   "source": [
    "pt.set_threshold_for_pasttrec(TDC=board, PAST=1, THR=0x00)"
   ]
  },
  {
   "cell_type": "markdown",
   "id": "annoying-longer",
   "metadata": {},
   "source": [
    "## Set threshold for board\n",
    "Parameter conn is not used - only for compatibility with old tools. Can be anything"
   ]
  },
  {
   "cell_type": "code",
   "execution_count": 18,
   "id": "appreciated-prophet",
   "metadata": {},
   "outputs": [],
   "source": [
    "pt.set_threshold_for_board(TDC=board,conn=-1,thresh=0)"
   ]
  },
  {
   "cell_type": "markdown",
   "id": "conditional-chain",
   "metadata": {},
   "source": [
    "## A baseline for the specific channel\n",
    "Baseline range: -15:15"
   ]
  },
  {
   "cell_type": "code",
   "execution_count": 19,
   "id": "removable-field",
   "metadata": {},
   "outputs": [],
   "source": [
    "pt.set_baseline(board,9,-13)"
   ]
  },
  {
   "cell_type": "markdown",
   "id": "palestinian-humidity",
   "metadata": {},
   "source": [
    "## A baseline for the range of channels"
   ]
  },
  {
   "cell_type": "code",
   "execution_count": 20,
   "id": "duplicate-point",
   "metadata": {},
   "outputs": [],
   "source": [
    "pt.set_all_baselines(TDC=board, channels=[1,2,3,5],values=[-15,0,15,13])"
   ]
  },
  {
   "cell_type": "markdown",
   "id": "modern-truth",
   "metadata": {},
   "source": [
    "## Find all baselines for a board with noise method"
   ]
  },
  {
   "cell_type": "code",
   "execution_count": 21,
   "id": "civilian-swaziland",
   "metadata": {},
   "outputs": [
    {
     "data": {
      "text/plain": [
       "{0: {'mean': 6.281750105580202, 'rms': 1.124325867499817},\n",
       " 1: {'mean': 1.4305122845698124, 'rms': 0.9375474610945278},\n",
       " 2: {'mean': 1.34951902162587, 'rms': 0.9394454540323338},\n",
       " 3: {'mean': 2.530634393052247, 'rms': 1.0706750139299195},\n",
       " 4: {'mean': 3.503543025522917, 'rms': 1.1341703624089268},\n",
       " 5: {'mean': 8.014752844634433, 'rms': 1.1150253895204163},\n",
       " 6: {'mean': 0.7142888874145058, 'rms': 0.9982649155744562},\n",
       " 7: {'mean': 6.318677125946445, 'rms': 1.210545500428647},\n",
       " 8: {'mean': 2.6589831074349464, 'rms': 0.8907938557247234},\n",
       " 9: {'mean': 3.4145903009637695, 'rms': 0.9666178589563303},\n",
       " 10: {'mean': 2.1861032814417563, 'rms': 0.8559495450497041},\n",
       " 11: {'mean': 0.9037376936892699, 'rms': 0.7723910763890857},\n",
       " 12: {'mean': 2.508323846214199, 'rms': 0.8876573094623152},\n",
       " 13: {'mean': -1.4484115371277333, 'rms': 0.7464380661662535},\n",
       " 14: {'mean': -0.9796330317542066, 'rms': 0.6516708755926335},\n",
       " 15: {'mean': 6.682727741270455, 'rms': 0.8197411411080411},\n",
       " 16: {'mean': 5.349943091941748, 'rms': 0.8487187395411222},\n",
       " 17: {'mean': 6.57590392989669, 'rms': 0.8118089563406063},\n",
       " 18: {'mean': 6.248750174087183, 'rms': 0.8305943860538483},\n",
       " 19: {'mean': 0.3074178691487517, 'rms': 0.8222392221633696},\n",
       " 20: {'mean': -0.369622313118514, 'rms': 0.8462589791133596},\n",
       " 21: {'mean': 3.402656213471987, 'rms': 1.005453306576453},\n",
       " 22: {'mean': 4.170658913958627, 'rms': 1.1083486560150562},\n",
       " 23: {'mean': 7.4993680764558635, 'rms': 1.2019147740130922},\n",
       " 24: {'mean': 1.5261129589891516, 'rms': 1.1970873636720207},\n",
       " 25: {'mean': 4.957545402590391, 'rms': 1.118123441768492},\n",
       " 26: {'mean': 3.510169856884156, 'rms': 1.2284610627489985},\n",
       " 27: {'mean': -0.7345834350818019, 'rms': 1.0119888646909516},\n",
       " 28: {'mean': 6.133130777762683, 'rms': 1.1830142685849523},\n",
       " 29: {'mean': 7.8561247304065605, 'rms': 1.1531003845750003},\n",
       " 30: {'mean': 5.521180933520702, 'rms': 1.1335444001815862},\n",
       " 31: {'mean': 8.310011190372109, 'rms': 1.1165256823968934}}"
      ]
     },
     "execution_count": 21,
     "metadata": {},
     "output_type": "execute_result"
    },
    {
     "data": {
      "image/png": "[encoded data removed]",
      "text/plain": [
       "<matplotlib.figure.Figure at 0x7fe22cda2320>"
      ]
     },
     "metadata": {
      "needs_background": "light"
     },
     "output_type": "display_data"
    }
   ],
   "source": [
    "pt.found_baselines_for_board(board=board,scaning_time=0.2,channels=range(32), plot=True)"
   ]
  },
  {
   "cell_type": "code",
   "execution_count": null,
   "id": "exceptional-arizona",
   "metadata": {},
   "outputs": [],
   "source": []
  },
  {
   "cell_type": "code",
   "execution_count": null,
   "id": "economic-republican",
   "metadata": {},
   "outputs": [],
   "source": []
  }
 ],
 "metadata": {
  "kernelspec": {
   "display_name": "Python 3",
   "language": "python",
   "name": "python3"
  },
  "language_info": {
   "codemirror_mode": {
    "name": "ipython",
    "version": 3
   },
   "file_extension": ".py",
   "mimetype": "text/x-python",
   "name": "python",
   "nbconvert_exporter": "python",
   "pygments_lexer": "ipython3",
   "version": "3.6.9"
  }
 },
 "nbformat": 4,
 "nbformat_minor": 5
}
