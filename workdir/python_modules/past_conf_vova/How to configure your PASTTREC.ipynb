{
 "cells": [
  {
   "cell_type": "markdown",
   "id": "fancy-sunrise",
   "metadata": {},
   "source": [
    "# How to configure your PASTTREC\n",
    "In this notebook, the first steps to create default settings, select baselines, add small changes and upload them to FPGAs are described"
   ]
  },
  {
   "cell_type": "code",
   "execution_count": 1,
   "id": "julian-notification",
   "metadata": {},
   "outputs": [
    {
     "name": "stdout",
     "output_type": "stream",
     "text": [
      "Welcome to JupyROOT 6.14/04\n"
     ]
    }
   ],
   "source": [
    "import sys  \n",
    "sys.path.insert(0, '../')\n",
    "\n",
    "import pasttrec_ctrl  as pt\n",
    "import pasttrec_conf as pc\n",
    "import tdc_daq"
   ]
  },
  {
   "cell_type": "markdown",
   "id": "endless-ireland",
   "metadata": {},
   "source": [
    "## Find all connected and active boards and create the default configuration for them\n",
    "If tree of all connected boards is needed - use conf.genConnectedDefault() instead of conf.genActiveDefault()\n",
    "\n",
    "PS: at the moment of writting this tutorial, the feature \"set boards to standby\" haven't worked - there was no change in the overview list after using it. So I was not able to test properly this python function:"
   ]
  },
  {
   "cell_type": "code",
   "execution_count": 2,
   "id": "anticipated-protection",
   "metadata": {},
   "outputs": [
    {
     "name": "stdout",
     "output_type": "stream",
     "text": [
      "OEP \t |    |\t        FPGA1       |\t        FPGA2       |\t        FPGA3       \n",
      "0x8012\t | -- |\t\t\t0x1820\t\t|\t\t\t0x1821\t\t|\n",
      "\t\t | CH |\tPT1  PT2  PT3  PT4  |\tPT1  PT2  PT3  PT4  |\tPT1  PT2  PT3  PT4  \n",
      "\t\t | GA |\t4.00 4.00 4.00 4.00\t|\t4.00 4.00 4.00 4.00\t|\n",
      "\t\t | TH |\t0x08 0x08 0x08 0x08\t|\t0x08 0x08 0x08 0x08\t|\n",
      "\t\t | PT |\t0010 0010 0010 0010\t|\t0010 0010 0010 0010\t|\n",
      "\t\t | B0 |\t0x0F 0x0F 0x0F 0x0F\t|\t0x0F 0x0F 0x0F 0x0F\t|\n",
      "\t\t | B1 |\t0x0F 0x0F 0x0F 0x0F\t|\t0x0F 0x0F 0x0F 0x0F\t|\n",
      "\t\t | B2 |\t0x0F 0x0F 0x0F 0x0F\t|\t0x0F 0x0F 0x0F 0x0F\t|\n",
      "\t\t | B3 |\t0x0F 0x0F 0x0F 0x0F\t|\t0x0F 0x0F 0x0F 0x0F\t|\n",
      "\t\t | B4 |\t0x0F 0x0F 0x0F 0x0F\t|\t0x0F 0x0F 0x0F 0x0F\t|\n",
      "\t\t | B5 |\t0x0F 0x0F 0x0F 0x0F\t|\t0x0F 0x0F 0x0F 0x0F\t|\n",
      "\t\t | B6 |\t0x0F 0x0F 0x0F 0x0F\t|\t0x0F 0x0F 0x0F 0x0F\t|\n",
      "\t\t | B7 |\t0x0F 0x0F 0x0F 0x0F\t|\t0x0F 0x0F 0x0F 0x0F\t|\n",
      "OEP \t |    |\t        FPGA1       |\t        FPGA2       |\t        FPGA3       \n",
      "0x8001\t | -- |\t\t\t0x1800\t\t|\n",
      "\t\t | CH |\tPT1  PT2  PT3  PT4  |\tPT1  PT2  PT3  PT4  |\tPT1  PT2  PT3  PT4  \n",
      "\t\t | GA |\t4.00 4.00 4.00 4.00\t|\n",
      "\t\t | TH |\t0x08 0x08 0x08 0x08\t|\n",
      "\t\t | PT |\t0010 0010 0010 0010\t|\n",
      "\t\t | B0 |\t0x0F 0x0F 0x0F 0x0F\t|\n",
      "\t\t | B1 |\t0x0F 0x0F 0x0F 0x0F\t|\n",
      "\t\t | B2 |\t0x0F 0x0F 0x0F 0x0F\t|\n",
      "\t\t | B3 |\t0x0F 0x0F 0x0F 0x0F\t|\n",
      "\t\t | B4 |\t0x0F 0x0F 0x0F 0x0F\t|\n",
      "\t\t | B5 |\t0x0F 0x0F 0x0F 0x0F\t|\n",
      "\t\t | B6 |\t0x0F 0x0F 0x0F 0x0F\t|\n",
      "\t\t | B7 |\t0x0F 0x0F 0x0F 0x0F\t|\n",
      "OEP \t |    |\t        FPGA1       |\t        FPGA2       |\t        FPGA3       \n",
      "0x8011\t | -- |\t\t\t0x1818\t\t|\t\t\t0x1819\t\t|\n",
      "\t\t | CH |\tPT1  PT2  PT3  PT4  |\tPT1  PT2  PT3  PT4  |\tPT1  PT2  PT3  PT4  \n",
      "\t\t | GA |\t4.00 4.00 4.00 4.00\t|\t4.00 4.00 4.00 4.00\t|\n",
      "\t\t | TH |\t0x08 0x08 0x08 0x08\t|\t0x08 0x08 0x08 0x08\t|\n",
      "\t\t | PT |\t0010 0010 0010 0010\t|\t0010 0010 0010 0010\t|\n",
      "\t\t | B0 |\t0x0F 0x0F 0x0F 0x0F\t|\t0x0F 0x0F 0x0F 0x0F\t|\n",
      "\t\t | B1 |\t0x0F 0x0F 0x0F 0x0F\t|\t0x0F 0x0F 0x0F 0x0F\t|\n",
      "\t\t | B2 |\t0x0F 0x0F 0x0F 0x0F\t|\t0x0F 0x0F 0x0F 0x0F\t|\n",
      "\t\t | B3 |\t0x0F 0x0F 0x0F 0x0F\t|\t0x0F 0x0F 0x0F 0x0F\t|\n",
      "\t\t | B4 |\t0x0F 0x0F 0x0F 0x0F\t|\t0x0F 0x0F 0x0F 0x0F\t|\n",
      "\t\t | B5 |\t0x0F 0x0F 0x0F 0x0F\t|\t0x0F 0x0F 0x0F 0x0F\t|\n",
      "\t\t | B6 |\t0x0F 0x0F 0x0F 0x0F\t|\t0x0F 0x0F 0x0F 0x0F\t|\n",
      "\t\t | B7 |\t0x0F 0x0F 0x0F 0x0F\t|\t0x0F 0x0F 0x0F 0x0F\t|\n",
      "\n"
     ]
    }
   ],
   "source": [
    "conf = pc.Configuration(mdc_tree=pc.Helper.getConnectedMDCtree())\n",
    "print(conf)"
   ]
  },
  {
   "cell_type": "markdown",
   "id": "voluntary-liechtenstein",
   "metadata": {},
   "source": [
    "For this tutorial, lets focus only on boards 0x1820 and 0x1821"
   ]
  },
  {
   "cell_type": "code",
   "execution_count": 3,
   "id": "electrical-kitchen",
   "metadata": {},
   "outputs": [
    {
     "name": "stdout",
     "output_type": "stream",
     "text": [
      "OEP \t |    |\t        FPGA1       |\t        FPGA2       |\t        FPGA3       \n",
      "0x8012\t | -- |\t\t\t0x1820\t\t|\t\t\t0x1821\t\t|\n",
      "\t\t | CH |\tPT1  PT2  PT3  PT4  |\tPT1  PT2  PT3  PT4  |\tPT1  PT2  PT3  PT4  \n",
      "\t\t | GA |\t4.00 4.00 4.00 4.00\t|\t4.00 4.00 4.00 4.00\t|\n",
      "\t\t | TH |\t0x08 0x08 0x08 0x08\t|\t0x08 0x08 0x08 0x08\t|\n",
      "\t\t | PT |\t0010 0010 0010 0010\t|\t0010 0010 0010 0010\t|\n",
      "\t\t | B0 |\t0x0F 0x0F 0x0F 0x0F\t|\t0x0F 0x0F 0x0F 0x0F\t|\n",
      "\t\t | B1 |\t0x0F 0x0F 0x0F 0x0F\t|\t0x0F 0x0F 0x0F 0x0F\t|\n",
      "\t\t | B2 |\t0x0F 0x0F 0x0F 0x0F\t|\t0x0F 0x0F 0x0F 0x0F\t|\n",
      "\t\t | B3 |\t0x0F 0x0F 0x0F 0x0F\t|\t0x0F 0x0F 0x0F 0x0F\t|\n",
      "\t\t | B4 |\t0x0F 0x0F 0x0F 0x0F\t|\t0x0F 0x0F 0x0F 0x0F\t|\n",
      "\t\t | B5 |\t0x0F 0x0F 0x0F 0x0F\t|\t0x0F 0x0F 0x0F 0x0F\t|\n",
      "\t\t | B6 |\t0x0F 0x0F 0x0F 0x0F\t|\t0x0F 0x0F 0x0F 0x0F\t|\n",
      "\t\t | B7 |\t0x0F 0x0F 0x0F 0x0F\t|\t0x0F 0x0F 0x0F 0x0F\t|\n",
      "\n"
     ]
    }
   ],
   "source": [
    "conf = pc.Configuration(mdc_tree={\"0x8012\": [\"0x1820\", \"0x1821\"]})\n",
    "print(conf)"
   ]
  },
  {
   "cell_type": "markdown",
   "id": "manual-request",
   "metadata": {},
   "source": [
    "Let start with some default configuration set for every PASTTREC"
   ]
  },
  {
   "cell_type": "code",
   "execution_count": 4,
   "id": "tracked-research",
   "metadata": {},
   "outputs": [
    {
     "name": "stdout",
     "output_type": "stream",
     "text": [
      "OEP \t |    |\t        FPGA1       |\t        FPGA2       |\t        FPGA3       \n",
      "0x8012\t | -- |\t\t\t0x1820\t\t|\t\t\t0x1821\t\t|\n",
      "\t\t | CH |\tPT1  PT2  PT3  PT4  |\tPT1  PT2  PT3  PT4  |\tPT1  PT2  PT3  PT4  \n",
      "\t\t | GA |\t1.00 1.00 4.00 4.00\t|\t1.00 1.00 1.00 1.00\t|\n",
      "\t\t | TH |\t0x7F 0x7F 0x08 0x08\t|\t0x7F 0x7F 0x7F 0x7F\t|\n",
      "\t\t | PT |\t0020 0010 0010 0010\t|\t0015 0015 0015 0015\t|\n",
      "\t\t | B0 |\t0x0F 0x0F 0x0F 0x0F\t|\t0x0F 0x0F 0x0F 0x0F\t|\n",
      "\t\t | B1 |\t0x0F 0x0F 0x0F 0x0F\t|\t0x0F 0x0F 0x0F 0x0F\t|\n",
      "\t\t | B2 |\t0x0F 0x0F 0x0F 0x0F\t|\t0x0F 0x0F 0x0F 0x0F\t|\n",
      "\t\t | B3 |\t0x0F 0x0F 0x0F 0x0F\t|\t0x0F 0x0F 0x0F 0x0F\t|\n",
      "\t\t | B4 |\t0x0F 0x0F 0x0F 0x0F\t|\t0x0F 0x0F 0x0F 0x0F\t|\n",
      "\t\t | B5 |\t0x0F 0x0F 0x0F 0x0F\t|\t0x0F 0x0F 0x0F 0x0F\t|\n",
      "\t\t | B6 |\t0x0F 0x0F 0x0F 0x0F\t|\t0x0F 0x0F 0x0F 0x0F\t|\n",
      "\t\t | B7 |\t0x0F 0x0F 0x0F 0x0F\t|\t0x0F 0x0F 0x0F 0x0F\t|\n",
      "\n"
     ]
    }
   ],
   "source": [
    "conf[\"0x1820\"][0].applyDefaultConfSet(pc.ConfStorage.memory_content_map[\"black_settings_pt20_g1_thr127\"])\n",
    "conf[\"0x1820\"][1].applyDefaultConfSet(pc.ConfStorage.memory_content_map[\"blue_settings_pt10_g1_thr127\"])\n",
    "for pasttrec in conf[\"0x1821\"]:\n",
    "    pasttrec.applyDefaultConfSet(pc.ConfStorage.memory_content_map[\"black_settings_pt15_g1_thr127\"])\n",
    "print(conf)"
   ]
  },
  {
   "cell_type": "markdown",
   "id": "instant-possession",
   "metadata": {},
   "source": [
    "Calibrate all baselines"
   ]
  },
  {
   "cell_type": "code",
   "execution_count": 5,
   "id": "rocky-works",
   "metadata": {},
   "outputs": [
    {
     "name": "stdout",
     "output_type": "stream",
     "text": [
      "43530\n",
      "43530\n",
      "43530\n",
      "43530\n",
      "43530\n",
      "43530\n",
      "43530\n",
      "43530\n",
      "43530\n",
      "43530\n",
      "-15\n"
     ]
    },
    {
     "ename": "TypeError",
     "evalue": "'int' object is not subscriptable",
     "output_type": "error",
     "traceback": [
      "\u001b[0;31m---------------------------------------------------------------------------\u001b[0m",
      "\u001b[0;31mTypeError\u001b[0m                                 Traceback (most recent call last)",
      "\u001b[0;32m<ipython-input-5-18f19b0f7559>\u001b[0m in \u001b[0;36m<module>\u001b[0;34m\u001b[0m\n\u001b[0;32m----> 1\u001b[0;31m \u001b[0mconf\u001b[0m\u001b[0;34m.\u001b[0m\u001b[0mfound_all_baselines\u001b[0m\u001b[0;34m(\u001b[0m\u001b[0mplot\u001b[0m\u001b[0;34m=\u001b[0m\u001b[0;32mTrue\u001b[0m\u001b[0;34m,\u001b[0m \u001b[0mapply_res\u001b[0m\u001b[0;34m=\u001b[0m\u001b[0;32mFalse\u001b[0m\u001b[0;34m)\u001b[0m\u001b[0;34m\u001b[0m\u001b[0;34m\u001b[0m\u001b[0m\n\u001b[0m",
      "\u001b[0;32m~/python_modules/pasttrec_conf.py\u001b[0m in \u001b[0;36mfound_all_baselines\u001b[0;34m(self, scanning_time, plot, apply_res)\u001b[0m\n\u001b[1;32m    240\u001b[0m         \u001b[0;32mfor\u001b[0m \u001b[0moep\u001b[0m \u001b[0;32min\u001b[0m \u001b[0mconf\u001b[0m\u001b[0;34m.\u001b[0m\u001b[0mvalues\u001b[0m\u001b[0;34m(\u001b[0m\u001b[0;34m)\u001b[0m\u001b[0;34m:\u001b[0m\u001b[0;34m\u001b[0m\u001b[0;34m\u001b[0m\u001b[0m\n\u001b[1;32m    241\u001b[0m             \u001b[0mTDCs\u001b[0m \u001b[0;34m=\u001b[0m \u001b[0;34m[\u001b[0m\u001b[0;34m*\u001b[0m\u001b[0mTDCs\u001b[0m\u001b[0;34m,\u001b[0m \u001b[0;34m*\u001b[0m\u001b[0;34m[\u001b[0m\u001b[0mel\u001b[0m \u001b[0;32mfor\u001b[0m \u001b[0mel\u001b[0m \u001b[0;32min\u001b[0m \u001b[0moep\u001b[0m\u001b[0;34m.\u001b[0m\u001b[0mfpga\u001b[0m\u001b[0;34m]\u001b[0m\u001b[0;34m]\u001b[0m\u001b[0;34m\u001b[0m\u001b[0;34m\u001b[0m\u001b[0m\n\u001b[0;32m--> 242\u001b[0;31m         \u001b[0mbaselines\u001b[0m \u001b[0;34m=\u001b[0m \u001b[0mpt\u001b[0m\u001b[0;34m.\u001b[0m\u001b[0mfound_baselines_for_boards\u001b[0m\u001b[0;34m(\u001b[0m\u001b[0mTDCs\u001b[0m\u001b[0;34m,\u001b[0m \u001b[0mscanning_time\u001b[0m\u001b[0;34m=\u001b[0m\u001b[0mscanning_time\u001b[0m\u001b[0;34m,\u001b[0m \u001b[0mplot\u001b[0m\u001b[0;34m=\u001b[0m\u001b[0mplot\u001b[0m\u001b[0;34m,\u001b[0m \u001b[0mapply_res\u001b[0m\u001b[0;34m=\u001b[0m\u001b[0mapply_res\u001b[0m\u001b[0;34m)\u001b[0m\u001b[0;34m\u001b[0m\u001b[0;34m\u001b[0m\u001b[0m\n\u001b[0m\u001b[1;32m    243\u001b[0m         \u001b[0;32mfor\u001b[0m \u001b[0moep\u001b[0m \u001b[0;32min\u001b[0m \u001b[0mconf\u001b[0m\u001b[0;34m.\u001b[0m\u001b[0mvalues\u001b[0m\u001b[0;34m(\u001b[0m\u001b[0;34m)\u001b[0m\u001b[0;34m:\u001b[0m\u001b[0;34m\u001b[0m\u001b[0;34m\u001b[0m\u001b[0m\n\u001b[1;32m    244\u001b[0m             \u001b[0;32mfor\u001b[0m \u001b[0mfpga\u001b[0m \u001b[0;32min\u001b[0m \u001b[0moep\u001b[0m\u001b[0;34m.\u001b[0m\u001b[0mfpga\u001b[0m\u001b[0;34m.\u001b[0m\u001b[0mvalues\u001b[0m\u001b[0;34m(\u001b[0m\u001b[0;34m)\u001b[0m\u001b[0;34m:\u001b[0m\u001b[0;34m\u001b[0m\u001b[0;34m\u001b[0m\u001b[0m\n",
      "\u001b[0;32m~/python_modules/pasttrec_ctrl.py\u001b[0m in \u001b[0;36mfound_baselines_for_boards\u001b[0;34m(boards, scanning_time, plot, apply_res)\u001b[0m\n\u001b[1;32m    531\u001b[0m                         \u001b[0msleep\u001b[0m\u001b[0;34m(\u001b[0m\u001b[0;36m1\u001b[0m\u001b[0;34m)\u001b[0m\u001b[0;34m\u001b[0m\u001b[0;34m\u001b[0m\u001b[0m\n\u001b[1;32m    532\u001b[0m                         \u001b[0mboard_info\u001b[0m \u001b[0;34m=\u001b[0m \u001b[0mdb\u001b[0m\u001b[0;34m.\u001b[0m\u001b[0mfind_board_by_name\u001b[0m\u001b[0;34m(\u001b[0m\u001b[0mboard\u001b[0m\u001b[0;34m)\u001b[0m\u001b[0;34m\u001b[0m\u001b[0;34m\u001b[0m\u001b[0m\n\u001b[0;32m--> 533\u001b[0;31m                         \u001b[0mtdc_addr\u001b[0m \u001b[0;34m=\u001b[0m \u001b[0mboard_info\u001b[0m\u001b[0;34m[\u001b[0m\u001b[0;34m\"tdc_addr\"\u001b[0m\u001b[0;34m]\u001b[0m\u001b[0;34m\u001b[0m\u001b[0;34m\u001b[0m\u001b[0m\n\u001b[0m\u001b[1;32m    534\u001b[0m                         \u001b[0mscalers\u001b[0m\u001b[0;34m[\u001b[0m\u001b[0mnboard\u001b[0m\u001b[0;34m,\u001b[0m \u001b[0;34m:\u001b[0m\u001b[0;34m,\u001b[0m \u001b[0mbaseline\u001b[0m \u001b[0;34m+\u001b[0m \u001b[0;36m15\u001b[0m\u001b[0;34m]\u001b[0m \u001b[0;34m=\u001b[0m \u001b[0;34m-\u001b[0m \u001b[0mnp\u001b[0m\u001b[0;34m.\u001b[0m\u001b[0marray\u001b[0m\u001b[0;34m(\u001b[0m\u001b[0mtdc_daq\u001b[0m\u001b[0;34m.\u001b[0m\u001b[0mread_spikes\u001b[0m\u001b[0;34m(\u001b[0m\u001b[0mtdc_addr\u001b[0m\u001b[0;34m,\u001b[0m\u001b[0mchannels\u001b[0m\u001b[0;34m)\u001b[0m\u001b[0;34m)\u001b[0m\u001b[0;34m\u001b[0m\u001b[0;34m\u001b[0m\u001b[0m\n\u001b[1;32m    535\u001b[0m                 \u001b[0msleep\u001b[0m\u001b[0;34m(\u001b[0m\u001b[0mscanning_time\u001b[0m\u001b[0;34m)\u001b[0m\u001b[0;34m\u001b[0m\u001b[0;34m\u001b[0m\u001b[0m\n",
      "\u001b[0;31mTypeError\u001b[0m: 'int' object is not subscriptable"
     ]
    }
   ],
   "source": [
    "conf.found_all_baselines(plot=True, apply_res=False)\n"
   ]
  },
  {
   "cell_type": "markdown",
   "id": "noble-battery",
   "metadata": {},
   "source": [
    "And change the gain and threshold for all PASTTRECs:"
   ]
  },
  {
   "cell_type": "code",
   "execution_count": null,
   "id": "national-original",
   "metadata": {},
   "outputs": [],
   "source": [
    "for tdc_address in conf[\"0x8012\"].fpga:\n",
    "    for pasttrec in conf[tdc_address]:\n",
    "        pasttrec.setThr(111)\n",
    "        pasttrec.setGain(1)\n",
    "\n",
    "print(conf)"
   ]
  },
  {
   "cell_type": "markdown",
   "id": "personal-commissioner",
   "metadata": {},
   "source": [
    "Now, the time to test the configuration on real board! This commands will not change the onboard memory, so the changes will kept untill power cycle or soft reset."
   ]
  },
  {
   "cell_type": "code",
   "execution_count": null,
   "id": "objective-right",
   "metadata": {},
   "outputs": [],
   "source": [
    "conf.applyChanges()"
   ]
  },
  {
   "cell_type": "markdown",
   "id": "derived-macedonia",
   "metadata": {},
   "source": [
    "To be sure, that the correct configuration was load into PASTTRECs, one can check them directly"
   ]
  },
  {
   "cell_type": "code",
   "execution_count": null,
   "id": "heard-matter",
   "metadata": {},
   "outputs": [],
   "source": [
    "print(pc.MDCTDC_FPGA.read_configuration(\"0x1820\"))\n",
    "print(pc.MDCTDC_FPGA.read_configuration(\"0x1821\"))"
   ]
  },
  {
   "cell_type": "markdown",
   "id": "lasting-drain",
   "metadata": {},
   "source": [
    "If everything is ok, then create an flashable image from this configuration and upload it to the board."
   ]
  },
  {
   "cell_type": "code",
   "execution_count": null,
   "id": "improving-teach",
   "metadata": {},
   "outputs": [],
   "source": [
    "conf.createImage( path=\"my_first_image\")\n",
    "pc.Configuration.flashImage(path=\"my_first_image\", flash_settings=\"./flash_settings.pl -y\")\n",
    "tdc_daq.reset_trb()"
   ]
  }
 ],
 "metadata": {
  "kernelspec": {
   "display_name": "Python 3",
   "language": "python",
   "name": "python3"
  },
  "language_info": {
   "codemirror_mode": {
    "name": "ipython",
    "version": 3
   },
   "file_extension": ".py",
   "mimetype": "text/x-python",
   "name": "python",
   "nbconvert_exporter": "python",
   "pygments_lexer": "ipython3",
   "version": "3.6.9"
  }
 },
 "nbformat": 4,
 "nbformat_minor": 5
}
