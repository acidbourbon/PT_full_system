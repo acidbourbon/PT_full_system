{
 "cells": [
  {
   "cell_type": "code",
   "execution_count": 1,
   "metadata": {},
   "outputs": [],
   "source": [
    "import hameg_trb \n",
    "import hameg_lv  \n",
    "import phidrive\n",
    "import micos_eco\n",
    "import wallplugs\n",
    "import numpy as np \n",
    "from matplotlib import pyplot as plt\n",
    "# scope?\n",
    "\n",
    "import time\n",
    "\n",
    "#import ROOT\n",
    "import os\n",
    "from my_utils import *\n",
    "#import fst\n",
    "import scalers\n",
    "\n",
    "def power_cycle_usb():\n",
    "  wallplugs.a_off()\n",
    "  time.sleep(3)\n",
    "  wallplugs.a_on()\n",
    "  time.sleep(3)\n",
    "    \n",
    "def power_cycle_micos():\n",
    "  wallplugs.b_off()\n",
    "  time.sleep(3)\n",
    "  wallplugs.b_on()\n",
    "  time.sleep(6)\n",
    "  micos_eco.send_cmd(\"1 1 setaxis\")\n",
    "  micos_eco.send_cmd(\"1 2 setaxis\")\n",
    "  micos_eco.send_cmd(\"2.0 1 setpitch\")\n",
    "  micos_eco.send_cmd(\"2.0 2 setpitch\")\n",
    "  micos_eco.cal()\n",
    "  time.sleep(3)\n",
    "  print(\"micos eco pos :\")\n",
    "  print(micos_eco.pos())\n",
    "    "
   ]
  },
  {
   "cell_type": "code",
   "execution_count": 2,
   "metadata": {},
   "outputs": [
    {
     "name": "stdout",
     "output_type": "stream",
     "text": [
      "### test micos ###\n",
      "(79.0, 71.0, 0.0)\n",
      "\n",
      "\n",
      "### test phidrive ###\n",
      "0.0\n",
      "\n",
      "\n",
      "### test HAMEG TRB ###\n",
      "device: /dev/ttyUSB_HAMEG_TRB\n",
      "volt 24.000000 curr 0.582300 state 1\n",
      "volt 24.000000 curr 0.582200 state 1\n",
      "volt 2.000000 curr 0.026800 state 1\n",
      "volt 1.500000 curr 0.248000 state 1\n",
      "\n",
      "\n",
      "### test HAMEG lv ###\n",
      "device: /dev/ttyUSB_HAMEG_LV\n",
      "volt 4.000000 curr 0.426800 state 1\n",
      "volt 5.000000 curr 0.347000 state 1\n",
      "volt 5.000000 curr 0.083700 state 1\n",
      "volt 5.000000 curr 0.000000 state 1\n",
      "\n",
      "\n"
     ]
    }
   ],
   "source": [
    "print(\"### test micos ###\")\n",
    "print(micos_eco.pos())\n",
    "print(\"\\n\")\n",
    "\n",
    "print(\"### test phidrive ###\")\n",
    "print(phidrive.get_angle())\n",
    "print(\"\\n\")\n",
    "\n",
    "print(\"### test HAMEG TRB ###\")\n",
    "hameg_trb.report()\n",
    "print(\"\\n\")\n",
    "\n",
    "print(\"### test HAMEG lv ###\")\n",
    "hameg_lv.report()\n",
    "print(\"\\n\")"
   ]
  },
  {
   "cell_type": "code",
   "execution_count": 18,
   "metadata": {},
   "outputs": [
    {
     "name": "stdout",
     "output_type": "stream",
     "text": [
      "(84.0, 71.0, 0.0)\n"
     ]
    }
   ],
   "source": [
    "print(micos_eco.pos())"
   ]
  },
  {
   "cell_type": "code",
   "execution_count": 4,
   "metadata": {},
   "outputs": [],
   "source": [
    "#micos_eco.move(y=100,x=100) ## far side\n",
    "#micos_eco.move(y=0,x=100) ## units in mm\n",
    "#micos_eco.move(y=100,x=0) ## units in mm\n",
    "#micos_eco.move(y=70,x=0) ## strahlhoehe\n",
    "#micos_eco.move(x=0,y=0) ## parking pos"
   ]
  },
  {
   "cell_type": "code",
   "execution_count": 5,
   "metadata": {},
   "outputs": [],
   "source": [
    "\n",
    "\n",
    "x_offset = 0\n",
    "y_offset = 0\n",
    "\n",
    "# if Si-Strip\n",
    "x_offset = 50\n",
    "y_offset = 30"
   ]
  },
  {
   "cell_type": "code",
   "execution_count": 6,
   "metadata": {},
   "outputs": [],
   "source": [
    "#micos_eco.move(x=18,y=39) ## maximum of diamond rate in beam \n",
    "#micos_eco.move(x=18+x_offset,y=39+y_offset) ## maximum of diamond rate in beam "
   ]
  },
  {
   "cell_type": "code",
   "execution_count": 7,
   "metadata": {
    "scrolled": true
   },
   "outputs": [
    {
     "name": "stdout",
     "output_type": "stream",
     "text": [
      "(73.0, 71.0, 0.0)\n",
      "done\n",
      ": : : : : : : : : : : : : : : : : : : : : : : : : : : : ## spill break ##\n",
      ". . . . . . . . . . . . ## spill start ##\n",
      "pos: x: 73.000000 y: 71.000000\n",
      "scint_rate: 977694.000000\n",
      "dut_rate: 51954.000000\n",
      "dut/trigger rate: 0.053139\n",
      "(74.0, 71.0, 0.0)\n",
      "done\n",
      ": : : : : : : : : : : : : : : : : : : : : : : : : ## spill break ##\n",
      ". . . . . . . . . . . ## spill start ##\n",
      "pos: x: 74.000000 y: 71.000000\n",
      "scint_rate: 970610.000000\n",
      "dut_rate: 197328.000000\n",
      "dut/trigger rate: 0.203303\n",
      "(75.0, 71.0, 0.0)\n",
      "done\n",
      ": : : : : : : : : : : : : : : : : : : : : : : : : ## spill break ##\n",
      ". . . . . . . . . . . . ## spill start ##\n",
      "pos: x: 75.000000 y: 71.000000\n",
      "scint_rate: 991245.000000\n",
      "dut_rate: 296160.000000\n",
      "dut/trigger rate: 0.298776\n",
      "(76.0, 71.0, 0.0)\n",
      "done\n",
      ": : : : : : : : : : : : : : : : : : : : : : : : : ## spill break ##\n",
      ". . . . . . . . . . . ## spill start ##\n",
      "pos: x: 76.000000 y: 71.000000\n",
      "scint_rate: 974583.000000\n",
      "dut_rate: 291580.000000\n",
      "dut/trigger rate: 0.299184\n",
      "(77.0, 71.0, 0.0)\n",
      "done\n",
      ": : : : : : : : : : : : : : : : : : : : : : : : : ## spill break ##\n",
      ". . . . . . . . . . . . ## spill start ##\n",
      "pos: x: 77.000000 y: 71.000000\n",
      "scint_rate: 984938.000000\n",
      "dut_rate: 302334.000000\n",
      "dut/trigger rate: 0.306957\n",
      "(78.0, 71.0, 0.0)\n",
      "done\n",
      ": : : : : : : : : : : : : : : : : : : : : : : : : ## spill break ##\n",
      ". . . . . . . . . . . ## spill start ##\n",
      "pos: x: 78.000000 y: 71.000000\n",
      "scint_rate: 989199.000000\n",
      "dut_rate: 224381.000000\n",
      "dut/trigger rate: 0.226831\n",
      "(79.0, 71.0, 0.0)\n",
      "done\n",
      ": : : : : : : : : : : : : : : : : : : : : : : : : ## spill break ##\n",
      ". . . . . . . . . . . . ## spill start ##\n",
      "pos: x: 79.000000 y: 71.000000\n",
      "scint_rate: 991458.000000\n",
      "dut_rate: 193436.000000\n",
      "dut/trigger rate: 0.195103\n",
      "(80.0, 71.0, 0.0)\n",
      "done\n",
      ": : : : : : : : : : : : : : : : : : : : : : : : : ## spill break ##\n",
      ". . . . . . . . . . . ## spill start ##\n",
      "pos: x: 80.000000 y: 71.000000\n",
      "scint_rate: 1000288.000000\n",
      "dut_rate: 163366.000000\n",
      "dut/trigger rate: 0.163319\n",
      "(81.0, 71.0, 0.0)\n",
      "done\n",
      ": : : : : : : : : : : : : : : : : : : : : : : : : ## spill break ##\n",
      ". . . . . . . . . . . . ## spill start ##\n",
      "pos: x: 81.000000 y: 71.000000\n",
      "scint_rate: 994887.000000\n",
      "dut_rate: 151556.000000\n",
      "dut/trigger rate: 0.152335\n",
      "(82.0, 71.0, 0.0)\n",
      "done\n",
      ": : : : : : : : : : : : : : : : : : : : : : : : : ## spill break ##\n",
      ". . . . . . . . . . . ## spill start ##\n",
      "pos: x: 82.000000 y: 71.000000\n",
      "scint_rate: 988606.000000\n",
      "dut_rate: 123199.000000\n",
      "dut/trigger rate: 0.124619\n",
      "(83.0, 71.0, 0.0)\n",
      "done\n",
      ": : : : : : : : : : : : : : : : : : : : : : : : : ## spill break ##\n",
      ". . . . . . . . . . . . ## spill start ##\n",
      "pos: x: 83.000000 y: 71.000000\n",
      "scint_rate: 999392.000000\n",
      "dut_rate: 105188.000000\n",
      "dut/trigger rate: 0.105252\n",
      "(84.0, 71.0, 0.0)\n",
      "done\n",
      ": : : : : : : : : : : : : : : : : : : : : : : : : ## spill break ##\n",
      ". . . . . . . . . . . ## spill start ##\n",
      "pos: x: 84.000000 y: 71.000000\n",
      "scint_rate: 1045171.000000\n",
      "dut_rate: 85305.000000\n",
      "dut/trigger rate: 0.081618\n",
      "scan finished\n",
      "[[ 0.05313933  0.20330308  0.29877578  0.29918437  0.30695739  0.226831\n",
      "   0.19510257  0.16331896  0.15233489  0.12461891  0.10525199  0.08161822]]\n"
     ]
    }
   ],
   "source": [
    "\n",
    "\n",
    "#X = np.arange(73, 85, 1)\n",
    "#X = [18+x_offset]\n",
    "#Y = np.arange(79-2, 69+3, 2)\n",
    "#Y = np.arange(69-6, 69+7, 2)\n",
    "Y = [71]\n",
    "\n",
    "X = np.arange(73, 85, 1)\n",
    "\n",
    "\n",
    "dut_chan = 2 # ufsd in Padiwa\n",
    "trig_chan = 30 # alberto Scintillator\n",
    "\n",
    "rates = np.zeros(( len(Y) , len(X)))\n",
    "dut_rates = np.zeros(( len(Y) , len(X)))\n",
    "trigger_rates = np.zeros(( len(Y) , len(X)))\n",
    "\n",
    "\n",
    "poll_acq_time = 1\n",
    "acq_time=35\n",
    "\n",
    "\n",
    "trigger_rate_threshold=2000\n",
    "\n",
    "#print(rates)\n",
    "\n",
    "i=0\n",
    "j=0\n",
    "for y in Y:\n",
    "  j=0\n",
    "  for x in X:\n",
    "    micos_eco.move(x=x,y=y)\n",
    "    \n",
    "    ### wait for spill break\n",
    "    while True:\n",
    "      curr_rates = scalers.scaler_rate(\"0x0351\",[dut_chan,trig_chan],poll_acq_time)\n",
    "      scint_rate = curr_rates[1]\n",
    "      if scint_rate < trigger_rate_threshold*poll_acq_time:\n",
    "        print(\"## spill break ##\")\n",
    "        break\n",
    "      else:\n",
    "        print(\":\", end=\" \")\n",
    "        \n",
    "    ### wait for spill start\n",
    "    while True:\n",
    "      curr_rates = scalers.scaler_rate(\"0x0351\",[dut_chan,trig_chan],poll_acq_time)\n",
    "      scint_rate = curr_rates[1]\n",
    "      if scint_rate > trigger_rate_threshold*poll_acq_time:\n",
    "        print(\"## spill start ##\")\n",
    "        break\n",
    "      else:\n",
    "        print(\".\", end=\" \")\n",
    "        \n",
    "    curr_rates = scalers.scaler_rate(\"0x0351\",[dut_chan,trig_chan],acq_time)\n",
    "    scint_rate = curr_rates[1]\n",
    "    dut_rate = curr_rates[0]\n",
    "    rates[i,j] = dut_rate/scint_rate\n",
    "    dut_rates[i,j] = dut_rate\n",
    "    trigger_rates[i,j] = scint_rate\n",
    "    print(\"pos: x: {:f} y: {:f}\".format(x,y))\n",
    "    print(\"scint_rate: {:f}\".format(scint_rate))\n",
    "    print(\"dut_rate: {:f}\".format(dut_rate))\n",
    "    print(\"dut/trigger rate: {:f}\".format( dut_rate/(scint_rate+0.001)))\n",
    "    \n",
    "    j+=1\n",
    "  i+=1\n",
    "\n",
    "print(\"scan finished\")\n",
    "\n",
    "print(rates)"
   ]
  },
  {
   "cell_type": "code",
   "execution_count": 8,
   "metadata": {},
   "outputs": [
    {
     "name": "stdout",
     "output_type": "stream",
     "text": [
      "saving to /workdir/jupyter/beam_profile_w_scalers_data/000.svg\n",
      "saving to /workdir/jupyter/beam_profile_w_scalers_data/000.pickle\n"
     ]
    },
    {
     "data": {
      "image/png": "[encoded data removed]",
      "text/plain": [
       "<matplotlib.figure.Figure at 0x7f3e6d49eba8>"
      ]
     },
     "metadata": {
      "needs_background": "light"
     },
     "output_type": "display_data"
    },
    {
     "name": "stdout",
     "output_type": "stream",
     "text": [
      "saving to /workdir/jupyter/beam_profile_w_scalers_data/001.svg\n",
      "saving to /workdir/jupyter/beam_profile_w_scalers_data/001.pickle\n"
     ]
    },
    {
     "data": {
      "image/png": "[encoded data removed]",
      "text/plain": [
       "<matplotlib.figure.Figure at 0x7f3e6a923550>"
      ]
     },
     "metadata": {
      "needs_background": "light"
     },
     "output_type": "display_data"
    },
    {
     "name": "stdout",
     "output_type": "stream",
     "text": [
      "saving to /workdir/jupyter/beam_profile_w_scalers_data/002.svg\n",
      "saving to /workdir/jupyter/beam_profile_w_scalers_data/002.pickle\n"
     ]
    },
    {
     "data": {
      "image/png": "[encoded data removed]",
      "text/plain": [
       "<matplotlib.figure.Figure at 0x7f3e6a804588>"
      ]
     },
     "metadata": {
      "needs_background": "light"
     },
     "output_type": "display_data"
    },
    {
     "name": "stdout",
     "output_type": "stream",
     "text": [
      "saving to /workdir/jupyter/beam_profile_w_scalers_data/relative_rates_matrix.pickle\n",
      "saving to /workdir/jupyter/beam_profile_w_scalers_data/dut_rates_matrix.pickle\n",
      "saving to /workdir/jupyter/beam_profile_w_scalers_data/trigger_rates_matrix.pickle\n",
      "saving to /workdir/jupyter/beam_profile_w_scalers_data/X_mm.pickle\n",
      "saving to /workdir/jupyter/beam_profile_w_scalers_data/Y_mm.pickle\n"
     ]
    }
   ],
   "source": [
    "clear_data_dir()\n",
    "\n",
    "plt.imshow(rates)\n",
    "show(plt)\n",
    "\n",
    "plt.plot(X,sum(rates)/len(Y))\n",
    "plt.xlabel(\"micos pos X (mm)\")\n",
    "plt.ylabel(\"dut/trigger rate\")\n",
    "#plt.ylim(0,0.03)\n",
    "show(plt)\n",
    "\n",
    "plt.plot(Y,sum(rates.transpose())/len(X))\n",
    "plt.xlabel(\"micos pos Y (mm)\")\n",
    "plt.ylabel(\"dut/trigger rate\")\n",
    "#plt.ylim(0,0.03)\n",
    "show(plt)\n",
    "\n",
    "pickle_this(rates,\"relative_rates_matrix\")\n",
    "pickle_this(dut_rates,\"dut_rates_matrix\")\n",
    "pickle_this(trigger_rates,\"trigger_rates_matrix\")\n",
    "pickle_this(X,\"X_mm\")\n",
    "pickle_this(Y,\"Y_mm\")"
   ]
  },
  {
   "cell_type": "code",
   "execution_count": 16,
   "metadata": {},
   "outputs": [
    {
     "name": "stdout",
     "output_type": "stream",
     "text": [
      "saving to /workdir/jupyter/beam_profile_w_scalers_data/009.svg\n",
      "saving to /workdir/jupyter/beam_profile_w_scalers_data/009.pickle\n"
     ]
    },
    {
     "data": {
      "image/png": "[encoded data removed]",
      "text/plain": [
       "<matplotlib.figure.Figure at 0x7f3e6a5b3e80>"
      ]
     },
     "metadata": {
      "needs_background": "light"
     },
     "output_type": "display_data"
    }
   ],
   "source": [
    "plt.scatter(X,sum(dut_rates)/len(Y),label =\"dut_rates\")\n",
    "plt.scatter(X,sum(rates)*10e5, label =\"normalized rates\")\n",
    "plt.scatter(X,sum(trigger_rates)*4e-1, label =\"trigger rates\")\n",
    "plt.xlabel(\"micos pos X (mm)\")\n",
    "plt.ylabel(\"dut rate\")\n",
    "plt.ylim(0,400000)\n",
    "plt.legend()\n",
    "show(plt)"
   ]
  },
  {
   "cell_type": "code",
   "execution_count": 17,
   "metadata": {},
   "outputs": [],
   "source": [
    "archive(label=\"X_Si_after_moving_to_front\")"
   ]
  }
 ],
 "metadata": {
  "kernelspec": {
   "display_name": "Python 3",
   "language": "python",
   "name": "python3"
  },
  "language_info": {
   "codemirror_mode": {
    "name": "ipython",
    "version": 3
   },
   "file_extension": ".py",
   "mimetype": "text/x-python",
   "name": "python",
   "nbconvert_exporter": "python",
   "pygments_lexer": "ipython3",
   "version": "3.6.8"
  }
 },
 "nbformat": 4,
 "nbformat_minor": 2
}
