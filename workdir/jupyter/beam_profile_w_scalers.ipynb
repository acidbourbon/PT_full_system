{
 "cells": [
  {
   "cell_type": "code",
   "execution_count": 1,
   "metadata": {},
   "outputs": [],
   "source": [
    "import hameg_trb \n",
    "import hameg_lv  \n",
    "import phidrive\n",
    "import micos_eco\n",
    "import wallplugs\n",
    "import numpy as np \n",
    "from matplotlib import pyplot as plt\n",
    "# scope?\n",
    "\n",
    "import time\n",
    "\n",
    "#import ROOT\n",
    "import os\n",
    "from my_utils import *\n",
    "#import fst\n",
    "import scalers\n",
    "\n",
    "def power_cycle_usb():\n",
    "  wallplugs.a_off()\n",
    "  time.sleep(3)\n",
    "  wallplugs.a_on()\n",
    "  time.sleep(3)\n",
    "    \n",
    "def power_cycle_micos():\n",
    "  wallplugs.b_off()\n",
    "  time.sleep(3)\n",
    "  wallplugs.b_on()\n",
    "  time.sleep(6)\n",
    "  micos_eco.send_cmd(\"1 1 setaxis\")\n",
    "  micos_eco.send_cmd(\"1 2 setaxis\")\n",
    "  micos_eco.send_cmd(\"2.0 1 setpitch\")\n",
    "  micos_eco.send_cmd(\"2.0 2 setpitch\")\n",
    "  micos_eco.cal()\n",
    "  time.sleep(3)\n",
    "  print(\"micos eco pos :\")\n",
    "  print(micos_eco.pos())\n",
    "    "
   ]
  },
  {
   "cell_type": "code",
   "execution_count": 2,
   "metadata": {},
   "outputs": [
    {
     "name": "stdout",
     "output_type": "stream",
     "text": [
      "### test micos ###\n",
      "(79.0, 65.0, 0.0)\n",
      "\n",
      "\n",
      "### test phidrive ###\n",
      "0.0\n",
      "\n",
      "\n",
      "### test HAMEG TRB ###\n",
      "device: /dev/ttyUSB_HAMEG_TRB\n",
      "volt 24.000000 curr 0.588400 state 1\n",
      "volt 24.000000 curr 0.588400 state 1\n",
      "volt 2.000000 curr 0.026400 state 1\n",
      "volt 1.500000 curr 0.246700 state 1\n",
      "\n",
      "\n",
      "### test HAMEG lv ###\n",
      "device: /dev/ttyUSB_HAMEG_LV\n",
      "volt 4.000000 curr 0.423500 state 1\n",
      "volt 5.000000 curr 0.347700 state 1\n",
      "volt 5.000000 curr 0.083900 state 1\n",
      "volt 5.000000 curr 0.000000 state 1\n",
      "\n",
      "\n"
     ]
    }
   ],
   "source": [
    "print(\"### test micos ###\")\n",
    "print(micos_eco.pos())\n",
    "print(\"\\n\")\n",
    "\n",
    "print(\"### test phidrive ###\")\n",
    "print(phidrive.get_angle())\n",
    "print(\"\\n\")\n",
    "\n",
    "print(\"### test HAMEG TRB ###\")\n",
    "hameg_trb.report()\n",
    "print(\"\\n\")\n",
    "\n",
    "print(\"### test HAMEG lv ###\")\n",
    "hameg_lv.report()\n",
    "print(\"\\n\")"
   ]
  },
  {
   "cell_type": "code",
   "execution_count": 3,
   "metadata": {},
   "outputs": [
    {
     "name": "stdout",
     "output_type": "stream",
     "text": [
      "(79.0, 65.0, 0.0)\n"
     ]
    }
   ],
   "source": [
    "print(micos_eco.pos())"
   ]
  },
  {
   "cell_type": "code",
   "execution_count": 4,
   "metadata": {},
   "outputs": [],
   "source": [
    "#micos_eco.move(y=100,x=100) ## far side\n",
    "#micos_eco.move(y=0,x=100) ## units in mm\n",
    "#micos_eco.move(y=100,x=0) ## units in mm\n",
    "#micos_eco.move(y=70,x=0) ## strahlhoehe\n",
    "#micos_eco.move(x=0,y=0) ## parking pos"
   ]
  },
  {
   "cell_type": "code",
   "execution_count": 5,
   "metadata": {},
   "outputs": [],
   "source": [
    "\n",
    "\n",
    "x_offset = 0\n",
    "y_offset = 0\n",
    "\n",
    "# if Si-Strip\n",
    "x_offset = 50\n",
    "y_offset = 30"
   ]
  },
  {
   "cell_type": "code",
   "execution_count": 6,
   "metadata": {},
   "outputs": [],
   "source": [
    "#micos_eco.move(x=18,y=39) ## maximum of diamond rate in beam \n",
    "#micos_eco.move(x=18+x_offset,y=39+y_offset) ## maximum of diamond rate in beam "
   ]
  },
  {
   "cell_type": "code",
   "execution_count": 7,
   "metadata": {
    "scrolled": true
   },
   "outputs": [
    {
     "name": "stdout",
     "output_type": "stream",
     "text": [
      "(79.0, 63.0, 0.0)\n",
      "done\n",
      "## spill break ##\n",
      "## spill start ##\n",
      "pos: x: 79.000000 y: 63.000000\n",
      "scint_rate: 687797.000000\n",
      "dut_rate: 19633.000000\n",
      "dut/trigger rate: 0.028545\n",
      "(79.0, 65.0, 0.0)\n",
      "done\n",
      ": : : : : : : : : : : : : : : : : : : : : : : : : ## spill break ##\n",
      ". . . . . . . . . . . . ## spill start ##\n",
      "pos: x: 79.000000 y: 65.000000\n",
      "scint_rate: 676620.000000\n",
      "dut_rate: 31383.000000\n",
      "dut/trigger rate: 0.046382\n",
      "(79.0, 67.0, 0.0)\n",
      "done\n",
      ": : : : : : : : : : : : : : : : : : : : : : : : : ## spill break ##\n",
      ". . . . . . . . . . . ## spill start ##\n",
      "pos: x: 79.000000 y: 67.000000\n",
      "scint_rate: 704035.000000\n",
      "dut_rate: 42774.000000\n",
      "dut/trigger rate: 0.060756\n",
      "(79.0, 69.0, 0.0)\n",
      "done\n",
      ": : : : : : : : : : : : : : : : : : : : : : : : : ## spill break ##\n",
      ". . . . . . . . . . . . ## spill start ##\n",
      "pos: x: 79.000000 y: 69.000000\n",
      "scint_rate: 715863.000000\n",
      "dut_rate: 53342.000000\n",
      "dut/trigger rate: 0.074514\n",
      "(79.0, 71.0, 0.0)\n",
      "done\n",
      ": : : : : : : : : : : : : : : : : : : : : : : : : ## spill break ##\n",
      ". . . . . . . . . . . ## spill start ##\n",
      "pos: x: 79.000000 y: 71.000000\n",
      "scint_rate: 677686.000000\n",
      "dut_rate: 58143.000000\n",
      "dut/trigger rate: 0.085796\n",
      "(79.0, 73.0, 0.0)\n",
      "done\n",
      ": : : : : : : : : : : : : : : : : : : : : : : : : ## spill break ##\n",
      ". . . . . . . . . . . ## spill start ##\n",
      "pos: x: 79.000000 y: 73.000000\n",
      "scint_rate: 673152.000000\n",
      "dut_rate: 48282.000000\n",
      "dut/trigger rate: 0.071725\n",
      "(79.0, 75.0, 0.0)\n",
      "done\n",
      ": : : : : : : : : : : : : : : : : : : : : : : : : ## spill break ##\n",
      ". . . . . . . . . . . . ## spill start ##\n",
      "pos: x: 79.000000 y: 75.000000\n",
      "scint_rate: 697653.000000\n",
      "dut_rate: 32357.000000\n",
      "dut/trigger rate: 0.046380\n",
      "scan finished\n",
      "[[ 0.02854476]\n",
      " [ 0.04638202]\n",
      " [ 0.0607555 ]\n",
      " [ 0.07451426]\n",
      " [ 0.08579637]\n",
      " [ 0.07172526]\n",
      " [ 0.04637979]]\n"
     ]
    }
   ],
   "source": [
    "\n",
    "\n",
    "#X = np.arange(73, 85, 1)\n",
    "#X = [18+x_offset]\n",
    "#Y = np.arange(79-2, 69+3, 2)\n",
    "Y = np.arange(69-6, 69+7, 2)\n",
    "X = [79]\n",
    "\n",
    "\n",
    "dut_chan = 2 # ufsd in Padiwa\n",
    "trig_chan = 30 # alberto Scintillator\n",
    "\n",
    "rates = np.zeros(( len(Y) , len(X)))\n",
    "dut_rates = np.zeros(( len(Y) , len(X)))\n",
    "trigger_rates = np.zeros(( len(Y) , len(X)))\n",
    "\n",
    "\n",
    "poll_acq_time = 1\n",
    "acq_time=35\n",
    "\n",
    "\n",
    "trigger_rate_threshold=2000\n",
    "\n",
    "#print(rates)\n",
    "\n",
    "i=0\n",
    "j=0\n",
    "for y in Y:\n",
    "  j=0\n",
    "  for x in X:\n",
    "    micos_eco.move(x=x,y=y)\n",
    "    \n",
    "    ### wait for spill break\n",
    "    while True:\n",
    "      curr_rates = scalers.scaler_rate(\"0x0351\",[dut_chan,trig_chan],poll_acq_time)\n",
    "      scint_rate = curr_rates[1]\n",
    "      if scint_rate < trigger_rate_threshold*poll_acq_time:\n",
    "        print(\"## spill break ##\")\n",
    "        break\n",
    "      else:\n",
    "        print(\":\", end=\" \")\n",
    "        \n",
    "    ### wait for spill start\n",
    "    while True:\n",
    "      curr_rates = scalers.scaler_rate(\"0x0351\",[dut_chan,trig_chan],poll_acq_time)\n",
    "      scint_rate = curr_rates[1]\n",
    "      if scint_rate > trigger_rate_threshold*poll_acq_time:\n",
    "        print(\"## spill start ##\")\n",
    "        break\n",
    "      else:\n",
    "        print(\".\", end=\" \")\n",
    "        \n",
    "    curr_rates = scalers.scaler_rate(\"0x0351\",[dut_chan,trig_chan],acq_time)\n",
    "    scint_rate = curr_rates[1]\n",
    "    dut_rate = curr_rates[0]\n",
    "    rates[i,j] = dut_rate/scint_rate\n",
    "    dut_rates[i,j] = dut_rate\n",
    "    trigger_rates[i,j] = scint_rate\n",
    "    print(\"pos: x: {:f} y: {:f}\".format(x,y))\n",
    "    print(\"scint_rate: {:f}\".format(scint_rate))\n",
    "    print(\"dut_rate: {:f}\".format(dut_rate))\n",
    "    print(\"dut/trigger rate: {:f}\".format( dut_rate/(scint_rate+0.001)))\n",
    "    \n",
    "    j+=1\n",
    "  i+=1\n",
    "\n",
    "print(\"scan finished\")\n",
    "\n",
    "print(rates)"
   ]
  },
  {
   "cell_type": "code",
   "execution_count": 8,
   "metadata": {},
   "outputs": [
    {
     "name": "stdout",
     "output_type": "stream",
     "text": [
      "saving to /workdir/jupyter/beam_profile_w_scalers_data/000.svg\n",
      "saving to /workdir/jupyter/beam_profile_w_scalers_data/000.pickle\n"
     ]
    },
    {
     "data": {
      "image/png": "[encoded data removed]",
      "text/plain": [
       "<matplotlib.figure.Figure at 0x7f10196909b0>"
      ]
     },
     "metadata": {
      "needs_background": "light"
     },
     "output_type": "display_data"
    },
    {
     "name": "stdout",
     "output_type": "stream",
     "text": [
      "saving to /workdir/jupyter/beam_profile_w_scalers_data/001.svg\n",
      "saving to /workdir/jupyter/beam_profile_w_scalers_data/001.pickle\n"
     ]
    },
    {
     "data": {
      "image/png": "[encoded data removed]",
      "text/plain": [
       "<matplotlib.figure.Figure at 0x7f1019686128>"
      ]
     },
     "metadata": {
      "needs_background": "light"
     },
     "output_type": "display_data"
    },
    {
     "name": "stdout",
     "output_type": "stream",
     "text": [
      "saving to /workdir/jupyter/beam_profile_w_scalers_data/002.svg\n",
      "saving to /workdir/jupyter/beam_profile_w_scalers_data/002.pickle\n"
     ]
    },
    {
     "data": {
      "image/png": "[encoded data removed]",
      "text/plain": [
       "<matplotlib.figure.Figure at 0x7f1019575e48>"
      ]
     },
     "metadata": {
      "needs_background": "light"
     },
     "output_type": "display_data"
    },
    {
     "name": "stdout",
     "output_type": "stream",
     "text": [
      "saving to /workdir/jupyter/beam_profile_w_scalers_data/relative_rates_matrix.pickle\n",
      "saving to /workdir/jupyter/beam_profile_w_scalers_data/dut_rates_matrix.pickle\n",
      "saving to /workdir/jupyter/beam_profile_w_scalers_data/trigger_rates_matrix.pickle\n",
      "saving to /workdir/jupyter/beam_profile_w_scalers_data/X_mm.pickle\n",
      "saving to /workdir/jupyter/beam_profile_w_scalers_data/Y_mm.pickle\n"
     ]
    }
   ],
   "source": [
    "clear_data_dir()\n",
    "\n",
    "plt.imshow(rates)\n",
    "show(plt)\n",
    "\n",
    "plt.plot(X,sum(rates)/len(Y))\n",
    "plt.xlabel(\"micos pos X (mm)\")\n",
    "plt.ylabel(\"dut/trigger rate\")\n",
    "#plt.ylim(0,0.03)\n",
    "show(plt)\n",
    "\n",
    "plt.plot(Y,sum(rates.transpose())/len(X))\n",
    "plt.xlabel(\"micos pos Y (mm)\")\n",
    "plt.ylabel(\"dut/trigger rate\")\n",
    "#plt.ylim(0,0.03)\n",
    "show(plt)\n",
    "\n",
    "pickle_this(rates,\"relative_rates_matrix\")\n",
    "pickle_this(dut_rates,\"dut_rates_matrix\")\n",
    "pickle_this(trigger_rates,\"trigger_rates_matrix\")\n",
    "pickle_this(X,\"X_mm\")\n",
    "pickle_this(Y,\"Y_mm\")"
   ]
  },
  {
   "cell_type": "code",
   "execution_count": 9,
   "metadata": {},
   "outputs": [
    {
     "name": "stdout",
     "output_type": "stream",
     "text": [
      "saving to /workdir/jupyter/beam_profile_w_scalers_data/003.svg\n",
      "saving to /workdir/jupyter/beam_profile_w_scalers_data/003.pickle\n"
     ]
    },
    {
     "data": {
      "image/png": "[encoded data removed]",
      "text/plain": [
       "<matplotlib.figure.Figure at 0x7f101c1ff390>"
      ]
     },
     "metadata": {
      "needs_background": "light"
     },
     "output_type": "display_data"
    }
   ],
   "source": [
    "plt.scatter(X,sum(dut_rates)/len(Y),label =\"dut_rates\")\n",
    "plt.scatter(X,sum(rates)*1.3e5, label =\"normalized rates\")\n",
    "plt.scatter(X,sum(trigger_rates)*1e-3, label =\"trigger rates\")\n",
    "plt.xlabel(\"micos pos X (mm)\")\n",
    "plt.ylabel(\"dut rate\")\n",
    "#plt.ylim(0,2000)\n",
    "plt.legend()\n",
    "show(plt)"
   ]
  },
  {
   "cell_type": "code",
   "execution_count": 11,
   "metadata": {},
   "outputs": [],
   "source": [
    "archive(label=\"Y_Si_trip_nice\")"
   ]
  }
 ],
 "metadata": {
  "kernelspec": {
   "display_name": "Python 3",
   "language": "python",
   "name": "python3"
  },
  "language_info": {
   "codemirror_mode": {
    "name": "ipython",
    "version": 3
   },
   "file_extension": ".py",
   "mimetype": "text/x-python",
   "name": "python",
   "nbconvert_exporter": "python",
   "pygments_lexer": "ipython3",
   "version": "3.6.8"
  }
 },
 "nbformat": 4,
 "nbformat_minor": 2
}
