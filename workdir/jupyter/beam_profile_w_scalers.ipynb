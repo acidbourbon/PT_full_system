{
 "cells": [
  {
   "cell_type": "code",
   "execution_count": 1,
   "metadata": {},
   "outputs": [],
   "source": [
    "import hameg_trb \n",
    "import hameg_lv  \n",
    "import phidrive\n",
    "import micos_eco\n",
    "import wallplugs\n",
    "import numpy as np \n",
    "from matplotlib import pyplot as plt\n",
    "# scope?\n",
    "\n",
    "import time\n",
    "\n",
    "#import ROOT\n",
    "import os\n",
    "from my_utils import *\n",
    "#import fst\n",
    "import scalers\n",
    "\n",
    "def power_cycle_usb():\n",
    "  wallplugs.a_off()\n",
    "  time.sleep(3)\n",
    "  wallplugs.a_on()\n",
    "  time.sleep(3)\n",
    "    \n",
    "def power_cycle_micos():\n",
    "  wallplugs.b_off()\n",
    "  time.sleep(3)\n",
    "  wallplugs.b_on()\n",
    "  time.sleep(6)\n",
    "  micos_eco.send_cmd(\"1 1 setaxis\")\n",
    "  micos_eco.send_cmd(\"1 2 setaxis\")\n",
    "  micos_eco.send_cmd(\"2.0 1 setpitch\")\n",
    "  micos_eco.send_cmd(\"2.0 2 setpitch\")\n",
    "  micos_eco.cal()\n",
    "  time.sleep(3)\n",
    "  print(\"micos eco pos :\")\n",
    "  print(micos_eco.pos())\n",
    "    "
   ]
  },
  {
   "cell_type": "code",
   "execution_count": 2,
   "metadata": {},
   "outputs": [
    {
     "name": "stdout",
     "output_type": "stream",
     "text": [
      "### test micos ###\n",
      "(76.5, 69.0, 0.0)\n",
      "\n",
      "\n",
      "### test phidrive ###\n",
      "0.0\n",
      "\n",
      "\n",
      "### test HAMEG TRB ###\n",
      "device: /dev/ttyUSB_HAMEG_TRB\n",
      "volt 24.000000 curr 0.585400 state 1\n",
      "volt 24.000000 curr 0.585300 state 1\n",
      "volt 2.000000 curr 0.026200 state 1\n",
      "volt 1.500000 curr 0.247300 state 1\n",
      "\n",
      "\n",
      "### test HAMEG lv ###\n",
      "device: /dev/ttyUSB_HAMEG_LV\n",
      "volt 4.000000 curr 0.422800 state 1\n",
      "volt 5.000000 curr 0.346700 state 1\n",
      "volt 0.000000 curr 0.000000 state 0\n",
      "volt 5.000000 curr 0.000000 state 1\n",
      "\n",
      "\n"
     ]
    }
   ],
   "source": [
    "print(\"### test micos ###\")\n",
    "print(micos_eco.pos())\n",
    "print(\"\\n\")\n",
    "\n",
    "print(\"### test phidrive ###\")\n",
    "print(phidrive.get_angle())\n",
    "print(\"\\n\")\n",
    "\n",
    "print(\"### test HAMEG TRB ###\")\n",
    "hameg_trb.report()\n",
    "print(\"\\n\")\n",
    "\n",
    "print(\"### test HAMEG lv ###\")\n",
    "hameg_lv.report()\n",
    "print(\"\\n\")"
   ]
  },
  {
   "cell_type": "code",
   "execution_count": 3,
   "metadata": {},
   "outputs": [
    {
     "name": "stdout",
     "output_type": "stream",
     "text": [
      "(76.5, 69.0, 0.0)\n"
     ]
    }
   ],
   "source": [
    "print(micos_eco.pos())"
   ]
  },
  {
   "cell_type": "code",
   "execution_count": 4,
   "metadata": {},
   "outputs": [],
   "source": [
    "#micos_eco.move(y=100,x=100) ## far side\n",
    "#micos_eco.move(y=0,x=100) ## units in mm\n",
    "#micos_eco.move(y=100,x=0) ## units in mm\n",
    "#micos_eco.move(y=70,x=0) ## strahlhoehe\n",
    "#micos_eco.move(x=0,y=0) ## parking pos"
   ]
  },
  {
   "cell_type": "code",
   "execution_count": 5,
   "metadata": {},
   "outputs": [],
   "source": [
    "\n",
    "\n",
    "x_offset = 0\n",
    "y_offset = 0\n",
    "\n",
    "# if Si-Strip\n",
    "x_offset = 50\n",
    "y_offset = 30"
   ]
  },
  {
   "cell_type": "code",
   "execution_count": 6,
   "metadata": {},
   "outputs": [
    {
     "name": "stdout",
     "output_type": "stream",
     "text": [
      "(68.0, 69.0, 0.0)\n",
      "done\n"
     ]
    }
   ],
   "source": [
    "#micos_eco.move(x=18,y=39) ## maximum of diamond rate in beam \n",
    "micos_eco.move(x=18+x_offset,y=39+y_offset) ## maximum of diamond rate in beam "
   ]
  },
  {
   "cell_type": "code",
   "execution_count": 7,
   "metadata": {
    "scrolled": true
   },
   "outputs": [
    {
     "name": "stdout",
     "output_type": "stream",
     "text": [
      "(68.0, 65.0, 0.0)\n",
      "done\n",
      "pos: x: 68.000000 y: 65.000000\n",
      "scint_rate: 1624394.000000\n",
      "dut_rate: 7337.000000\n",
      "dut/trigger rate: 0.004517\n",
      "okay, next step\n",
      "(68.0, 65.5, 0.0)\n",
      "done\n",
      "pos: x: 68.000000 y: 65.500000\n",
      "scint_rate: 1608905.000000\n",
      "dut_rate: 8668.000000\n",
      "dut/trigger rate: 0.005388\n",
      "okay, next step\n",
      "(68.0, 66.0, 0.0)\n",
      "done\n",
      "pos: x: 68.000000 y: 66.000000\n",
      "scint_rate: 1614088.000000\n",
      "dut_rate: 9550.000000\n",
      "dut/trigger rate: 0.005917\n",
      "okay, next step\n",
      "(68.0, 66.5, 0.0)\n",
      "done\n",
      "pos: x: 68.000000 y: 66.500000\n",
      "scint_rate: 1614272.000000\n",
      "dut_rate: 10906.000000\n",
      "dut/trigger rate: 0.006756\n",
      "okay, next step\n",
      "(68.0, 67.0, 0.0)\n",
      "done\n",
      "pos: x: 68.000000 y: 67.000000\n",
      "scint_rate: 1595581.000000\n",
      "dut_rate: 12481.000000\n",
      "dut/trigger rate: 0.007822\n",
      "okay, next step\n",
      "(68.0, 67.5, 0.0)\n",
      "done\n",
      "pos: x: 68.000000 y: 67.500000\n",
      "scint_rate: 1616392.000000\n",
      "dut_rate: 13212.000000\n",
      "dut/trigger rate: 0.008174\n",
      "okay, next step\n",
      "(68.0, 68.0, 0.0)\n",
      "done\n",
      "pos: x: 68.000000 y: 68.000000\n",
      "scint_rate: 1603041.000000\n",
      "dut_rate: 13493.000000\n",
      "dut/trigger rate: 0.008417\n",
      "okay, next step\n",
      "(68.0, 68.5, 0.0)\n",
      "done\n",
      "pos: x: 68.000000 y: 68.500000\n",
      "scint_rate: 1604165.000000\n",
      "dut_rate: 13053.000000\n",
      "dut/trigger rate: 0.008137\n",
      "okay, next step\n",
      "(68.0, 69.0, 0.0)\n",
      "done\n",
      "pos: x: 68.000000 y: 69.000000\n",
      "scint_rate: 1604741.000000\n",
      "dut_rate: 12878.000000\n",
      "dut/trigger rate: 0.008025\n",
      "okay, next step\n",
      "(68.0, 69.5, 0.0)\n",
      "done\n",
      "pos: x: 68.000000 y: 69.500000\n",
      "scint_rate: 1613584.000000\n",
      "dut_rate: 12692.000000\n",
      "dut/trigger rate: 0.007866\n",
      "okay, next step\n",
      "(68.0, 70.0, 0.0)\n",
      "done\n",
      "pos: x: 68.000000 y: 70.000000\n",
      "scint_rate: 1603057.000000\n",
      "dut_rate: 13584.000000\n",
      "dut/trigger rate: 0.008474\n",
      "okay, next step\n",
      "(68.0, 70.5, 0.0)\n",
      "done\n",
      "pos: x: 68.000000 y: 70.500000\n",
      "scint_rate: 1604999.000000\n",
      "dut_rate: 13235.000000\n",
      "dut/trigger rate: 0.008246\n",
      "okay, next step\n",
      "(68.0, 71.0, 0.0)\n",
      "done\n",
      "pos: x: 68.000000 y: 71.000000\n",
      "scint_rate: 1600274.000000\n",
      "dut_rate: 12830.000000\n",
      "dut/trigger rate: 0.008017\n",
      "okay, next step\n",
      "(68.0, 71.5, 0.0)\n",
      "done\n",
      "pos: x: 68.000000 y: 71.500000\n",
      "scint_rate: 1604304.000000\n",
      "dut_rate: 12178.000000\n",
      "dut/trigger rate: 0.007591\n",
      "okay, next step\n",
      "(68.0, 72.0, 0.0)\n",
      "done\n",
      "pos: x: 68.000000 y: 72.000000\n",
      "scint_rate: 1584386.000000\n",
      "dut_rate: 12936.000000\n",
      "dut/trigger rate: 0.008165\n",
      "okay, next step\n",
      "(68.0, 72.5, 0.0)\n",
      "done\n",
      "pos: x: 68.000000 y: 72.500000\n",
      "scint_rate: 1609181.000000\n",
      "dut_rate: 11061.000000\n",
      "dut/trigger rate: 0.006874\n",
      "okay, next step\n",
      "(68.0, 73.0, 0.0)\n",
      "done\n",
      "pos: x: 68.000000 y: 73.000000\n",
      "scint_rate: 1602236.000000\n",
      "dut_rate: 10205.000000\n",
      "dut/trigger rate: 0.006369\n",
      "okay, next step\n",
      "(68.0, 73.5, 0.0)\n",
      "done\n",
      "pos: x: 68.000000 y: 73.500000\n",
      "scint_rate: 1604498.000000\n",
      "dut_rate: 10627.000000\n",
      "dut/trigger rate: 0.006623\n",
      "okay, next step\n",
      "(68.0, 74.0, 0.0)\n",
      "done\n",
      "pos: x: 68.000000 y: 74.000000\n",
      "scint_rate: 1613021.000000\n",
      "dut_rate: 9967.000000\n",
      "dut/trigger rate: 0.006179\n",
      "okay, next step\n",
      "(68.0, 74.5, 0.0)\n",
      "done\n",
      "pos: x: 68.000000 y: 74.500000\n",
      "scint_rate: 1600627.000000\n",
      "dut_rate: 8244.000000\n",
      "dut/trigger rate: 0.005150\n",
      "okay, next step\n",
      "scan finished\n",
      "[[ 0.00451676]\n",
      " [ 0.00538752]\n",
      " [ 0.00591665]\n",
      " [ 0.00675599]\n",
      " [ 0.00782223]\n",
      " [ 0.00817376]\n",
      " [ 0.00841713]\n",
      " [ 0.00813694]\n",
      " [ 0.00802497]\n",
      " [ 0.00786572]\n",
      " [ 0.00847381]\n",
      " [ 0.00824611]\n",
      " [ 0.00801738]\n",
      " [ 0.00759083]\n",
      " [ 0.00816468]\n",
      " [ 0.00687368]\n",
      " [ 0.00636922]\n",
      " [ 0.00662326]\n",
      " [ 0.00617909]\n",
      " [ 0.00515048]]\n"
     ]
    }
   ],
   "source": [
    "\n",
    "\n",
    "#X = np.arange(15+x_offset, 22+x_offset+5, 0.5)\n",
    "X = [18+x_offset]\n",
    "Y = np.arange(35+y_offset, 45+y_offset, 0.5)\n",
    "#Y = [39+y_offset]\n",
    "\n",
    "\n",
    "rates = np.zeros(( len(Y) , len(X)))\n",
    "dut_rates = np.zeros(( len(Y) , len(X)))\n",
    "trigger_rates = np.zeros(( len(Y) , len(X)))\n",
    "\n",
    "acq_time=76\n",
    "trigger_rate_threshold=4000\n",
    "\n",
    "#print(rates)\n",
    "\n",
    "i=0\n",
    "j=0\n",
    "for y in Y:\n",
    "  j=0\n",
    "  for x in X:\n",
    "    micos_eco.move(x=x,y=y)\n",
    "    \n",
    "    \n",
    "    while True:\n",
    "    \n",
    "      curr_rates = scalers.scaler_rate(\"0x0351\",[3,30],acq_time)\n",
    "      scint_rate = curr_rates[1]\n",
    "      dut_rate = curr_rates[0]\n",
    "    \n",
    "      print(\"pos: x: {:f} y: {:f}\".format(x,y))\n",
    "      print(\"scint_rate: {:f}\".format(scint_rate))\n",
    "      print(\"dut_rate: {:f}\".format(dut_rate))\n",
    "      print(\"dut/trigger rate: {:f}\".format( dut_rate/(scint_rate+0.001)))\n",
    "      \n",
    "      if scint_rate > trigger_rate_threshold*acq_time:\n",
    "        rates[i,j] = dut_rate/scint_rate\n",
    "        dut_rates[i,j] = dut_rate\n",
    "        trigger_rates[i,j] = scint_rate\n",
    "        print(\"okay, next step\")\n",
    "        break\n",
    "      else:\n",
    "        print(\"spill break, measure again\")\n",
    "    \n",
    "    j+=1\n",
    "  i+=1\n",
    "\n",
    "print(\"scan finished\")\n",
    "\n",
    "print(rates)"
   ]
  },
  {
   "cell_type": "code",
   "execution_count": 8,
   "metadata": {},
   "outputs": [
    {
     "name": "stdout",
     "output_type": "stream",
     "text": [
      "saving to /workdir/jupyter/beam_profile_w_scalers_data/000.svg\n",
      "saving to /workdir/jupyter/beam_profile_w_scalers_data/000.pickle\n"
     ]
    },
    {
     "data": {
      "image/png": "[encoded data removed]",
      "text/plain": [
       "<matplotlib.figure.Figure at 0x7fb7e6ba0e48>"
      ]
     },
     "metadata": {
      "needs_background": "light"
     },
     "output_type": "display_data"
    },
    {
     "name": "stdout",
     "output_type": "stream",
     "text": [
      "saving to /workdir/jupyter/beam_profile_w_scalers_data/001.svg\n",
      "saving to /workdir/jupyter/beam_profile_w_scalers_data/001.pickle\n"
     ]
    },
    {
     "data": {
      "image/png": "[encoded data removed]",
      "text/plain": [
       "<matplotlib.figure.Figure at 0x7fb7e6b0d550>"
      ]
     },
     "metadata": {
      "needs_background": "light"
     },
     "output_type": "display_data"
    },
    {
     "name": "stdout",
     "output_type": "stream",
     "text": [
      "saving to /workdir/jupyter/beam_profile_w_scalers_data/002.svg\n",
      "saving to /workdir/jupyter/beam_profile_w_scalers_data/002.pickle\n"
     ]
    },
    {
     "data": {
      "image/png": "[encoded data removed]",
      "text/plain": [
       "<matplotlib.figure.Figure at 0x7fb7e6aa16a0>"
      ]
     },
     "metadata": {
      "needs_background": "light"
     },
     "output_type": "display_data"
    },
    {
     "name": "stdout",
     "output_type": "stream",
     "text": [
      "saving to /workdir/jupyter/beam_profile_w_scalers_data/relative_rates_matrix.pickle\n",
      "saving to /workdir/jupyter/beam_profile_w_scalers_data/dut_rates_matrix.pickle\n",
      "saving to /workdir/jupyter/beam_profile_w_scalers_data/trigger_rates_matrix.pickle\n",
      "saving to /workdir/jupyter/beam_profile_w_scalers_data/X_mm.pickle\n",
      "saving to /workdir/jupyter/beam_profile_w_scalers_data/Y_mm.pickle\n"
     ]
    }
   ],
   "source": [
    "clear_data_dir()\n",
    "\n",
    "plt.imshow(rates)\n",
    "show(plt)\n",
    "\n",
    "plt.plot(X,sum(rates)/len(Y))\n",
    "plt.xlabel(\"micos pos X (mm)\")\n",
    "plt.ylabel(\"dut/trigger rate\")\n",
    "show(plt)\n",
    "\n",
    "plt.plot(Y,sum(rates.transpose())/len(X))\n",
    "plt.xlabel(\"micos pos Y (mm)\")\n",
    "plt.ylabel(\"dut/trigger rate\")\n",
    "show(plt)\n",
    "\n",
    "pickle_this(rates,\"relative_rates_matrix\")\n",
    "pickle_this(dut_rates,\"dut_rates_matrix\")\n",
    "pickle_this(trigger_rates,\"trigger_rates_matrix\")\n",
    "pickle_this(X,\"X_mm\")\n",
    "pickle_this(Y,\"Y_mm\")"
   ]
  },
  {
   "cell_type": "code",
   "execution_count": 10,
   "metadata": {},
   "outputs": [],
   "source": [
    "archive(label=\"Y_Si_76s\")"
   ]
  }
 ],
 "metadata": {
  "kernelspec": {
   "display_name": "Python 3",
   "language": "python",
   "name": "python3"
  },
  "language_info": {
   "codemirror_mode": {
    "name": "ipython",
    "version": 3
   },
   "file_extension": ".py",
   "mimetype": "text/x-python",
   "name": "python",
   "nbconvert_exporter": "python",
   "pygments_lexer": "ipython3",
   "version": "3.6.8"
  }
 },
 "nbformat": 4,
 "nbformat_minor": 2
}
