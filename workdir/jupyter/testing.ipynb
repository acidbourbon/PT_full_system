{
 "cells": [
  {
   "cell_type": "code",
   "execution_count": 17,
   "metadata": {},
   "outputs": [
    {
     "name": "stdout",
     "output_type": "stream",
     "text": [
      "1000\n",
      "10000\n",
      "50000\n",
      "100000\n",
      "1000000\n"
     ]
    }
   ],
   "source": [
    "#pulse generator\n",
    "#import rigol as pulsgenerator \n",
    "#pulsgenerator.output_on('2')\n",
    "#pulsgenerator.output_off('2')\n",
    "\n",
    "import os\n",
    "import time\n",
    "os.system(\"curl 'http://jspc29:1290/tools/vxi/vxi.pl?192.168.0.42&%3AOUTPUT2%20ON'\")\n",
    "os.system(\"curl 'http://jspc29:1290/tools/vxi/vxi.pl?192.168.0.42&%3ASOUR2%3AFREQ%209000000'\")\n",
    "os.system(\"curl 'http://jspc29:1290/tools/vxi/vxi.pl?192.168.0.42&%3ASOUR1%3APULS%3AWIDT%20200n%0A'\")\n",
    "os.system(\"curl 'http://jspc29:1290/tools/vxi/vxi.pl?192.168.0.42&%3ASOUR1%3AVOLT%3ALEV%3AHIGH%20250mV%0A'\")\n",
    "os.system(\"curl 'http://jspc29:1290/tools/vxi/vxi.pl?192.168.0.42&%3ASOUR1%3AVOLT%3ALEV%3ALOW%200mV%0A'\")\n",
    "os.system(\"curl 'http://jspc29:1290/tools/vxi/vxi.pl?192.168.0.42&%3ASOUR1%3APULS%3AWIDT%20200n'\")\n",
    "os.system(\"curl 'http://jspc29:1290/tools/vxi/vxi.pl?192.168.0.42&%3ASOUR1%3APULS%3ATRAN%3ALEAD%203ns'\")\n",
    "os.system(\"curl 'http://jspc29:1290/tools/vxi/vxi.pl?192.168.0.42&%3ASOUR1%3APULS%3ATRAN%3ATRA%203ns'\")\n",
    "#os.system(\"curl 'http://jspc29:1290/tools/vxi/vxi.pl?192.168.0.42'\")\n",
    "#os.system(\"curl 'http://jspc29:1290/tools/vxi/vxi.pl?192.168.0.42'\")\n",
    "#os.system(\"curl 'http://jspc29:1290/tools/vxi/vxi.pl?192.168.0.42'\")\n",
    "#os.system(\"curl 'http://jspc29:1290/tools/vxi/vxi.pl?192.168.0.42'\")\n",
    "\n",
    "#os.system(\"curl 'http://jspc29:1290/tools/vxi/vxi.pl?192.168.0.42&%3AOUTPUT2%20OFF'\")\n",
    "\n",
    "\n",
    "\n",
    "#vxi11_cmd tekafg \"SOUR1:FREQ 1000\"   \n",
    "#vxi11_cmd tekafg \"SOUR1:VOLT:LEV:HIGH 350mV\"\n",
    "#vxi11_cmd tekafg \"SOUR1:VOLT:LEV:LOW 0mV\"\n",
    "#vxi11_cmd tekafg \"SOUR1:VOLT:LEV:OFFS 0mV\"\n",
    "#vxi11_cmd tekafg \"SOUR1:PULS:WIDT 200n\"\n",
    "#vxi11_cmd tekafg \"SOUR1:PULS:DEL 0\"\n",
    "#vxi11_cmd tekafg \"SOUR1:PULS:TRAN:LEAD 3ns\"\n",
    "#vxi11_cmd tekafg \"SOUR1:PULS:TRAN:TRA 3ns\"\n",
    "#vxi11_cmd tekafg \"OUTP1:POL INV\"\n",
    "\n",
    "#vxi11_cmd tekafg \"SOUR2:FREQ 1000\"\n",
    "#vxi11_cmd tekafg \"SOUR2:VOLT:LOW 0mV\"\n",
    "#vxi11_cmd tekafg \"SOUR2:VOLT:LEV:HIGH 2500mV\"\n",
    "#vxi11_cmd tekafg \"SOUR2:VOLT:OFFS 0mV\"\n",
    "#vxi11_cmd tekafg \"SOUR2:PULS:WIDT 300n\"\n",
    "#vxi11_cmd tekafg \"SOUR2:PULS:DEL 0\"\n",
    "#vxi11_cmd tekafg \"SOUR2:PULS:TRAN:LEAD 25ns\"\n",
    "#vxi11_cmd tekafg \"SOUR2:PULS:TRAN:TRA 50ns\"\n",
    "#vxi11_cmd tekafg \"OUTP2:POL NORM\"\n",
    "\n",
    "#vxi11_cmd tekafg \"OUTP1:STAT ON\"\n",
    "for freq in [1000,10000,50000,100000,1000000]:\n",
    "    os.system(\"curl 'http://jspc29:1290/tools/vxi/vxi.pl?192.168.0.42&%3ASOUR2%3AFREQ%20{:d}'\".format(freq))\n",
    "    time.sleep(5)\n",
    "    print(freq)"
   ]
  }
 ],
 "metadata": {
  "kernelspec": {
   "display_name": "Python 3",
   "language": "python",
   "name": "python3"
  },
  "language_info": {
   "codemirror_mode": {
    "name": "ipython",
    "version": 3
   },
   "file_extension": ".py",
   "mimetype": "text/x-python",
   "name": "python",
   "nbconvert_exporter": "python",
   "pygments_lexer": "ipython3",
   "version": "3.6.9"
  }
 },
 "nbformat": 4,
 "nbformat_minor": 4
}
