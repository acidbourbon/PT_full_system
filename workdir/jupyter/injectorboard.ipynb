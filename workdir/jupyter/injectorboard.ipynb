{
 "cells": [
  {
   "cell_type": "code",
   "execution_count": 1,
   "metadata": {},
   "outputs": [],
   "source": [
    "# panda Injectorboard control:\n",
    "from PANDAmux import PANDAinjectors\n",
    "import time\n",
    "from signal_generator import signal_generator\n",
    "gen = signal_generator(\"ip:192.168.0.197:5025\")\n",
    "gen.initialize((1,2))\n",
    "freq = 1.0e3\n",
    "amp=1.1\n",
    "gen.set_frequency((1,2),freq)\n",
    "gen.set_amplitude((1,2),amp)\n",
    "gen.set_output_state((1,2),True)\n",
    "   "
   ]
  },
  {
   "cell_type": "code",
   "execution_count": 2,
   "metadata": {},
   "outputs": [],
   "source": [
    "gen.set_output_state((1,2),False)"
   ]
  },
  {
   "cell_type": "code",
   "execution_count": 3,
   "metadata": {},
   "outputs": [
    {
     "name": "stdout",
     "output_type": "stream",
     "text": [
      "\u001b[0;35mSearching for devices...\u001b[0m\n",
      "\u001b[1;31mFactor 00, value 1.32767 (65535): No data in EEPROM!\u001b[0m\n",
      "\u001b[1;31mFactor 01, value 1.32767 (65535): No data in EEPROM!\u001b[0m\n",
      "\u001b[1;31mFactor 02, value 1.32767 (65535): No data in EEPROM!\u001b[0m\n",
      "\u001b[1;31mFactor 03, value 1.32767 (65535): No data in EEPROM!\u001b[0m\n",
      "\u001b[1;31mFactor 04, value 1.32767 (65535): No data in EEPROM!\u001b[0m\n",
      "\u001b[1;31mFactor 05, value 1.32767 (65535): No data in EEPROM!\u001b[0m\n",
      "\u001b[1;31mFactor 06, value 1.32767 (65535): No data in EEPROM!\u001b[0m\n",
      "\u001b[1;31mFactor 07, value 1.32767 (65535): No data in EEPROM!\u001b[0m\n",
      "\u001b[1;31mFactor 08, value 1.32767 (65535): No data in EEPROM!\u001b[0m\n",
      "\u001b[1;31mFactor 09, value 1.32767 (65535): No data in EEPROM!\u001b[0m\n",
      "\u001b[1;31mFactor 10, value 1.32767 (65535): No data in EEPROM!\u001b[0m\n",
      "\u001b[1;31mFactor 11, value 1.32767 (65535): No data in EEPROM!\u001b[0m\n",
      "\u001b[1;31mFactor 12, value 1.32767 (65535): No data in EEPROM!\u001b[0m\n",
      "\u001b[1;31mFactor 13, value 1.32767 (65535): No data in EEPROM!\u001b[0m\n",
      "\u001b[1;31mFactor 14, value 1.32767 (65535): No data in EEPROM!\u001b[0m\n",
      "\u001b[1;31mFactor 15, value 1.32767 (65535): No data in EEPROM!\u001b[0m\n",
      "\u001b[0;32mPANDA charge injector on port /dev/ttyPANDAmux is connected ...\t Hardware address: 00\u001b[0m\n",
      "\u001b[0;35mList of PANDA injectors (muxes):\u001b[0m\n",
      "\u001b[0;32m  Address: 00  Port: /dev/ttyPANDAmux\u001b[0m\n",
      "\u001b[1;34mGlobal conversion factor (amplitude [V] -> charge [ke-]) is set to: 125.676724 [ke-/V]\u001b[0m\n",
      "channel  1\n"
     ]
    },
    {
     "ename": "KeyboardInterrupt",
     "evalue": "",
     "output_type": "error",
     "traceback": [
      "\u001b[0;31m---------------------------------------------------------------------------\u001b[0m",
      "\u001b[0;31mKeyboardInterrupt\u001b[0m                         Traceback (most recent call last)",
      "\u001b[0;32m<ipython-input-3-d59a53bc75cd>\u001b[0m in \u001b[0;36m<module>\u001b[0;34m\u001b[0m\n\u001b[1;32m      6\u001b[0m     \u001b[0mprint\u001b[0m\u001b[0;34m(\u001b[0m\u001b[0;34m\"channel \"\u001b[0m\u001b[0;34m,\u001b[0m \u001b[0mch\u001b[0m\u001b[0;34m+\u001b[0m\u001b[0;36m1\u001b[0m\u001b[0;34m)\u001b[0m\u001b[0;34m\u001b[0m\u001b[0;34m\u001b[0m\u001b[0m\n\u001b[1;32m      7\u001b[0m     \u001b[0mInjectors\u001b[0m\u001b[0;34m.\u001b[0m\u001b[0msetActiveChannel\u001b[0m\u001b[0;34m(\u001b[0m\u001b[0mch\u001b[0m\u001b[0;34m)\u001b[0m\u001b[0;34m\u001b[0m\u001b[0;34m\u001b[0m\u001b[0m\n\u001b[0;32m----> 8\u001b[0;31m     \u001b[0mtime\u001b[0m\u001b[0;34m.\u001b[0m\u001b[0msleep\u001b[0m\u001b[0;34m(\u001b[0m\u001b[0;36m2\u001b[0m\u001b[0;34m)\u001b[0m\u001b[0;34m\u001b[0m\u001b[0;34m\u001b[0m\u001b[0m\n\u001b[0m\u001b[1;32m      9\u001b[0m \u001b[0;34m\u001b[0m\u001b[0m\n\u001b[1;32m     10\u001b[0m \u001b[0mgen\u001b[0m\u001b[0;34m.\u001b[0m\u001b[0mset_output_state\u001b[0m\u001b[0;34m(\u001b[0m\u001b[0;34m(\u001b[0m\u001b[0;36m1\u001b[0m\u001b[0;34m,\u001b[0m\u001b[0;36m2\u001b[0m\u001b[0;34m)\u001b[0m\u001b[0;34m,\u001b[0m\u001b[0;32mFalse\u001b[0m\u001b[0;34m)\u001b[0m\u001b[0;34m\u001b[0m\u001b[0;34m\u001b[0m\u001b[0m\n",
      "\u001b[0;31mKeyboardInterrupt\u001b[0m: "
     ]
    }
   ],
   "source": [
    "     \n",
    "\n",
    "# --- Charge Injectors configuration ----------\n",
    "\n",
    "Injectors = PANDAinjectors()\n",
    "\n",
    "for ch in list(range(0,8)):\n",
    "    print(\"channel \", ch+1)\n",
    "    Injectors.setActiveChannel(ch)\n",
    "    time.sleep(2)\n",
    "    \n",
    "gen.set_output_state((1,2),False)"
   ]
  }
 ],
 "metadata": {
  "kernelspec": {
   "display_name": "Python 3",
   "language": "python",
   "name": "python3"
  },
  "language_info": {
   "codemirror_mode": {
    "name": "ipython",
    "version": 3
   },
   "file_extension": ".py",
   "mimetype": "text/x-python",
   "name": "python",
   "nbconvert_exporter": "python",
   "pygments_lexer": "ipython3",
   "version": "3.6.9"
  }
 },
 "nbformat": 4,
 "nbformat_minor": 4
}
