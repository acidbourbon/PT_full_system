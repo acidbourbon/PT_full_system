{
 "cells": [
  {
   "cell_type": "code",
   "execution_count": 4,
   "metadata": {},
   "outputs": [
    {
     "name": "stdout",
     "output_type": "stream",
     "text": [
      "reusing socket\n"
     ]
    }
   ],
   "source": [
    "# panda Injectorboard control:\n",
    "from PANDAmux import PANDAinjectors\n",
    "import time\n",
    "from signal_generator import signal_generator\n",
    "gen = signal_generator(\"ip:192.168.0.197:5025\")\n",
    "gen.initialize((1,2))\n",
    "freq = 1.0e3\n",
    "amp=1.1\n",
    "gen.set_frequency((1,2),freq)\n",
    "gen.set_amplitude((1,2),amp)\n",
    "gen.set_output_state((1,2),True)\n",
    "   "
   ]
  },
  {
   "cell_type": "code",
   "execution_count": 10,
   "metadata": {},
   "outputs": [],
   "source": [
    "gen.set_output_state((1,2),False)"
   ]
  },
  {
   "cell_type": "code",
   "execution_count": 9,
   "metadata": {},
   "outputs": [
    {
     "name": "stdout",
     "output_type": "stream",
     "text": [
      "\u001b[0;35mSearching for devices...\u001b[0m\n",
      "\u001b[0;35mList of PANDA injectors (muxes):\u001b[0m\n",
      "\u001b[1;34mGlobal conversion factor (amplitude [V] -> charge [ke-]) is set to: 125.676724 [ke-/V]\u001b[0m\n",
      "channel  1\n",
      "channel  2\n",
      "channel  3\n",
      "channel  4\n",
      "channel  5\n",
      "channel  6\n",
      "channel  7\n",
      "channel  8\n"
     ]
    }
   ],
   "source": [
    "     \n",
    "\n",
    "# --- Charge Injectors configuration ----------\n",
    "\n",
    "Injectors = PANDAinjectors()\n",
    "\n",
    "for ch in list(range(0,8)):\n",
    "    print(\"channel \", ch+1)\n",
    "    Injectors.setActiveChannel(ch)\n",
    "    time.sleep(2)\n",
    "    \n",
    "gen.set_output_state((1,2),False)"
   ]
  },
  {
   "cell_type": "code",
   "execution_count": null,
   "metadata": {},
   "outputs": [],
   "source": []
  }
 ],
 "metadata": {
  "kernelspec": {
   "display_name": "Python 3",
   "language": "python",
   "name": "python3"
  },
  "language_info": {
   "codemirror_mode": {
    "name": "ipython",
    "version": 3
   },
   "file_extension": ".py",
   "mimetype": "text/x-python",
   "name": "python",
   "nbconvert_exporter": "python",
   "pygments_lexer": "ipython3",
   "version": "3.6.9"
  }
 },
 "nbformat": 4,
 "nbformat_minor": 4
}
