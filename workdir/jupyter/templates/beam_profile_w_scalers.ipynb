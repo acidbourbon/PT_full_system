{
 "cells": [
  {
   "cell_type": "code",
   "execution_count": 1,
   "metadata": {},
   "outputs": [],
   "source": [
    "import hameg_trb \n",
    "import hameg_lv  \n",
    "import phidrive\n",
    "import micos_eco\n",
    "import wallplugs\n",
    "import numpy as np \n",
    "from matplotlib import pyplot as plt\n",
    "# scope?\n",
    "\n",
    "import time\n",
    "\n",
    "#import ROOT\n",
    "import os\n",
    "from my_utils import *\n",
    "#import fst\n",
    "import scalers\n",
    "\n",
    "def power_cycle_usb():\n",
    "  wallplugs.a_off()\n",
    "  time.sleep(3)\n",
    "  wallplugs.a_on()\n",
    "  time.sleep(3)\n",
    "    \n",
    "def power_cycle_micos():\n",
    "  wallplugs.b_off()\n",
    "  time.sleep(3)\n",
    "  wallplugs.b_on()\n",
    "  time.sleep(6)\n",
    "  micos_eco.send_cmd(\"1 1 setaxis\")\n",
    "  micos_eco.send_cmd(\"1 2 setaxis\")\n",
    "  micos_eco.send_cmd(\"2.0 1 setpitch\")\n",
    "  micos_eco.send_cmd(\"2.0 2 setpitch\")\n",
    "  micos_eco.cal()\n",
    "  time.sleep(3)\n",
    "  print(\"micos eco pos :\")\n",
    "  print(micos_eco.pos())\n",
    "    "
   ]
  },
  {
   "cell_type": "code",
   "execution_count": 2,
   "metadata": {},
   "outputs": [
    {
     "name": "stdout",
     "output_type": "stream",
     "text": [
      "### test micos ###\n",
      "(80.2, 71.0, 0.0)\n",
      "\n",
      "\n",
      "### test phidrive ###\n",
      "0.0\n",
      "\n",
      "\n",
      "### test HAMEG TRB ###\n",
      "device: /dev/ttyUSB_HAMEG_TRB\n",
      "volt 24.000000 curr 0.580500 state 1\n",
      "volt 23.999000 curr 0.580400 state 1\n",
      "volt 2.000000 curr 0.026800 state 1\n",
      "volt 1.500000 curr 0.248100 state 1\n",
      "\n",
      "\n",
      "### test HAMEG lv ###\n",
      "device: /dev/ttyUSB_HAMEG_LV\n",
      "volt 4.000000 curr 0.426300 state 1\n",
      "volt 5.000000 curr 0.346700 state 1\n",
      "volt 5.000000 curr 0.083800 state 1\n",
      "volt 5.000000 curr 0.000000 state 1\n",
      "\n",
      "\n"
     ]
    }
   ],
   "source": [
    "print(\"### test micos ###\")\n",
    "print(micos_eco.pos())\n",
    "print(\"\\n\")\n",
    "\n",
    "print(\"### test phidrive ###\")\n",
    "print(phidrive.get_angle())\n",
    "print(\"\\n\")\n",
    "\n",
    "print(\"### test HAMEG TRB ###\")\n",
    "hameg_trb.report()\n",
    "print(\"\\n\")\n",
    "\n",
    "print(\"### test HAMEG lv ###\")\n",
    "hameg_lv.report()\n",
    "print(\"\\n\")"
   ]
  },
  {
   "cell_type": "code",
   "execution_count": 3,
   "metadata": {},
   "outputs": [
    {
     "name": "stdout",
     "output_type": "stream",
     "text": [
      "(80.2, 71.0, 0.0)\n"
     ]
    }
   ],
   "source": [
    "print(micos_eco.pos())"
   ]
  },
  {
   "cell_type": "code",
   "execution_count": 4,
   "metadata": {},
   "outputs": [],
   "source": [
    "#micos_eco.move(y=100,x=100) ## far side\n",
    "#micos_eco.move(y=0,x=100) ## units in mm\n",
    "#micos_eco.move(y=100,x=0) ## units in mm\n",
    "#micos_eco.move(y=70,x=0) ## strahlhoehe\n",
    "#micos_eco.move(x=0,y=0) ## parking pos"
   ]
  },
  {
   "cell_type": "code",
   "execution_count": 5,
   "metadata": {},
   "outputs": [],
   "source": [
    "#micos_eco.move(x=18,y=39) ## maximum of diamond rate in beam \n",
    "#micos_eco.move(x=18+x_offset,y=39+y_offset) ## maximum of diamond rate in beam "
   ]
  },
  {
   "cell_type": "code",
   "execution_count": 6,
   "metadata": {
    "scrolled": true
   },
   "outputs": [
    {
     "name": "stdout",
     "output_type": "stream",
     "text": [
      "(78.5, 65.0, 0.0)\n",
      "done\n",
      "## spill break ##\n",
      "## spill start ##\n",
      "pos: x: 78.500000 y: 65.000000\n",
      "scint_rate: 1062981.000000\n",
      "dut_rate: 48782.000000\n",
      "dut/trigger rate: 0.045892\n",
      "(78.5, 66.0, 0.0)\n",
      "done\n",
      ": : : : : : : : : : : : : : : : : : : : : : : : : ## spill break ##\n",
      ". . . . . . . . . . . ## spill start ##\n",
      "pos: x: 78.500000 y: 66.000000\n",
      "scint_rate: 1066148.000000\n",
      "dut_rate: 66670.000000\n",
      "dut/trigger rate: 0.062534\n",
      "(78.5, 67.0, 0.0)\n",
      "done\n",
      ": : : : : : : : : : : : : : : : : : : : : : : : : ## spill break ##\n",
      ". . . . . . . . . . . . ## spill start ##\n",
      "pos: x: 78.500000 y: 67.000000\n",
      "scint_rate: 1065780.000000\n",
      "dut_rate: 93950.000000\n",
      "dut/trigger rate: 0.088151\n",
      "(78.5, 68.0, 0.0)\n",
      "done\n",
      ": : : : : : : : : : : : : : : : : : : : : : : : : ## spill break ##\n",
      ". . . . . . . . . . . ## spill start ##\n",
      "pos: x: 78.500000 y: 68.000000\n",
      "scint_rate: 1049250.000000\n",
      "dut_rate: 106739.000000\n",
      "dut/trigger rate: 0.101729\n",
      "(78.5, 69.0, 0.0)\n",
      "done\n",
      ": : : : : : : : : : : : : : : : : : : : : : : : : : ## spill break ##\n",
      ". . . . . . . . . . . ## spill start ##\n",
      "pos: x: 78.500000 y: 69.000000\n",
      "scint_rate: 1054893.000000\n",
      "dut_rate: 143225.000000\n",
      "dut/trigger rate: 0.135772\n",
      "(78.5, 70.0, 0.0)\n",
      "done\n",
      ": : : : : : : : : : : : : : : : : : : : : : : : : ## spill break ##\n",
      ". . . . . . . . . . . . ## spill start ##\n",
      "pos: x: 78.500000 y: 70.000000\n",
      "scint_rate: 1059786.000000\n",
      "dut_rate: 160912.000000\n",
      "dut/trigger rate: 0.151834\n",
      "(78.5, 71.0, 0.0)\n",
      "done\n",
      ": : : : : : : : : : : : : : : : : : : : : : : : : ## spill break ##\n",
      ". . . . . . . . . . . ## spill start ##\n",
      "pos: x: 78.500000 y: 71.000000\n",
      "scint_rate: 1038422.000000\n",
      "dut_rate: 158784.000000\n",
      "dut/trigger rate: 0.152909\n",
      "(78.5, 72.0, 0.0)\n",
      "done\n",
      ": : : : : : : : : : : : : : : : : : : : : : : : : ## spill break ##\n",
      ". . . . . . . . . . . . ## spill start ##\n",
      "pos: x: 78.500000 y: 72.000000\n",
      "scint_rate: 1069893.000000\n",
      "dut_rate: 159563.000000\n",
      "dut/trigger rate: 0.149139\n",
      "(78.5, 73.0, 0.0)\n",
      "done\n",
      ": : : : : : : : : : : : : : : : : : : : : : : : : ## spill break ##\n",
      ". . . . . . . . . . . ## spill start ##\n",
      "pos: x: 78.500000 y: 73.000000\n",
      "scint_rate: 1083410.000000\n",
      "dut_rate: 151454.000000\n",
      "dut/trigger rate: 0.139794\n",
      "(78.5, 74.0, 0.0)\n",
      "done\n",
      ": : : : : : : : : : : : : : : : : : : : : : : : : ## spill break ##\n",
      ". . . . . . . . . . . . ## spill start ##\n",
      "pos: x: 78.500000 y: 74.000000\n",
      "scint_rate: 1093393.000000\n",
      "dut_rate: 124320.000000\n",
      "dut/trigger rate: 0.113701\n",
      "(78.5, 75.0, 0.0)\n",
      "done\n",
      ": : : : : : : : : : : : : : : : : : : : : : : : : ## spill break ##\n",
      ". . . . . . . . . . . ## spill start ##\n",
      "pos: x: 78.500000 y: 75.000000\n",
      "scint_rate: 1092429.000000\n",
      "dut_rate: 110832.000000\n",
      "dut/trigger rate: 0.101455\n",
      "(78.5, 76.0, 0.0)\n",
      "done\n",
      ": : : : : : : : : : : : : : : : : : : : : : : : : ## spill break ##\n",
      ". . . . . . . . . . . . ## spill start ##\n",
      "pos: x: 78.500000 y: 76.000000\n",
      "scint_rate: 1122508.000000\n",
      "dut_rate: 93545.000000\n",
      "dut/trigger rate: 0.083336\n",
      "(78.5, 77.0, 0.0)\n",
      "done\n",
      ": : : : : : : : : : : : : : : : : : : : : : : : : ## spill break ##\n",
      ". . . . . . . . . . . ## spill start ##\n",
      "pos: x: 78.500000 y: 77.000000\n",
      "scint_rate: 1115276.000000\n",
      "dut_rate: 70405.000000\n",
      "dut/trigger rate: 0.063128\n",
      "scan finished\n",
      "[[ 0.0458917 ]\n",
      " [ 0.06253353]\n",
      " [ 0.0881514 ]\n",
      " [ 0.10172885]\n",
      " [ 0.13577206]\n",
      " [ 0.15183443]\n",
      " [ 0.15290893]\n",
      " [ 0.14913921]\n",
      " [ 0.1397938 ]\n",
      " [ 0.11370111]\n",
      " [ 0.10145465]\n",
      " [ 0.08333571]\n",
      " [ 0.06312787]]\n"
     ]
    }
   ],
   "source": [
    "\n",
    "\n",
    "#X = np.arange(73, 85, 1)\n",
    "#X = [18+x_offset]\n",
    "#Y = np.arange(79-2, 69+3, 2)\n",
    "#Y = np.arange(69-6, 69+7, 2)\n",
    "#Y = [71]\n",
    "\n",
    "#X = np.arange(73, 85, 1)\n",
    "\n",
    "X = [78.5]\n",
    "Y = np.arange(71-6, 71+7, 1)\n",
    "\n",
    "dut_chan = 2 # ufsd in Padiwa\n",
    "trig_chan = 30 # alberto Scintillator\n",
    "\n",
    "rates = np.zeros(( len(Y) , len(X)))\n",
    "dut_rates = np.zeros(( len(Y) , len(X)))\n",
    "trigger_rates = np.zeros(( len(Y) , len(X)))\n",
    "\n",
    "\n",
    "poll_acq_time = 1\n",
    "acq_time=35\n",
    "\n",
    "\n",
    "trigger_rate_threshold=2000\n",
    "\n",
    "#print(rates)\n",
    "\n",
    "i=0\n",
    "j=0\n",
    "for y in Y:\n",
    "  j=0\n",
    "  for x in X:\n",
    "    micos_eco.move(x=x,y=y)\n",
    "    \n",
    "    ### wait for spill break\n",
    "    while True:\n",
    "      curr_rates = scalers.scaler_rate(\"0x0351\",[dut_chan,trig_chan],poll_acq_time)\n",
    "      scint_rate = curr_rates[1]\n",
    "      if scint_rate < trigger_rate_threshold*poll_acq_time:\n",
    "        print(\"## spill break ##\")\n",
    "        break\n",
    "      else:\n",
    "        print(\":\", end=\" \")\n",
    "        \n",
    "    ### wait for spill start\n",
    "    while True:\n",
    "      curr_rates = scalers.scaler_rate(\"0x0351\",[dut_chan,trig_chan],poll_acq_time)\n",
    "      scint_rate = curr_rates[1]\n",
    "      if scint_rate > trigger_rate_threshold*poll_acq_time:\n",
    "        print(\"## spill start ##\")\n",
    "        break\n",
    "      else:\n",
    "        print(\".\", end=\" \")\n",
    "        \n",
    "    curr_rates = scalers.scaler_rate(\"0x0351\",[dut_chan,trig_chan],acq_time)\n",
    "    scint_rate = curr_rates[1]\n",
    "    dut_rate = curr_rates[0]\n",
    "    rates[i,j] = dut_rate/scint_rate\n",
    "    dut_rates[i,j] = dut_rate\n",
    "    trigger_rates[i,j] = scint_rate\n",
    "    print(\"pos: x: {:f} y: {:f}\".format(x,y))\n",
    "    print(\"scint_rate: {:f}\".format(scint_rate))\n",
    "    print(\"dut_rate: {:f}\".format(dut_rate))\n",
    "    print(\"dut/trigger rate: {:f}\".format( dut_rate/(scint_rate+0.001)))\n",
    "    \n",
    "    j+=1\n",
    "  i+=1\n",
    "\n",
    "print(\"scan finished\")\n",
    "\n",
    "print(rates)"
   ]
  },
  {
   "cell_type": "code",
   "execution_count": 7,
   "metadata": {},
   "outputs": [
    {
     "name": "stdout",
     "output_type": "stream",
     "text": [
      "saving to /workdir/jupyter/beam_profile_w_scalers_data/000.svg\n",
      "saving to /workdir/jupyter/beam_profile_w_scalers_data/000.pickle\n"
     ]
    },
    {
     "data": {
      "image/png": "[encoded data removed]",
      "text/plain": [
       "<matplotlib.figure.Figure at 0x7fe13aaa9828>"
      ]
     },
     "metadata": {
      "needs_background": "light"
     },
     "output_type": "display_data"
    },
    {
     "name": "stdout",
     "output_type": "stream",
     "text": [
      "saving to /workdir/jupyter/beam_profile_w_scalers_data/001.svg\n",
      "saving to /workdir/jupyter/beam_profile_w_scalers_data/001.pickle\n"
     ]
    },
    {
     "data": {
      "image/png": "[encoded data removed]",
      "text/plain": [
       "<matplotlib.figure.Figure at 0x7fe137f34518>"
      ]
     },
     "metadata": {
      "needs_background": "light"
     },
     "output_type": "display_data"
    },
    {
     "name": "stdout",
     "output_type": "stream",
     "text": [
      "saving to /workdir/jupyter/beam_profile_w_scalers_data/002.svg\n",
      "saving to /workdir/jupyter/beam_profile_w_scalers_data/002.pickle\n"
     ]
    },
    {
     "data": {
      "image/png": "[encoded data removed]",
      "text/plain": [
       "<matplotlib.figure.Figure at 0x7fe137e1f748>"
      ]
     },
     "metadata": {
      "needs_background": "light"
     },
     "output_type": "display_data"
    },
    {
     "name": "stdout",
     "output_type": "stream",
     "text": [
      "saving to /workdir/jupyter/beam_profile_w_scalers_data/relative_rates_matrix.pickle\n",
      "saving to /workdir/jupyter/beam_profile_w_scalers_data/dut_rates_matrix.pickle\n",
      "saving to /workdir/jupyter/beam_profile_w_scalers_data/trigger_rates_matrix.pickle\n",
      "saving to /workdir/jupyter/beam_profile_w_scalers_data/X_mm.pickle\n",
      "saving to /workdir/jupyter/beam_profile_w_scalers_data/Y_mm.pickle\n"
     ]
    }
   ],
   "source": [
    "clear_data_dir()\n",
    "\n",
    "plt.imshow(rates)\n",
    "show(plt)\n",
    "\n",
    "plt.plot(X,sum(rates)/len(Y))\n",
    "plt.xlabel(\"micos pos X (mm)\")\n",
    "plt.ylabel(\"dut/trigger rate\")\n",
    "#plt.ylim(0,0.03)\n",
    "show(plt)\n",
    "\n",
    "plt.plot(Y,sum(rates.transpose())/len(X))\n",
    "plt.xlabel(\"micos pos Y (mm)\")\n",
    "plt.ylabel(\"dut/trigger rate\")\n",
    "#plt.ylim(0,0.03)\n",
    "show(plt)\n",
    "\n",
    "pickle_this(rates,\"relative_rates_matrix\")\n",
    "pickle_this(dut_rates,\"dut_rates_matrix\")\n",
    "pickle_this(trigger_rates,\"trigger_rates_matrix\")\n",
    "pickle_this(X,\"X_mm\")\n",
    "pickle_this(Y,\"Y_mm\")"
   ]
  },
  {
   "cell_type": "code",
   "execution_count": 13,
   "metadata": {},
   "outputs": [
    {
     "name": "stdout",
     "output_type": "stream",
     "text": [
      "saving to /workdir/jupyter/beam_profile_w_scalers_data/008.svg\n",
      "saving to /workdir/jupyter/beam_profile_w_scalers_data/008.pickle\n"
     ]
    },
    {
     "data": {
      "image/png": "[encoded data removed]",
      "text/plain": [
       "<matplotlib.figure.Figure at 0x7fe137c48c18>"
      ]
     },
     "metadata": {
      "needs_background": "light"
     },
     "output_type": "display_data"
    },
    {
     "name": "stdout",
     "output_type": "stream",
     "text": [
      "saving to /workdir/jupyter/beam_profile_w_scalers_data/009.svg\n",
      "saving to /workdir/jupyter/beam_profile_w_scalers_data/009.pickle\n"
     ]
    },
    {
     "data": {
      "image/png": "[encoded data removed]",
      "text/plain": [
       "<matplotlib.figure.Figure at 0x7fe137b84b38>"
      ]
     },
     "metadata": {
      "needs_background": "light"
     },
     "output_type": "display_data"
    }
   ],
   "source": [
    "plt.scatter(X,sum(dut_rates)/len(Y),label =\"dut_rates\")\n",
    "plt.scatter(X,sum(rates)*10e5, label =\"normalized rates\")\n",
    "plt.scatter(X,sum(trigger_rates)*4e-1, label =\"trigger rates\")\n",
    "plt.xlabel(\"micos pos X (mm)\")\n",
    "plt.ylabel(\"dut rate\")\n",
    "plt.ylim(0,400000)\n",
    "plt.legend()\n",
    "show(plt)\n",
    "\n",
    "plt.scatter(Y,sum(rates.transpose())/len(X))\n",
    "plt.xlabel(\"micos pos Y (mm)\")\n",
    "plt.ylabel(\"dut/trigger rate\")\n",
    "plt.ylim(0,0.2)\n",
    "#plt.ylim(0,0.03)\n",
    "show(plt)"
   ]
  },
  {
   "cell_type": "code",
   "execution_count": 14,
   "metadata": {},
   "outputs": [
    {
     "data": {
      "text/html": [
       "\n",
       "                <audio  controls=\"controls\" autoplay=\"autoplay\">\n",
       "                    <source src=\"data:audio/x-wav;base64,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\" type=\"audio/x-wav\" />\n",
       "                    Your browser does not support the audio element.\n",
       "                </audio>\n",
       "              "
      ],
      "text/plain": [
       "<IPython.lib.display.Audio object>"
      ]
     },
     "execution_count": 14,
     "metadata": {},
     "output_type": "execute_result"
    }
   ],
   "source": [
    "archive(label=\"Y_Si_after_moving_to_front\")\n",
    "\n",
    "from IPython.display import Audio\n",
    "\n",
    "sound_file = './blubb.wav'\n",
    "\n",
    "Audio(sound_file, autoplay=True)"
   ]
  }
 ],
 "metadata": {
  "kernelspec": {
   "display_name": "Python 3",
   "language": "python",
   "name": "python3"
  },
  "language_info": {
   "codemirror_mode": {
    "name": "ipython",
    "version": 3
   },
   "file_extension": ".py",
   "mimetype": "text/x-python",
   "name": "python",
   "nbconvert_exporter": "python",
   "pygments_lexer": "ipython3",
   "version": "3.6.8"
  }
 },
 "nbformat": 4,
 "nbformat_minor": 2
}
