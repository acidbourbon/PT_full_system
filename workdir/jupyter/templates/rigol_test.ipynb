{
 "cells": [
  {
   "cell_type": "code",
   "execution_count": 1,
   "id": "accepted-trade",
   "metadata": {},
   "outputs": [
    {
     "name": "stdout",
     "output_type": "stream",
     "text": [
      "Rigol Technologies,DG4202,DG4E212801264,00.01.14\n",
      "Rigol Technologies,DG4202,DG4E212801264,00.01.14\n",
      "None\n"
     ]
    }
   ],
   "source": [
    "import rigol as rigol\n",
    "\n",
    "import numpy as np\n",
    "from matplotlib import pyplot as plt\n",
    "\n",
    "\n",
    "rigol.set_output_on(1)\n",
    "#rigol.set_output_off(1)\n",
    "\n"
   ]
  },
  {
   "cell_type": "code",
   "execution_count": 2,
   "id": "sharp-lightning",
   "metadata": {
    "scrolled": true
   },
   "outputs": [
    {
     "data": {
      "text/plain": [
       "[<matplotlib.lines.Line2D at 0x7fec57944240>]"
      ]
     },
     "execution_count": 2,
     "metadata": {},
     "output_type": "execute_result"
    },
    {
     "data": {
      "image/png": "[encoded data removed]",
      "text/plain": [
       "<matplotlib.figure.Figure at 0x7fec5fbdceb8>"
      ]
     },
     "metadata": {
      "needs_background": "light"
     },
     "output_type": "display_data"
    }
   ],
   "source": [
    "x=np.linspace(0,1e-6,10000)\n",
    "y = -2*(x>0.1e-6)*(x<0.2e-6)\n",
    "\n",
    "plt.plot(x,y)"
   ]
  },
  {
   "cell_type": "code",
   "execution_count": 3,
   "id": "present-mattress",
   "metadata": {},
   "outputs": [
    {
     "name": "stdout",
     "output_type": "stream",
     "text": [
      "Rigol Technologies,DG4202,DG4E212801264,00.01.14\n",
      "None\n"
     ]
    }
   ],
   "source": [
    "rigol.set_waveform(1,x,y,burst=True)\n",
    "rigol.set_output_on(1)"
   ]
  },
  {
   "cell_type": "code",
   "execution_count": 4,
   "id": "eastern-clark",
   "metadata": {},
   "outputs": [
    {
     "name": "stdout",
     "output_type": "stream",
     "text": [
      "Rigol Technologies,DG4202,DG4E212801264,00.01.14\n"
     ]
    }
   ],
   "source": [
    "import vxi11\n",
    "inst = vxi11.Instrument('TCPIP0::192.168.44.125::INSTR') #rigol at GSI Dlab\n",
    "print(inst.ask('*IDN?'))\n",
    "channel = 1\n",
    "#inst.write(\"SOURCE\"+str(channel)+\":VOLTAGE:UNIT VPP\")\n",
    "#inst.write(\"SOURCE\"+str(channel)+\":VOLTAGE:LOW {:e}\".format(-1))\n",
    "#inst.write(\"SOURCE\"+str(channel)+\":VOLTAGE:HIGH {:e}\".format(0))\n",
    "#inst.write(\"SOURCE\"+str(channel)+\":FREQ {:e}\".format(100000))\n",
    "#inst.write(\"SOURCE\"+str(channel)+\":BURSt:MODE TRIGgered\")\n",
    "#inst.write(\"SOURCE\"+str(channel)+\":BURSt:INTernal:PERiod 50us\")\n",
    "#rigol.set_output_on(1)"
   ]
  }
 ],
 "metadata": {
  "kernelspec": {
   "display_name": "Python 3",
   "language": "python",
   "name": "python3"
  },
  "language_info": {
   "codemirror_mode": {
    "name": "ipython",
    "version": 3
   },
   "file_extension": ".py",
   "mimetype": "text/x-python",
   "name": "python",
   "nbconvert_exporter": "python",
   "pygments_lexer": "ipython3",
   "version": "3.6.9"
  }
 },
 "nbformat": 4,
 "nbformat_minor": 5
}
