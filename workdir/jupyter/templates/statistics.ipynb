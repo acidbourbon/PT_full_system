{
 "cells": [
  {
   "cell_type": "code",
   "execution_count": null,
   "metadata": {},
   "outputs": [],
   "source": [
    "\n",
    "def fwhm(x,y):\n",
    "  dummy, t1, tot = sigproc_kit.discriminate(x,y,np.max(y)/2.,0,0)\n",
    "  return tot\n",
    "\n",
    "def hist_rms(x,y):\n",
    "  counts = np.sum(y)\n",
    "  weights = y / counts\n",
    "  mean = np.dot(x,weights)\n",
    "  deviations = x - mean\n",
    "  return np.sqrt(  np.dot(deviations**2,weights)   )\n",
    "def list_rms(x):\n",
    "  mean = sum(x)/len(x)\n",
    "  deviations = x - mean\n",
    "  return np.sqrt(  sum(deviations**2) /len(x)  )\n",
    "def list_mean(x):\n",
    "  mean = sum(x)/len(x)\n",
    "  return mean"
   ]
  }
 ],
 "metadata": {
  "kernelspec": {
   "display_name": "Python 3",
   "language": "python",
   "name": "python3"
  },
  "language_info": {
   "codemirror_mode": {
    "name": "ipython",
    "version": 3
   },
   "file_extension": ".py",
   "mimetype": "text/x-python",
   "name": "python",
   "nbconvert_exporter": "python",
   "pygments_lexer": "ipython3",
   "version": "3.6.9"
  }
 },
 "nbformat": 4,
 "nbformat_minor": 4
}
