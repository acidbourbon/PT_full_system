{
 "cells": [
  {
   "cell_type": "code",
   "execution_count": 1,
   "metadata": {},
   "outputs": [
    {
     "name": "stdout",
     "output_type": "stream",
     "text": [
      "Rigol Technologies,DG4202,DG4E212801264,00.01.14\n",
      "on\n",
      "off\n"
     ]
    }
   ],
   "source": [
    "import rigol as rigol\n",
    "import time\n",
    "rigol.set_output_on(1)\n",
    "print(\"on\")\n",
    "\n",
    "time.sleep(5)\n",
    "\n",
    "#rigol.set_output_off(1)\n",
    "#print(\"off\")\n"
   ]
  },
  {
   "cell_type": "code",
   "execution_count": 13,
   "metadata": {},
   "outputs": [
    {
     "data": {
      "text/html": [
       "\n",
       "    <style>\n",
       "        div#notebook-container    { width: 95%; }\n",
       "        div#menubar-container     { width: 65%; }\n",
       "        div#maintoolbar-container { width: 99%; }\n",
       "    </style>\n",
       "    "
      ],
      "text/plain": [
       "<IPython.core.display.HTML object>"
      ]
     },
     "metadata": {},
     "output_type": "display_data"
    },
    {
     "name": "stdout",
     "output_type": "stream",
     "text": [
      "load channels block  0\n"
     ]
    },
    {
     "data": {
      "text/plain": [
       "0"
      ]
     },
     "execution_count": 13,
     "metadata": {},
     "output_type": "execute_result"
    }
   ],
   "source": [
    "from my_utils import *\n",
    "set_width_max_of_jupyterpad()\n",
    "\n",
    "TDC_switching_channels = [\"trbcmd loadbit 0xaddr 0xdf80 0x300  0x000\", \"trbcmd loadbit 0xaddr 0xdf80 0x300  0x100\", \"trbcmd loadbit 0xaddr 0xdf80 0x300  0x200\", \"trbcmd loadbit 0xaddr 0xdf80 0x300  0x300\"]\n",
    "import os\n",
    "#for tdcswitch in TDC_switching_channels: \n",
    "  #os.system(tdcswitch) \n",
    "tdcswitch = 0\n",
    "print(\"load channels block \", tdcswitch)\n",
    "os.system(TDC_switching_channels[tdcswitch]) "
   ]
  }
 ],
 "metadata": {
  "kernelspec": {
   "display_name": "Python 3",
   "language": "python",
   "name": "python3"
  },
  "language_info": {
   "codemirror_mode": {
    "name": "ipython",
    "version": 3
   },
   "file_extension": ".py",
   "mimetype": "text/x-python",
   "name": "python",
   "nbconvert_exporter": "python",
   "pygments_lexer": "ipython3",
   "version": "3.6.9"
  }
 },
 "nbformat": 4,
 "nbformat_minor": 4
}
