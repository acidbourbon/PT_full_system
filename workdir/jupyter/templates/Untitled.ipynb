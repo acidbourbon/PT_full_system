{
 "cells": [
  {
   "cell_type": "code",
   "execution_count": 1,
   "metadata": {},
   "outputs": [
    {
     "name": "stdout",
     "output_type": "stream",
     "text": [
      "Rigol Technologies,DG4202,DG4E212801264,00.01.14\n",
      "on\n",
      "off\n"
     ]
    }
   ],
   "source": [
    "import rigol as rigol\n",
    "import time\n",
    "rigol.set_output_on(1)\n",
    "print(\"on\")\n",
    "\n",
    "time.sleep(5)\n",
    "\n",
    "rigol.set_output_off(1)\n",
    "print(\"off\")"
   ]
  }
 ],
 "metadata": {
  "kernelspec": {
   "display_name": "Python 3",
   "language": "python",
   "name": "python3"
  },
  "language_info": {
   "codemirror_mode": {
    "name": "ipython",
    "version": 3
   },
   "file_extension": ".py",
   "mimetype": "text/x-python",
   "name": "python",
   "nbconvert_exporter": "python",
   "pygments_lexer": "ipython3",
   "version": "3.6.9"
  }
 },
 "nbformat": 4,
 "nbformat_minor": 4
}
