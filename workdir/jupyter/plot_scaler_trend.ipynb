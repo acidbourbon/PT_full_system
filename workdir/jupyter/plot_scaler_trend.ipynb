{
 "cells": [
  {
   "cell_type": "code",
   "execution_count": 1,
   "id": "uniform-stomach",
   "metadata": {
    "scrolled": false
   },
   "outputs": [
    {
     "name": "stdout",
     "output_type": "stream",
     "text": [
      "Welcome to JupyROOT 6.14/04\n"
     ]
    },
    {
     "data": {
      "text/html": [
       "\n",
       "    <style>\n",
       "        div#notebook-container    { width: 95%; }\n",
       "        div#menubar-container     { width: 65%; }\n",
       "        div#maintoolbar-container { width: 99%; }\n",
       "    </style>\n",
       "    "
      ],
      "text/plain": [
       "<IPython.core.display.HTML object>"
      ]
     },
     "metadata": {},
     "output_type": "display_data"
    },
    {
     "name": "stdout",
     "output_type": "stream",
     "text": [
      "[10287.0, 10947.0, 13459.0, 13947.0, 4232.0, 12884.0, 242441.0, 14780.0, 0.0, 0.0, 0.0, 0.0, 0.0, 0.0, 0.0, 0.0]\n",
      "[87801.0, 133177.0, 178967.0, 206776.0, 193636.0, 165078.0, 319323.0, 76147.0, 0.0, 0.0, 0.0, 0.0, 0.0, 1.0, 0.0, 0.0]\n",
      "[37561.0, 56068.0, 77512.0, 91716.0, 81214.0, 72200.0, 272028.0, 37662.0, 0.0, 0.0, 0.0, 0.0, 0.0, 0.0, 0.0, 0.0]\n",
      "[39108.0, 58393.0, 80770.0, 94604.0, 82455.0, 74416.0, 271410.0, 38385.0, 0.0, 1.0, 0.0, 0.0, 0.0, 0.0, 1.0, 0.0]\n",
      "[44947.0, 67947.0, 92754.0, 107993.0, 96089.0, 83866.0, 277726.0, 41696.0, 0.0, 1.0, 0.0, 0.0, 0.0, 0.0, 0.0, 0.0]\n",
      "[52562.0, 79879.0, 108157.0, 125947.0, 112402.0, 96001.0, 286009.0, 45650.0, 0.0, 0.0, 0.0, 0.0, 0.0, 0.0, 0.0, 0.0]\n",
      "[58707.0, 88757.0, 120377.0, 139283.0, 125835.0, 106684.0, 292817.0, 50553.0, 0.0, 1.0, 0.0, 0.0, 0.0, 1.0, 1.0, 2.0]\n",
      "[62400.0, 95416.0, 130676.0, 151267.0, 137928.0, 116145.0, 293965.0, 53548.0, 0.0, 1.0, 1.0, 0.0, 0.0, 0.0, 0.0, 1.0]\n",
      "[65722.0, 99942.0, 136705.0, 161019.0, 147918.0, 125038.0, 298726.0, 57086.0, 0.0, 0.0, 0.0, 0.0, 0.0, 0.0, 0.0, 0.0]\n",
      "[70471.0, 107896.0, 148753.0, 174893.0, 162116.0, 138648.0, 305645.0, 64474.0, 0.0, 1.0, 0.0, 0.0, 0.0, 1.0, 2.0, 0.0]\n",
      "[75827.0, 2130823870.0, 163358.0, 192970.0, 182385.0, 155095.0, 318400.0, 70870.0, 0.0, 0.0, 2.0, 0.0, 0.0, 2.0, 1.0, 0.0]\n",
      "[78070.0, 120725.0, 168315.0, 200135.0, 189326.0, 161433.0, 320097.0, 74249.0, 0.0, 1.0, 0.0, 0.0, 0.0, 3.0, 0.0, 0.0]\n",
      "[78191.0, 122079.0, 170456.0, 201695.0, 191642.0, 163047.0, 321496.0, 74640.0, 0.0, 2.0, 0.0, 0.0, 0.0, 0.0, 1.0, 1.0]\n",
      "[79593.0, 124175.0, 173266.0, 205649.0, 195117.0, 165677.0, 324052.0, 74920.0, 0.0, 0.0, 0.0, 0.0, 0.0, 0.0, 1.0, 0.0]\n",
      "[78907.0, 123186.0, 172217.0, 204716.0, 193763.0, 2130870895.0, 324599.0, 74924.0, 0.0, 0.0, 0.0, 0.0, 0.0, 1.0, 0.0, 0.0]\n",
      "[79044.0, 123648.0, 172122.0, 204574.0, 193553.0, 164903.0, 322427.0, 74663.0, 0.0, 0.0, 1.0, 0.0, 0.0, 0.0, 1.0, 1.0]\n",
      "[78171.0, 121748.0, 169360.0, 202462.0, 192509.0, 162875.0, 317606.0, 73686.0, 0.0, 1.0, 1.0, 0.0, 0.0, 0.0, 0.0, 0.0]\n",
      "[80896.0, 126141.0, 176024.0, 210510.0, 199750.0, 168520.0, 2131028992.0, 76314.0, 0.0, 1.0, 1.0, 0.0, 0.0, 0.0, 0.0, 0.0]\n",
      "[76589.0, 119627.0, 167890.0, 200189.0, 190985.0, 160674.0, 314090.0, 72435.0, 0.0, 0.0, 0.0, 0.0, 0.0, 0.0, 0.0, 0.0]\n",
      "[75947.0, 118668.0, 165956.0, 199134.0, 188418.0, 159522.0, 314337.0, 71239.0, 0.0, 1.0, 0.0, 0.0, 0.0, 0.0, 0.0, 0.0]\n",
      "[76121.0, 118032.0, 165437.0, 197303.0, 186600.0, 158437.0, 320758.0, 72295.0, 0.0, 0.0, 1.0, 0.0, 0.0, 1.0, 0.0, 0.0]\n",
      "[75652.0, 118742.0, 165515.0, 198202.0, 187802.0, 158713.0, 317480.0, 71823.0, 0.0, 1.0, 0.0, 0.0, 0.0, 0.0, 0.0, 0.0]\n",
      "[75227.0, 118283.0, 166069.0, 198066.0, 187699.0, 158485.0, 318514.0, 71701.0, 0.0, 0.0, 0.0, 0.0, 0.0, 0.0, 0.0, 0.0]\n",
      "[76522.0, 119061.0, 166079.0, 198348.0, 187302.0, 159095.0, 324676.0, 72929.0, 0.0, 0.0, 0.0, 0.0, 0.0, 1.0, 0.0, 0.0]\n",
      "[74854.0, 117151.0, 163940.0, 195750.0, 184854.0, 157273.0, 317819.0, 71370.0, 0.0, 0.0, 0.0, 0.0, 0.0, 0.0, 1.0, 0.0]\n",
      "[76267.0, 118687.0, 165886.0, 197241.0, 186837.0, 158251.0, 318123.0, 72107.0, 0.0, 0.0, 0.0, 0.0, 0.0, 0.0, 0.0, 0.0]\n",
      "[74434.0, 115280.0, 162166.0, 192612.0, 182383.0, 155481.0, 318584.0, 71795.0, 0.0, 3.0, 3.0, 0.0, 0.0, 0.0, 0.0, 0.0]\n",
      "[73720.0, 115224.0, 160427.0, 191161.0, 181055.0, 154021.0, 316510.0, 70536.0, 0.0, 0.0, 0.0, 0.0, 0.0, 0.0, 0.0, 0.0]\n",
      "[74947.0, 116382.0, 162396.0, 193445.0, 182503.0, 156459.0, 321598.0, 71707.0, 0.0, 0.0, 0.0, 0.0, 0.0, 0.0, 0.0, 1.0]\n",
      "[75374.0, 117160.0, 163410.0, 194494.0, 183938.0, 157878.0, 320127.0, 72459.0, 0.0, 1.0, 1.0, 0.0, 0.0, 1.0, 0.0, 0.0]\n",
      "[72301.0, 112330.0, 157362.0, 185763.0, 175629.0, 150145.0, 315826.0, 69344.0, 0.0, 1.0, 1.0, 0.0, 0.0, 0.0, 0.0, 0.0]\n",
      "[75208.0, 116954.0, 163254.0, 193326.0, 183003.0, 155921.0, 330438.0, 72603.0, 0.0, 1.0, 1.0, 0.0, 0.0, 0.0, 0.0, 1.0]\n",
      "[70955.0, 110852.0, 154519.0, 183804.0, 173086.0, 148363.0, 314023.0, 68070.0, 0.0, 1.0, 1.0, 0.0, 0.0, 0.0, 0.0, 0.0]\n",
      "[71152.0, 110601.0, 154434.0, 183302.0, 173115.0, 147835.0, 315892.0, 68383.0, 0.0, 1.0, 1.0, 0.0, 0.0, 0.0, 0.0, 0.0]\n",
      "[72876.0, 113402.0, 158140.0, 188232.0, 178019.0, 152190.0, 315975.0, 70012.0, 0.0, 0.0, 0.0, 0.0, 0.0, 1.0, 1.0, 0.0]\n",
      "[70517.0, 108557.0, 152677.0, 181409.0, 171717.0, 145953.0, 306498.0, 66641.0, 0.0, 0.0, 0.0, 0.0, 0.0, 0.0, 0.0, 0.0]\n",
      "[68970.0, 108350.0, 151169.0, 180695.0, 170810.0, 145087.0, 309929.0, 65525.0, 0.0, 0.0, 2.0, 0.0, 0.0, 1.0, 1.0, 0.0]\n",
      "[61684.0, 95749.0, 134637.0, 161256.0, 151390.0, 129160.0, 298750.0, 59699.0, 0.0, 1.0, 0.0, 0.0, 0.0, 0.0, 0.0, 1.0]\n",
      "[52399.0, 80033.0, 113425.0, 135138.0, 125577.0, 109049.0, 293203.0, 51879.0, 1.0, 1.0, 1.0, 0.0, 0.0, 0.0, 0.0, 0.0]\n",
      "[40289.0, 60206.0, 84215.0, 100242.0, 90271.0, 80776.0, 278208.0, 41140.0, 0.0, 2.0, 1.0, 0.0, 0.0, 0.0, 0.0, 0.0]\n",
      "[29052.0, 41937.0, 57778.0, 67899.0, 56763.0, 54352.0, 266737.0, 31579.0, 0.0, 0.0, 0.0, 0.0, 0.0, 0.0, 0.0, 0.0]\n",
      "[19916.0, 26230.0, 35316.0, 40308.0, 29342.0, 32681.0, 259639.0, 22925.0, 0.0, 0.0, 0.0, 0.0, 0.0, 1.0, 0.0, 1.0]\n",
      "[10849.0, 11641.0, 14426.0, 14772.0, 4438.0, 13724.0, 246675.0, 15441.0, 0.0, 0.0, 0.0, 0.0, 0.0, 0.0, 0.0, 0.0]\n",
      "[11153.0, 11835.0, 14627.0, 15225.0, 4672.0, 14077.0, 246820.0, 16304.0, 0.0, 0.0, 0.0, 0.0, 0.0, 0.0, 0.0, 0.0]\n",
      "[10882.0, 11781.0, 14591.0, 14991.0, 4436.0, 13826.0, 250296.0, 15713.0, 0.0, 0.0, 0.0, 0.0, 0.0, 0.0, 0.0, 0.0]\n",
      "[11029.0, 11791.0, 14671.0, 15103.0, 4530.0, 13959.0, 250403.0, 15946.0, 0.0, 0.0, 0.0, 0.0, 0.0, 0.0, 0.0, 0.0]\n",
      "[11477.0, 12165.0, 15067.0, 15544.0, 4748.0, 14591.0, 253582.0, 16741.0, 0.0, 0.0, 0.0, 0.0, 0.0, 0.0, 0.0, 0.0]\n",
      "[11514.0, 12214.0, 15157.0, 15509.0, 4681.0, 14504.0, 255043.0, 16539.0, 0.0, 0.0, 0.0, 0.0, 0.0, 0.0, 0.0, 0.0]\n",
      "[11487.0, 12260.0, 15231.0, 15625.0, 4715.0, 14362.0, 254865.0, 16600.0, 0.0, 0.0, 0.0, 0.0, 0.0, 0.0, 0.0, 0.0]\n",
      "[11505.0, 12151.0, 15134.0, 15581.0, 4812.0, 14500.0, 248339.0, 16919.0, 0.0, 0.0, 0.0, 0.0, 0.0, 0.0, 0.0, 0.0]\n"
     ]
    },
    {
     "data": {
      "text/plain": [
       "<matplotlib.figure.Figure at 0x7f6184306860>"
      ]
     },
     "metadata": {},
     "output_type": "display_data"
    },
    {
     "name": "stderr",
     "output_type": "stream",
     "text": [
      "No handles with labels found to put in legend.\n"
     ]
    },
    {
     "data": {
      "text/plain": [
       "<matplotlib.figure.Figure at 0x7f613458e748>"
      ]
     },
     "metadata": {},
     "output_type": "display_data"
    },
    {
     "data": {
      "text/plain": [
       "<matplotlib.figure.Figure at 0x7f6134571e48>"
      ]
     },
     "metadata": {},
     "output_type": "display_data"
    },
    {
     "data": {
      "text/plain": [
       "<matplotlib.figure.Figure at 0x7f61345372b0>"
      ]
     },
     "metadata": {},
     "output_type": "display_data"
    },
    {
     "data": {
      "text/plain": [
       "<matplotlib.figure.Figure at 0x7f61344f3400>"
      ]
     },
     "metadata": {},
     "output_type": "display_data"
    },
    {
     "data": {
      "text/plain": [
       "<matplotlib.figure.Figure at 0x7f61344acf98>"
      ]
     },
     "metadata": {},
     "output_type": "display_data"
    },
    {
     "data": {
      "text/plain": [
       "<matplotlib.figure.Figure at 0x7f613446c6a0>"
      ]
     },
     "metadata": {},
     "output_type": "display_data"
    },
    {
     "data": {
      "text/plain": [
       "<matplotlib.figure.Figure at 0x7f6134427f28>"
      ]
     },
     "metadata": {},
     "output_type": "display_data"
    },
    {
     "data": {
      "text/plain": [
       "<matplotlib.figure.Figure at 0x7f61344279e8>"
      ]
     },
     "metadata": {},
     "output_type": "display_data"
    },
    {
     "data": {
      "text/plain": [
       "<matplotlib.figure.Figure at 0x7f613455b3c8>"
      ]
     },
     "metadata": {},
     "output_type": "display_data"
    },
    {
     "data": {
      "text/plain": [
       "<matplotlib.figure.Figure at 0x7f613443c198>"
      ]
     },
     "metadata": {},
     "output_type": "display_data"
    },
    {
     "data": {
      "text/plain": [
       "<matplotlib.figure.Figure at 0x7f61345a7278>"
      ]
     },
     "metadata": {},
     "output_type": "display_data"
    },
    {
     "data": {
      "text/plain": [
       "<matplotlib.figure.Figure at 0x7f6134504588>"
      ]
     },
     "metadata": {},
     "output_type": "display_data"
    },
    {
     "data": {
      "text/plain": [
       "<matplotlib.figure.Figure at 0x7f613446f278>"
      ]
     },
     "metadata": {},
     "output_type": "display_data"
    },
    {
     "data": {
      "text/plain": [
       "<matplotlib.figure.Figure at 0x7f61344ff860>"
      ]
     },
     "metadata": {},
     "output_type": "display_data"
    },
    {
     "data": {
      "text/plain": [
       "<matplotlib.figure.Figure at 0x7f61344ad240>"
      ]
     },
     "metadata": {},
     "output_type": "display_data"
    },
    {
     "data": {
      "text/plain": [
       "<matplotlib.figure.Figure at 0x7f61343a1358>"
      ]
     },
     "metadata": {},
     "output_type": "display_data"
    },
    {
     "name": "stdout",
     "output_type": "stream",
     "text": [
      "[2488.0, 2320.0, 2152.0, 2727.0, 1067.0, 793.0, 1668.0, 1739.0, 4593.0, 5009.0, 2532.0, 1146.0, 3052.0, 4042.0, 2349.0, 1501.0]\n",
      "[1509.0, 1406.0, 1285.0, 1671.0, 544.0, 421.0, 989.0, 1041.0, 3199.0, 3630.0, 1750.0, 685.0, 2261.0, 2987.0, 1677.0, 991.0]\n",
      "[1740.0, 1614.0, 1501.0, 1891.0, 687.0, 528.0, 1174.0, 1245.0, 3427.0, 3866.0, 1948.0, 814.0, 2347.0, 3157.0, 1813.0, 1150.0]\n",
      "[5779.0, 2425.0, 3946.0, 6233.0, 10286.0, 2354.0, 1949.0, 14193.0, 12053.0, 28886.0, 2829.0, 2202.0, 7333.0, 61309.0, 13799.0, 4718.0]\n",
      "[7.0, 9.0, 4.0, 2.0, 3.0, 5.0, 4.0, 7.0, 18.0, 19.0, 6.0, 4.0, 13.0, 15.0, 3.0, 3.0]\n",
      "[1134.0, 283.0, 691.0, 1184.0, 2516.0, 466.0, 239.0, 3478.0, 2508.0, 8620.0, 516.0, 635.0, 1999.0, 19611.0, 4347.0, 1467.0]\n",
      "[1527.0, 2487.0, 3491.0, 3824.0, 3415.0, 2797.0, 1849.0, 1053.0, 902.0, 593.0, 410.0, 271.0, 264.0, 216.0, 195.0, 168.0]\n",
      "[8353.0, 12061.0, 17293.0, 19662.0, 19561.0, 13575.0, 8733.0, 8304.0, 7763.0, 11843.0, 2240.0, 1734.0, 3126.0, 21845.0, 5488.0, 2091.0]\n",
      "[35846.0, 58849.0, 81849.0, 93878.0, 88304.0, 66055.0, 42131.0, 24009.0, 20364.0, 12679.0, 7392.0, 4793.0, 5272.0, 5353.0, 3844.0, 3067.0]\n",
      "[45933.0, 75641.0, 105144.0, 119881.0, 112964.0, 85726.0, 54563.0, 31400.0, 25898.0, 15999.0, 9603.0, 6147.0, 6639.0, 6649.0, 4805.0, 3896.0]\n",
      "[50948.0, 84505.0, 116765.0, 134919.0, 127911.0, 97309.0, 63168.0, 36589.0, 28788.0, 18178.0, 10729.0, 6916.0, 7653.0, 7719.0, 5548.0, 4405.0]\n",
      "[50128.0, 82975.0, 116049.0, 135205.0, 128547.0, 99577.0, 64640.0, 37627.0, 27721.0, 17204.0, 10279.0, 6731.0, 7135.0, 7203.0, 5270.0, 4207.0]\n",
      "[52386.0, 86299.0, 119830.0, 138602.0, 132521.0, 101533.0, 66308.0, 38456.0, 28833.0, 17929.0, 10661.0, 7003.0, 7311.0, 7301.0, 5515.0, 4422.0]\n",
      "[56285.0, 92389.0, 127354.0, 146827.0, 138587.0, 106294.0, 69069.0, 39928.0, 31345.0, 19289.0, 11596.0, 7674.0, 7991.0, 7832.0, 5925.0, 4723.0]\n",
      "[62143.0, 101536.0, 138942.0, 156943.0, 2130853445.0, 111731.0, 72914.0, 42080.0, 34455.0, 20887.0, 12576.0, 8169.0, 8554.0, 8401.0, 6406.0, 4999.0]\n",
      "[70964.0, 114421.0, 2130861908.0, 173922.0, 162167.0, 123736.0, 79880.0, 45693.0, 39119.0, 23364.0, 14087.0, 9184.0, 9158.0, 8825.0, 6712.0, 5586.0]\n",
      "[75474.0, 122703.0, 164323.0, 183848.0, 170814.0, 127953.0, 82718.0, 47072.0, 41867.0, 25050.0, 14938.0, 9878.0, 9671.0, 9456.0, 7207.0, 5902.0]\n",
      "[77814.0, 125361.0, 167959.0, 188519.0, 174452.0, 131244.0, 83786.0, 47869.0, 43419.0, 26067.0, 15487.0, 10201.0, 10118.0, 9776.0, 7548.0, 6100.0]\n",
      "[84549.0, 135339.0, 181138.0, 203154.0, 188436.0, 141982.0, 90475.0, 51704.0, 46813.0, 28252.0, 16803.0, 11107.0, 10939.0, 10623.0, 7989.0, 6663.0]\n",
      "[78604.0, 126413.0, 170302.0, 190117.0, 176150.0, 132534.0, 84226.0, 48394.0, 43599.0, 26082.0, 15546.0, 10146.0, 10294.0, 9831.0, 7459.0, 6191.0]\n",
      "[80541.0, 129260.0, 173570.0, 193551.0, 179535.0, 135207.0, 86012.0, 49944.0, 45021.0, 27318.0, 15970.0, 10562.0, 10462.0, 10284.0, 7798.0, 6300.0]\n",
      "[80982.0, 130511.0, 174840.0, 195879.0, 181826.0, 135913.0, 87695.0, 50317.0, 44470.0, 26268.0, 15747.0, 10456.0, 10391.0, 9764.0, 7627.0, 6223.0]\n",
      "[85808.0, 137767.0, 185793.0, 206527.0, 191932.0, 143078.0, 91333.0, 52183.0, 47184.0, 27811.0, 16910.0, 11042.0, 10940.0, 10305.0, 7903.0, 6437.0]\n",
      "[79301.0, 127255.0, 171483.0, 190357.0, 176191.0, 132307.0, 84494.0, 49015.0, 44462.0, 27188.0, 16206.0, 10548.0, 10703.0, 10494.0, 7999.0, 6516.0]\n",
      "[79628.0, 129139.0, 173376.0, 193622.0, 178660.0, 133961.0, 84794.0, 48804.0, 43957.0, 26075.0, 15544.0, 10284.0, 10088.0, 9629.0, 7261.0, 5954.0]\n",
      "[80049.0, 129209.0, 174449.0, 194159.0, 179662.0, 134417.0, 85638.0, 48876.0, 44082.0, 26418.0, 15718.0, 10382.0, 9842.0, 9517.0, 7383.0, 6301.0]\n",
      "[76036.0, 122416.0, 165202.0, 184529.0, 171242.0, 128137.0, 81838.0, 46027.0, 41506.0, 24898.0, 14840.0, 9673.0, 9822.0, 9460.0, 7259.0, 5890.0]\n",
      "[77448.0, 125634.0, 169156.0, 189294.0, 174872.0, 131365.0, 83573.0, 47673.0, 42775.0, 25599.0, 15356.0, 10178.0, 9975.0, 9763.0, 7313.0, 6000.0]\n",
      "[76568.0, 123597.0, 166942.0, 185597.0, 172587.0, 129058.0, 81954.0, 46972.0, 42398.0, 25385.0, 14948.0, 9920.0, 9856.0, 9601.0, 7255.0, 5865.0]\n",
      "[73775.0, 119832.0, 160931.0, 180570.0, 166900.0, 124899.0, 79794.0, 45282.0, 40802.0, 24008.0, 14525.0, 9539.0, 9240.0, 8827.0, 6699.0, 5483.0]\n",
      "[77055.0, 123299.0, 167412.0, 186017.0, 173728.0, 129602.0, 82943.0, 47108.0, 42365.0, 25369.0, 15074.0, 9712.0, 9756.0, 9452.0, 7202.0, 5873.0]\n",
      "[80007.0, 128796.0, 174207.0, 193783.0, 179246.0, 134550.0, 86099.0, 49379.0, 43989.0, 26191.0, 15614.0, 10239.0, 10149.0, 9534.0, 7326.0, 6068.0]\n",
      "[73357.0, 117909.0, 160071.0, 178935.0, 165729.0, 124175.0, 79189.0, 45463.0, 40281.0, 24237.0, 14496.0, 9338.0, 9352.0, 8905.0, 6868.0, 5544.0]\n"
     ]
    },
    {
     "ename": "KeyboardInterrupt",
     "evalue": "",
     "output_type": "error",
     "traceback": [
      "\u001b[0;31m---------------------------------------------------------------------------\u001b[0m",
      "\u001b[0;31mKeyboardInterrupt\u001b[0m                         Traceback (most recent call last)",
      "\u001b[0;32m<ipython-input-1-b7fea1c9fea2>\u001b[0m in \u001b[0;36m<module>\u001b[0;34m\u001b[0m\n\u001b[1;32m     31\u001b[0m  \u001b[0mname\u001b[0m \u001b[0;34m=\u001b[0m \u001b[0mmeasure_board_list\u001b[0m\u001b[0;34m[\u001b[0m\u001b[0mb\u001b[0m\u001b[0;34m]\u001b[0m\u001b[0;34m\u001b[0m\u001b[0;34m\u001b[0m\u001b[0m\n\u001b[1;32m     32\u001b[0m  \u001b[0;32mfor\u001b[0m \u001b[0mp\u001b[0m \u001b[0;32min\u001b[0m \u001b[0mrange\u001b[0m\u001b[0;34m(\u001b[0m\u001b[0;36m0\u001b[0m\u001b[0;34m,\u001b[0m\u001b[0mtrend_scan_Nsteps\u001b[0m\u001b[0;34m)\u001b[0m\u001b[0;34m:\u001b[0m\u001b[0;34m\u001b[0m\u001b[0;34m\u001b[0m\u001b[0m\n\u001b[0;32m---> 33\u001b[0;31m             \u001b[0mscaler_rates\u001b[0m \u001b[0;34m=\u001b[0m \u001b[0mtd\u001b[0m\u001b[0;34m.\u001b[0m\u001b[0mscaler_rate_of_board\u001b[0m\u001b[0;34m(\u001b[0m\u001b[0mname\u001b[0m\u001b[0;34m,\u001b[0m\u001b[0mmeasure_time\u001b[0m\u001b[0;34m)\u001b[0m\u001b[0;34m\u001b[0m\u001b[0;34m\u001b[0m\u001b[0m\n\u001b[0m\u001b[1;32m     34\u001b[0m             \u001b[0;31m#scaler_rates = td.scaler_rate(\"0x0350\",[48,49],1)\u001b[0m\u001b[0;34m\u001b[0m\u001b[0;34m\u001b[0m\u001b[0;34m\u001b[0m\u001b[0m\n\u001b[1;32m     35\u001b[0m \u001b[0;34m\u001b[0m\u001b[0m\n",
      "\u001b[0;32m~/python_modules/tdc_daq.py\u001b[0m in \u001b[0;36mscaler_rate_of_board\u001b[0;34m(board_name, scan_time)\u001b[0m\n\u001b[1;32m    113\u001b[0m   \u001b[0mconnector\u001b[0m  \u001b[0;34m=\u001b[0m \u001b[0mboard_info\u001b[0m\u001b[0;34m[\u001b[0m\u001b[0;34m\"tdc_connector\"\u001b[0m\u001b[0;34m]\u001b[0m\u001b[0;34m\u001b[0m\u001b[0;34m\u001b[0m\u001b[0m\n\u001b[1;32m    114\u001b[0m \u001b[0;34m\u001b[0m\u001b[0m\n\u001b[0;32m--> 115\u001b[0;31m   \u001b[0mrates\u001b[0m \u001b[0;34m=\u001b[0m \u001b[0mscaler_rate\u001b[0m\u001b[0;34m(\u001b[0m\u001b[0mTDC\u001b[0m\u001b[0;34m,\u001b[0m\u001b[0mchannels\u001b[0m\u001b[0;34m,\u001b[0m\u001b[0mscan_time\u001b[0m\u001b[0;34m)\u001b[0m\u001b[0;34m\u001b[0m\u001b[0;34m\u001b[0m\u001b[0m\n\u001b[0m\u001b[1;32m    116\u001b[0m \u001b[0;34m\u001b[0m\u001b[0m\n\u001b[1;32m    117\u001b[0m   \u001b[0;32mreturn\u001b[0m\u001b[0;34m(\u001b[0m\u001b[0mrates\u001b[0m\u001b[0;34m)\u001b[0m\u001b[0;34m\u001b[0m\u001b[0;34m\u001b[0m\u001b[0m\n",
      "\u001b[0;32m~/python_modules/tdc_daq.py\u001b[0m in \u001b[0;36mscaler_rate\u001b[0;34m(TDC, channels, time)\u001b[0m\n\u001b[1;32m     98\u001b[0m   \u001b[0ma\u001b[0m \u001b[0;34m=\u001b[0m \u001b[0mnp\u001b[0m\u001b[0;34m.\u001b[0m\u001b[0marray\u001b[0m\u001b[0;34m(\u001b[0m\u001b[0mread_scalers\u001b[0m\u001b[0;34m(\u001b[0m\u001b[0mTDC\u001b[0m\u001b[0;34m,\u001b[0m\u001b[0mchannels\u001b[0m\u001b[0;34m)\u001b[0m\u001b[0;34m)\u001b[0m\u001b[0;34m\u001b[0m\u001b[0;34m\u001b[0m\u001b[0m\n\u001b[1;32m     99\u001b[0m   \u001b[0msleep\u001b[0m\u001b[0;34m(\u001b[0m\u001b[0mtime\u001b[0m\u001b[0;34m)\u001b[0m\u001b[0;34m\u001b[0m\u001b[0;34m\u001b[0m\u001b[0m\n\u001b[0;32m--> 100\u001b[0;31m   \u001b[0mb\u001b[0m \u001b[0;34m=\u001b[0m \u001b[0mnp\u001b[0m\u001b[0;34m.\u001b[0m\u001b[0marray\u001b[0m\u001b[0;34m(\u001b[0m\u001b[0mread_scalers\u001b[0m\u001b[0;34m(\u001b[0m\u001b[0mTDC\u001b[0m\u001b[0;34m,\u001b[0m\u001b[0mchannels\u001b[0m\u001b[0;34m)\u001b[0m\u001b[0;34m)\u001b[0m\u001b[0;34m\u001b[0m\u001b[0;34m\u001b[0m\u001b[0m\n\u001b[0m\u001b[1;32m    101\u001b[0m   \u001b[0mdiff\u001b[0m \u001b[0;34m=\u001b[0m \u001b[0mb\u001b[0m\u001b[0;34m-\u001b[0m\u001b[0ma\u001b[0m\u001b[0;34m\u001b[0m\u001b[0;34m\u001b[0m\u001b[0m\n\u001b[1;32m    102\u001b[0m   \u001b[0;31m## add overflow\u001b[0m\u001b[0;34m\u001b[0m\u001b[0;34m\u001b[0m\u001b[0;34m\u001b[0m\u001b[0m\n",
      "\u001b[0;32m~/python_modules/tdc_daq.py\u001b[0m in \u001b[0;36mread_scalers\u001b[0;34m(TDC, channels)\u001b[0m\n\u001b[1;32m     47\u001b[0m \u001b[0;34m\u001b[0m\u001b[0m\n\u001b[1;32m     48\u001b[0m \u001b[0;31m#   first_register = first_chan + 0xdfc0\u001b[0m\u001b[0;34m\u001b[0m\u001b[0;34m\u001b[0m\u001b[0;34m\u001b[0m\u001b[0m\n\u001b[0;32m---> 49\u001b[0;31m   \u001b[0mvalues\u001b[0m \u001b[0;34m=\u001b[0m \u001b[0mread_memory\u001b[0m\u001b[0;34m(\u001b[0m\u001b[0mTDC\u001b[0m\u001b[0;34m,\u001b[0m\u001b[0mfirst_register\u001b[0m\u001b[0;34m,\u001b[0m\u001b[0mmemory_size\u001b[0m\u001b[0;34m)\u001b[0m\u001b[0;34m\u001b[0m\u001b[0;34m\u001b[0m\u001b[0m\n\u001b[0m\u001b[1;32m     50\u001b[0m   \u001b[0mreturn_vals\u001b[0m \u001b[0;34m=\u001b[0m \u001b[0;34m[\u001b[0m\u001b[0;36m0\u001b[0m\u001b[0;34m]\u001b[0m \u001b[0;34m*\u001b[0m \u001b[0mlen\u001b[0m\u001b[0;34m(\u001b[0m\u001b[0mchannels\u001b[0m\u001b[0;34m)\u001b[0m\u001b[0;34m\u001b[0m\u001b[0;34m\u001b[0m\u001b[0m\n\u001b[1;32m     51\u001b[0m   \u001b[0mindex\u001b[0m \u001b[0;34m=\u001b[0m \u001b[0;36m0\u001b[0m\u001b[0;34m\u001b[0m\u001b[0;34m\u001b[0m\u001b[0m\n",
      "\u001b[0;32m~/python_modules/tdc_daq.py\u001b[0m in \u001b[0;36mread_memory\u001b[0;34m(TDC, register, size)\u001b[0m\n\u001b[1;32m     22\u001b[0m   \u001b[0;31m### TDC is string, register and size are int\u001b[0m\u001b[0;34m\u001b[0m\u001b[0;34m\u001b[0m\u001b[0;34m\u001b[0m\u001b[0m\n\u001b[1;32m     23\u001b[0m   \u001b[0mmode\u001b[0m \u001b[0;34m=\u001b[0m \u001b[0;36m0\u001b[0m\u001b[0;34m\u001b[0m\u001b[0;34m\u001b[0m\u001b[0m\n\u001b[0;32m---> 24\u001b[0;31m   \u001b[0manswer\u001b[0m \u001b[0;34m=\u001b[0m \u001b[0mos\u001b[0m\u001b[0;34m.\u001b[0m\u001b[0mpopen\u001b[0m\u001b[0;34m(\u001b[0m\u001b[0;34m\"trbcmd rm {:s} {:d} {:d} {:d}\"\u001b[0m\u001b[0;34m.\u001b[0m\u001b[0mformat\u001b[0m\u001b[0;34m(\u001b[0m\u001b[0mTDC\u001b[0m\u001b[0;34m,\u001b[0m\u001b[0mregister\u001b[0m\u001b[0;34m,\u001b[0m\u001b[0msize\u001b[0m\u001b[0;34m,\u001b[0m\u001b[0mmode\u001b[0m\u001b[0;34m)\u001b[0m\u001b[0;34m)\u001b[0m\u001b[0;34m.\u001b[0m\u001b[0mread\u001b[0m\u001b[0;34m(\u001b[0m\u001b[0;34m)\u001b[0m\u001b[0;34m\u001b[0m\u001b[0;34m\u001b[0m\u001b[0m\n\u001b[0m\u001b[1;32m     25\u001b[0m   \u001b[0;31m#print(answer)\u001b[0m\u001b[0;34m\u001b[0m\u001b[0;34m\u001b[0m\u001b[0;34m\u001b[0m\u001b[0m\n\u001b[1;32m     26\u001b[0m   \u001b[0mline_no\u001b[0m \u001b[0;34m=\u001b[0m \u001b[0;36m0\u001b[0m\u001b[0;34m\u001b[0m\u001b[0;34m\u001b[0m\u001b[0m\n",
      "\u001b[0;32m/usr/lib/python3.6/os.py\u001b[0m in \u001b[0;36mpopen\u001b[0;34m(cmd, mode, buffering)\u001b[0m\n\u001b[1;32m    978\u001b[0m                                 \u001b[0mshell\u001b[0m\u001b[0;34m=\u001b[0m\u001b[0;32mTrue\u001b[0m\u001b[0;34m,\u001b[0m\u001b[0;34m\u001b[0m\u001b[0;34m\u001b[0m\u001b[0m\n\u001b[1;32m    979\u001b[0m                                 \u001b[0mstdout\u001b[0m\u001b[0;34m=\u001b[0m\u001b[0msubprocess\u001b[0m\u001b[0;34m.\u001b[0m\u001b[0mPIPE\u001b[0m\u001b[0;34m,\u001b[0m\u001b[0;34m\u001b[0m\u001b[0;34m\u001b[0m\u001b[0m\n\u001b[0;32m--> 980\u001b[0;31m                                 bufsize=buffering)\n\u001b[0m\u001b[1;32m    981\u001b[0m         \u001b[0;32mreturn\u001b[0m \u001b[0m_wrap_close\u001b[0m\u001b[0;34m(\u001b[0m\u001b[0mio\u001b[0m\u001b[0;34m.\u001b[0m\u001b[0mTextIOWrapper\u001b[0m\u001b[0;34m(\u001b[0m\u001b[0mproc\u001b[0m\u001b[0;34m.\u001b[0m\u001b[0mstdout\u001b[0m\u001b[0;34m)\u001b[0m\u001b[0;34m,\u001b[0m \u001b[0mproc\u001b[0m\u001b[0;34m)\u001b[0m\u001b[0;34m\u001b[0m\u001b[0;34m\u001b[0m\u001b[0m\n\u001b[1;32m    982\u001b[0m     \u001b[0;32melse\u001b[0m\u001b[0;34m:\u001b[0m\u001b[0;34m\u001b[0m\u001b[0;34m\u001b[0m\u001b[0m\n",
      "\u001b[0;32m/usr/lib/python3.6/subprocess.py\u001b[0m in \u001b[0;36m__init__\u001b[0;34m(self, args, bufsize, executable, stdin, stdout, stderr, preexec_fn, close_fds, shell, cwd, env, universal_newlines, startupinfo, creationflags, restore_signals, start_new_session, pass_fds, encoding, errors)\u001b[0m\n\u001b[1;32m    727\u001b[0m                                 \u001b[0mc2pread\u001b[0m\u001b[0;34m,\u001b[0m \u001b[0mc2pwrite\u001b[0m\u001b[0;34m,\u001b[0m\u001b[0;34m\u001b[0m\u001b[0;34m\u001b[0m\u001b[0m\n\u001b[1;32m    728\u001b[0m                                 \u001b[0merrread\u001b[0m\u001b[0;34m,\u001b[0m \u001b[0merrwrite\u001b[0m\u001b[0;34m,\u001b[0m\u001b[0;34m\u001b[0m\u001b[0;34m\u001b[0m\u001b[0m\n\u001b[0;32m--> 729\u001b[0;31m                                 restore_signals, start_new_session)\n\u001b[0m\u001b[1;32m    730\u001b[0m         \u001b[0;32mexcept\u001b[0m\u001b[0;34m:\u001b[0m\u001b[0;34m\u001b[0m\u001b[0;34m\u001b[0m\u001b[0m\n\u001b[1;32m    731\u001b[0m             \u001b[0;31m# Cleanup if the child failed starting.\u001b[0m\u001b[0;34m\u001b[0m\u001b[0;34m\u001b[0m\u001b[0;34m\u001b[0m\u001b[0m\n",
      "\u001b[0;32m/usr/lib/python3.6/subprocess.py\u001b[0m in \u001b[0;36m_execute_child\u001b[0;34m(self, args, executable, preexec_fn, close_fds, pass_fds, cwd, env, startupinfo, creationflags, shell, p2cread, p2cwrite, c2pread, c2pwrite, errread, errwrite, restore_signals, start_new_session)\u001b[0m\n\u001b[1;32m   1316\u001b[0m                 \u001b[0merrpipe_data\u001b[0m \u001b[0;34m=\u001b[0m \u001b[0mbytearray\u001b[0m\u001b[0;34m(\u001b[0m\u001b[0;34m)\u001b[0m\u001b[0;34m\u001b[0m\u001b[0;34m\u001b[0m\u001b[0m\n\u001b[1;32m   1317\u001b[0m                 \u001b[0;32mwhile\u001b[0m \u001b[0;32mTrue\u001b[0m\u001b[0;34m:\u001b[0m\u001b[0;34m\u001b[0m\u001b[0;34m\u001b[0m\u001b[0m\n\u001b[0;32m-> 1318\u001b[0;31m                     \u001b[0mpart\u001b[0m \u001b[0;34m=\u001b[0m \u001b[0mos\u001b[0m\u001b[0;34m.\u001b[0m\u001b[0mread\u001b[0m\u001b[0;34m(\u001b[0m\u001b[0merrpipe_read\u001b[0m\u001b[0;34m,\u001b[0m \u001b[0;36m50000\u001b[0m\u001b[0;34m)\u001b[0m\u001b[0;34m\u001b[0m\u001b[0;34m\u001b[0m\u001b[0m\n\u001b[0m\u001b[1;32m   1319\u001b[0m                     \u001b[0merrpipe_data\u001b[0m \u001b[0;34m+=\u001b[0m \u001b[0mpart\u001b[0m\u001b[0;34m\u001b[0m\u001b[0;34m\u001b[0m\u001b[0m\n\u001b[1;32m   1320\u001b[0m                     \u001b[0;32mif\u001b[0m \u001b[0;32mnot\u001b[0m \u001b[0mpart\u001b[0m \u001b[0;32mor\u001b[0m \u001b[0mlen\u001b[0m\u001b[0;34m(\u001b[0m\u001b[0merrpipe_data\u001b[0m\u001b[0;34m)\u001b[0m \u001b[0;34m>\u001b[0m \u001b[0;36m50000\u001b[0m\u001b[0;34m:\u001b[0m\u001b[0;34m\u001b[0m\u001b[0;34m\u001b[0m\u001b[0m\n",
      "\u001b[0;31mKeyboardInterrupt\u001b[0m: "
     ]
    }
   ],
   "source": [
    "trend_scan_Nsteps = 50\n",
    "measure_time=1\n",
    "measure_board_list =  [ \"0902\", \"0905\"]  \n",
    "\n",
    "\n",
    "\n",
    "from matplotlib import pyplot as plt\n",
    "import numpy as np\n",
    "import pasttrec_ctrl as ptc\n",
    "import json\n",
    "import sigproc_kit\n",
    "import tdc_daq as td\n",
    "import baseline_calib\n",
    "import ROOT\n",
    "import db\n",
    "from cw_pasttrec_functions import *\n",
    "\n",
    "from my_utils import *\n",
    "\n",
    "set_width_max_of_jupyterpad()\n",
    "\n",
    "scaler_rates = td.scaler_rate_of_board(measure_board_list[0],1) \n",
    "average_scaler_list        =  [[ []  for i in range(trend_scan_Nsteps) ] for i in range(len(measure_board_list)) ]\n",
    "average_scaler_list_err    =  [[ []  for i in range(trend_scan_Nsteps) ] for i in range(len(measure_board_list)) ]\n",
    "#ptc.init_active_boards(pt_pktime,pt_gain,pt_threshold_default) \n",
    "# get scaler rates for chosen threshold/gain/peaking time as simple estimate of noise:\n",
    "scaler_list_trend        =  [ []  for i in range(trend_scan_Nsteps) ] \n",
    "\n",
    "scaler_list_trend_channel = [ []  for i in range(16)]\n",
    "for b in range(0,len(measure_board_list)):\n",
    " name = measure_board_list[b]\n",
    " for p in range(0,trend_scan_Nsteps):\n",
    "            scaler_rates = td.scaler_rate_of_board(name,measure_time) \n",
    "            #scaler_rates = td.scaler_rate(\"0x0350\",[48,49],1)\n",
    "\n",
    "            print(scaler_rates)\n",
    "            if any(i > 1E7 for i in scaler_rates):\n",
    "                #scaler_list_trend += [ scaler_rates ]\n",
    "                scaler_list = scaler_rates\n",
    "                \n",
    "                plt.errorbar(range(0,len(scaler_list)),scaler_list, yerr=None, xerr=None, fmt='o:', alpha=0.4,label = \"channel {:d}\".format(p))\n",
    "                plt.xlabel(\"trend \")\n",
    "                plt.ylabel(\"scaler rates\")  \n",
    "            for ch in range(0,len(scaler_rates)):\n",
    "               if  scaler_rates[ch] < 1E7 :\n",
    "                scaler_list_trend_channel[ch] += [ scaler_rates[ch] ]\n",
    "                \n",
    " plt.show()\n",
    " plt.legend()\n",
    "\n",
    " for ch in range(0,len(scaler_rates)):\n",
    "    if scaler_list_trend_channel[ch]:\n",
    "            plt.errorbar(range(0,len(scaler_list_trend_channel[ch])),scaler_list_trend_channel[ch], yerr=None, xerr=None, fmt='o:', alpha=0.9,label = \"channel {:d}\".format(ch))\n",
    "            plt.xlabel(\"trend \")\n",
    "            plt.ylabel(\"scaler rates\")  \n",
    "            plt.show()"
   ]
  },
  {
   "cell_type": "code",
   "execution_count": null,
   "id": "searching-crime",
   "metadata": {
    "scrolled": false
   },
   "outputs": [],
   "source": [
    "trend_scan_Nsteps = 500\n",
    "measure_time=1\n",
    "# measure_board_list =  [ \"0902\", \"0905\"]  \n",
    "measure_board_list =  [ \"0902\"]\n",
    "channellist = [48,49]\n",
    "\n",
    "\n",
    "from matplotlib import pyplot as plt\n",
    "import numpy as np\n",
    "import pasttrec_ctrl as ptc\n",
    "import json\n",
    "import sigproc_kit\n",
    "import tdc_daq as td\n",
    "import baseline_calib\n",
    "import ROOT\n",
    "import db\n",
    "from cw_pasttrec_functions import *\n",
    "\n",
    "from my_utils import *\n",
    "\n",
    "set_width_max_of_jupyterpad()\n",
    "\n",
    "scaler_rates = td.scaler_rate_of_board(measure_board_list[0],1) \n",
    "average_scaler_list        =  [[ []  for i in range(trend_scan_Nsteps) ] for i in range(len(measure_board_list)) ]\n",
    "average_scaler_list_err    =  [[ []  for i in range(trend_scan_Nsteps) ] for i in range(len(measure_board_list)) ]\n",
    "#ptc.init_active_boards(pt_pktime,pt_gain,pt_threshold_default) \n",
    "# get scaler rates for chosen threshold/gain/peaking time as simple estimate of noise:\n",
    "scaler_list_trend        =  [ []  for i in range(trend_scan_Nsteps) ] \n",
    "\n",
    "scaler_list_trend_channel = [ []  for i in range(16)]\n",
    "for b in range(0,len(measure_board_list)):\n",
    " name = measure_board_list[b]\n",
    " for p in range(0,trend_scan_Nsteps):\n",
    "#             scaler_rates = td.scaler_rate_of_board(name,measure_time) \n",
    "            scaler_rates = td.scaler_rate(\"0x0350\",channellist,1)\n",
    "\n",
    "            print(scaler_rates)\n",
    " \n",
    "            for ch in range(0,len(scaler_rates)):\n",
    "               if  scaler_rates[ch] < 1E7 :\n",
    "                scaler_list_trend_channel[ch] += [ scaler_rates[ch] ]\n",
    "\n",
    "\n",
    "\n",
    "for ch in range(0,len(scaler_rates)):\n",
    "                if scaler_list_trend_channel[ch]:\n",
    "                        plt.errorbar(range(0,len(scaler_list_trend_channel[ch])),scaler_list_trend_channel[ch], yerr=None, xerr=None, fmt='o:', alpha=0.9,label = \"channel {:d}\".format(channellist[ch]))\n",
    "                        plt.xlabel(\"trend \")\n",
    "                        plt.ylabel(\"scaler rates\")  \n",
    "                        plt.legend()\n",
    "                        plt.show()\n"
   ]
  }
 ],
 "metadata": {
  "kernelspec": {
   "display_name": "Python 3",
   "language": "python",
   "name": "python3"
  },
  "language_info": {
   "codemirror_mode": {
    "name": "ipython",
    "version": 3
   },
   "file_extension": ".py",
   "mimetype": "text/x-python",
   "name": "python",
   "nbconvert_exporter": "python",
   "pygments_lexer": "ipython3",
   "version": "3.6.9"
  }
 },
 "nbformat": 4,
 "nbformat_minor": 5
}
