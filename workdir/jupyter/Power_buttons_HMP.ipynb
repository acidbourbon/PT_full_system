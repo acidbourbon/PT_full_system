{
 "cells": [
  {
   "cell_type": "code",
   "execution_count": 1,
   "id": "unlimited-breathing",
   "metadata": {},
   "outputs": [
    {
     "name": "stdout",
     "output_type": "stream",
     "text": [
      "TRB3 power\n"
     ]
    },
    {
     "data": {
      "application/vnd.jupyter.widget-view+json": {
       "model_id": "ec2bb6ec030940388dd7e814fc502404",
       "version_major": 2,
       "version_minor": 0
      },
      "text/plain": [
       "VBox(children=(Button(description='CH1 ON', style=ButtonStyle()), Button(description='CH1 OFF', style=ButtonSt…"
      ]
     },
     "metadata": {},
     "output_type": "display_data"
    }
   ],
   "source": [
    "import hameg_trb as htrb\n",
    "print(\"TRB3 power\")\n",
    "#htrb.report()\n",
    "htrb.OnOffButton(1)"
   ]
  },
  {
   "cell_type": "code",
   "execution_count": 2,
   "id": "recognized-checkout",
   "metadata": {},
   "outputs": [
    {
     "name": "stdout",
     "output_type": "stream",
     "text": [
      "MBO power\n"
     ]
    },
    {
     "data": {
      "application/vnd.jupyter.widget-view+json": {
       "model_id": "077926c3042242a7a28d190d43fe56a2",
       "version_major": 2,
       "version_minor": 0
      },
      "text/plain": [
       "VBox(children=(Button(description='CH1 ON', style=ButtonStyle()), Button(description='CH1 OFF', style=ButtonSt…"
      ]
     },
     "metadata": {},
     "output_type": "display_data"
    }
   ],
   "source": [
    "import hameg_lv as pwrLV\n",
    "print(\"MBO power\")\n",
    "pwrLV.OnOffButton(1)"
   ]
  },
  {
   "cell_type": "code",
   "execution_count": 3,
   "id": "utility-mixer",
   "metadata": {},
   "outputs": [
    {
     "name": "stdout",
     "output_type": "stream",
     "text": [
      "MBO power\n"
     ]
    },
    {
     "data": {
      "application/vnd.jupyter.widget-view+json": {
       "model_id": "c554126a75bf4c329ecfe768163041e7",
       "version_major": 2,
       "version_minor": 0
      },
      "text/plain": [
       "VBox(children=(Button(description='CH2 ON', style=ButtonStyle()), Button(description='CH2 OFF', style=ButtonSt…"
      ]
     },
     "metadata": {},
     "output_type": "display_data"
    }
   ],
   "source": [
    "import hameg_lv as pwrLV\n",
    "print(\"MBO power\")\n",
    "pwrLV.OnOffButton(2)"
   ]
  },
  {
   "cell_type": "code",
   "execution_count": 4,
   "id": "binary-building",
   "metadata": {},
   "outputs": [
    {
     "name": "stdout",
     "output_type": "stream",
     "text": [
      "MBO power\n"
     ]
    },
    {
     "data": {
      "application/vnd.jupyter.widget-view+json": {
       "model_id": "0b389cac7acc42f59aea08b7a541775c",
       "version_major": 2,
       "version_minor": 0
      },
      "text/plain": [
       "VBox(children=(Button(description='CH3 ON', style=ButtonStyle()), Button(description='CH3 OFF', style=ButtonSt…"
      ]
     },
     "metadata": {},
     "output_type": "display_data"
    }
   ],
   "source": [
    "import hameg_lv as pwrLV\n",
    "print(\"MBO power\")\n",
    "pwrLV.OnOffButton(3)"
   ]
  }
 ],
 "metadata": {
  "kernelspec": {
   "display_name": "Python 3",
   "language": "python",
   "name": "python3"
  },
  "language_info": {
   "codemirror_mode": {
    "name": "ipython",
    "version": 3
   },
   "file_extension": ".py",
   "mimetype": "text/x-python",
   "name": "python",
   "nbconvert_exporter": "python",
   "pygments_lexer": "ipython3",
   "version": "3.6.9"
  }
 },
 "nbformat": 4,
 "nbformat_minor": 5
}
