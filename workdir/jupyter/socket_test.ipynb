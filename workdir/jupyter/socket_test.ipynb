{
 "cells": [
  {
   "cell_type": "code",
   "execution_count": 6,
   "metadata": {},
   "outputs": [
    {
     "data": {
      "text/html": [
       "\n",
       "    <style>\n",
       "        div#notebook-container    { width: 95%; }\n",
       "        div#menubar-container     { width: 65%; }\n",
       "        div#maintoolbar-container { width: 99%; }\n",
       "    </style>\n",
       "    "
      ],
      "text/plain": [
       "<IPython.core.display.HTML object>"
      ]
     },
     "metadata": {},
     "output_type": "display_data"
    },
    {
     "name": "stdout",
     "output_type": "stream",
     "text": [
      "dumping data of board: 4000\n",
      "root fitting\n"
     ]
    },
    {
     "name": "stderr",
     "output_type": "stream",
     "text": [
      "Warning in <TCanvas::Constructor>: Deleting canvas with same name: cscan\n",
      "Info in <TCanvas::Print>: png file /workdir/data/pasttrec_quality/fit/PT_0000_noiseFit_channel000.png has been created\n",
      "Info in <TCanvas::Print>: png file /workdir/data/pasttrec_quality/fit/PT_0000_noiseFit_channel001.png has been created\n"
     ]
    },
    {
     "data": {
      "image/png": "[encoded data removed]",
      "text/plain": [
       "<IPython.core.display.Image object>"
      ]
     },
     "metadata": {},
     "output_type": "display_data"
    }
   ],
   "source": [
    "#!/usr/bin/env python\n",
    "# coding: utf-8\n",
    "\n",
    "# In[1]:\n",
    "\n",
    "\n",
    "\n",
    "#----- default settings for the mass test, don't change:\n",
    "measure_board_list=[ \"4000\"]\n",
    "# PASTTREC ASIC parameters:\n",
    "pt_pktime = 15\n",
    "pt_gain = 4\n",
    "pt_threshold_default = 20\n",
    "\n",
    "data_output_dicrectory=\"/workdir/data/pasttrec_quality\"\n",
    "\n",
    "\n",
    "# In[2]:\n",
    "\n",
    "\n",
    "#%matplotlib notebook  \n",
    "import matplotlib\n",
    "matplotlib.use('Agg')\n",
    "import matplotlib.pyplot as plt\n",
    "import numpy as np\n",
    "import pasttrec_ctrl as ptc\n",
    "import json\n",
    "import sigproc_kit\n",
    "import tdc_daq as td\n",
    "import baseline_calib\n",
    "import ROOT\n",
    "from ROOT import gROOT\n",
    "import db\n",
    "from cw_pasttrec_functions import *\n",
    "\n",
    "from my_utils import *\n",
    "set_width_max_of_jupyterpad()\n",
    "\n",
    "    \n",
    "def hist_rms(x,y):\n",
    "  counts = np.sum(y)\n",
    "  weights = y / counts\n",
    "  mean = np.dot(x,weights)\n",
    "  deviations = x - mean\n",
    "  return np.sqrt(np.dot(deviations**2,weights))\n",
    "def list_rms(x):\n",
    "  mean = sum(x)/len(x)\n",
    "  deviations =  np.asarray(x) -  np.asarray(mean)\n",
    "  return np.sqrt(sum(deviations**2) /len(x))\n",
    "def MeanArrays(xs,ys):\n",
    "    return np.dot(xs,ys)/sum(ys)\n",
    "def fwhm(x,y):\n",
    "  dummy, t1, tot = sigproc_kit.discriminate(x,y,np.max(y)/2.,0,0)\n",
    "  return tot\n",
    "\n",
    "\n",
    "name = \"4000\"\n",
    "\n",
    "# serial number of PASTTREC, needs to be edit for each PASTTREC tested: \n",
    "serial = \"0000\"\n",
    "root_name = data_output_dicrectory + \"/noise_\" + name + \".root\"\n",
    "        #save to root file \n",
    "db.dump_db_to_root_board(root_name,name)\n",
    "        #save to root file \n",
    "#db.dump_db_to_csv(root_name+\".csv\",only_board=\"4000\")\n",
    "\n",
    "# analyse/fit results noise dpendence:\n",
    "gif_out_list = []\n",
    "\n",
    "import root_fit as fit\n",
    "import os.path\n",
    "\n",
    "# threshold scan scurve fit quality limit to store results\n",
    "chisquare_limit = 80\n",
    "n_channels = 2\n",
    "\n",
    "#noise_plots = [\"amplitude\",\"half max\",\"sigma\",\"offset\"]\n",
    "#noise_plots_data = [[]*len(measure_board_list)]*2*len(noise_plots)\n",
    "#noise_plots_data_x = []*len(measure_board_list)\n",
    "noise_halfmax = []\n",
    "noise_halfmax_err = [] \n",
    "noise_sigma = []\n",
    "noise_sigma_err = []\n",
    "\n",
    "# create fit directory\n",
    "fit_dir = data_output_dicrectory + \"/fit\"\n",
    "if not os.path.isdir(fit_dir):\n",
    "        os.mkdir(fit_dir)\n",
    "#clear older fit plots\n",
    "else:\n",
    "    os.system(\"rm -rf {:s}/*png\".format(fit_dir))\n",
    "\n",
    "gif_out_list += [fit_dir]    \n",
    "if os.path.isfile(root_name):\n",
    "    print(\"root fitting\")               \n",
    "    f = ROOT.TFile(root_name)\n",
    "    #gROOT.SetBatch()\n",
    "    cscan = ROOT.TCanvas(\"cscan\",\"The Canvas Title\",640,480); cscan.cd();\n",
    "    dummy_tsbl_tree = f.Get(\"dummy_tsbl_tree\")\n",
    "    for i in range(0,0+n_channels):\n",
    "\n",
    "       #ndata = dummy_tsbl_tree.Draw(\"dummy_calib_tsbl_scan_raw>>raw_scan(33,0,30)\",\"name == \" + name  + \" && wires == \" + str(i)  )\n",
    "       ndata = dummy_tsbl_tree.Draw(\"dummy_calib_tsbl_scan_raw>>raw_scan(60,3,63)\",\"name == \" + str(name) + \" && channels == \" + str(i))# + \" && layer == 8 && chamber == 8\"  )\n",
    "       #ndata = dummy_tsbl_tree.Draw(\"dummy_calib_tsbl_scan_raw>>raw_scan(140,-10,130)\",\"\") \n",
    "        #\"name == \" + name   )       \n",
    "        \n",
    "       if (ndata > 0): \n",
    "\n",
    "               raw_scan = f.Get(\"raw_scan\")\n",
    "               ROOT.gStyle.SetOptFit(1)\n",
    "               results = fit.fit_scurve(raw_scan, 0, chisquare_limit)\n",
    "               raw_scan.DrawCopy()\n",
    "               cscan.SetLogy(1)\n",
    "               cscan.Draw()\n",
    "               cscan.Update()\n",
    "               fit_picture_file = fit_dir+\"/PT_\"+serial+\"_noiseFit_channel{:03d}\".format(i) +\".png\"\n",
    "               cscan.SaveAs(fit_picture_file)\n",
    "               #noise_plots_data += [results]\n",
    "               noise_halfmax += [results[2]]\n",
    "               noise_halfmax_err += [results[3]] \n",
    "               noise_sigma += [results[4]]\n",
    "               noise_sigma_err += [results[5]]                                       \n"
   ]
  },
  {
   "cell_type": "code",
   "execution_count": 2,
   "metadata": {},
   "outputs": [
    {
     "name": "stdout",
     "output_type": "stream",
     "text": [
      "[0.8220568197431, 0.5896001826742658]\n"
     ]
    }
   ],
   "source": [
    "print(noise_sigma)"
   ]
  },
  {
   "cell_type": "code",
   "execution_count": 3,
   "metadata": {},
   "outputs": [
    {
     "data": {
      "text/plain": [
       "13312"
      ]
     },
     "execution_count": 3,
     "metadata": {},
     "output_type": "execute_result"
    },
    {
     "name": "stderr",
     "output_type": "stream",
     "text": [
      "  % Total    % Received % Xferd  Average Speed   Time    Time     Time  Current\n",
      "                                 Dload  Upload   Total   Spent    Left  Speed\n",
      "\r",
      "  0     0    0     0    0     0      0      0 --:--:-- --:--:-- --:--:--     0\r",
      "  0     0    0     0    0     0      0      0 --:--:-- --:--:-- --:--:--     0\n",
      "curl: (52) Empty reply from server\n",
      "  % Total    % Received % Xferd  Average Speed   Time    Time     Time  Current\n",
      "                                 Dload  Upload   Total   Spent    Left  Speed\n",
      "\r",
      "  0     0    0     0    0     0      0      0 --:--:-- --:--:-- --:--:--     0\r",
      "  0     0    0     0    0     0      0      0 --:--:-- --:--:-- --:--:--     0\n",
      "curl: (52) Empty reply from server\n",
      "  % Total    % Received % Xferd  Average Speed   Time    Time     Time  Current\n",
      "                                 Dload  Upload   Total   Spent    Left  Speed\n",
      "\r",
      "  0     0    0     0    0     0      0      0 --:--:-- --:--:-- --:--:--     0\r",
      "  0     0    0     0    0     0      0      0 --:--:-- --:--:-- --:--:--     0\n",
      "curl: (52) Empty reply from server\n",
      "  % Total    % Received % Xferd  Average Speed   Time    Time     Time  Current\n",
      "                                 Dload  Upload   Total   Spent    Left  Speed\n",
      "\r",
      "  0     0    0     0    0     0      0      0 --:--:-- --:--:-- --:--:--     0\r",
      "  0     0    0     0    0     0      0      0 --:--:-- --:--:-- --:--:--     0\n",
      "curl: (52) Empty reply from server\n",
      "  % Total    % Received % Xferd  Average Speed   Time    Time     Time  Current\n",
      "                                 Dload  Upload   Total   Spent    Left  Speed\n",
      "\r",
      "  0     0    0     0    0     0      0      0 --:--:-- --:--:-- --:--:--     0\r",
      "  0     0    0     0    0     0      0      0 --:--:-- --:--:-- --:--:--     0\n",
      "curl: (52) Empty reply from server\n",
      "  % Total    % Received % Xferd  Average Speed   Time    Time     Time  Current\n",
      "                                 Dload  Upload   Total   Spent    Left  Speed\n",
      "\r",
      "  0     0    0     0    0     0      0      0 --:--:-- --:--:-- --:--:--     0\r",
      "  0     0    0     0    0     0      0      0 --:--:-- --:--:-- --:--:--     0\n",
      "curl: (52) Empty reply from server\n",
      "  % Total    % Received % Xferd  Average Speed   Time    Time     Time  Current\n",
      "                                 Dload  Upload   Total   Spent    Left  Speed\n",
      "\r",
      "  0     0    0     0    0     0      0      0 --:--:-- --:--:-- --:--:--     0\r",
      "  0     0    0     0    0     0      0      0 --:--:-- --:--:-- --:--:--     0\n",
      "curl: (52) Empty reply from server\n",
      "  % Total    % Received % Xferd  Average Speed   Time    Time     Time  Current\n",
      "                                 Dload  Upload   Total   Spent    Left  Speed\n",
      "\r",
      "  0     0    0     0    0     0      0      0 --:--:-- --:--:-- --:--:--     0\r",
      "  0     0    0     0    0     0      0      0 --:--:-- --:--:-- --:--:--     0\n",
      "curl: (52) Empty reply from server\n"
     ]
    }
   ],
   "source": [
    "import pasttrec_ctrl as ptc\n",
    "ptc.init_active_boards()\n",
    "\n",
    "import os\n",
    "\n",
    "os.system(\"curl 'http://jspc29:1290/tools/vxi/vxi.pl?192.168.0.42&%3AOUTPUT2%20ON'\")\n",
    "os.system(\"curl 'http://jspc29:1290/tools/vxi/vxi.pl?192.168.0.42&%3ASOUR2%3AFREQ%201000'\")\n",
    "os.system(\"curl 'http://jspc29:1290/tools/vxi/vxi.pl?192.168.0.42&%3ASOUR2%3AVOLT%3ALEV%3AHIGH%202000mV'\")\n",
    "os.system(\"curl 'http://jspc29:1290/tools/vxi/vxi.pl?192.168.0.42&%3ASOUR2%3AVOLT%3ALEV%3ALOW%200mV'\")\n",
    "#os.system(\"curl 'http://jspc29:1290/tools/vxi/vxi.pl?192.168.0.42&%3ASOUR2%3AVOLT%3ALEV%3AOFFS%200mV'\")\n",
    "os.system(\"curl 'http://jspc29:1290/tools/vxi/vxi.pl?192.168.0.42&%3ASOUR2%3APULS%3ADEL%200'\")\n",
    "os.system(\"curl 'http://jspc29:1290/tools/vxi/vxi.pl?192.168.0.42&%3ASOUR2%3APULS%3AWIDT%20300n'\")\n",
    "os.system(\"curl 'http://jspc29:1290/tools/vxi/vxi.pl?192.168.0.42&%3ASOUR2%3APULS%3ATRAN%3ALEAD%2025ns'\")\n",
    "os.system(\"curl 'http://jspc29:1290/tools/vxi/vxi.pl?192.168.0.42&%3ASOUR2%3APULS%3ATRAN%3ATRA%2050ns'\")\n",
    "#os.system(\"curl 'http://jspc29:1290/tools/vxi/vxi.pl?192.168.0.42&%3AOUTPUT2%20OFF'\")\n"
   ]
  },
  {
   "cell_type": "code",
   "execution_count": null,
   "metadata": {},
   "outputs": [],
   "source": []
  }
 ],
 "metadata": {
  "kernelspec": {
   "display_name": "Python 3",
   "language": "python",
   "name": "python3"
  },
  "language_info": {
   "codemirror_mode": {
    "name": "ipython",
    "version": 3
   },
   "file_extension": ".py",
   "mimetype": "text/x-python",
   "name": "python",
   "nbconvert_exporter": "python",
   "pygments_lexer": "ipython3",
   "version": "3.6.9"
  }
 },
 "nbformat": 4,
 "nbformat_minor": 4
}
