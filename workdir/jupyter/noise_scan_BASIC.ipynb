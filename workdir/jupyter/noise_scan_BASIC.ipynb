{
 "cells": [
  {
   "cell_type": "code",
   "execution_count": 1,
   "metadata": {
    "scrolled": false
   },
   "outputs": [
    {
     "name": "stdout",
     "output_type": "stream",
     "text": [
      "Welcome to JupyROOT 6.14/04\n"
     ]
    },
    {
     "data": {
      "text/html": [
       "\n",
       "    <style>\n",
       "        div#notebook-container    { width: 95%; }\n",
       "        div#menubar-container     { width: 65%; }\n",
       "        div#maintoolbar-container { width: 99%; }\n",
       "    </style>\n",
       "    "
      ],
      "text/plain": [
       "<IPython.core.display.HTML object>"
      ]
     },
     "metadata": {},
     "output_type": "display_data"
    }
   ],
   "source": [
    "#%matplotlib notebook  \n",
    "from matplotlib import pyplot as plt\n",
    "import numpy as np\n",
    "import pasttrec_ctrl as ptc\n",
    "import json\n",
    "import sigproc_kit\n",
    "import tdc_daq as td\n",
    "import baseline_calib\n",
    "import ROOT\n",
    "import db\n",
    "from cw_pasttrec_functions import *\n",
    "\n",
    "from my_utils import *\n",
    "set_width_max_of_jupyterpad()\n",
    "\n",
    "    \n",
    "def hist_rms(x,y):\n",
    "  counts = np.sum(y)\n",
    "  weights = y / counts\n",
    "  mean = np.dot(x,weights)\n",
    "  deviations = x - mean\n",
    "  return np.sqrt(np.dot(deviations**2,weights))\n",
    "def list_rms(x):\n",
    "  mean = sum(x)/len(x)\n",
    "  deviations = x - mean\n",
    "  return np.sqrt(sum(deviations**2) /len(x))\n",
    "def MeanArrays(xs,ys):\n",
    "    return np.dot(xs,ys)/sum(ys)\n",
    "def fwhm(x,y):\n",
    "  dummy, t1, tot = sigproc_kit.discriminate(x,y,np.max(y)/2.,0,0)\n",
    "  return tot"
   ]
  },
  {
   "cell_type": "code",
   "execution_count": null,
   "metadata": {
    "scrolled": false
   },
   "outputs": [],
   "source": [
    "names=[ \"4000\"]\n",
    "for name in names:\n",
    "    ptc.init_active_boards()  \n",
    "\n",
    "    print(\" parallel baseline scan board, \", name)\n",
    "    #baseline_calib.baseline_calib_by_noise(name, dummy_calib=True,individual=True) \n",
    "    baseline_calib.baseline_calib_by_noise(name, dummy_calib=True,individual=False)     \n",
    "   # baseline_calib.set_baselines_individual(name, [15]*16 )   \n",
    "    #threshold scan with pulser ON!\n",
    "    print(\"threshold scan, at baseline from config\")\n",
    "    baseline_calib.char_noise_by_thresh_scan(name,dummy_calib=True)    \n",
    "    #read threshold_scan from database:\n",
    "    dummy_calib = db.get_calib_json_by_name(name,dummy_calib=True)\n",
    "    tsbl_scan_raw = dummy_calib[\"tsbl_scan_raw\"]\n",
    "    tsbl_range    = dummy_calib[\"tsbl_range\"]\n",
    "\n",
    "     #plot current scan results for all channels:\n",
    "\n",
    "\n",
    "    # baseline scan:\n",
    "    noise_scan_raw = dummy_calib[\"noise_scan_raw\"]\n",
    "    noise_range    = dummy_calib[\"bl_range\"]\n",
    "\n",
    "    # threshold scan\n",
    "    plt.rcParams[\"figure.figsize\"] = (8,6)\n",
    "    for i in range(0,8):\n",
    "      plt.scatter(tsbl_range,tsbl_scan_raw[i],alpha=0.2,label = \"{:d}\".format(i))\n",
    "\n",
    "      plt.legend()\n",
    "      plt.xlabel(\" threshold LSB ( 2mV / LSB ) \")\n",
    "      plt.ylabel(\"mean pulse rate (Hz)\")\n",
    "      #plt.yscale('log') \n",
    "      plt.show()\n",
    "    plt.rcParams[\"figure.figsize\"] = (8,5)\n",
    "    #baselines:\n",
    "    for i in range(0,8):\n",
    "       plt.scatter(noise_range,noise_scan_raw[i],alpha=0.2,label = \"{:d}\".format(i))\n",
    "\n",
    "       plt.legend()\n",
    "       plt.xlabel(\"  baseline setting (LSB) \")\n",
    "       plt.ylabel(\"mean pulse rate (Hz)\")\n",
    "       #plt.yscale('log') \n",
    "       plt.show()\n",
    "    # staggerd plots:\n",
    "    plt.rcParams[\"figure.figsize\"] = (8,15)\n",
    "    for i in range(0,8):\n",
    "          nums = np.array(tsbl_scan_raw[i])*10**(16-i)\n",
    "          plt.scatter(tsbl_range,nums,alpha=0.2,label = \"channel {:d}\".format(i))\n",
    "\n",
    "          plt.legend()\n",
    "          plt.xlabel(\"threshold set (LSB)\")\n",
    "          plt.ylabel(\"mean pulse rate (Hz)\")\n",
    "          plt.yscale('log') \n",
    "          plt.ylim(ymax = 1E20, ymin = 1E1)\n",
    "    plt.show()\n",
    "\n",
    "    plt.rcParams[\"figure.figsize\"] = (8,15)\n",
    "    for i in range(0,8):\n",
    "         nums = np.array(noise_scan_raw[i])*10**(16-i)\n",
    "         plt.scatter(noise_range, nums,alpha=0.2,label = \"channel {:d}\".format(i))\n",
    "\n",
    "         plt.legend()\n",
    "         plt.xlabel(\"baseline setting (LSB)\")\n",
    "         plt.ylabel(\"mean pulse rate (Hz)\")\n",
    "\n",
    "    plt.yscale('log') \n",
    "    plt.ylim(ymax = 1E20, ymin = 1E1)\n",
    "    plt.show()\n",
    "ptc.init_active_boards()  \n"
   ]
  },
  {
   "cell_type": "code",
   "execution_count": null,
   "metadata": {},
   "outputs": [],
   "source": [
    "ptc.init_active_boards()  "
   ]
  },
  {
   "cell_type": "code",
   "execution_count": null,
   "metadata": {},
   "outputs": [],
   "source": []
  },
  {
   "cell_type": "code",
   "execution_count": null,
   "metadata": {},
   "outputs": [],
   "source": []
  }
 ],
 "metadata": {
  "kernelspec": {
   "display_name": "Python 3",
   "language": "python",
   "name": "python3"
  },
  "language_info": {
   "codemirror_mode": {
    "name": "ipython",
    "version": 3
   },
   "file_extension": ".py",
   "mimetype": "text/x-python",
   "name": "python",
   "nbconvert_exporter": "python",
   "pygments_lexer": "ipython3",
   "version": "3.6.9"
  }
 },
 "nbformat": 4,
 "nbformat_minor": 4
}
