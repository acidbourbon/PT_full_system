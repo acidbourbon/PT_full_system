{
 "cells": [
  {
   "cell_type": "code",
   "execution_count": 1,
   "metadata": {},
   "outputs": [],
   "source": [
    "import scalers\n",
    "import os\n",
    "import numpy as np\n",
    "from matplotlib import pyplot as plt\n",
    "from my_utils import *\n",
    "\n",
    "clear_data_dir()"
   ]
  },
  {
   "cell_type": "code",
   "execution_count": 2,
   "metadata": {
    "scrolled": true
   },
   "outputs": [
    {
     "name": "stdout",
     "output_type": "stream",
     "text": [
      "::::::::::::::::::::\n",
      ":::::::::...........\n",
      "....................\n",
      "....................\n",
      "....................\n",
      "....................\n",
      "....................\n",
      "......."
     ]
    }
   ],
   "source": [
    "tdc = \"0x0351\"\n",
    "chan = 4 # zero based\n",
    "acq_time = 0.1\n",
    "\n",
    "trig_chan = 30\n",
    "trig_veto_rate = 4000\n",
    "\n",
    "\n",
    "scalers.padiwa_thresh(tdc,chan,0x8000)\n",
    "\n",
    "thresh_list = []\n",
    "rate_list   = []\n",
    "state_list  = []\n",
    "\n",
    "spillbreak_rate_list   = []\n",
    "\n",
    "c=0\n",
    "for i in np.arange(20000,50000,0xFF):\n",
    "  scalers.padiwa_thresh(tdc,chan,i)\n",
    "\n",
    "  while True:\n",
    "    rates = scalers.scaler_rate(tdc,[chan,trig_chan],acq_time)\n",
    "    rate = rates[0]\n",
    "    trig_rate = rates[1]\n",
    "    state = scalers.read_ch_state(tdc,[chan])[0]\n",
    "    \n",
    "    if (trig_rate/acq_time > trig_veto_rate):\n",
    "    \n",
    "      #thresh_list += [i]\n",
    "      rate_list += [rate]\n",
    "      #state_list += [state]\n",
    "      print(\".\",end=\"\")\n",
    "      break\n",
    "    else:\n",
    "      print(\":\",end=\"\")\n",
    "      c+=1\n",
    "      if (c%20 == 0 ):\n",
    "        print(\"\")\n",
    "  c+=1\n",
    "  if (c%20 == 0 ):\n",
    "    print(\"\")\n",
    "    "
   ]
  },
  {
   "cell_type": "code",
   "execution_count": 3,
   "metadata": {},
   "outputs": [
    {
     "name": "stdout",
     "output_type": "stream",
     "text": [
      "::::::::::::::::::::\n",
      "::::::::::::::::::::\n",
      "::::::::::::::::::::\n",
      "::::::::::::::::::::\n",
      "::::::::::::::::::::\n",
      "::::::::::::::::::::\n",
      "::::::::::::::::::::\n",
      "::::::::::::::::::::\n",
      "::::::::::::::::::::\n",
      "::::::::::::::::::::\n",
      "::::::::::::::::::::\n",
      "::::::::::::::::::::\n",
      "::::::::::::::::::::\n",
      "::::::::::::::::::::\n",
      ":::.................\n",
      "....................\n",
      "....................\n",
      ".........::::::.::::\n",
      "::::::::::::::::::::\n",
      "::::::::::::::::::::\n",
      "::::::::::::::::::::\n",
      "::::::::::::::::::::\n",
      "::::::::::::::::::::\n",
      "::::::::::::::::::::\n",
      "::::::::::::::::::::\n",
      "::::::::::::::::::::\n",
      "::::::::::::::::::::\n",
      "::::::::::::::::::::\n",
      "::::::::::::::::::::\n",
      "::::::::::::::::::::\n",
      "::::::::::::::::::::\n",
      "::::::::::::::::::::\n",
      "::::::::::::::::::::\n",
      "::::::::::::::::::::\n",
      "::::::::::::::::::::\n",
      "::::::::::::::::::::\n",
      "::::::::::::::::::::\n",
      "::::::::::::::::::::\n",
      "::::::::::::::::::::\n",
      "::::::::::::::::::::\n",
      "::::::::::::........\n",
      "....................\n",
      "....................\n",
      "..."
     ]
    }
   ],
   "source": [
    "c = 0\n",
    "\n",
    "for i in np.arange(20000,50000,0xFF):\n",
    "  scalers.padiwa_thresh(tdc,chan,i)\n",
    "\n",
    "  while True:\n",
    "    rates = scalers.scaler_rate(tdc,[chan,trig_chan],acq_time)\n",
    "    rate = rates[0]\n",
    "    trig_rate = rates[1]\n",
    "    state = scalers.read_ch_state(tdc,[chan])[0]\n",
    "    \n",
    "    if (trig_rate/acq_time < trig_veto_rate):\n",
    "    \n",
    "      thresh_list += [i]\n",
    "      spillbreak_rate_list += [rate]\n",
    "      state_list += [state]\n",
    "      print(\".\",end=\"\")\n",
    "      break\n",
    "    else:\n",
    "      print(\":\",end=\"\")\n",
    "      c+=1\n",
    "      if (c%20 == 0 ):\n",
    "        print(\"\")\n",
    "    \n",
    "  c+=1\n",
    "  if (c%20 == 0 ):\n",
    "    print(\"\")"
   ]
  },
  {
   "cell_type": "code",
   "execution_count": 4,
   "metadata": {},
   "outputs": [
    {
     "name": "stdout",
     "output_type": "stream",
     "text": [
      "saving to /workdir/jupyter/padiwa_thresh_scan_diamond_data/000.svg\n",
      "saving to /workdir/jupyter/padiwa_thresh_scan_diamond_data/000.pickle\n"
     ]
    },
    {
     "data": {
      "image/png": "[encoded data removed]",
      "text/plain": [
       "<matplotlib.figure.Figure at 0x7fdef0989a90>"
      ]
     },
     "metadata": {
      "needs_background": "light"
     },
     "output_type": "display_data"
    },
    {
     "name": "stdout",
     "output_type": "stream",
     "text": [
      "saving to /workdir/jupyter/padiwa_thresh_scan_diamond_data/rate_list.pickle\n",
      "saving to /workdir/jupyter/padiwa_thresh_scan_diamond_data/state_list.pickle\n",
      "saving to /workdir/jupyter/padiwa_thresh_scan_diamond_data/thresh_list.pickle\n",
      "saving to /workdir/jupyter/padiwa_thresh_scan_diamond_data/spillbreak_rate_list.pickle\n"
     ]
    }
   ],
   "source": [
    "from matplotlib import pyplot as plt\n",
    "\n",
    "thresh_list = np.array(thresh_list)\n",
    "rate_list = np.array(rate_list)\n",
    "rate_list = rate_list + (rate_list == 0)*0.5\n",
    "state_list = np.array(state_list)\n",
    "\n",
    "spillbreak_rate_list = np.array(spillbreak_rate_list)\n",
    "spillbreak_rate_list = spillbreak_rate_list + (spillbreak_rate_list == 0)*0.5\n",
    "\n",
    "plt.plot(thresh_list,np.log(rate_list),label=\"log scaler rate ch {:d}\".format(chan))\n",
    "plt.plot(thresh_list,np.log(spillbreak_rate_list),label=\".. in spill break\")\n",
    "plt.plot(thresh_list,state_list*10,label=\"input state (idle polarity)\")\n",
    "plt.xlabel(\"PADIWA threshold\")\n",
    "plt.ylabel(\"log scaler rate\")\n",
    "plt.ylim(-1,15)\n",
    "plt.legend()\n",
    "show(plt)\n",
    "\n",
    "pickle_this(rate_list,\"rate_list\")\n",
    "pickle_this(state_list,\"state_list\")\n",
    "pickle_this(thresh_list,\"thresh_list\")\n",
    "pickle_this(spillbreak_rate_list,\"spillbreak_rate_list\")"
   ]
  },
  {
   "cell_type": "code",
   "execution_count": 5,
   "metadata": {},
   "outputs": [],
   "source": [
    "# set optimal threshold\n",
    "\n",
    "scalers.padiwa_thresh(tdc,chan,32000)"
   ]
  },
  {
   "cell_type": "code",
   "execution_count": 7,
   "metadata": {},
   "outputs": [],
   "source": [
    "#archive(label=\"diamond_microcircuits_padiwa\")"
   ]
  }
 ],
 "metadata": {
  "kernelspec": {
   "display_name": "Python 3",
   "language": "python",
   "name": "python3"
  },
  "language_info": {
   "codemirror_mode": {
    "name": "ipython",
    "version": 3
   },
   "file_extension": ".py",
   "mimetype": "text/x-python",
   "name": "python",
   "nbconvert_exporter": "python",
   "pygments_lexer": "ipython3",
   "version": "3.6.8"
  }
 },
 "nbformat": 4,
 "nbformat_minor": 2
}
