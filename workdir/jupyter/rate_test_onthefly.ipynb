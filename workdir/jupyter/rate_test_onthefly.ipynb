{
 "cells": [
  {
   "cell_type": "code",
   "execution_count": 1,
   "metadata": {},
   "outputs": [
    {
     "name": "stdout",
     "output_type": "stream",
     "text": [
      "Welcome to JupyROOT 6.14/04\n"
     ]
    },
    {
     "data": {
      "text/plain": [
       "0"
      ]
     },
     "execution_count": 1,
     "metadata": {},
     "output_type": "execute_result"
    }
   ],
   "source": [
    "import ROOT\n",
    "import os\n",
    "from my_utils import *\n",
    "from fst import *\n",
    "import numpy as np\n",
    "\n",
    "import pasttrec_ctrl as ptc\n",
    "\n",
    "#import phidrive\n",
    "import micos_eco\n",
    "\n",
    "data_dir = make_data_dir()\n",
    "\n",
    "\n",
    "\n",
    "from ROOT import gInterpreter, gSystem\n",
    "gInterpreter.ProcessLine('#include \"/workdir/my_event.h\"')\n",
    "\n",
    "\n"
   ]
  },
  {
   "cell_type": "code",
   "execution_count": 2,
   "metadata": {},
   "outputs": [
    {
     "name": "stdout",
     "output_type": "stream",
     "text": [
      "(78.5, 71.0, 0.0)\n",
      "done\n",
      "init board 0009\n",
      "set baselines of the following channels\n",
      "[16, 17, 18, 19, 20, 21, 22, 23, 24]\n",
      "to the following values\n",
      "[1.0, 5.0, -1.0, 7.0, 5.0, 4.0, 3.0, 7.0, 6.0]\n",
      "set baselines of the following channels\n",
      "[24, 25, 26, 27, 28, 29, 30, 31]\n",
      "to the following values\n",
      "[6.0, -0.0, 1.0, 0.0, -4.0, 3.0, 2.0, 4.0]\n",
      "init board 0014\n",
      "set baselines of the following channels\n",
      "[0, 1, 2, 3, 4, 5, 6, 7, 8]\n",
      "to the following values\n",
      "[3.0, 2.0, 7.0, 8.0, 2.0, 5.0, 3.0, 7.0, 9.0]\n",
      "set baselines of the following channels\n",
      "[8, 9, 10, 11, 12, 13, 14, 15]\n",
      "to the following values\n",
      "[9.0, 8.0, 3.0, 8.0, 5.0, 8.0, 4.0, 0.0]\n",
      "GO4-*> Reading library: libGo4UserAnalysis  \n",
      "GO4-*> Close of TUserSource  \n",
      "GO4-*> Create default analysis with processor class TFirstStepProcessor  \n",
      "GO4-*> Use class TStreamEvent as output event  \n",
      "GO4-*> Welcome to Go4 Analysis Framework Release v5.9.0 (build 50900) !  \n",
      "GO4-*> Analysis: Added analysis step Analysis  \n",
      "GO4-*> Main: starting analysis in batch mode ...    \n",
      "GO4-!> Fail to open AutoSave file Go4AutoSave.root  \n",
      "GO4-*> Analysis LoadObjects: Failed to load from file Go4AutoSave.root  \n",
      "Use MBS source port 6789\n",
      "f_evt_get_open for STREAM: port=6789 timeout=1  \n",
      "GO4-*> Factory: Create input event for MBS  \n",
      "GO4-*> Event MbsEvent101 has source localhost:6789 class: TGo4MbsStream  \n",
      "GO4-*> Factory: Create event processor Processor  \n",
      "GO4-*> Create TFirstStepProcessor Processor  \n",
      "GO4-*> Executing ROOT script first.C  \n",
      "HLD configure calibration calfile:test_  cnt:0 trig:0 temp:0\n",
      "GO4-*> Executing ROOT script second.C+  \n",
      "Create Sec_0350 for TDC_0350\n",
      "Create Sec_0351 for TDC_0351\n",
      "GO4-*> Factory: Create output event OutputEvent  \n",
      "GO4-*> Event OutputEvent has source Processor class: TFirstStepProcessor  \n",
      "GO4-*> Analysis --  Initializing EventClasses done.  \n",
      "GO4-*> Analysis loop is starting...  \n",
      "GO4-*> MBS source:: First event = 0 step = 0\n",
      "  \n",
      "Create TRB 0xc035 procmgr 0x55fc42ebd098 hlvl 4 \n",
      "TRB_C035: Create TDC 0x0350 nch:53 edges:2\n",
      "TRB_C035: Create TDC 0x0351 nch:53 edges:2\n",
      "TRB_C035: Saw ID 0x0352 in autocreate mode\n",
      "TRB_C035: Saw ID 0x0353 in autocreate mode\n",
      "TDC_0350 reading calibration from test_0350.cal, tcorr:  0.0 uset:0 done\n",
      "TDC_0351 reading calibration from test_0351.cal, tcorr:  0.0 uset:0 done\n",
      "direct func call after_create\n",
      "Called after all sub-components are created\n",
      "Configure TRB_C035!\n",
      "Configure TDC_0350!\n",
      "Configure TDC_0351!\n",
      "GO4-*> Analysis implicit Loop has finished after 3520 cycles.  \n",
      "TDC_0350 produce normal calibrations \n",
      "TDC_0350 storing calibration in test_0350.cal.info\n",
      "TDC_0351 produce normal calibrations \n",
      "TDC_0351 storing calibration in test_0351.cal.info\n",
      "--- User Post Loop TDC_0350\n",
      "write tree_out.root\n",
      "--- User Post Loop TDC_0351\n",
      "write tree_out.root\n",
      "GO4-*> Opening AutoSave file Go4AutoSave.root with RECREATE mode  \n",
      "GO4-*> AutoSave file Go4AutoSave.root was closed.  \n",
      "GO4-*> Input 3520  Output 3520  Total processed size = 2925992  \n",
      "GO4-*> Main: analysis batch done  \n",
      "GO4-*> Main: THE END  \n",
      "\n",
      "Processing unify.C...\n",
      "get t1 offsets from database\n",
      "unify_channel_info/0353.channel_info.txt\n",
      "unify_channel_info/0x0350.channel_info.txt\n",
      "unify_channel_info/0x0351.channel_info.txt\n",
      "unify_channel_info/0x0352.channel_info.txt\n",
      "unify_channel_info/0x0353.channel_info.txt\n",
      "unify_channel_info/0x1500.channel_info.txt\n",
      "unify_channel_info/0x1501.channel_info.txt\n",
      "unify_channel_info/0x1502.channel_info.txt\n",
      "unify_channel_info/0x1503.channel_info.txt\n",
      "unify_channel_info/0xeeef.channel_info.txt\n",
      "unify!\n",
      "read global reference channel: 35103\n",
      "found data tree for tdc: TDC_0350\n",
      "get t1 offsets for tdc: 0x0350\n",
      "read t1 offsets of 0x0350\n",
      " \n",
      "line: -9.288794\t2\t1\t3\t15\n",
      "chan 1 t1_offset -9.28879 chamber 2 layer 1 fpc 3 wire 15\n",
      "line: -11.159857\t2\t1\t3\t14\n",
      "chan 2 t1_offset -11.1599 chamber 2 layer 1 fpc 3 wire 14\n",
      "line: -10.223099\t2\t1\t3\t13\n",
      "chan 3 t1_offset -10.2231 chamber 2 layer 1 fpc 3 wire 13\n",
      "line: -11.514480\t2\t1\t3\t12\n",
      "chan 4 t1_offset -11.5145 chamber 2 layer 1 fpc 3 wire 12\n",
      "line: -8.424129\t2\t1\t2\t11\n",
      "chan 5 t1_offset -8.42413 chamber 2 layer 1 fpc 2 wire 11\n",
      "line: -12.934562\t2\t1\t2\t10\n",
      "chan 6 t1_offset -12.9346 chamber 2 layer 1 fpc 2 wire 10\n",
      "line: -10.539336\t2\t1\t2\t9\n",
      "chan 7 t1_offset -10.5393 chamber 2 layer 1 fpc 2 wire 9\n",
      "line: -9.941548\t2\t1\t2\t8\n",
      "chan 8 t1_offset -9.94155 chamber 2 layer 1 fpc 2 wire 8\n",
      "line: -11.630276\t2\t1\t1\t7\n",
      "chan 9 t1_offset -11.6303 chamber 2 layer 1 fpc 1 wire 7\n",
      "line: -12.012691\t2\t1\t1\t6\n",
      "chan 10 t1_offset -12.0127 chamber 2 layer 1 fpc 1 wire 6\n",
      "line: -10.348764\t2\t1\t1\t5\n",
      "chan 11 t1_offset -10.3488 chamber 2 layer 1 fpc 1 wire 5\n",
      "line: -11.244469\t2\t1\t1\t4\n",
      "chan 12 t1_offset -11.2445 chamber 2 layer 1 fpc 1 wire 4\n",
      "line: -10.549174\t2\t1\t0\t3\n",
      "chan 13 t1_offset -10.5492 chamber 2 layer 1 fpc 0 wire 3\n",
      "line: -13.926312\t2\t1\t0\t2\n",
      "chan 14 t1_offset -13.9263 chamber 2 layer 1 fpc 0 wire 2\n",
      "line: -10.387232\t2\t1\t0\t1\n",
      "chan 15 t1_offset -10.3872 chamber 2 layer 1 fpc 0 wire 1\n",
      "line: -11.625690\t2\t1\t0\t0\n",
      "chan 16 t1_offset -11.6257 chamber 2 layer 1 fpc 0 wire 0\n",
      "line: -12.082166\t2\t2\t0\t0\n",
      "chan 17 t1_offset -12.0822 chamber 2 layer 2 fpc 0 wire 0\n",
      "line: -12.538071\t2\t2\t0\t1\n",
      "chan 18 t1_offset -12.5381 chamber 2 layer 2 fpc 0 wire 1\n",
      "line: -12.023208\t2\t2\t0\t2\n",
      "chan 19 t1_offset -12.0232 chamber 2 layer 2 fpc 0 wire 2\n",
      "line: -13.738293\t2\t2\t0\t3\n",
      "chan 20 t1_offset -13.7383 chamber 2 layer 2 fpc 0 wire 3\n",
      "line: -14.198562\t2\t2\t1\t4\n",
      "chan 21 t1_offset -14.1986 chamber 2 layer 2 fpc 1 wire 4\n",
      "line: -13.055859\t2\t2\t1\t5\n",
      "chan 22 t1_offset -13.0559 chamber 2 layer 2 fpc 1 wire 5\n",
      "line: -8.071987\t2\t2\t1\t6\n",
      "chan 23 t1_offset -8.07199 chamber 2 layer 2 fpc 1 wire 6\n",
      "line: -13.185161\t2\t2\t1\t7\n",
      "chan 24 t1_offset -13.1852 chamber 2 layer 2 fpc 1 wire 7\n",
      "line: -10.567132\t2\t2\t2\t8\n",
      "chan 25 t1_offset -10.5671 chamber 2 layer 2 fpc 2 wire 8\n",
      "line: -12.644178\t2\t2\t2\t9\n",
      "chan 26 t1_offset -12.6442 chamber 2 layer 2 fpc 2 wire 9\n",
      "line: -8.875171\t2\t2\t2\t10\n",
      "chan 27 t1_offset -8.87517 chamber 2 layer 2 fpc 2 wire 10\n",
      "line: -10.940226\t2\t2\t2\t11\n",
      "chan 28 t1_offset -10.9402 chamber 2 layer 2 fpc 2 wire 11\n",
      "line: -12.177673\t2\t2\t3\t12\n",
      "chan 29 t1_offset -12.1777 chamber 2 layer 2 fpc 3 wire 12\n",
      "line: -14.791716\t2\t2\t3\t13\n",
      "chan 30 t1_offset -14.7917 chamber 2 layer 2 fpc 3 wire 13\n",
      "line: -11.525323\t2\t2\t3\t14\n",
      "chan 31 t1_offset -11.5253 chamber 2 layer 2 fpc 3 wire 14\n",
      "line: -11.596269\t2\t2\t3\t15\n",
      "chan 32 t1_offset -11.5963 chamber 2 layer 2 fpc 3 wire 15\n",
      "line: -11.561535\t-1\t-1\t-1\t-1\n",
      "chan 33 t1_offset -11.5615 chamber -1 layer -1 fpc -1 wire -1\n",
      "line: -12.046441\t-1\t-1\t-1\t-1\n",
      "chan 34 t1_offset -12.0464 chamber -1 layer -1 fpc -1 wire -1\n",
      "line: -10.855118\t-1\t-1\t-1\t-1\n",
      "chan 35 t1_offset -10.8551 chamber -1 layer -1 fpc -1 wire -1\n",
      "line: -13.449825\t-1\t-1\t-1\t-1\n",
      "chan 36 t1_offset -13.4498 chamber -1 layer -1 fpc -1 wire -1\n",
      "line: -11.125367\t-1\t-1\t-1\t-1\n",
      "chan 37 t1_offset -11.1254 chamber -1 layer -1 fpc -1 wire -1\n",
      "line: -13.034907\t-1\t-1\t-1\t-1\n",
      "chan 38 t1_offset -13.0349 chamber -1 layer -1 fpc -1 wire -1\n",
      "line: -12.386124\t-1\t-1\t-1\t-1\n",
      "chan 39 t1_offset -12.3861 chamber -1 layer -1 fpc -1 wire -1\n",
      "line: -11.967872\t-1\t-1\t-1\t-1\n",
      "chan 40 t1_offset -11.9679 chamber -1 layer -1 fpc -1 wire -1\n",
      "line: -11.070013\t-1\t-1\t-1\t-1\n",
      "chan 41 t1_offset -11.07 chamber -1 layer -1 fpc -1 wire -1\n",
      "line: -13.903866\t-1\t-1\t-1\t-1\n",
      "chan 42 t1_offset -13.9039 chamber -1 layer -1 fpc -1 wire -1\n",
      "line: -12.890277\t-1\t-1\t-1\t-1\n",
      "chan 43 t1_offset -12.8903 chamber -1 layer -1 fpc -1 wire -1\n",
      "line: -13.081436\t-1\t-1\t-1\t-1\n",
      "chan 44 t1_offset -13.0814 chamber -1 layer -1 fpc -1 wire -1\n",
      "line: -13.693559\t-1\t-1\t-1\t-1\n",
      "chan 45 t1_offset -13.6936 chamber -1 layer -1 fpc -1 wire -1\n",
      "line: -13.825211\t-1\t-1\t-1\t-1\n",
      "chan 46 t1_offset -13.8252 chamber -1 layer -1 fpc -1 wire -1\n",
      "line: -11.618470\t-1\t-1\t-1\t-1\n",
      "chan 47 t1_offset -11.6185 chamber -1 layer -1 fpc -1 wire -1\n",
      "line: -9.331195\t-1\t-1\t-1\t-1\n",
      "chan 48 t1_offset -9.33119 chamber -1 layer -1 fpc -1 wire -1\n",
      "TDC channel prefix/offset (100 possible TDC channels left): 35000\n",
      "    tree: TDC_0350 entries: 45984\n",
      "\n",
      "\n",
      "found data tree for tdc: TDC_0351\n",
      "get t1 offsets for tdc: 0x0351\n",
      "read t1 offsets of 0x0351\n",
      " \n",
      "line: -11.193056\t0\t2\t13\t55\n",
      "chan 1 t1_offset -11.1931 chamber 0 layer 2 fpc 13 wire 55\n",
      "line: -13.166650\t0\t2\t13\t54\n",
      "chan 2 t1_offset -13.1666 chamber 0 layer 2 fpc 13 wire 54\n",
      "line: -11.259544\t0\t2\t13\t53\n",
      "chan 3 t1_offset -11.2595 chamber 0 layer 2 fpc 13 wire 53\n",
      "line: -12.598782\t0\t2\t13\t52\n",
      "chan 4 t1_offset -12.5988 chamber 0 layer 2 fpc 13 wire 52\n",
      "line: -9.601245\t0\t2\t12\t51\n",
      "chan 5 t1_offset -9.60124 chamber 0 layer 2 fpc 12 wire 51\n",
      "line: -13.607232\t0\t2\t12\t50\n",
      "chan 6 t1_offset -13.6072 chamber 0 layer 2 fpc 12 wire 50\n",
      "line: -11.503416\t0\t2\t12\t49\n",
      "chan 7 t1_offset -11.5034 chamber 0 layer 2 fpc 12 wire 49\n",
      "line: -10.729133\t0\t2\t12\t48\n",
      "chan 8 t1_offset -10.7291 chamber 0 layer 2 fpc 12 wire 48\n",
      "line: -12.651144\t0\t2\t11\t47\n",
      "chan 9 t1_offset -12.6511 chamber 0 layer 2 fpc 11 wire 47\n",
      "line: -13.457971\t0\t2\t11\t46\n",
      "chan 10 t1_offset -13.458 chamber 0 layer 2 fpc 11 wire 46\n",
      "line: -11.882136\t0\t2\t11\t45\n",
      "chan 11 t1_offset -11.8821 chamber 0 layer 2 fpc 11 wire 45\n",
      "line: -12.613098\t0\t2\t11\t44\n",
      "chan 12 t1_offset -12.6131 chamber 0 layer 2 fpc 11 wire 44\n",
      "line: -12.056860\t0\t2\t10\t43\n",
      "chan 13 t1_offset -12.0569 chamber 0 layer 2 fpc 10 wire 43\n",
      "line: -15.055980\t0\t2\t10\t42\n",
      "chan 14 t1_offset -15.056 chamber 0 layer 2 fpc 10 wire 42\n",
      "line: -11.637590\t0\t2\t10\t41\n",
      "chan 15 t1_offset -11.6376 chamber 0 layer 2 fpc 10 wire 41\n",
      "line: -13.017920\t0\t2\t10\t40\n",
      "chan 16 t1_offset -13.0179 chamber 0 layer 2 fpc 10 wire 40\n",
      "line: -9.398501\t0\t2\t17\t71\n",
      "chan 17 t1_offset -9.3985 chamber 0 layer 2 fpc 17 wire 71\n",
      "line: -9.802767\t0\t2\t17\t70\n",
      "chan 18 t1_offset -9.80277 chamber 0 layer 2 fpc 17 wire 70\n",
      "line: -9.601917\t0\t2\t17\t69\n",
      "chan 19 t1_offset -9.60192 chamber 0 layer 2 fpc 17 wire 69\n",
      "line: -11.201095\t0\t2\t17\t68\n",
      "chan 20 t1_offset -11.2011 chamber 0 layer 2 fpc 17 wire 68\n",
      "line: -11.792897\t0\t2\t16\t67\n",
      "chan 21 t1_offset -11.7929 chamber 0 layer 2 fpc 16 wire 67\n",
      "line: -10.455660\t0\t2\t16\t66\n",
      "chan 22 t1_offset -10.4557 chamber 0 layer 2 fpc 16 wire 66\n",
      "line: -5.870917\t0\t2\t16\t65\n",
      "chan 23 t1_offset -5.87092 chamber 0 layer 2 fpc 16 wire 65\n",
      "line: -10.872486\t0\t2\t16\t64\n",
      "chan 24 t1_offset -10.8725 chamber 0 layer 2 fpc 16 wire 64\n",
      "line: -8.624268\t0\t2\t15\t63\n",
      "chan 25 t1_offset -8.62427 chamber 0 layer 2 fpc 15 wire 63\n",
      "line: -11.622337\t0\t2\t15\t62\n",
      "chan 26 t1_offset -11.6223 chamber 0 layer 2 fpc 15 wire 62\n",
      "line: -6.917201\t0\t2\t15\t61\n",
      "chan 27 t1_offset -6.9172 chamber 0 layer 2 fpc 15 wire 61\n",
      "line: -9.011486\t0\t2\t15\t60\n",
      "chan 28 t1_offset -9.01149 chamber 0 layer 2 fpc 15 wire 60\n",
      "line: -10.384979\t0\t2\t14\t59\n",
      "chan 29 t1_offset -10.385 chamber 0 layer 2 fpc 14 wire 59\n",
      "line: -12.948013\t0\t2\t14\t58\n",
      "chan 30 t1_offset -12.948 chamber 0 layer 2 fpc 14 wire 58\n",
      "line: -9.785527\t0\t2\t14\t57\n",
      "chan 31 t1_offset -9.78553 chamber 0 layer 2 fpc 14 wire 57\n",
      "line: -9.328754\t0\t2\t14\t56\n",
      "chan 32 t1_offset -9.32875 chamber 0 layer 2 fpc 14 wire 56\n",
      "line: -12.143891\t0\t2\t23\t95\n",
      "chan 33 t1_offset -12.1439 chamber 0 layer 2 fpc 23 wire 95\n",
      "line: -12.845504\t0\t2\t23\t94\n",
      "chan 34 t1_offset -12.8455 chamber 0 layer 2 fpc 23 wire 94\n",
      "line: -11.252515\t0\t2\t23\t93\n",
      "chan 35 t1_offset -11.2525 chamber 0 layer 2 fpc 23 wire 93\n",
      "line: -14.202573\t0\t2\t23\t92\n",
      "chan 36 t1_offset -14.2026 chamber 0 layer 2 fpc 23 wire 92\n",
      "line: -11.746534\t0\t2\t22\t91\n",
      "chan 37 t1_offset -11.7465 chamber 0 layer 2 fpc 22 wire 91\n",
      "line: -13.847972\t0\t2\t22\t90\n",
      "chan 38 t1_offset -13.848 chamber 0 layer 2 fpc 22 wire 90\n",
      "line: -12.922979\t0\t2\t22\t89\n",
      "chan 39 t1_offset -12.923 chamber 0 layer 2 fpc 22 wire 89\n",
      "line: -12.420961\t0\t2\t22\t88\n",
      "chan 40 t1_offset -12.421 chamber 0 layer 2 fpc 22 wire 88\n",
      "line: -11.518025\t0\t2\t21\t87\n",
      "chan 41 t1_offset -11.518 chamber 0 layer 2 fpc 21 wire 87\n",
      "line: -14.657226\t0\t2\t21\t86\n",
      "chan 42 t1_offset -14.6572 chamber 0 layer 2 fpc 21 wire 86\n",
      "line: -13.512579\t0\t2\t21\t85\n",
      "chan 43 t1_offset -13.5126 chamber 0 layer 2 fpc 21 wire 85\n",
      "line: -13.702288\t0\t2\t21\t84\n",
      "chan 44 t1_offset -13.7023 chamber 0 layer 2 fpc 21 wire 84\n",
      "line: -14.294878\t0\t2\t20\t83\n",
      "chan 45 t1_offset -14.2949 chamber 0 layer 2 fpc 20 wire 83\n",
      "line: -14.604696\t0\t2\t20\t82\n",
      "chan 46 t1_offset -14.6047 chamber 0 layer 2 fpc 20 wire 82\n",
      "line: -12.290672\t0\t2\t20\t81\n",
      "chan 47 t1_offset -12.2907 chamber 0 layer 2 fpc 20 wire 81\n",
      "line: -10.173099\t0\t2\t20\t80\n",
      "chan 48 t1_offset -10.1731 chamber 0 layer 2 fpc 20 wire 80\n",
      "TDC channel prefix/offset (100 possible TDC channels left): 35100\n",
      "    tree: TDC_0351 entries: 3891\n",
      "\n",
      "\n",
      "found data tree for tdc: TDC_0350\n",
      "found data tree for tdc: TDC_0351\n"
     ]
    },
    {
     "name": "stderr",
     "output_type": "stream",
     "text": [
      "rm: cannot remove '*.root': No such file or directory\n",
      "Info in <TUnixSystem::ACLiC>: creating shared library /workdir/./second_C.so\n"
     ]
    }
   ],
   "source": [
    "##################################################\n",
    "##   clear data dir, copy root file or measure fresh    ##\n",
    "##################################################\n",
    "\n",
    "micos_eco.move(x=78.5,y=71)\n",
    "\n",
    "## new data or existing data?\n",
    "\n",
    "fresh = 1\n",
    "\n",
    "if fresh:\n",
    "  trigger_ufsd()\n",
    "  #trigger_scinti()\n",
    "  \n",
    "  ptc.init_active_boards()\n",
    "  ptc.set_threshold_for_board_by_name(\"0009\",30)\n",
    "  ptc.set_threshold_for_board_by_name(\"0014\",30)\n",
    "\n",
    "  #take_data(events=2000)\n",
    "  take_data(time=20)\n",
    "\n",
    "  clear_data_dir()\n",
    "  os.system(\"cp /workdir/joint_tree.root {:s}/\".format(data_dir))"
   ]
  },
  {
   "cell_type": "code",
   "execution_count": 3,
   "metadata": {},
   "outputs": [],
   "source": [
    "##################################################\n",
    "##               slurp root file                ##\n",
    "##################################################\n",
    "\n",
    "#c = ROOT.TCanvas(\"myCanvasName\",\"The Canvas Title\",640,480)\n",
    "c = ROOT.TCanvas(\"myCanvasName\",\"The Canvas Title\",500,400)\n",
    "\n",
    "f = ROOT.TFile(\"{:s}/joint_tree.root\".format(data_dir))\n",
    "tree = f.Get(\"joint_tree\")\n",
    "\n",
    "#c.Draw()"
   ]
  },
  {
   "cell_type": "code",
   "execution_count": 4,
   "metadata": {
    "scrolled": false
   },
   "outputs": [
    {
     "data": {
      "image/png": "[encoded data removed]",
      "text/plain": [
       "<IPython.core.display.Image object>"
      ]
     },
     "metadata": {},
     "output_type": "display_data"
    }
   ],
   "source": [
    "##################################################\n",
    "##             overview TDC 0x0351              ##\n",
    "##################################################\n",
    "\n",
    "\n",
    "tdc=351\n",
    "disp_channels = 36\n",
    "tree.Draw(\"chan:t1>>t1_meta(1000,-300,300,{:d},{:d},{:d})\".format(disp_channels,tdc*100,tdc*100+disp_channels),\"\",\"lego2\")\n",
    "c.Draw()"
   ]
  },
  {
   "cell_type": "code",
   "execution_count": 5,
   "metadata": {},
   "outputs": [
    {
     "name": "stderr",
     "output_type": "stream",
     "text": [
      "Error in <TSelectorDraw::DrawSelect>: ncols*3 < ncomma ncols=1, ncomma=6\n"
     ]
    },
    {
     "data": {
      "image/png": "[encoded data removed]",
      "text/plain": [
       "<IPython.core.display.Image object>"
      ]
     },
     "metadata": {},
     "output_type": "display_data"
    }
   ],
   "source": [
    "chan = 35103 \n",
    "tree.Draw(\"t1>>t1(1000,-300,300,{:d},{:d},{:d})\".format(disp_channels,tdc*100,tdc*100+disp_channels),\"chan=={:d}\".format(chan),\"colz\")\n",
    "t1=f.Get(\"t1\")\n",
    "t1.SetTitle(\"UFSD t1\")\n",
    "t1.GetXaxis().SetTitle(\"time (ns)\")\n",
    "t1.GetYaxis().SetTitle(\"counts\")\n",
    "c.Draw()"
   ]
  },
  {
   "cell_type": "code",
   "execution_count": 6,
   "metadata": {},
   "outputs": [
    {
     "name": "stdout",
     "output_type": "stream",
     "text": [
      " FCN=18.4865 FROM MIGRAD    STATUS=CONVERGED     131 CALLS         132 TOTAL\n",
      "                     EDM=3.17499e-07    STRATEGY= 1      ERROR MATRIX ACCURATE \n",
      "  EXT PARAMETER                                   STEP         FIRST   \n",
      "  NO.   NAME      VALUE            ERROR          SIZE      DERIVATIVE \n",
      "   1  Constant     1.06657e+02   1.09281e+01   1.83533e-02  -8.34676e-05\n",
      "   2  Mean         3.16240e+01   2.82206e-02   6.07664e-05   1.29186e-02\n",
      "   3  Sigma        3.51028e-01   2.26954e-02   2.02298e-05  -4.76766e-02\n"
     ]
    },
    {
     "name": "stderr",
     "output_type": "stream",
     "text": [
      "Error in <TSelectorDraw::DrawSelect>: ncols*3 < ncomma ncols=1, ncomma=6\n"
     ]
    },
    {
     "data": {
      "image/png": "[encoded data removed]",
      "text/plain": [
       "<IPython.core.display.Image object>"
      ]
     },
     "metadata": {},
     "output_type": "display_data"
    }
   ],
   "source": [
    "chan = 35131\n",
    "tree.Draw(\"t1>>t1(1000,-300,300,{:d},{:d},{:d})\".format(disp_channels,tdc*100,tdc*100+disp_channels),\"chan=={:d}\".format(chan),\"colz\")\n",
    "t1=f.Get(\"t1\")\n",
    "t1.SetTitle(\"horiz scinti t1\")\n",
    "t1.GetXaxis().SetTitle(\"time (ns)\")\n",
    "t1.GetYaxis().SetTitle(\"counts\")\n",
    "\n",
    "t1.GetXaxis().SetRangeUser(25,35)\n",
    "t1.Draw()\n",
    "t1.Fit(\"gaus\")\n",
    "c.Draw()\n",
    "\n",
    "\n",
    "c.Draw()"
   ]
  },
  {
   "cell_type": "code",
   "execution_count": 7,
   "metadata": {},
   "outputs": [
    {
     "data": {
      "image/png": "[encoded data removed]",
      "text/plain": [
       "<IPython.core.display.Image object>"
      ]
     },
     "metadata": {},
     "output_type": "display_data"
    }
   ],
   "source": [
    "##################################################\n",
    "##             overview TDC 0x0350              ##\n",
    "##################################################\n",
    "\n",
    "\n",
    "tdc=350\n",
    "disp_channels = 36\n",
    "tree.Draw(\"chan:t1>>t1_meta(100,-50,100,{:d},{:d},{:d})\".format(disp_channels,tdc*100,tdc*100+disp_channels),\"\",\"colz\")\n",
    "c.Draw()"
   ]
  },
  {
   "cell_type": "code",
   "execution_count": 8,
   "metadata": {},
   "outputs": [
    {
     "data": {
      "image/png": "[encoded data removed]",
      "text/plain": [
       "<IPython.core.display.Image object>"
      ]
     },
     "metadata": {},
     "output_type": "display_data"
    }
   ],
   "source": [
    "##################################################\n",
    "##                   layer 1                    ##\n",
    "##################################################\n",
    "\n",
    "layer = 1\n",
    "tree.Draw(\"wire:t1>>t1_meta(100,-50,100,{:d},{:d},{:d})\".format(20,0,20),\" layer == {:d}\".format(layer),\"colz\")\n",
    "t1_meta = f.Get(\"t1_meta\")\n",
    "#t1_meta.SetTitle(\"t1 meta\")\n",
    "t1_meta.GetXaxis().SetTitle(\"t1 (s)\")\n",
    "t1_meta.GetYaxis().SetTitle(\"wire number\")\n",
    "t1_meta.Draw(\"colz\")\n",
    "c.Draw()"
   ]
  },
  {
   "cell_type": "code",
   "execution_count": 9,
   "metadata": {
    "scrolled": false
   },
   "outputs": [
    {
     "data": {
      "image/png": "[encoded data removed]",
      "text/plain": [
       "<IPython.core.display.Image object>"
      ]
     },
     "metadata": {},
     "output_type": "display_data"
    }
   ],
   "source": [
    "##################################################\n",
    "##                   layer 2                    ##\n",
    "##################################################\n",
    "\n",
    "layer = 2\n",
    "tree.Draw(\"wire:t1>>t1_meta(100,-50,100,{:d},{:d},{:d})\".format(20,0,20),\" layer == {:d}\".format(layer),\"colz\")\n",
    "t1_meta = f.Get(\"t1_meta\")\n",
    "#t1_meta.SetTitle(\"t1 meta\")\n",
    "t1_meta.GetXaxis().SetTitle(\"t1 (s)\")\n",
    "t1_meta.GetYaxis().SetTitle(\"wire number\")\n",
    "t1_meta.Draw(\"colz\")\n",
    "c.Draw()"
   ]
  },
  {
   "cell_type": "code",
   "execution_count": 10,
   "metadata": {},
   "outputs": [
    {
     "name": "stdout",
     "output_type": "stream",
     "text": [
      " FCN=4565.93 FROM MIGRAD    STATUS=CONVERGED      90 CALLS          91 TOTAL\n",
      "                     EDM=6.38619e-07    STRATEGY= 1      ERROR MATRIX ACCURATE \n",
      "  EXT PARAMETER                                   STEP         FIRST   \n",
      "  NO.   NAME      VALUE            ERROR          SIZE      DERIVATIVE \n",
      "   1  Constant     4.26565e+01   2.92469e-01   7.16272e-03   1.05507e-04\n",
      "   2  Mean         3.00345e+01   8.71304e-02   2.84364e-03  -8.31657e-04\n",
      "   3  Sigma        1.19735e+01   1.09996e-01   4.25885e-05   6.62467e-01\n"
     ]
    },
    {
     "data": {
      "image/png": "[encoded data removed]",
      "text/plain": [
       "<IPython.core.display.Image object>"
      ]
     },
     "metadata": {},
     "output_type": "display_data"
    }
   ],
   "source": [
    "layer = 1\n",
    "wire = 10\n",
    "\n",
    "tree.Draw(\"t1>>t1(2000,-1000,1000)\", \"layer=={:d} && wire=={:d}\".format(layer,wire),\"colz\")\n",
    "t1=f.Get(\"t1\")\n",
    "t1.SetTitle(\"t1 layer {:d} wire {:d}\".format(layer,wire))\n",
    "t1.GetXaxis().SetTitle(\"time (ns)\")\n",
    "t1.GetYaxis().SetTitle(\"counts\")\n",
    "\n",
    "t1.GetXaxis().SetRangeUser(-100,100)\n",
    "t1.Draw()\n",
    "t1.Fit(\"gaus\",\"WW\")\n",
    "\n",
    "\n",
    "c.Draw()"
   ]
  },
  {
   "cell_type": "code",
   "execution_count": 11,
   "metadata": {},
   "outputs": [
    {
     "name": "stdout",
     "output_type": "stream",
     "text": [
      " FCN=4060.37 FROM MIGRAD    STATUS=CONVERGED      86 CALLS          87 TOTAL\n",
      "                     EDM=2.7993e-09    STRATEGY= 1      ERROR MATRIX ACCURATE \n",
      "  EXT PARAMETER                                   STEP         FIRST   \n",
      "  NO.   NAME      VALUE            ERROR          SIZE      DERIVATIVE \n",
      "   1  Constant     3.63662e+01   3.00971e-01   6.27274e-03  -2.78791e-04\n",
      "   2  Mean         2.68043e+01   1.09524e-01   3.38683e-03   2.97431e-04\n",
      "   3  Sigma        1.38856e+01   1.70624e-01   5.24649e-05  -4.08898e-02\n"
     ]
    },
    {
     "data": {
      "image/png": "[encoded data removed]",
      "text/plain": [
       "<IPython.core.display.Image object>"
      ]
     },
     "metadata": {},
     "output_type": "display_data"
    }
   ],
   "source": [
    "layer = 2\n",
    "wire = 11\n",
    "\n",
    "tree.Draw(\"t1>>t1(2000,-1000,1000)\", \"layer=={:d} && wire=={:d}\".format(layer,wire),\"colz\")\n",
    "t1=f.Get(\"t1\")\n",
    "t1.SetTitle(\"t1 layer {:d} wire {:d}\".format(layer,wire))\n",
    "t1.GetXaxis().SetTitle(\"time (ns)\")\n",
    "t1.GetYaxis().SetTitle(\"counts\")\n",
    "\n",
    "t1.GetXaxis().SetRangeUser(-100,100)\n",
    "t1.Draw()\n",
    "t1.Fit(\"gaus\",\"WW\")\n",
    "\n",
    "\n",
    "c.Draw()"
   ]
  },
  {
   "cell_type": "code",
   "execution_count": 12,
   "metadata": {},
   "outputs": [
    {
     "name": "stdout",
     "output_type": "stream",
     "text": [
      "tree has 3519 entries\n"
     ]
    },
    {
     "data": {
      "image/png": "[encoded data removed]",
      "text/plain": [
       "<IPython.core.display.Image object>"
      ]
     },
     "metadata": {},
     "output_type": "display_data"
    }
   ],
   "source": [
    "##################################################\n",
    "##            read root tree example            ##\n",
    "##################################################\n",
    "\n",
    "\n",
    "t1_l = -30\n",
    "t1_r = 100\n",
    "\n",
    "\n",
    "## variables that will be filled from root tree:\n",
    "last_evt = 0\n",
    "\n",
    "entries = tree.GetEntries()\n",
    "print(\"tree has {:d} entries\".format(entries))\n",
    "\n",
    "processed_tracks = 0\n",
    "\n",
    "coinc_matrix = ROOT.TH2F(\"coinc_matrix\",\"coinc_matrix\", 500, 35000, 35000+500, 500, 35000, 35000+500)\n",
    "\n",
    "w = 50\n",
    "coinc_wires = ROOT.TH2F(\"coinc_wires\",\"coinc_wires\", w, 0, w, w, 0, w)\n",
    "\n",
    "meta_fish = ROOT.TH2F(\"meta_fish\",\"meta_fish\", 500, -2500, 2500, 500, -250, 250);\n",
    "\n",
    "\n",
    "entries_limit = 1000\n",
    "\n",
    "#for i in range(0,entries):\n",
    "for i in range(0,np.min([entries_limit,entries])):\n",
    "  \n",
    "  tree.GetEntry(i)\n",
    "  this_event = tree.event\n",
    "  hits = this_event.hits\n",
    "  \n",
    "  n_hits = hits.size()\n",
    "    \n",
    "  for hit_no_a in range(0,n_hits):\n",
    "    hit_a = hits[hit_no_a]\n",
    "    for hit_no_b in range(hit_no_a,n_hits):\n",
    "      hit_b = hits[hit_no_b]\n",
    "    \n",
    "      if ( (hit_a.t1 > t1_l and hit_a.t1 < t1_r)  and  (hit_b.t1 > t1_l and hit_b.t1 < t1_r) ):\n",
    "      \n",
    "        coinc_matrix.Fill(hit_a.chan,hit_b.chan)    \n",
    "          \n",
    "        coinc_wires.Fill(hit_a.wire + (hit_a.layer-1)*20 ,hit_b.wire + (hit_b.layer-1)*20)      \n",
    "      \n",
    "        #if (   (hit_a.chan > 35000 and hit_a.chan < 35100) and  (hit_b.chan > 35000 and hit_a.chan < 35100)):\n",
    "        #  meta_fish.Fill(hit_a.t1 + hit_b.t1, hit_a.t1 - hit_b.t1)\n",
    "\n",
    "\n",
    "coinc_matrix.GetXaxis().SetRangeUser(35000,35050)\n",
    "coinc_matrix.GetYaxis().SetRangeUser(35000,35050)\n",
    "coinc_matrix.Draw(\"colz\")\n",
    "\n",
    "c.Draw()\n",
    "\n",
    "    "
   ]
  },
  {
   "cell_type": "code",
   "execution_count": 13,
   "metadata": {},
   "outputs": [
    {
     "data": {
      "image/png": "[encoded data removed]",
      "text/plain": [
       "<IPython.core.display.Image object>"
      ]
     },
     "metadata": {},
     "output_type": "display_data"
    }
   ],
   "source": [
    "\n",
    "coinc_wires.Draw(\"colz\")\n",
    "coinc_wires.GetXaxis().SetTitle(\"(layer 1)\" + \" \"*35 +  \"(layer 2 + 10)\" + \" \"*40 + \"wires\")\n",
    "coinc_wires.GetYaxis().SetTitle(\"(layer 1)\" + \" \"*20 +  \"(layer 2 + 10)\" + \" \"*25 + \"wires\")\n",
    "c.Draw()"
   ]
  },
  {
   "cell_type": "code",
   "execution_count": 14,
   "metadata": {},
   "outputs": [
    {
     "data": {
      "image/png": "[encoded data removed]",
      "text/plain": [
       "<IPython.core.display.Image object>"
      ]
     },
     "metadata": {},
     "output_type": "display_data"
    }
   ],
   "source": [
    "\n",
    "coinc_wires.Draw(\"lego2\")\n",
    "coinc_wires.GetXaxis().SetTitle(\"(layer 1)\" + \" \"*35 +  \"(layer 2 + 10)\" + \" \"*40 + \"wires\")\n",
    "coinc_wires.GetYaxis().SetTitle(\"(layer 1)\" + \" \"*20 +  \"(layer 2 + 10)\" + \" \"*25 + \"wires\")\n",
    "c.Draw()"
   ]
  },
  {
   "cell_type": "code",
   "execution_count": 15,
   "metadata": {},
   "outputs": [],
   "source": [
    "# dont do the divergence scan"
   ]
  },
  {
   "cell_type": "markdown",
   "metadata": {},
   "source": [
    "archive(label=\"ufsd_snap\")"
   ]
  },
  {
   "cell_type": "markdown",
   "metadata": {},
   "source": [
    "X = np.arange(79.65-7,79.65+7  +1,1)\n",
    "\n",
    "outfile = ROOT.TFile(\"{:s}/outfile.root\".format(data_dir),\"RECREATE\")\n",
    "\n",
    "no_triggers = 1000\n",
    "\n",
    "const_list = []\n",
    "mean_list = []\n",
    "sigma_list = []\n",
    "entries_list = []\n",
    "\n",
    "for x in X:\n",
    "  micos_eco.move(x=x)\n",
    "  take_data(events=no_triggers)\n",
    "  c = ROOT.TCanvas(\"myCanvasName\",\"The Canvas Title\",500,400)\n",
    "  f = ROOT.TFile(\"/workdir/joint_tree.root\")\n",
    "  os.system(\"cp /workdir/joint_tree.root {:s}/joint_tree_x{:3.3f}.root\".format(data_dir,x))\n",
    "  tree = f.Get(\"joint_tree\")\n",
    "\n",
    "  outfile.cd()\n",
    "  layer = 2\n",
    "  wire = 11\n",
    "  \n",
    "  tree.Draw(\"t1>>t1_x{:3.3f}(2000,-1000,1000)\".format(x), \"layer=={:d} && wire=={:d}\".format(layer,wire),\"colz\")\n",
    "  t1=outfile.Get(\"t1_x{:3.3f}\".format(x))\n",
    "  t1.SetTitle(\"t1 layer {:d} wire {:d}\".format(layer,wire))\n",
    "  t1.GetXaxis().SetTitle(\"time (ns)\")\n",
    "  t1.GetYaxis().SetTitle(\"counts\")\n",
    "  \n",
    "  t1.GetXaxis().SetRangeUser(-100,100)\n",
    "  t1.Draw()\n",
    "  t1.Fit(\"gaus\",\"WW\")\n",
    "\n",
    "  fit = t1.GetFunction(\"gaus\");\n",
    "  const_list   += [fit.GetParameter(0)]\n",
    "  mean_list    += [fit.GetParameter(1)]\n",
    "  sigma_list   += [fit.GetParameter(2)]\n",
    "  entries_list += [t1.Integral(t1.FindBin(-100),t1.FindBin(100))]\n",
    "  t1.Write()\n",
    "  print(\"const_list\")\n",
    "  print(const_list)\n",
    "  print(\"mean_list\")\n",
    "  print(mean_list)\n",
    "  print(\"sigma_list\")\n",
    "  print(sigma_list)\n",
    "  print(\"entries_list\")\n",
    "  print(entries_list)\n",
    "  \n",
    "  \n",
    "\n",
    "outfile.Write()\n",
    "outfile.Close()"
   ]
  },
  {
   "cell_type": "markdown",
   "metadata": {},
   "source": [
    "#ufsd rate negligible in spill breaks\n",
    "\n",
    "from matplotlib import pyplot as plt\n",
    "\n",
    "plt.plot(X,entries_list,label=\"hist entries\")\n",
    "plt.ylim(0,np.max(entries_list))\n",
    "plt.legend()\n",
    "plt.show()\n",
    "\n",
    "plt.plot(X,mean_list,label=\"fit mean (t1)\")\n",
    "plt.ylim(0,np.max(mean_list))\n",
    "plt.legend()\n",
    "plt.show()\n",
    "\n",
    "plt.plot(X,const_list,label=\"fit const (t1)\")\n",
    "plt.ylim(0,np.max(const_list))\n",
    "plt.legend()\n",
    "plt.show()\n",
    "\n",
    "plt.plot(X,sigma_list,label=\"fit sigma (t1)\")\n",
    "plt.ylim(0,np.max(sigma_list))\n",
    "#plt.ylim(0,20)\n",
    "plt.legend()\n",
    "plt.show()\n",
    "\n",
    "area_list = np.array(const_list) * np.array(sigma_list)\n",
    "\n",
    "plt.plot(X,area_list,label=\"gaus area\")\n",
    "plt.ylim(0,np.max(area_list))\n",
    "plt.legend()\n",
    "plt.show()"
   ]
  },
  {
   "cell_type": "code",
   "execution_count": null,
   "metadata": {},
   "outputs": [],
   "source": []
  }
 ],
 "metadata": {
  "kernelspec": {
   "display_name": "Python 3",
   "language": "python",
   "name": "python3"
  },
  "language_info": {
   "codemirror_mode": {
    "name": "ipython",
    "version": 3
   },
   "file_extension": ".py",
   "mimetype": "text/x-python",
   "name": "python",
   "nbconvert_exporter": "python",
   "pygments_lexer": "ipython3",
   "version": "3.6.8"
  }
 },
 "nbformat": 4,
 "nbformat_minor": 2
}
