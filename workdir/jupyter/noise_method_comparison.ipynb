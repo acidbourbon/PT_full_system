{
 "cells": [
  {
   "cell_type": "code",
   "execution_count": 1,
   "metadata": {
    "scrolled": true
   },
   "outputs": [
    {
     "name": "stdout",
     "output_type": "stream",
     "text": [
      "Welcome to JupyROOT 6.14/04\n"
     ]
    },
    {
     "data": {
      "text/html": [
       "\n",
       "    <style>\n",
       "        div#notebook-container    { width: 95%; }\n",
       "        div#menubar-container     { width: 65%; }\n",
       "        div#maintoolbar-container { width: 99%; }\n",
       "    </style>\n",
       "    "
      ],
      "text/plain": [
       "<IPython.core.display.HTML object>"
      ]
     },
     "metadata": {},
     "output_type": "display_data"
    }
   ],
   "source": [
    "#%matplotlib notebook  \n",
    "from matplotlib import pyplot as plt\n",
    "import numpy as np\n",
    "import pasttrec_ctrl as ptc\n",
    "import json\n",
    "import sigproc_kit\n",
    "import tdc_daq as td\n",
    "import baseline_calib\n",
    "import ROOT\n",
    "\n",
    "from my_utils import *\n",
    "set_width_max_of_jupyterpad()\n",
    "\n",
    "def fwhm(x,y):\n",
    "  dummy, t1, tot = sigproc_kit.discriminate(x,y,np.max(y)/2.,0,0)\n",
    "  return tot\n",
    "\n",
    "def hist_rms(x,y):\n",
    "  counts = np.sum(y)\n",
    "  weights = y / counts\n",
    "  mean = np.dot(x,weights)\n",
    "  deviations = x - mean\n",
    "  return np.sqrt(  np.dot(deviations**2,weights)   )\n",
    "def list_rms(x):\n",
    "  mean = sum(x)/len(x)\n",
    "  deviations = x - mean\n",
    "  return np.sqrt(  sum(deviations**2) /len(x)  )\n",
    "def list_mean(x):\n",
    "  mean = sum(x)/len(x)\n",
    "  return mean"
   ]
  },
  {
   "cell_type": "code",
   "execution_count": 2,
   "metadata": {
    "scrolled": true
   },
   "outputs": [
    {
     "name": "stdout",
     "output_type": "stream",
     "text": [
      "['0014', '0021', '0018', '0022', '0003', '0008', '0027', '0026', '0025', '0004', '0110', '0111', '0201', '0202', '0203', '0204', '0029', '0023', '0030', '0015', '0017', '0010', '0016', '0020', '0006', '0011', '0009', '0007', '0013', '0106', '0002', '0101', '0028', '0104', '0102', '0103', '0108', '0105', '0005']\n"
     ]
    }
   ],
   "source": [
    "import db\n",
    "print(db.board_list())"
   ]
  },
  {
   "cell_type": "code",
   "execution_count": 3,
   "metadata": {
    "scrolled": false
   },
   "outputs": [
    {
     "name": "stdout",
     "output_type": "stream",
     "text": [
      "['0014', '0021', '0018', '0022', '0003', '0008', '0027', '0026', '0025', '0004']\n",
      "0 board = 0014 ------------> peaking time =  20 , gain =  1\n",
      "1 . scan \n",
      " individual baseline scan, inactive = -15 \n"
     ]
    },
    {
     "ename": "TrbException",
     "evalue": "('Error while writing trb register.', 41, 'TRB3 Invalid UDP Header, check Firmware')",
     "output_type": "error",
     "traceback": [
      "\u001b[0;31m---------------------------------------------------------------------------\u001b[0m",
      "\u001b[0;31mTrbException\u001b[0m                              Traceback (most recent call last)",
      "\u001b[0;32m<ipython-input-3-0b766fe2a1b8>\u001b[0m in \u001b[0;36m<module>\u001b[0;34m\u001b[0m\n\u001b[1;32m     83\u001b[0m            \u001b[0mtime\u001b[0m\u001b[0;34m.\u001b[0m\u001b[0msleep\u001b[0m\u001b[0;34m(\u001b[0m\u001b[0;36m5\u001b[0m\u001b[0;34m)\u001b[0m\u001b[0;34m\u001b[0m\u001b[0;34m\u001b[0m\u001b[0m\n\u001b[1;32m     84\u001b[0m            \u001b[0mprint\u001b[0m\u001b[0;34m(\u001b[0m\u001b[0;34m\" individual baseline scan, inactive = -15 \"\u001b[0m\u001b[0;34m)\u001b[0m\u001b[0;34m\u001b[0m\u001b[0;34m\u001b[0m\u001b[0m\n\u001b[0;32m---> 85\u001b[0;31m            \u001b[0mbaseline_calib\u001b[0m\u001b[0;34m.\u001b[0m\u001b[0mbaseline_calib_by_noise\u001b[0m\u001b[0;34m(\u001b[0m\u001b[0mname\u001b[0m\u001b[0;34m,\u001b[0m \u001b[0mdummy_calib\u001b[0m\u001b[0;34m=\u001b[0m\u001b[0;32mTrue\u001b[0m\u001b[0;34m,\u001b[0m\u001b[0mindividual\u001b[0m\u001b[0;34m=\u001b[0m\u001b[0;32mTrue\u001b[0m\u001b[0;34m)\u001b[0m\u001b[0;34m\u001b[0m\u001b[0;34m\u001b[0m\u001b[0m\n\u001b[0m\u001b[1;32m     86\u001b[0m     \u001b[0;32mif\u001b[0m \u001b[0mscan\u001b[0m \u001b[0;34m==\u001b[0m \u001b[0;36m2\u001b[0m\u001b[0;34m:\u001b[0m\u001b[0;34m\u001b[0m\u001b[0;34m\u001b[0m\u001b[0m\n\u001b[1;32m     87\u001b[0m        \u001b[0mtime\u001b[0m\u001b[0;34m.\u001b[0m\u001b[0msleep\u001b[0m\u001b[0;34m(\u001b[0m\u001b[0;36m5\u001b[0m\u001b[0;34m)\u001b[0m\u001b[0;34m\u001b[0m\u001b[0;34m\u001b[0m\u001b[0m\n",
      "\u001b[0;32m~/python_modules/baseline_calib.py\u001b[0m in \u001b[0;36mbaseline_calib_by_noise\u001b[0;34m(board_name, **kwargs)\u001b[0m\n\u001b[1;32m     71\u001b[0m   \u001b[0mmatrix\u001b[0m \u001b[0;34m=\u001b[0m \u001b[0;34m[\u001b[0m\u001b[0;34m]\u001b[0m\u001b[0;34m\u001b[0m\u001b[0;34m\u001b[0m\u001b[0m\n\u001b[1;32m     72\u001b[0m   \u001b[0;32mif\u001b[0m \u001b[0mindividual\u001b[0m\u001b[0;34m:\u001b[0m\u001b[0;34m\u001b[0m\u001b[0;34m\u001b[0m\u001b[0m\n\u001b[0;32m---> 73\u001b[0;31m     \u001b[0mx\u001b[0m\u001b[0;34m,\u001b[0m \u001b[0mmatrix\u001b[0m \u001b[0;34m=\u001b[0m \u001b[0mindividual_channel_baseline_noise_scan\u001b[0m\u001b[0;34m(\u001b[0m\u001b[0mboard_name\u001b[0m\u001b[0;34m,\u001b[0m\u001b[0mbaseline_inactive\u001b[0m\u001b[0;34m)\u001b[0m\u001b[0;34m\u001b[0m\u001b[0;34m\u001b[0m\u001b[0m\n\u001b[0m\u001b[1;32m     74\u001b[0m   \u001b[0;32melse\u001b[0m\u001b[0;34m:\u001b[0m\u001b[0;34m\u001b[0m\u001b[0;34m\u001b[0m\u001b[0m\n\u001b[1;32m     75\u001b[0m     \u001b[0mx\u001b[0m\u001b[0;34m,\u001b[0m \u001b[0mmatrix\u001b[0m \u001b[0;34m=\u001b[0m \u001b[0mbaseline_noise_scan\u001b[0m\u001b[0;34m(\u001b[0m\u001b[0mboard_name\u001b[0m\u001b[0;34m)\u001b[0m\u001b[0;34m\u001b[0m\u001b[0;34m\u001b[0m\u001b[0m\n",
      "\u001b[0;32m~/python_modules/baseline_calib.py\u001b[0m in \u001b[0;36mindividual_channel_baseline_noise_scan\u001b[0;34m(board_name, baseline_inactive)\u001b[0m\n\u001b[1;32m    226\u001b[0m     \u001b[0;32mfor\u001b[0m \u001b[0mch\u001b[0m \u001b[0;32min\u001b[0m \u001b[0mrange\u001b[0m\u001b[0;34m(\u001b[0m\u001b[0;36m0\u001b[0m\u001b[0;34m,\u001b[0m\u001b[0;36m16\u001b[0m\u001b[0;34m)\u001b[0m\u001b[0;34m:\u001b[0m\u001b[0;34m\u001b[0m\u001b[0;34m\u001b[0m\u001b[0m\n\u001b[1;32m    227\u001b[0m       \u001b[0;31m#print( \"probing channel \"+str(ch) )\u001b[0m\u001b[0;34m\u001b[0m\u001b[0;34m\u001b[0m\u001b[0;34m\u001b[0m\u001b[0m\n\u001b[0;32m--> 228\u001b[0;31m       \u001b[0mptc\u001b[0m\u001b[0;34m.\u001b[0m\u001b[0mset_all_baselines\u001b[0m\u001b[0;34m(\u001b[0m\u001b[0mTDC\u001b[0m\u001b[0;34m,\u001b[0m\u001b[0mchannels\u001b[0m\u001b[0;34m,\u001b[0m\u001b[0mbaseline_inactive\u001b[0m\u001b[0;34m)\u001b[0m\u001b[0;34m\u001b[0m\u001b[0;34m\u001b[0m\u001b[0m\n\u001b[0m\u001b[1;32m    229\u001b[0m       \u001b[0mptc\u001b[0m\u001b[0;34m.\u001b[0m\u001b[0mset_baseline\u001b[0m\u001b[0;34m(\u001b[0m\u001b[0mTDC\u001b[0m\u001b[0;34m,\u001b[0m\u001b[0mchannels\u001b[0m\u001b[0;34m[\u001b[0m\u001b[0mch\u001b[0m\u001b[0;34m]\u001b[0m\u001b[0;34m,\u001b[0m\u001b[0mi\u001b[0m\u001b[0;34m)\u001b[0m\u001b[0;34m\u001b[0m\u001b[0;34m\u001b[0m\u001b[0m\n\u001b[1;32m    230\u001b[0m       \u001b[0mch_rate\u001b[0m \u001b[0;34m=\u001b[0m \u001b[0mtdc_daq\u001b[0m\u001b[0;34m.\u001b[0m\u001b[0mscaler_rate\u001b[0m\u001b[0;34m(\u001b[0m\u001b[0mTDC\u001b[0m\u001b[0;34m,\u001b[0m\u001b[0mchannels\u001b[0m\u001b[0;34m,\u001b[0m\u001b[0mscan_time\u001b[0m\u001b[0;34m)\u001b[0m\u001b[0;34m[\u001b[0m\u001b[0mch\u001b[0m\u001b[0;34m]\u001b[0m\u001b[0;34m\u001b[0m\u001b[0;34m\u001b[0m\u001b[0m\n",
      "\u001b[0;32m~/python_modules/pasttrec_ctrl.py\u001b[0m in \u001b[0;36mset_all_baselines\u001b[0;34m(TDC, channels, values)\u001b[0m\n\u001b[1;32m    297\u001b[0m   \u001b[0mindex\u001b[0m\u001b[0;34m=\u001b[0m\u001b[0;36m0\u001b[0m\u001b[0;34m\u001b[0m\u001b[0;34m\u001b[0m\u001b[0m\n\u001b[1;32m    298\u001b[0m   \u001b[0;32mfor\u001b[0m \u001b[0mi\u001b[0m \u001b[0;32min\u001b[0m \u001b[0mchannels\u001b[0m\u001b[0;34m:\u001b[0m\u001b[0;34m\u001b[0m\u001b[0;34m\u001b[0m\u001b[0m\n\u001b[0;32m--> 299\u001b[0;31m     \u001b[0mset_baseline\u001b[0m\u001b[0;34m(\u001b[0m\u001b[0mTDC\u001b[0m\u001b[0;34m,\u001b[0m\u001b[0mi\u001b[0m\u001b[0;34m,\u001b[0m\u001b[0mint\u001b[0m\u001b[0;34m(\u001b[0m\u001b[0mvalues\u001b[0m\u001b[0;34m[\u001b[0m\u001b[0mindex\u001b[0m\u001b[0;34m]\u001b[0m\u001b[0;34m)\u001b[0m\u001b[0;34m)\u001b[0m\u001b[0;34m\u001b[0m\u001b[0;34m\u001b[0m\u001b[0m\n\u001b[0m\u001b[1;32m    300\u001b[0m     \u001b[0mindex\u001b[0m\u001b[0;34m+=\u001b[0m\u001b[0;36m1\u001b[0m\u001b[0;34m\u001b[0m\u001b[0;34m\u001b[0m\u001b[0m\n\u001b[1;32m    301\u001b[0m \u001b[0;34m\u001b[0m\u001b[0m\n",
      "\u001b[0;32m~/python_modules/pasttrec_ctrl.py\u001b[0m in \u001b[0;36mset_baseline\u001b[0;34m(TDC, channel, value)\u001b[0m\n\u001b[1;32m    268\u001b[0m   \u001b[0mchan\u001b[0m \u001b[0;34m=\u001b[0m \u001b[0mchip_chan\u001b[0m \u001b[0;34m+\u001b[0m \u001b[0;36m4\u001b[0m\u001b[0;34m\u001b[0m\u001b[0;34m\u001b[0m\u001b[0m\n\u001b[1;32m    269\u001b[0m \u001b[0;34m\u001b[0m\u001b[0m\n\u001b[0;32m--> 270\u001b[0;31m   \u001b[0mspi\u001b[0m\u001b[0;34m(\u001b[0m\u001b[0mTDC\u001b[0m\u001b[0;34m,\u001b[0m\u001b[0mconn\u001b[0m\u001b[0;34m,\u001b[0m \u001b[0mchip\u001b[0m\u001b[0;34m,\u001b[0m \u001b[0;34m[\u001b[0m \u001b[0;34m(\u001b[0m\u001b[0;34m(\u001b[0m\u001b[0;36m0xF\u001b[0m \u001b[0;34m&\u001b[0m \u001b[0mchan\u001b[0m\u001b[0;34m)\u001b[0m\u001b[0;34m<<\u001b[0m\u001b[0;36m8\u001b[0m\u001b[0;34m)\u001b[0m \u001b[0;34m+\u001b[0m \u001b[0mval\u001b[0m\u001b[0;34m]\u001b[0m \u001b[0;34m)\u001b[0m\u001b[0;34m\u001b[0m\u001b[0;34m\u001b[0m\u001b[0m\n\u001b[0m\u001b[1;32m    271\u001b[0m \u001b[0;34m\u001b[0m\u001b[0m\n\u001b[1;32m    272\u001b[0m   \u001b[0;32mreturn\u001b[0m\u001b[0;34m\u001b[0m\u001b[0;34m\u001b[0m\u001b[0m\n",
      "\u001b[0;32m~/python_modules/pasttrec_ctrl.py\u001b[0m in \u001b[0;36mspi\u001b[0;34m(TDC_str, CONN, CHIP, data_list, **kwargs)\u001b[0m\n\u001b[1;32m    119\u001b[0m \u001b[0;34m\u001b[0m\u001b[0m\n\u001b[1;32m    120\u001b[0m     \u001b[0;31m# disable all SDO outputs but output $CONN\u001b[0m\u001b[0;34m\u001b[0m\u001b[0;34m\u001b[0m\u001b[0;34m\u001b[0m\u001b[0m\n\u001b[0;32m--> 121\u001b[0;31m     \u001b[0mt\u001b[0m\u001b[0;34m.\u001b[0m\u001b[0mtrb_register_write\u001b[0m\u001b[0;34m(\u001b[0m\u001b[0mTDC\u001b[0m\u001b[0;34m,\u001b[0m \u001b[0;36m0xd415\u001b[0m\u001b[0;34m,\u001b[0m \u001b[0;36m0xFFFF\u001b[0m \u001b[0;34m&\u001b[0m \u001b[0;34m~\u001b[0m\u001b[0;34m(\u001b[0m\u001b[0;36m1\u001b[0m\u001b[0;34m<<\u001b[0m\u001b[0;34m(\u001b[0m\u001b[0mCONN\u001b[0m\u001b[0;34m-\u001b[0m\u001b[0;36m1\u001b[0m\u001b[0;34m)\u001b[0m\u001b[0;34m)\u001b[0m \u001b[0;34m)\u001b[0m\u001b[0;34m\u001b[0m\u001b[0;34m\u001b[0m\u001b[0m\n\u001b[0m\u001b[1;32m    122\u001b[0m     \u001b[0;32mif\u001b[0m \u001b[0;34m(\u001b[0m\u001b[0mslow_control_log\u001b[0m\u001b[0;34m)\u001b[0m\u001b[0;34m:\u001b[0m\u001b[0;34m\u001b[0m\u001b[0;34m\u001b[0m\u001b[0m\n\u001b[1;32m    123\u001b[0m       \u001b[0mf\u001b[0m\u001b[0;34m.\u001b[0m\u001b[0mwrite\u001b[0m\u001b[0;34m(\u001b[0m\u001b[0;34m\"0x{:04X} 0x{:04X} 0x{:08X}\\n\"\u001b[0m\u001b[0;34m.\u001b[0m\u001b[0mformat\u001b[0m\u001b[0;34m(\u001b[0m\u001b[0mTDC\u001b[0m\u001b[0;34m,\u001b[0m \u001b[0;36m0xd415\u001b[0m\u001b[0;34m,\u001b[0m \u001b[0;36m0xFFFF\u001b[0m \u001b[0;34m&\u001b[0m \u001b[0;34m~\u001b[0m\u001b[0;34m(\u001b[0m\u001b[0;36m1\u001b[0m\u001b[0;34m<<\u001b[0m\u001b[0;34m(\u001b[0m\u001b[0mCONN\u001b[0m\u001b[0;34m-\u001b[0m\u001b[0;36m1\u001b[0m\u001b[0;34m)\u001b[0m\u001b[0;34m)\u001b[0m \u001b[0;34m)\u001b[0m\u001b[0;34m)\u001b[0m\u001b[0;34m\u001b[0m\u001b[0;34m\u001b[0m\u001b[0m\n",
      "\u001b[0;32m/usr/local/lib/python3.6/dist-packages/trbnet/core/lowlevel.py\u001b[0m in \u001b[0;36mtrb_register_write\u001b[0;34m(self, trb_address, reg_address, value)\u001b[0m\n\u001b[1;32m    180\u001b[0m         \u001b[0;32mif\u001b[0m \u001b[0mstatus\u001b[0m \u001b[0;34m==\u001b[0m \u001b[0;34m-\u001b[0m\u001b[0;36m1\u001b[0m\u001b[0;34m:\u001b[0m\u001b[0;34m\u001b[0m\u001b[0;34m\u001b[0m\u001b[0m\n\u001b[1;32m    181\u001b[0m             \u001b[0merrno\u001b[0m \u001b[0;34m=\u001b[0m \u001b[0mself\u001b[0m\u001b[0;34m.\u001b[0m\u001b[0mtrb_errno\u001b[0m\u001b[0;34m(\u001b[0m\u001b[0;34m)\u001b[0m\u001b[0;34m\u001b[0m\u001b[0;34m\u001b[0m\u001b[0m\n\u001b[0;32m--> 182\u001b[0;31m             \u001b[0;32mraise\u001b[0m \u001b[0mTrbException\u001b[0m\u001b[0;34m(\u001b[0m\u001b[0;34m'Error while writing trb register.'\u001b[0m\u001b[0;34m,\u001b[0m \u001b[0merrno\u001b[0m\u001b[0;34m,\u001b[0m \u001b[0mself\u001b[0m\u001b[0;34m.\u001b[0m\u001b[0mtrb_errorstr\u001b[0m\u001b[0;34m(\u001b[0m\u001b[0merrno\u001b[0m\u001b[0;34m)\u001b[0m\u001b[0;34m)\u001b[0m\u001b[0;34m\u001b[0m\u001b[0;34m\u001b[0m\u001b[0m\n\u001b[0m\u001b[1;32m    183\u001b[0m \u001b[0;34m\u001b[0m\u001b[0m\n\u001b[1;32m    184\u001b[0m     \u001b[0;32mdef\u001b[0m \u001b[0mtrb_register_read_mem\u001b[0m\u001b[0;34m(\u001b[0m\u001b[0mself\u001b[0m\u001b[0;34m,\u001b[0m \u001b[0mtrb_address\u001b[0m\u001b[0;34m,\u001b[0m \u001b[0mreg_address\u001b[0m\u001b[0;34m,\u001b[0m \u001b[0moption\u001b[0m\u001b[0;34m,\u001b[0m \u001b[0msize\u001b[0m\u001b[0;34m)\u001b[0m\u001b[0;34m:\u001b[0m\u001b[0;34m\u001b[0m\u001b[0;34m\u001b[0m\u001b[0m\n",
      "\u001b[0;31mTrbException\u001b[0m: ('Error while writing trb register.', 41, 'TRB3 Invalid UDP Header, check Firmware')"
     ]
    },
    {
     "name": "stderr",
     "output_type": "stream",
     "text": [
      ">ERROR: clearbit of register failed: Termination Status Error\n",
      ">ERROR: CommonStatusBits: 0x0001, Channel#3 StatusBits: 0x0002\n",
      ">ERROR:    Ch3_Timeout: timeout error\n",
      ">ERROR: clearbit of register failed: Termination Status Error\n",
      ">ERROR: CommonStatusBits: 0x0001, Channel#3 StatusBits: 0x0002\n",
      ">ERROR:    Ch3_Timeout: timeout error\n",
      ">ERROR: clearbit of register failed: Termination Status Error\n",
      ">ERROR: CommonStatusBits: 0x0001, Channel#3 StatusBits: 0x0002\n",
      ">ERROR:    Ch3_Timeout: timeout error\n",
      ">ERROR: clearbit of register failed: Termination Status Error\n",
      ">ERROR: CommonStatusBits: 0x0001, Channel#3 StatusBits: 0x0002\n",
      ">ERROR:    Ch3_Timeout: timeout error\n",
      ">WARNING: Status-Bit(s) have been set:\n",
      ">WARNING: CommonStatusBits: 0x0000, Channel#3 StatusBits: 0x0000\n",
      ">WARNING:    COM_EndpointReached: no endpoint has been reached\n",
      ">WARNING: Status-Bit(s) have been set:\n",
      ">WARNING: CommonStatusBits: 0x0000, Channel#3 StatusBits: 0x0000\n",
      ">WARNING:    COM_EndpointReached: no endpoint has been reached\n",
      ">WARNING: Status-Bit(s) have been set:\n",
      ">WARNING: CommonStatusBits: 0x0000, Channel#3 StatusBits: 0x0000\n",
      ">WARNING:    COM_EndpointReached: no endpoint has been reached\n",
      ">WARNING: Status-Bit(s) have been set:\n",
      ">WARNING: CommonStatusBits: 0x0000, Channel#3 StatusBits: 0x0000\n",
      ">WARNING:    COM_EndpointReached: no endpoint has been reached\n",
      ">WARNING: Status-Bit(s) have been set:\n",
      ">WARNING: CommonStatusBits: 0x0000, Channel#3 StatusBits: 0x0000\n",
      ">WARNING:    COM_EndpointReached: no endpoint has been reached\n",
      ">WARNING: Status-Bit(s) have been set:\n",
      ">WARNING: CommonStatusBits: 0x0000, Channel#3 StatusBits: 0x0000\n",
      ">WARNING:    COM_EndpointReached: no endpoint has been reached\n"
     ]
    }
   ],
   "source": [
    "#used_boards = [\"0011\"]\n",
    "# used_boards = [\"0016\"]\n",
    "used_boards = [\"0201\"]\n",
    "#used_boards = db.board_list_installed()\n",
    "#used_boards = used_boards[0:10]\n",
    "#used_boards = [\"0201\",\"0202\",\"0203\",\"0204\",\"0016\",\"0011\",\"0020\"]\n",
    "print(used_boards)\n",
    "nscans = 1\n",
    "\n",
    "## scan threshold of all boar\n",
    "from functools import (reduce)\n",
    "from math import (sqrt)\n",
    "import numpy as np\n",
    "import time\n",
    "import tdc_daq as td\n",
    "import matplotlib.pyplot as plt\n",
    "import db\n",
    "\n",
    "\n",
    "\n",
    "# rootMeanSquare :: [Num] -> Float\n",
    "def rootMeanSquare(xs):\n",
    "    return sqrt(reduce(lambda a, x: a + x * x, xs, 0) / len(xs))\n",
    "def MeanArrays(xs,ys):\n",
    "    return np.dot(xs,ys)/sum(ys)\n",
    "\n",
    "#ptime_list = [ 10, 15, 20 ]\n",
    "ptime_list = [ 20 ]\n",
    "# pt_gain_list = [ 1, 2, 4 ]\n",
    "pt_gain_list = [1]  \n",
    "\n",
    "# for single board noise measurement, set all other boards to standby\n",
    "for my_board in db.board_list():\n",
    "  db.set_standby_board(my_board)\n",
    "\n",
    "\n",
    "\n",
    "n_scan_steps = len(ptime_list)*len(pt_gain_list)*nscans\n",
    "\n",
    "plt.rcParams[\"figure.figsize\"] = (8,5)\n",
    "trendtime_list = []\n",
    "rmsAverageTrend_list = []\n",
    "rmsAverageTrendError_list = []\n",
    "meanAverageTrend_list = []\n",
    "meanAverageTrendError_list = []\n",
    "\n",
    "mean_scans = [[[] for b in range(len(used_boards)) ]  for i in range(n_scan_steps) ]\n",
    "rms_scans =  [[[] for b in range(len(used_boards)) ]  for i in range(n_scan_steps) ]\n",
    "\n",
    "scaler_list_channel = [[[] for i in range(n_scan_steps) ]  for i in range(16)] \n",
    "   \n",
    "\n",
    "\n",
    "\n",
    "\n",
    "for ptime in ptime_list: \n",
    " for pt_gain in pt_gain_list: \n",
    "  b = -1    \n",
    "  for name in used_boards: \n",
    "   b += 1        \n",
    "   scan_step = -1\n",
    "   for scan in range(0,nscans): \n",
    "    scan_step += 1 \n",
    "    print(scan_step,\"board =\" , name, \"------------> peaking time = \", ptime, \", gain = \", pt_gain)\n",
    "    #alert(\"next measure\")\n",
    "#     input(\"Press enter to continue\")\n",
    "\n",
    "    db.unset_standby_board(name)\n",
    "    td.enable_tdc_channels_of_active_boards()\n",
    "    ptc.init_active_boards()\n",
    "    # pause for not killing trb by sending to many parallel commands regiser writes:\n",
    "    time.sleep(5) \n",
    "    trendtime_list += [ name ]\n",
    "    ptc.init_boards_by_name(used_boards, ptime, pt_gain)   \n",
    "    print(len(trendtime_list),\". scan \")\n",
    "    #### baseline scan, all channels in parallel (same baseline set to all channels at once):\n",
    "    if scan == 1:\n",
    "            time.sleep(5) \n",
    "            print(\" parallel baseline scan, all channels same baseline set at a step\")        \n",
    "            baseline_calib.baseline_calib_by_noise(name, dummy_calib=True) \n",
    "    #### baseline scan each channel individual, while other channels are \"inactive\", = baseline is minimal -15 or (maximal +15)\n",
    "    if scan == 0:\n",
    "           time.sleep(5) \n",
    "           print(\" individual baseline scan, inactive = -15 \")\n",
    "           baseline_calib.baseline_calib_by_noise(name, dummy_calib=True,individual=True) \n",
    "    if scan == 2:\n",
    "       time.sleep(5) \n",
    "       print(\" individual baseline scan, all other channesl active  baseline = calibrated individual baseline\")\n",
    "       bl_values = [0]*16\n",
    "        # get the baselines calibrated for all 16 channels from database:\n",
    "       calib = db.get_calib_json_by_name(name)\n",
    "       if (\"baselines\" in calib):\n",
    "           board_baselines = calib[\"baselines\"]\n",
    "           bl_values   = board_baselines[0:17]   \n",
    "       print(bl_values)\n",
    "       baseline_calib.baseline_calib_by_noise(name, dummy_calib=True,individual=True,baseline_inactive=bl_values)\n",
    "\n",
    "\n",
    "    if scan == 3:\n",
    "         time.sleep(5) \n",
    "         print(\" threshold scan, all other channels deactive, baseline moved to  15, to scan full range\")\n",
    "         baselines_set =  [15] * 16\n",
    "         baseline_calib.set_baselines_individual(name,baselines_set)\n",
    "         baseline_calib.char_noise_by_thresh_scan(name,dummy_calib=True)\n",
    "\n",
    "    dummy_calib = db.get_calib_json_by_name(name,dummy_calib=True)\n",
    "\n",
    "    #print(json.dumps(dummy_calib,indent=2, sort_keys=True))\n",
    "    #threshold scan:\n",
    "    tsbl_scan_raw = dummy_calib[\"tsbl_scan_raw\"]\n",
    "    tsbl_range    = dummy_calib[\"tsbl_range\"]\n",
    "    # baseline scan:\n",
    "    noise_scan_raw = dummy_calib[\"noise_scan_raw\"]\n",
    "    noise_range    = dummy_calib[\"bl_range\"]\n",
    "   \n",
    "    for i in range(0,16):\n",
    "     plt.scatter(tsbl_range,tsbl_scan_raw[i],alpha=0.2,label = \"{:d}\".format(i))\n",
    "\n",
    "     plt.legend()\n",
    "     plt.xlabel(\" threshold set ( 2 mV / LSB)  \")\n",
    "     plt.ylabel(\"mean pulse rate (Hz)\")\n",
    "     #plt.yscale('log') \n",
    "    plt.show()\n",
    "\n",
    "    for i in range(0,16):\n",
    "     plt.scatter(noise_range,noise_scan_raw[i],alpha=0.2,label = \"{:d}\".format(i))\n",
    "\n",
    "     plt.legend()\n",
    "     plt.xlabel(\" baseline setting ( 2 mV / LSB)\")\n",
    "     plt.ylabel(\"mean pulse rate (Hz)\")\n",
    "     #plt.yscale('log') \n",
    "    plt.show()\n",
    "    fwhm_list = []\n",
    "    max_list  = []\n",
    "    rms_list = []\n",
    "    mean_list = []\n",
    "#     for i in range(0,16):\n",
    "#       fwhm_list += [ fwhm(tsbl_range,tsbl_scan_raw[i]) ]\n",
    "#       rms_list += [ hist_rms(tsbl_range,tsbl_scan_raw[i]) ]\n",
    "#       mean_list += [ MeanArrays(tsbl_range,tsbl_scan_raw[i]) ]  \n",
    "#       max_list  += [ np.max(tsbl_scan_raw[i])  ]\n",
    "#       scaler_list_channel[i][scan_step] = tsbl_scan_raw[i]     \n",
    "    for i in range(0,16):\n",
    "      fwhm_list += [ fwhm(noise_range,noise_scan_raw[i]) ]\n",
    "      rms_list += [ hist_rms(noise_range,noise_scan_raw[i]) ]\n",
    "      mean_list += [ MeanArrays(noise_range,noise_scan_raw[i])  ]  \n",
    "      max_list  += [ np.max(noise_scan_raw[i])  ]\n",
    "      scaler_list_channel[i][scan_step] = noise_scan_raw[i] \n",
    "    \n",
    "    mean_scans[scan][b] = mean_list\n",
    "    rms_scans[scan][b]  = rms_list    \n",
    "    fwhm_list = np.array(fwhm_list)\n",
    "    max_list  = np.array(max_list)\n",
    "    \n",
    "    print(name, \"average(16chan) noise thresh: mean = \", round(sum(mean_list)/len(mean_list),3), \" +- \", round(list_rms(mean_list),3), \"  |  RMS  = \", round(sum(rms_list)/len(rms_list),3), \" +- \", round(list_rms(rms_list),3) )\n",
    "\n",
    "    meanAverageTrend_list += [ sum(mean_list)/len(mean_list) ]\n",
    "    meanAverageTrendError_list += [ list_rms(mean_list) ]\n",
    "    rmsAverageTrend_list += [ sum(rms_list)/len(rms_list) ]\n",
    "    rmsAverageTrendError_list += [ list_rms(rms_list) ]    \n",
    "    \n",
    "\n"
   ]
  },
  {
   "cell_type": "code",
   "execution_count": null,
   "metadata": {
    "scrolled": false
   },
   "outputs": [],
   "source": [
    "plt.rcParams[\"figure.figsize\"] = (8,8)\n",
    "for i in range(len(used_boards)):\n",
    "#  print(used_boards[i])\n",
    "\n",
    " for scan in range(0,nscans): \n",
    "    plt.scatter(list(range(0,len(mean_scans[scan][i]))), mean_scans[scan][i],label = \"{}, scan {:d}\".format(used_boards[i],scan))\n",
    "    plt.xlabel(\"channel no\")\n",
    "    plt.ylabel(\"mean\")\n",
    "#     plt.ylim(ymax = 8, ymin = 0)\n",
    " plt.legend()\n",
    "plt.show()\n",
    "for i in range(len(used_boards)):\n",
    "#  print(used_boards[i])\n",
    " for scan in range(0,nscans): \n",
    "#     plt.scatter(list(range(0,len(mean_scans[scan]))),rms_scans[scan],color='blue',label = \"scan {:d}\".format(scan))\n",
    "    plt.scatter(list(range(0,len(mean_scans[scan][i]))),rms_scans[scan][i], label = \"{}, scan {:d}\".format(used_boards[i],scan))  \n",
    "    plt.xlabel(\"channel no\")\n",
    "    plt.ylabel(\"RMS\")\n",
    "#     plt.ylim(ymax = 6, ymin = 0)\n",
    "    plt.title(\"noise width (RMS)\")\n",
    " plt.legend()\n",
    "plt.show()\n",
    "plt.rcParams[\"figure.figsize\"] = (8,4)\n",
    "for ch in range(0,16):\n",
    "    print(\"channel : \",ch)\n",
    "    for scan in range(0,nscans): \n",
    "     plt.plot(noise_range,scaler_list_channel[ch][scan],'-ok',label = \"scan {:d},ch {:d}\".format(scan,ch))\n",
    "\n",
    "     plt.legend()\n",
    "#      plt.xlabel(\"threshold (at maximum baseline setting)\")\n",
    "     plt.xlabel(\"baseline \")    \n",
    "     plt.ylabel(\"mean pulse rate (Hz)\")\n",
    "     #plt.yscale('log') \n",
    "    plt.show()\n"
   ]
  },
  {
   "cell_type": "code",
   "execution_count": null,
   "metadata": {},
   "outputs": [],
   "source": [
    "#archive(label=\"baseline_individual_scan_board0021_4xLVDS-Ferrites\")"
   ]
  },
  {
   "cell_type": "code",
   "execution_count": null,
   "metadata": {
    "scrolled": false
   },
   "outputs": [],
   "source": []
  },
  {
   "cell_type": "code",
   "execution_count": null,
   "metadata": {
    "scrolled": true
   },
   "outputs": [],
   "source": [
    "\n"
   ]
  },
  {
   "cell_type": "code",
   "execution_count": null,
   "metadata": {},
   "outputs": [],
   "source": []
  }
 ],
 "metadata": {
  "kernelspec": {
   "display_name": "Python 3",
   "language": "python",
   "name": "python3"
  },
  "language_info": {
   "codemirror_mode": {
    "name": "ipython",
    "version": 3
   },
   "file_extension": ".py",
   "mimetype": "text/x-python",
   "name": "python",
   "nbconvert_exporter": "python",
   "pygments_lexer": "ipython3",
   "version": "3.6.9"
  }
 },
 "nbformat": 4,
 "nbformat_minor": 2
}
