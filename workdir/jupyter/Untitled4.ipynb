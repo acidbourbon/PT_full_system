{
 "cells": [
  {
   "cell_type": "code",
   "execution_count": 1,
   "id": "random-translator",
   "metadata": {},
   "outputs": [
    {
     "ename": "FileNotFoundError",
     "evalue": "[Errno 2] No such file or directory: '/home/hadaq/mdc/lv_logs/boards.txt'",
     "output_type": "error",
     "traceback": [
      "\u001b[0;31m---------------------------------------------------------------------------\u001b[0m",
      "\u001b[0;31mFileNotFoundError\u001b[0m                         Traceback (most recent call last)",
      "\u001b[0;32m<ipython-input-1-54243165ad3b>\u001b[0m in \u001b[0;36m<module>\u001b[0;34m\u001b[0m\n\u001b[1;32m     26\u001b[0m         \u001b[0mpdf\u001b[0m\u001b[0;34m.\u001b[0m\u001b[0msavefig\u001b[0m\u001b[0;34m(\u001b[0m \u001b[0mfig\u001b[0m \u001b[0;34m)\u001b[0m\u001b[0;34m\u001b[0m\u001b[0;34m\u001b[0m\u001b[0m\n\u001b[1;32m     27\u001b[0m \u001b[0;34m\u001b[0m\u001b[0m\n\u001b[0;32m---> 28\u001b[0;31m \u001b[0mnamesFile\u001b[0m \u001b[0;34m=\u001b[0m \u001b[0mopen\u001b[0m \u001b[0;34m(\u001b[0m\u001b[0;34m'/home/hadaq/mdc/lv_logs/boards.txt'\u001b[0m\u001b[0;34m,\u001b[0m\u001b[0;34m'r'\u001b[0m\u001b[0;34m)\u001b[0m\u001b[0;34m\u001b[0m\u001b[0;34m\u001b[0m\u001b[0m\n\u001b[0m\u001b[1;32m     29\u001b[0m \u001b[0mpdf\u001b[0m \u001b[0;34m=\u001b[0m \u001b[0mmatplotlib\u001b[0m\u001b[0;34m.\u001b[0m\u001b[0mbackends\u001b[0m\u001b[0;34m.\u001b[0m\u001b[0mbackend_pdf\u001b[0m\u001b[0;34m.\u001b[0m\u001b[0mPdfPages\u001b[0m\u001b[0;34m(\u001b[0m\u001b[0;34m\"/home/hadaq/mdc/lv_logs/output.pdf\"\u001b[0m\u001b[0;34m)\u001b[0m\u001b[0;34m\u001b[0m\u001b[0;34m\u001b[0m\u001b[0m\n\u001b[1;32m     30\u001b[0m \u001b[0;32mfor\u001b[0m \u001b[0mfiles\u001b[0m \u001b[0;32min\u001b[0m \u001b[0mnamesFile\u001b[0m\u001b[0;34m:\u001b[0m\u001b[0;34m\u001b[0m\u001b[0;34m\u001b[0m\u001b[0m\n",
      "\u001b[0;31mFileNotFoundError\u001b[0m: [Errno 2] No such file or directory: '/home/hadaq/mdc/lv_logs/boards.txt'"
     ]
    }
   ],
   "source": [
    "import os\n",
    "import time\n",
    "from matplotlib import pyplot as plt\n",
    "import matplotlib.backends.backend_pdf\n",
    "import numpy as np\n",
    "\n",
    "\n",
    "\n",
    "def makePlot (fileName):\n",
    "\tstringWithTime = []\n",
    "\tstringWithVoltage = []\n",
    "\tinputFile=open(fileName,'r')\n",
    "\tlines=inputFile.readlines()\n",
    "\tfor line in lines:\n",
    "\t\tif (line%2==0):\n",
    "\t\t\tdummy1 , dummy2, dummy3, time, dummy4, dummy5 = line.split()\n",
    "\t\t\tstringWithTime.append(time)\n",
    "\t\tif (line%2==1):\n",
    "\t\t\tdummy1 , voltage, dummy3, dummy4 = line.split()\n",
    "\t\t\tstringWithVoltage.append(voltage)\n",
    "\tfig=plt.figure()\n",
    "\tplt.plot(stringWithTime,stringWithVoltage)\n",
    "\tfig.suptitle(\"fileName\")\n",
    "\tfig.xlabel(\"Time\")\n",
    "\tfig.ylabel(\"Voltage\")\n",
    "\tpdf.savefig( fig )\n",
    "\t\n",
    "namesFile = open ('/home/hadaq/mdc/lv_logs/boards.txt','r')\n",
    "pdf = matplotlib.backends.backend_pdf.PdfPages(\"/home/hadaq/mdc/lv_logs/output.pdf\")\n",
    "for files in namesFile:\n",
    "\tmakePlot(files)\n",
    "\tpdf.close()\n"
   ]
  },
  {
   "cell_type": "code",
   "execution_count": null,
   "id": "unsigned-adjustment",
   "metadata": {},
   "outputs": [],
   "source": []
  }
 ],
 "metadata": {
  "kernelspec": {
   "display_name": "Python 3",
   "language": "python",
   "name": "python3"
  },
  "language_info": {
   "codemirror_mode": {
    "name": "ipython",
    "version": 3
   },
   "file_extension": ".py",
   "mimetype": "text/x-python",
   "name": "python",
   "nbconvert_exporter": "python",
   "pygments_lexer": "ipython3",
   "version": "3.6.9"
  }
 },
 "nbformat": 4,
 "nbformat_minor": 5
}
