{
 "cells": [
  {
   "cell_type": "code",
   "execution_count": 3,
   "id": "hearing-dakota",
   "metadata": {},
   "outputs": [
    {
     "data": {
      "text/plain": [
       "0"
      ]
     },
     "execution_count": 3,
     "metadata": {},
     "output_type": "execute_result"
    }
   ],
   "source": [
    "import os\n",
    "os.system(\"trbcmd loadbit {} 0xd580 0x300 0x{}00\".format(\"0x1802\", 2))\n",
    "os.system(\"trbcmd loadbit {} 0xd580 0x300 0x{}00\".format(\"0x1801\", 0))\n",
    "os.system(\"trbcmd loadbit {} 0xd580 0x300 0x{}00\".format(\"0x1802\", 2))"
   ]
  }
 ],
 "metadata": {
  "kernelspec": {
   "display_name": "Python 3",
   "language": "python",
   "name": "python3"
  },
  "language_info": {
   "codemirror_mode": {
    "name": "ipython",
    "version": 3
   },
   "file_extension": ".py",
   "mimetype": "text/x-python",
   "name": "python",
   "nbconvert_exporter": "python",
   "pygments_lexer": "ipython3",
   "version": "3.6.9"
  }
 },
 "nbformat": 4,
 "nbformat_minor": 5
}
