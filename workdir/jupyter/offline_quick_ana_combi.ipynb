{
 "cells": [
  {
   "cell_type": "code",
   "execution_count": 1,
   "metadata": {},
   "outputs": [
    {
     "name": "stdout",
     "output_type": "stream",
     "text": [
      "Welcome to JupyROOT 6.14/04\n"
     ]
    },
    {
     "data": {
      "text/plain": [
       "0"
      ]
     },
     "execution_count": 1,
     "metadata": {},
     "output_type": "execute_result"
    }
   ],
   "source": [
    "import ROOT\n",
    "\n",
    "import os\n",
    "\n",
    "\n",
    "from my_utils import *\n",
    "from matplotlib import pyplot as plt\n",
    "import numpy as np\n",
    "\n",
    "data_dir = make_data_dir()\n",
    "\n",
    "c = ROOT.TCanvas(\"myCanvasName\",\"The Canvas Title\",800,400)\n",
    "\n",
    "from ROOT import gInterpreter, gSystem\n",
    "gInterpreter.ProcessLine('#include \"/workdir/skew_norm.C\"')"
   ]
  },
  {
   "cell_type": "code",
   "execution_count": 2,
   "metadata": {},
   "outputs": [],
   "source": [
    "clear_data_dir()"
   ]
  },
  {
   "cell_type": "code",
   "execution_count": 3,
   "metadata": {},
   "outputs": [
    {
     "data": {
      "text/plain": [
       "['/workdir/data/2019-11-09_20-37-07_id062_pAC_HV1750V_thr15_60s_x76.900_phi0.00/joint_tree.root',\n",
       " '/workdir/data/2019-11-09_20-38-24_id062_pAC_HV1750V_thr15_60s_x77.050_phi0.00/joint_tree.root',\n",
       " '/workdir/data/2019-11-09_20-39-40_id062_pAC_HV1750V_thr15_60s_x77.200_phi0.00/joint_tree.root',\n",
       " '/workdir/data/2019-11-09_20-40-56_id062_pAC_HV1750V_thr15_60s_x77.350_phi0.00/joint_tree.root',\n",
       " '/workdir/data/2019-11-09_20-42-12_id062_pAC_HV1750V_thr15_60s_x77.500_phi0.00/joint_tree.root',\n",
       " '/workdir/data/2019-11-09_20-43-28_id062_pAC_HV1750V_thr15_60s_x77.650_phi0.00/joint_tree.root',\n",
       " '/workdir/data/2019-11-09_20-44-44_id062_pAC_HV1750V_thr15_60s_x77.800_phi0.00/joint_tree.root',\n",
       " '/workdir/data/2019-11-09_20-46-02_id062_pAC_HV1750V_thr15_60s_x77.950_phi0.00/joint_tree.root',\n",
       " '/workdir/data/2019-11-09_20-47-16_id062_pAC_HV1750V_thr15_60s_x78.100_phi0.00/joint_tree.root',\n",
       " '/workdir/data/2019-11-09_20-48-32_id062_pAC_HV1750V_thr15_60s_x78.250_phi0.00/joint_tree.root',\n",
       " '/workdir/data/2019-11-09_20-49-48_id062_pAC_HV1750V_thr15_60s_x78.400_phi0.00/joint_tree.root',\n",
       " '/workdir/data/2019-11-09_20-51-04_id062_pAC_HV1750V_thr15_60s_x78.550_phi0.00/joint_tree.root',\n",
       " '/workdir/data/2019-11-09_20-52-22_id062_pAC_HV1750V_thr15_60s_x78.700_phi0.00/joint_tree.root',\n",
       " '/workdir/data/2019-11-09_20-53-36_id062_pAC_HV1750V_thr15_60s_x78.850_phi0.00/joint_tree.root',\n",
       " '/workdir/data/2019-11-09_20-54-54_id062_pAC_HV1750V_thr15_60s_x79.000_phi0.00/joint_tree.root',\n",
       " '/workdir/data/2019-11-09_20-56-08_id062_pAC_HV1750V_thr15_60s_x79.150_phi0.00/joint_tree.root',\n",
       " '/workdir/data/2019-11-09_20-57-23_id062_pAC_HV1750V_thr15_60s_x79.300_phi0.00/joint_tree.root',\n",
       " '/workdir/data/2019-11-09_20-58-39_id062_pAC_HV1750V_thr15_60s_x79.450_phi0.00/joint_tree.root',\n",
       " '/workdir/data/2019-11-09_20-59-55_id062_pAC_HV1750V_thr15_60s_x79.600_phi0.00/joint_tree.root',\n",
       " '/workdir/data/2019-11-09_21-01-11_id062_pAC_HV1750V_thr15_60s_x79.750_phi0.00/joint_tree.root',\n",
       " '/workdir/data/2019-11-09_21-02-27_id062_pAC_HV1750V_thr15_60s_x79.900_phi0.00/joint_tree.root',\n",
       " '/workdir/data/2019-11-09_21-03-43_id062_pAC_HV1750V_thr15_60s_x80.050_phi0.00/joint_tree.root',\n",
       " '']"
      ]
     },
     "execution_count": 3,
     "metadata": {},
     "output_type": "execute_result"
    }
   ],
   "source": [
    "\n",
    "# prefer fully unpacked over previews\n",
    "\n",
    "possible_file_names = [\n",
    " \"joint_tree.root\",\n",
    " \"joint_tree_prev5000.root\",\n",
    " \"joint_tree_prev1000.root\"\n",
    "]\n",
    "\n",
    "id=\"id062\"\n",
    "\n",
    "## auto detect scan type ##\n",
    "\n",
    "root_file_name = \"\"\n",
    "\n",
    "for i in range(0,len(possible_file_names)):\n",
    "  root_file_name = possible_file_names[i]\n",
    "  file_list = os.popen('  find /workdir/data -iname \"*{:s}\" | grep {:s} | sort '.format(\n",
    "    root_file_name,id)).read().split(\"\\n\")\n",
    "  if (len(file_list) > 1):\n",
    "    break\n",
    "\n",
    "#print(\"len: {:d}\".format(len(file_list)))\n",
    "#file_list = file_list[0:60]\n",
    "file_list"
   ]
  },
  {
   "cell_type": "code",
   "execution_count": 4,
   "metadata": {},
   "outputs": [
    {
     "name": "stdout",
     "output_type": "stream",
     "text": [
      "X\n",
      "[76.9, 77.05, 77.2, 77.35, 77.5, 77.65, 77.8, 77.95, 78.1, 78.25, 78.4, 78.55, 78.7, 78.85, 79.0, 79.15, 79.3, 79.45, 79.6, 79.75, 79.9, 80.05]\n"
     ]
    }
   ],
   "source": [
    "import re\n",
    "\n",
    "X =  []\n",
    "PHI =  []\n",
    "THR = []\n",
    "MICRO = []\n",
    "\n",
    "print (\"X\")\n",
    "\n",
    "pattern =  re.compile(\".*_x([0-9E+\\-.]+).*/{:s}\".format(root_file_name))\n",
    "for file in file_list:\n",
    "  #print(file , end=\"   x: \")\n",
    "  match = re.search(pattern, file)\n",
    "  if match:\n",
    "    x = match.groups()[0]\n",
    "    X += [float(x)]\n",
    "\n",
    "print (X)"
   ]
  },
  {
   "cell_type": "code",
   "execution_count": 5,
   "metadata": {},
   "outputs": [
    {
     "name": "stdout",
     "output_type": "stream",
     "text": [
      "PHI\n",
      "[0.0, 0.0, 0.0, 0.0, 0.0, 0.0, 0.0, 0.0, 0.0, 0.0, 0.0, 0.0, 0.0, 0.0, 0.0, 0.0, 0.0, 0.0, 0.0, 0.0, 0.0, 0.0]\n"
     ]
    }
   ],
   "source": [
    "print (\"PHI\")\n",
    "\n",
    "pattern =  re.compile(\".*_phi([0-9E+\\-.]+).*/{:s}\".format(root_file_name))\n",
    "for file in file_list:\n",
    "  #print(file , end=\"   x: \")\n",
    "  match = re.search(pattern, file)\n",
    "  if match:\n",
    "    phi = match.groups()[0]\n",
    "    PHI += [float(phi)]\n",
    "\n",
    "print (PHI)"
   ]
  },
  {
   "cell_type": "code",
   "execution_count": 6,
   "metadata": {},
   "outputs": [
    {
     "name": "stdout",
     "output_type": "stream",
     "text": [
      "THR\n",
      "[15.0, 15.0, 15.0, 15.0, 15.0, 15.0, 15.0, 15.0, 15.0, 15.0, 15.0, 15.0, 15.0, 15.0, 15.0, 15.0, 15.0, 15.0, 15.0, 15.0, 15.0, 15.0]\n"
     ]
    }
   ],
   "source": [
    "print (\"THR\")\n",
    "\n",
    "pattern =  re.compile(\".*_thr([0-9E+\\-.]+).*/{:s}\".format(root_file_name))\n",
    "for file in file_list:\n",
    "  #print(file , end=\"   x: \")\n",
    "  match = re.search(pattern, file)\n",
    "  if match:\n",
    "    thr = match.groups()[0]\n",
    "    THR += [float(thr)]\n",
    "\n",
    "print (THR)"
   ]
  },
  {
   "cell_type": "code",
   "execution_count": 7,
   "metadata": {},
   "outputs": [
    {
     "name": "stdout",
     "output_type": "stream",
     "text": [
      "MICRO\n",
      "[]\n"
     ]
    }
   ],
   "source": [
    "print (\"MICRO\")\n",
    "\n",
    "pattern =  re.compile(\".*_micro([0-9E+\\-.]+).*/{:s}\".format(root_file_name))\n",
    "for file in file_list:\n",
    "  #print(file , end=\"   x: \")\n",
    "  match = re.search(pattern, file)\n",
    "  if match:\n",
    "    micro = match.groups()[0]\n",
    "    MICRO += [float(micro)]\n",
    "\n",
    "print (MICRO)"
   ]
  },
  {
   "cell_type": "code",
   "execution_count": 8,
   "metadata": {},
   "outputs": [],
   "source": [
    "# default variable\n",
    "varname = \"X\"\n",
    "#varname  = \"THR\"\n",
    "#varname = \"PHI\"\n",
    "#varname = \"MICRO\"\n",
    "\n",
    "varname_list = [\"X\",\"THR\",\"PHI\",\"MICRO\"]\n",
    "len_list     = np.array([len(set(X)),len(set(THR)),len(set(PHI)),len(set(MICRO))])\n",
    "\n",
    "varname = varname_list[ np.argmax(len_list) ]\n"
   ]
  },
  {
   "cell_type": "code",
   "execution_count": 9,
   "metadata": {
    "scrolled": true
   },
   "outputs": [
    {
     "name": "stdout",
     "output_type": "stream",
     "text": [
      "var: 76.900 X, no_triggers: 6952\n",
      "var: 76.900 X, scinti_cut no_triggers: 3477\n",
      "var: 77.050 X, no_triggers: 6522\n",
      "var: 77.050 X, scinti_cut no_triggers: 3457\n",
      "var: 77.200 X, no_triggers: 6543\n",
      "var: 77.200 X, scinti_cut no_triggers: 3570\n",
      "var: 77.350 X, no_triggers: 6057\n",
      "var: 77.350 X, scinti_cut no_triggers: 3426\n",
      "var: 77.500 X, no_triggers: 6263\n",
      "var: 77.500 X, scinti_cut no_triggers: 3609\n",
      "var: 77.650 X, no_triggers: 7269\n",
      "var: 77.650 X, scinti_cut no_triggers: 4129\n",
      "var: 77.800 X, no_triggers: 6118\n",
      "var: 77.800 X, scinti_cut no_triggers: 3691\n",
      "var: 77.950 X, no_triggers: 5740\n",
      "var: 77.950 X, scinti_cut no_triggers: 3579\n",
      "var: 78.100 X, no_triggers: 5270\n",
      "var: 78.100 X, scinti_cut no_triggers: 3395\n",
      "var: 78.250 X, no_triggers: 5371\n",
      "var: 78.250 X, scinti_cut no_triggers: 3527\n",
      "var: 78.400 X, no_triggers: 5454\n",
      "var: 78.400 X, scinti_cut no_triggers: 3623\n",
      "var: 78.550 X, no_triggers: 4692\n",
      "var: 78.550 X, scinti_cut no_triggers: 3244\n",
      "var: 78.700 X, no_triggers: 4861\n",
      "var: 78.700 X, scinti_cut no_triggers: 3401\n",
      "var: 78.850 X, no_triggers: 5543\n",
      "var: 78.850 X, scinti_cut no_triggers: 3695\n",
      "var: 79.000 X, no_triggers: 4907\n",
      "var: 79.000 X, scinti_cut no_triggers: 3329\n",
      "var: 79.150 X, no_triggers: 5095\n",
      "var: 79.150 X, scinti_cut no_triggers: 3483\n",
      "var: 79.300 X, no_triggers: 4045\n",
      "var: 79.300 X, scinti_cut no_triggers: 2931\n",
      "var: 79.450 X, no_triggers: 5028\n",
      "var: 79.450 X, scinti_cut no_triggers: 3384\n",
      "var: 79.600 X, no_triggers: 4630\n",
      "var: 79.600 X, scinti_cut no_triggers: 3176\n",
      "var: 79.750 X, no_triggers: 4345\n",
      "var: 79.750 X, scinti_cut no_triggers: 3083\n",
      "var: 79.900 X, no_triggers: 4330\n",
      "var: 79.900 X, scinti_cut no_triggers: 3079\n",
      "var: 80.050 X, no_triggers: 3849\n",
      "var: 80.050 X, scinti_cut no_triggers: 2708\n"
     ]
    },
    {
     "name": "stderr",
     "output_type": "stream",
     "text": [
      "Warning in <TCanvas::Constructor>: Deleting canvas with same name: myCanvasName\n",
      "Warning in <TClass::Init>: no dictionary for class Event is available\n",
      "Warning in <TClass::Init>: no dictionary for class Hit is available\n",
      "Info in <TCanvas::Print>: png file /workdir/jupyter/offline_quick_ana_combi_data/t1_raw_wide/76.900_t1_wide.png has been created\n",
      "Info in <TCanvas::Print>: png file /workdir/jupyter/offline_quick_ana_combi_data/t1_raw/76.900_t1.png has been created\n",
      "Info in <TCanvas::Print>: png file /workdir/jupyter/offline_quick_ana_combi_data/fish_raw/76.900_fish.png has been created\n",
      "Info in <TCanvas::Print>: png file /workdir/jupyter/offline_quick_ana_combi_data/fish_raw_proj/76.900_fish_proj.png has been created\n",
      "Info in <TCanvas::Print>: png file /workdir/jupyter/offline_quick_ana_combi_data/t1_scut_wire_a/76.900_t1_scut.png has been created\n",
      "Info in <TCanvas::Print>: png file /workdir/jupyter/offline_quick_ana_combi_data/t1_scut_wire_b/76.900_t1_scut_b.png has been created\n",
      "Info in <TCanvas::Print>: png file /workdir/jupyter/offline_quick_ana_combi_data/fish_scut/76.900_fish_scinti_cut.png has been created\n",
      "Info in <TCanvas::Print>: png file /workdir/jupyter/offline_quick_ana_combi_data/fish_proj_scut/76.900_fish_proj_scinti_cut.png has been created\n",
      "Info in <TCanvas::Print>: png file /workdir/jupyter/offline_quick_ana_combi_data/t1_raw_wide/77.050_t1_wide.png has been created\n",
      "Info in <TCanvas::Print>: png file /workdir/jupyter/offline_quick_ana_combi_data/t1_raw/77.050_t1.png has been created\n",
      "Info in <TCanvas::Print>: png file /workdir/jupyter/offline_quick_ana_combi_data/fish_raw/77.050_fish.png has been created\n",
      "Info in <TCanvas::Print>: png file /workdir/jupyter/offline_quick_ana_combi_data/fish_raw_proj/77.050_fish_proj.png has been created\n",
      "Info in <TCanvas::Print>: png file /workdir/jupyter/offline_quick_ana_combi_data/t1_scut_wire_a/77.050_t1_scut.png has been created\n",
      "Info in <TCanvas::Print>: png file /workdir/jupyter/offline_quick_ana_combi_data/t1_scut_wire_b/77.050_t1_scut_b.png has been created\n",
      "Info in <TCanvas::Print>: png file /workdir/jupyter/offline_quick_ana_combi_data/fish_scut/77.050_fish_scinti_cut.png has been created\n",
      "Info in <TCanvas::Print>: png file /workdir/jupyter/offline_quick_ana_combi_data/fish_proj_scut/77.050_fish_proj_scinti_cut.png has been created\n",
      "Info in <TCanvas::Print>: png file /workdir/jupyter/offline_quick_ana_combi_data/t1_raw_wide/77.200_t1_wide.png has been created\n",
      "Info in <TCanvas::Print>: png file /workdir/jupyter/offline_quick_ana_combi_data/t1_raw/77.200_t1.png has been created\n",
      "Info in <TCanvas::Print>: png file /workdir/jupyter/offline_quick_ana_combi_data/fish_raw/77.200_fish.png has been created\n",
      "Info in <TCanvas::Print>: png file /workdir/jupyter/offline_quick_ana_combi_data/fish_raw_proj/77.200_fish_proj.png has been created\n",
      "Info in <TCanvas::Print>: png file /workdir/jupyter/offline_quick_ana_combi_data/t1_scut_wire_a/77.200_t1_scut.png has been created\n",
      "Info in <TCanvas::Print>: png file /workdir/jupyter/offline_quick_ana_combi_data/t1_scut_wire_b/77.200_t1_scut_b.png has been created\n",
      "Info in <TCanvas::Print>: png file /workdir/jupyter/offline_quick_ana_combi_data/fish_scut/77.200_fish_scinti_cut.png has been created\n",
      "Info in <TCanvas::Print>: png file /workdir/jupyter/offline_quick_ana_combi_data/fish_proj_scut/77.200_fish_proj_scinti_cut.png has been created\n",
      "Info in <TCanvas::Print>: png file /workdir/jupyter/offline_quick_ana_combi_data/t1_raw_wide/77.350_t1_wide.png has been created\n",
      "Info in <TCanvas::Print>: png file /workdir/jupyter/offline_quick_ana_combi_data/t1_raw/77.350_t1.png has been created\n",
      "Info in <TCanvas::Print>: png file /workdir/jupyter/offline_quick_ana_combi_data/fish_raw/77.350_fish.png has been created\n",
      "Info in <TCanvas::Print>: png file /workdir/jupyter/offline_quick_ana_combi_data/fish_raw_proj/77.350_fish_proj.png has been created\n",
      "Info in <TCanvas::Print>: png file /workdir/jupyter/offline_quick_ana_combi_data/t1_scut_wire_a/77.350_t1_scut.png has been created\n",
      "Info in <TCanvas::Print>: png file /workdir/jupyter/offline_quick_ana_combi_data/t1_scut_wire_b/77.350_t1_scut_b.png has been created\n",
      "Info in <TCanvas::Print>: png file /workdir/jupyter/offline_quick_ana_combi_data/fish_scut/77.350_fish_scinti_cut.png has been created\n",
      "Info in <TCanvas::Print>: png file /workdir/jupyter/offline_quick_ana_combi_data/fish_proj_scut/77.350_fish_proj_scinti_cut.png has been created\n",
      "Info in <TCanvas::Print>: png file /workdir/jupyter/offline_quick_ana_combi_data/t1_raw_wide/77.500_t1_wide.png has been created\n",
      "Info in <TCanvas::Print>: png file /workdir/jupyter/offline_quick_ana_combi_data/t1_raw/77.500_t1.png has been created\n",
      "Info in <TCanvas::Print>: png file /workdir/jupyter/offline_quick_ana_combi_data/fish_raw/77.500_fish.png has been created\n",
      "Info in <TCanvas::Print>: png file /workdir/jupyter/offline_quick_ana_combi_data/fish_raw_proj/77.500_fish_proj.png has been created\n",
      "Info in <TCanvas::Print>: png file /workdir/jupyter/offline_quick_ana_combi_data/t1_scut_wire_a/77.500_t1_scut.png has been created\n",
      "Info in <TCanvas::Print>: png file /workdir/jupyter/offline_quick_ana_combi_data/t1_scut_wire_b/77.500_t1_scut_b.png has been created\n",
      "Info in <TCanvas::Print>: png file /workdir/jupyter/offline_quick_ana_combi_data/fish_scut/77.500_fish_scinti_cut.png has been created\n",
      "Info in <TCanvas::Print>: png file /workdir/jupyter/offline_quick_ana_combi_data/fish_proj_scut/77.500_fish_proj_scinti_cut.png has been created\n",
      "Info in <TCanvas::Print>: png file /workdir/jupyter/offline_quick_ana_combi_data/t1_raw_wide/77.650_t1_wide.png has been created\n",
      "Info in <TCanvas::Print>: png file /workdir/jupyter/offline_quick_ana_combi_data/t1_raw/77.650_t1.png has been created\n",
      "Info in <TCanvas::Print>: png file /workdir/jupyter/offline_quick_ana_combi_data/fish_raw/77.650_fish.png has been created\n",
      "Info in <TCanvas::Print>: png file /workdir/jupyter/offline_quick_ana_combi_data/fish_raw_proj/77.650_fish_proj.png has been created\n",
      "Info in <TCanvas::Print>: png file /workdir/jupyter/offline_quick_ana_combi_data/t1_scut_wire_a/77.650_t1_scut.png has been created\n",
      "Info in <TCanvas::Print>: png file /workdir/jupyter/offline_quick_ana_combi_data/t1_scut_wire_b/77.650_t1_scut_b.png has been created\n",
      "Info in <TCanvas::Print>: png file /workdir/jupyter/offline_quick_ana_combi_data/fish_scut/77.650_fish_scinti_cut.png has been created\n",
      "Info in <TCanvas::Print>: png file /workdir/jupyter/offline_quick_ana_combi_data/fish_proj_scut/77.650_fish_proj_scinti_cut.png has been created\n",
      "Info in <TCanvas::Print>: png file /workdir/jupyter/offline_quick_ana_combi_data/t1_raw_wide/77.800_t1_wide.png has been created\n",
      "Info in <TCanvas::Print>: png file /workdir/jupyter/offline_quick_ana_combi_data/t1_raw/77.800_t1.png has been created\n",
      "Info in <TCanvas::Print>: png file /workdir/jupyter/offline_quick_ana_combi_data/fish_raw/77.800_fish.png has been created\n",
      "Info in <TCanvas::Print>: png file /workdir/jupyter/offline_quick_ana_combi_data/fish_raw_proj/77.800_fish_proj.png has been created\n",
      "Info in <TCanvas::Print>: png file /workdir/jupyter/offline_quick_ana_combi_data/t1_scut_wire_a/77.800_t1_scut.png has been created\n",
      "Info in <TCanvas::Print>: png file /workdir/jupyter/offline_quick_ana_combi_data/t1_scut_wire_b/77.800_t1_scut_b.png has been created\n",
      "Info in <TCanvas::Print>: png file /workdir/jupyter/offline_quick_ana_combi_data/fish_scut/77.800_fish_scinti_cut.png has been created\n",
      "Info in <TCanvas::Print>: png file /workdir/jupyter/offline_quick_ana_combi_data/fish_proj_scut/77.800_fish_proj_scinti_cut.png has been created\n",
      "Info in <TCanvas::Print>: png file /workdir/jupyter/offline_quick_ana_combi_data/t1_raw_wide/77.950_t1_wide.png has been created\n",
      "Info in <TCanvas::Print>: png file /workdir/jupyter/offline_quick_ana_combi_data/t1_raw/77.950_t1.png has been created\n",
      "Info in <TCanvas::Print>: png file /workdir/jupyter/offline_quick_ana_combi_data/fish_raw/77.950_fish.png has been created\n",
      "Info in <TCanvas::Print>: png file /workdir/jupyter/offline_quick_ana_combi_data/fish_raw_proj/77.950_fish_proj.png has been created\n",
      "Info in <TCanvas::Print>: png file /workdir/jupyter/offline_quick_ana_combi_data/t1_scut_wire_a/77.950_t1_scut.png has been created\n",
      "Info in <TCanvas::Print>: png file /workdir/jupyter/offline_quick_ana_combi_data/t1_scut_wire_b/77.950_t1_scut_b.png has been created\n",
      "Info in <TCanvas::Print>: png file /workdir/jupyter/offline_quick_ana_combi_data/fish_scut/77.950_fish_scinti_cut.png has been created\n",
      "Info in <TCanvas::Print>: png file /workdir/jupyter/offline_quick_ana_combi_data/fish_proj_scut/77.950_fish_proj_scinti_cut.png has been created\n",
      "Info in <TCanvas::Print>: png file /workdir/jupyter/offline_quick_ana_combi_data/t1_raw_wide/78.100_t1_wide.png has been created\n",
      "Info in <TCanvas::Print>: png file /workdir/jupyter/offline_quick_ana_combi_data/t1_raw/78.100_t1.png has been created\n",
      "Info in <TCanvas::Print>: png file /workdir/jupyter/offline_quick_ana_combi_data/fish_raw/78.100_fish.png has been created\n",
      "Info in <TCanvas::Print>: png file /workdir/jupyter/offline_quick_ana_combi_data/fish_raw_proj/78.100_fish_proj.png has been created\n",
      "Info in <TCanvas::Print>: png file /workdir/jupyter/offline_quick_ana_combi_data/t1_scut_wire_a/78.100_t1_scut.png has been created\n",
      "Info in <TCanvas::Print>: png file /workdir/jupyter/offline_quick_ana_combi_data/t1_scut_wire_b/78.100_t1_scut_b.png has been created\n",
      "Info in <TCanvas::Print>: png file /workdir/jupyter/offline_quick_ana_combi_data/fish_scut/78.100_fish_scinti_cut.png has been created\n",
      "Info in <TCanvas::Print>: png file /workdir/jupyter/offline_quick_ana_combi_data/fish_proj_scut/78.100_fish_proj_scinti_cut.png has been created\n",
      "Info in <TCanvas::Print>: png file /workdir/jupyter/offline_quick_ana_combi_data/t1_raw_wide/78.250_t1_wide.png has been created\n",
      "Info in <TCanvas::Print>: png file /workdir/jupyter/offline_quick_ana_combi_data/t1_raw/78.250_t1.png has been created\n",
      "Info in <TCanvas::Print>: png file /workdir/jupyter/offline_quick_ana_combi_data/fish_raw/78.250_fish.png has been created\n",
      "Info in <TCanvas::Print>: png file /workdir/jupyter/offline_quick_ana_combi_data/fish_raw_proj/78.250_fish_proj.png has been created\n",
      "Info in <TCanvas::Print>: png file /workdir/jupyter/offline_quick_ana_combi_data/t1_scut_wire_a/78.250_t1_scut.png has been created\n",
      "Info in <TCanvas::Print>: png file /workdir/jupyter/offline_quick_ana_combi_data/t1_scut_wire_b/78.250_t1_scut_b.png has been created\n",
      "Info in <TCanvas::Print>: png file /workdir/jupyter/offline_quick_ana_combi_data/fish_scut/78.250_fish_scinti_cut.png has been created\n",
      "Info in <TCanvas::Print>: png file /workdir/jupyter/offline_quick_ana_combi_data/fish_proj_scut/78.250_fish_proj_scinti_cut.png has been created\n",
      "Info in <TCanvas::Print>: png file /workdir/jupyter/offline_quick_ana_combi_data/t1_raw_wide/78.400_t1_wide.png has been created\n",
      "Info in <TCanvas::Print>: png file /workdir/jupyter/offline_quick_ana_combi_data/t1_raw/78.400_t1.png has been created\n",
      "Info in <TCanvas::Print>: png file /workdir/jupyter/offline_quick_ana_combi_data/fish_raw/78.400_fish.png has been created\n",
      "Info in <TCanvas::Print>: png file /workdir/jupyter/offline_quick_ana_combi_data/fish_raw_proj/78.400_fish_proj.png has been created\n",
      "Info in <TCanvas::Print>: png file /workdir/jupyter/offline_quick_ana_combi_data/t1_scut_wire_a/78.400_t1_scut.png has been created\n",
      "Info in <TCanvas::Print>: png file /workdir/jupyter/offline_quick_ana_combi_data/t1_scut_wire_b/78.400_t1_scut_b.png has been created\n",
      "Info in <TCanvas::Print>: png file /workdir/jupyter/offline_quick_ana_combi_data/fish_scut/78.400_fish_scinti_cut.png has been created\n",
      "Info in <TCanvas::Print>: png file /workdir/jupyter/offline_quick_ana_combi_data/fish_proj_scut/78.400_fish_proj_scinti_cut.png has been created\n",
      "Info in <TCanvas::Print>: png file /workdir/jupyter/offline_quick_ana_combi_data/t1_raw_wide/78.550_t1_wide.png has been created\n",
      "Info in <TCanvas::Print>: png file /workdir/jupyter/offline_quick_ana_combi_data/t1_raw/78.550_t1.png has been created\n",
      "Info in <TCanvas::Print>: png file /workdir/jupyter/offline_quick_ana_combi_data/fish_raw/78.550_fish.png has been created\n",
      "Info in <TCanvas::Print>: png file /workdir/jupyter/offline_quick_ana_combi_data/fish_raw_proj/78.550_fish_proj.png has been created\n",
      "Info in <TCanvas::Print>: png file /workdir/jupyter/offline_quick_ana_combi_data/t1_scut_wire_a/78.550_t1_scut.png has been created\n",
      "Info in <TCanvas::Print>: png file /workdir/jupyter/offline_quick_ana_combi_data/t1_scut_wire_b/78.550_t1_scut_b.png has been created\n",
      "Info in <TCanvas::Print>: png file /workdir/jupyter/offline_quick_ana_combi_data/fish_scut/78.550_fish_scinti_cut.png has been created\n",
      "Info in <TCanvas::Print>: png file /workdir/jupyter/offline_quick_ana_combi_data/fish_proj_scut/78.550_fish_proj_scinti_cut.png has been created\n",
      "Info in <TCanvas::Print>: png file /workdir/jupyter/offline_quick_ana_combi_data/t1_raw_wide/78.700_t1_wide.png has been created\n",
      "Info in <TCanvas::Print>: png file /workdir/jupyter/offline_quick_ana_combi_data/t1_raw/78.700_t1.png has been created\n",
      "Info in <TCanvas::Print>: png file /workdir/jupyter/offline_quick_ana_combi_data/fish_raw/78.700_fish.png has been created\n",
      "Info in <TCanvas::Print>: png file /workdir/jupyter/offline_quick_ana_combi_data/fish_raw_proj/78.700_fish_proj.png has been created\n",
      "Info in <TCanvas::Print>: png file /workdir/jupyter/offline_quick_ana_combi_data/t1_scut_wire_a/78.700_t1_scut.png has been created\n",
      "Info in <TCanvas::Print>: png file /workdir/jupyter/offline_quick_ana_combi_data/t1_scut_wire_b/78.700_t1_scut_b.png has been created\n",
      "Info in <TCanvas::Print>: png file /workdir/jupyter/offline_quick_ana_combi_data/fish_scut/78.700_fish_scinti_cut.png has been created\n",
      "Info in <TCanvas::Print>: png file /workdir/jupyter/offline_quick_ana_combi_data/fish_proj_scut/78.700_fish_proj_scinti_cut.png has been created\n",
      "Info in <TCanvas::Print>: png file /workdir/jupyter/offline_quick_ana_combi_data/t1_raw_wide/78.850_t1_wide.png has been created\n",
      "Info in <TCanvas::Print>: png file /workdir/jupyter/offline_quick_ana_combi_data/t1_raw/78.850_t1.png has been created\n",
      "Info in <TCanvas::Print>: png file /workdir/jupyter/offline_quick_ana_combi_data/fish_raw/78.850_fish.png has been created\n",
      "Info in <TCanvas::Print>: png file /workdir/jupyter/offline_quick_ana_combi_data/fish_raw_proj/78.850_fish_proj.png has been created\n",
      "Info in <TCanvas::Print>: png file /workdir/jupyter/offline_quick_ana_combi_data/t1_scut_wire_a/78.850_t1_scut.png has been created\n",
      "Info in <TCanvas::Print>: png file /workdir/jupyter/offline_quick_ana_combi_data/t1_scut_wire_b/78.850_t1_scut_b.png has been created\n",
      "Info in <TCanvas::Print>: png file /workdir/jupyter/offline_quick_ana_combi_data/fish_scut/78.850_fish_scinti_cut.png has been created\n",
      "Info in <TCanvas::Print>: png file /workdir/jupyter/offline_quick_ana_combi_data/fish_proj_scut/78.850_fish_proj_scinti_cut.png has been created\n",
      "Info in <TCanvas::Print>: png file /workdir/jupyter/offline_quick_ana_combi_data/t1_raw_wide/79.000_t1_wide.png has been created\n",
      "Info in <TCanvas::Print>: png file /workdir/jupyter/offline_quick_ana_combi_data/t1_raw/79.000_t1.png has been created\n",
      "Info in <TCanvas::Print>: png file /workdir/jupyter/offline_quick_ana_combi_data/fish_raw/79.000_fish.png has been created\n",
      "Info in <TCanvas::Print>: png file /workdir/jupyter/offline_quick_ana_combi_data/fish_raw_proj/79.000_fish_proj.png has been created\n",
      "Info in <TCanvas::Print>: png file /workdir/jupyter/offline_quick_ana_combi_data/t1_scut_wire_a/79.000_t1_scut.png has been created\n",
      "Info in <TCanvas::Print>: png file /workdir/jupyter/offline_quick_ana_combi_data/t1_scut_wire_b/79.000_t1_scut_b.png has been created\n",
      "Info in <TCanvas::Print>: png file /workdir/jupyter/offline_quick_ana_combi_data/fish_scut/79.000_fish_scinti_cut.png has been created\n",
      "Info in <TCanvas::Print>: png file /workdir/jupyter/offline_quick_ana_combi_data/fish_proj_scut/79.000_fish_proj_scinti_cut.png has been created\n",
      "Info in <TCanvas::Print>: png file /workdir/jupyter/offline_quick_ana_combi_data/t1_raw_wide/79.150_t1_wide.png has been created\n",
      "Info in <TCanvas::Print>: png file /workdir/jupyter/offline_quick_ana_combi_data/t1_raw/79.150_t1.png has been created\n",
      "Info in <TCanvas::Print>: png file /workdir/jupyter/offline_quick_ana_combi_data/fish_raw/79.150_fish.png has been created\n",
      "Info in <TCanvas::Print>: png file /workdir/jupyter/offline_quick_ana_combi_data/fish_raw_proj/79.150_fish_proj.png has been created\n",
      "Info in <TCanvas::Print>: png file /workdir/jupyter/offline_quick_ana_combi_data/t1_scut_wire_a/79.150_t1_scut.png has been created\n",
      "Info in <TCanvas::Print>: png file /workdir/jupyter/offline_quick_ana_combi_data/t1_scut_wire_b/79.150_t1_scut_b.png has been created\n",
      "Info in <TCanvas::Print>: png file /workdir/jupyter/offline_quick_ana_combi_data/fish_scut/79.150_fish_scinti_cut.png has been created\n",
      "Info in <TCanvas::Print>: png file /workdir/jupyter/offline_quick_ana_combi_data/fish_proj_scut/79.150_fish_proj_scinti_cut.png has been created\n",
      "Info in <TCanvas::Print>: png file /workdir/jupyter/offline_quick_ana_combi_data/t1_raw_wide/79.300_t1_wide.png has been created\n",
      "Info in <TCanvas::Print>: png file /workdir/jupyter/offline_quick_ana_combi_data/t1_raw/79.300_t1.png has been created\n",
      "Info in <TCanvas::Print>: png file /workdir/jupyter/offline_quick_ana_combi_data/fish_raw/79.300_fish.png has been created\n",
      "Info in <TCanvas::Print>: png file /workdir/jupyter/offline_quick_ana_combi_data/fish_raw_proj/79.300_fish_proj.png has been created\n",
      "Info in <TCanvas::Print>: png file /workdir/jupyter/offline_quick_ana_combi_data/t1_scut_wire_a/79.300_t1_scut.png has been created\n",
      "Info in <TCanvas::Print>: png file /workdir/jupyter/offline_quick_ana_combi_data/t1_scut_wire_b/79.300_t1_scut_b.png has been created\n",
      "Info in <TCanvas::Print>: png file /workdir/jupyter/offline_quick_ana_combi_data/fish_scut/79.300_fish_scinti_cut.png has been created\n",
      "Info in <TCanvas::Print>: png file /workdir/jupyter/offline_quick_ana_combi_data/fish_proj_scut/79.300_fish_proj_scinti_cut.png has been created\n",
      "Info in <TCanvas::Print>: png file /workdir/jupyter/offline_quick_ana_combi_data/t1_raw_wide/79.450_t1_wide.png has been created\n",
      "Info in <TCanvas::Print>: png file /workdir/jupyter/offline_quick_ana_combi_data/t1_raw/79.450_t1.png has been created\n",
      "Info in <TCanvas::Print>: png file /workdir/jupyter/offline_quick_ana_combi_data/fish_raw/79.450_fish.png has been created\n",
      "Info in <TCanvas::Print>: png file /workdir/jupyter/offline_quick_ana_combi_data/fish_raw_proj/79.450_fish_proj.png has been created\n",
      "Info in <TCanvas::Print>: png file /workdir/jupyter/offline_quick_ana_combi_data/t1_scut_wire_a/79.450_t1_scut.png has been created\n",
      "Info in <TCanvas::Print>: png file /workdir/jupyter/offline_quick_ana_combi_data/t1_scut_wire_b/79.450_t1_scut_b.png has been created\n",
      "Info in <TCanvas::Print>: png file /workdir/jupyter/offline_quick_ana_combi_data/fish_scut/79.450_fish_scinti_cut.png has been created\n",
      "Info in <TCanvas::Print>: png file /workdir/jupyter/offline_quick_ana_combi_data/fish_proj_scut/79.450_fish_proj_scinti_cut.png has been created\n",
      "Info in <TCanvas::Print>: png file /workdir/jupyter/offline_quick_ana_combi_data/t1_raw_wide/79.600_t1_wide.png has been created\n",
      "Info in <TCanvas::Print>: png file /workdir/jupyter/offline_quick_ana_combi_data/t1_raw/79.600_t1.png has been created\n",
      "Info in <TCanvas::Print>: png file /workdir/jupyter/offline_quick_ana_combi_data/fish_raw/79.600_fish.png has been created\n",
      "Info in <TCanvas::Print>: png file /workdir/jupyter/offline_quick_ana_combi_data/fish_raw_proj/79.600_fish_proj.png has been created\n",
      "Info in <TCanvas::Print>: png file /workdir/jupyter/offline_quick_ana_combi_data/t1_scut_wire_a/79.600_t1_scut.png has been created\n",
      "Info in <TCanvas::Print>: png file /workdir/jupyter/offline_quick_ana_combi_data/t1_scut_wire_b/79.600_t1_scut_b.png has been created\n",
      "Info in <TCanvas::Print>: png file /workdir/jupyter/offline_quick_ana_combi_data/fish_scut/79.600_fish_scinti_cut.png has been created\n",
      "Info in <TCanvas::Print>: png file /workdir/jupyter/offline_quick_ana_combi_data/fish_proj_scut/79.600_fish_proj_scinti_cut.png has been created\n",
      "Info in <TCanvas::Print>: png file /workdir/jupyter/offline_quick_ana_combi_data/t1_raw_wide/79.750_t1_wide.png has been created\n",
      "Info in <TCanvas::Print>: png file /workdir/jupyter/offline_quick_ana_combi_data/t1_raw/79.750_t1.png has been created\n",
      "Info in <TCanvas::Print>: png file /workdir/jupyter/offline_quick_ana_combi_data/fish_raw/79.750_fish.png has been created\n",
      "Info in <TCanvas::Print>: png file /workdir/jupyter/offline_quick_ana_combi_data/fish_raw_proj/79.750_fish_proj.png has been created\n",
      "Info in <TCanvas::Print>: png file /workdir/jupyter/offline_quick_ana_combi_data/t1_scut_wire_a/79.750_t1_scut.png has been created\n",
      "Info in <TCanvas::Print>: png file /workdir/jupyter/offline_quick_ana_combi_data/t1_scut_wire_b/79.750_t1_scut_b.png has been created\n",
      "Info in <TCanvas::Print>: png file /workdir/jupyter/offline_quick_ana_combi_data/fish_scut/79.750_fish_scinti_cut.png has been created\n",
      "Info in <TCanvas::Print>: png file /workdir/jupyter/offline_quick_ana_combi_data/fish_proj_scut/79.750_fish_proj_scinti_cut.png has been created\n",
      "Info in <TCanvas::Print>: png file /workdir/jupyter/offline_quick_ana_combi_data/t1_raw_wide/79.900_t1_wide.png has been created\n",
      "Info in <TCanvas::Print>: png file /workdir/jupyter/offline_quick_ana_combi_data/t1_raw/79.900_t1.png has been created\n",
      "Info in <TCanvas::Print>: png file /workdir/jupyter/offline_quick_ana_combi_data/fish_raw/79.900_fish.png has been created\n",
      "Info in <TCanvas::Print>: png file /workdir/jupyter/offline_quick_ana_combi_data/fish_raw_proj/79.900_fish_proj.png has been created\n",
      "Info in <TCanvas::Print>: png file /workdir/jupyter/offline_quick_ana_combi_data/t1_scut_wire_a/79.900_t1_scut.png has been created\n",
      "Info in <TCanvas::Print>: png file /workdir/jupyter/offline_quick_ana_combi_data/t1_scut_wire_b/79.900_t1_scut_b.png has been created\n",
      "Info in <TCanvas::Print>: png file /workdir/jupyter/offline_quick_ana_combi_data/fish_scut/79.900_fish_scinti_cut.png has been created\n",
      "Info in <TCanvas::Print>: png file /workdir/jupyter/offline_quick_ana_combi_data/fish_proj_scut/79.900_fish_proj_scinti_cut.png has been created\n",
      "Info in <TCanvas::Print>: png file /workdir/jupyter/offline_quick_ana_combi_data/t1_raw_wide/80.050_t1_wide.png has been created\n",
      "Info in <TCanvas::Print>: png file /workdir/jupyter/offline_quick_ana_combi_data/t1_raw/80.050_t1.png has been created\n",
      "Info in <TCanvas::Print>: png file /workdir/jupyter/offline_quick_ana_combi_data/fish_raw/80.050_fish.png has been created\n",
      "Info in <TCanvas::Print>: png file /workdir/jupyter/offline_quick_ana_combi_data/fish_raw_proj/80.050_fish_proj.png has been created\n",
      "Info in <TCanvas::Print>: png file /workdir/jupyter/offline_quick_ana_combi_data/t1_scut_wire_a/80.050_t1_scut.png has been created\n",
      "Info in <TCanvas::Print>: png file /workdir/jupyter/offline_quick_ana_combi_data/t1_scut_wire_b/80.050_t1_scut_b.png has been created\n",
      "Info in <TCanvas::Print>: png file /workdir/jupyter/offline_quick_ana_combi_data/fish_scut/80.050_fish_scinti_cut.png has been created\n",
      "Info in <TCanvas::Print>: png file /workdir/jupyter/offline_quick_ana_combi_data/fish_proj_scut/80.050_fish_proj_scinti_cut.png has been created\n"
     ]
    }
   ],
   "source": [
    "#def extract_info(file):\n",
    "\n",
    "c = ROOT.TCanvas(\"myCanvasName\",\"The Canvas Title\",640,480)\n",
    "\n",
    "const_list = []\n",
    "mean_list = []\n",
    "sigma_list = []\n",
    "entries_list = []\n",
    "\n",
    "fish_const_list = []\n",
    "fish_mean_list = []\n",
    "fish_sigma_list = []\n",
    "fish_entries_list = []\n",
    "\n",
    "const_list_scut = []\n",
    "mean_list_scut = []\n",
    "sigma_list_scut = []\n",
    "entries_list_scut = []\n",
    "\n",
    "const_list_scut_b = []\n",
    "mean_list_scut_b = []\n",
    "sigma_list_scut_b = []\n",
    "entries_list_scut_b = []\n",
    "\n",
    "fish_const_list_scut = []\n",
    "fish_mean_list_scut = []\n",
    "fish_sigma_list_scut = []\n",
    "fish_entries_list_scut = []\n",
    "\n",
    "VAR = X\n",
    "\n",
    "if varname == \"X\":\n",
    "  VAR = X\n",
    "if varname == \"THR\":\n",
    "  VAR = THR\n",
    "if varname == \"PHI\":\n",
    "  VAR = PHI\n",
    "if varname == \"MICRO\":\n",
    "  VAR = MICRO\n",
    "\n",
    "for i in range(0,len(VAR)):\n",
    "    \n",
    "  file=file_list[i]\n",
    "  var = VAR[i]\n",
    "\n",
    "##################################################\n",
    "##                    vw ana                    ##\n",
    "##################################################\n",
    "\n",
    "\n",
    "  f = ROOT.TFile(file)\n",
    "  tree = f.Get(\"joint_tree\")\n",
    "  #tree.Draw(\"tot:t1 >> potato(500,0,500e-9,500,0,500e-9)\",\n",
    "  #          \"wire == 10 && layer == 1 && chamber == 2\",\n",
    "  #          \"colz\")\n",
    "\n",
    "  ### triggers for normalization\n",
    "  tree.Draw(\"t1 >> t1(200,-200,800)\",\n",
    "            \"chan == 35103\",\n",
    "            \"colz\")\n",
    "  t1 = f.Get(\"t1\")\n",
    "  no_triggers = t1.GetEntries()\n",
    "\n",
    "  print (\"var: {:3.3f} {:s}, no_triggers: {:d}\".format(var,varname,int(no_triggers)))\n",
    "  \n",
    "\n",
    "  ### t1 of desired wire, wide\n",
    "  tree.Draw(\"t1 >> t1(1000,-200,800)\",\n",
    "            \"chamber == 2 && layer == 1 && wire == 10\",\n",
    "            \"colz\")\n",
    "  try:\n",
    "    os.mkdir(\"{:s}/t1_raw_wide\".format(data_dir))  \n",
    "  except:\n",
    "    pass\n",
    "  c.SaveAs(\"{:s}/t1_raw_wide/{:3.3f}_t1_wide.png\".format(data_dir,var))\n",
    "\n",
    "  ### t1 of desired wire\n",
    "  tree.Draw(\"t1 >> t1(200,-50,100)\",\n",
    "            \"chamber == 2 && layer == 1 && wire == 10\",\n",
    "            \"colz\")\n",
    "  t1 = f.Get(\"t1\")\n",
    "  #t1.SetTitle(\"t1 wire 10, layer 1\")\n",
    "  t1.GetXaxis().SetTitle(\"t1 (ns)\")\n",
    "  t1.GetYaxis().SetTitle(\"tot (s)\")\n",
    "  #t1.GetXaxis().SetRangeUser()\n",
    "  t1.Draw()\n",
    "  ROOT.gStyle.SetOptFit(1)\n",
    "  params = ROOT.fit_alt_skewed(t1)\n",
    "\n",
    "  try:\n",
    "    const_list   += [params.GetAt(0)/no_triggers]\n",
    "    mean_list    += [params.GetAt(4)]\n",
    "    sigma_list   += [params.GetAt(5)]\n",
    "    entries_list += [(t1.Integral(t1.FindBin(0),t1.FindBin(80)))/no_triggers]   \n",
    "  except:\n",
    "    const_list   += [0]\n",
    "    mean_list    += [0]\n",
    "    sigma_list   += [0]\n",
    "    entries_list += [0]\n",
    "  try:\n",
    "   os.mkdir(\"{:s}/t1_raw\".format(data_dir))  \n",
    "  except:\n",
    "    pass\n",
    "  c.SaveAs(\"{:s}/t1_raw/{:3.3f}_t1.png\".format(data_dir,var))\n",
    "  f.Close()\n",
    "    \n",
    "    \n",
    "    \n",
    "##################################################\n",
    "##                   fish ana                   ##\n",
    "##################################################\n",
    "    \n",
    "    \n",
    "    \n",
    "  f = ROOT.TFile(file.replace(\"joint_tree\",\"correlation\"))\n",
    "\n",
    "  fish = f.Get(\"meta_fish_cut\")\n",
    "  fish.Draw(\"colz\")\n",
    "  try:\n",
    "    os.mkdir(\"{:s}/fish_raw/\".format(data_dir))  \n",
    "  except:\n",
    "    pass\n",
    "  c.SaveAs(\"{:s}/fish_raw/{:3.3f}_fish.png\".format(data_dir,var))\n",
    "  fish_proj_full= fish.ProjectionX(\"fish_proj_full\", 1, 120) # \n",
    "\n",
    "  fish_proj= fish.ProjectionX(\"fish_proj\", 61, 65) # -10/+10\n",
    "  fish_proj.Draw()\n",
    "\n",
    "\n",
    "  t1 = fish_proj\n",
    "  #t1.SetTitle(\"t1 wire 10, layer 1\")\n",
    "  t1.GetXaxis().SetTitle(\"t1 (ns)\")\n",
    "  t1.GetYaxis().SetTitle(\"tot (s)\")\n",
    "  #t1.GetXaxis().SetRangeUser()\n",
    "  t1.Draw()\n",
    "  ROOT.gStyle.SetOptFit(1)\n",
    "  params = ROOT.fit_alt_skewed(t1)\n",
    "  \n",
    "  try:\n",
    "    os.mkdir(\"{:s}/fish_raw_proj/\".format(data_dir))  \n",
    "  except:\n",
    "    pass\n",
    "  c.SaveAs(\"{:s}/fish_raw_proj/{:3.3f}_fish_proj.png\".format(data_dir,var))\n",
    "\n",
    "\n",
    "  try:\n",
    "    fish_const_list   += [params.GetAt(0)/no_triggers]\n",
    "    fish_mean_list    += [params.GetAt(4)]\n",
    "    fish_sigma_list   += [params.GetAt(5)]\n",
    "    fish_entries_list += [(t1.Integral(t1.FindBin(0),t1.FindBin(80)))/no_triggers]   \n",
    "  except:\n",
    "    fish_const_list   += [0]\n",
    "    fish_mean_list    += [0]\n",
    "    fish_sigma_list   += [0]\n",
    "    fish_entries_list += [0]\n",
    "\n",
    "##################################################\n",
    "##                scinti_cut ana                ##\n",
    "##################################################\n",
    "  no_triggers = 1\n",
    "  try:\n",
    "    # number of triggers for normalization\n",
    "    no_triggers = 1\n",
    "    t1 = f.Get(\"scinti_t1_scinti_cut\")\n",
    "    no_triggers = t1.GetEntries()\n",
    "    print (\"var: {:3.3f} {:s}, scinti_cut no_triggers: {:d}\".format(var,varname,int(no_triggers)))\n",
    "\n",
    "    ### t1 of desired wire\n",
    "    t1 = f.Get(\"wire_a_t1_scinti_cut\")\n",
    "    #t1.SetTitle(\"t1 wire 10, layer 1\")\n",
    "    t1.GetXaxis().SetTitle(\"t1 (ns)\")\n",
    "    t1.GetYaxis().SetTitle(\"tot (s)\")\n",
    "    #t1.GetXaxis().SetRangeUser()\n",
    "    t1.Draw()\n",
    "    \n",
    "    params = ROOT.fit_alt_skewed(t1)\n",
    "    \n",
    "    const_list_scut   += [params.GetAt(0)/no_triggers]\n",
    "    mean_list_scut    += [params.GetAt(4)]\n",
    "    sigma_list_scut   += [params.GetAt(5)]\n",
    "    entries_list_scut += [(t1.Integral(t1.FindBin(0),t1.FindBin(80)))/no_triggers]   \n",
    "    try:\n",
    "      os.mkdir(\"{:s}/t1_scut_wire_a/\".format(data_dir))  \n",
    "    except:\n",
    "      pass\n",
    "    c.SaveAs(\"{:s}/t1_scut_wire_a/{:3.3f}_t1_scut.png\".format(data_dir,var))\n",
    "    \n",
    "    ### t1 of desired wire\n",
    "    t1 = f.Get(\"wire_b_t1_scinti_cut\")\n",
    "    #t1.SetTitle(\"t1 wire 10, layer 1\")\n",
    "    t1.GetXaxis().SetTitle(\"t1 (ns)\")\n",
    "    t1.GetYaxis().SetTitle(\"tot (s)\")\n",
    "    #t1.GetXaxis().SetRangeUser()\n",
    "    t1.Draw()\n",
    "    \n",
    "    params = ROOT.fit_alt_skewed(t1)\n",
    "    \n",
    "    const_list_scut_b   += [params.GetAt(0)/no_triggers]\n",
    "    mean_list_scut_b    += [params.GetAt(4)]\n",
    "    sigma_list_scut_b   += [params.GetAt(5)]\n",
    "    entries_list_scut_b += [(t1.Integral(t1.FindBin(0),t1.FindBin(80)))/no_triggers]   \n",
    "\n",
    "    try:\n",
    "      os.mkdir(\"{:s}/t1_scut_wire_b/\".format(data_dir))  \n",
    "    except:\n",
    "      pass\n",
    "    c.SaveAs(\"{:s}/t1_scut_wire_b/{:3.3f}_t1_scut_b.png\".format(data_dir,var))\n",
    "  except:\n",
    "    const_list_scut   += [0]\n",
    "    mean_list_scut    += [0]\n",
    "    sigma_list_scut   += [0]\n",
    "    entries_list_scut += [0]\n",
    "    const_list_scut_b   += [0]\n",
    "    mean_list_scut_b    += [0]\n",
    "    sigma_list_scut_b   += [0]\n",
    "    entries_list_scut_b += [0]\n",
    "    \n",
    "\n",
    "##################################################\n",
    "##                scinti_cut fish ana                ##\n",
    "##################################################\n",
    "\n",
    "\n",
    "  try:\n",
    "    fish = f.Get(\"meta_fish_scinti_cut\")\n",
    "    fish.Draw(\"colz\")\n",
    "    try:\n",
    "      os.mkdir(\"{:s}/fish_scut/\".format(data_dir))  \n",
    "    except:\n",
    "      pass\n",
    "    c.SaveAs(\"{:s}/fish_scut/{:3.3f}_fish_scinti_cut.png\".format(data_dir,var))\n",
    "  \n",
    "    fish_proj_full= fish.ProjectionX(\"fish_proj_full\", 1, 120) # \n",
    "    fish_proj= fish.ProjectionX(\"fish_proj\", 61, 65) # -10/+10\n",
    "    fish_proj.Draw()\n",
    "  \n",
    "  \n",
    "    t1 = fish_proj\n",
    "    #t1.SetTitle(\"t1 wire 10, layer 1\")\n",
    "    t1.GetXaxis().SetTitle(\"t1 (ns)\")\n",
    "    t1.GetYaxis().SetTitle(\"tot (s)\")\n",
    "    #t1.GetXaxis().SetRangeUser()\n",
    "    t1.Draw()\n",
    "    ROOT.gStyle.SetOptFit(1)\n",
    "  \n",
    "    params = ROOT.fit_alt_skewed(t1)\n",
    "    \n",
    "    fish_const_list_scut   += [params.GetAt(0)/no_triggers]\n",
    "    fish_mean_list_scut    += [params.GetAt(4)]\n",
    "    fish_sigma_list_scut   += [params.GetAt(5)]\n",
    "    fish_entries_list_scut += [(t1.Integral(t1.FindBin(0),t1.FindBin(80)))/no_triggers]   \n",
    "    try:\n",
    "      os.mkdir(\"{:s}/fish_proj_scut/\".format(data_dir))  \n",
    "    except:\n",
    "      pass\n",
    "    c.SaveAs(\"{:s}/fish_proj_scut/{:3.3f}_fish_proj_scinti_cut.png\".format(data_dir,var))\n",
    "  except:\n",
    "    fish_const_list_scut   += [0]\n",
    "    fish_mean_list_scut    += [0]\n",
    "    fish_sigma_list_scut   += [0]\n",
    "    fish_entries_list_scut += [0]\n",
    "\n",
    "  f.Close()\n",
    "\n",
    "\n"
   ]
  },
  {
   "cell_type": "code",
   "execution_count": 10,
   "metadata": {},
   "outputs": [
    {
     "data": {
      "text/plain": [
       "22"
      ]
     },
     "execution_count": 10,
     "metadata": {},
     "output_type": "execute_result"
    }
   ],
   "source": [
    "len(entries_list_scut)"
   ]
  },
  {
   "cell_type": "code",
   "execution_count": 11,
   "metadata": {},
   "outputs": [
    {
     "data": {
      "image/png": "[encoded data removed]",
      "text/plain": [
       "<matplotlib.figure.Figure at 0x7f2a4d532b70>"
      ]
     },
     "metadata": {
      "needs_background": "light"
     },
     "output_type": "display_data"
    },
    {
     "data": {
      "image/png": "[encoded data removed]",
      "text/plain": [
       "<matplotlib.figure.Figure at 0x7f2a4b4dc8d0>"
      ]
     },
     "metadata": {
      "needs_background": "light"
     },
     "output_type": "display_data"
    },
    {
     "data": {
      "image/png": "[encoded data removed]",
      "text/plain": [
       "<matplotlib.figure.Figure at 0x7f2a4b461470>"
      ]
     },
     "metadata": {
      "needs_background": "light"
     },
     "output_type": "display_data"
    },
    {
     "data": {
      "image/png": "[encoded data removed]",
      "text/plain": [
       "<matplotlib.figure.Figure at 0x7f2a4b4652b0>"
      ]
     },
     "metadata": {
      "needs_background": "light"
     },
     "output_type": "display_data"
    }
   ],
   "source": [
    "VAR = VAR[0:len(entries_list)]\n",
    "\n",
    "##################################################\n",
    "##                    vw ana                    ##\n",
    "##################################################\n",
    "\n",
    "\n",
    "plt.scatter(VAR,entries_list,label=\"hist entries\")\n",
    "#plt.plot(VAR,entries_list,label=\"hist entries\")\n",
    "#plt.ylim(0,np.max(entries_list)*1.2)\n",
    "plt.legend()\n",
    "plt.xlabel(varname)\n",
    "plt.title(\"quasi efficiency\")\n",
    "plt.show()\n",
    "\n",
    "plt.scatter(VAR,mean_list,label=\"fit mean (t1)\")\n",
    "#plt.plot(VAR,mean_list,label=\"fit mean (t1)\")\n",
    "#plt.ylim(0,np.max(mean_list)*1.2)\n",
    "plt.legend()\n",
    "plt.xlabel(varname)\n",
    "plt.ylim(0,75)\n",
    "plt.show()\n",
    "\n",
    "plt.scatter(VAR,const_list,label=\"fit const (t1)\")\n",
    "#plt.plot(VAR,const_list,label=\"fit const (t1)\")\n",
    "plt.ylim(0,np.max(const_list)*1.2)\n",
    "plt.legend()\n",
    "plt.xlabel(varname)\n",
    "#plt.ylim(0,0.3)\n",
    "plt.show()\n",
    "\n",
    "plt.scatter(VAR,sigma_list,label=\"fit sigma (t1)\")\n",
    "\n",
    "#plt.plot(VAR,sigma_list,label=\"fit sigma (t1)\")\n",
    "#plt.ylim(0,np.max(sigma_list)*1.2)\n",
    "plt.ylim(0,20)\n",
    "plt.legend()\n",
    "plt.xlabel(varname)\n",
    "plt.show()\n",
    "\n",
    "#area_list = np.array(const_list) * np.array(sigma_list)\n",
    "\n",
    "#plt.scatter(VAR,area_list,label=\"gaus area\")\n",
    "#plt.ylim(0,np.max(area_list))\n",
    "#plt.legend()\n",
    "#plt.ylim(0,5)\n",
    "#plt.show()"
   ]
  },
  {
   "cell_type": "code",
   "execution_count": 12,
   "metadata": {
    "scrolled": false
   },
   "outputs": [
    {
     "name": "stdout",
     "output_type": "stream",
     "text": [
      "saving to /workdir/jupyter/offline_quick_ana_combi_data/000.svg\n",
      "saving to /workdir/jupyter/offline_quick_ana_combi_data/000.pickle\n"
     ]
    },
    {
     "data": {
      "image/png": "[encoded data removed]",
      "text/plain": [
       "<matplotlib.figure.Figure at 0x7f2a4b3937f0>"
      ]
     },
     "metadata": {
      "needs_background": "light"
     },
     "output_type": "display_data"
    },
    {
     "name": "stdout",
     "output_type": "stream",
     "text": [
      "saving to /workdir/jupyter/offline_quick_ana_combi_data/001.svg\n",
      "saving to /workdir/jupyter/offline_quick_ana_combi_data/001.pickle\n"
     ]
    },
    {
     "data": {
      "image/png": "[encoded data removed]",
      "text/plain": [
       "<matplotlib.figure.Figure at 0x7f2a4b2b1160>"
      ]
     },
     "metadata": {
      "needs_background": "light"
     },
     "output_type": "display_data"
    },
    {
     "name": "stdout",
     "output_type": "stream",
     "text": [
      "saving to /workdir/jupyter/offline_quick_ana_combi_data/002.svg\n",
      "saving to /workdir/jupyter/offline_quick_ana_combi_data/002.pickle\n"
     ]
    },
    {
     "data": {
      "image/png": "[encoded data removed]",
      "text/plain": [
       "<matplotlib.figure.Figure at 0x7f2a4b311ef0>"
      ]
     },
     "metadata": {
      "needs_background": "light"
     },
     "output_type": "display_data"
    },
    {
     "name": "stdout",
     "output_type": "stream",
     "text": [
      "saving to /workdir/jupyter/offline_quick_ana_combi_data/003.svg\n",
      "saving to /workdir/jupyter/offline_quick_ana_combi_data/003.pickle\n"
     ]
    },
    {
     "data": {
      "image/png": "[encoded data removed]",
      "text/plain": [
       "<matplotlib.figure.Figure at 0x7f2a4b31e128>"
      ]
     },
     "metadata": {
      "needs_background": "light"
     },
     "output_type": "display_data"
    }
   ],
   "source": [
    "##################################################\n",
    "##                   fish ana                   ##\n",
    "##################################################\n",
    "\n",
    "\n",
    "plt.scatter(VAR,fish_entries_list,label=\"hist entries\")\n",
    "#plt.plot(VAR,fish_entries_list,label=\"hist entries\")\n",
    "plt.ylim(0,np.max(fish_entries_list)*1.2)\n",
    "plt.legend()\n",
    "plt.title(\"quasi efficiency\")\n",
    "plt.xlabel(varname)\n",
    "show(plt)\n",
    "\n",
    "plt.scatter(VAR,fish_mean_list,label=\"fit mean (t1)\")\n",
    "#plt.plot(VAR,fish_mean_list,label=\"fit mean (t1)\")\n",
    "plt.ylim(0,np.max(fish_mean_list)*1.2)\n",
    "plt.legend()\n",
    "#plt.ylim(0,75)\n",
    "plt.xlabel(varname)\n",
    "show(plt)\n",
    "\n",
    "plt.scatter(VAR,fish_const_list,label=\"fit const (t1)\")\n",
    "#plt.plot(VAR,fish_const_list,label=\"fit const (t1)\")\n",
    "plt.ylim(0,np.max(fish_const_list)*1.2)\n",
    "plt.legend()\n",
    "#plt.ylim(0,0.3)\n",
    "plt.xlabel(varname)\n",
    "show(plt)\n",
    "\n",
    "plt.scatter(VAR,fish_sigma_list,label=\"fit sigma fish (t1)\")\n",
    "plt.scatter(VAR,np.array(fish_sigma_list)/np.sqrt(2),label=\"fit sigma fish /sqrt2 (t1)\")\n",
    "plt.scatter(VAR,sigma_list,label=\"fit sigma direct\")\n",
    "#plt.plot(VAR,fish_sigma_list,label=\"fit sigma (t1)\")\n",
    "plt.ylim(0,np.max(fish_sigma_list)*1.2)\n",
    "plt.ylim(0,20)\n",
    "plt.legend()\n",
    "plt.xlabel(varname)\n",
    "show(plt)\n",
    "\n"
   ]
  },
  {
   "cell_type": "code",
   "execution_count": 13,
   "metadata": {},
   "outputs": [
    {
     "data": {
      "image/png": "[encoded data removed]",
      "text/plain": [
       "<matplotlib.figure.Figure at 0x7f2a4b42ca58>"
      ]
     },
     "metadata": {
      "needs_background": "light"
     },
     "output_type": "display_data"
    },
    {
     "data": {
      "image/png": "[encoded data removed]",
      "text/plain": [
       "<matplotlib.figure.Figure at 0x7f2a4b3ace10>"
      ]
     },
     "metadata": {
      "needs_background": "light"
     },
     "output_type": "display_data"
    },
    {
     "data": {
      "image/png": "[encoded data removed]",
      "text/plain": [
       "<matplotlib.figure.Figure at 0x7f2a4b42b470>"
      ]
     },
     "metadata": {
      "needs_background": "light"
     },
     "output_type": "display_data"
    },
    {
     "data": {
      "image/png": "[encoded data removed]",
      "text/plain": [
       "<matplotlib.figure.Figure at 0x7f2a4b1f8550>"
      ]
     },
     "metadata": {
      "needs_background": "light"
     },
     "output_type": "display_data"
    }
   ],
   "source": [
    "\n",
    "\n",
    "##################################################\n",
    "##                scinti_cut ana                ##\n",
    "##################################################\n",
    "\n",
    "\n",
    "\n",
    "plt.scatter(VAR,entries_list,label=\"wire a no cut\",alpha=0.2)\n",
    "plt.scatter(VAR,entries_list_scut,label=\"wire a\")\n",
    "plt.scatter(VAR,entries_list_scut_b,label=\"wire b (pAC)\")\n",
    "#plt.plot(VAR,entries_list_scut,label=\"hist entries\")\n",
    "#plt.ylim(0,np.max(entries_list_scut)*1.2)\n",
    "plt.legend()\n",
    "plt.xlabel(varname)\n",
    "plt.title(\"quasi efficiency from hist entries\")\n",
    "plt.show()\n",
    "\n",
    "plt.scatter(VAR,mean_list,label=\"wire a no cut\",alpha=0.2)\n",
    "plt.scatter(VAR,mean_list_scut,label=\"wire a\")\n",
    "plt.scatter(VAR,mean_list_scut_b,label=\"wire b (pAC)\")\n",
    "#plt.plot(VAR,mean_list_scut,label=\"fit mean (t1)\")\n",
    "#plt.ylim(0,np.max(mean_list_scut)*1.2)\n",
    "plt.legend()\n",
    "plt.xlabel(varname)\n",
    "plt.ylim(0,75)\n",
    "plt.title(\"t1 (gaus mean)\")\n",
    "plt.show()\n",
    "\n",
    "plt.scatter(VAR,const_list,label=\"wire a no cut\",alpha=0.2)\n",
    "plt.scatter(VAR,const_list_scut,label=\"wire a\")\n",
    "plt.scatter(VAR,const_list_scut_b,label=\"wire b (pAC)\")\n",
    "#plt.plot(VAR,const_list_scut,label=\"fit const (t1)\")\n",
    "plt.ylim(0,np.max(const_list_scut)*1.2)\n",
    "plt.legend()\n",
    "plt.xlabel(varname)\n",
    "plt.title(\"fit const t1\")\n",
    "#plt.ylim(0,0.3)\n",
    "plt.show()\n",
    "\n",
    "plt.scatter(VAR,sigma_list,label=\"wire a no cut\",alpha=0.2)\n",
    "plt.scatter(VAR,sigma_list_scut,label=\"wire a\")\n",
    "plt.scatter(VAR,sigma_list_scut_b,label=\"wire b (pAC) \")\n",
    "\n",
    "#plt.plot(VAR,sigma_list_scut,label=\"fit sigma (t1)\")\n",
    "plt.ylim(0,np.max(sigma_list_scut)*1.2)\n",
    "plt.ylim(0,20)\n",
    "plt.legend()\n",
    "plt.xlabel(varname)\n",
    "plt.title(\"fit sigma / t1 sttdev\")\n",
    "plt.show()\n",
    "\n",
    "#area_list_scut = np.array(const_list_scut) * np.array(sigma_list_scut)\n",
    "\n",
    "#plt.scatter(VAR,area_list_scut,label=\"gaus area\")\n",
    "#plt.ylim(0,np.max(area_list_scut))\n",
    "#plt.legend()\n",
    "#plt.ylim(0,5)\n",
    "#plt.show()"
   ]
  },
  {
   "cell_type": "code",
   "execution_count": 14,
   "metadata": {
    "scrolled": false
   },
   "outputs": [
    {
     "name": "stdout",
     "output_type": "stream",
     "text": [
      "saving to /workdir/jupyter/offline_quick_ana_combi_data/004.svg\n",
      "saving to /workdir/jupyter/offline_quick_ana_combi_data/004.pickle\n"
     ]
    },
    {
     "data": {
      "image/png": "[encoded data removed]",
      "text/plain": [
       "<matplotlib.figure.Figure at 0x7f2a4d561198>"
      ]
     },
     "metadata": {
      "needs_background": "light"
     },
     "output_type": "display_data"
    },
    {
     "name": "stdout",
     "output_type": "stream",
     "text": [
      "saving to /workdir/jupyter/offline_quick_ana_combi_data/005.svg\n",
      "saving to /workdir/jupyter/offline_quick_ana_combi_data/005.pickle\n"
     ]
    },
    {
     "data": {
      "image/png": "[encoded data removed]",
      "text/plain": [
       "<matplotlib.figure.Figure at 0x7f2a4b11ab00>"
      ]
     },
     "metadata": {
      "needs_background": "light"
     },
     "output_type": "display_data"
    },
    {
     "name": "stdout",
     "output_type": "stream",
     "text": [
      "saving to /workdir/jupyter/offline_quick_ana_combi_data/006.svg\n",
      "saving to /workdir/jupyter/offline_quick_ana_combi_data/006.pickle\n"
     ]
    },
    {
     "data": {
      "image/png": "[encoded data removed]",
      "text/plain": [
       "<matplotlib.figure.Figure at 0x7f2a4b0c7588>"
      ]
     },
     "metadata": {
      "needs_background": "light"
     },
     "output_type": "display_data"
    },
    {
     "name": "stdout",
     "output_type": "stream",
     "text": [
      "saving to /workdir/jupyter/offline_quick_ana_combi_data/007.svg\n",
      "saving to /workdir/jupyter/offline_quick_ana_combi_data/007.pickle\n"
     ]
    },
    {
     "data": {
      "image/png": "[encoded data removed]",
      "text/plain": [
       "<matplotlib.figure.Figure at 0x7f2a4b1aba20>"
      ]
     },
     "metadata": {
      "needs_background": "light"
     },
     "output_type": "display_data"
    }
   ],
   "source": [
    "##################################################\n",
    "##               scut fish ana                  ##\n",
    "##################################################\n",
    "\n",
    "\n",
    "plt.scatter(VAR,fish_entries_list,label=\"hist entries\",alpha=0.2)\n",
    "plt.scatter(VAR,fish_entries_list_scut,label=\"hist entries scut\")\n",
    "#plt.plot(VAR,fish_entries_list_scut,label=\"hist entries\")\n",
    "plt.ylim(0,np.max(fish_entries_list_scut)*1.2)\n",
    "plt.legend()\n",
    "plt.title(\"quasi efficiency\")\n",
    "plt.xlabel(varname)\n",
    "show(plt)\n",
    "\n",
    "plt.scatter(VAR,fish_mean_list,label=\"fit mean (t1)\",alpha=0.2)\n",
    "plt.scatter(VAR,fish_mean_list_scut,label=\"fit mean (t1) scut\")\n",
    "#plt.plot(VAR,fish_mean_list_scut,label=\"fit mean (t1)\")\n",
    "plt.ylim(0,np.max(fish_mean_list_scut)*1.2)\n",
    "plt.legend()\n",
    "#plt.ylim(0,75)\n",
    "plt.xlabel(varname)\n",
    "show(plt)\n",
    "\n",
    "plt.scatter(VAR,fish_const_list,label=\"fit const (t1)\",alpha=0.2)\n",
    "plt.scatter(VAR,fish_const_list_scut,label=\"fit const (t1) scut\")\n",
    "#plt.plot(VAR,fish_const_list_scut,label=\"fit const (t1)\")\n",
    "plt.ylim(0,np.max(fish_const_list_scut)*1.2)\n",
    "plt.legend()\n",
    "#plt.ylim(0,0.3)\n",
    "plt.xlabel(varname)\n",
    "show(plt)\n",
    "\n",
    "plt.scatter(VAR,fish_sigma_list,label=\"fit sigma fish (t1)\",alpha=0.2)\n",
    "plt.scatter(VAR,fish_sigma_list_scut,label=\"fit sigma fish (t1) scut\")\n",
    "plt.scatter(VAR,np.array(fish_sigma_list_scut)/np.sqrt(2),label=\"fit sigma fish /sqrt2 (t1) scut\")\n",
    "plt.scatter(VAR,sigma_list_scut,label=\"fit sigma direct scut\")\n",
    "#plt.plot(VAR,fish_sigma_list_scut,label=\"fit sigma (t1)\")\n",
    "plt.ylim(0,np.max(fish_sigma_list_scut)*1.2)\n",
    "plt.ylim(0,20)\n",
    "plt.legend()\n",
    "plt.xlabel(varname)\n",
    "show(plt)\n"
   ]
  },
  {
   "cell_type": "code",
   "execution_count": 15,
   "metadata": {},
   "outputs": [],
   "source": [
    "#archive(label=\"{:s}_{:s}_{:s}\".format(id,root_file_name,varname))"
   ]
  }
 ],
 "metadata": {
  "kernelspec": {
   "display_name": "Python 3",
   "language": "python",
   "name": "python3"
  },
  "language_info": {
   "codemirror_mode": {
    "name": "ipython",
    "version": 3
   },
   "file_extension": ".py",
   "mimetype": "text/x-python",
   "name": "python",
   "nbconvert_exporter": "python",
   "pygments_lexer": "ipython3",
   "version": "3.6.8"
  }
 },
 "nbformat": 4,
 "nbformat_minor": 2
}
