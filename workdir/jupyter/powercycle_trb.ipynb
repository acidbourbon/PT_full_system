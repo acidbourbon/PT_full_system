{
 "cells": [
  {
   "cell_type": "code",
   "execution_count": 1,
   "metadata": {},
   "outputs": [
    {
     "data": {
      "application/vnd.jupyter.widget-view+json": {
       "model_id": "151488344b2749b7809430a895c85806",
       "version_major": 2,
       "version_minor": 0
      },
      "text/plain": [
       "VBox(children=(Button(description='CH3 ON', style=ButtonStyle()), Button(description='CH3 OFF', style=ButtonSt…"
      ]
     },
     "metadata": {},
     "output_type": "display_data"
    }
   ],
   "source": [
    "import hameg_trb as htrb\n",
    "htrb.buttons( )\n"
   ]
  },
  {
   "cell_type": "code",
   "execution_count": 2,
   "metadata": {},
   "outputs": [
    {
     "data": {
      "application/vnd.jupyter.widget-view+json": {
       "model_id": "166c104e648946d090f838996726e024",
       "version_major": 2,
       "version_minor": 0
      },
      "text/plain": [
       "VBox(children=(Button(description='CH1 ON', style=ButtonStyle()), Button(description='CH1 OFF', style=ButtonSt…"
      ]
     },
     "metadata": {},
     "output_type": "display_data"
    }
   ],
   "source": [
    "import hameg_lv as lv\n",
    "lv.buttons( )\n"
   ]
  },
  {
   "cell_type": "code",
   "execution_count": 3,
   "metadata": {
    "scrolled": false
   },
   "outputs": [
    {
     "name": "stdout",
     "output_type": "stream",
     "text": [
      " TRB3 LV: \n",
      "device: /dev/ttyUSB_HAMEG_TRB\n",
      "volt 24.000000 curr 1.090000 state 1\n",
      "volt 24.000000 curr 1.090000 state 1\n",
      "volt 5.200000 curr 0.133800 state 1\n",
      "volt 1.000000 curr 0.000200 state 1\n",
      "None\n",
      "device: /dev/ttyUSB_HAMEG_TRB\n",
      "volt 0.000000 curr 0.000000 state 0\n",
      "volt 0.000000 curr 0.000000 state 0\n",
      "volt 0.000000 curr 0.000000 state 0\n",
      "volt 0.000000 curr 0.000000 state 0\n",
      "None\n",
      "device: /dev/ttyUSB_HAMEG_TRB\n",
      "volt 26.143000 curr 0.265900 state 1\n",
      "volt 22.316000 curr 0.276900 state 1\n",
      "volt 5.199000 curr 0.131100 state 1\n",
      "volt 0.999000 curr 0.000200 state 1\n",
      " MDC MBO LV: \n",
      "device: /dev/ttyUSB_HAMEG_LV\n",
      "volt 12.000000 curr 0.000100 state 1\n",
      "volt 5.800000 curr 2.433000 state 1\n",
      "volt 4.000000 curr 2.124000 state 1\n",
      "volt 1.800000 curr 2.283000 state 1\n",
      "Welcome to JupyROOT 6.14/04\n"
     ]
    }
   ],
   "source": [
    "\n",
    "# which electronic should be switched off & On? \n",
    "switchOff_trb3 = 1\n",
    "switchOff_MDCMBO = 0\n",
    "load_golden_design_MDCMBO = 0 #(not for 1802,1803 TDC = MBO 2, golden design not working at all)\n",
    "#switchOff_trb3\n",
    "\n",
    "import time\n",
    "\n",
    "\n",
    "# TRB & PANDA Pasttrec LV power suplly \n",
    "import hameg_trb as htrb\n",
    "\n",
    "print(\" TRB3 LV: \")\n",
    "htrb.report()\n",
    "if switchOff_trb3 == 1:\n",
    "    #switch off output of all 4 channels\n",
    "    print(htrb.all_off())\n",
    "    htrb.report()\n",
    "    time.sleep(3)\n",
    "    print(htrb.all_on())\n",
    "    htrb.report()\n",
    "    time.sleep(10)\n",
    "\n",
    "# LV power suplly used for new MBO\n",
    "import hameg_lv as hMBO \n",
    "\n",
    "print(\" MDC MBO LV: \")\n",
    "hMBO.report()\n",
    "if switchOff_MDCMBO == 1:\n",
    "    #switch off output of all 4 channels\n",
    "    print(hMBO.all_off())\n",
    "    hMBO.report()\n",
    "    # to load main design of MDC MBO at least 10s power off is needed\n",
    "    if load_golden_design_MDCMBO == 1:\n",
    "        time.sleep(15)\n",
    "    else:\n",
    "        time.sleep(1)\n",
    "    print(hMBO.all_on())\n",
    "    hMBO.report()\n",
    "    \n",
    "import tdc_daq as tdc\n",
    "tdc.reset_trb()\n",
    "time.sleep(5)\n",
    "import pasttrec_ctrl as ptc\n",
    "ptc.init_active_boards()"
   ]
  },
  {
   "cell_type": "code",
   "execution_count": 4,
   "metadata": {},
   "outputs": [
    {
     "name": "stdout",
     "output_type": "stream",
     "text": [
      " MDC MBO power: \n",
      "device: /dev/ttyUSB_HAMEG_LV\n",
      "volt 11.999000 curr 0.000100 state 1\n",
      "volt 5.800000 curr 2.437000 state 1\n",
      "volt 4.000000 curr 2.125000 state 1\n",
      "volt 1.798000 curr 2.283000 state 1\n"
     ]
    }
   ],
   "source": [
    "# LV power suplly used for new MBO\n",
    "import hameg_lv as hMBO \n",
    "print(\" MDC MBO power: \")\n",
    "hMBO.set_state(1,1) \n",
    "hMBO.set_state(2,1) \n",
    "hMBO.set_state(3,1) \n",
    "hMBO.set_state(4,1) \n",
    "hMBO.report()\n",
    "#tdc.reset_trb()"
   ]
  },
  {
   "cell_type": "code",
   "execution_count": 5,
   "metadata": {},
   "outputs": [
    {
     "name": "stdout",
     "output_type": "stream",
     "text": [
      " TRB3 power: \n",
      "device: /dev/ttyUSB_HAMEG_TRB\n",
      "volt 24.000000 curr 1.084000 state 1\n",
      "volt 24.003000 curr 1.084000 state 1\n",
      "volt 5.199000 curr 0.133900 state 1\n",
      "volt 0.999000 curr 0.000200 state 1\n"
     ]
    }
   ],
   "source": [
    "import hameg_trb as htrb\n",
    "htrb.set_state(3,1) \n",
    "print(\" TRB3 power: \")\n",
    "htrb.report()"
   ]
  },
  {
   "cell_type": "code",
   "execution_count": 6,
   "metadata": {},
   "outputs": [
    {
     "data": {
      "application/vnd.jupyter.widget-view+json": {
       "model_id": "f25e5855a51c451ab0ce671f59f89e9c",
       "version_major": 2,
       "version_minor": 0
      },
      "text/plain": [
       "VBox(children=(Button(description='CH3 ON', style=ButtonStyle()), Button(description='CH3 OFF', style=ButtonSt…"
      ]
     },
     "metadata": {},
     "output_type": "display_data"
    }
   ],
   "source": [
    "import ipywidgets as widgets\n",
    "from IPython.display import display, Markdown, clear_output\n",
    "button = widgets.Button(description='CH3 ON')\n",
    "button2 = widgets.Button(description='CH3 OFF')\n",
    "import hameg_trb as htrb\n",
    "\n",
    "def on_button_clicked(_):\n",
    "      # \"linking function with output\"\n",
    "      with out:\n",
    "          # what happens when we press the button\n",
    "          clear_output()\n",
    "          ch = 3\n",
    "          htrb.set_state(ch,1) \n",
    "          print('channel {:d} ON'.format(ch))\n",
    "          htrb.report()\n",
    "def off_button_clicked(_):\n",
    "      # \"linking function with output\"\n",
    "      with out:\n",
    "          # what happens when we press the button\n",
    "          clear_output()\n",
    "          ch = 3\n",
    "          htrb.set_state(ch,0) \n",
    "          print('channel {:d} OFF'.format(ch))\n",
    "          htrb.report()\n",
    "# linking button and function together using a button's method\n",
    "button.on_click(on_button_clicked)\n",
    "button2.on_click(off_button_clicked)\n",
    "\n",
    "\n",
    "\n",
    "out = widgets.Output()\n",
    "\n",
    "# displaying button and its output together\n",
    "widgets.VBox([button,button2,out])"
   ]
  }
 ],
 "metadata": {
  "kernelspec": {
   "display_name": "Python 3",
   "language": "python",
   "name": "python3"
  },
  "language_info": {
   "codemirror_mode": {
    "name": "ipython",
    "version": 3
   },
   "file_extension": ".py",
   "mimetype": "text/x-python",
   "name": "python",
   "nbconvert_exporter": "python",
   "pygments_lexer": "ipython3",
   "version": "3.6.9"
  }
 },
 "nbformat": 4,
 "nbformat_minor": 4
}
