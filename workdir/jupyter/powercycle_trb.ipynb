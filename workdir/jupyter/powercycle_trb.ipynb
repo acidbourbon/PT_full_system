{
 "cells": [
  {
   "cell_type": "code",
   "execution_count": 7,
   "metadata": {},
   "outputs": [
    {
     "data": {
      "application/vnd.jupyter.widget-view+json": {
       "model_id": "7be6254b22034242a2c0f6305fe04383",
       "version_major": 2,
       "version_minor": 0
      },
      "text/plain": [
       "VBox(children=(Button(description='CH3 ON', style=ButtonStyle()), Button(description='CH3 OFF', style=ButtonSt…"
      ]
     },
     "metadata": {},
     "output_type": "display_data"
    }
   ],
   "source": [
    "import hameg_trb as htrb\n",
    "htrb.buttons( )\n"
   ]
  },
  {
   "cell_type": "code",
   "execution_count": 6,
   "metadata": {},
   "outputs": [
    {
     "data": {
      "application/vnd.jupyter.widget-view+json": {
       "model_id": "d5326111abe947178d2fa744ddfef0b7",
       "version_major": 2,
       "version_minor": 0
      },
      "text/plain": [
       "VBox(children=(Button(description='CH1 ON', style=ButtonStyle()), Button(description='CH1 OFF', style=ButtonSt…"
      ]
     },
     "metadata": {},
     "output_type": "display_data"
    }
   ],
   "source": [
    "import hameg_lv as lv\n",
    "lv.buttons( )\n"
   ]
  },
  {
   "cell_type": "code",
   "execution_count": 8,
   "metadata": {
    "scrolled": false
   },
   "outputs": [
    {
     "name": "stdout",
     "output_type": "stream",
     "text": [
      " TRB3 LV: \n",
      "device: /dev/ttyUSB_HAMEG_TRB\n",
      "volt 24.000000 curr 1.087000 state 1\n",
      "volt 24.000000 curr 1.079000 state 1\n",
      "volt 0.000000 curr 0.000000 state 0\n",
      "volt 6.000000 curr 0.098500 state 1\n",
      "None\n",
      "device: /dev/ttyUSB_HAMEG_TRB\n",
      "volt 0.000000 curr 0.000000 state 0\n",
      "volt 0.000000 curr 0.000000 state 0\n",
      "volt 0.000000 curr 0.000000 state 0\n",
      "volt 0.000000 curr 0.000000 state 0\n",
      "None\n",
      "device: /dev/ttyUSB_HAMEG_TRB\n",
      "volt 25.798000 curr 0.277300 state 1\n",
      "volt 21.958000 curr 0.276200 state 1\n",
      "volt 0.000000 curr 0.000000 state 0\n",
      "volt 6.000000 curr 0.095600 state 1\n",
      " MDC MBO LV: \n",
      "device: /dev/ttyUSB_HAMEG_LV\n",
      "volt 0.000000 curr 0.000000 state 0\n",
      "volt 5.000000 curr 0.037100 state 1\n",
      "volt 4.000000 curr 2.119000 state 1\n",
      "volt 1.800000 curr 2.268000 state 1\n",
      "None\n",
      "device: /dev/ttyUSB_HAMEG_LV\n",
      "volt 0.000000 curr 0.000000 state 0\n",
      "volt 0.000000 curr 0.000000 state 0\n",
      "volt 0.000000 curr 0.000000 state 0\n",
      "volt 0.000000 curr 0.000000 state 0\n",
      "None\n",
      "device: /dev/ttyUSB_HAMEG_LV\n",
      "volt 0.000000 curr 0.000000 state 0\n",
      "volt 4.671000 curr 0.037000 state 1\n",
      "volt 4.000000 curr 2.096000 state 1\n",
      "volt 1.798000 curr 2.218000 state 1\n",
      "trbcmd reset\n",
      "addresses.sh\n",
      "FPGAs after addressing\n",
      "0xc035  0x920000039053d928  0x05\n",
      "0x0350  0x7100000390255228  0x00\n",
      "0x0351  0x8c0000039025fa28  0x01\n",
      "0x0352  0xb00000039053e328  0x02\n",
      "0x0353  0x790000039053dc28  0x03\n",
      "0x8150  0x290000070f305c28  0x05\n",
      "0x1500  0x2b0000070f304f28  0x00\n",
      "0x1501  0x180000070f306828  0x01\n",
      "0x1502  0xc20000070f305928  0x02\n",
      "0x1503  0x720000070f304c28  0x03\n",
      "0xf60e  0x0000e4b3001f2941  0x01\n",
      "0xf6dc  0x0000f34c001f2941  0x01\n",
      "0xf6dc  0x00009c7d00202941  0x01\n",
      "0xf60e  0x0000fe5c001f2941  0x01\n",
      "0xf6dc  0x00009b7400202941  0x01\n",
      "0xf6dc  0x0000f5a1001f2941  0x01\n",
      "/daqtools/tools/loadregisterdb.pl register_configgbe.db\n",
      "/daqtools/tools/loadregisterdb.pl register_configgbe_ip.db\n",
      "./conf_tdcs.sh\n",
      "./conf_cts.sh\n"
     ]
    },
    {
     "name": "stderr",
     "output_type": "stream",
     "text": [
      ">WARNING: Status-Bit(s) have been set:\n",
      ">WARNING: CommonStatusBits: 0x0001, Channel#3 StatusBits: 0x0001\n",
      ">WARNING:    Ch3_Address: unknown address\n",
      ">WARNING: Status-Bit(s) have been set:\n",
      ">WARNING: CommonStatusBits: 0x0001, Channel#3 StatusBits: 0x0001\n",
      ">WARNING:    Ch3_Address: unknown address\n",
      ">WARNING: Status-Bit(s) have been set:\n",
      ">WARNING: CommonStatusBits: 0x0001, Channel#3 StatusBits: 0x0001\n",
      ">WARNING:    Ch3_Address: unknown address\n",
      ">WARNING: Status-Bit(s) have been set:\n",
      ">WARNING: CommonStatusBits: 0x0001, Channel#3 StatusBits: 0x0001\n",
      ">WARNING:    Ch3_Address: unknown address\n",
      "sh: 1: sleep3: not found\n"
     ]
    }
   ],
   "source": [
    "\n",
    "# which electronic should be switched off & On? \n",
    "switchOff_trb3 = 1\n",
    "switchOff_MDCMBO = 1\n",
    "load_golden_design_MDCMBO = 0 #(not for 1802,1803 TDC = MBO 2, golden design not working at all)\n",
    "#switchOff_trb3\n",
    "\n",
    "import time\n",
    "\n",
    "\n",
    "# TRB & PANDA Pasttrec LV power suplly \n",
    "import hameg_trb as htrb\n",
    "\n",
    "print(\" TRB3 LV: \")\n",
    "htrb.report()\n",
    "if switchOff_trb3 == 1:\n",
    "    #switch off output of all 4 channels\n",
    "    print(htrb.all_off())\n",
    "    htrb.report()\n",
    "    time.sleep(3)\n",
    "    print(htrb.all_on())\n",
    "    htrb.report()\n",
    "    time.sleep(10)\n",
    "\n",
    "# LV power suplly used for new MBO\n",
    "import hameg_lv as hMBO \n",
    "\n",
    "print(\" MDC MBO LV: \")\n",
    "hMBO.report()\n",
    "if switchOff_MDCMBO == 1:\n",
    "    #switch off output of all 4 channels\n",
    "    print(hMBO.all_off())\n",
    "    hMBO.report()\n",
    "    # to load main design of MDC MBO at least 10s power off is needed\n",
    "    if load_golden_design_MDCMBO == 1:\n",
    "        time.sleep(15)\n",
    "    else:\n",
    "        time.sleep(1)\n",
    "    print(hMBO.all_on())\n",
    "    hMBO.report()\n",
    "    \n",
    "import tdc_daq as tdc\n",
    "tdc.reset_trb()\n",
    "time.sleep(5)\n",
    "import pasttrec_ctrl as ptc\n",
    "ptc.init_active_boards()"
   ]
  },
  {
   "cell_type": "code",
   "execution_count": 3,
   "metadata": {},
   "outputs": [
    {
     "name": "stdout",
     "output_type": "stream",
     "text": [
      " MDC MBO power: \n",
      "device: /dev/ttyUSB_HAMEG_LV\n",
      "volt 0.000000 curr 0.000000 state 0\n",
      "volt 5.001000 curr 0.037100 state 1\n",
      "volt 4.000000 curr 2.120000 state 1\n",
      "volt 1.799000 curr 2.268000 state 1\n"
     ]
    }
   ],
   "source": [
    "# LV power suplly used for new MBO\n",
    "import hameg_lv as hMBO \n",
    "print(\" MDC MBO power: \")\n",
    "hMBO.set_state(1,0) \n",
    "hMBO.set_state(2,1) \n",
    "hMBO.set_state(3,1) \n",
    "hMBO.set_state(4,1) \n",
    "hMBO.report()\n",
    "#tdc.reset_trb()"
   ]
  },
  {
   "cell_type": "code",
   "execution_count": 4,
   "metadata": {},
   "outputs": [
    {
     "name": "stdout",
     "output_type": "stream",
     "text": [
      " TRB3 power: \n",
      "device: /dev/ttyUSB_HAMEG_TRB\n",
      "volt 24.000000 curr 1.086000 state 1\n",
      "volt 24.000000 curr 1.078000 state 1\n",
      "volt 0.000000 curr 0.000000 state 0\n",
      "volt 6.000000 curr 0.098500 state 1\n"
     ]
    }
   ],
   "source": [
    "import hameg_trb as htrb\n",
    "htrb.set_state(3,0) \n",
    "print(\" TRB3 power: \")\n",
    "htrb.report()"
   ]
  },
  {
   "cell_type": "code",
   "execution_count": 5,
   "metadata": {},
   "outputs": [
    {
     "data": {
      "application/vnd.jupyter.widget-view+json": {
       "model_id": "c82aa1dc2ecd4932a80c5b8ea7a86c84",
       "version_major": 2,
       "version_minor": 0
      },
      "text/plain": [
       "VBox(children=(Button(description='CH3 ON', style=ButtonStyle()), Button(description='CH3 OFF', style=ButtonSt…"
      ]
     },
     "metadata": {},
     "output_type": "display_data"
    }
   ],
   "source": [
    "import ipywidgets as widgets\n",
    "from IPython.display import display, Markdown, clear_output\n",
    "button = widgets.Button(description='CH3 ON')\n",
    "button2 = widgets.Button(description='CH3 OFF')\n",
    "import hameg_trb as htrb\n",
    "\n",
    "def on_button_clicked(_):\n",
    "      # \"linking function with output\"\n",
    "      with out:\n",
    "          # what happens when we press the button\n",
    "          clear_output()\n",
    "          ch = 3\n",
    "          htrb.set_state(ch,1) \n",
    "          print('channel {:d} ON'.format(ch))\n",
    "          htrb.report()\n",
    "def off_button_clicked(_):\n",
    "      # \"linking function with output\"\n",
    "      with out:\n",
    "          # what happens when we press the button\n",
    "          clear_output()\n",
    "          ch = 3\n",
    "          htrb.set_state(ch,0) \n",
    "          print('channel {:d} OFF'.format(ch))\n",
    "          htrb.report()\n",
    "# linking button and function together using a button's method\n",
    "button.on_click(on_button_clicked)\n",
    "button2.on_click(off_button_clicked)\n",
    "\n",
    "\n",
    "\n",
    "out = widgets.Output()\n",
    "\n",
    "# displaying button and its output together\n",
    "widgets.VBox([button,button2,out])"
   ]
  }
 ],
 "metadata": {
  "kernelspec": {
   "display_name": "Python 3",
   "language": "python",
   "name": "python3"
  },
  "language_info": {
   "codemirror_mode": {
    "name": "ipython",
    "version": 3
   },
   "file_extension": ".py",
   "mimetype": "text/x-python",
   "name": "python",
   "nbconvert_exporter": "python",
   "pygments_lexer": "ipython3",
   "version": "3.6.9"
  }
 },
 "nbformat": 4,
 "nbformat_minor": 4
}
