{
 "cells": [
  {
   "cell_type": "code",
   "execution_count": 6,
   "metadata": {},
   "outputs": [
    {
     "name": "stdout",
     "output_type": "stream",
     "text": [
      "device: socket://192.168.0.139:5025\n",
      "volt 5.000000 curr 0.093300 state 1\n",
      "volt 0.000000 curr 0.000000 state 0\n",
      "volt 0.000000 curr 0.000000 state 0\n",
      "volt 0.000000 curr 0.000000 state 0\n",
      "None\n",
      "device: socket://192.168.0.139:5025\n",
      "volt 0.000000 curr 0.000000 state 0\n",
      "volt 0.000000 curr 0.000000 state 0\n",
      "volt 0.000000 curr 0.000000 state 0\n",
      "volt 0.000000 curr 0.000000 state 0\n",
      "None\n",
      "device: socket://192.168.0.139:5025\n",
      "volt 0.000000 curr 0.000000 state 0\n",
      "volt 0.000000 curr 0.000000 state 0\n",
      "volt 0.000000 curr 0.000000 state 0\n",
      "volt 0.000000 curr 0.000000 state 0\n"
     ]
    }
   ],
   "source": [
    "\n",
    "\n",
    "import hameg_PT_Frankfurt as htrb\n",
    "#import hameg_trb as htrb\n",
    "htrb.identify()\n",
    "htrb.report()\n",
    "\n",
    "#switch off output of all 4 channels\n",
    "print(htrb.all_off())\n",
    "htrb.set_state(1,0)\n",
    "htrb.report()\n",
    "\n",
    "print(htrb.all_on())\n",
    "\n",
    "htrb.report()"
   ]
  }
 ],
 "metadata": {
  "kernelspec": {
   "display_name": "Python 3",
   "language": "python",
   "name": "python3"
  },
  "language_info": {
   "codemirror_mode": {
    "name": "ipython",
    "version": 3
   },
   "file_extension": ".py",
   "mimetype": "text/x-python",
   "name": "python",
   "nbconvert_exporter": "python",
   "pygments_lexer": "ipython3",
   "version": "3.6.9"
  }
 },
 "nbformat": 4,
 "nbformat_minor": 4
}
