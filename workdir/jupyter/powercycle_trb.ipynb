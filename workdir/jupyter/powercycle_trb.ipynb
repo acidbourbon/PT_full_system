{
 "cells": [
  {
   "cell_type": "code",
   "execution_count": 1,
   "metadata": {},
   "outputs": [
    {
     "name": "stdout",
     "output_type": "stream",
     "text": [
      "device: /dev/ttyUSB_HAMEG_TRB\n",
      "volt 24.000000 curr 1.160000 state 1\n",
      "volt 24.000000 curr 1.161000 state 1\n",
      "volt 5.500000 curr 0.273800 state 1\n",
      "volt 12.000000 curr 1.841000 state 1\n"
     ]
    },
    {
     "data": {
      "application/vnd.jupyter.widget-view+json": {
       "model_id": "0958f3c022c840eeab6a91cfbb1fb142",
       "version_major": 2,
       "version_minor": 0
      },
      "text/plain": [
       "VBox(children=(Button(description='CH1 ON', style=ButtonStyle()), Button(description='CH1 OFF', style=ButtonSt…"
      ]
     },
     "metadata": {},
     "output_type": "display_data"
    }
   ],
   "source": [
    "import hameg_trb as htrb\n",
    "htrb.report()\n",
    "htrb.OnOffButton(1)\n",
    "\n",
    "\n"
   ]
  },
  {
   "cell_type": "code",
   "execution_count": 2,
   "metadata": {},
   "outputs": [
    {
     "name": "stdout",
     "output_type": "stream",
     "text": [
      "device: /dev/ttyUSB_HAMEG_LV\n",
      "volt 15.000000 curr 1.495000 state 1\n",
      "volt 12.000000 curr 2.538000 state 1\n",
      "volt 0.000000 curr 0.000000 state 0\n",
      "volt 0.000000 curr 0.000000 state 0\n"
     ]
    },
    {
     "data": {
      "application/vnd.jupyter.widget-view+json": {
       "model_id": "3ccca74285cc43f1a32dfe239bbce7d6",
       "version_major": 2,
       "version_minor": 0
      },
      "text/plain": [
       "VBox(children=(Button(description='CH3 ON', style=ButtonStyle()), Button(description='CH3 OFF', style=ButtonSt…"
      ]
     },
     "metadata": {},
     "output_type": "display_data"
    }
   ],
   "source": [
    "import hameg_lv as lv\n",
    "lv.report()\n",
    "lv.OnOffButton(3)\n"
   ]
  },
  {
   "cell_type": "code",
   "execution_count": 3,
   "metadata": {},
   "outputs": [
    {
     "data": {
      "application/vnd.jupyter.widget-view+json": {
       "model_id": "4689958a003a464db3b80f8463bea5a2",
       "version_major": 2,
       "version_minor": 0
      },
      "text/plain": [
       "VBox(children=(Button(description='CH1 ON', style=ButtonStyle()), Button(description='CH1 OFF', style=ButtonSt…"
      ]
     },
     "metadata": {},
     "output_type": "display_data"
    }
   ],
   "source": [
    "lv.OnOffButton(1)"
   ]
  },
  {
   "cell_type": "code",
   "execution_count": 4,
   "metadata": {},
   "outputs": [
    {
     "data": {
      "application/vnd.jupyter.widget-view+json": {
       "model_id": "704dd53effe54628a403b36a3934bea3",
       "version_major": 2,
       "version_minor": 0
      },
      "text/plain": [
       "VBox(children=(Button(description='CH2 ON', style=ButtonStyle()), Button(description='CH2 OFF', style=ButtonSt…"
      ]
     },
     "metadata": {},
     "output_type": "display_data"
    }
   ],
   "source": [
    "lv.OnOffButton(2)"
   ]
  },
  {
   "cell_type": "code",
   "execution_count": 21,
   "metadata": {
    "scrolled": false
   },
   "outputs": [
    {
     "name": "stdout",
     "output_type": "stream",
     "text": [
      " TRB3 LV: \n",
      "device: /dev/ttyUSB_HAMEG_TRB\n",
      "volt 24.000000 curr 1.166000 state 1\n",
      "volt 24.000000 curr 1.166000 state 1\n",
      "volt 5.500000 curr 0.277900 state 1\n",
      "volt 12.000000 curr 1.840000 state 1\n",
      " MDC MBO LV: \n",
      "device: /dev/ttyUSB_HAMEG_LV\n",
      "volt 15.000000 curr 1.506000 state 1\n",
      "volt 12.000000 curr 2.535000 state 1\n",
      "volt 4.000000 curr 0.988200 state 1\n",
      "volt 1.800000 curr 1.201000 state 1\n",
      "device: /dev/ttyUSB_HAMEG_LV\n",
      "volt 0.000000 curr 0.000000 state 0\n",
      "volt 0.000000 curr 0.000000 state 0\n",
      "volt 4.000000 curr 0.988200 state 1\n",
      "volt 1.800000 curr 1.201000 state 1\n",
      "device: /dev/ttyUSB_HAMEG_LV\n",
      "volt 14.999000 curr 1.054000 state 1\n",
      "volt 12.001000 curr 2.514000 state 1\n",
      "volt 4.000000 curr 0.988400 state 1\n",
      "volt 1.800000 curr 1.202000 state 1\n",
      "device: /dev/ttyUSB_HAMEG_TRB\n",
      "volt 24.002000 curr 1.165000 state 1\n",
      "volt 24.000000 curr 1.165000 state 1\n",
      "volt 5.501000 curr 0.278000 state 1\n",
      "volt 12.002000 curr 1.833000 state 1\n"
     ]
    }
   ],
   "source": [
    "\n",
    "# which electronic should be switched off & On? \n",
    "switchOff_trb3 = 0\n",
    "switchOff_MDCMBO = 1\n",
    "load_golden_design_MDCMBO = 0 #(not for 1802,1803 TDC = MBO 2, golden design not working at all)\n",
    "#switchOff_trb3\n",
    "\n",
    "import time\n",
    "\n",
    "\n",
    "# TRB & PANDA Pasttrec LV power suplly \n",
    "import hameg_trb as htrb\n",
    "\n",
    "print(\" TRB3 LV: \")\n",
    "htrb.report()\n",
    "if switchOff_trb3 == 1:\n",
    "    #switch off output of all 4 channels\n",
    "    print(htrb.all_off())\n",
    "    htrb.report()\n",
    "    time.sleep(3)\n",
    "    print(htrb.all_on())\n",
    "    htrb.report()\n",
    "    time.sleep(10)\n",
    "\n",
    "# LV power suplly used for new MBO\n",
    "import hameg_lv as hMBO \n",
    "\n",
    "print(\" MDC MBO LV: \")\n",
    "hMBO.report()\n",
    "if switchOff_MDCMBO == 1:\n",
    "    #switch off output of all 4 channels\n",
    "    #print(hMBO.all_off())\n",
    "    hMBO.set_state(1,0) \n",
    "    hMBO.set_state(2,0)\n",
    "    htrb.set_state(4,0)\n",
    "    hMBO.report()\n",
    "    # to load main design of MDC MBO at least 10s power off is needed\n",
    "    if load_golden_design_MDCMBO == 1:\n",
    "        time.sleep(15)\n",
    "    else:\n",
    "        time.sleep(1)\n",
    "    #print(hMBO.all_on())\n",
    "    hMBO.set_state(1,1) \n",
    "    hMBO.set_state(2,1)\n",
    "    htrb.set_state(4,1)\n",
    "    hMBO.report()\n",
    "    htrb.report()\n",
    "import tdc_daq as tdc\n",
    "#tdc.reset_trb()\n",
    "time.sleep(5)\n",
    "import pasttrec_ctrl as ptc\n",
    "#ptc.init_active_boards()"
   ]
  },
  {
   "cell_type": "code",
   "execution_count": 6,
   "metadata": {},
   "outputs": [
    {
     "name": "stdout",
     "output_type": "stream",
     "text": [
      " MDC MBO power: \n",
      "device: /dev/ttyUSB_HAMEG_LV\n",
      "volt 14.999000 curr 1.499000 state 1\n",
      "volt 12.001000 curr 2.538000 state 1\n",
      "volt 4.001000 curr 0.742800 state 1\n",
      "volt 1.799000 curr 1.088000 state 1\n"
     ]
    }
   ],
   "source": [
    "# LV power suplly used for new MBO\n",
    "import hameg_lv as hMBO \n",
    "print(\" MDC MBO power: \")\n",
    "hMBO.set_state(1,1) \n",
    "hMBO.set_state(2,1) \n",
    "hMBO.set_state(3,1) \n",
    "hMBO.set_state(4,1) \n",
    "hMBO.report()\n",
    "#tdc.reset_trb()"
   ]
  },
  {
   "cell_type": "code",
   "execution_count": 7,
   "metadata": {},
   "outputs": [
    {
     "name": "stdout",
     "output_type": "stream",
     "text": [
      " TRB3 power: \n",
      "device: /dev/ttyUSB_HAMEG_TRB\n",
      "volt 24.000000 curr 1.159000 state 1\n",
      "volt 24.000000 curr 1.159000 state 1\n",
      "volt 5.500000 curr 0.278000 state 1\n",
      "volt 12.000000 curr 1.838000 state 1\n",
      "device: /dev/ttyUSB_HAMEG_TRB\n",
      "volt 24.000000 curr 1.160000 state 1\n",
      "volt 24.000000 curr 1.160000 state 1\n",
      "volt 5.500000 curr 0.278000 state 1\n",
      "volt 12.000000 curr 1.841000 state 1\n"
     ]
    }
   ],
   "source": [
    "import hameg_trb as htrb\n",
    "#htrb.set_state(4,0) \n",
    "print(\" TRB3 power: \")\n",
    "htrb.report()\n",
    "#htrb.set_state(4,1) \n",
    "htrb.report()"
   ]
  },
  {
   "cell_type": "markdown",
   "metadata": {},
   "source": [
    "# import ipywidgets as widgets\n",
    "from IPython.display import display, Markdown, clear_output\n",
    "button = widgets.Button(description='CH3 ON')\n",
    "button2 = widgets.Button(description='CH3 OFF')\n",
    "import hameg_trb as htrb\n",
    "\n",
    "def on_button_clicked(_):\n",
    "      # \"linking function with output\"\n",
    "      with out:\n",
    "          # what happens when we press the button\n",
    "          clear_output()\n",
    "          ch = 3\n",
    "          htrb.set_state(ch,1) \n",
    "          print('channel {:d} ON'.format(ch))\n",
    "          htrb.report()\n",
    "def off_button_clicked(_):\n",
    "      # \"linking function with output\"\n",
    "      with out:\n",
    "          # what happens when we press the button\n",
    "          clear_output()\n",
    "          ch = 3\n",
    "          htrb.set_state(ch,0) \n",
    "          print('channel {:d} OFF'.format(ch))\n",
    "          htrb.report()\n",
    "# linking button and function together using a button's method\n",
    "button.on_click(on_button_clicked)\n",
    "button2.on_click(off_button_clicked)\n",
    "\n",
    "\n",
    "\n",
    "out = widgets.Output()\n",
    "\n",
    "# displaying button and its output together\n",
    "widgets.VBox([button,button2,out])"
   ]
  }
 ],
 "metadata": {
  "kernelspec": {
   "display_name": "Python 3",
   "language": "python",
   "name": "python3"
  },
  "language_info": {
   "codemirror_mode": {
    "name": "ipython",
    "version": 3
   },
   "file_extension": ".py",
   "mimetype": "text/x-python",
   "name": "python",
   "nbconvert_exporter": "python",
   "pygments_lexer": "ipython3",
   "version": "3.6.9"
  }
 },
 "nbformat": 4,
 "nbformat_minor": 4
}
