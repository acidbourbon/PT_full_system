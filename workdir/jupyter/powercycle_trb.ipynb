{
 "cells": [
  {
   "cell_type": "code",
   "execution_count": 4,
   "metadata": {},
   "outputs": [
    {
     "name": "stdout",
     "output_type": "stream",
     "text": [
      "device: /dev/ttyUSB_HAMEG_TRB\n",
      "volt 24.000000 curr 1.075000 state 1\n",
      "volt 24.000000 curr 1.075000 state 1\n",
      "volt 5.700000 curr 3.908000 state 1\n",
      "volt 3.040000 curr 0.000200 state 1\n",
      "None\n",
      "device: /dev/ttyUSB_HAMEG_TRB\n",
      "volt 0.000000 curr 0.000000 state 0\n",
      "volt 0.000000 curr 0.000000 state 0\n",
      "volt 0.000000 curr 0.000000 state 0\n",
      "volt 0.000000 curr 0.000000 state 0\n",
      "None\n",
      "device: /dev/ttyUSB_HAMEG_TRB\n",
      "volt 22.344000 curr 0.771500 state 1\n",
      "volt 21.972000 curr 0.446100 state 1\n",
      "volt 5.699000 curr 2.589000 state 1\n",
      "volt 3.040000 curr 0.000200 state 1\n"
     ]
    }
   ],
   "source": [
    "# LV power suplly used for new MBO\n",
    "#import hameg_lv as htrb\n",
    "\n",
    "# TRB & PANDA Pasttrec LV power suplly \n",
    "import hameg_trb as htrb\n",
    "\n",
    "\n",
    "htrb.report()\n",
    "\n",
    "#switch off output of all 4 channels\n",
    "print(htrb.all_off())\n",
    "\n",
    "htrb.report()\n",
    "\n",
    "print(htrb.all_on())\n",
    "\n",
    "htrb.report()"
   ]
  },
  {
   "cell_type": "code",
   "execution_count": null,
   "metadata": {},
   "outputs": [],
   "source": []
  }
 ],
 "metadata": {
  "kernelspec": {
   "display_name": "Python 3",
   "language": "python",
   "name": "python3"
  },
  "language_info": {
   "codemirror_mode": {
    "name": "ipython",
    "version": 3
   },
   "file_extension": ".py",
   "mimetype": "text/x-python",
   "name": "python",
   "nbconvert_exporter": "python",
   "pygments_lexer": "ipython3",
   "version": "3.6.9"
  }
 },
 "nbformat": 4,
 "nbformat_minor": 4
}
