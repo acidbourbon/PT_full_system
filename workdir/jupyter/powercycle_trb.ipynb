{
 "cells": [
  {
   "cell_type": "code",
   "execution_count": 3,
   "metadata": {},
   "outputs": [
    {
     "name": "stdout",
     "output_type": "stream",
     "text": [
      "device: socket://192.168.0.139:5025\n",
      "volt 0.000000 curr 0.000000 state 0\n",
      "volt 0.000000 curr 0.000000 state 0\n",
      "volt 0.000000 curr 0.000000 state 0\n",
      "volt 0.000000 curr 0.000000 state 0\n",
      "device: socket://192.168.0.139:5025\n",
      "volt 5.000000 curr 0.086400 state 1\n",
      "volt 0.000000 curr 0.000000 state 0\n",
      "volt 0.000000 curr 0.000000 state 0\n",
      "volt 0.000000 curr 0.000000 state 0\n"
     ]
    }
   ],
   "source": [
    "\n",
    "# used TRBsc is not connected to switchable powersupply use ping  of beath for reset!\n",
    "import hameg_PT_Frankfurt as htrb\n",
    "#import hameg_trb as htrb\n",
    "htrb.identify()\n",
    "#switch off Pasttrec: \n",
    "htrb.set_state(1,0)\n",
    "htrb.report()\n",
    "\n",
    "#switch ON Pasttrec: \n",
    "htrb.set_state(1,1)\n",
    "htrb.report()\n",
    "\n",
    "\n",
    "#switch off output of all 4 channels\n",
    "#print(htrb.all_off())\n",
    "\n",
    "\n",
    "#print(htrb.all_on())\n",
    "\n",
    "#htrb.report()"
   ]
  },
  {
   "cell_type": "code",
   "execution_count": null,
   "metadata": {},
   "outputs": [],
   "source": []
  },
  {
   "cell_type": "code",
   "execution_count": null,
   "metadata": {},
   "outputs": [],
   "source": []
  }
 ],
 "metadata": {
  "kernelspec": {
   "display_name": "Python 3",
   "language": "python",
   "name": "python3"
  },
  "language_info": {
   "codemirror_mode": {
    "name": "ipython",
    "version": 3
   },
   "file_extension": ".py",
   "mimetype": "text/x-python",
   "name": "python",
   "nbconvert_exporter": "python",
   "pygments_lexer": "ipython3",
   "version": "3.6.9"
  }
 },
 "nbformat": 4,
 "nbformat_minor": 4
}
