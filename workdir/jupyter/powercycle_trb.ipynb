{
 "cells": [
  {
   "cell_type": "code",
   "execution_count": 2,
   "metadata": {
    "scrolled": true
   },
   "outputs": [
    {
     "name": "stdout",
     "output_type": "stream",
     "text": [
      "TRB3 power\n"
     ]
    },
    {
     "data": {
      "application/vnd.jupyter.widget-view+json": {
       "model_id": "9c7b4fd7adce40938ec6e5047d6942eb",
       "version_major": 2,
       "version_minor": 0
      },
      "text/plain": [
       "VBox(children=(Button(description='CH1 ON', style=ButtonStyle()), Button(description='CH1 OFF', style=ButtonSt…"
      ]
     },
     "metadata": {},
     "output_type": "display_data"
    }
   ],
   "source": [
    "import hameg_trb as htrb\n",
    "print(\"TRB3 power\")\n",
    "#htrb.report()\n",
    "htrb.OnOffButton(1)\n"
   ]
  },
  {
   "cell_type": "code",
   "execution_count": null,
   "metadata": {
    "scrolled": true
   },
   "outputs": [],
   "source": [
    "#htrb.OnOffButton(4)"
   ]
  },
  {
   "cell_type": "code",
   "execution_count": 1,
   "metadata": {
    "scrolled": true
   },
   "outputs": [
    {
     "name": "stdout",
     "output_type": "stream",
     "text": [
      "linea power MDCMBO\n"
     ]
    },
    {
     "data": {
      "application/vnd.jupyter.widget-view+json": {
       "model_id": "0de6c20cf3ed42cd8427cd00def71424",
       "version_major": 2,
       "version_minor": 0
      },
      "text/plain": [
       "VBox(children=(Button(description='CH1 ON', style=ButtonStyle()), Button(description='CH1 OFF', style=ButtonSt…"
      ]
     },
     "metadata": {},
     "output_type": "display_data"
    }
   ],
   "source": [
    "print(\"linea power MDCMBO\")\n",
    "import hameg_lv as lv\n",
    "#lv.report()\n",
    "lv.OnOffButton(1)\n"
   ]
  },
  {
   "cell_type": "code",
   "execution_count": null,
   "metadata": {
    "scrolled": true
   },
   "outputs": [],
   "source": []
  },
  {
   "cell_type": "code",
   "execution_count": 3,
   "metadata": {},
   "outputs": [
    {
     "data": {
      "application/vnd.jupyter.widget-view+json": {
       "model_id": "8ff78a2548c844de87663d17de0a653f",
       "version_major": 2,
       "version_minor": 0
      },
      "text/plain": [
       "VBox(children=(Button(description='CH3 ON', style=ButtonStyle()), Button(description='CH3 OFF', style=ButtonSt…"
      ]
     },
     "metadata": {},
     "output_type": "display_data"
    }
   ],
   "source": [
    "lv.OnOffButton(3)"
   ]
  },
  {
   "cell_type": "code",
   "execution_count": 5,
   "metadata": {
    "scrolled": false
   },
   "outputs": [
    {
     "name": "stdout",
     "output_type": "stream",
     "text": [
      " TRB3 LV: \n",
      "device: /dev/ttyUSB_HAMEG_TRB\n",
      "volt 24.000 curr 0.6515 state 1\n",
      "volt 24.000 curr 0.6515 state 1\n",
      "volt 5.500 curr 0.2250 state 1\n",
      "volt 0.000 curr 0.0002 state 1\n",
      "None\n",
      "device: /dev/ttyUSB_HAMEG_TRB\n",
      "volt 0.000 curr 0.0000 state 0\n",
      "volt 0.000 curr 0.0000 state 0\n",
      "volt 0.000 curr 0.0000 state 0\n",
      "volt 0.000 curr 0.0000 state 0\n",
      "None\n",
      "device: /dev/ttyUSB_HAMEG_TRB\n",
      "volt 26.186 curr 0.2762 state 1\n",
      "volt 22.296 curr 0.2692 state 1\n",
      "volt 5.500 curr 0.2198 state 1\n",
      "volt 0.000 curr 0.0002 state 1\n",
      " MDC MBO LV: \n",
      "device: /dev/ttyUSB_HAMEG_LV\n",
      "volt 15.000000 curr 1.510000 state 1\n",
      "volt 12.000000 curr 0.000000 state 1\n",
      "volt 12.000000 curr 2.447000 state 1\n",
      "volt 0.000000 curr 0.000100 state 1\n",
      "device: /dev/ttyUSB_HAMEG_LV\n",
      "volt 0.000000 curr 0.000000 state 0\n",
      "volt 0.000000 curr 0.000000 state 0\n",
      "volt 12.000000 curr 2.447000 state 1\n",
      "volt 0.000000 curr 0.000100 state 1\n",
      "device: /dev/ttyUSB_HAMEG_LV\n",
      "volt 14.999000 curr 1.524000 state 1\n",
      "volt 12.003000 curr 0.000000 state 1\n",
      "volt 12.002000 curr 2.447000 state 1\n",
      "volt 0.000000 curr 0.000100 state 1\n",
      "device: /dev/ttyUSB_HAMEG_TRB\n",
      "volt 23.999 curr 0.6494 state 1\n",
      "volt 24.000 curr 0.6494 state 1\n",
      "volt 5.500 curr 0.2246 state 1\n",
      "volt 0.000 curr 0.0002 state 1\n",
      "Welcome to JupyROOT 6.14/04\n",
      "T: 1820 aa00 00000000\n",
      "T: 1820 a200 00000010\n",
      "T: 1820 a210 00000010\n",
      "T: 1820 a220 00000010\n",
      "T: 1820 a230 00000010\n",
      "T: 1820 a203 00000002\n",
      "T: 1820 a213 00000002\n",
      "T: 1820 a223 00000002\n",
      "T: 1820 a233 00000002\n",
      "T: 1820 aa00 00000000\n",
      "T: 1820 a200 00000010\n",
      "T: 1820 a210 00000010\n",
      "T: 1820 a220 00000010\n",
      "T: 1820 a230 00000010\n",
      "T: 1820 a203 00000002\n",
      "T: 1820 a213 00000002\n",
      "T: 1820 a223 00000002\n",
      "T: 1820 a233 00000002\n",
      "T: 1821 aa00 00000000\n",
      "T: 1821 a200 00000010\n",
      "T: 1821 a210 00000010\n",
      "T: 1821 a220 00000010\n",
      "T: 1821 a230 00000010\n",
      "T: 1821 a203 00000002\n",
      "T: 1821 a213 00000002\n",
      "T: 1821 a223 00000002\n",
      "T: 1821 a233 00000002\n",
      "T: 1821 aa00 00000000\n",
      "T: 1821 a200 00000010\n",
      "T: 1821 a210 00000010\n",
      "T: 1821 a220 00000010\n",
      "T: 1821 a230 00000010\n",
      "T: 1821 a203 00000002\n",
      "T: 1821 a213 00000002\n",
      "T: 1821 a223 00000002\n",
      "T: 1821 a233 00000002\n",
      "T: 1800 aa00 00000000\n",
      "T: 1800 a200 00000010\n",
      "T: 1800 a210 00000010\n",
      "T: 1800 a220 00000010\n",
      "T: 1800 a230 00000010\n",
      "T: 1800 a203 00000002\n",
      "T: 1800 a213 00000002\n",
      "T: 1800 a223 00000002\n",
      "T: 1800 a233 00000002\n",
      "T: 1800 aa00 00000000\n",
      "T: 1800 a200 00000010\n",
      "T: 1800 a210 00000010\n",
      "T: 1800 a220 00000010\n",
      "T: 1800 a230 00000010\n",
      "T: 1800 a203 00000002\n",
      "T: 1800 a213 00000002\n",
      "T: 1800 a223 00000002\n",
      "T: 1800 a233 00000002\n",
      "T: 1813 aa00 00000000\n",
      "T: 1813 a200 00000010\n",
      "T: 1813 a210 00000010\n",
      "T: 1813 a220 00000010\n",
      "T: 1813 a230 00000010\n",
      "T: 1813 a203 00000002\n",
      "T: 1813 a213 00000002\n",
      "T: 1813 a223 00000002\n",
      "T: 1813 a233 00000002\n",
      "T: 1813 aa00 00000000\n",
      "T: 1813 a200 00000010\n",
      "T: 1813 a210 00000010\n",
      "T: 1813 a220 00000010\n",
      "T: 1813 a230 00000010\n",
      "T: 1813 a203 00000002\n",
      "T: 1813 a213 00000002\n",
      "T: 1813 a223 00000002\n",
      "T: 1813 a233 00000002\n",
      "T: 1818 aa00 00000000\n",
      "T: 1818 a200 00000010\n",
      "T: 1818 a210 00000010\n",
      "T: 1818 a220 00000010\n",
      "T: 1818 a230 00000010\n",
      "T: 1818 a203 00000002\n",
      "T: 1818 a213 00000002\n",
      "T: 1818 a223 00000002\n",
      "T: 1818 a233 00000002\n",
      "T: 1818 aa00 00000000\n",
      "T: 1818 a200 00000010\n",
      "T: 1818 a210 00000010\n",
      "T: 1818 a220 00000010\n",
      "T: 1818 a230 00000010\n",
      "T: 1818 a203 00000002\n",
      "T: 1818 a213 00000002\n",
      "T: 1818 a223 00000002\n",
      "T: 1818 a233 00000002\n",
      "T: 1819 aa00 00000000\n",
      "T: 1819 a200 00000010\n",
      "T: 1819 a210 00000010\n",
      "T: 1819 a220 00000010\n",
      "T: 1819 a230 00000010\n",
      "T: 1819 a203 00000002\n",
      "T: 1819 a213 00000002\n",
      "T: 1819 a223 00000002\n",
      "T: 1819 a233 00000002\n",
      "T: 1819 aa00 00000000\n",
      "T: 1819 a200 00000010\n",
      "T: 1819 a210 00000010\n",
      "T: 1819 a220 00000010\n",
      "T: 1819 a230 00000010\n",
      "T: 1819 a203 00000002\n",
      "T: 1819 a213 00000002\n",
      "T: 1819 a223 00000002\n",
      "T: 1819 a233 00000002\n"
     ]
    }
   ],
   "source": [
    "\n",
    "# which electronic should be switched off & On? \n",
    "switchOff_trb3 = 1\n",
    "switchOff_MDCMBO = 1\n",
    "load_golden_design_MDCMBO = 0 #(not for 1802,1803 TDC = MBO 2, golden design not working at all)\n",
    "#switchOff_trb3\n",
    "\n",
    "import time\n",
    "\n",
    "\n",
    "# TRB & PANDA Pasttrec LV power suplly \n",
    "import hameg_trb as htrb\n",
    "\n",
    "print(\" TRB3 LV: \")\n",
    "htrb.report()\n",
    "if switchOff_trb3 == 1:\n",
    "    #switch off output of all 4 channels\n",
    "    print(htrb.all_off())\n",
    "    htrb.report()\n",
    "    time.sleep(3)\n",
    "    print(htrb.all_on())\n",
    "    htrb.report()\n",
    "    time.sleep(10)\n",
    "\n",
    "# LV power suplly used for new MBO\n",
    "import hameg_lv as hMBO \n",
    "\n",
    "print(\" MDC MBO LV: \")\n",
    "hMBO.report()\n",
    "if switchOff_MDCMBO == 1:\n",
    "    #switch off output of all 4 channels\n",
    "    #print(hMBO.all_off())\n",
    "    hMBO.set_state(1,0) \n",
    "    hMBO.set_state(2,0)\n",
    "    htrb.set_state(4,0)\n",
    "    hMBO.report()\n",
    "    # to load main design of MDC MBO at least 10s power off is needed\n",
    "    if load_golden_design_MDCMBO == 1:\n",
    "        time.sleep(15)\n",
    "    else:\n",
    "        time.sleep(1)\n",
    "    #print(hMBO.all_on())\n",
    "    hMBO.set_state(1,1) \n",
    "    hMBO.set_state(2,1)\n",
    "    htrb.set_state(4,1)\n",
    "    hMBO.report()\n",
    "    htrb.report()\n",
    "import tdc_daq as tdc\n",
    "tdc.reset_trb()\n",
    "time.sleep(5)\n",
    "import pasttrec_ctrl as ptc\n",
    "ptc.init_active_boards()\n",
    "time.sleep(2)\n",
    "tdc.reset_trb()"
   ]
  },
  {
   "cell_type": "code",
   "execution_count": 6,
   "metadata": {},
   "outputs": [
    {
     "name": "stdout",
     "output_type": "stream",
     "text": [
      " MDC MBO power: \n",
      "device: /dev/ttyUSB_HAMEG_LV\n",
      "volt 14.999000 curr 1.528000 state 1\n",
      "volt 12.003000 curr 0.000000 state 1\n",
      "volt 12.003000 curr 2.450000 state 1\n",
      "volt 0.000000 curr 0.000100 state 1\n"
     ]
    }
   ],
   "source": [
    "# LV power suplly used for new MBO\n",
    "import hameg_lv as hMBO \n",
    "print(\" MDC MBO power: \")\n",
    "hMBO.set_state(1,1) \n",
    "hMBO.set_state(2,1) \n",
    "hMBO.set_state(3,1) \n",
    "hMBO.set_state(4,1) \n",
    "hMBO.report()\n",
    "#tdc.reset_trb()"
   ]
  },
  {
   "cell_type": "code",
   "execution_count": 7,
   "metadata": {},
   "outputs": [
    {
     "name": "stdout",
     "output_type": "stream",
     "text": [
      " TRB3 power: \n",
      "device: /dev/ttyUSB_HAMEG_TRB\n",
      "volt 24.000 curr 0.6509 state 1\n",
      "volt 24.000 curr 0.6511 state 1\n",
      "volt 5.500 curr 0.2246 state 1\n",
      "volt 0.000 curr 0.0002 state 1\n",
      "device: /dev/ttyUSB_HAMEG_TRB\n",
      "volt 24.000 curr 0.6514 state 1\n",
      "volt 24.000 curr 0.6513 state 1\n",
      "volt 5.500 curr 0.2245 state 1\n",
      "volt 0.000 curr 0.0002 state 1\n"
     ]
    }
   ],
   "source": [
    "import hameg_trb as htrb\n",
    "#htrb.set_state(4,0) \n",
    "print(\" TRB3 power: \")\n",
    "htrb.report()\n",
    "#htrb.set_state(4,1) \n",
    "htrb.report()"
   ]
  },
  {
   "cell_type": "markdown",
   "metadata": {},
   "source": [
    "# import ipywidgets as widgets\n",
    "from IPython.display import display, Markdown, clear_output\n",
    "button = widgets.Button(description='CH3 ON')\n",
    "button2 = widgets.Button(description='CH3 OFF')\n",
    "import hameg_trb as htrb\n",
    "\n",
    "def on_button_clicked(_):\n",
    "      # \"linking function with output\"\n",
    "      with out:\n",
    "          # what happens when we press the button\n",
    "          clear_output()\n",
    "          ch = 3\n",
    "          htrb.set_state(ch,1) \n",
    "          print('channel {:d} ON'.format(ch))\n",
    "          htrb.report()\n",
    "def off_button_clicked(_):\n",
    "      # \"linking function with output\"\n",
    "      with out:\n",
    "          # what happens when we press the button\n",
    "          clear_output()\n",
    "          ch = 3\n",
    "          htrb.set_state(ch,0) \n",
    "          print('channel {:d} OFF'.format(ch))\n",
    "          htrb.report()\n",
    "# linking button and function together using a button's method\n",
    "button.on_click(on_button_clicked)\n",
    "button2.on_click(off_button_clicked)\n",
    "\n",
    "\n",
    "\n",
    "out = widgets.Output()\n",
    "\n",
    "# displaying button and its output together\n",
    "widgets.VBox([button,button2,out])"
   ]
  }
 ],
 "metadata": {
  "kernelspec": {
   "display_name": "Python 3",
   "language": "python",
   "name": "python3"
  },
  "language_info": {
   "codemirror_mode": {
    "name": "ipython",
    "version": 3
   },
   "file_extension": ".py",
   "mimetype": "text/x-python",
   "name": "python",
   "nbconvert_exporter": "python",
   "pygments_lexer": "ipython3",
   "version": "3.6.9"
  }
 },
 "nbformat": 4,
 "nbformat_minor": 4
}
