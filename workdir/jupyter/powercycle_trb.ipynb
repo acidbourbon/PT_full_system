{
 "cells": [
  {
   "cell_type": "code",
   "execution_count": 1,
   "metadata": {},
   "outputs": [
    {
     "name": "stdout",
     "output_type": "stream",
     "text": [
      "device: /dev/ttyUSB_HAMEG_TRB\n",
      "volt 24.000000 curr 1.194000 state 1\n",
      "volt 23.999000 curr 1.194000 state 1\n",
      "volt 5.700000 curr 4.616000 state 1\n",
      "volt 4.240000 curr 0.242800 state 1\n",
      "None\n",
      "device: /dev/ttyUSB_HAMEG_TRB\n",
      "volt 0.000000 curr 0.000000 state 0\n",
      "volt 0.000000 curr 0.000000 state 0\n",
      "volt 0.000000 curr 0.000000 state 0\n",
      "volt 0.000000 curr 0.000000 state 0\n",
      "None\n",
      "device: /dev/ttyUSB_HAMEG_TRB\n",
      "volt 26.319000 curr 0.388000 state 1\n",
      "volt 24.004000 curr 0.396200 state 1\n",
      "volt 5.698000 curr 4.139000 state 1\n",
      "volt 4.240000 curr 0.231700 state 1\n"
     ]
    }
   ],
   "source": [
    "\n",
    "\n",
    "\n",
    "import hameg_trb as htrb\n",
    "htrb.report()\n",
    "\n",
    "#switch off output of all 4 channels\n",
    "print(htrb.all_off())\n",
    "\n",
    "htrb.report()\n",
    "\n",
    "print(htrb.all_on())\n",
    "\n",
    "htrb.report()"
   ]
  }
 ],
 "metadata": {
  "kernelspec": {
   "display_name": "Python 3",
   "language": "python",
   "name": "python3"
  },
  "language_info": {
   "codemirror_mode": {
    "name": "ipython",
    "version": 3
   },
   "file_extension": ".py",
   "mimetype": "text/x-python",
   "name": "python",
   "nbconvert_exporter": "python",
   "pygments_lexer": "ipython3",
   "version": "3.6.9"
  }
 },
 "nbformat": 4,
 "nbformat_minor": 4
}
