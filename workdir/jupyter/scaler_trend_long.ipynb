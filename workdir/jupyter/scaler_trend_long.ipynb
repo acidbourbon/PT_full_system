{
 "cells": [
  {
   "cell_type": "code",
   "execution_count": 2,
   "id": "suited-creator",
   "metadata": {},
   "outputs": [
    {
     "data": {
      "text/plain": [
       "<matplotlib.figure.Figure at 0x7f82a06020f0>"
      ]
     },
     "metadata": {},
     "output_type": "display_data"
    },
    {
     "data": {
      "text/plain": [
       "<matplotlib.figure.Figure at 0x7f82a159eeb8>"
      ]
     },
     "metadata": {},
     "output_type": "display_data"
    },
    {
     "data": {
      "image/png": "[encoded data removed]",
      "text/plain": [
       "<matplotlib.figure.Figure at 0x7f82a0602e10>"
      ]
     },
     "metadata": {},
     "output_type": "display_data"
    },
    {
     "name": "stdout",
     "output_type": "stream",
     "text": [
      ". "
     ]
    },
    {
     "ename": "KeyboardInterrupt",
     "evalue": "",
     "output_type": "error",
     "traceback": [
      "\u001b[0;31m---------------------------------------------------------------------------\u001b[0m",
      "\u001b[0;31mKeyboardInterrupt\u001b[0m                         Traceback (most recent call last)",
      "\u001b[0;32m<ipython-input-2-49df82f21f1e>\u001b[0m in \u001b[0;36m<module>\u001b[0;34m\u001b[0m\n\u001b[0;32m----> 1\u001b[0;31m \u001b[0mscaler_tren_plot\u001b[0m\u001b[0;34m(\u001b[0m\u001b[0;34m\"0x0350\"\u001b[0m\u001b[0;34m,\u001b[0m\u001b[0;34m[\u001b[0m\u001b[0;36m48\u001b[0m\u001b[0;34m,\u001b[0m\u001b[0;36m49\u001b[0m\u001b[0;34m]\u001b[0m\u001b[0;34m,\u001b[0m\u001b[0;36m10\u001b[0m\u001b[0;34m)\u001b[0m\u001b[0;34m\u001b[0m\u001b[0;34m\u001b[0m\u001b[0m\n\u001b[0m",
      "\u001b[0;32m<ipython-input-1-2fe8c53c5594>\u001b[0m in \u001b[0;36mscaler_tren_plot\u001b[0;34m(TDC, channellist, trend_duration)\u001b[0m\n\u001b[1;32m     40\u001b[0m             \u001b[0mscaler_rates\u001b[0m \u001b[0;34m=\u001b[0m \u001b[0mtd\u001b[0m\u001b[0;34m.\u001b[0m\u001b[0mscaler_rate\u001b[0m\u001b[0;34m(\u001b[0m\u001b[0;34m\"0x0350\"\u001b[0m\u001b[0;34m,\u001b[0m\u001b[0mchannellist\u001b[0m\u001b[0;34m,\u001b[0m\u001b[0;36m1\u001b[0m\u001b[0;34m)\u001b[0m\u001b[0;34m\u001b[0m\u001b[0;34m\u001b[0m\u001b[0m\n\u001b[1;32m     41\u001b[0m             \u001b[0mscaler_rates_MDCA\u001b[0m \u001b[0;34m=\u001b[0m \u001b[0mtd\u001b[0m\u001b[0;34m.\u001b[0m\u001b[0mscaler_rate\u001b[0m\u001b[0;34m(\u001b[0m\u001b[0;34m\"0x1807\"\u001b[0m\u001b[0;34m,\u001b[0m\u001b[0mtdc_channels\u001b[0m\u001b[0;34m,\u001b[0m\u001b[0;36m1\u001b[0m\u001b[0;34m)\u001b[0m\u001b[0;34m\u001b[0m\u001b[0;34m\u001b[0m\u001b[0m\n\u001b[0;32m---> 42\u001b[0;31m             \u001b[0mscaler_rates_MDCB\u001b[0m \u001b[0;34m=\u001b[0m \u001b[0mtd\u001b[0m\u001b[0;34m.\u001b[0m\u001b[0mscaler_rate\u001b[0m\u001b[0;34m(\u001b[0m\u001b[0;34m\"0x1812\"\u001b[0m\u001b[0;34m,\u001b[0m\u001b[0mtdc_channels\u001b[0m\u001b[0;34m,\u001b[0m\u001b[0;36m1\u001b[0m\u001b[0;34m)\u001b[0m\u001b[0;34m\u001b[0m\u001b[0;34m\u001b[0m\u001b[0m\n\u001b[0m\u001b[1;32m     43\u001b[0m             \u001b[0;31m#print(scaler_rates)\u001b[0m\u001b[0;34m\u001b[0m\u001b[0;34m\u001b[0m\u001b[0;34m\u001b[0m\u001b[0m\n\u001b[1;32m     44\u001b[0m \u001b[0;34m\u001b[0m\u001b[0m\n",
      "\u001b[0;32m~/python_modules/tdc_daq.py\u001b[0m in \u001b[0;36mscaler_rate\u001b[0;34m(TDC, channels, time)\u001b[0m\n\u001b[1;32m     98\u001b[0m   \u001b[0ma\u001b[0m \u001b[0;34m=\u001b[0m \u001b[0mnp\u001b[0m\u001b[0;34m.\u001b[0m\u001b[0marray\u001b[0m\u001b[0;34m(\u001b[0m\u001b[0mread_scalers\u001b[0m\u001b[0;34m(\u001b[0m\u001b[0mTDC\u001b[0m\u001b[0;34m,\u001b[0m\u001b[0mchannels\u001b[0m\u001b[0;34m)\u001b[0m\u001b[0;34m)\u001b[0m\u001b[0;34m\u001b[0m\u001b[0;34m\u001b[0m\u001b[0m\n\u001b[1;32m     99\u001b[0m   \u001b[0msleep\u001b[0m\u001b[0;34m(\u001b[0m\u001b[0mtime\u001b[0m\u001b[0;34m)\u001b[0m\u001b[0;34m\u001b[0m\u001b[0;34m\u001b[0m\u001b[0m\n\u001b[0;32m--> 100\u001b[0;31m   \u001b[0mb\u001b[0m \u001b[0;34m=\u001b[0m \u001b[0mnp\u001b[0m\u001b[0;34m.\u001b[0m\u001b[0marray\u001b[0m\u001b[0;34m(\u001b[0m\u001b[0mread_scalers\u001b[0m\u001b[0;34m(\u001b[0m\u001b[0mTDC\u001b[0m\u001b[0;34m,\u001b[0m\u001b[0mchannels\u001b[0m\u001b[0;34m)\u001b[0m\u001b[0;34m)\u001b[0m\u001b[0;34m\u001b[0m\u001b[0;34m\u001b[0m\u001b[0m\n\u001b[0m\u001b[1;32m    101\u001b[0m   \u001b[0mdiff\u001b[0m \u001b[0;34m=\u001b[0m \u001b[0mb\u001b[0m\u001b[0;34m-\u001b[0m\u001b[0ma\u001b[0m\u001b[0;34m\u001b[0m\u001b[0;34m\u001b[0m\u001b[0m\n\u001b[1;32m    102\u001b[0m   \u001b[0;31m## add overflow\u001b[0m\u001b[0;34m\u001b[0m\u001b[0;34m\u001b[0m\u001b[0;34m\u001b[0m\u001b[0m\n",
      "\u001b[0;32m~/python_modules/tdc_daq.py\u001b[0m in \u001b[0;36mread_scalers\u001b[0;34m(TDC, channels)\u001b[0m\n\u001b[1;32m     47\u001b[0m \u001b[0;34m\u001b[0m\u001b[0m\n\u001b[1;32m     48\u001b[0m \u001b[0;31m#   first_register = first_chan + 0xdfc0\u001b[0m\u001b[0;34m\u001b[0m\u001b[0;34m\u001b[0m\u001b[0;34m\u001b[0m\u001b[0m\n\u001b[0;32m---> 49\u001b[0;31m   \u001b[0mvalues\u001b[0m \u001b[0;34m=\u001b[0m \u001b[0mread_memory\u001b[0m\u001b[0;34m(\u001b[0m\u001b[0mTDC\u001b[0m\u001b[0;34m,\u001b[0m\u001b[0mfirst_register\u001b[0m\u001b[0;34m,\u001b[0m\u001b[0mmemory_size\u001b[0m\u001b[0;34m)\u001b[0m\u001b[0;34m\u001b[0m\u001b[0;34m\u001b[0m\u001b[0m\n\u001b[0m\u001b[1;32m     50\u001b[0m   \u001b[0mreturn_vals\u001b[0m \u001b[0;34m=\u001b[0m \u001b[0;34m[\u001b[0m\u001b[0;36m0\u001b[0m\u001b[0;34m]\u001b[0m \u001b[0;34m*\u001b[0m \u001b[0mlen\u001b[0m\u001b[0;34m(\u001b[0m\u001b[0mchannels\u001b[0m\u001b[0;34m)\u001b[0m\u001b[0;34m\u001b[0m\u001b[0;34m\u001b[0m\u001b[0m\n\u001b[1;32m     51\u001b[0m   \u001b[0mindex\u001b[0m \u001b[0;34m=\u001b[0m \u001b[0;36m0\u001b[0m\u001b[0;34m\u001b[0m\u001b[0;34m\u001b[0m\u001b[0m\n",
      "\u001b[0;32m~/python_modules/tdc_daq.py\u001b[0m in \u001b[0;36mread_memory\u001b[0;34m(TDC, register, size)\u001b[0m\n\u001b[1;32m     22\u001b[0m   \u001b[0;31m### TDC is string, register and size are int\u001b[0m\u001b[0;34m\u001b[0m\u001b[0;34m\u001b[0m\u001b[0;34m\u001b[0m\u001b[0m\n\u001b[1;32m     23\u001b[0m   \u001b[0mmode\u001b[0m \u001b[0;34m=\u001b[0m \u001b[0;36m0\u001b[0m\u001b[0;34m\u001b[0m\u001b[0;34m\u001b[0m\u001b[0m\n\u001b[0;32m---> 24\u001b[0;31m   \u001b[0manswer\u001b[0m \u001b[0;34m=\u001b[0m \u001b[0mos\u001b[0m\u001b[0;34m.\u001b[0m\u001b[0mpopen\u001b[0m\u001b[0;34m(\u001b[0m\u001b[0;34m\"trbcmd rm {:s} {:d} {:d} {:d}\"\u001b[0m\u001b[0;34m.\u001b[0m\u001b[0mformat\u001b[0m\u001b[0;34m(\u001b[0m\u001b[0mTDC\u001b[0m\u001b[0;34m,\u001b[0m\u001b[0mregister\u001b[0m\u001b[0;34m,\u001b[0m\u001b[0msize\u001b[0m\u001b[0;34m,\u001b[0m\u001b[0mmode\u001b[0m\u001b[0;34m)\u001b[0m\u001b[0;34m)\u001b[0m\u001b[0;34m.\u001b[0m\u001b[0mread\u001b[0m\u001b[0;34m(\u001b[0m\u001b[0;34m)\u001b[0m\u001b[0;34m\u001b[0m\u001b[0;34m\u001b[0m\u001b[0m\n\u001b[0m\u001b[1;32m     25\u001b[0m   \u001b[0;31m#print(answer)\u001b[0m\u001b[0;34m\u001b[0m\u001b[0;34m\u001b[0m\u001b[0;34m\u001b[0m\u001b[0m\n\u001b[1;32m     26\u001b[0m   \u001b[0mline_no\u001b[0m \u001b[0;34m=\u001b[0m \u001b[0;36m0\u001b[0m\u001b[0;34m\u001b[0m\u001b[0;34m\u001b[0m\u001b[0m\n",
      "\u001b[0;32m/usr/lib/python3.6/os.py\u001b[0m in \u001b[0;36mpopen\u001b[0;34m(cmd, mode, buffering)\u001b[0m\n\u001b[1;32m    978\u001b[0m                                 \u001b[0mshell\u001b[0m\u001b[0;34m=\u001b[0m\u001b[0;32mTrue\u001b[0m\u001b[0;34m,\u001b[0m\u001b[0;34m\u001b[0m\u001b[0;34m\u001b[0m\u001b[0m\n\u001b[1;32m    979\u001b[0m                                 \u001b[0mstdout\u001b[0m\u001b[0;34m=\u001b[0m\u001b[0msubprocess\u001b[0m\u001b[0;34m.\u001b[0m\u001b[0mPIPE\u001b[0m\u001b[0;34m,\u001b[0m\u001b[0;34m\u001b[0m\u001b[0;34m\u001b[0m\u001b[0m\n\u001b[0;32m--> 980\u001b[0;31m                                 bufsize=buffering)\n\u001b[0m\u001b[1;32m    981\u001b[0m         \u001b[0;32mreturn\u001b[0m \u001b[0m_wrap_close\u001b[0m\u001b[0;34m(\u001b[0m\u001b[0mio\u001b[0m\u001b[0;34m.\u001b[0m\u001b[0mTextIOWrapper\u001b[0m\u001b[0;34m(\u001b[0m\u001b[0mproc\u001b[0m\u001b[0;34m.\u001b[0m\u001b[0mstdout\u001b[0m\u001b[0;34m)\u001b[0m\u001b[0;34m,\u001b[0m \u001b[0mproc\u001b[0m\u001b[0;34m)\u001b[0m\u001b[0;34m\u001b[0m\u001b[0;34m\u001b[0m\u001b[0m\n\u001b[1;32m    982\u001b[0m     \u001b[0;32melse\u001b[0m\u001b[0;34m:\u001b[0m\u001b[0;34m\u001b[0m\u001b[0;34m\u001b[0m\u001b[0m\n",
      "\u001b[0;32m/usr/lib/python3.6/subprocess.py\u001b[0m in \u001b[0;36m__init__\u001b[0;34m(self, args, bufsize, executable, stdin, stdout, stderr, preexec_fn, close_fds, shell, cwd, env, universal_newlines, startupinfo, creationflags, restore_signals, start_new_session, pass_fds, encoding, errors)\u001b[0m\n\u001b[1;32m    727\u001b[0m                                 \u001b[0mc2pread\u001b[0m\u001b[0;34m,\u001b[0m \u001b[0mc2pwrite\u001b[0m\u001b[0;34m,\u001b[0m\u001b[0;34m\u001b[0m\u001b[0;34m\u001b[0m\u001b[0m\n\u001b[1;32m    728\u001b[0m                                 \u001b[0merrread\u001b[0m\u001b[0;34m,\u001b[0m \u001b[0merrwrite\u001b[0m\u001b[0;34m,\u001b[0m\u001b[0;34m\u001b[0m\u001b[0;34m\u001b[0m\u001b[0m\n\u001b[0;32m--> 729\u001b[0;31m                                 restore_signals, start_new_session)\n\u001b[0m\u001b[1;32m    730\u001b[0m         \u001b[0;32mexcept\u001b[0m\u001b[0;34m:\u001b[0m\u001b[0;34m\u001b[0m\u001b[0;34m\u001b[0m\u001b[0m\n\u001b[1;32m    731\u001b[0m             \u001b[0;31m# Cleanup if the child failed starting.\u001b[0m\u001b[0;34m\u001b[0m\u001b[0;34m\u001b[0m\u001b[0;34m\u001b[0m\u001b[0m\n",
      "\u001b[0;32m/usr/lib/python3.6/subprocess.py\u001b[0m in \u001b[0;36m_execute_child\u001b[0;34m(self, args, executable, preexec_fn, close_fds, pass_fds, cwd, env, startupinfo, creationflags, shell, p2cread, p2cwrite, c2pread, c2pwrite, errread, errwrite, restore_signals, start_new_session)\u001b[0m\n\u001b[1;32m   1316\u001b[0m                 \u001b[0merrpipe_data\u001b[0m \u001b[0;34m=\u001b[0m \u001b[0mbytearray\u001b[0m\u001b[0;34m(\u001b[0m\u001b[0;34m)\u001b[0m\u001b[0;34m\u001b[0m\u001b[0;34m\u001b[0m\u001b[0m\n\u001b[1;32m   1317\u001b[0m                 \u001b[0;32mwhile\u001b[0m \u001b[0;32mTrue\u001b[0m\u001b[0;34m:\u001b[0m\u001b[0;34m\u001b[0m\u001b[0;34m\u001b[0m\u001b[0m\n\u001b[0;32m-> 1318\u001b[0;31m                     \u001b[0mpart\u001b[0m \u001b[0;34m=\u001b[0m \u001b[0mos\u001b[0m\u001b[0;34m.\u001b[0m\u001b[0mread\u001b[0m\u001b[0;34m(\u001b[0m\u001b[0merrpipe_read\u001b[0m\u001b[0;34m,\u001b[0m \u001b[0;36m50000\u001b[0m\u001b[0;34m)\u001b[0m\u001b[0;34m\u001b[0m\u001b[0;34m\u001b[0m\u001b[0m\n\u001b[0m\u001b[1;32m   1319\u001b[0m                     \u001b[0merrpipe_data\u001b[0m \u001b[0;34m+=\u001b[0m \u001b[0mpart\u001b[0m\u001b[0;34m\u001b[0m\u001b[0;34m\u001b[0m\u001b[0m\n\u001b[1;32m   1320\u001b[0m                     \u001b[0;32mif\u001b[0m \u001b[0;32mnot\u001b[0m \u001b[0mpart\u001b[0m \u001b[0;32mor\u001b[0m \u001b[0mlen\u001b[0m\u001b[0;34m(\u001b[0m\u001b[0merrpipe_data\u001b[0m\u001b[0;34m)\u001b[0m \u001b[0;34m>\u001b[0m \u001b[0;36m50000\u001b[0m\u001b[0;34m:\u001b[0m\u001b[0;34m\u001b[0m\u001b[0;34m\u001b[0m\u001b[0m\n",
      "\u001b[0;31mKeyboardInterrupt\u001b[0m: "
     ]
    },
    {
     "data": {
      "text/plain": [
       "<matplotlib.figure.Figure at 0x7f82a0830710>"
      ]
     },
     "metadata": {},
     "output_type": "display_data"
    }
   ],
   "source": [
    "scaler_tren_plot(\"0x0350\",[48,49],10)"
   ]
  },
  {
   "cell_type": "code",
   "execution_count": 1,
   "id": "quantitative-photograph",
   "metadata": {
    "scrolled": false
   },
   "outputs": [],
   "source": [
    "\n",
    " \n",
    "\n",
    "\n",
    "\n",
    "\n",
    "def scaler_tren_plot(TDC,channellist,trend_duration):\n",
    "    trend_scan_Nsteps = 60*60*trend_duration\n",
    "    data_dir = \"/workdir/jupyter/Cosy2021_tot_data_taking_data\"\n",
    "    TDC_list = [\"0x1807\",\"0x1812\"]\n",
    "    #time of one measurement in s\n",
    "    measure_time=1\n",
    "    # measure_board_list =  [ \"0902\", \"0905\"]  \n",
    "    measure_board_list =  [ \"80053\"]\n",
    "    channellist = [49,49]\n",
    "    number_of_TDC_channels  =2\n",
    "    tdc_channels = list(range(0, number_of_TDC_channels))\n",
    "\n",
    "    from matplotlib import pyplot as plt\n",
    "    %matplotlib inline\n",
    "    from IPython.display import clear_output\n",
    "\n",
    "    import time\n",
    "    import matplotlib.dates as mdates\n",
    "    import datetime \n",
    "    # from cw_pasttrec_functions import *\n",
    "\n",
    "    import tdc_daq as td\n",
    "\n",
    "    starttime = round(time.time() * 1000) \n",
    "    print(starttime)\n",
    "    # get scaler rates for chosen threshold/gain/peaking time as simple estimate of noise:\n",
    "    scaler_list_trend        =  [ []  for i in range(trend_scan_Nsteps) ] \n",
    "\n",
    "    scaler_list_trend_channel = [ []  for i in range(len(channellist))]\n",
    "    scaler_list_trend_channel_MDC = [ [[]  for i in range(len(tdc_channels))] for itdc in range(0,len(TDC_list))]\n",
    "    scaler_list_trend_channel_MDCA = [ []  for i in range(len(tdc_channels))]\n",
    "    scaler_list_trend_channel_MDCB = [ []  for i in range(len(tdc_channels))]\n",
    "    timestamps = []\n",
    "\n",
    "\n",
    "    for b in range(0,len(measure_board_list)):\n",
    "     name = measure_board_list[b]\n",
    "     for p in range(0,trend_scan_Nsteps):\n",
    "#             scaler_rates = td.scaler_rate_of_board(name,measure_time) \n",
    "            scaler_rates = td.scaler_rate(\"0x0350\",channellist,1)\n",
    "            scaler_rates_MDCA = td.scaler_rate(\"0x1807\",tdc_channels,1)\n",
    "            scaler_rates_MDCB = td.scaler_rate(\"0x1812\",tdc_channels,1)        \n",
    "            #print(scaler_rates)\n",
    " \n",
    "            for ch in range(0,len(scaler_rates)):\n",
    "                scaler_list_trend_channel[ch] += [ scaler_rates[ch] ]\n",
    "            for itdc in range(0,len(TDC_list)):\n",
    "              for ch in range(0,len(scaler_rates_MDCA)):\n",
    "#                scaler_list_trend_channel_MDC[itdc][ch] += [ td.scaler_rate(TDC_list[itdc],tdc_channels,1)[ch] ]   \n",
    "                scaler_list_trend_channel_MDCA[ch] += [ scaler_rates_MDCA[ch] ]  \n",
    "            for ch in range(0,len(scaler_rates_MDCB)):\n",
    "                scaler_list_trend_channel_MDCB[ch] += [ scaler_rates_MDCB[ch] ]  \n",
    "            timestamps += [ datetime.datetime.now() ]\n",
    "            print(\".\", end=\" \")\n",
    "            ###########################################################\n",
    "            ####plot trends each 5 minutes:\n",
    " \n",
    "            plt.figure(num=None, figsize=(22, 8), dpi=100, facecolor='w', edgecolor='k')      \n",
    "            plt.gcf().autofmt_xdate()\n",
    "                            \n",
    "            if p % 3 == 0:\n",
    "                        # now call function we defined above\n",
    "\n",
    "                        clear_output(wait=True)\n",
    " \n",
    "\n",
    "                        for ch in range(0,len(channellist)):                           \n",
    "                            plt.errorbar( timestamps,scaler_list_trend_channel[ch],  yerr=None, xerr=None, fmt='o:', alpha=0.9,label = \"scintillator ch {:d}\".format(channellist[ch]) )\n",
    "#                         for ch in range(0,len(tdc_channels)): \n",
    "#                             plt.errorbar( timestamps,scaler_list_trend_channel_MDCA[ch], yerr=None, xerr=None, fmt='o:', alpha=0.9,label = \"MDC A channel {:d}\".format(tdc_channels[ch]))                            \n",
    "#                             plt.errorbar( timestamps,scaler_list_trend_channel_MDCB[ch], yerr=None, xerr=None, fmt='o:', alpha=0.9,label = \"MDC B channel {:d}\".format(tdc_channels[ch]))                            \n",
    " \n",
    "                            # beautify the x-labels\n",
    "                        plt.xlabel(\"time \")\n",
    "                        plt.yscale('log')\n",
    "                        plt.ylabel(\" scaler rates\") \n",
    "                        plt.savefig('{:s}/scintillator_rate_trend{:d}.png'.format(data_dir,starttime), dpi=100)\n",
    "                        plt.legend()  \n",
    "                        plt.show()\n",
    "                        \n",
    "  \n",
    " "
   ]
  },
  {
   "cell_type": "code",
   "execution_count": null,
   "id": "democratic-lafayette",
   "metadata": {},
   "outputs": [],
   "source": []
  }
 ],
 "metadata": {
  "kernelspec": {
   "display_name": "Python 3",
   "language": "python",
   "name": "python3"
  },
  "language_info": {
   "codemirror_mode": {
    "name": "ipython",
    "version": 3
   },
   "file_extension": ".py",
   "mimetype": "text/x-python",
   "name": "python",
   "nbconvert_exporter": "python",
   "pygments_lexer": "ipython3",
   "version": "3.6.9"
  }
 },
 "nbformat": 4,
 "nbformat_minor": 5
}
