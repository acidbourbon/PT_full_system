{
 "cells": [
  {
   "cell_type": "code",
   "execution_count": 1,
   "id": "racial-korea",
   "metadata": {},
   "outputs": [
    {
     "data": {
      "text/plain": [
       "0"
      ]
     },
     "execution_count": 1,
     "metadata": {},
     "output_type": "execute_result"
    }
   ],
   "source": [
    "import os\n",
    "\n",
    "os.system(\"trbcmd w 0xc035 0xa13f 0x00000030\")  # trg_input_mux1: input=itc[10]\n",
    "os.system(\"trbcmd w 0xc035 0xa101 0xffff0010\")  # trg_channel_mask: edge=1111 1111 1111 1111, mask=0000 0000 0001 0000\n",
    "os.system(\"trbcmd w 0xc035 0xa125 0x0000000f\")  # trg_input_config1: delay=15, invert=false, override=off, spike_rej=0"
   ]
  },
  {
   "cell_type": "code",
   "execution_count": 2,
   "id": "appreciated-coupon",
   "metadata": {},
   "outputs": [],
   "source": [
    "# activate scintillator1 trigger (ch49) only:\n",
    "#os.system(\"trbcmd w 0xc035 0xa101 0xffff0400\")  # trg_channel_mask: edge=1111 1111 1111 1111, mask=0000 0100 0000 0000\n"
   ]
  }
 ],
 "metadata": {
  "kernelspec": {
   "display_name": "Python 3",
   "language": "python",
   "name": "python3"
  },
  "language_info": {
   "codemirror_mode": {
    "name": "ipython",
    "version": 3
   },
   "file_extension": ".py",
   "mimetype": "text/x-python",
   "name": "python",
   "nbconvert_exporter": "python",
   "pygments_lexer": "ipython3",
   "version": "3.6.9"
  }
 },
 "nbformat": 4,
 "nbformat_minor": 5
}
