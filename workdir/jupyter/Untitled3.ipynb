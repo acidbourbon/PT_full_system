{
 "cells": [
  {
   "cell_type": "code",
   "execution_count": 13,
   "id": "balanced-raise",
   "metadata": {},
   "outputs": [
    {
     "name": "stdout",
     "output_type": "stream",
     "text": [
      "done\n"
     ]
    }
   ],
   "source": [
    "import pasttrec_ctrl as ptc\n",
    "import time\n",
    "ptc.init_board_by_name(\"80061\",pktime=10,gain=2,threshold=2)\n",
    "\n",
    "time.sleep(5)   \n",
    "\n",
    "TDC = \"0x1808\"\n",
    "CONN = 1\n",
    "CHIP = 0\n",
    "pktime = 15\n",
    "GAIN = 1\n",
    "thresh = 5\n",
    "\n",
    "\n",
    "black_settings_pt15_g1_thr127 = [\n",
    "  0x019,\n",
    "  0x11e,\n",
    "  0x215,\n",
    "  0x37f,\n",
    "  0x40f,\n",
    "  0x50f,\n",
    "  0x60f,\n",
    "  0x70f,\n",
    "  0x80f,\n",
    "  0x90f,\n",
    "  0xa0f,\n",
    "  0xb0f\n",
    "]\n",
    "\n",
    "ptc.spi(TDC,CONN,CHIP,black_settings_pt15_g1_thr127)\n",
    "    \n",
    "print(\"done\")\n",
    "\n",
    "#   #set_threshold(TDC,CONN,CHIP,thresh)\n",
    "  \n",
    "#   board_info = db.find_board_by_tdc_connector(TDC,CONN)\n",
    "#   board_name = board_info[\"name\"] \n",
    "#   board_channels = board_info[\"channels\"] \n",
    "#   calib = db.get_calib_json_by_name(board_name)\n",
    "  \n",
    "#   if (\"baselines\" in calib):\n",
    "#     board_baselines = calib[\"baselines\"]\n",
    "#     channels = board_channels[0:9]\n",
    "#     values   = board_baselines[0:9]\n",
    "#     if CHIP == 1:\n",
    "#       channels = board_channels[8:17]\n",
    "#       values   = board_baselines[8:17]\n",
    "#     set_all_baselines(TDC,channels,values)\n",
    "#   set_threshold(TDC,CONN,CHIP,thresh)\n",
    "#   return\n",
    "\n",
    "#   # send all at once\n",
    "#   spi_queue = 0\n",
    "#   spi(TDC,CONN,CHIP,[])\n",
    "  "
   ]
  },
  {
   "cell_type": "code",
   "execution_count": null,
   "id": "racial-korea",
   "metadata": {},
   "outputs": [],
   "source": [
    "import os\n",
    "\n",
    "# os.system(\"trbcmd w 0xc035 0xa13f 0x00000030\")  # trg_input_mux1: input=itc[10]\n",
    "# os.system(\"trbcmd w 0xc035 0xa101 0xffff0010\")  # trg_channel_mask: edge=1111 1111 1111 1111, mask=0000 0000 0001 0000\n",
    "# os.system(\"trbcmd w 0xc035 0xa125 0x0000000f\")  # trg_input_config1: delay=15, invert=false, override=off, spike_rej=0"
   ]
  },
  {
   "cell_type": "code",
   "execution_count": null,
   "id": "appreciated-coupon",
   "metadata": {},
   "outputs": [],
   "source": [
    "# activate scintillator1 trigger (ch49) only:\n",
    "#os.system(\"trbcmd w 0xc035 0xa101 0xffff0400\")  # trg_channel_mask: edge=1111 1111 1111 1111, mask=0000 0100 0000 0000\n"
   ]
  }
 ],
 "metadata": {
  "kernelspec": {
   "display_name": "Python 3",
   "language": "python",
   "name": "python3"
  },
  "language_info": {
   "codemirror_mode": {
    "name": "ipython",
    "version": 3
   },
   "file_extension": ".py",
   "mimetype": "text/x-python",
   "name": "python",
   "nbconvert_exporter": "python",
   "pygments_lexer": "ipython3",
   "version": "3.6.9"
  }
 },
 "nbformat": 4,
 "nbformat_minor": 5
}
