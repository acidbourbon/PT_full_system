{
 "cells": [
  {
   "cell_type": "code",
   "execution_count": 13,
   "id": "shared-strengthening",
   "metadata": {},
   "outputs": [
    {
     "data": {
      "text/plain": [
       "0"
      ]
     },
     "execution_count": 13,
     "metadata": {},
     "output_type": "execute_result"
    }
   ],
   "source": [
    "import os\n",
    "\n",
    "os.system(\"curl http://localhost:8091/EventBuilder/HadaqCombiner/StopHldFile/execute\")"
   ]
  },
  {
   "cell_type": "code",
   "execution_count": null,
   "id": "minus-natural",
   "metadata": {},
   "outputs": [],
   "source": [
    "file=/workdir/jupyter/Cosy2021Nov_tot_data_taking_data/ID44_gain_scan_Lgadtrigger_Int2kHz_30CO2_HV1750V_ptime_10_thr_10_gain_1_boardsON_0_sr_0_srTDC_0"
   ]
  },
  {
   "cell_type": "code",
   "execution_count": 11,
   "id": "marked-investigator",
   "metadata": {},
   "outputs": [
    {
     "data": {
      "text/plain": [
       "0"
      ]
     },
     "execution_count": 11,
     "metadata": {},
     "output_type": "execute_result"
    }
   ],
   "source": [
    "os.system(\"curl http://localhost:8091/EventBuilder/HadaqCombiner/StartHldFile/execute?filename=testID-.hld\")"
   ]
  }
 ],
 "metadata": {
  "kernelspec": {
   "display_name": "Python 3",
   "language": "python",
   "name": "python3"
  },
  "language_info": {
   "codemirror_mode": {
    "name": "ipython",
    "version": 3
   },
   "file_extension": ".py",
   "mimetype": "text/x-python",
   "name": "python",
   "nbconvert_exporter": "python",
   "pygments_lexer": "ipython3",
   "version": "3.6.9"
  }
 },
 "nbformat": 4,
 "nbformat_minor": 5
}
