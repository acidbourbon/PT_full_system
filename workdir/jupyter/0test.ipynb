{
 "cells": [
  {
   "cell_type": "code",
   "execution_count": 2,
   "metadata": {
    "scrolled": false
   },
   "outputs": [
    {
     "name": "stdout",
     "output_type": "stream",
     "text": [
      "24 boards to activate, sequence of activation, boards list: \n",
      "['0110', '0030', '0029', '0017', '0016', '0011', '0009', '0021', '0014', '0003', '0022', '0026', '0025', '0027', '0002', '0101', '0004', '0006', '0028', '0008', '0005', '0108', '0105', '0106']\n",
      "24 boards to activate, sequence of activation, boards list: \n",
      "['0110', '0021', '0030', '0014', '0029', '0003', '0022', '0017', '0026', '0016', '0025', '0027', '0011', '0002', '0101', '0009', '0004', '0006', '0008', '0108', '0028', '0005', '0105', '0106']\n"
     ]
    }
   ],
   "source": [
    "from cw_pasttrec_functions import *\n",
    "name = \"0110\"\n",
    "## define sequence of boards to activate in scan.\n",
    "boards_scan_list = generate_neighbouring_FPC_board_list(name)\n",
    "boards_scan_list = generate_neighbouring_w_board_list(name)"
   ]
  }
 ],
 "metadata": {
  "kernelspec": {
   "display_name": "Python 3",
   "language": "python",
   "name": "python3"
  },
  "language_info": {
   "codemirror_mode": {
    "name": "ipython",
    "version": 3
   },
   "file_extension": ".py",
   "mimetype": "text/x-python",
   "name": "python",
   "nbconvert_exporter": "python",
   "pygments_lexer": "ipython3",
   "version": "3.6.9"
  }
 },
 "nbformat": 4,
 "nbformat_minor": 4
}
