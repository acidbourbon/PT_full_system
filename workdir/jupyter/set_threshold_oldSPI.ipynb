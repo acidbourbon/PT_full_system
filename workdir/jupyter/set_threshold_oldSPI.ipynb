{
 "cells": [
  {
   "cell_type": "code",
   "execution_count": 4,
   "id": "inclusive-cliff",
   "metadata": {},
   "outputs": [
    {
     "name": "stderr",
     "output_type": "stream",
     "text": [
      "Info in <TUnixSystem::ACLiC>: creating shared library /workdir/./second_C.so\n",
      "\n",
      " *** Break *** segmentation violation\n",
      " Generating stack trace...\n",
      " 0x00007f2a162c506a in <unknown function>\n",
      " 0x00007f2a10359ce7 in <unknown> from /trb3/rootbuild/lib/libCling.so\n",
      " 0x00007f2a1035a13f in cling::Interpreter::EvaluateInternal(std::__cxx11::basic_string<char, std::char_traits<char>, std::allocator<char> > const&, cling::CompilationOptions, cling::Value*, cling::Transaction**, unsigned long) + 0x1df from /trb3/rootbuild/lib/libCling.so\n",
      " 0x00007f2a104113c1 in cling::MetaSema::actOnxCommand(llvm::StringRef, llvm::StringRef, cling::Value*) + 0x591 from /trb3/rootbuild/lib/libCling.so\n",
      " 0x00007f2a10421257 in cling::MetaParser::isXCommand(cling::MetaSema::ActionResult&, cling::Value*) + 0x177 from /trb3/rootbuild/lib/libCling.so\n",
      " 0x00007f2a104224c6 in cling::MetaParser::isCommand(cling::MetaSema::ActionResult&, cling::Value*) + 0xa6 from /trb3/rootbuild/lib/libCling.so\n",
      " 0x00007f2a1040a81b in cling::MetaProcessor::process(llvm::StringRef, cling::Interpreter::CompilationResult&, cling::Value*, bool) + 0x10b from /trb3/rootbuild/lib/libCling.so\n",
      " 0x00007f2a102afb3e in <unknown> from /trb3/rootbuild/lib/libCling.so\n",
      " 0x00007f2a102c4eb2 in <unknown> from /trb3/rootbuild/lib/libCling.so\n",
      " 0x00007f2a102b6f47 in <unknown> from /trb3/rootbuild/lib/libCling.so\n",
      " 0x00007f2a159bdab8 in TApplication::ExecuteFile(char const*, int*, bool) at /trb3/root-6.14.04/core/base/src/TApplication.cxx:1151 from /trb3/rootbuild/lib/libCore.so\n",
      " 0x00007f2a159bd255 in TApplication::ProcessLine(char const*, bool, int*) at /trb3/root-6.14.04/core/base/src/TApplication.cxx:1002 from /trb3/rootbuild/lib/libCore.so\n",
      " 0x00007f2a15e88722 in TRint::ProcessLineNr(char const*, char const*, int*) at /trb3/root-6.14.04/core/rint/src/TRint.cxx:757 from /trb3/rootbuild/lib/libRint.so\n",
      " 0x00007f2a15e89fd8 in TRint::Run(bool) at /trb3/root-6.14.04/core/rint/src/TRint.cxx:416 from /trb3/rootbuild/lib/libRint.so\n",
      " 0x000055745ca009fc in <unknown> from /trb3/rootbuild/bin/root.exe\n",
      " 0x00007f2a14e41b97 in __libc_start_main + 0xe7 from /lib/x86_64-linux-gnu/libc.so.6\n",
      " 0x000055745ca00a5a in _start + 0x2a from /trb3/rootbuild/bin/root.exe\n",
      "\n",
      " *** Break *** segmentation violation\n",
      " Generating stack trace...\n"
     ]
    }
   ],
   "source": [
    "import tdc_daq as tdc\n",
    "tdc.record_tree_data(1000)\n",
    "#tdc.calib_t1_offsets_of_board(\"80111\")"
   ]
  },
  {
   "cell_type": "code",
   "execution_count": null,
   "id": "specified-astrology",
   "metadata": {},
   "outputs": [],
   "source": [
    "import pasttrec_ctrl_backup as ptc\n",
    "board = \"80023\"\n",
    "ptc.init_board_by_name(board, 10, 4, 2)\n",
    "ptc.set_threshold_for_board_by_name(board,5)\n",
    "\n",
    "import fst as fst\n",
    "fst.take_data(time=300)\n",
    "data_file = \"/workdir/joint_tree.root\"\n",
    "print(data_file)\n",
    "import ROOT\n",
    "f = ROOT.TFile(\"{:s}\".format(data_file))\n",
    "#f = ROOT.TFile(\"{:s}\".format(\"/workdir/tree_out.root\"))    \n",
    "tree = f.Get(\"joint_tree\")\n",
    "#tree = f.Get(\"TDC_1800\")\n",
    "#print(\"data entries: \" + str(tree.GetEntries()))\n",
    "## plot data:\n",
    "clist = ROOT.TCanvas(\"myCanvasName\"+str(1),str(data_file),1600,600)\n",
    "clist.Divide(2,1)\n",
    "clist.cd(1)    \n",
    "#tree.Draw(\"tot>>htot(300,0,300)\",\"chan > 150300 && chan < 150316\")\n",
    "#tree.Draw(\"tot>>htot2(300,0,300)\",\"chan > 035300 && chan < 035316\",\"same\")   \n",
    "tree.Draw(\"tot>>htot(300,0,1000)\",\"chan > 180302\") \n",
    "htot.DrawCopy(\"\")\n",
    "clist.Draw() "
   ]
  }
 ],
 "metadata": {
  "kernelspec": {
   "display_name": "Python 3",
   "language": "python",
   "name": "python3"
  },
  "language_info": {
   "codemirror_mode": {
    "name": "ipython",
    "version": 3
   },
   "file_extension": ".py",
   "mimetype": "text/x-python",
   "name": "python",
   "nbconvert_exporter": "python",
   "pygments_lexer": "ipython3",
   "version": "3.6.9"
  }
 },
 "nbformat": 4,
 "nbformat_minor": 5
}
