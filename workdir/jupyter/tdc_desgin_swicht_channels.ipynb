{
 "cells": [
  {
   "cell_type": "code",
   "execution_count": 1,
   "metadata": {},
   "outputs": [
    {
     "name": "stdout",
     "output_type": "stream",
     "text": [
      "Welcome to JupyROOT 6.14/04\n",
      "trbcmd loadbit 0x1800 0xd580 0x300 0x200\n",
      "trbcmd loadbit 0x1801 0xd580 0x300 0x200\n",
      "trbcmd loadbit 0x1802 0xd580 0x300 0x200\n",
      "trbcmd loadbit 0x1803 0xd580 0x300 0x200\n"
     ]
    },
    {
     "data": {
      "text/plain": [
       "0"
      ]
     },
     "execution_count": 1,
     "metadata": {},
     "output_type": "execute_result"
    }
   ],
   "source": [
    "import pasttrec_ctrl as ptc\n",
    "import tdc_daq as td\n",
    "import os\n",
    "TDClist = [\"0x1800\",\"0x1801\",\"0x1802\",\"0x1803\"]\n",
    "#channelswitchlist =[0,1,2,3]\n",
    "channelswitchlist =[2]\n",
    "\n",
    "for tdc in TDClist:\n",
    " for ch in channelswitchlist:\n",
    "    print(\"trbcmd loadbit {} 0xd580 0x300 0x{}00\".format(tdc, ch))\n",
    "    #select FPGA channels 0-9 to TDC channels 1-10:\n",
    "    os.system(\"trbcmd loadbit {} 0xd580 0x300 0x{}00\".format(tdc, ch))\n",
    "        #select FPGA channels 8-17 to TDC channels 1-10:\n",
    "#os.system(\"trbcmd loadbit 0x1803 0xd580 0x300 0x100\")\n",
    "        #select FPGA channels 16-25 to TDC channels 1-10:\n",
    "#os.system(\"trbcmd loadbit 0x1803 0xd580 0x300 0x200\")\n",
    "        #select FPGA channels 22-31 to TDC channels 1-10:\n",
    "#os.system(\"trbcmd loadbit 0x1803 0xd580 0x300 0x300\")\n",
    "\n",
    "#td.enable_tdc_channels_of_active_boards()\n",
    "#ptc.init_active_boards()\n",
    "\n",
    "#disable trigger rate limit, run with full rate\n",
    "os.system(\"trbcmd w 0xc035 0xa00c 0x80000014\")  # cts_throttle: enable=false, stop=false, threshold=20\n",
    "os.system(\"trbcmd clearbit 0xc035 0xa00c 0x80000000\") # Enable all triggers\n"
   ]
  },
  {
   "cell_type": "code",
   "execution_count": 18,
   "metadata": {},
   "outputs": [
    {
     "data": {
      "text/plain": [
       "0"
      ]
     },
     "execution_count": 18,
     "metadata": {},
     "output_type": "execute_result"
    }
   ],
   "source": [
    "# load Fe55 channels in DLAB 11.5.2021\n",
    "import os\n",
    "os.system(\"trbcmd loadbit {} 0xd580 0x300 0x{}00\".format(\"0x1800\", 2))\n",
    "os.system(\"trbcmd loadbit {} 0xd580 0x300 0x{}00\".format(\"0x1803\", 0))\n",
    "# COSY May2021 beam position:\n",
    "os.system(\"trbcmd loadbit {} 0xd580 0x300 0x{}00\".format(\"0x1801\", 0))\n",
    "os.system(\"trbcmd loadbit {} 0xd580 0x300 0x{}00\".format(\"0x1802\", 2))"
   ]
  },
  {
   "cell_type": "code",
   "execution_count": 3,
   "metadata": {},
   "outputs": [
    {
     "data": {
      "text/plain": [
       "0"
      ]
     },
     "execution_count": 3,
     "metadata": {},
     "output_type": "execute_result"
    }
   ],
   "source": [
    "#Set coinicedence of 2 scintillator trigger:\n",
    "import os\n",
    "# configure Coincidenc logic: channels 48 (0x30) & 49  (0x31)\n",
    "os.system(\"trbcmd w  0x0350 0xdf40  0x80003130\")\n",
    "# set output channel of coincidence signal :\n",
    "os.system(\"trbcmd w  0x0350 0xdf34  0x20000\")\n",
    "# set coincidence signal to trigger input FPGA Inputs1\n",
    "os.system(\"trbcmd w 0xc035 0xa150 0x00000004\")  # trg_periph_config1: mask=0000 0000 0000 0000 0100\n",
    "# activate coincidence trigger only:\n",
    "os.system(\"trbcmd w 0xc035 0xa101 0xffff0800\")\n",
    "# activate scintillator1 trigger (ch49) only:\n",
    "#os.system(\"trbcmd w 0xc035 0xa101 0xffff0400\")  # trg_channel_mask: edge=1111 1111 1111 1111, mask=0000 0100 0000 0000"
   ]
  },
  {
   "cell_type": "code",
   "execution_count": 4,
   "metadata": {},
   "outputs": [],
   "source": [
    "#os.system(\"/workdir/tock86.sh\")\n",
    "#print(time)"
   ]
  }
 ],
 "metadata": {
  "kernelspec": {
   "display_name": "Python 3",
   "language": "python",
   "name": "python3"
  },
  "language_info": {
   "codemirror_mode": {
    "name": "ipython",
    "version": 3
   },
   "file_extension": ".py",
   "mimetype": "text/x-python",
   "name": "python",
   "nbconvert_exporter": "python",
   "pygments_lexer": "ipython3",
   "version": "3.6.9"
  }
 },
 "nbformat": 4,
 "nbformat_minor": 4
}
