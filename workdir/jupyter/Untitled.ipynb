{
 "cells": [
  {
   "cell_type": "code",
   "execution_count": 4,
   "metadata": {},
   "outputs": [
    {
     "name": "stdout",
     "output_type": "stream",
     "text": [
      "dumping data of board: 4000\n",
      "root fitting\n",
      "0\n"
     ]
    },
    {
     "name": "stderr",
     "output_type": "stream",
     "text": [
      "Warning in <TCanvas::Constructor>: Deleting canvas with same name: cscan\n"
     ]
    }
   ],
   "source": [
    "import db\n",
    "\n",
    "name = \"4000\"\n",
    "#save to root file \n",
    "\n",
    "\n",
    "data_output_dicrectory=\"/workdir/data/pasttrec_quality\"\n",
    "root_name = data_output_dicrectory + \"/noise_\" + name + \".root\"   \n",
    "db.dump_db_to_root_board(root_name,\"4000\")\n",
    "# analyse/fit results noise dpendence:\n",
    "gif_out_list = []\n",
    "\n",
    "import root_fit as fit\n",
    "import os.path\n",
    "import ROOT\n",
    "\n",
    "# threshold scan scurve fit quality limit to store results\n",
    "chisquare_limit = 50\n",
    "n_channels = 1\n",
    "# clear older fit plots\n",
    "fit_dir = data_output_dicrectory + \"/fit\"\n",
    "if not os.path.isdir(fit_dir):\n",
    "        os.mkdir(fit_dir)\n",
    "else:\n",
    "    os.system(\"rm -rf {:s}/*\".format(fit_dir))\n",
    "gif_out_list += [fit_dir]    \n",
    "if os.path.isfile(root_name):\n",
    "    print(\"root fitting\")               \n",
    "    f = ROOT.TFile(root_name)\n",
    "    cscan = ROOT.TCanvas(\"cscan\",\"The Canvas Title\",640,480); cscan.cd();\n",
    "    dummy_tsbl_tree = f.Get(\"dummy_tsbl_tree\")\n",
    "    for i in range(0,n_channels):\n",
    "        \n",
    "       ndata = dummy_tsbl_tree.Draw(\"dummy_calib_tsbl_scan_raw>>raw_scan(140,-10,130)\",\"name == \" + name  + \" && wires == \" + str(i)  )\n",
    "       #data = dummy_tsbl_tree.Draw(\"dummy_calib_tsbl_scan_raw>>raw_scan(140,-10,130)\",\"name == \" + name + \" && wires == \" + str(i) + \" && layer == \" + str(0)   )\n",
    "       #ndata = dummy_tsbl_tree.Draw(\"dummy_calib_tsbl_scan_raw>>raw_scan(140,-10,130)\",\"\") \n",
    "        #\"name == \" + name   )    \n",
    "       print(i)      \n",
    "       if (ndata > 0): \n",
    "\n",
    "               raw_scan = f.Get(\"raw_scan\")\n",
    "               \n",
    "               results = fit.fit_scurve(raw_scan,0, chisquare_limit)\n",
    "\n",
    "               raw_scan.DrawCopy()\n",
    "               cscan.Draw()\n",
    "               cscan.Update()\n",
    "               fit_picture_file = fit_dir+\"/noiseFit_channel{:03d}\".format(i) +\".png\"\n",
    "               cscan.SaveAs(fit_picture_file)\n",
    "\n",
    " "
   ]
  }
 ],
 "metadata": {
  "kernelspec": {
   "display_name": "Python 3",
   "language": "python",
   "name": "python3"
  },
  "language_info": {
   "codemirror_mode": {
    "name": "ipython",
    "version": 3
   },
   "file_extension": ".py",
   "mimetype": "text/x-python",
   "name": "python",
   "nbconvert_exporter": "python",
   "pygments_lexer": "ipython3",
   "version": "3.6.9"
  }
 },
 "nbformat": 4,
 "nbformat_minor": 4
}
