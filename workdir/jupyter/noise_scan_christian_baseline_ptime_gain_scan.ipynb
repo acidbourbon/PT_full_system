{
 "cells": [
  {
   "cell_type": "code",
   "execution_count": 1,
   "metadata": {
    "scrolled": true
   },
   "outputs": [
    {
     "name": "stdout",
     "output_type": "stream",
     "text": [
      "Welcome to JupyROOT 6.14/04\n"
     ]
    }
   ],
   "source": [
    "#%matplotlib notebook  \n",
    "from matplotlib import pyplot as plt\n",
    "import numpy as np\n",
    "import pasttrec_ctrl as ptc\n",
    "import json\n",
    "import sigproc_kit\n",
    "import tdc_daq as td\n",
    "import baseline_calib\n",
    "import ROOT\n",
    "\n",
    "from my_utils import *\n",
    "\n",
    "def fwhm(x,y):\n",
    "  dummy, t1, tot = sigproc_kit.discriminate(x,y,np.max(y)/2.,0,0)\n",
    "  return tot\n",
    "\n",
    "def hist_rms(x,y):\n",
    "  counts = np.sum(y)\n",
    "  weights = y / counts\n",
    "  mean = np.dot(x,weights)\n",
    "  deviations = x - mean\n",
    "  return np.sqrt(  np.dot(deviations**2,weights)   )\n",
    "def list_rms(x):\n",
    "  mean = sum(x)/len(x)\n",
    "  deviations = x - mean\n",
    "  return np.sqrt(  sum(deviations**2) /len(x)  )\n",
    "def list_mean(x):\n",
    "  mean = sum(x)/len(x)\n",
    "  return mean"
   ]
  },
  {
   "cell_type": "code",
   "execution_count": 2,
   "metadata": {
    "scrolled": true
   },
   "outputs": [],
   "source": [
    "#db.board_list()\n",
    "import tdc_daq as td\n",
    "import matplotlib.pyplot as plt\n",
    "import time\n",
    "import db\n",
    "\n",
    "#set all boards to standby\n",
    "for my_board in db.board_list():\n",
    "      db.set_standby_board(my_board)\n",
    "      ptc.set_threshold_for_board_by_name(my_board,127)\n",
    "      db.disable_board(my_board)\n"
   ]
  },
  {
   "cell_type": "code",
   "execution_count": 3,
   "metadata": {
    "scrolled": false
   },
   "outputs": [
    {
     "name": "stdout",
     "output_type": "stream",
     "text": [
      "------------------- n\\ peaking time =  10 , gain =  1\n"
     ]
    },
    {
     "data": {
      "image/png": "[encoded data removed]",
      "text/plain": [
       "<matplotlib.figure.Figure at 0x7f233e9cc978>"
      ]
     },
     "metadata": {
      "needs_background": "light"
     },
     "output_type": "display_data"
    },
    {
     "name": "stdout",
     "output_type": "stream",
     "text": [
      "0101 average(16chan) noise thresh: mean =  25.982  +-  0.0   |  RMS  =  15.109  +-  0.0\n"
     ]
    },
    {
     "ename": "KeyError",
     "evalue": "49201",
     "output_type": "error",
     "traceback": [
      "\u001b[0;31m---------------------------------------------------------------------------\u001b[0m",
      "\u001b[0;31mKeyError\u001b[0m                                  Traceback (most recent call last)",
      "\u001b[0;32m<ipython-input-3-070e7b9d34c5>\u001b[0m in \u001b[0;36m<module>\u001b[0;34m\u001b[0m\n\u001b[1;32m     54\u001b[0m     \u001b[0mtrendtime_list\u001b[0m \u001b[0;34m+=\u001b[0m \u001b[0;34m[\u001b[0m \u001b[0mname\u001b[0m \u001b[0;34m]\u001b[0m\u001b[0;34m\u001b[0m\u001b[0;34m\u001b[0m\u001b[0m\n\u001b[1;32m     55\u001b[0m     \u001b[0mptc\u001b[0m\u001b[0;34m.\u001b[0m\u001b[0minit_boards_by_name\u001b[0m\u001b[0;34m(\u001b[0m\u001b[0mused_boards\u001b[0m\u001b[0;34m,\u001b[0m \u001b[0mptime\u001b[0m\u001b[0;34m,\u001b[0m \u001b[0mpt_gain\u001b[0m\u001b[0;34m)\u001b[0m\u001b[0;34m\u001b[0m\u001b[0;34m\u001b[0m\u001b[0m\n\u001b[0;32m---> 56\u001b[0;31m     \u001b[0mbaseline_calib\u001b[0m\u001b[0;34m.\u001b[0m\u001b[0mchar_noise_by_thresh_scan\u001b[0m\u001b[0;34m(\u001b[0m\u001b[0mname\u001b[0m\u001b[0;34m,\u001b[0m\u001b[0mdummy_calib\u001b[0m\u001b[0;34m=\u001b[0m\u001b[0;32mTrue\u001b[0m\u001b[0;34m)\u001b[0m\u001b[0;34m\u001b[0m\u001b[0;34m\u001b[0m\u001b[0m\n\u001b[0m\u001b[1;32m     57\u001b[0m     \u001b[0mcalib\u001b[0m       \u001b[0;34m=\u001b[0m \u001b[0mdb\u001b[0m\u001b[0;34m.\u001b[0m\u001b[0mget_calib_json_by_name\u001b[0m\u001b[0;34m(\u001b[0m\u001b[0mname\u001b[0m\u001b[0;34m)\u001b[0m\u001b[0;34m\u001b[0m\u001b[0;34m\u001b[0m\u001b[0m\n\u001b[1;32m     58\u001b[0m     \u001b[0mdummy_calib\u001b[0m \u001b[0;34m=\u001b[0m \u001b[0mdb\u001b[0m\u001b[0;34m.\u001b[0m\u001b[0mget_calib_json_by_name\u001b[0m\u001b[0;34m(\u001b[0m\u001b[0mname\u001b[0m\u001b[0;34m,\u001b[0m\u001b[0mdummy_calib\u001b[0m\u001b[0;34m=\u001b[0m\u001b[0;32mTrue\u001b[0m\u001b[0;34m)\u001b[0m\u001b[0;34m\u001b[0m\u001b[0;34m\u001b[0m\u001b[0m\n",
      "\u001b[0;32m~/python_modules/baseline_calib.py\u001b[0m in \u001b[0;36mchar_noise_by_thresh_scan\u001b[0;34m(board_name, **kwargs)\u001b[0m\n\u001b[1;32m     30\u001b[0m \u001b[0;34m\u001b[0m\u001b[0m\n\u001b[1;32m     31\u001b[0m \u001b[0;34m\u001b[0m\u001b[0m\n\u001b[0;32m---> 32\u001b[0;31m   \u001b[0mx\u001b[0m\u001b[0;34m,\u001b[0m \u001b[0mmatrix\u001b[0m \u001b[0;34m=\u001b[0m \u001b[0mthreshold_noise_scan\u001b[0m\u001b[0;34m(\u001b[0m\u001b[0mboard_name\u001b[0m\u001b[0;34m)\u001b[0m\u001b[0;34m\u001b[0m\u001b[0;34m\u001b[0m\u001b[0m\n\u001b[0m\u001b[1;32m     33\u001b[0m \u001b[0;34m\u001b[0m\u001b[0m\n\u001b[1;32m     34\u001b[0m   \u001b[0mdata\u001b[0m \u001b[0;34m=\u001b[0m \u001b[0mnp\u001b[0m\u001b[0;34m.\u001b[0m\u001b[0marray\u001b[0m\u001b[0;34m(\u001b[0m\u001b[0mmatrix\u001b[0m\u001b[0;34m)\u001b[0m\u001b[0;34m\u001b[0m\u001b[0;34m\u001b[0m\u001b[0m\n",
      "\u001b[0;32m~/python_modules/baseline_calib.py\u001b[0m in \u001b[0;36mthreshold_noise_scan\u001b[0;34m(board_name)\u001b[0m\n\u001b[1;32m    167\u001b[0m     \u001b[0;31m#print( \"threshold scan of board \"+board_name )\u001b[0m\u001b[0;34m\u001b[0m\u001b[0;34m\u001b[0m\u001b[0;34m\u001b[0m\u001b[0m\n\u001b[1;32m    168\u001b[0m     \u001b[0mptc\u001b[0m\u001b[0;34m.\u001b[0m\u001b[0mset_threshold_for_board\u001b[0m\u001b[0;34m(\u001b[0m\u001b[0mTDC\u001b[0m\u001b[0;34m,\u001b[0m\u001b[0mconnector\u001b[0m\u001b[0;34m,\u001b[0m\u001b[0mi\u001b[0m\u001b[0;34m)\u001b[0m\u001b[0;34m\u001b[0m\u001b[0;34m\u001b[0m\u001b[0m\n\u001b[0;32m--> 169\u001b[0;31m     \u001b[0mrates\u001b[0m \u001b[0;34m=\u001b[0m \u001b[0mtdc_daq\u001b[0m\u001b[0;34m.\u001b[0m\u001b[0mscaler_rate\u001b[0m\u001b[0;34m(\u001b[0m\u001b[0mTDC\u001b[0m\u001b[0;34m,\u001b[0m\u001b[0mchannels\u001b[0m\u001b[0;34m,\u001b[0m\u001b[0mscan_time\u001b[0m\u001b[0;34m)\u001b[0m\u001b[0;34m\u001b[0m\u001b[0;34m\u001b[0m\u001b[0m\n\u001b[0m\u001b[1;32m    170\u001b[0m     \u001b[0;31m#print( \"rates\" )\u001b[0m\u001b[0;34m\u001b[0m\u001b[0;34m\u001b[0m\u001b[0;34m\u001b[0m\u001b[0m\n\u001b[1;32m    171\u001b[0m     \u001b[0;31m#print( rates )\u001b[0m\u001b[0;34m\u001b[0m\u001b[0;34m\u001b[0m\u001b[0;34m\u001b[0m\u001b[0m\n",
      "\u001b[0;32m~/python_modules/tdc_daq.py\u001b[0m in \u001b[0;36mscaler_rate\u001b[0;34m(TDC, channels, time)\u001b[0m\n\u001b[1;32m     63\u001b[0m \u001b[0;34m\u001b[0m\u001b[0m\n\u001b[1;32m     64\u001b[0m \u001b[0;32mdef\u001b[0m \u001b[0mscaler_rate\u001b[0m\u001b[0;34m(\u001b[0m\u001b[0mTDC\u001b[0m\u001b[0;34m,\u001b[0m\u001b[0mchannels\u001b[0m\u001b[0;34m,\u001b[0m\u001b[0mtime\u001b[0m\u001b[0;34m)\u001b[0m\u001b[0;34m:\u001b[0m\u001b[0;34m\u001b[0m\u001b[0;34m\u001b[0m\u001b[0m\n\u001b[0;32m---> 65\u001b[0;31m   \u001b[0ma\u001b[0m \u001b[0;34m=\u001b[0m \u001b[0mnp\u001b[0m\u001b[0;34m.\u001b[0m\u001b[0marray\u001b[0m\u001b[0;34m(\u001b[0m\u001b[0mread_scalers\u001b[0m\u001b[0;34m(\u001b[0m\u001b[0mTDC\u001b[0m\u001b[0;34m,\u001b[0m\u001b[0mchannels\u001b[0m\u001b[0;34m)\u001b[0m\u001b[0;34m)\u001b[0m\u001b[0;34m\u001b[0m\u001b[0;34m\u001b[0m\u001b[0m\n\u001b[0m\u001b[1;32m     66\u001b[0m   \u001b[0msleep\u001b[0m\u001b[0;34m(\u001b[0m\u001b[0mtime\u001b[0m\u001b[0;34m)\u001b[0m\u001b[0;34m\u001b[0m\u001b[0;34m\u001b[0m\u001b[0m\n\u001b[1;32m     67\u001b[0m   \u001b[0mb\u001b[0m \u001b[0;34m=\u001b[0m \u001b[0mnp\u001b[0m\u001b[0;34m.\u001b[0m\u001b[0marray\u001b[0m\u001b[0;34m(\u001b[0m\u001b[0mread_scalers\u001b[0m\u001b[0;34m(\u001b[0m\u001b[0mTDC\u001b[0m\u001b[0;34m,\u001b[0m\u001b[0mchannels\u001b[0m\u001b[0;34m)\u001b[0m\u001b[0;34m)\u001b[0m\u001b[0;34m\u001b[0m\u001b[0;34m\u001b[0m\u001b[0m\n",
      "\u001b[0;32m~/python_modules/tdc_daq.py\u001b[0m in \u001b[0;36mread_scalers\u001b[0;34m(TDC, channels)\u001b[0m\n\u001b[1;32m     40\u001b[0m   \u001b[0;32mfor\u001b[0m \u001b[0mch\u001b[0m \u001b[0;32min\u001b[0m \u001b[0mchannels\u001b[0m\u001b[0;34m:\u001b[0m\u001b[0;34m\u001b[0m\u001b[0;34m\u001b[0m\u001b[0m\n\u001b[1;32m     41\u001b[0m     \u001b[0;31m# mask out first bit, because it is the input state\u001b[0m\u001b[0;34m\u001b[0m\u001b[0;34m\u001b[0m\u001b[0;34m\u001b[0m\u001b[0m\n\u001b[0;32m---> 42\u001b[0;31m     \u001b[0mreturn_vals\u001b[0m\u001b[0;34m[\u001b[0m\u001b[0mindex\u001b[0m\u001b[0;34m]\u001b[0m \u001b[0;34m=\u001b[0m \u001b[0mvalues\u001b[0m\u001b[0;34m[\u001b[0m\u001b[0mch\u001b[0m \u001b[0;34m+\u001b[0m \u001b[0;36m0xc001\u001b[0m\u001b[0;34m]\u001b[0m \u001b[0;34m&\u001b[0m \u001b[0;36m0x7fffffff\u001b[0m\u001b[0;34m\u001b[0m\u001b[0;34m\u001b[0m\u001b[0m\n\u001b[0m\u001b[1;32m     43\u001b[0m     \u001b[0mindex\u001b[0m \u001b[0;34m+=\u001b[0m \u001b[0;36m1\u001b[0m\u001b[0;34m\u001b[0m\u001b[0;34m\u001b[0m\u001b[0m\n\u001b[1;32m     44\u001b[0m \u001b[0;34m\u001b[0m\u001b[0m\n",
      "\u001b[0;31mKeyError\u001b[0m: 49201"
     ]
    },
    {
     "name": "stderr",
     "output_type": "stream",
     "text": [
      ">WARNING: Status-Bit(s) have been set:\n",
      ">WARNING: CommonStatusBits: 0x0000, Channel#3 StatusBits: 0x0000\n",
      ">WARNING:    COM_EndpointReached: no endpoint has been reached\n",
      ">WARNING: Status-Bit(s) have been set:\n",
      ">WARNING: CommonStatusBits: 0x0000, Channel#3 StatusBits: 0x0000\n",
      ">WARNING:    COM_EndpointReached: no endpoint has been reached\n",
      ">WARNING: Status-Bit(s) have been set:\n",
      ">WARNING: CommonStatusBits: 0x0000, Channel#3 StatusBits: 0x0000\n",
      ">WARNING:    COM_EndpointReached: no endpoint has been reached\n",
      ">WARNING: Status-Bit(s) have been set:\n",
      ">WARNING: CommonStatusBits: 0x0000, Channel#3 StatusBits: 0x0000\n",
      ">WARNING:    COM_EndpointReached: no endpoint has been reached\n",
      ">WARNING: Status-Bit(s) have been set:\n",
      ">WARNING: CommonStatusBits: 0x0000, Channel#3 StatusBits: 0x0000\n",
      ">WARNING:    COM_EndpointReached: no endpoint has been reached\n",
      ">WARNING: Status-Bit(s) have been set:\n",
      ">WARNING: CommonStatusBits: 0x0000, Channel#3 StatusBits: 0x0000\n",
      ">WARNING:    COM_EndpointReached: no endpoint has been reached\n",
      ">WARNING: Status-Bit(s) have been set:\n",
      ">WARNING: CommonStatusBits: 0x0000, Channel#3 StatusBits: 0x0000\n",
      ">WARNING:    COM_EndpointReached: no endpoint has been reached\n",
      ">WARNING: Status-Bit(s) have been set:\n",
      ">WARNING: CommonStatusBits: 0x0000, Channel#3 StatusBits: 0x0000\n",
      ">WARNING:    COM_EndpointReached: no endpoint has been reached\n",
      ">WARNING: Status-Bit(s) have been set:\n",
      ">WARNING: CommonStatusBits: 0x0000, Channel#3 StatusBits: 0x0000\n",
      ">WARNING:    COM_EndpointReached: no endpoint has been reached\n",
      ">WARNING: Status-Bit(s) have been set:\n",
      ">WARNING: CommonStatusBits: 0x0000, Channel#3 StatusBits: 0x0000\n",
      ">WARNING:    COM_EndpointReached: no endpoint has been reached\n",
      ">WARNING: Status-Bit(s) have been set:\n",
      ">WARNING: CommonStatusBits: 0x0000, Channel#3 StatusBits: 0x0000\n",
      ">WARNING:    COM_EndpointReached: no endpoint has been reached\n",
      ">WARNING: Status-Bit(s) have been set:\n",
      ">WARNING: CommonStatusBits: 0x0000, Channel#3 StatusBits: 0x0000\n",
      ">WARNING:    COM_EndpointReached: no endpoint has been reached\n",
      ">WARNING: Status-Bits are active:\n",
      ">WARNING: CommonStatusBits: 0x0000, Channel#3 StatusBits: 0x0000\n",
      ">WARNING:    COM_EndpointReached: no endpoint has been reached\n"
     ]
    }
   ],
   "source": [
    "## scan threshold of all boar\n",
    "from functools import (reduce)\n",
    "from math import (sqrt)\n",
    "import numpy as np\n",
    "import time\n",
    "import tdc_daq as td\n",
    "import matplotlib.pyplot as plt\n",
    "\n",
    "# rootMeanSquare :: [Num] -> Float\n",
    "def rootMeanSquare(xs):\n",
    "    return sqrt(reduce(lambda a, x: a + x * x, xs, 0) / len(xs))\n",
    "def MeanArrays(xs,ys):\n",
    "    return np.dot(xs,ys)/sum(ys)\n",
    "\n",
    "ptime_list = [ 10, 15, 20 ]\n",
    "# ptime_list = [ 15 ]\n",
    "pt_gain_list = [ 1, 2, 4 ]\n",
    "# pt_gain_list = [4]  \n",
    "\n",
    "#for my_board in db.board_list():\n",
    "#  db.unset_standby_board(my_board) #name = \"0029\" #PASSTEC board id (inside )\n",
    "\n",
    "#used_boards = [ \"0005\", \"0017\", \"0014\", \"0025\" ]\n",
    "#used_boards = [ \"0101\", \"0102\", \"0103\", \"0010\" , \"0009\", \"0004\", \"0025\"]\n",
    "used_boards = [\"0101\", \"0010\"]\n",
    "#, \"0010\", \"0102\", \"0103\"]\n",
    "n_scan_steps = len(ptime_list)*len(pt_gain_list)\n",
    "\n",
    "plt.rcParams[\"figure.figsize\"] = (8,5)\n",
    "trendtime_list = []\n",
    "rmsAverageTrend_list = []\n",
    "rmsAverageTrendError_list = []\n",
    "meanAverageTrend_list = []\n",
    "meanAverageTrendError_list = []\n",
    "\n",
    "scaler_list_channel = [[[] for i in range(n_scan_steps) ]  for i in range(16)] \n",
    "\n",
    "scan_step = -1\n",
    "\n",
    "for ptime in ptime_list: \n",
    " for pt_gain in pt_gain_list:     \n",
    "   scan_step += 1 \n",
    "   print(\"------------------- n\\ peaking time = \", ptime, \", gain = \", pt_gain)\n",
    "   for name in used_boards: \n",
    "    #if name == \"0013\" or name == \"0018\":\n",
    "    #  continue\n",
    "    for my_board in db.board_list():\n",
    "      db.set_standby_board(my_board)\n",
    "    db.unset_standby_board(name)\n",
    "    td.enable_tdc_channels_of_active_boards()\n",
    "    ptc.init_active_boards()\n",
    "   \n",
    "    #time.sleep(60)\n",
    "    trendtime_list += [ name ]\n",
    "    ptc.init_boards_by_name(used_boards, ptime, pt_gain)   \n",
    "    #threshold scan:\n",
    "    #baseline_calib.char_noise_by_thresh_scan(name,dummy_calib=True)\n",
    "    #baseline scan:\n",
    "    baseline_calib_by_noise(board_name, dummy_calib=True) \n",
    "        \n",
    "    calib       = db.get_calib_json_by_name(name)\n",
    "    dummy_calib = db.get_calib_json_by_name(name,dummy_calib=True)\n",
    "    board_info  = db.find_board_by_name(name)\n",
    "\n",
    "    #print(json.dumps(dummy_calib,indent=2, sort_keys=True))\n",
    "    tsbl_scan_raw = dummy_calib[\"tsbl_scan_raw\"]\n",
    "    tsbl_range    = dummy_calib[\"tsbl_range\"]\n",
    "\n",
    "    scaler_list = []\n",
    "    scaler_list = td.scaler_rate_of_board(name,0.2)\n",
    "    \n",
    "\n",
    "    for i in range(0,16):\n",
    "     plt.scatter(tsbl_range,tsbl_scan_raw[i],alpha=0.2,label = \"{:d}\".format(i))\n",
    "\n",
    "     plt.legend()\n",
    "     plt.xlabel(\"threshold (at maximum baseline setting)\")\n",
    "     plt.ylabel(\"mean pulse rate (Hz)\")\n",
    "     #plt.yscale('log') \n",
    "    plt.show()\n",
    "\n",
    "    fwhm_list = []\n",
    "    max_list  = []\n",
    "    rms_list = []\n",
    "    mean_list = []\n",
    "    for i in range(0,16):\n",
    "      fwhm_list += [ fwhm(tsbl_range,tsbl_scan_raw[i]) ]\n",
    "      rms_list += [ hist_rms(tsbl_range,tsbl_scan_raw[i]) ]\n",
    "      mean_list += [ MeanArrays(tsbl_range,tsbl_scan_raw[i]) ]  \n",
    "      max_list  += [ np.max(tsbl_scan_raw[i])  ]\n",
    "      scaler_list_channel[i][scan_step] = tsbl_scan_raw[i] \n",
    "\n",
    "    fwhm_list = np.array(fwhm_list)\n",
    "    max_list  = np.array(max_list)\n",
    "    \n",
    "    print(name, \"average(16chan) noise thresh: mean = \", round(sum(mean_list)/len(mean_list),3), \" +- \", round(list_rms(mean_list),3), \"  |  RMS  = \", round(sum(rms_list)/len(rms_list),3), \" +- \", round(list_rms(rms_list),3) )\n",
    "\n",
    "    meanAverageTrend_list += [ sum(mean_list)/len(mean_list) ]\n",
    "    meanAverageTrendError_list += [ list_rms(mean_list) ]\n",
    "    rmsAverageTrend_list += [ sum(rms_list)/len(rms_list) ]\n",
    "    rmsAverageTrendError_list += [ list_rms(rms_list) ]    \n",
    "for ch in range(0,16):\n",
    "    print(\"channel : \",ch)\n",
    "    for i in range(0,len(scaler_list_channel[ch])):\n",
    "     plt.scatter(tsbl_range,scaler_list_channel[ch][i],alpha=0.2,label = \"{:d}\".format(baseline[i]))\n",
    "\n",
    "     plt.legend()\n",
    "     plt.xlabel(\"threshold (at maximum baseline setting)\")\n",
    "     plt.ylabel(\"mean pulse rate (Hz)\")\n",
    "     #plt.yscale('log') \n",
    "    plt.show()\n",
    "#     plt.scatter(list(range(0,16)), mean_list)\n",
    "#     plt.xlabel(\"channel no\")\n",
    "#     plt.ylabel(\"mean\")\n",
    "#     plt.show()\n",
    "#     plt.scatter(list(range(0,16)), rms_list)\n",
    "#     plt.xlabel(\"channel no\")\n",
    "#     plt.ylabel(\"RMS\")\n",
    "#     plt.title(\"noise width (RMS)\")\n",
    "#     plt.show()\n"
   ]
  },
  {
   "cell_type": "code",
   "execution_count": null,
   "metadata": {
    "scrolled": false
   },
   "outputs": [],
   "source": [
    "plt.rcParams[\"figure.figsize\"] = (8,15)\n",
    "for ch in range(0,16):\n",
    "    print(\"channel : \",ch)\n",
    "    for i in range(0,len(scaler_list_channel[ch])):\n",
    "     nums = np.array(scaler_list_channel[ch][i])*10**(16-ch)\n",
    "     plt.scatter(tsbl_range,nums,alpha=0.2,label = \"{:d}\".format(baseline[i]))\n",
    "\n",
    "     #plt.legend()\n",
    "     plt.xlabel(\"threshold (at maximum baseline setting)\")\n",
    "     plt.ylabel(\"mean pulse rate (Hz)\")\n",
    "\n",
    "plt.yscale('log') \n",
    "plt.ylim(ymax = 1E24, ymin = 1E1)\n",
    "plt.show()"
   ]
  }
 ],
 "metadata": {
  "kernelspec": {
   "display_name": "Python 3",
   "language": "python",
   "name": "python3"
  },
  "language_info": {
   "codemirror_mode": {
    "name": "ipython",
    "version": 3
   },
   "file_extension": ".py",
   "mimetype": "text/x-python",
   "name": "python",
   "nbconvert_exporter": "python",
   "pygments_lexer": "ipython3",
   "version": "3.6.9"
  }
 },
 "nbformat": 4,
 "nbformat_minor": 2
}
