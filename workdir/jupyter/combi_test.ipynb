{
 "cells": [
  {
   "cell_type": "code",
   "execution_count": 1,
   "metadata": {},
   "outputs": [],
   "source": [
    "import hameg_trb \n",
    "import hameg_lv  \n",
    "import phidrive\n",
    "import micos_eco\n",
    "import wallplugs\n",
    "\n",
    "# scope?\n",
    "\n",
    "import time\n",
    "\n",
    "def power_cycle_usb():\n",
    "  wallplugs.a_off()\n",
    "  time.sleep(3)\n",
    "  wallplugs.a_on()\n",
    "  time.sleep(3)\n",
    "    \n",
    "def power_cycle_micos():\n",
    "  wallplugs.b_off()\n",
    "  time.sleep(3)\n",
    "  wallplugs.b_on()\n",
    "  time.sleep(6)\n",
    "  micos_eco.send_cmd(\"1 1 setaxis\")\n",
    "  micos_eco.send_cmd(\"1 2 setaxis\")\n",
    "  micos_eco.send_cmd(\"2.0 1 setpitch\")\n",
    "  micos_eco.send_cmd(\"2.0 2 setpitch\")\n",
    "  micos_eco.cal()\n",
    "  time.sleep(3)\n",
    "  print(\"micos eco pos :\")\n",
    "  print(micos_eco.pos())\n",
    "    "
   ]
  },
  {
   "cell_type": "code",
   "execution_count": 2,
   "metadata": {},
   "outputs": [],
   "source": [
    "power_cycle_usb()"
   ]
  },
  {
   "cell_type": "code",
   "execution_count": 3,
   "metadata": {},
   "outputs": [
    {
     "name": "stdout",
     "output_type": "stream",
     "text": [
      "micos eco pos :\n",
      "None\n"
     ]
    }
   ],
   "source": [
    "power_cycle_micos()"
   ]
  },
  {
   "cell_type": "code",
   "execution_count": 25,
   "metadata": {},
   "outputs": [
    {
     "name": "stdout",
     "output_type": "stream",
     "text": [
      "### test micos ###\n",
      "(100.0, 100.0, 0.0)\n",
      "\n",
      "\n",
      "### test phidrive ###\n",
      "-5.0\n",
      "\n",
      "\n",
      "### test HAMEG TRB ###\n",
      "device: /dev/ttyUSB_HAMEG_TRB\n",
      "volt 24.000000 curr 0.579900 state 1\n",
      "volt 24.000000 curr 0.579800 state 1\n",
      "volt 0.000000 curr 0.000000 state 0\n",
      "volt 1.500000 curr 0.248200 state 1\n",
      "\n",
      "\n",
      "### test HAMEG lv ###\n",
      "device: /dev/ttyUSB_HAMEG_LV\n",
      "volt 4.000000 curr 0.010900 state 1\n",
      "volt 5.000000 curr 0.347800 state 1\n",
      "volt 5.000000 curr 0.084200 state 1\n",
      "volt 0.000000 curr 0.000000 state 0\n",
      "\n",
      "\n"
     ]
    }
   ],
   "source": [
    "print(\"### test micos ###\")\n",
    "print(micos_eco.pos())\n",
    "print(\"\\n\")\n",
    "\n",
    "print(\"### test phidrive ###\")\n",
    "print(phidrive.get_angle())\n",
    "print(\"\\n\")\n",
    "\n",
    "print(\"### test HAMEG TRB ###\")\n",
    "hameg_trb.report()\n",
    "print(\"\\n\")\n",
    "\n",
    "print(\"### test HAMEG lv ###\")\n",
    "hameg_lv.report()\n",
    "print(\"\\n\")"
   ]
  },
  {
   "cell_type": "code",
   "execution_count": 20,
   "metadata": {},
   "outputs": [
    {
     "name": "stdout",
     "output_type": "stream",
     "text": [
      "okay, pos = -5.000000 deg\n"
     ]
    }
   ],
   "source": [
    "phidrive.set_angle(-5.0)"
   ]
  },
  {
   "cell_type": "code",
   "execution_count": 10,
   "metadata": {},
   "outputs": [],
   "source": [
    "micos_eco.cal()"
   ]
  },
  {
   "cell_type": "code",
   "execution_count": 26,
   "metadata": {},
   "outputs": [
    {
     "name": "stdout",
     "output_type": "stream",
     "text": [
      "(100.0, 100.0, 0.0)\n"
     ]
    }
   ],
   "source": [
    "print(micos_eco.pos())"
   ]
  },
  {
   "cell_type": "code",
   "execution_count": 24,
   "metadata": {},
   "outputs": [
    {
     "name": "stdout",
     "output_type": "stream",
     "text": [
      "(11.55559, 73.46667, 0.0)\n",
      "(15.94359, 74.78306, 0.0)\n",
      "(20.33559, 76.10066, 0.0)\n",
      "(24.73759, 77.42126, 0.0)\n",
      "(29.13959, 78.74185, 0.0)\n",
      "(33.53559, 80.06065, 0.0)\n",
      "(37.93759, 81.38125, 0.0)\n",
      "(42.31559, 82.69464, 0.0)\n",
      "(46.71559, 84.01464, 0.0)\n",
      "(51.11959, 85.33583, 0.0)\n",
      "(55.51559, 86.65463, 0.0)\n",
      "(59.90159, 87.97043, 0.0)\n",
      "(64.28959, 89.28682, 0.0)\n",
      "(68.68759, 90.60622, 0.0)\n",
      "(73.07159, 91.92142, 0.0)\n",
      "(77.47359, 93.24201, 0.0)\n",
      "(81.85559, 94.55661, 0.0)\n",
      "(86.23959, 95.8718, 0.0)\n",
      "(90.63559, 97.1906, 0.0)\n",
      "(95.04159, 98.5124, 0.0)\n",
      "(99.43142, 99.82934, 0.0)\n",
      "(100.0, 100.0, 0.0)\n",
      "done\n"
     ]
    }
   ],
   "source": [
    "micos_eco.move(y=100,x=100) ## far side\n",
    "#micos_eco.move(y=0,x=100) ## units in mm\n",
    "#micos_eco.move(y=70,x=0) ## strahlhoehe"
   ]
  }
 ],
 "metadata": {
  "kernelspec": {
   "display_name": "Python 3",
   "language": "python",
   "name": "python3"
  },
  "language_info": {
   "codemirror_mode": {
    "name": "ipython",
    "version": 3
   },
   "file_extension": ".py",
   "mimetype": "text/x-python",
   "name": "python",
   "nbconvert_exporter": "python",
   "pygments_lexer": "ipython3",
   "version": "3.6.8"
  }
 },
 "nbformat": 4,
 "nbformat_minor": 2
}
