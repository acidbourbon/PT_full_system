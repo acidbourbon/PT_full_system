{
 "cells": [
  {
   "cell_type": "code",
   "execution_count": 1,
   "metadata": {},
   "outputs": [],
   "source": [
    "import hameg_trb \n",
    "import hameg_lv  \n",
    "import phidrive\n",
    "import micos_eco\n",
    "import wallplugs\n",
    "import numpy as np \n",
    "# scope?\n",
    "\n",
    "import time\n",
    "\n",
    "def power_cycle_usb():\n",
    "  wallplugs.a_off()\n",
    "  time.sleep(3)\n",
    "  wallplugs.a_on()\n",
    "  time.sleep(3)\n",
    "    \n",
    "def power_cycle_micos():\n",
    "  wallplugs.b_off()\n",
    "  time.sleep(3)\n",
    "  wallplugs.b_on()\n",
    "  time.sleep(6)\n",
    "  micos_eco.send_cmd(\"1 1 setaxis\")\n",
    "  micos_eco.send_cmd(\"1 2 setaxis\")\n",
    "  micos_eco.send_cmd(\"2.0 1 setpitch\")\n",
    "  micos_eco.send_cmd(\"2.0 2 setpitch\")\n",
    "  micos_eco.cal()\n",
    "  time.sleep(3)\n",
    "  print(\"micos eco pos :\")\n",
    "  print(micos_eco.pos())\n",
    "    "
   ]
  },
  {
   "cell_type": "code",
   "execution_count": 2,
   "metadata": {},
   "outputs": [],
   "source": [
    "power_cycle_usb()"
   ]
  },
  {
   "cell_type": "code",
   "execution_count": 3,
   "metadata": {},
   "outputs": [
    {
     "name": "stdout",
     "output_type": "stream",
     "text": [
      "micos eco pos :\n",
      "None\n"
     ]
    }
   ],
   "source": [
    "power_cycle_micos()"
   ]
  },
  {
   "cell_type": "code",
   "execution_count": 12,
   "metadata": {},
   "outputs": [
    {
     "name": "stdout",
     "output_type": "stream",
     "text": [
      "### test micos ###\n",
      "(29.0, 41.0, 0.0)\n",
      "\n",
      "\n",
      "### test phidrive ###\n",
      "0.0\n",
      "\n",
      "\n",
      "### test HAMEG TRB ###\n",
      "device: /dev/ttyUSB_HAMEG_TRB\n",
      "volt 24.000000 curr 0.587400 state 1\n",
      "volt 24.000000 curr 0.587500 state 1\n",
      "volt 2.000000 curr 0.026500 state 1\n",
      "volt 1.500000 curr 0.246300 state 1\n",
      "\n",
      "\n",
      "### test HAMEG lv ###\n",
      "device: /dev/ttyUSB_HAMEG_LV\n",
      "volt 4.000000 curr 0.423500 state 1\n",
      "volt 5.000000 curr 0.347300 state 1\n",
      "volt 5.000000 curr 0.083800 state 1\n",
      "volt 5.000000 curr 0.000000 state 1\n",
      "\n",
      "\n"
     ]
    }
   ],
   "source": [
    "print(\"### test micos ###\")\n",
    "print(micos_eco.pos())\n",
    "print(\"\\n\")\n",
    "\n",
    "print(\"### test phidrive ###\")\n",
    "print(phidrive.get_angle())\n",
    "print(\"\\n\")\n",
    "\n",
    "print(\"### test HAMEG TRB ###\")\n",
    "hameg_trb.report()\n",
    "print(\"\\n\")\n",
    "\n",
    "print(\"### test HAMEG lv ###\")\n",
    "hameg_lv.report()\n",
    "print(\"\\n\")"
   ]
  },
  {
   "cell_type": "code",
   "execution_count": 22,
   "metadata": {},
   "outputs": [],
   "source": [
    "hameg_lv.set_state(4,1) # turn on padiwa"
   ]
  },
  {
   "cell_type": "code",
   "execution_count": 11,
   "metadata": {},
   "outputs": [
    {
     "name": "stdout",
     "output_type": "stream",
     "text": [
      "device: /dev/ttyUSB_HAMEG_LV\n",
      "volt 4.000000 curr 0.423500 state 1\n",
      "volt 5.000000 curr 0.346600 state 1\n",
      "volt 5.000000 curr 0.083800 state 1\n",
      "volt 5.000000 curr 0.000000 state 1\n"
     ]
    }
   ],
   "source": [
    "#hameg_trb.set_volt(3,2.0)\n",
    "hameg_lv.report()\n"
   ]
  },
  {
   "cell_type": "code",
   "execution_count": 33,
   "metadata": {},
   "outputs": [
    {
     "name": "stdout",
     "output_type": "stream",
     "text": [
      "okay, pos = 0.000000 deg\n"
     ]
    }
   ],
   "source": [
    "phidrive.set_angle(0)"
   ]
  },
  {
   "cell_type": "code",
   "execution_count": 41,
   "metadata": {},
   "outputs": [],
   "source": [
    "micos_eco.cal()"
   ]
  },
  {
   "cell_type": "code",
   "execution_count": 3,
   "metadata": {},
   "outputs": [
    {
     "name": "stdout",
     "output_type": "stream",
     "text": [
      "(0.0, 69.0, 0.0)\n"
     ]
    }
   ],
   "source": [
    "print(micos_eco.pos())"
   ]
  },
  {
   "cell_type": "code",
   "execution_count": 21,
   "metadata": {},
   "outputs": [
    {
     "name": "stdout",
     "output_type": "stream",
     "text": [
      "(67.44441, 64.06666, 0.0)\n",
      "(63.02041, 61.41227, 0.0)\n",
      "(58.64041, 58.78428, 0.0)\n",
      "(54.24641, 56.14788, 0.0)\n",
      "(49.86041, 53.51629, 0.0)\n",
      "(45.45241, 50.8715, 0.0)\n",
      "(41.07441, 48.2447, 0.0)\n",
      "(36.68241, 45.60951, 0.0)\n",
      "(32.30841, 42.98512, 0.0)\n",
      "(29.0, 41.0, 0.0)\n",
      "done\n"
     ]
    }
   ],
   "source": [
    "#micos_eco.move(y=100,x=100) ## far side\n",
    "#micos_eco.move(y=0,x=100) ## units in mm\n",
    "#micos_eco.move(y=70,x=0) ## strahlhoehe\n",
    "#micos_eco.move(x=78,y=70) ## approx beam pos according to Laser on Si\n",
    "#micos_eco.move(x=18,y=40) ## approx beam pos according to Laser on diamond\n",
    "\n",
    "\n",
    "# diamond\n",
    "# micos_eco.move(x=18,y=39) ## approx beam pos on diamond\n",
    "#micos_eco.move(x=79,y=71) ## move to ..\n",
    "micos_eco.move(x=79-50,y=71-30) ## move to .."
   ]
  },
  {
   "cell_type": "code",
   "execution_count": 13,
   "metadata": {},
   "outputs": [
    {
     "name": "stdout",
     "output_type": "stream",
     "text": [
      "device: /dev/ttyUSB_HAMEG_TRB\n",
      "volt 24.002000 curr 0.586500 state 1\n",
      "volt 24.001000 curr 0.586700 state 1\n",
      "volt 0.000000 curr 0.000000 state 0\n",
      "volt 1.499000 curr 0.249800 state 1\n"
     ]
    }
   ],
   "source": [
    "hameg_trb.set_state(4,1)\n",
    "hameg_trb.report()"
   ]
  }
 ],
 "metadata": {
  "kernelspec": {
   "display_name": "Python 3",
   "language": "python",
   "name": "python3"
  },
  "language_info": {
   "codemirror_mode": {
    "name": "ipython",
    "version": 3
   },
   "file_extension": ".py",
   "mimetype": "text/x-python",
   "name": "python",
   "nbconvert_exporter": "python",
   "pygments_lexer": "ipython3",
   "version": "3.6.8"
  }
 },
 "nbformat": 4,
 "nbformat_minor": 2
}
