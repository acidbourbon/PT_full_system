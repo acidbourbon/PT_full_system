{
 "cells": [
  {
   "cell_type": "code",
   "execution_count": 1,
   "metadata": {},
   "outputs": [],
   "source": [
    "import hameg_trb \n",
    "import hameg_lv  \n",
    "import phidrive\n",
    "import micos_eco\n",
    "import wallplugs"
   ]
  },
  {
   "cell_type": "code",
   "execution_count": 2,
   "metadata": {},
   "outputs": [
    {
     "name": "stdout",
     "output_type": "stream",
     "text": [
      "HAMEG TRB\n",
      "volt 24.000000 curr 1.176000 state 1\n",
      "volt 1.500000 curr 0.243500 state 1\n",
      "volt 0.000000 curr 0.000000 state 0\n",
      "volt 24.000000 curr 1.175000 state 1\n"
     ]
    }
   ],
   "source": [
    "#wallplugs.a_off()\n",
    "\n",
    "print(\"HAMEG TRB\")\n",
    "for i in range(1,5):\n",
    "  print(\"volt {:f} curr {:f} state {:d}\".format( hameg_trb.get_volt(i), hameg_trb.get_curr(i), hameg_trb.get_state(i))) "
   ]
  },
  {
   "cell_type": "code",
   "execution_count": 3,
   "metadata": {},
   "outputs": [],
   "source": [
    "hameg_trb.set_curr(3,0.5)"
   ]
  },
  {
   "cell_type": "code",
   "execution_count": 13,
   "metadata": {},
   "outputs": [],
   "source": [
    "hameg_trb.set_volt(2,1.5)\n",
    "hameg_trb.set_state(2,1)"
   ]
  },
  {
   "cell_type": "code",
   "execution_count": 9,
   "metadata": {},
   "outputs": [
    {
     "name": "stdout",
     "output_type": "stream",
     "text": [
      "phidrive angle: 5.000000\n"
     ]
    }
   ],
   "source": [
    "print(\"phidrive angle: {:f}\".format(phidrive.get_angle()))"
   ]
  },
  {
   "cell_type": "code",
   "execution_count": 8,
   "metadata": {},
   "outputs": [],
   "source": [
    "phidrive.set_angle(5)"
   ]
  },
  {
   "cell_type": "code",
   "execution_count": 6,
   "metadata": {},
   "outputs": [],
   "source": [
    "micos_eco.cal()"
   ]
  },
  {
   "cell_type": "code",
   "execution_count": 8,
   "metadata": {},
   "outputs": [
    {
     "name": "stdout",
     "output_type": "stream",
     "text": [
      "(88.36641, 88.36641, 0.0)\n",
      "(83.97041, 83.97041, 0.0)\n",
      "(79.54241, 79.54241, 0.0)\n",
      "(75.14841, 75.14841, 0.0)\n",
      "(70.74641, 70.74641, 0.0)\n",
      "(66.31841, 66.31841, 0.0)\n",
      "(61.92641, 61.92641, 0.0)\n",
      "(57.53241, 57.53241, 0.0)\n",
      "(53.10641, 53.10641, 0.0)\n",
      "(48.70441, 48.70441, 0.0)\n",
      "(44.29641, 44.29641, 0.0)\n",
      "(39.87441, 39.87441, 0.0)\n",
      "(35.46041, 35.46041, 0.0)\n",
      "(31.06241, 31.06241, 0.0)\n",
      "(26.65641, 26.65641, 0.0)\n",
      "(22.25641, 22.25641, 0.0)\n",
      "(17.86841, 17.86841, 0.0)\n",
      "(13.46441, 13.46441, 0.0)\n",
      "(9.07041, 9.07041, 0.0)\n",
      "(4.68041, 4.68041, 0.0)\n",
      "(0.30255, 0.30255, 0.0)\n",
      "(0.0, 0.0, 0.0)\n",
      "done\n"
     ]
    }
   ],
   "source": [
    "micos_eco.move(y=0,x=0)\n",
    "#micos_eco.move(x)"
   ]
  }
 ],
 "metadata": {
  "kernelspec": {
   "display_name": "Python 3",
   "language": "python",
   "name": "python3"
  },
  "language_info": {
   "codemirror_mode": {
    "name": "ipython",
    "version": 3
   },
   "file_extension": ".py",
   "mimetype": "text/x-python",
   "name": "python",
   "nbconvert_exporter": "python",
   "pygments_lexer": "ipython3",
   "version": "3.6.8"
  }
 },
 "nbformat": 4,
 "nbformat_minor": 2
}
