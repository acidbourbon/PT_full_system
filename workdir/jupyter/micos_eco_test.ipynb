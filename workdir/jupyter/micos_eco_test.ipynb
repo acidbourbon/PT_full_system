{
 "cells": [
  {
   "cell_type": "code",
   "execution_count": 2,
   "metadata": {},
   "outputs": [],
   "source": [
    "import numpy as np\n",
    "from matplotlib import pyplot as plt\n",
    "from my_utils import *\n",
    "\n",
    "import micos_eco as lstage\n"
   ]
  },
  {
   "cell_type": "code",
   "execution_count": 3,
   "metadata": {},
   "outputs": [],
   "source": [
    "lstage.cal()"
   ]
  },
  {
   "cell_type": "code",
   "execution_count": 5,
   "metadata": {},
   "outputs": [
    {
     "name": "stdout",
     "output_type": "stream",
     "text": [
      "(40.0, 11.56559, 0.0)\n",
      "(40.0, 15.96359, 0.0)\n",
      "(40.0, 20.35359, 0.0)\n",
      "(40.0, 24.76359, 0.0)\n",
      "(40.0, 29.18959, 0.0)\n",
      "(40.0, 33.58959, 0.0)\n",
      "(40.0, 37.99159, 0.0)\n",
      "(40.0, 40.0, 0.0)\n",
      "done\n"
     ]
    }
   ],
   "source": [
    "lstage.move(x=40,y=40)"
   ]
  }
 ],
 "metadata": {
  "kernelspec": {
   "display_name": "Python 3",
   "language": "python",
   "name": "python3"
  },
  "language_info": {
   "codemirror_mode": {
    "name": "ipython",
    "version": 3
   },
   "file_extension": ".py",
   "mimetype": "text/x-python",
   "name": "python",
   "nbconvert_exporter": "python",
   "pygments_lexer": "ipython3",
   "version": "3.6.9"
  }
 },
 "nbformat": 4,
 "nbformat_minor": 2
}
