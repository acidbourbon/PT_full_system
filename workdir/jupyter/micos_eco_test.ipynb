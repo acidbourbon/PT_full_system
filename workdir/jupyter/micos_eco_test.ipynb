{
 "cells": [
  {
   "cell_type": "code",
   "execution_count": 9,
   "metadata": {},
   "outputs": [],
   "source": [
    "import numpy as np\n",
    "from matplotlib import pyplot as plt\n",
    "from my_utils import *\n",
    "\n",
    "import micos_eco as lstage\n"
   ]
  },
  {
   "cell_type": "code",
   "execution_count": 10,
   "metadata": {},
   "outputs": [
    {
     "name": "stdout",
     "output_type": "stream",
     "text": [
      "(38.43041, 16.52913, 0.0)\n",
      "(34.03441, 15.21034, 0.0)\n",
      "(29.64441, 13.89334, 0.0)\n",
      "(25.24041, 12.57214, 0.0)\n",
      "(20.83641, 11.25095, 0.0)\n",
      "(16.44441, 9.93335, 0.0)\n",
      "(12.04441, 8.61335, 0.0)\n",
      "(7.64241, 7.29276, 0.0)\n",
      "(3.24441, 5.97336, 0.0)\n",
      "(0.0, 5.0, 0.0)\n",
      "done\n"
     ]
    }
   ],
   "source": [
    "lstage.move(x=0,y=5)"
   ]
  }
 ],
 "metadata": {
  "kernelspec": {
   "display_name": "Python 3",
   "language": "python",
   "name": "python3"
  },
  "language_info": {
   "codemirror_mode": {
    "name": "ipython",
    "version": 3
   },
   "file_extension": ".py",
   "mimetype": "text/x-python",
   "name": "python",
   "nbconvert_exporter": "python",
   "pygments_lexer": "ipython3",
   "version": "3.6.8"
  }
 },
 "nbformat": 4,
 "nbformat_minor": 2
}
