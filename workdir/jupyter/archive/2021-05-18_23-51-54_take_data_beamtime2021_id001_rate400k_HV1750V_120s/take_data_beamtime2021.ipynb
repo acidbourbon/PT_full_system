{
 "cells": [
  {
   "cell_type": "code",
   "execution_count": 1,
   "metadata": {},
   "outputs": [
    {
     "name": "stdout",
     "output_type": "stream",
     "text": [
      "Welcome to JupyROOT 6.14/04\n"
     ]
    },
    {
     "data": {
      "text/html": [
       "\n",
       "                <audio  controls=\"controls\" autoplay=\"autoplay\">\n",
       "                    <source src=\"data:audio/wav;base64,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\" type=\"audio/wav\" />\n",
       "                    Your browser does not support the audio element.\n",
       "                </audio>\n",
       "              "
      ],
      "text/plain": [
       "<IPython.lib.display.Audio object>"
      ]
     },
     "execution_count": 1,
     "metadata": {},
     "output_type": "execute_result"
    }
   ],
   "source": [
    "import pasttrec_ctrl as ptc\n",
    "\n",
    "from fst import *\n",
    "from my_utils import *\n",
    "\n",
    "# import micos_eco\n",
    "# import phidrive\n",
    "import numpy as np\n",
    "import time\n",
    "import os\n",
    "\n",
    "from IPython.display import Audio\n",
    "sound_file_end = './blubb.wav'\n",
    "sound_file_loop = './tock.wav'\n",
    "#Audio(sound_file_loop,  autoplay=True)\n",
    "\n",
    "import IPython.display as ipd\n",
    "# ipd.Audio('./tock.wav') # load a local WAV file\n",
    "\n",
    "import numpy\n",
    "sr = 22050 # sample rate\n",
    "T = .4    # seconds\n",
    "Hz=590\n",
    "t = numpy.linspace(0, T, int(T*sr), endpoint=False) # time variable\n",
    "x = 0.5*numpy.sin(2*numpy.pi*Hz*t)        \n",
    "ipd.Audio(x, rate=sr, autoplay=True) # load a NumPy array"
   ]
  },
  {
   "cell_type": "code",
   "execution_count": 2,
   "metadata": {},
   "outputs": [
    {
     "name": "stdout",
     "output_type": "stream",
     "text": [
      "id001_rate400k_HV1750V\n",
      "number of points to measure = 1 \n",
      "thresholds [15]\n",
      "phi angles [0]\n",
      "x positions [78.5]\n",
      "y position = 71.00 \n",
      "estimated scan duration 2.0 minutes or 0.03 hours\n",
      "Starting now 2021-05-18 23:49:52.613649 \n"
     ]
    }
   ],
   "source": [
    "# measurement parameters individual settings:\n",
    "id = \"id001_rate400k_HV1750V\"\n",
    "#threshold_list = [6, 8, 10, 12, 15, 20, 25, 30, 40, 50]\n",
    "#threshold_list = range(10,60,2)\n",
    "threshold_list = [15]\n",
    "#scan x position\n",
    "#X = np.arange(78.5-1.6,78.5+1.6,0.15) # half a drift cell, channel 6\n",
    "#X = np.arange(78.5-1.6,78.5+4.6,0.1) # full drift cell, channel 6\n",
    "X = [ 78.5] # near UFSD  position of selftracking on wire 11 layer 1 \n",
    "#X = [80.0] # anode wire position   wire 11 layer 1 \n",
    "y = 71.0\n",
    "PHI = [0]\n",
    "acq_time = 120  #  sec\n",
    "sync_spill_end = False\n",
    "#-----------------------\n",
    "\n",
    "\n",
    "#predefined systematic measurements for input stage comparison:\n",
    "measurement_setting = 4  #1 or 2 ... or 7\n",
    "# 2x  x-scan = 22 steps each  0.1 mm , MDC HV  1780V\n",
    "# 4x threshold scan  for MDC HV  1780V, 1750V, 1700V, 1650V\n",
    "# 4x night selftraking 2h for each threshold 15, 30, 50, 10,  MDC HV  1750V\n",
    "if (measurement_setting == 1):\n",
    "    id = \"id081_NOBEAM_HV1750V\"\n",
    "    X = np.arange(78.5-1.6,78.5+1.6,0.15) # half a drift cell, channel 6\n",
    "    y = 71.0\n",
    "    threshold_list = [15,30]\n",
    "    PHI = [0]\n",
    "    acq_time = 71  #  sec\n",
    "    sync_spill_end = False\n",
    "elif  (measurement_setting == 2):\n",
    "    id = \"id082_NOBEAM_HV1780V\"\n",
    "    X = np.arange(78.5-1.6,78.5+4.6,0.1) # full drift cell, channel 6\n",
    "    y = 71.0\n",
    "    threshold_list = [15]\n",
    "    PHI = [0]\n",
    "    acq_time = 71  #  sec\n",
    "    sync_spill_end = False\n",
    "\n",
    "\n",
    "\n",
    "# end of parameters to edit ############\n",
    "print(id)\n",
    "print(\"number of points to measure = {:d} \".format(len(X)*len(PHI)*len(threshold_list)) )\n",
    "print(\"thresholds \",end=\"\")\n",
    "print(threshold_list)\n",
    "print(\"phi angles \",end=\"\")\n",
    "print(PHI)\n",
    "print(\"x positions \",end=\"\")\n",
    "print(X)\n",
    "print(\"y position = {:3.2f} \".format(y))\n",
    "\n",
    "full_loop_time = acq_time\n",
    "if sync_spill_end:\n",
    "    acq_time = 18\n",
    "    full_loop_time = 78 # full spill\n",
    "minutes = len(threshold_list)*(full_loop_time)*len(X)*len(PHI)/60\n",
    "hours = minutes/60\n",
    "print(\"estimated scan duration {:3.1f} minutes or {:3.2f} hours\".format(minutes,hours))\n",
    "\n",
    "import datetime\n",
    "now = datetime.datetime.now()\n",
    "print(\"Starting now {:s} \".format(str(now)))"
   ]
  },
  {
   "cell_type": "code",
   "execution_count": null,
   "metadata": {},
   "outputs": [],
   "source": []
  },
  {
   "cell_type": "code",
   "execution_count": null,
   "metadata": {},
   "outputs": [
    {
     "name": "stdout",
     "output_type": "stream",
     "text": [
      "\n",
      "##############################\n",
      "##### setting threshold 15\n",
      "##############################\n",
      "\n",
      "##############################\n",
      "##### move x 78.500000\n",
      "##############################\n",
      "\n",
      "##############################\n",
      "##### rotate phi 0.000000\n",
      "##############################\n",
      "##### start taking data ######\n"
     ]
    }
   ],
   "source": [
    "#trigger_ufsd()\n",
    "trigger_scinti()\n",
    "for x in X:\n",
    " for phi in PHI:\n",
    "  for thresh in threshold_list:\n",
    "    print(\"\")\n",
    "    print(\"##############################\")\n",
    "    print(\"##### setting threshold {:d}\".format(thresh))\n",
    "    print(\"##############################\")\n",
    "    print(\"\")\n",
    "    print(\"##############################\")\n",
    "    print(\"##### move x {:f}\".format(x))\n",
    "    print(\"##############################\")\n",
    "    print(\"\")\n",
    "    print(\"##############################\")\n",
    "    print(\"##### rotate phi {:f}\".format(phi))\n",
    "    print(\"##############################\")\n",
    "#     micos_eco.move(x=x,y=y)\n",
    "#     if (phi != phidrive.get_angle() ): \n",
    "#         phidrive.set_angle(phi)\n",
    "    ptc.init_active_boards()\n",
    "    ptc.set_threshold_for_board_by_name(\"0902\",thresh)\n",
    "    ptc.set_threshold_for_board_by_name(\"0903\",thresh)\n",
    "    ptc.set_threshold_for_board_by_name(\"0904\",thresh)\n",
    "    ptc.set_threshold_for_board_by_name(\"0905\",thresh)\n",
    "    if acq_time < 70 :\n",
    "      wait_for_spill_break(threshold_rate=1000)\n",
    "      wait_for_spill(threshold_rate=1600)\n",
    "    if sync_spill_end :\n",
    "      print(\"wait 45s until last 10s of spill (low intensity)\")\n",
    "      time.sleep(45)\n",
    "    print(\"##### start taking data ######\")\n",
    "    take_raw_data(time=acq_time,label=\"{:s}_thr{:d}_{:d}s_x{:3.3f}_phi{:3.2f}\".format(id,thresh,acq_time,x,phi)) \n",
    "    print(\"##### stopped data taking ######\")\n",
    "    os.system(\"/workdir/tock86.sh\")"
   ]
  },
  {
   "cell_type": "code",
   "execution_count": null,
   "metadata": {},
   "outputs": [],
   "source": [
    "archive(label=\"{:s}_{:d}s\".format(id,acq_time))\n",
    "\n",
    "ipd.Audio(x, rate=sr, autoplay=True) # load a NumPy array\n",
    "# Audio(sound_file_end, autoplay=True)"
   ]
  }
 ],
 "metadata": {
  "kernelspec": {
   "display_name": "Python 3",
   "language": "python",
   "name": "python3"
  },
  "language_info": {
   "codemirror_mode": {
    "name": "ipython",
    "version": 3
   },
   "file_extension": ".py",
   "mimetype": "text/x-python",
   "name": "python",
   "nbconvert_exporter": "python",
   "pygments_lexer": "ipython3",
   "version": "3.6.9"
  }
 },
 "nbformat": 4,
 "nbformat_minor": 2
}
