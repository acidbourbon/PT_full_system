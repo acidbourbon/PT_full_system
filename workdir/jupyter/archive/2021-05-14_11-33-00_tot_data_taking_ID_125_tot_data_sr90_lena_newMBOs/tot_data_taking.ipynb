{
 "cells": [
  {
   "cell_type": "code",
   "execution_count": 1,
   "metadata": {
    "scrolled": false
   },
   "outputs": [
    {
     "name": "stdout",
     "output_type": "stream",
     "text": [
      "Welcome to JupyROOT 6.14/04\n"
     ]
    },
    {
     "data": {
      "text/html": [
       "\n",
       "    <style>\n",
       "        div#notebook-container    { width: 95%; }\n",
       "        div#menubar-container     { width: 65%; }\n",
       "        div#maintoolbar-container { width: 99%; }\n",
       "    </style>\n",
       "    "
      ],
      "text/plain": [
       "<IPython.core.display.HTML object>"
      ]
     },
     "metadata": {},
     "output_type": "display_data"
    },
    {
     "name": "stdout",
     "output_type": "stream",
     "text": [
      "/workdir/jupyter/tot_data_taking_data\n"
     ]
    }
   ],
   "source": [
    "import ROOT\n",
    "import os\n",
    "from my_utils import *\n",
    "set_width_max_of_jupyterpad()\n",
    "\n",
    "from fst import *\n",
    "import numpy as np\n",
    "import db \n",
    "import pasttrec_ctrl as ptc\n",
    "import baseline_calib\n",
    "\n",
    "data_dir = make_data_dir()\n",
    "\n",
    "#from ROOT import gInterpreter, gSystem\n",
    "#gInterpreter.ProcessLine('#include \"/workdir/my_event.h\"')\n",
    "\n",
    "import tdc_daq as td\n",
    "\n",
    "\n",
    "print(data_dir)\n",
    "for my_board in db.board_list():\n",
    "    db.enable_board(my_board)    \n",
    "    #db.unset_standby_board(my_board)\n",
    "    db.set_standby_board(my_board)    \n",
    "    #db.disable_board(my_board)\n",
    "    ptc.init_board_by_name(my_board)\n",
    "    ptc.set_threshold_for_board_by_name(my_board,5)\n",
    "\n",
    "ptc.init_active_boards()\n",
    "td.enable_tdc_channels_of_active_boards()\n",
    "\n",
    "#set spike rejection for pasttrec tdc channels:\n",
    "#setup = db.get_setup_json()\n",
    "#setup[\"global_settings\"][\"spike_rejection\"] = 33\n",
    "#print( setup[\"global_settings\"][\"spike_rejection\"] )\n",
    "#db.write_setup_json(setup)\n",
    "#db.write_go4_settings_h()\n"
   ]
  },
  {
   "cell_type": "code",
   "execution_count": 2,
   "metadata": {
    "scrolled": false
   },
   "outputs": [
    {
     "name": "stdout",
     "output_type": "stream",
     "text": [
      " total measurement time estimated [h] = 10.00\n"
     ]
    },
    {
     "data": {
      "text/html": [
       "<script>alert(' total measurement time estimated [h] = 10.00');</script>"
      ],
      "text/plain": [
       "<IPython.core.display.HTML object>"
      ]
     },
     "metadata": {},
     "output_type": "display_data"
    },
    {
     "name": "stdout",
     "output_type": "stream",
     "text": [
      "activate board:  0906\n",
      "enable data taking boards\n",
      "init\n",
      "threshold\n",
      "3.902 0.0\n",
      "start data taking: peaking time_15, threshold_10, gain_2 # of boards active_0, offline spike rejection_20\n",
      "3.936 0.0\n",
      "data file written:  /workdir/jupyter/tot_data_taking_data/ID125_HV1750V_ptime_15_thr_10_gain_2_boardsON_0_sr_20.root\n",
      "activate board:  0906\n",
      "enable data taking boards\n",
      "init\n",
      "threshold\n",
      "3.929 0.0\n",
      "start data taking: peaking time_15, threshold_20, gain_2 # of boards active_0, offline spike rejection_20\n",
      "3.904 0.0\n",
      "data file written:  /workdir/jupyter/tot_data_taking_data/ID125_HV1750V_ptime_15_thr_20_gain_2_boardsON_0_sr_20.root\n",
      "activate board:  0906\n",
      "enable data taking boards\n",
      "init\n",
      "threshold\n",
      "3.904 0.0\n",
      "start data taking: peaking time_15, threshold_30, gain_2 # of boards active_0, offline spike rejection_20\n",
      "3.899 0.0\n",
      "data file written:  /workdir/jupyter/tot_data_taking_data/ID125_HV1750V_ptime_15_thr_30_gain_2_boardsON_0_sr_20.root\n",
      "activate board:  0906\n",
      "enable data taking boards\n",
      "init\n",
      "threshold\n",
      "3.924 0.0\n",
      "start data taking: peaking time_15, threshold_10, gain_4 # of boards active_0, offline spike rejection_20\n",
      "3.945 0.0\n",
      "data file written:  /workdir/jupyter/tot_data_taking_data/ID125_HV1750V_ptime_15_thr_10_gain_4_boardsON_0_sr_20.root\n",
      "activate board:  0906\n",
      "enable data taking boards\n",
      "init\n",
      "threshold\n",
      "3.931 0.0\n",
      "start data taking: peaking time_15, threshold_20, gain_4 # of boards active_0, offline spike rejection_20\n",
      "3.929 0.0\n",
      "data file written:  /workdir/jupyter/tot_data_taking_data/ID125_HV1750V_ptime_15_thr_20_gain_4_boardsON_0_sr_20.root\n",
      "activate board:  0906\n",
      "enable data taking boards\n",
      "init\n",
      "threshold\n",
      "3.923 0.0\n",
      "start data taking: peaking time_15, threshold_30, gain_4 # of boards active_0, offline spike rejection_20\n"
     ]
    },
    {
     "name": "stderr",
     "output_type": "stream",
     "text": [
      "IOPub data rate exceeded.\n",
      "The notebook server will temporarily stop sending output\n",
      "to the client in order to avoid crashing it.\n",
      "To change this limit, set the config variable\n",
      "`--NotebookApp.iopub_data_rate_limit`.\n",
      "\n",
      "Current values:\n",
      "NotebookApp.iopub_data_rate_limit=1000000.0 (bytes/sec)\n",
      "NotebookApp.rate_limit_window=3.0 (secs)\n",
      "\n"
     ]
    }
   ],
   "source": [
    "##################################################\n",
    "##   clear data dir, copy root file or measure fresh    ##\n",
    "##################################################\n",
    "import hameg_trb \n",
    "import os \n",
    "\n",
    "#data set 2\n",
    "#all boards on threshold 30, take_data(time=480)\n",
    "#spike rejection = 15 ns\n",
    "#HV=1600\n",
    "#ptime=10\n",
    "#pt_gain_list = [ 1, 2, 4 ]\n",
    "#pt_threshold_list = [ 8, 10, 13, 15, 18, 20, 25, 30, 35, 50 ]\n",
    "#board_list = [ \"0009\",\"0010\",\"0011\", \"0002\",\"0004\",\"0007\"]\n",
    "#########################################################################\n",
    "#data set 3\n",
    "#all other boards standby,  take_data(time=960)\n",
    "#spike rejection = 15 ns\n",
    "#HV=1600\n",
    "#ptime=15\n",
    "#pt_gain_list = [ 1, 2, 4 ]\n",
    "#pt_threshold_list = [ 8, 10, 13, 15, 18, 20, 25, 30, 35, 50 ]\n",
    "#board_list = [ \"0009\",\"0010\",\"0011\", \"0002\",\"0004\",\"0007\"]\n",
    "#########################################################################\n",
    "#data set 4\n",
    "#all other boards standby,  take_data(time=480)\n",
    "#spike rejection = 30 ns\n",
    "#HV=16002\n",
    "#ptime=15\n",
    "#pt_gain_list = [ 1, 2, 4 ]\n",
    "#pt_threshold_list = [ 8, 10, 13, 15, 18, 20, 25, 30, 35, 50 ]\n",
    "#board_list = [ \"0009\",\"0010\",\"0011\", \"0002\",\"0004\",\"0007\"]\n",
    "#########################################################################\n",
    "#data set 5\n",
    "#all other boards standby,  take_data(time=300)\n",
    "#spike rejection = 15 ns\n",
    "#HV=1600\n",
    "#ptime=15\n",
    "#pt_gain_list = [ 4 ]\n",
    "#pt_threshold_list = [ 10, 20, 30, 50 ]\n",
    "#board_list = [ \"0009\",\"0010\",\"0011\", \"0002\",\"0004\",\"0007\"]\n",
    "#boards_scan_list = ['0010', '0015', '0016', '0017', '0020', '0023', '0030', '0029', '0027', '0025', '0026', '0022', '0003', '0014', '0021', '0018', '0006', '0028', '0008', '0005']\n",
    "\n",
    "#########################################################################\n",
    "dataset_id = 125\n",
    "# 49 same like 48 but with noise shield again on board 007 = 010\n",
    "# 50, boards on scan for gain 2,4 thr 35 board with shield\n",
    "# 57, boards on scan for gain 2,4 thr 35 boards 101, 108\n",
    "# 59, full paramete scan gain+peakingtime+threshold boards 101, 108\n",
    "# 60,repeat 57: boards on scan for gain 2,4 thr 35 boards 101, 108\n",
    "# 61 boards on scan for gain 2,4 thr 15,20,30,50 boards 101, 108\n",
    "# 62 threshold scan for gain 1,2,4 pktime 10,15,20 boards 101, 108\n",
    "\n",
    "# 66 threshold scan for gain 2 pktime 15 boards 101, 110  \n",
    "# 67 boards on scan for gain 2,4 thr 20,30 boards 101, 110\n",
    "# 68, repeat of 67 with Ferrit on TDF cable 110 ( boards on scan for gain 2,4 thr 30 boards 101, 110 )\n",
    "# 69 threshold scan for gain 1,2,4 pktime 15 boards 101, 110  \n",
    "# 69+ boards on scan for gain 4 thr 35,\n",
    "# 70 boards on scan for gain 4 thr 30,31,32 three different boards activate sequences(random) boards 101, 110\n",
    "# 71 threshold scan for gain 4 pktime 15 boards 101, 110 , all other boards inactive 2 round Ferrites  on LVDS cable\n",
    "# 73 threshold scan for gain 4 pktime 15 boards 101, 110 , all other boards active 4 flat Ferrites on LVDS cable\n",
    "# 74 repeat 70 now with  4 flat Ferrites on LVDS cable\n",
    "# 75 repeat 70 now with gain=2  4 flat Ferrites on LVDS cable\n",
    "# 77 threshold scan for gain 4 pktime 15 boards 110, 007 \n",
    "# 78 boards on scan for  gain 4 pktime 15 boards 110, 007 \n",
    "# 79 boards on scan for  gain 2 pktime 15 boards 110, 007 \n",
    "\n",
    "# 51 board with shield, parameter scan\n",
    "# 52, boards on scan for gain 2 thr 25,30 board with shield\n",
    "# MDC settings:\n",
    "HV=1750\n",
    "# set data taking time in seconds for each step, minimum 30s is needed to initialize and get some trigger from dabc stream\n",
    "data_taking_duration = 6000\n",
    "# set PASTTREC settings:\n",
    "# peakintime: 10, 15, 20 (ns)\n",
    "# gain: 1, 2, 4\n",
    "# threshold: 1,2,3 .... 127\n",
    "# spike rejection 10 ,15, 20 ,33,99 all int possible (ns)\n",
    "\n",
    "#ptime_list = [ 10, 15, 20 ]\n",
    "ptime_list = [  15 ]\n",
    "# set PASTTREC default threshold for the measurement\n",
    "#pt_gain_list = [ 1, 2, 4 ]\n",
    "pt_gain_list = [ 2, 4 ]  \n",
    "pt_threshold_list = [ 10, 20,30 ]\n",
    "#pt_threshold_list = [ 10,15,20,25,30,35,40,50,70]\n",
    "#pt_threshold_list = [30]\n",
    "spike_reject_list = [20]\n",
    "#spike_reject_list = [10, 15, 20, 30]\n",
    "channelswitchlist =[0,1,2,3]\n",
    "\n",
    "#board_list = [ \"0009\",\"0010\",\"0011\", \"0002\",\"0004\",\"0007\", \"0015\",\"0016\",\"0017\" ]\n",
    "board_list = [\"0014\",\"0018\",\"0021\", \"0900\", \"0901\",\"0902\",\"0903\",\"0904\", \"0905\",\"0906\",\"0907\",\"0009\",\"0007\",\"0011\",\"0110\"]\n",
    "boards_to_activate_on_one_step = 1\n",
    "\n",
    "#time trend:\n",
    "trendduration = 1*60*60\n",
    "stepduration = 60\n",
    "\n",
    "name = board_list[0]\n",
    "import os\n",
    "        #select FPGA channels 16-25 to TDC channels 1-10:\n",
    "os.system(\"trbcmd loadbit {} 0xd580 0x300 0x{}00\".format(\"0x1800\", 2))\n",
    "os.system(\"trbcmd loadbit {} 0xd580 0x300 0x{}00\".format(\"0x1803\", 0))\n",
    "\n",
    "from cw_pasttrec_functions import *\n",
    "## define sequence of boards to activate in scan.\n",
    "#boards_scan_list = board_list\n",
    "#boards_scan_list = generate_neighbouring_FPC_board_list(name)\n",
    "#boards_scan_list = generate_neighbouring_w_board_list(name)\n",
    "#boards_scan_list = db.board_list()\n",
    "boards_scan_list = ['0906']\n",
    "# boards_scan_list = ['0110', '0011', '0010', '0015', '0016', '0009', '0017', '0020', '0023', '0030', '0110', '0029', '0002', '0027', '0101', '0025', '0004', '0026', '0022', '0003', '0014', '0021', '0018', '0104', '0006', '0028', '0103', '0102', '0008', '0005']\n",
    "#boards_scan_list = ['0010', '0101', '0011', '0002', '0009', '0004', '0015', '0027', '0016', '0025', '0017', '0026', '0022', '0020', '0003', '0023', '0030', '0014', '0021', '0029', '0018', '0104', '0103', '0006', '0008', '0102', '0028']\n",
    "#boards_scan_list = ['0010', '0011', '0009', '0015', '0016', '0017', '0020', '0023', '0030', '0029', '0101', '0002', '0004', '0027', '0025', '0026', '0022', '0003', '0014', '0021', '0018', '0104', '0006', '0028']\n",
    "# boards_scan_list = ['0010', '0009', '0011', '0015', '0016', '0017', '0020', '0023', '0030', '0029', '0027', '0002', '0004', '0025', '0026', '0022', '0003', '0014', '0021', '0018', '0006', '0028', '0008', '0005']\n",
    "#boards_scan_list = ['0014', '0005', '0021', '0022', '0025', '0003', '0026', '0027', '0008', '0004', '0002', '0101', '0029', '0030', '0028', '0023', '0020', '0017', '0016', '0006', '0015', '0010', '0011', '0009']\n",
    "\n",
    "data_file_list = []\n",
    "current_list = []\n",
    "volt_list = []\n",
    "current_list2 = []\n",
    "volt_list2 = []\n",
    "TDClist = [\"0x1800\",\"0x1801\",\"0x1802\",\"0x1803\"]\n",
    "\n",
    "\n",
    "    \n",
    "#for my_board in db.board_list():\n",
    "#            db.unset_standby_board(my_board)\n",
    "message = \" total measurement time estimated [h] = {:.2f}\".format(data_taking_duration/3600*len(spike_reject_list)*len(ptime_list)*len(pt_gain_list)*len(pt_threshold_list)*len(boards_scan_list)/boards_to_activate_on_one_step)\n",
    "print(message)\n",
    "alert(message)\n",
    "#for timestep in range(0,ntimesteps):\n",
    "for spike_reject in spike_reject_list:\n",
    " setup = db.get_setup_json()\n",
    " setup[\"global_settings\"][\"spike_rejection\"] = spike_reject\n",
    " db.write_setup_json(setup)\n",
    " db.write_go4_settings_h()\n",
    "\n",
    " #for ptime in channelswitchlist:\n",
    "  # for tdc in TDClist:\n",
    "      #  print(\"trbcmd loadbit {} 0xd580 0x300 0x{}00\".format(tdc, ptime))\n",
    "   #     os.system(\"trbcmd loadbit {} 0xd580 0x300 0x{}00\".format(tdc, ptime))\n",
    " for ptime in ptime_list: \n",
    "   for pt_gain in pt_gain_list:     \n",
    "    for pt_threshold in pt_threshold_list:    \n",
    "     for my_board in db.board_list():\n",
    "        db.set_standby_board(my_board)\n",
    "     import random\n",
    "     random.shuffle(boards_scan_list)\n",
    "     iboard = -boards_to_activate_on_one_step\n",
    "     for p in range(0,int(len(boards_scan_list)/boards_to_activate_on_one_step)): \n",
    "        iboard += boards_to_activate_on_one_step\n",
    "        for my_board in db.board_list():\n",
    "            for p_act in range(0,boards_to_activate_on_one_step):\n",
    "                if my_board == boards_scan_list[iboard+p_act]:\n",
    "                    db.unset_standby_board(my_board)\n",
    "                    db.enable_board(my_board)\n",
    "                    print(\"activate board: \",my_board)\n",
    "        # enable data taking boards:\n",
    "        print(\"enable data taking boards\")\n",
    "        for my_board in board_list:\n",
    "            db.unset_standby_board(my_board)\n",
    "            db.enable_board(my_board)\n",
    "        td.enable_tdc_channels_of_active_boards()\n",
    "       # ptc.init_boards_by_name(db.board_list())    \n",
    "        #ptc.init_active_boards()\n",
    "        print(\"init\")\n",
    "        ptc.init_boards_by_name(board_list, ptime, pt_gain, pt_threshold)   \n",
    "                        # init_boards_by_name(board_list,pktime=-1,gain=-1,threshold=-1):\n",
    "        print(\"threshold\")        \n",
    "        for name in board_list:\n",
    "            #baseline_calib.set_baselines_individual(name, [-15]*16 )   \n",
    "            ptc.set_threshold_for_board_by_name(name,pt_threshold)\n",
    "            \n",
    "        print(hameg_trb.get_curr(3), hameg_trb.get_curr(4))\n",
    "        #take_data(events=20000)\n",
    "        # uses only trigger by TDC 0350 channel 49 as the reference. \n",
    "        # either Scitillator inpot or puls generator input to this channel, needs to be used\n",
    "        print(\"start data taking: peaking time_{:d}, threshold_{:d}, gain_{:d} # of boards active_{:d}, offline spike rejection_{:d}\".format(ptime,pt_threshold,pt_gain,iboard,spike_reject))\n",
    "        take_data(time=data_taking_duration)\n",
    "        import time as time\n",
    "        time.sleep(5) # prevents \n",
    "        \n",
    "        \n",
    "        current_list += [ hameg_trb.get_curr(3) ]\n",
    "        volt_list += [ hameg_trb.get_volt(3) ]\n",
    "        current_list2 += [ hameg_trb.get_curr(4) ]\n",
    "        volt_list2 += [ hameg_trb.get_volt(4) ] \n",
    "\n",
    "        print(hameg_trb.get_curr(3), hameg_trb.get_curr(4))\n",
    "     # clear_data_dir()\n",
    "        data_file = \"{:s}/ID{:d}_HV{:d}V_ptime_{:d}_thr_{:d}_gain_{:d}_boardsON_{:d}_sr_{:d}.root\".format(data_dir,dataset_id,HV,ptime,pt_threshold,pt_gain,iboard,spike_reject)\n",
    "        print(\"data file written: \", data_file)\n",
    "        #os.system(\"cp /workdir/tree_out.root {:s}\".format(data_file))\n",
    "        os.system(\"cp /workdir/joint_tree.root {:s}\".format(data_file))\n",
    "        data_file_list.append(data_file)\n",
    "\n",
    "  # write data file list to disk, for later analysis\n",
    "import pickle\n",
    "with open(\"{:s}/datasetID_{:d}_list.pickle\".format(data_dir,dataset_id), 'wb') as fp:\n",
    "    pickle.dump(data_file_list, fp)  \n",
    "print(fp)"
   ]
  },
  {
   "cell_type": "code",
   "execution_count": 3,
   "metadata": {
    "scrolled": true
   },
   "outputs": [
    {
     "name": "stderr",
     "output_type": "stream",
     "text": [
      "rm: cannot remove '*.root': No such file or directory\n",
      "Info in <TUnixSystem::ACLiC>: creating shared library /workdir/./first_C.so\n",
      "Info in <TUnixSystem::ACLiC>: creating shared library /workdir/./second_C.so\n",
      "rm: cannot remove '*.root': No such file or directory\n",
      "Info in <TUnixSystem::ACLiC>: creating shared library /workdir/./first_C.so\n",
      "Info in <TUnixSystem::ACLiC>: creating shared library /workdir/./second_C.so\n",
      "rm: cannot remove '*.root': No such file or directory\n",
      "Info in <TUnixSystem::ACLiC>: creating shared library /workdir/./first_C.so\n",
      "Info in <TUnixSystem::ACLiC>: creating shared library /workdir/./second_C.so\n",
      "rm: cannot remove '*.root': No such file or directory\n",
      "Info in <TUnixSystem::ACLiC>: creating shared library /workdir/./first_C.so\n",
      "Info in <TUnixSystem::ACLiC>: creating shared library /workdir/./second_C.so\n",
      "rm: cannot remove '*.root': No such file or directory\n",
      "Info in <TUnixSystem::ACLiC>: creating shared library /workdir/./first_C.so\n",
      "Info in <TUnixSystem::ACLiC>: creating shared library /workdir/./second_C.so\n",
      "rm: cannot remove '*.root': No such file or directory\n",
      "Info in <TUnixSystem::ACLiC>: creating shared library /workdir/./first_C.so\n",
      "Info in <TUnixSystem::ACLiC>: creating shared library /workdir/./second_C.so\n"
     ]
    },
    {
     "data": {
      "image/png": "[encoded data removed]",
      "text/plain": [
       "<matplotlib.figure.Figure at 0x7fd232426ef0>"
      ]
     },
     "metadata": {},
     "output_type": "display_data"
    },
    {
     "data": {
      "image/png": "[encoded data removed]",
      "text/plain": [
       "<matplotlib.figure.Figure at 0x7fd1d66e34e0>"
      ]
     },
     "metadata": {},
     "output_type": "display_data"
    },
    {
     "data": {
      "image/png": "[encoded data removed]",
      "text/plain": [
       "<matplotlib.figure.Figure at 0x7fd1d6604630>"
      ]
     },
     "metadata": {},
     "output_type": "display_data"
    }
   ],
   "source": [
    "\n",
    "from matplotlib import pyplot as plt\n",
    "%matplotlib inline\n",
    "plt.figure(num=None, figsize=(20, 6), dpi=80, facecolor='w', edgecolor='k')        \n",
    "plt.scatter(range(0,len(current_list)),current_list)    \n",
    "plt.xlabel(\"data set\")\n",
    "plt.ylabel(\"supply current [A] of all PASTTREC boards 101 (5V layer 2) \")\n",
    "plt.show()\n",
    "plt.figure(num=None, figsize=(20, 6), dpi=80, facecolor='w', edgecolor='k') \n",
    "plt.scatter(range(0,len(current_list2)),current_list2)        \n",
    "plt.xlabel(\"data set\")\n",
    "plt.ylabel(\"supply current [A] of PASTTREC board 110 (5V layer 3) \")\n",
    "plt.show()\n",
    "\n",
    "plt.figure(num=None, figsize=(20, 6), dpi=80, facecolor='w', edgecolor='k') \n",
    "plt.scatter(range(0,len(volt_list)),volt_list,alpha=0.3,label = \"5V layer 2\")\n",
    "plt.scatter(range(0,len(volt_list2)),volt_list2,alpha=0.3,label = \"5V layer 3\")      \n",
    "plt.xlabel(\"data set\")\n",
    "plt.ylabel(\"supply voltage [V] of all PASTTREC boards  \")\n",
    "plt.legend()\n",
    "plt.show()"
   ]
  },
  {
   "cell_type": "code",
   "execution_count": 4,
   "metadata": {},
   "outputs": [
    {
     "name": "stdout",
     "output_type": "stream",
     "text": [
      "<_io.BufferedWriter name='/workdir/jupyter/tot_data_taking_data/datasetID_125_list.pickle'>\n"
     ]
    }
   ],
   "source": [
    "  # write data file list to disk, for later analysis\n",
    "import pickle \n",
    "with open(\"{:s}/datasetID_{:d}_list.pickle\".format(data_dir,dataset_id), 'wb') as fp:\n",
    "    pickle.dump(data_file_list, fp)  \n",
    "print(fp)"
   ]
  },
  {
   "cell_type": "code",
   "execution_count": 5,
   "metadata": {},
   "outputs": [
    {
     "name": "stdout",
     "output_type": "stream",
     "text": [
      "['/workdir/jupyter/tot_data_taking_data/ID125_HV1750V_ptime_15_thr_10_gain_2_boardsON_0_sr_20.root', '/workdir/jupyter/tot_data_taking_data/ID125_HV1750V_ptime_15_thr_20_gain_2_boardsON_0_sr_20.root', '/workdir/jupyter/tot_data_taking_data/ID125_HV1750V_ptime_15_thr_30_gain_2_boardsON_0_sr_20.root', '/workdir/jupyter/tot_data_taking_data/ID125_HV1750V_ptime_15_thr_10_gain_4_boardsON_0_sr_20.root', '/workdir/jupyter/tot_data_taking_data/ID125_HV1750V_ptime_15_thr_20_gain_4_boardsON_0_sr_20.root', '/workdir/jupyter/tot_data_taking_data/ID125_HV1750V_ptime_15_thr_30_gain_4_boardsON_0_sr_20.root']\n"
     ]
    }
   ],
   "source": [
    "#archive(label=\"ID_{:d}_tot_data_powersupply_trend\".format(dataset_id))\n",
    "print(data_file_list)\n"
   ]
  },
  {
   "cell_type": "code",
   "execution_count": null,
   "metadata": {
    "scrolled": false
   },
   "outputs": [],
   "source": [
    "\n",
    "\n",
    "##################################################\n",
    "##               slurp root file                ##\n",
    "##################################################\n",
    " \n",
    "#with open ('/workdir/jupyter/tot_data_taking_data/HV1600V_ptime_15_threshold_50_gain_4_boardsON_23.rootlist.pickle', 'rb') as fp:\n",
    "\n",
    "    \n",
    "\n",
    "#f = ROOT.TFile(\"/workdir/tree_out.root\".format(data_dir))\n",
    "#tree = f.Get(\"TDC_1503\")\n",
    "#print(\"data entries TDC_1503: \" + str(tree.GetEntries()))\n",
    "i = -1\n",
    "clist = [None]*100\n",
    "print(\"data file   ,\", \"tot_mostprob\", \"signalcounts\", \"noisecounts\", \"sn_ratio\", \"significance\")\n",
    "    \n",
    "for data_file in data_file_list:\n",
    "    i += 1\n",
    "    print(data_file)\n",
    "    f = ROOT.TFile(\"{:s}\".format(data_file))\n",
    "    #f = ROOT.TFile(\"{:s}\".format(\"/workdir/tree_out.root\"))    \n",
    "    tree = f.Get(\"joint_tree\")\n",
    "    #tree = f.Get(\"TDC_1800\")\n",
    "    #print(\"data entries: \" + str(tree.GetEntries()))\n",
    "    ## plot data:\n",
    "    clist[i] = ROOT.TCanvas(\"myCanvasName\"+str(i),str(data_file),800,600)\n",
    "    #tree.Draw(\"tot>>htot(300,0,300)\",\"chan > 150300 && chan < 150316\")\n",
    "    #tree.Draw(\"tot>>htot2(300,0,300)\",\"chan > 035300 && chan < 035316\",\"same\")   \n",
    "    tree.Draw(\"tot>>htot(300,0,1000)\",\"chan > 00\") \n",
    "    \n",
    "    #tree = f.Get(\"TDC_1503\")\n",
    "    #tree.Draw(\"tot>>htot2(300,0,1000)\",\"chan > 00\") \n",
    "    tree.Draw(\"tot>>htot3(100,0,600)\",\"chan > 180000 && chan < 180099\")  \n",
    "    #tree.Draw(\"tot>>htot3(100,0,600)\",\"chan > 180100 && chan < 180199\") \n",
    "    tree.Draw(\"tot>>htot4(100,0,600)\",\"chan > 180200 && chan < 180299\") \n",
    "    tree.Draw(\"tot>>htot2(100,0,600)\",\"chan > 180300 && chan < 180399\")  \n",
    "    #tree.Draw(\"tot>>htot3(100,0,600)\",\"chan > 0\") \n",
    "    #tree.Draw(\"tot>>htot4(100,0,600)\",\"chan > 150300 && chan < 150399\")     \n",
    "    clist[i].Draw()\n",
    "    htot = f.Get(\"htot\")\n",
    "    htot2 = f.Get(\"htot2\")\n",
    "    htot3 = f.Get(\"htot3\")\n",
    "    htot4 = f.Get(\"htot4\")    \n",
    "    clist[i].SetLogy()\n",
    "    htot.GetXaxis().SetTitle(\"ToT [ns]\")\n",
    "    htot.GetYaxis().SetTitle(\"counts\")\n",
    "    leg = ROOT.TLegend(.73,.32,.97,.53)\n",
    "    leg.SetBorderSize(0)\n",
    "    leg.SetFillColor(0)\n",
    "    leg.SetFillStyle(0)\n",
    "    leg.SetTextFont(42)\n",
    "    leg.SetTextSize(0.035)\n",
    "    leg.AddEntry(htot,htot.GetTitle());\n",
    "    leg.AddEntry(htot2,htot2.GetTitle());\n",
    "    leg.AddEntry(htot3,htot3.GetTitle());\n",
    "    leg.AddEntry(htot4,htot4.GetTitle());     \n",
    "    \n",
    "    htot.SetTitle(data_file.strip(\"workdir/jupyter/tot_data_taking_data\"))\n",
    "    htot2.SetLineColor(6)\n",
    "    htot.SetMinimum(0.1)\n",
    "    htot.DrawCopy(\"\")\n",
    "    htot2.DrawCopy(\"same\")\n",
    "    htot3.SetLineColor(7)\n",
    "    htot3.DrawCopy(\"same\")\n",
    "    htot4.SetLineColor(8)\n",
    "    htot4.DrawCopy(\"same\")\n",
    "   \n",
    "    leg.Draw();\n",
    "    clist[i].Draw()\n",
    "    \n",
    "    tot_mostprob = htot.GetXaxis().GetBinCenter(htot.GetMaximumBin())\n",
    "    \n",
    "    signalcounts  = htot.Integral(htot.FindBin(50),htot.GetNbinsX())\n",
    "    noisecounts   = htot.Integral(1,htot.FindBin(50))\n",
    "    if noisecounts == 0:\n",
    "        sn_ratio = -1\n",
    "        significance = -1\n",
    "    else:\n",
    "        sn_ratio = signalcounts/noisecounts\n",
    "        significance = signalcounts/np.sqrt(signalcounts+noisecounts)\n",
    "    print(  htot.GetTitle() , \"| \",  tot_mostprob,\"| \", signalcounts,\"| \", noisecounts,\"| \", \"{:.2f}\".format(sn_ratio),\"| \", \"{:.2f}\".format(significance))\n",
    "    \n"
   ]
  },
  {
   "cell_type": "code",
   "execution_count": null,
   "metadata": {},
   "outputs": [],
   "source": []
  },
  {
   "cell_type": "raw",
   "metadata": {},
   "source": []
  },
  {
   "cell_type": "code",
   "execution_count": 7,
   "metadata": {
    "scrolled": true
   },
   "outputs": [
    {
     "data": {
      "image/png": "[encoded data removed]",
      "text/plain": [
       "<IPython.core.display.Image object>"
      ]
     },
     "metadata": {},
     "output_type": "display_data"
    }
   ],
   "source": [
    "##################################################\n",
    "##             overview TDC 0x0351              ##\n",
    "##################################################\n",
    "c = ROOT.TCanvas(\"myCanvasName\",\"The Canvas Title\",640,480)\n",
    "\n",
    "tdc=1800\n",
    "disp_channels = 12\n",
    "#tree.Draw(\"chan:t1\",\"\",\"lego2\")\n",
    "tree.Draw(\"chan:tot>>tot_meta(1000,-300,800,{:d},{:d},{:d})\".format(disp_channels,tdc*100,tdc*100+disp_channels),\"\",\"colz\")\n",
    "c.Draw()"
   ]
  },
  {
   "cell_type": "code",
   "execution_count": null,
   "metadata": {},
   "outputs": [],
   "source": []
  }
 ],
 "metadata": {
  "kernelspec": {
   "display_name": "Python 3",
   "language": "python",
   "name": "python3"
  },
  "language_info": {
   "codemirror_mode": {
    "name": "ipython",
    "version": 3
   },
   "file_extension": ".py",
   "mimetype": "text/x-python",
   "name": "python",
   "nbconvert_exporter": "python",
   "pygments_lexer": "ipython3",
   "version": "3.6.9"
  }
 },
 "nbformat": 4,
 "nbformat_minor": 2
}
