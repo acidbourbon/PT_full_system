{
 "cells": [
  {
   "cell_type": "code",
   "execution_count": 1,
   "metadata": {},
   "outputs": [
    {
     "name": "stdout",
     "output_type": "stream",
     "text": [
      "Welcome to JupyROOT 6.14/04\n"
     ]
    },
    {
     "data": {
      "text/plain": [
       "0"
      ]
     },
     "execution_count": 1,
     "metadata": {},
     "output_type": "execute_result"
    }
   ],
   "source": [
    "import ROOT\n",
    "import os\n",
    "from my_utils import *\n",
    "from fst import *\n",
    "import numpy as np\n",
    "\n",
    "import pasttrec_ctrl as ptc\n",
    "\n",
    "#import phidrive\n",
    "#import micos_eco\n",
    "\n",
    "data_dir = make_data_dir()\n",
    "\n",
    "\n",
    "\n",
    "from ROOT import gInterpreter, gSystem\n",
    "gInterpreter.ProcessLine('#include \"/workdir/my_event.h\"')\n",
    "\n",
    "\n"
   ]
  },
  {
   "cell_type": "code",
   "execution_count": 10,
   "metadata": {},
   "outputs": [
    {
     "name": "stdout",
     "output_type": "stream",
     "text": [
      "['/workdir/jupyter/tot_data_taking_data/ID202_HV1750V_ptime_15_thr_10_gain_4_boardsON_0_sr_10.root', '/workdir/jupyter/tot_data_taking_data/ID202_HV1750V_ptime_15_thr_20_gain_4_boardsON_0_sr_10.root', '']\n"
     ]
    }
   ],
   "source": [
    "##################################################\n",
    "##   clear data dir, copy root file or measure fresh    ##\n",
    "##################################################\n",
    "\n",
    "\n",
    "## new data or existing data?\n",
    "\n",
    "fresh = 0\n",
    "use_newest = 1\n",
    "\n",
    "data_dir=\"/workdir/jupyter/tot_data_taking_data/\"\n",
    "# prefer fully unpacked over previews\n",
    "\n",
    "possible_file_names = [\n",
    " \"*.root\",\n",
    "]\n",
    "\n",
    "id=\"ID202\"\n",
    "\n",
    "# x scan trafo board\n",
    "#id=\"id051b15\"\n",
    "#id=\"id051b30\"\n",
    "\n",
    "#nice example for x scan, pAC, 1750V\n",
    "#id=\"id062\"\n",
    "\n",
    "## auto detect scan type ##\n",
    "\n",
    "root_file_name = \"\"\n",
    "\n",
    "for i in range(0,len(possible_file_names)):\n",
    "  root_file_name = possible_file_names[i]\n",
    "  file_list = os.popen('  find {:s} -iname \"*{:s}\" | grep {:s} | sort '.format(data_dir,\n",
    "    root_file_name,id)).read().split(\"\\n\")\n",
    "  if (len(file_list) > 1):\n",
    "    break\n",
    "print(file_list)\n",
    "#print(\"len: {:d}\".format(len(file_list)))\n",
    "#file_list = file_list[0:60]\n",
    "del file_list[-1]\n",
    "file_list\n",
    "\n",
    "if fresh:\n",
    "  trigger_ufsd()\n",
    "  #trigger_scinti()\n",
    "  #micos_eco.move(x=79.65,y=71)\n",
    "  \n",
    "  ptc.init_active_boards()\n",
    "  ptc.set_threshold_for_board_by_name(\"0009\",50)\n",
    "  ptc.set_threshold_for_board_by_name(\"0018\",50)\n",
    "\n",
    "  #take_data(events=100)\n",
    "  #take_data(time=10)\n",
    "\n",
    " # clear_data_dir()\n",
    "  #os.system(\"cp /workdir/joint_tree.root {:s}/\".format(data_dir))\n",
    "\n",
    "#if use_newest:\n",
    " # os.system(\"cp /workdir/joint_tree.root {:s}/\".format(data_dir))\n",
    "    "
   ]
  },
  {
   "cell_type": "code",
   "execution_count": 12,
   "metadata": {},
   "outputs": [
    {
     "name": "stdout",
     "output_type": "stream",
     "text": [
      "/workdir/jupyter/tot_data_taking_data/ID202_HV1750V_ptime_15_thr_10_gain_4_boardsON_0_sr_10.root\n",
      "/workdir/jupyter/tot_data_taking_data/ID202_HV1750V_ptime_15_thr_20_gain_4_boardsON_0_sr_10.root\n"
     ]
    },
    {
     "name": "stderr",
     "output_type": "stream",
     "text": [
      "Warning in <TCanvas::Constructor>: Deleting canvas with same name: myCanvasName\n"
     ]
    }
   ],
   "source": [
    "##################################################\n",
    "##               slurp root file                ##\n",
    "##################################################\n",
    "\n",
    "#c = ROOT.TCanvas(\"myCanvasName\",\"The Canvas Title\",640,480)\n",
    "c = ROOT.TCanvas(\"myCanvasName\",\"The Canvas Title\",500,400)\n",
    "\n",
    "for i in range(0,len(file_list)):\n",
    "    \n",
    "  file=file_list[0]\n",
    "  \n",
    "  print(file)\n",
    "  f = ROOT.TFile(file)\n",
    "  tree = f.Get(\"joint_tree\")\n",
    "\n",
    "#c.Draw()"
   ]
  },
  {
   "cell_type": "code",
   "execution_count": null,
   "metadata": {},
   "outputs": [],
   "source": [
    "file=file_list[0]\n",
    "\n",
    "print(file)\n",
    "f = ROOT.TFile(file)\n",
    "tree = f.Get(\"joint_tree\")"
   ]
  },
  {
   "cell_type": "code",
   "execution_count": 8,
   "metadata": {
    "scrolled": false
   },
   "outputs": [
    {
     "data": {
      "image/png": "[encoded data removed]",
      "text/plain": [
       "<IPython.core.display.Image object>"
      ]
     },
     "metadata": {},
     "output_type": "display_data"
    }
   ],
   "source": [
    "##################################################\n",
    "##             overview TDC 0x0351              ##\n",
    "##################################################\n",
    "\n",
    "\n",
    "tdc=1801\n",
    "disp_channels = 12\n",
    "tree.Draw(\"chan:t1>>t1_meta(1000,-300,300,{:d},{:d},{:d})\".format(disp_channels,tdc*100,tdc*100+disp_channels),\"\",\"lego2\")\n",
    "c.Draw()"
   ]
  },
  {
   "cell_type": "code",
   "execution_count": 9,
   "metadata": {},
   "outputs": [
    {
     "ename": "AttributeError",
     "evalue": "'TObject' object has no attribute 'SetTitle'",
     "output_type": "error",
     "traceback": [
      "\u001b[0;31m---------------------------------------------------------------------------\u001b[0m",
      "\u001b[0;31mAttributeError\u001b[0m                            Traceback (most recent call last)",
      "\u001b[0;32m<ipython-input-9-5646307b43b3>\u001b[0m in \u001b[0;36m<module>\u001b[0;34m\u001b[0m\n\u001b[1;32m      2\u001b[0m \u001b[0mtree\u001b[0m\u001b[0;34m.\u001b[0m\u001b[0mDraw\u001b[0m\u001b[0;34m(\u001b[0m\u001b[0;34m\"t1>>t1(1000,-300,300,{:d},{:d},{:d})\"\u001b[0m\u001b[0;34m.\u001b[0m\u001b[0mformat\u001b[0m\u001b[0;34m(\u001b[0m\u001b[0mdisp_channels\u001b[0m\u001b[0;34m,\u001b[0m\u001b[0mtdc\u001b[0m\u001b[0;34m*\u001b[0m\u001b[0;36m100\u001b[0m\u001b[0;34m,\u001b[0m\u001b[0mtdc\u001b[0m\u001b[0;34m*\u001b[0m\u001b[0;36m100\u001b[0m\u001b[0;34m+\u001b[0m\u001b[0mdisp_channels\u001b[0m\u001b[0;34m)\u001b[0m\u001b[0;34m,\u001b[0m\u001b[0;34m\"chan=={:d}\"\u001b[0m\u001b[0;34m.\u001b[0m\u001b[0mformat\u001b[0m\u001b[0;34m(\u001b[0m\u001b[0mchan\u001b[0m\u001b[0;34m)\u001b[0m\u001b[0;34m,\u001b[0m\u001b[0;34m\"colz\"\u001b[0m\u001b[0;34m)\u001b[0m\u001b[0;34m\u001b[0m\u001b[0;34m\u001b[0m\u001b[0m\n\u001b[1;32m      3\u001b[0m \u001b[0mt1\u001b[0m\u001b[0;34m=\u001b[0m\u001b[0mf\u001b[0m\u001b[0;34m.\u001b[0m\u001b[0mGet\u001b[0m\u001b[0;34m(\u001b[0m\u001b[0;34m\"t1\"\u001b[0m\u001b[0;34m)\u001b[0m\u001b[0;34m\u001b[0m\u001b[0;34m\u001b[0m\u001b[0m\n\u001b[0;32m----> 4\u001b[0;31m \u001b[0mt1\u001b[0m\u001b[0;34m.\u001b[0m\u001b[0mSetTitle\u001b[0m\u001b[0;34m(\u001b[0m\u001b[0;34m\"UFSD t1\"\u001b[0m\u001b[0;34m)\u001b[0m\u001b[0;34m\u001b[0m\u001b[0;34m\u001b[0m\u001b[0m\n\u001b[0m\u001b[1;32m      5\u001b[0m \u001b[0mt1\u001b[0m\u001b[0;34m.\u001b[0m\u001b[0mGetXaxis\u001b[0m\u001b[0;34m(\u001b[0m\u001b[0;34m)\u001b[0m\u001b[0;34m.\u001b[0m\u001b[0mSetTitle\u001b[0m\u001b[0;34m(\u001b[0m\u001b[0;34m\"time (ns)\"\u001b[0m\u001b[0;34m)\u001b[0m\u001b[0;34m\u001b[0m\u001b[0;34m\u001b[0m\u001b[0m\n\u001b[1;32m      6\u001b[0m \u001b[0mt1\u001b[0m\u001b[0;34m.\u001b[0m\u001b[0mGetYaxis\u001b[0m\u001b[0;34m(\u001b[0m\u001b[0;34m)\u001b[0m\u001b[0;34m.\u001b[0m\u001b[0mSetTitle\u001b[0m\u001b[0;34m(\u001b[0m\u001b[0;34m\"counts\"\u001b[0m\u001b[0;34m)\u001b[0m\u001b[0;34m\u001b[0m\u001b[0;34m\u001b[0m\u001b[0m\n",
      "\u001b[0;31mAttributeError\u001b[0m: 'TObject' object has no attribute 'SetTitle'"
     ]
    }
   ],
   "source": [
    "chan = 35049\n",
    "tree.Draw(\"t1>>t1(1000,-300,300,{:d},{:d},{:d})\".format(disp_channels,tdc*100,tdc*100+disp_channels),\"chan=={:d}\".format(chan),\"colz\")\n",
    "t1=f.Get(\"t1\")\n",
    "t1.SetTitle(\"UFSD t1\")\n",
    "t1.GetXaxis().SetTitle(\"time (ns)\")\n",
    "t1.GetYaxis().SetTitle(\"counts\")\n",
    "c.Draw()"
   ]
  },
  {
   "cell_type": "code",
   "execution_count": null,
   "metadata": {},
   "outputs": [],
   "source": [
    "chan = 35050\n",
    "tree.Draw(\"t1>>t1(1000,-300,300,{:d},{:d},{:d})\".format(disp_channels,tdc*100,tdc*100+disp_channels),\"chan=={:d}\".format(chan),\"colz\")\n",
    "t1=f.Get(\"t1\")\n",
    "t1.SetTitle(\"horiz scinti t1\")\n",
    "t1.GetXaxis().SetTitle(\"time (ns)\")\n",
    "t1.GetYaxis().SetTitle(\"counts\")\n",
    "\n",
    "t1.GetXaxis().SetRangeUser(25,35)\n",
    "t1.Draw()\n",
    "t1.Fit(\"gaus\")\n",
    "c.Draw()\n",
    "\n",
    "\n",
    "c.Draw()"
   ]
  },
  {
   "cell_type": "code",
   "execution_count": null,
   "metadata": {},
   "outputs": [],
   "source": [
    "##################################################\n",
    "##             overview TDC 0x0350              ##\n",
    "##################################################\n",
    "\n",
    "\n",
    "tdc=1801\n",
    "disp_channels = 11\n",
    "tree.Draw(\"chan:t1>>t1_meta(100,-50,100,{:d},{:d},{:d})\".format(disp_channels,tdc*100,tdc*100+disp_channels),\"\",\"colz\")\n",
    "c.Draw()"
   ]
  },
  {
   "cell_type": "code",
   "execution_count": null,
   "metadata": {},
   "outputs": [],
   "source": [
    "##################################################\n",
    "##                   layer 1                    ##\n",
    "##################################################\n",
    "\n",
    "layer = 1\n",
    "tree.Draw(\"wire:t1>>t1_meta(100,-50,100,{:d},{:d},{:d})\".format(20,0,20),\" layer == {:d}\".format(layer),\"colz\")\n",
    "t1_meta = f.Get(\"t1_meta\")\n",
    "#t1_meta.SetTitle(\"t1 meta\")\n",
    "t1_meta.GetXaxis().SetTitle(\"t1 (s)\")\n",
    "t1_meta.GetYaxis().SetTitle(\"wire number\")\n",
    "t1_meta.Draw(\"colz\")\n",
    "c.Draw()"
   ]
  },
  {
   "cell_type": "code",
   "execution_count": null,
   "metadata": {
    "scrolled": false
   },
   "outputs": [],
   "source": [
    "##################################################\n",
    "##                   layer 2                    ##\n",
    "##################################################\n",
    "\n",
    "layer = 2\n",
    "tree.Draw(\"wire:t1>>t1_meta(100,-50,100,{:d},{:d},{:d})\".format(20,0,20),\" layer == {:d}\".format(layer),\"colz\")\n",
    "t1_meta = f.Get(\"t1_meta\")\n",
    "#t1_meta.SetTitle(\"t1 meta\")\n",
    "t1_meta.GetXaxis().SetTitle(\"t1 (s)\")\n",
    "t1_meta.GetYaxis().SetTitle(\"wire number\")\n",
    "t1_meta.Draw(\"colz\")\n",
    "c.Draw()"
   ]
  },
  {
   "cell_type": "code",
   "execution_count": null,
   "metadata": {},
   "outputs": [],
   "source": [
    "layer = 1\n",
    "wire = 10\n",
    "\n",
    "tree.Draw(\"t1>>t1(2000,-1000,1000)\", \"layer=={:d} && wire=={:d}\".format(layer,wire),\"colz\")\n",
    "t1=f.Get(\"t1\")\n",
    "t1.SetTitle(\"t1 layer {:d} wire {:d}\".format(layer,wire))\n",
    "t1.GetXaxis().SetTitle(\"time (ns)\")\n",
    "t1.GetYaxis().SetTitle(\"counts\")\n",
    "\n",
    "t1.GetXaxis().SetRangeUser(-100,100)\n",
    "t1.Draw()\n",
    "t1.Fit(\"gaus\",\"WW\")\n",
    "\n",
    "\n",
    "c.Draw()"
   ]
  },
  {
   "cell_type": "code",
   "execution_count": null,
   "metadata": {},
   "outputs": [],
   "source": [
    "layer = 2\n",
    "wire = 11\n",
    "\n",
    "tree.Draw(\"t1>>t1(2000,-1000,1000)\", \"layer=={:d} && wire=={:d}\".format(layer,wire),\"colz\")\n",
    "t1=f.Get(\"t1\")\n",
    "t1.SetTitle(\"t1 layer {:d} wire {:d}\".format(layer,wire))\n",
    "t1.GetXaxis().SetTitle(\"time (ns)\")\n",
    "t1.GetYaxis().SetTitle(\"counts\")\n",
    "\n",
    "t1.GetXaxis().SetRangeUser(-100,100)\n",
    "t1.Draw()\n",
    "t1.Fit(\"gaus\",\"WW\")\n",
    "\n",
    "\n",
    "c.Draw()"
   ]
  },
  {
   "cell_type": "code",
   "execution_count": null,
   "metadata": {},
   "outputs": [],
   "source": [
    "##################################################\n",
    "##            read root tree example            ##\n",
    "##################################################\n",
    "\n",
    "\n",
    "t1_l = -3000\n",
    "t1_r = 10000\n",
    "\n",
    "\n",
    "## variables that will be filled from root tree:\n",
    "last_evt = 0\n",
    "\n",
    "entries = tree.GetEntries()\n",
    "print(\"tree has {:d} entries\".format(entries))\n",
    "\n",
    "processed_tracks = 0\n",
    "\n",
    "coinc_matrix = ROOT.TH2F(\"coinc_matrix\",\"coinc_matrix\", 12, 180100, 180112, 12, 180200, 180212)\n",
    "\n",
    "w = 50\n",
    "coinc_wires = ROOT.TH2F(\"coinc_wires\",\"coinc_wires\", w, 0, w, w, 0, w)\n",
    "\n",
    "meta_fish = ROOT.TH2F(\"meta_fish\",\"meta_fish\", 1000, -500, 500, 500, -250, 250);\n",
    "\n",
    "\n",
    "entries_limit = int(1e6)\n",
    "\n",
    "layer1_fish_wire = 180105\n",
    "layer2_fish_wire = 180106\n",
    "\n",
    "#for i in range(0,entries):\n",
    "for i in range(0,np.min([entries_limit,entries])):\n",
    "  \n",
    "  tree.GetEntry(i)\n",
    "  this_event = tree.event\n",
    "  hits = this_event.hits\n",
    "  \n",
    "  n_hits = hits.size()\n",
    "    \n",
    "  for hit_no_a in range(0,n_hits):\n",
    "    hit_a = hits[hit_no_a]\n",
    "    for hit_no_b in range(hit_no_a,n_hits):\n",
    "      hit_b = hits[hit_no_b]\n",
    "    \n",
    "      if ( (hit_a.t1 > t1_l and hit_a.t1 < t1_r)  and  (hit_b.t1 > t1_l and hit_b.t1 < t1_r) ):\n",
    "      \n",
    "        coinc_matrix.Fill(hit_a.chan,hit_b.chan)    \n",
    "          \n",
    "        coinc_wires.Fill(hit_a.wire + (hit_a.layer-1)*20 ,hit_b.wire + (hit_b.layer-1)*20)      \n",
    "      \n",
    "        if (   (hit_a.chan == layer1_fish_wire) and  (hit_b.chan == layer2_fish_wire ) ):\n",
    "          meta_fish.Fill(hit_a.t1 + hit_b.t1, hit_a.t1 - hit_b.t1)\n",
    "\n",
    "\n",
    "#coinc_matrix.GetXaxis().SetRangeUser(35000,35050)\n",
    "#coinc_matrix.GetYaxis().SetRangeUser(35000,35050)\n",
    "coinc_matrix.Draw(\"colz\")\n",
    "\n",
    "c.Draw()\n",
    "\n",
    "    "
   ]
  },
  {
   "cell_type": "code",
   "execution_count": null,
   "metadata": {},
   "outputs": [],
   "source": [
    "meta_fish.GetXaxis().SetRangeUser(-200,300)\n",
    "meta_fish.Draw(\"colz\")\n",
    "c.Draw()"
   ]
  },
  {
   "cell_type": "code",
   "execution_count": null,
   "metadata": {},
   "outputs": [],
   "source": [
    "fish_proj_x= meta_fish.ProjectionX(\"fish_proj_x\")\n",
    "fish_proj_x.GetXaxis().SetRangeUser(-100,150)\n",
    "fish_proj_x.Fit(\"gaus\",\"WW\")\n",
    "fish_proj_x.Draw()\n",
    "c.Draw()"
   ]
  },
  {
   "cell_type": "code",
   "execution_count": null,
   "metadata": {},
   "outputs": [],
   "source": [
    "\n",
    "coinc_wires.Draw(\"colz\")\n",
    "coinc_wires.GetXaxis().SetTitle(\"(layer 1)\" + \" \"*35 +  \"(layer 2 + 10)\" + \" \"*40 + \"wires\")\n",
    "coinc_wires.GetYaxis().SetTitle(\"(layer 1)\" + \" \"*20 +  \"(layer 2 + 10)\" + \" \"*25 + \"wires\")\n",
    "c.Draw()"
   ]
  },
  {
   "cell_type": "code",
   "execution_count": null,
   "metadata": {},
   "outputs": [],
   "source": [
    "\n",
    "coinc_wires.Draw(\"lego2\")\n",
    "coinc_wires.GetXaxis().SetTitle(\"(layer 1)\" + \" \"*35 +  \"(layer 2 + 10)\" + \" \"*40 + \"wires\")\n",
    "coinc_wires.GetYaxis().SetTitle(\"(layer 1)\" + \" \"*20 +  \"(layer 2 + 10)\" + \" \"*25 + \"wires\")\n",
    "c.Draw()"
   ]
  },
  {
   "cell_type": "code",
   "execution_count": null,
   "metadata": {},
   "outputs": [],
   "source": [
    "# dont do the divergence scan"
   ]
  },
  {
   "cell_type": "code",
   "execution_count": null,
   "metadata": {},
   "outputs": [],
   "source": [
    "archive(label=\"ufsd_fish_lowI_pAC_thr15\")"
   ]
  },
  {
   "cell_type": "markdown",
   "metadata": {},
   "source": [
    "X = np.arange(79-7,79+7+1,1)\n",
    "\n",
    "outfile = ROOT.TFile(\"{:s}/outfile.root\".format(data_dir),\"RECREATE\")\n",
    "\n",
    "no_triggers = 4000\n",
    "\n",
    "const_list = []\n",
    "mean_list = []\n",
    "sigma_list = []\n",
    "entries_list = []\n",
    "\n",
    "for x in X:\n",
    "  micos_eco.move(x=x)\n",
    "  take_data(events=no_triggers)\n",
    "  c = ROOT.TCanvas(\"myCanvasName\",\"The Canvas Title\",500,400)\n",
    "  f = ROOT.TFile(\"/workdir/joint_tree.root\")\n",
    "  os.system(\"cp /workdir/joint_tree.root {:s}/joint_tree_x{:3.3f}.root\".format(data_dir,x))\n",
    "  tree = f.Get(\"joint_tree\")\n",
    "\n",
    "  outfile.cd()\n",
    "  layer = 2\n",
    "  wire = 11\n",
    "  \n",
    "  tree.Draw(\"t1>>t1_x{:3.3f}(2000,-1000,1000)\".format(x), \"layer=={:d} && wire=={:d}\".format(layer,wire),\"colz\")\n",
    "  t1=outfile.Get(\"t1_x{:3.3f}\".format(x))\n",
    "  t1.SetTitle(\"t1 layer {:d} wire {:d}\".format(layer,wire))\n",
    "  t1.GetXaxis().SetTitle(\"time (ns)\")\n",
    "  t1.GetYaxis().SetTitle(\"counts\")\n",
    "  \n",
    "  t1.GetXaxis().SetRangeUser(-100,100)\n",
    "  t1.Draw()\n",
    "  t1.Fit(\"gaus\",\"WW\")\n",
    "\n",
    "  fit = t1.GetFunction(\"gaus\");\n",
    "  const_list   += [fit.GetParameter(0)]\n",
    "  mean_list    += [fit.GetParameter(1)]\n",
    "  sigma_list   += [fit.GetParameter(2)]\n",
    "  entries_list += [t1.Integral(t1.FindBin(-100),t1.FindBin(100))]\n",
    "  t1.Write()\n",
    "  print(\"const_list\")\n",
    "  print(const_list)\n",
    "  print(\"mean_list\")\n",
    "  print(mean_list)\n",
    "  print(\"sigma_list\")\n",
    "  print(sigma_list)\n",
    "  print(\"entries_list\")\n",
    "  print(entries_list)\n",
    "  \n",
    "  \n",
    "\n",
    "outfile.Write()\n",
    "outfile.Close()"
   ]
  },
  {
   "cell_type": "markdown",
   "metadata": {},
   "source": [
    "#ufsd rate negligible in spill breaks\n",
    "\n",
    "from matplotlib import pyplot as plt\n",
    "\n",
    "plt.plot(X,entries_list,label=\"hist entries\")\n",
    "plt.ylim(0,np.max(entries_list))\n",
    "plt.legend()\n",
    "plt.show()\n",
    "\n",
    "plt.plot(X,mean_list,label=\"fit mean (t1)\")\n",
    "plt.ylim(0,np.max(mean_list))\n",
    "plt.legend()\n",
    "plt.show()\n",
    "\n",
    "plt.plot(X,const_list,label=\"fit const (t1)\")\n",
    "plt.ylim(0,np.max(const_list))\n",
    "plt.legend()\n",
    "plt.show()\n",
    "\n",
    "plt.plot(X,sigma_list,label=\"fit sigma (t1)\")\n",
    "plt.ylim(0,np.max(sigma_list))\n",
    "#plt.ylim(0,20)\n",
    "plt.legend()\n",
    "plt.show()\n",
    "\n",
    "area_list = np.array(const_list) * np.array(sigma_list)\n",
    "\n",
    "plt.plot(X,area_list,label=\"gaus area\")\n",
    "plt.ylim(0,np.max(area_list))\n",
    "plt.legend()\n",
    "plt.show()"
   ]
  },
  {
   "cell_type": "code",
   "execution_count": null,
   "metadata": {},
   "outputs": [],
   "source": []
  }
 ],
 "metadata": {
  "kernelspec": {
   "display_name": "Python 3",
   "language": "python",
   "name": "python3"
  },
  "language_info": {
   "codemirror_mode": {
    "name": "ipython",
    "version": 3
   },
   "file_extension": ".py",
   "mimetype": "text/x-python",
   "name": "python",
   "nbconvert_exporter": "python",
   "pygments_lexer": "ipython3",
   "version": "3.6.9"
  }
 },
 "nbformat": 4,
 "nbformat_minor": 2
}
