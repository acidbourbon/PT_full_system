{
 "cells": [
  {
   "cell_type": "code",
   "execution_count": 1,
   "metadata": {},
   "outputs": [
    {
     "name": "stdout",
     "output_type": "stream",
     "text": [
      " total time estimated [h] = 0.33 = [min] = 20.00 \n"
     ]
    }
   ],
   "source": [
    "dataset_id = \"11_highstat_settB_beamfocus\"\n",
    "\n",
    "\n",
    "\n",
    "# set data taking time in seconds for each step, minimum 90s is needed to initialize and get some trigger from dabc stream\n",
    "data_taking_duration = 60*20\n",
    "\n",
    "# MDC settings:\n",
    "HVlist = [ 1650 ]\n",
    "\n",
    "# set PASTTREC settings:\n",
    "# peakintime: 10, 15, 20 (ns)\n",
    "# gain: 1, 2, 4\n",
    "# threshold: 1,2,3 .... 127\n",
    "# spike rejection 10 ,15, 20 ,33,99 all int possible (ns)\n",
    "####  SettingA :\n",
    "# ptime_list = [ 10,15,20 ]\n",
    "#pt_gain_list = [ 0,1,2,4  ]\n",
    "# pt_gain_list = [ 2 ]\n",
    "# pt_threshold_list = [10]\n",
    "# spike_reject_list_TDC = [0]\n",
    "\n",
    "####  SettingB :\n",
    "ptime_list = [ 10 ]\n",
    "pt_gain_list = [ 2 ]\n",
    "pt_threshold_list = [ 5 ]\n",
    "# spike_reject_list_TDC = [0]\n",
    "####  SettingC :\n",
    "# ptime_list = [ 10 ]\n",
    "# pt_gain_list = [ 2  ]\n",
    "# pt_threshold_list = [ 9 ]\n",
    "# spike_reject_list_TDC = [0]\n",
    "\n",
    "import os\n",
    "# activate coincidence trigger only:\n",
    "#os.system(\"trbcmd w 0xc035 0xa101 0xffff0800\")\n",
    "# activate scintillator1 trigger (ch49) only:\n",
    "#os.system(\"trbcmd w 0xc035 0xa101 0xffff0400\")  # trg_channel_mask: edge=1111 1111 1111 1111, mask=0000 0100 0000 0000\n",
    "\n",
    "##################################\n",
    "#ptime_list = [10]\n",
    "# set PASTTREC default threshold for the measurement\n",
    "# pt_gain_list = [ 2  ]\n",
    "#pt_gain_list = [ 1,2,4]  \n",
    "# pt_threshold_list = [2,5,7,9,12,15,20,30  ]\n",
    "#pt_threshold_list = [5]\n",
    "#pt_threshold_list = [5,7,9,11,13,15,17,19,21,23,25,27,40]\n",
    "# pt_threshold_list = [7 ]\n",
    "spike_reject_list = [0]\n",
    "spike_reject_list_TDC = [0]\n",
    "#spike_reject_list_TDC = [0,1,2,3,4,5,6,7,8]\n",
    "\n",
    "#boards_scan_list =   [ \"0902\",\"0902\",\"0902\",\"0902\"  ]\n",
    "boards_scan_list =   [ \"80053\" , ]\n",
    "if data_taking_duration < 90:\n",
    "    data_taking_duration = 90\n",
    "if data_taking_duration< 90:\n",
    "    wait_for_beam = True\n",
    "else:\n",
    "    wait_for_beam = True\n",
    "#time windows:\n",
    "t1_min = -1500\n",
    "t1_max = 0\n",
    "#t1_min = -5000\n",
    "#t1_max = 5000\n",
    "#1. scintillator upstream\n",
    "ref_channel = 35049\n",
    "#2. scintillator downstream\n",
    "#ref_channel = 35050\n",
    "\n",
    "spillbreak_rate_scintillator = 3000\n",
    "#board_list = [ \"0900\", \"0901\",\"0902\",\"0903\",\"0904\", \"0905\",\"0906\",\"0907\"]\n",
    "import db\n",
    "board_list =  db.board_list(); \n",
    "boards_to_activate_on_one_step = 1\n",
    "TDClist = [\"0x1807\",\"0x1812\",\"0x1806\",\"0x1813\",\"0350\"]\n",
    "number_of_TDC_channels = 10\n",
    "channellist = [48,49]\n",
    "#time trend:\n",
    "trendduration = 1*60*60\n",
    "stepduration = 60\n",
    "\n",
    "name = board_list[0]\n",
    "\n",
    "#os.system(\"trbcmd loadbit {} 0xd580 0x300 0x{}00\".format(\"0x1800\", 2))\n",
    "#os.system(\"trbcmd loadbit {} 0xd580 0x300 0x{}00\".format(\"0x1803\", 0))\n",
    "# COSY May2021 beam position:\n",
    "#os.system(\"trbcmd loadbit {} 0xd580 0x300 0x{}00\".format(\"0x1801\", 0))\n",
    "#os.system(\"trbcmd loadbit {} 0xd580 0x300 0x{}00\".format(\"0x1802\", 2))\n",
    "#setTDC spike rejection to ~50ns \n",
    "#os.system(\"trbcmd loadbit 0x1801 0xd580 0xf0000000 0x70000000\")\n",
    "\n",
    "#switch off DCDC converter nex to TDC1802 & 1803, which is there to check influence on noise\n",
    "import hameg_lv as hMBO \n",
    "\n",
    "## define sequence of boards to activate in scan.\n",
    "#boards_scan_list = board_list\n",
    "\n",
    "total_measure_duration = data_taking_duration*len(spike_reject_list)*len(spike_reject_list_TDC)*len(ptime_list)*len(pt_gain_list)*len(pt_threshold_list)*len(boards_scan_list)/boards_to_activate_on_one_step*len(HVlist)\n",
    "message = \" total time estimated [h] = {:.2f} = [min] = {:.2f} \".format(total_measure_duration/3600,total_measure_duration/60)\n",
    "print(message)\n"
   ]
  },
  {
   "cell_type": "code",
   "execution_count": 2,
   "metadata": {
    "scrolled": false
   },
   "outputs": [
    {
     "name": "stdout",
     "output_type": "stream",
     "text": [
      "Welcome to JupyROOT 6.14/04\n"
     ]
    },
    {
     "data": {
      "text/html": [
       "\n",
       "    <style>\n",
       "        div#notebook-container    { width: 95%; }\n",
       "        div#menubar-container     { width: 65%; }\n",
       "        div#maintoolbar-container { width: 99%; }\n",
       "    </style>\n",
       "    "
      ],
      "text/plain": [
       "<IPython.core.display.HTML object>"
      ]
     },
     "metadata": {},
     "output_type": "display_data"
    },
    {
     "name": "stdout",
     "output_type": "stream",
     "text": [
      "/workdir/jupyter/Cosy2021Nov_tot_data_taking_data\n"
     ]
    }
   ],
   "source": [
    "def beep(): \n",
    "    import IPython.display as ipd\n",
    "    import numpy\n",
    "    t = numpy.linspace(0, 0.5, int(0.6*24090), endpoint=False) # time variable\n",
    "    x = 0.5*numpy.sin(2*numpy.pi*550*t)    \n",
    "    ipd.Audio(x, rate=24090, autoplay=True) # load a NumPy array  \n",
    "\n",
    "\n",
    "import ROOT\n",
    "import os\n",
    "from my_utils import *\n",
    "set_width_max_of_jupyterpad()\n",
    "\n",
    "from fst import *\n",
    "import numpy as np\n",
    "import db \n",
    "import pasttrec_ctrl as ptc\n",
    "import baseline_calib\n",
    "\n",
    "data_dir = make_data_dir()\n",
    "\n",
    "#from ROOT import gInterpreter, gSystem\n",
    "#gInterpreter.ProcessLine('#include \"/workdir/my_event.h\"')\n",
    "\n",
    "import tdc_daq as td\n",
    "\n",
    "\n",
    "print(data_dir)\n",
    "for my_board in db.board_list():\n",
    "    db.enable_board(my_board)    \n",
    "    #db.unset_standby_board(my_board)\n",
    "#     db.set_standby_board(my_board)    \n",
    "    #db.disable_board(my_board)\n",
    "#     ptc.init_board_by_name(my_board)\n",
    "#     ptc.set_threshold_for_board_by_name(my_board,5)\n",
    "\n",
    "ptc.init_active_boards()\n",
    "td.enable_tdc_channels_of_active_boards()\n",
    "\n",
    "#set spike rejection for pasttrec tdc channels:\n",
    "#setup = db.get_setup_json()\n",
    "#setup[\"global_settings\"][\"spike_rejection\"] = 33\n",
    "#print( setup[\"global_settings\"][\"spike_rejection\"] )\n",
    "#db.write_setup_json(setup)\n",
    "#db.write_go4_settings_h()\n"
   ]
  },
  {
   "cell_type": "code",
   "execution_count": null,
   "metadata": {},
   "outputs": [],
   "source": []
  },
  {
   "cell_type": "code",
   "execution_count": 3,
   "metadata": {
    "scrolled": false
   },
   "outputs": [
    {
     "name": "stdout",
     "output_type": "stream",
     "text": [
      " total time estimated [h] = 0.33 = [min] = 20.00 \n"
     ]
    },
    {
     "data": {
      "text/html": [
       "<script>alert(' total time estimated [h] = 0.33 = [min] = 20.00 ');</script>"
      ],
      "text/plain": [
       "<IPython.core.display.HTML object>"
      ]
     },
     "metadata": {},
     "output_type": "display_data"
    },
    {
     "name": "stdout",
     "output_type": "stream",
     "text": [
      "activate board:  80053\n",
      "\n",
      "## spill break ##\n",
      "\n",
      "## spill start ##\n",
      "start data taking: HV_1650, peaking time_10, threshold_5, gain_2 # of boards active_0, offline spike rejection_0, TDC spike rejection_0\n",
      "Starting now 2021-11-05 16:02:50.006091 \n",
      "Starting now 2021-11-05 16:03:20.086524 \n",
      "stopped now 2021-11-05 16:26:48.399083 \n",
      "0:23:28.312865\n",
      "0.2517 1.861\n",
      "data file written:  /workdir/jupyter/Cosy2021Nov_tot_data_taking_data/ID11_highstat_settB_beamfocus_HV1650V_ptime_10_thr_5_gain_2_boardsON_0_sr_0_srTDC_0.root\n",
      "<_io.BufferedWriter name='/workdir/jupyter/Cosy2021Nov_tot_data_taking_data/datasetID_11_highstat_settB_beamfocus_list.pickle'>\n",
      "GO4-*> Reading library: libGo4UserAnalysis  \n",
      "GO4-*> Close of TUserSource  \n",
      "GO4-*> Create default analysis with processor class TFirstStepProcessor  \n",
      "GO4-*> Use class TStreamEvent as output event  \n",
      "GO4-*> Welcome to Go4 Analysis Framework Release v6.0.1 (build 60001) !  \n",
      "GO4-*> Analysis: Added analysis step Analysis  \n",
      "GO4-*> Main: starting analysis in batch mode ...    \n",
      "GO4-!> Fail to open AutoSave file Go4AutoSave.root  \n",
      "GO4-*> Analysis LoadObjects: Failed to load from file Go4AutoSave.root  \n",
      "Use MBS source port 6789\n",
      "f_evt_get_open for STREAM: port=6789 timeout=1  \n",
      "GO4-*> Factory: Create input event for MBS  \n",
      "GO4-*> Event MbsEvent101 has source localhost:6789 class: TGo4MbsStream  \n",
      "GO4-*> Factory: Create event processor Processor  \n",
      "GO4-*> Create TFirstStepProcessor Processor  \n",
      "GO4-*> Executing ROOT script first.C+  \n",
      "HLD configure calibration calfile:test_  cnt:0 trig:D temp:0\n",
      "GO4-*> Executing ROOT script second.C+  \n",
      "Create Sec_0350 for TDC_0350\n",
      "Create Sec_1806 for TDC_1806\n",
      "Create Sec_1807 for TDC_1807\n",
      "Create Sec_1812 for TDC_1812\n",
      "Create Sec_1813 for TDC_1813\n",
      "GO4-*> Factory: Create output event OutputEvent  \n",
      "GO4-*> Event OutputEvent has source Processor class: TFirstStepProcessor  \n",
      "GO4-*> Analysis --  Initializing EventClasses done.  \n",
      "GO4-*> Analysis loop is starting...  \n",
      "GO4-*> MBS source:: First event = 0 step = 0\n",
      "  \n",
      "TRB_C035: Create TDC 0x0350 nch:53 edges:2\n",
      "TRB_C035: Create TDC 0x0351 nch:53 edges:2\n",
      "TRB_C035: Create TDC 0x1808 nch:53 edges:2\n",
      "TRB_C035: Create TDC 0x1809 nch:53 edges:2\n",
      "TRB_C035: Create TDC 0x1806 nch:53 edges:2\n",
      "TRB_C035: Create TDC 0x1807 nch:53 edges:2\n",
      "TRB_C035: Create TDC 0x1802 nch:53 edges:2\n",
      "TRB_C035: Create TDC 0x1803 nch:53 edges:2\n",
      "TRB_C035: Create TDC 0x1810 nch:53 edges:2\n",
      "TRB_C035: Create TDC 0x1811 nch:53 edges:2\n",
      "TRB_C035: Create TDC 0x1816 nch:53 edges:2\n",
      "TRB_C035: Create TDC 0x1817 nch:53 edges:2\n",
      "TRB_C035: Create TDC 0x1818 nch:53 edges:2\n",
      "TRB_C035: Create TDC 0x1819 nch:53 edges:2\n",
      "TRB_C035: Create TDC 0x1820 nch:53 edges:2\n",
      "TRB_C035: Create TDC 0x1821 nch:53 edges:2\n",
      "TRB_C035: Create TDC 0x1814 nch:53 edges:2\n",
      "TRB_C035: Create TDC 0x1815 nch:53 edges:2\n",
      "TRB_C035: Create TDC 0x1812 nch:53 edges:2\n",
      "TRB_C035: Create TDC 0x1813 nch:53 edges:2\n",
      "TRB_C035: Create TDC 0x1800 nch:53 edges:2\n",
      "TRB_C035: Saw ID 0x5b08 in autocreate mode\n",
      "TRB_C035: Saw ID 0x0000 in autocreate mode\n",
      "TRB_C035: Saw ID 0x0000 in autocreate mode\n",
      "error: sub-sub event 020d inside HUB c035 exceed size limit\n",
      "TRB_C035: Saw ID 0x020d in autocreate mode\n",
      "direct func call after_create\n",
      "Called after all sub-components are created\n",
      "Configure TRB_C035!\n",
      "Configure TDC_0350!\n",
      "Configure TDC_0351!\n",
      "Configure TDC_1800!\n",
      "Configure TDC_1802!\n",
      "Configure TDC_1803!\n",
      "Configure TDC_1806!\n",
      "Configure TDC_1807!\n",
      "Configure TDC_1808!\n",
      "Configure TDC_1809!\n",
      "Configure TDC_1810!\n",
      "Configure TDC_1811!\n",
      "Configure TDC_1812!\n",
      "Configure TDC_1813!\n",
      "Configure TDC_1814!\n",
      "Configure TDC_1815!\n",
      "Configure TDC_1816!\n",
      "Configure TDC_1817!\n",
      "Configure TDC_1818!\n",
      "Configure TDC_1819!\n",
      "Configure TDC_1820!\n",
      "Configure TDC_1821!\n",
      "error: sub-sub event 0245 inside HUB c035 exceed size limit\n",
      "error: sub-sub event 0288 inside HUB c035 exceed size limit\n",
      "error: sub-sub event 0318 inside HUB c035 exceed size limit\n",
      "error: sub-sub event 032b inside HUB c035 exceed size limit\n",
      "error: sub-sub event 034f inside HUB c035 exceed size limit\n",
      "error: sub-sub event 03d1 inside HUB c035 exceed size limit\n",
      "error: sub-sub event 03f1 inside HUB c035 exceed size limit\n",
      "error: sub-sub event 0400 inside HUB c035 exceed size limit\n",
      "error: sub-sub event 0427 inside HUB c035 exceed size limit\n",
      "TRB_C035 Suppress all other errors ...\n",
      "GO4-*> Opening AutoSave file Go4AutoSave.root with RECREATE mode  \n",
      "GO4-*> AutoSave file Go4AutoSave.root was closed.  \n",
      "GO4-*> Opening AutoSave file Go4AutoSave.root with RECREATE mode  \n",
      "GO4-*> AutoSave file Go4AutoSave.root was closed.  \n",
      "GO4-*> Analysis implicit Loop has finished after 1699866 cycles.  \n",
      "--- User Post Loop TDC_0350\n",
      "write tree_out.root\n",
      "--- User Post Loop TDC_1806\n",
      "write tree_out.root\n",
      "--- User Post Loop TDC_1807\n",
      "write tree_out.root\n",
      "--- User Post Loop TDC_1812\n",
      "write tree_out.root\n",
      "--- User Post Loop TDC_1813\n",
      "write tree_out.root\n",
      "GO4-*> Opening AutoSave file Go4AutoSave.root with RECREATE mode  \n",
      "GO4-*> AutoSave file Go4AutoSave.root was closed.  \n",
      "GO4-*> Input 1699866  Output 1699866  Total processed size = 1356820344  \n",
      "GO4-*> Main: analysis batch done  \n",
      "GO4-*> Main: THE END  \n",
      "\n",
      "Processing unify.C...\n",
      "get t1 offsets from database\n",
      "unify_channel_info/0x0350.channel_info.txt\n",
      "unify_channel_info/0x0351.channel_info.txt\n",
      "unify_channel_info/0x0806.channel_info.txt\n",
      "unify_channel_info/0x0807.channel_info.txt\n",
      "unify_channel_info/0x1800.channel_info.txt\n",
      "unify_channel_info/0x1801.channel_info.txt\n",
      "unify_channel_info/0x1802.channel_info.txt\n",
      "unify_channel_info/0x1803.channel_info.txt\n",
      "unify_channel_info/0x1806.channel_info.txt\n",
      "unify_channel_info/0x1807.channel_info.txt\n",
      "unify_channel_info/0x1808.channel_info.txt\n",
      "unify_channel_info/0x1809.channel_info.txt\n",
      "unify_channel_info/0x1810.channel_info.txt\n",
      "unify_channel_info/0x1811.channel_info.txt\n",
      "unify_channel_info/0x1812.channel_info.txt\n",
      "unify_channel_info/0x1813.channel_info.txt\n",
      "unify_channel_info/0x1814.channel_info.txt\n",
      "unify_channel_info/0x1815.channel_info.txt\n",
      "unify_channel_info/0x1816.channel_info.txt\n",
      "unify_channel_info/0x1817.channel_info.txt\n",
      "unify_channel_info/0x1818.channel_info.txt\n",
      "unify_channel_info/0x1819.channel_info.txt\n",
      "unify_channel_info/0x1820.channel_info.txt\n",
      "unify_channel_info/0x1821.channel_info.txt\n",
      "unify_channel_info/0x1898.channel_info.txt\n",
      "unify_channel_info/0x1899.channel_info.txt\n",
      "unify!\n",
      "read global reference channel: 35049\n",
      "found data tree for tdc: TDC_0350\n",
      "get t1 offsets for tdc: 0x0350\n",
      "read t1 offsets of 0x0350\n",
      " \n",
      "line: 0.000000\t-1\t-1\t-1\t-1\n",
      "chan 1 t1_offset 0 chamber -1 layer -1 fpc -1 wire -1\n",
      "line: 0.000000\t-1\t-1\t-1\t-1\n",
      "chan 2 t1_offset 0 chamber -1 layer -1 fpc -1 wire -1\n",
      "line: 0.000000\t-1\t-1\t-1\t-1\n",
      "chan 3 t1_offset 0 chamber -1 layer -1 fpc -1 wire -1\n",
      "line: 0.000000\t-1\t-1\t-1\t-1\n",
      "chan 4 t1_offset 0 chamber -1 layer -1 fpc -1 wire -1\n",
      "line: 0.000000\t-1\t-1\t-1\t-1\n",
      "chan 5 t1_offset 0 chamber -1 layer -1 fpc -1 wire -1\n",
      "line: 0.000000\t-1\t-1\t-1\t-1\n",
      "chan 6 t1_offset 0 chamber -1 layer -1 fpc -1 wire -1\n",
      "line: 0.000000\t-1\t-1\t-1\t-1\n",
      "chan 7 t1_offset 0 chamber -1 layer -1 fpc -1 wire -1\n",
      "line: 0.000000\t-1\t-1\t-1\t-1\n",
      "chan 8 t1_offset 0 chamber -1 layer -1 fpc -1 wire -1\n",
      "line: 0.000000\t-1\t-1\t-1\t-1\n",
      "chan 9 t1_offset 0 chamber -1 layer -1 fpc -1 wire -1\n",
      "line: 0.000000\t-1\t-1\t-1\t-1\n",
      "chan 10 t1_offset 0 chamber -1 layer -1 fpc -1 wire -1\n",
      "line: 0.000000\t-1\t-1\t-1\t-1\n",
      "chan 11 t1_offset 0 chamber -1 layer -1 fpc -1 wire -1\n",
      "line: 0.000000\t-1\t-1\t-1\t-1\n",
      "chan 12 t1_offset 0 chamber -1 layer -1 fpc -1 wire -1\n",
      "line: 0.000000\t-1\t-1\t-1\t-1\n",
      "chan 13 t1_offset 0 chamber -1 layer -1 fpc -1 wire -1\n",
      "line: 0.000000\t-1\t-1\t-1\t-1\n",
      "chan 14 t1_offset 0 chamber -1 layer -1 fpc -1 wire -1\n",
      "line: 0.000000\t-1\t-1\t-1\t-1\n",
      "chan 15 t1_offset 0 chamber -1 layer -1 fpc -1 wire -1\n",
      "line: 0.000000\t-1\t-1\t-1\t-1\n",
      "chan 16 t1_offset 0 chamber -1 layer -1 fpc -1 wire -1\n",
      "line: 0.000000\t-1\t-1\t-1\t-1\n",
      "chan 17 t1_offset 0 chamber -1 layer -1 fpc -1 wire -1\n",
      "line: 0.000000\t-1\t-1\t-1\t-1\n",
      "chan 18 t1_offset 0 chamber -1 layer -1 fpc -1 wire -1\n",
      "line: 0.000000\t-1\t-1\t-1\t-1\n",
      "chan 19 t1_offset 0 chamber -1 layer -1 fpc -1 wire -1\n",
      "line: 0.000000\t-1\t-1\t-1\t-1\n",
      "chan 20 t1_offset 0 chamber -1 layer -1 fpc -1 wire -1\n",
      "line: 0.000000\t-1\t-1\t-1\t-1\n",
      "chan 21 t1_offset 0 chamber -1 layer -1 fpc -1 wire -1\n",
      "line: 0.000000\t-1\t-1\t-1\t-1\n",
      "chan 22 t1_offset 0 chamber -1 layer -1 fpc -1 wire -1\n",
      "line: 0.000000\t-1\t-1\t-1\t-1\n",
      "chan 23 t1_offset 0 chamber -1 layer -1 fpc -1 wire -1\n",
      "line: 0.000000\t-1\t-1\t-1\t-1\n",
      "chan 24 t1_offset 0 chamber -1 layer -1 fpc -1 wire -1\n",
      "line: 0.000000\t-1\t-1\t-1\t-1\n",
      "chan 25 t1_offset 0 chamber -1 layer -1 fpc -1 wire -1\n",
      "line: 0.000000\t-1\t-1\t-1\t-1\n",
      "chan 26 t1_offset 0 chamber -1 layer -1 fpc -1 wire -1\n",
      "line: 0.000000\t-1\t-1\t-1\t-1\n",
      "chan 27 t1_offset 0 chamber -1 layer -1 fpc -1 wire -1\n",
      "line: 0.000000\t-1\t-1\t-1\t-1\n",
      "chan 28 t1_offset 0 chamber -1 layer -1 fpc -1 wire -1\n",
      "line: 0.000000\t-1\t-1\t-1\t-1\n",
      "chan 29 t1_offset 0 chamber -1 layer -1 fpc -1 wire -1\n",
      "line: 0.000000\t-1\t-1\t-1\t-1\n",
      "chan 30 t1_offset 0 chamber -1 layer -1 fpc -1 wire -1\n",
      "line: 0.000000\t-1\t-1\t-1\t-1\n",
      "chan 31 t1_offset 0 chamber -1 layer -1 fpc -1 wire -1\n",
      "line: 0.000000\t-1\t-1\t-1\t-1\n",
      "chan 32 t1_offset 0 chamber -1 layer -1 fpc -1 wire -1\n",
      "line: 0.000000\t-1\t-1\t-1\t-1\n",
      "chan 33 t1_offset 0 chamber -1 layer -1 fpc -1 wire -1\n",
      "line: 0.000000\t-1\t-1\t-1\t-1\n",
      "chan 34 t1_offset 0 chamber -1 layer -1 fpc -1 wire -1\n",
      "line: 0.000000\t-1\t-1\t-1\t-1\n",
      "chan 35 t1_offset 0 chamber -1 layer -1 fpc -1 wire -1\n",
      "line: 0.000000\t-1\t-1\t-1\t-1\n",
      "chan 36 t1_offset 0 chamber -1 layer -1 fpc -1 wire -1\n",
      "line: 0.000000\t-1\t-1\t-1\t-1\n",
      "chan 37 t1_offset 0 chamber -1 layer -1 fpc -1 wire -1\n",
      "line: 0.000000\t-1\t-1\t-1\t-1\n",
      "chan 38 t1_offset 0 chamber -1 layer -1 fpc -1 wire -1\n",
      "line: 0.000000\t-1\t-1\t-1\t-1\n",
      "chan 39 t1_offset 0 chamber -1 layer -1 fpc -1 wire -1\n",
      "line: 0.000000\t-1\t-1\t-1\t-1\n",
      "chan 40 t1_offset 0 chamber -1 layer -1 fpc -1 wire -1\n",
      "line: 0.000000\t-1\t-1\t-1\t-1\n",
      "chan 41 t1_offset 0 chamber -1 layer -1 fpc -1 wire -1\n",
      "line: 0.000000\t-1\t-1\t-1\t-1\n",
      "chan 42 t1_offset 0 chamber -1 layer -1 fpc -1 wire -1\n",
      "line: 0.000000\t-1\t-1\t-1\t-1\n",
      "chan 43 t1_offset 0 chamber -1 layer -1 fpc -1 wire -1\n",
      "line: 0.000000\t-1\t-1\t-1\t-1\n",
      "chan 44 t1_offset 0 chamber -1 layer -1 fpc -1 wire -1\n",
      "line: 0.000000\t-1\t-1\t-1\t-1\n",
      "chan 45 t1_offset 0 chamber -1 layer -1 fpc -1 wire -1\n",
      "line: 0.000000\t-1\t-1\t-1\t-1\n",
      "chan 46 t1_offset 0 chamber -1 layer -1 fpc -1 wire -1\n",
      "line: 0.000000\t-1\t-1\t-1\t-1\n",
      "chan 47 t1_offset 0 chamber -1 layer -1 fpc -1 wire -1\n",
      "line: 0.000000\t-1\t-1\t-1\t-1\n",
      "chan 48 t1_offset 0 chamber -1 layer -1 fpc -1 wire -1\n",
      "TDC channel prefix/offset (100 possible TDC channels left): 35000\n",
      "    tree: TDC_0350 entries: 6954368\n",
      "\n",
      "\n",
      "found data tree for tdc: TDC_1806\n",
      "get t1 offsets for tdc: 0x1806\n",
      "read t1 offsets of 0x1806\n",
      " \n",
      "line: 0.000000\t-1\t-1\t-1\t143\n",
      "chan 1 t1_offset 0 chamber -1 layer -1 fpc -1 wire 143\n",
      "line: 0.000000\t-1\t-1\t-1\t142\n",
      "chan 2 t1_offset 0 chamber -1 layer -1 fpc -1 wire 142\n",
      "line: 0.000000\t-1\t-1\t-1\t141\n",
      "chan 3 t1_offset 0 chamber -1 layer -1 fpc -1 wire 141\n",
      "line: 0.000000\t-1\t-1\t-1\t140\n",
      "chan 4 t1_offset 0 chamber -1 layer -1 fpc -1 wire 140\n",
      "line: 0.000000\t-1\t-1\t-1\t139\n",
      "chan 5 t1_offset 0 chamber -1 layer -1 fpc -1 wire 139\n",
      "line: 0.000000\t-1\t-1\t-1\t138\n",
      "chan 6 t1_offset 0 chamber -1 layer -1 fpc -1 wire 138\n",
      "line: 0.000000\t-1\t-1\t-1\t137\n",
      "chan 7 t1_offset 0 chamber -1 layer -1 fpc -1 wire 137\n",
      "line: 0.000000\t-1\t-1\t-1\t136\n",
      "chan 8 t1_offset 0 chamber -1 layer -1 fpc -1 wire 136\n",
      "line: 0.000000\t-1\t-1\t-1\t111\n",
      "chan 9 t1_offset 0 chamber -1 layer -1 fpc -1 wire 111\n",
      "line: 0.000000\t-1\t-1\t-1\t110\n",
      "chan 10 t1_offset 0 chamber -1 layer -1 fpc -1 wire 110\n",
      "line: 0.000000\t-1\t-1\t-1\t109\n",
      "chan 11 t1_offset 0 chamber -1 layer -1 fpc -1 wire 109\n",
      "line: 0.000000\t-1\t-1\t-1\t108\n",
      "chan 12 t1_offset 0 chamber -1 layer -1 fpc -1 wire 108\n",
      "line: 0.000000\t-1\t-1\t-1\t107\n",
      "chan 13 t1_offset 0 chamber -1 layer -1 fpc -1 wire 107\n",
      "line: 0.000000\t-1\t-1\t-1\t106\n",
      "chan 14 t1_offset 0 chamber -1 layer -1 fpc -1 wire 106\n",
      "line: 0.000000\t-1\t-1\t-1\t105\n",
      "chan 15 t1_offset 0 chamber -1 layer -1 fpc -1 wire 105\n",
      "line: 0.000000\t-1\t-1\t-1\t104\n",
      "chan 16 t1_offset 0 chamber -1 layer -1 fpc -1 wire 104\n",
      "line: 0.000000\t-1\t-1\t-1\t135\n",
      "chan 17 t1_offset 0 chamber -1 layer -1 fpc -1 wire 135\n",
      "line: 0.000000\t-1\t-1\t-1\t134\n",
      "chan 18 t1_offset 0 chamber -1 layer -1 fpc -1 wire 134\n",
      "line: 0.000000\t-1\t-1\t-1\t133\n",
      "chan 19 t1_offset 0 chamber -1 layer -1 fpc -1 wire 133\n",
      "line: 0.000000\t-1\t-1\t-1\t132\n",
      "chan 20 t1_offset 0 chamber -1 layer -1 fpc -1 wire 132\n",
      "line: 0.000000\t-1\t-1\t-1\t131\n",
      "chan 21 t1_offset 0 chamber -1 layer -1 fpc -1 wire 131\n",
      "line: 0.000000\t-1\t-1\t-1\t130\n",
      "chan 22 t1_offset 0 chamber -1 layer -1 fpc -1 wire 130\n",
      "line: 0.000000\t-1\t-1\t-1\t129\n",
      "chan 23 t1_offset 0 chamber -1 layer -1 fpc -1 wire 129\n",
      "line: 0.000000\t-1\t-1\t-1\t128\n",
      "chan 24 t1_offset 0 chamber -1 layer -1 fpc -1 wire 128\n",
      "line: 0.000000\t-1\t-1\t-1\t103\n",
      "chan 25 t1_offset 0 chamber -1 layer -1 fpc -1 wire 103\n",
      "line: 0.000000\t-1\t-1\t-1\t102\n",
      "chan 26 t1_offset 0 chamber -1 layer -1 fpc -1 wire 102\n",
      "line: 0.000000\t-1\t-1\t-1\t101\n",
      "chan 27 t1_offset 0 chamber -1 layer -1 fpc -1 wire 101\n",
      "line: 0.000000\t-1\t-1\t-1\t100\n",
      "chan 28 t1_offset 0 chamber -1 layer -1 fpc -1 wire 100\n",
      "line: 0.000000\t-1\t-1\t-1\t99\n",
      "chan 29 t1_offset 0 chamber -1 layer -1 fpc -1 wire 99\n",
      "line: 0.000000\t-1\t-1\t-1\t98\n",
      "chan 30 t1_offset 0 chamber -1 layer -1 fpc -1 wire 98\n",
      "line: 0.000000\t-1\t-1\t-1\t97\n",
      "chan 31 t1_offset 0 chamber -1 layer -1 fpc -1 wire 97\n",
      "line: 0.000000\t-1\t-1\t-1\t96\n",
      "chan 32 t1_offset 0 chamber -1 layer -1 fpc -1 wire 96\n",
      "TDC channel prefix/offset (100 possible TDC channels left): 180600\n",
      "    tree: TDC_1806 entries: 5670465\n",
      "\n",
      "\n",
      "found data tree for tdc: TDC_1807\n",
      "get t1 offsets for tdc: 0x1807\n",
      "read t1 offsets of 0x1807\n",
      " \n",
      "line: 0.000000\t-1\t-1\t-1\t127\n",
      "chan 1 t1_offset 0 chamber -1 layer -1 fpc -1 wire 127\n",
      "line: 0.000000\t-1\t-1\t-1\t126\n",
      "chan 2 t1_offset 0 chamber -1 layer -1 fpc -1 wire 126\n",
      "line: 0.000000\t-1\t-1\t-1\t125\n",
      "chan 3 t1_offset 0 chamber -1 layer -1 fpc -1 wire 125\n",
      "line: 0.000000\t-1\t-1\t-1\t124\n",
      "chan 4 t1_offset 0 chamber -1 layer -1 fpc -1 wire 124\n",
      "line: 0.000000\t-1\t-1\t-1\t123\n",
      "chan 5 t1_offset 0 chamber -1 layer -1 fpc -1 wire 123\n",
      "line: 0.000000\t-1\t-1\t-1\t122\n",
      "chan 6 t1_offset 0 chamber -1 layer -1 fpc -1 wire 122\n",
      "line: 0.000000\t-1\t-1\t-1\t121\n",
      "chan 7 t1_offset 0 chamber -1 layer -1 fpc -1 wire 121\n",
      "line: 0.000000\t-1\t-1\t-1\t120\n",
      "chan 8 t1_offset 0 chamber -1 layer -1 fpc -1 wire 120\n",
      "line: 0.000000\t-1\t-1\t-1\t95\n",
      "chan 9 t1_offset 0 chamber -1 layer -1 fpc -1 wire 95\n",
      "line: 0.000000\t-1\t-1\t-1\t94\n",
      "chan 10 t1_offset 0 chamber -1 layer -1 fpc -1 wire 94\n",
      "line: 0.000000\t-1\t-1\t-1\t93\n",
      "chan 11 t1_offset 0 chamber -1 layer -1 fpc -1 wire 93\n",
      "line: 0.000000\t-1\t-1\t-1\t92\n",
      "chan 12 t1_offset 0 chamber -1 layer -1 fpc -1 wire 92\n",
      "line: 0.000000\t-1\t-1\t-1\t91\n",
      "chan 13 t1_offset 0 chamber -1 layer -1 fpc -1 wire 91\n",
      "line: 0.000000\t-1\t-1\t-1\t90\n",
      "chan 14 t1_offset 0 chamber -1 layer -1 fpc -1 wire 90\n",
      "line: 0.000000\t-1\t-1\t-1\t89\n",
      "chan 15 t1_offset 0 chamber -1 layer -1 fpc -1 wire 89\n",
      "line: 0.000000\t-1\t-1\t-1\t88\n",
      "chan 16 t1_offset 0 chamber -1 layer -1 fpc -1 wire 88\n",
      "line: 0.000000\t-1\t-1\t-1\t119\n",
      "chan 17 t1_offset 0 chamber -1 layer -1 fpc -1 wire 119\n",
      "line: 0.000000\t-1\t-1\t-1\t118\n",
      "chan 18 t1_offset 0 chamber -1 layer -1 fpc -1 wire 118\n",
      "line: 0.000000\t-1\t-1\t-1\t117\n",
      "chan 19 t1_offset 0 chamber -1 layer -1 fpc -1 wire 117\n",
      "line: 0.000000\t-1\t-1\t-1\t116\n",
      "chan 20 t1_offset 0 chamber -1 layer -1 fpc -1 wire 116\n",
      "line: 0.000000\t-1\t-1\t-1\t115\n",
      "chan 21 t1_offset 0 chamber -1 layer -1 fpc -1 wire 115\n",
      "line: 0.000000\t-1\t-1\t-1\t114\n",
      "chan 22 t1_offset 0 chamber -1 layer -1 fpc -1 wire 114\n",
      "line: 0.000000\t-1\t-1\t-1\t113\n",
      "chan 23 t1_offset 0 chamber -1 layer -1 fpc -1 wire 113\n",
      "line: 0.000000\t-1\t-1\t-1\t112\n",
      "chan 24 t1_offset 0 chamber -1 layer -1 fpc -1 wire 112\n",
      "line: 0.000000\t-1\t-1\t-1\t87\n",
      "chan 25 t1_offset 0 chamber -1 layer -1 fpc -1 wire 87\n",
      "line: 0.000000\t-1\t-1\t-1\t86\n",
      "chan 26 t1_offset 0 chamber -1 layer -1 fpc -1 wire 86\n",
      "line: 0.000000\t-1\t-1\t-1\t85\n",
      "chan 27 t1_offset 0 chamber -1 layer -1 fpc -1 wire 85\n",
      "line: 0.000000\t-1\t-1\t-1\t84\n",
      "chan 28 t1_offset 0 chamber -1 layer -1 fpc -1 wire 84\n",
      "line: 0.000000\t-1\t-1\t-1\t83\n",
      "chan 29 t1_offset 0 chamber -1 layer -1 fpc -1 wire 83\n",
      "line: 0.000000\t-1\t-1\t-1\t82\n",
      "chan 30 t1_offset 0 chamber -1 layer -1 fpc -1 wire 82\n",
      "line: 0.000000\t-1\t-1\t-1\t81\n",
      "chan 31 t1_offset 0 chamber -1 layer -1 fpc -1 wire 81\n",
      "line: 0.000000\t-1\t-1\t-1\t80\n",
      "chan 32 t1_offset 0 chamber -1 layer -1 fpc -1 wire 80\n",
      "TDC channel prefix/offset (100 possible TDC channels left): 180700\n",
      "    tree: TDC_1807 entries: 8141986\n",
      "\n",
      "\n",
      "found data tree for tdc: TDC_1812\n",
      "get t1 offsets for tdc: 0x1812\n",
      "read t1 offsets of 0x1812\n",
      " \n",
      "line: 0.000000\t-1\t-1\t-1\t7\n",
      "chan 1 t1_offset 0 chamber -1 layer -1 fpc -1 wire 7\n",
      "line: 0.000000\t-1\t-1\t-1\t6\n",
      "chan 2 t1_offset 0 chamber -1 layer -1 fpc -1 wire 6\n",
      "line: 0.000000\t-1\t-1\t-1\t5\n",
      "chan 3 t1_offset 0 chamber -1 layer -1 fpc -1 wire 5\n",
      "line: 0.000000\t-1\t-1\t-1\t4\n",
      "chan 4 t1_offset 0 chamber -1 layer -1 fpc -1 wire 4\n",
      "line: 0.000000\t-1\t-1\t-1\t11\n",
      "chan 5 t1_offset 0 chamber -1 layer -1 fpc -1 wire 11\n",
      "line: 0.000000\t-1\t-1\t-1\t10\n",
      "chan 6 t1_offset 0 chamber -1 layer -1 fpc -1 wire 10\n",
      "line: 0.000000\t-1\t-1\t-1\t9\n",
      "chan 7 t1_offset 0 chamber -1 layer -1 fpc -1 wire 9\n",
      "line: 0.000000\t-1\t-1\t-1\t8\n",
      "chan 8 t1_offset 0 chamber -1 layer -1 fpc -1 wire 8\n",
      "line: 0.000000\t-1\t-1\t-1\t15\n",
      "chan 9 t1_offset 0 chamber -1 layer -1 fpc -1 wire 15\n",
      "line: 0.000000\t-1\t-1\t-1\t14\n",
      "chan 10 t1_offset 0 chamber -1 layer -1 fpc -1 wire 14\n",
      "line: 0.000000\t-1\t-1\t-1\t13\n",
      "chan 11 t1_offset 0 chamber -1 layer -1 fpc -1 wire 13\n",
      "line: 0.000000\t-1\t-1\t-1\t12\n",
      "chan 12 t1_offset 0 chamber -1 layer -1 fpc -1 wire 12\n",
      "line: 0.000000\t-1\t-1\t-1\t19\n",
      "chan 13 t1_offset 0 chamber -1 layer -1 fpc -1 wire 19\n",
      "line: 0.000000\t-1\t-1\t-1\t18\n",
      "chan 14 t1_offset 0 chamber -1 layer -1 fpc -1 wire 18\n",
      "line: 0.000000\t-1\t-1\t-1\t17\n",
      "chan 15 t1_offset 0 chamber -1 layer -1 fpc -1 wire 17\n",
      "line: 0.000000\t-1\t-1\t-1\t16\n",
      "chan 16 t1_offset 0 chamber -1 layer -1 fpc -1 wire 16\n",
      "line: 0.000000\t-1\t-1\t-1\t23\n",
      "chan 17 t1_offset 0 chamber -1 layer -1 fpc -1 wire 23\n",
      "line: 0.000000\t-1\t-1\t-1\t22\n",
      "chan 18 t1_offset 0 chamber -1 layer -1 fpc -1 wire 22\n",
      "line: 0.000000\t-1\t-1\t-1\t21\n",
      "chan 19 t1_offset 0 chamber -1 layer -1 fpc -1 wire 21\n",
      "line: 0.000000\t-1\t-1\t-1\t20\n",
      "chan 20 t1_offset 0 chamber -1 layer -1 fpc -1 wire 20\n",
      "line: 0.000000\t-1\t-1\t-1\t27\n",
      "chan 21 t1_offset 0 chamber -1 layer -1 fpc -1 wire 27\n",
      "line: 0.000000\t-1\t-1\t-1\t26\n",
      "chan 22 t1_offset 0 chamber -1 layer -1 fpc -1 wire 26\n",
      "line: 0.000000\t-1\t-1\t-1\t25\n",
      "chan 23 t1_offset 0 chamber -1 layer -1 fpc -1 wire 25\n",
      "line: 0.000000\t-1\t-1\t-1\t24\n",
      "chan 24 t1_offset 0 chamber -1 layer -1 fpc -1 wire 24\n",
      "line: 0.000000\t-1\t-1\t-1\t31\n",
      "chan 25 t1_offset 0 chamber -1 layer -1 fpc -1 wire 31\n",
      "line: 0.000000\t-1\t-1\t-1\t30\n",
      "chan 26 t1_offset 0 chamber -1 layer -1 fpc -1 wire 30\n",
      "line: 0.000000\t-1\t-1\t-1\t29\n",
      "chan 27 t1_offset 0 chamber -1 layer -1 fpc -1 wire 29\n",
      "line: 0.000000\t-1\t-1\t-1\t28\n",
      "chan 28 t1_offset 0 chamber -1 layer -1 fpc -1 wire 28\n",
      "line: 0.000000\t-1\t-1\t-1\t35\n",
      "chan 29 t1_offset 0 chamber -1 layer -1 fpc -1 wire 35\n",
      "line: 0.000000\t-1\t-1\t-1\t34\n",
      "chan 30 t1_offset 0 chamber -1 layer -1 fpc -1 wire 34\n",
      "line: 0.000000\t-1\t-1\t-1\t33\n",
      "chan 31 t1_offset 0 chamber -1 layer -1 fpc -1 wire 33\n",
      "line: 0.000000\t-1\t-1\t-1\t32\n",
      "chan 32 t1_offset 0 chamber -1 layer -1 fpc -1 wire 32\n",
      "TDC channel prefix/offset (100 possible TDC channels left): 181200\n",
      "    tree: TDC_1812 entries: 8257028\n",
      "\n",
      "\n",
      "found data tree for tdc: TDC_1813\n",
      "get t1 offsets for tdc: 0x1813\n",
      "read t1 offsets of 0x1813\n",
      " \n",
      "line: 0.000000\t-1\t-1\t-1\t31\n",
      "chan 1 t1_offset 0 chamber -1 layer -1 fpc -1 wire 31\n",
      "line: 0.000000\t-1\t-1\t-1\t30\n",
      "chan 2 t1_offset 0 chamber -1 layer -1 fpc -1 wire 30\n",
      "line: 0.000000\t-1\t-1\t-1\t29\n",
      "chan 3 t1_offset 0 chamber -1 layer -1 fpc -1 wire 29\n",
      "line: 0.000000\t-1\t-1\t-1\t28\n",
      "chan 4 t1_offset 0 chamber -1 layer -1 fpc -1 wire 28\n",
      "line: 0.000000\t-1\t-1\t-1\t35\n",
      "chan 5 t1_offset 0 chamber -1 layer -1 fpc -1 wire 35\n",
      "line: 0.000000\t-1\t-1\t-1\t34\n",
      "chan 6 t1_offset 0 chamber -1 layer -1 fpc -1 wire 34\n",
      "line: 0.000000\t-1\t-1\t-1\t33\n",
      "chan 7 t1_offset 0 chamber -1 layer -1 fpc -1 wire 33\n",
      "line: 0.000000\t-1\t-1\t-1\t32\n",
      "chan 8 t1_offset 0 chamber -1 layer -1 fpc -1 wire 32\n",
      "line: 0.000000\t-1\t-1\t-1\t39\n",
      "chan 9 t1_offset 0 chamber -1 layer -1 fpc -1 wire 39\n",
      "line: 0.000000\t-1\t-1\t-1\t38\n",
      "chan 10 t1_offset 0 chamber -1 layer -1 fpc -1 wire 38\n",
      "line: 0.000000\t-1\t-1\t-1\t37\n",
      "chan 11 t1_offset 0 chamber -1 layer -1 fpc -1 wire 37\n",
      "line: 0.000000\t-1\t-1\t-1\t36\n",
      "chan 12 t1_offset 0 chamber -1 layer -1 fpc -1 wire 36\n",
      "line: 0.000000\t-1\t-1\t-1\t43\n",
      "chan 13 t1_offset 0 chamber -1 layer -1 fpc -1 wire 43\n",
      "line: 0.000000\t-1\t-1\t-1\t42\n",
      "chan 14 t1_offset 0 chamber -1 layer -1 fpc -1 wire 42\n",
      "line: 0.000000\t-1\t-1\t-1\t41\n",
      "chan 15 t1_offset 0 chamber -1 layer -1 fpc -1 wire 41\n",
      "line: 0.000000\t-1\t-1\t-1\t40\n",
      "chan 16 t1_offset 0 chamber -1 layer -1 fpc -1 wire 40\n",
      "line: 0.000000\t-1\t-1\t-1\t35\n",
      "chan 17 t1_offset 0 chamber -1 layer -1 fpc -1 wire 35\n",
      "line: 0.000000\t-1\t-1\t-1\t34\n",
      "chan 18 t1_offset 0 chamber -1 layer -1 fpc -1 wire 34\n",
      "line: 0.000000\t-1\t-1\t-1\t33\n",
      "chan 19 t1_offset 0 chamber -1 layer -1 fpc -1 wire 33\n",
      "line: 0.000000\t-1\t-1\t-1\t32\n",
      "chan 20 t1_offset 0 chamber -1 layer -1 fpc -1 wire 32\n",
      "line: 0.000000\t-1\t-1\t-1\t39\n",
      "chan 21 t1_offset 0 chamber -1 layer -1 fpc -1 wire 39\n",
      "line: 0.000000\t-1\t-1\t-1\t38\n",
      "chan 22 t1_offset 0 chamber -1 layer -1 fpc -1 wire 38\n",
      "line: 0.000000\t-1\t-1\t-1\t37\n",
      "chan 23 t1_offset 0 chamber -1 layer -1 fpc -1 wire 37\n",
      "line: 0.000000\t-1\t-1\t-1\t36\n",
      "chan 24 t1_offset 0 chamber -1 layer -1 fpc -1 wire 36\n",
      "line: 0.000000\t-1\t-1\t-1\t47\n",
      "chan 25 t1_offset 0 chamber -1 layer -1 fpc -1 wire 47\n",
      "line: 0.000000\t-1\t-1\t-1\t46\n",
      "chan 26 t1_offset 0 chamber -1 layer -1 fpc -1 wire 46\n",
      "line: 0.000000\t-1\t-1\t-1\t45\n",
      "chan 27 t1_offset 0 chamber -1 layer -1 fpc -1 wire 45\n",
      "line: 0.000000\t-1\t-1\t-1\t44\n",
      "chan 28 t1_offset 0 chamber -1 layer -1 fpc -1 wire 44\n",
      "line: 0.000000\t-1\t-1\t-1\t51\n",
      "chan 29 t1_offset 0 chamber -1 layer -1 fpc -1 wire 51\n",
      "line: 0.000000\t-1\t-1\t-1\t50\n",
      "chan 30 t1_offset 0 chamber -1 layer -1 fpc -1 wire 50\n",
      "line: 0.000000\t-1\t-1\t-1\t49\n",
      "chan 31 t1_offset 0 chamber -1 layer -1 fpc -1 wire 49\n",
      "line: 0.000000\t-1\t-1\t-1\t48\n",
      "chan 32 t1_offset 0 chamber -1 layer -1 fpc -1 wire 48\n",
      "TDC channel prefix/offset (100 possible TDC channels left): 181300\n",
      "    tree: TDC_1813 entries: 5638119\n",
      "\n",
      "\n",
      "found data tree for tdc: TDC_0350\n",
      "found data tree for tdc: TDC_1806\n",
      "found data tree for tdc: TDC_1807\n",
      "found data tree for tdc: TDC_1812\n",
      "found data tree for tdc: TDC_1813\n"
     ]
    },
    {
     "name": "stderr",
     "output_type": "stream",
     "text": [
      ">WARNING: Status-Bit(s) have been set:\n",
      ">WARNING: CommonStatusBits: 0x0000, Channel#3 StatusBits: 0x0000\n",
      ">WARNING:    COM_EndpointReached: no endpoint has been reached\n",
      ">WARNING: Status-Bit(s) have been set:\n",
      ">WARNING: CommonStatusBits: 0x0000, Channel#3 StatusBits: 0x0000\n",
      ">WARNING:    COM_EndpointReached: no endpoint has been reached\n",
      ">WARNING: Status-Bit(s) have been set:\n",
      ">WARNING: CommonStatusBits: 0x0000, Channel#3 StatusBits: 0x0000\n",
      ">WARNING:    COM_EndpointReached: no endpoint has been reached\n",
      ">WARNING: Status-Bit(s) have been set:\n",
      ">WARNING: CommonStatusBits: 0x0000, Channel#3 StatusBits: 0x0000\n",
      ">WARNING:    COM_EndpointReached: no endpoint has been reached\n",
      ">WARNING: Status-Bit(s) have been set:\n",
      ">WARNING: CommonStatusBits: 0x0000, Channel#3 StatusBits: 0x0000\n",
      ">WARNING:    COM_EndpointReached: no endpoint has been reached\n",
      ">WARNING: Status-Bit(s) have been set:\n",
      ">WARNING: CommonStatusBits: 0x0000, Channel#3 StatusBits: 0x0000\n",
      ">WARNING:    COM_EndpointReached: no endpoint has been reached\n",
      ">WARNING: Status-Bit(s) have been set:\n",
      ">WARNING: CommonStatusBits: 0x0000, Channel#3 StatusBits: 0x0000\n",
      ">WARNING:    COM_EndpointReached: no endpoint has been reached\n",
      ">WARNING: Status-Bit(s) have been set:\n",
      ">WARNING: CommonStatusBits: 0x0000, Channel#3 StatusBits: 0x0000\n",
      ">WARNING:    COM_EndpointReached: no endpoint has been reached\n",
      ">WARNING: Status-Bit(s) have been set:\n",
      ">WARNING: CommonStatusBits: 0x0000, Channel#3 StatusBits: 0x0000\n",
      ">WARNING:    COM_EndpointReached: no endpoint has been reached\n",
      ">WARNING: Status-Bit(s) have been set:\n",
      ">WARNING: CommonStatusBits: 0x0000, Channel#3 StatusBits: 0x0000\n",
      ">WARNING:    COM_EndpointReached: no endpoint has been reached\n",
      ">WARNING: Status-Bit(s) have been set:\n",
      ">WARNING: CommonStatusBits: 0x0000, Channel#3 StatusBits: 0x0000\n",
      ">WARNING:    COM_EndpointReached: no endpoint has been reached\n",
      ">WARNING: Status-Bit(s) have been set:\n",
      ">WARNING: CommonStatusBits: 0x0000, Channel#3 StatusBits: 0x0000\n",
      ">WARNING:    COM_EndpointReached: no endpoint has been reached\n",
      ">WARNING: Status-Bit(s) have been set:\n",
      ">WARNING: CommonStatusBits: 0x0000, Channel#3 StatusBits: 0x0000\n",
      ">WARNING:    COM_EndpointReached: no endpoint has been reached\n",
      ">WARNING: Status-Bit(s) have been set:\n",
      ">WARNING: CommonStatusBits: 0x0000, Channel#3 StatusBits: 0x0000\n",
      ">WARNING:    COM_EndpointReached: no endpoint has been reached\n",
      ">WARNING: Status-Bit(s) have been set:\n",
      ">WARNING: CommonStatusBits: 0x0000, Channel#3 StatusBits: 0x0000\n",
      ">WARNING:    COM_EndpointReached: no endpoint has been reached\n",
      "rm: cannot remove '*.root': No such file or directory\n",
      "Info in <TUnixSystem::ACLiC>: creating shared library /workdir/./first_C.so\n",
      "Info in <TUnixSystem::ACLiC>: creating shared library /workdir/./second_C.so\n"
     ]
    }
   ],
   "source": [
    "##################################################\n",
    "##   clear data dir, copy root file or measure fresh    ##\n",
    "##################################################\n",
    "import hameg_trb \n",
    "import os \n",
    "import time\n",
    "import scalers\n",
    "import IPython.display as ipd\n",
    "import numpy\n",
    "t = numpy.linspace(0, 0.5, int(0.6*24090), endpoint=False) # time variable\n",
    "x = 0.5*numpy.sin(2*numpy.pi*550*t)    \n",
    "        \n",
    "# boards_scan_list = ['0110', '0011', '0010', '0015', '0016', '0009', '0017', '0020', '0023', '0030', '0110', '0029', '0002', '0027', '0101', '0025', '0004', '0026', '0022', '0003', '0014', '0021', '0018', '0104', '0006', '0028', '0103', '0102', '0008', '0005']\n",
    "#boards_scan_list = ['0010', '0101', '0011', '0002', '0009', '0004', '0015', '0027', '0016', '0025', '0017', '0026', '0022', '0020', '0003', '0023', '0030', '0014', '0021', '0029', '0018', '0104', '0103', '0006', '0008', '0102', '0028']\n",
    "#boards_scan_list = ['0010', '0011', '0009', '0015', '0016', '0017', '0020', '0023', '0030', '0029', '0101', '0002', '0004', '0027', '0025', '0026', '0022', '0003', '0014', '0021', '0018', '0104', '0006', '0028']\n",
    "# boards_scan_list = ['0010', '0009', '0011', '0015', '0016', '0017', '0020', '0023', '0030', '0029', '0027', '0002', '0004', '0025', '0026', '0022', '0003', '0014', '0021', '0018', '0006', '0028', '0008', '0005']\n",
    "#boards_scan_list = ['0014', '0005', '0021', '0022', '0025', '0003', '0026', '0027', '0008', '0004', '0002', '0101', '0029', '0030', '0028', '0023', '0020', '0017', '0016', '0006', '0015', '0010', '0011', '0009']\n",
    "\n",
    "data_file_list = []\n",
    "current_list = []\n",
    "volt_list = []\n",
    "current_list2 = []\n",
    "volt_list2 = []\n",
    "\n",
    "tdc_channels = list(range(0, number_of_TDC_channels))\n",
    "scaler_list_trend_channel = [ []  for i in range(16)] \n",
    "scinti_rate = [[] for i in range(0,2)]\n",
    "    \n",
    "#for my_board in db.board_list():\n",
    "#            db.unset_standby_board(my_board)\n",
    " \n",
    "print(message)\n",
    "alert(message)\n",
    "#for timestep in range(0,ntimesteps):\n",
    "for spike_reject in spike_reject_list:\n",
    " setup = db.get_setup_json()\n",
    " setup[\"global_settings\"][\"spike_rejection\"] = spike_reject\n",
    " setup[\"global_settings\"][\"t1_L\"] =     t1_min\n",
    " setup[\"global_settings\"][\"t1_R\"] =     t1_max\n",
    " setup[\"global_settings\"][\"reference_channel\"] =     ref_channel    \n",
    " db.write_setup_json(setup)\n",
    " db.write_go4_settings_h()\n",
    "\n",
    " for spike_reject_TDC in spike_reject_list_TDC:\n",
    " #setTDC spike rejection to ~50ns \n",
    "  os.system(\"trbcmd loadbit 0x1801 0xd580 0xf0000000 0x{:d}0000000\".format(spike_reject_TDC))\n",
    "\n",
    "  for HV in HVlist:\n",
    "  # for tdc in TDClist:\n",
    "      #  print(\"trbcmd loadbit {} 0xd580 0x300 0x{}00\".format(tdc, ptime))\n",
    "   #     os.system(\"trbcmd loadbit {} 0xd580 0x300 0x{}00\".format(tdc, ptime))\n",
    "   for ptime in ptime_list: \n",
    "    for pt_gain in pt_gain_list:     \n",
    "     for pt_threshold in pt_threshold_list:    \n",
    "      for my_board in db.board_list():\n",
    "        db.set_standby_board(my_board)\n",
    "      import random\n",
    "      random.shuffle(boards_scan_list)\n",
    "      iboard = -boards_to_activate_on_one_step\n",
    "      for p in range(0,int(len(boards_scan_list)/boards_to_activate_on_one_step)): \n",
    "        iboard += boards_to_activate_on_one_step\n",
    "        \n",
    "        #alert(message)\n",
    "        import IPython.display as ipd\n",
    "        import numpy\n",
    "        t = numpy.linspace(0, 0.5, int(0.6*24090), endpoint=False) # time variable\n",
    "        x = 0.5*numpy.sin(2*numpy.pi*650*t)    \n",
    "        ipd.Audio(x, rate=24090, autoplay=True) # load a NumPy array\n",
    "        time.sleep(5)\n",
    "               \n",
    "        for my_board in db.board_list():\n",
    "            for p_act in range(0,boards_to_activate_on_one_step):\n",
    "                if my_board == boards_scan_list[iboard+p_act]:\n",
    "                    db.unset_standby_board(my_board)\n",
    "                    db.enable_board(my_board)\n",
    "                    print(\"activate board: \",my_board)\n",
    "        # enable data taking boards:\n",
    "#         print(\"enable data taking boards\")\n",
    "        for my_board in board_list:\n",
    "            db.unset_standby_board(my_board)\n",
    "            db.enable_board(my_board)\n",
    "        td.enable_tdc_channels_of_active_boards()\n",
    "       # ptc.init_boards_by_name(db.board_list())    \n",
    "        #ptc.init_active_boards()\n",
    "#         print(\"init\")\n",
    "        ptc.init_boards_by_name(board_list, ptime, pt_gain, pt_threshold)   \n",
    "                        # init_boards_by_name(board_list,pktime=-1,gain=-1,threshold=-1):\n",
    "#         print(\"threshold\")        \n",
    "        for name in board_list:\n",
    "            #baseline_calib.set_baselines_individual(name, [-15]*16 )   \n",
    "            ptc.set_threshold_for_board_by_name(name,pt_threshold)\n",
    "        # startr measurements, with spill start:\n",
    "        if wait_for_beam:\n",
    "                wait_for_spill_break(threshold_rate=spillbreak_rate_scintillator)\n",
    "                wait_for_spill(threshold_rate=spillbreak_rate_scintillator)\n",
    "#         print(hameg_trb.get_curr(3), hameg_trb.get_curr(4))\n",
    "        scaler_rates = td.scaler_rate_of_TDC(\"0x1807\",tdc_channels,5) \n",
    "        for ch in range(0,len(scaler_rates)):\n",
    "                    scaler_list_trend_channel[ch] += [ scaler_rates[ch] ]\n",
    "        #scaler_rates = td.scaler_rate_of_board(name,2) \n",
    "        #tdc_daq.scaler_rate(TDC,channels,scan_time)[ch]\n",
    "        #take_data(events=20000)\n",
    "        # uses only trigger by TDC 0350 channel 49 as the reference. \n",
    "        # either Scitillator inpot or puls generator input to this channel, needs to be used\n",
    "        beep()\n",
    "        print(\"start data taking: HV_{:d}, peaking time_{:d}, threshold_{:d}, gain_{:d} # of boards active_{:d}, offline spike rejection_{:d}, TDC spike rejection_{:d}\".format(HV,ptime,pt_threshold,pt_gain,iboard,spike_reject,spike_reject_TDC))\n",
    "        import datetime\n",
    "        now = datetime.datetime.now()\n",
    "        print(\"Starting now {:s} \".format(str(datetime.datetime.now())))\n",
    "        \n",
    "#         upstream = scalers.scaler_rate(\"0x0350\",[49],4)\n",
    "#         downstream = scalers.scaler_rate(\"0x0350\",[50],4)\n",
    "        scaler_rates = td.scaler_rate(\"0x0350\",channellist,30)\n",
    "        for ch in range(0,len(scaler_rates)):\n",
    "                scinti_rate[ch] += [ scaler_rates[ch] ]\n",
    "        #print(\"beam intensity measured by scintillator rates: upstream =\"+scinti_rate[0]+\", downstream = \"+downstream )\n",
    "        startttime=datetime.datetime.now()\n",
    "        print(\"Starting now {:s} \".format(str(datetime.datetime.now())))\n",
    "        take_data(time=data_taking_duration)\n",
    "        print(\"stopped now {:s} \".format(str(datetime.datetime.now())))\n",
    "        print(datetime.datetime.now()-startttime)\n",
    "        #import time as time\n",
    "        #time.sleep(5) # prevents crashing the trbsystem (probably only needed with high traffic, while low thresholds ...) \n",
    "\n",
    "        ipd.Audio(x, rate=24090, autoplay=True) # load a NumPy array\n",
    "        \n",
    "        current_list += [ hameg_trb.get_curr(3) ]\n",
    "        volt_list += [ hameg_trb.get_volt(3) ]\n",
    "        current_list2 += [ hameg_trb.get_curr(4) ]\n",
    "        volt_list2 += [ hameg_trb.get_volt(4) ] \n",
    "\n",
    "        print(hameg_trb.get_curr(3), hameg_trb.get_curr(4))\n",
    "     # clear_data_dir()\n",
    "        data_file = \"{:s}/ID{:s}_HV{:d}V_ptime_{:d}_thr_{:d}_gain_{:d}_boardsON_{:d}_sr_{:d}_srTDC_{:d}.root\".format(data_dir,dataset_id,HV,ptime,pt_threshold,pt_gain,iboard,spike_reject,spike_reject_TDC)\n",
    "        print(\"data file written: \", data_file)\n",
    "        #os.system(\"cp /workdir/tree_out.root {:s}\".format(data_file))\n",
    "        os.system(\"cp /workdir/joint_tree.root {:s}\".format(data_file))\n",
    "        data_file_list.append(data_file)\n",
    "\n",
    "  # write data file list to disk, for later analysis\n",
    "import pickle\n",
    "with open(\"{:s}/datasetID_{:s}_list.pickle\".format(data_dir,dataset_id), 'wb') as fp:\n",
    "    pickle.dump(data_file_list, fp)  \n",
    "print(fp)"
   ]
  },
  {
   "cell_type": "code",
   "execution_count": 4,
   "metadata": {
    "scrolled": false
   },
   "outputs": [
    {
     "data": {
      "image/png": "[encoded data removed]",
      "text/plain": [
       "<matplotlib.figure.Figure at 0x7fedaf6eef28>"
      ]
     },
     "metadata": {},
     "output_type": "display_data"
    },
    {
     "data": {
      "image/png": "[encoded data removed]",
      "text/plain": [
       "<matplotlib.figure.Figure at 0x7fed5524bdd8>"
      ]
     },
     "metadata": {},
     "output_type": "display_data"
    },
    {
     "data": {
      "image/png": "[encoded data removed]",
      "text/plain": [
       "<matplotlib.figure.Figure at 0x7fed4d1aa3c8>"
      ]
     },
     "metadata": {},
     "output_type": "display_data"
    }
   ],
   "source": [
    "\n",
    "from matplotlib import pyplot as plt\n",
    "%matplotlib inline\n",
    "plt.figure(num=None, figsize=(5, 4), dpi=80, facecolor='w', edgecolor='k')        \n",
    "plt.scatter(range(0,len(current_list)),current_list)    \n",
    "plt.xlabel(\"data set\")\n",
    "plt.ylabel(\"supply current [A] of all PASTTREC boards 101 (5V layer 2) \")\n",
    "plt.show()\n",
    "plt.figure(num=None, figsize=(5, 4), dpi=80, facecolor='w', edgecolor='k') \n",
    "plt.scatter(range(0,len(current_list2)),current_list2)        \n",
    "plt.xlabel(\"data set\")\n",
    "plt.ylabel(\"supply current [A] of PASTTREC board 110 (5V layer 3) \")\n",
    "plt.show()\n",
    "\n",
    "plt.figure(num=None, figsize=(5, 4), dpi=80, facecolor='w', edgecolor='k') \n",
    "plt.scatter(range(0,len(volt_list)),volt_list,alpha=0.3,label = \"5V layer 2\")\n",
    "plt.scatter(range(0,len(volt_list2)),volt_list2,alpha=0.3,label = \"5V layer 3\")      \n",
    "plt.xlabel(\"data set\")\n",
    "plt.ylabel(\"supply voltage [V] of all PASTTREC boards  \")\n",
    "plt.legend()\n",
    "plt.show()"
   ]
  },
  {
   "cell_type": "code",
   "execution_count": 5,
   "metadata": {
    "scrolled": false
   },
   "outputs": [
    {
     "data": {
      "image/png": "[encoded data removed]",
      "text/plain": [
       "<matplotlib.figure.Figure at 0x7fedac2bb668>"
      ]
     },
     "metadata": {
      "needs_background": "light"
     },
     "output_type": "display_data"
    },
    {
     "data": {
      "image/png": "[encoded data removed]",
      "text/plain": [
       "<matplotlib.figure.Figure at 0x7fed4d1b15f8>"
      ]
     },
     "metadata": {
      "needs_background": "light"
     },
     "output_type": "display_data"
    },
    {
     "data": {
      "image/png": "[encoded data removed]",
      "text/plain": [
       "<matplotlib.figure.Figure at 0x7fed4d13b240>"
      ]
     },
     "metadata": {
      "needs_background": "light"
     },
     "output_type": "display_data"
    },
    {
     "data": {
      "image/png": "[encoded data removed]",
      "text/plain": [
       "<matplotlib.figure.Figure at 0x7fed4d0cd5c0>"
      ]
     },
     "metadata": {
      "needs_background": "light"
     },
     "output_type": "display_data"
    },
    {
     "data": {
      "image/png": "[encoded data removed]",
      "text/plain": [
       "<matplotlib.figure.Figure at 0x7fed4d078400>"
      ]
     },
     "metadata": {
      "needs_background": "light"
     },
     "output_type": "display_data"
    },
    {
     "data": {
      "image/png": "[encoded data removed]",
      "text/plain": [
       "<matplotlib.figure.Figure at 0x7fed4cff7780>"
      ]
     },
     "metadata": {
      "needs_background": "light"
     },
     "output_type": "display_data"
    },
    {
     "data": {
      "image/png": "[encoded data removed]",
      "text/plain": [
       "<matplotlib.figure.Figure at 0x7fed4d05c1d0>"
      ]
     },
     "metadata": {
      "needs_background": "light"
     },
     "output_type": "display_data"
    },
    {
     "data": {
      "image/png": "[encoded data removed]",
      "text/plain": [
       "<matplotlib.figure.Figure at 0x7fed4cf3b1d0>"
      ]
     },
     "metadata": {
      "needs_background": "light"
     },
     "output_type": "display_data"
    },
    {
     "data": {
      "image/png": "[encoded data removed]",
      "text/plain": [
       "<matplotlib.figure.Figure at 0x7fed4cea2c18>"
      ]
     },
     "metadata": {
      "needs_background": "light"
     },
     "output_type": "display_data"
    },
    {
     "data": {
      "image/png": "[encoded data removed]",
      "text/plain": [
       "<matplotlib.figure.Figure at 0x7fed4ce695f8>"
      ]
     },
     "metadata": {
      "needs_background": "light"
     },
     "output_type": "display_data"
    },
    {
     "name": "stderr",
     "output_type": "stream",
     "text": [
      "No handles with labels found to put in legend.\n"
     ]
    },
    {
     "data": {
      "image/png": "[encoded data removed]",
      "text/plain": [
       "<matplotlib.figure.Figure at 0x7fed4ce474e0>"
      ]
     },
     "metadata": {
      "needs_background": "light"
     },
     "output_type": "display_data"
    },
    {
     "name": "stderr",
     "output_type": "stream",
     "text": [
      "No handles with labels found to put in legend.\n"
     ]
    },
    {
     "data": {
      "image/png": "[encoded data removed]",
      "text/plain": [
       "<matplotlib.figure.Figure at 0x7fed4ce86208>"
      ]
     },
     "metadata": {
      "needs_background": "light"
     },
     "output_type": "display_data"
    },
    {
     "name": "stderr",
     "output_type": "stream",
     "text": [
      "No handles with labels found to put in legend.\n"
     ]
    },
    {
     "data": {
      "image/png": "[encoded data removed]",
      "text/plain": [
       "<matplotlib.figure.Figure at 0x7fed4cea2c88>"
      ]
     },
     "metadata": {
      "needs_background": "light"
     },
     "output_type": "display_data"
    },
    {
     "name": "stderr",
     "output_type": "stream",
     "text": [
      "No handles with labels found to put in legend.\n"
     ]
    },
    {
     "data": {
      "image/png": "[encoded data removed]",
      "text/plain": [
       "<matplotlib.figure.Figure at 0x7fed4d181128>"
      ]
     },
     "metadata": {
      "needs_background": "light"
     },
     "output_type": "display_data"
    },
    {
     "name": "stderr",
     "output_type": "stream",
     "text": [
      "No handles with labels found to put in legend.\n"
     ]
    },
    {
     "data": {
      "image/png": "[encoded data removed]",
      "text/plain": [
       "<matplotlib.figure.Figure at 0x7fed4cd99e10>"
      ]
     },
     "metadata": {
      "needs_background": "light"
     },
     "output_type": "display_data"
    },
    {
     "name": "stderr",
     "output_type": "stream",
     "text": [
      "No handles with labels found to put in legend.\n"
     ]
    },
    {
     "data": {
      "image/png": "[encoded data removed]",
      "text/plain": [
       "<matplotlib.figure.Figure at 0x7fed4ce22d68>"
      ]
     },
     "metadata": {
      "needs_background": "light"
     },
     "output_type": "display_data"
    }
   ],
   "source": [
    " \n",
    "for ch in range(0,len(scaler_list_trend_channel)):\n",
    "    if scaler_list_trend_channel[ch]:\n",
    "            plt.errorbar(range(0,len(scaler_list_trend_channel[ch])),scaler_list_trend_channel[ch], yerr=None, xerr=None, fmt='o:', alpha=0.9,label = \"board {:s} channel {:d}\".format(name,ch))\n",
    "            plt.xlabel(\"trend \")\n",
    "            plt.ylabel(\"scaler rates\")  \n",
    "    plt.legend()\n",
    "    plt.show()"
   ]
  },
  {
   "cell_type": "code",
   "execution_count": 6,
   "metadata": {},
   "outputs": [
    {
     "name": "stdout",
     "output_type": "stream",
     "text": [
      "<_io.BufferedWriter name='/workdir/jupyter/Cosy2021Nov_tot_data_taking_data/datasetID_11_highstat_settB_beamfocus_list.pickle'>\n"
     ]
    },
    {
     "data": {
      "text/html": [
       "<script>alert('finished');</script>"
      ],
      "text/plain": [
       "<IPython.core.display.HTML object>"
      ]
     },
     "metadata": {},
     "output_type": "display_data"
    }
   ],
   "source": [
    "  # write data file list to disk, for later analysis\n",
    "import pickle \n",
    "with open(\"{:s}/datasetID_{:s}_list.pickle\".format(data_dir,dataset_id), 'wb') as fp:\n",
    "    pickle.dump(data_file_list, fp)  \n",
    "print(fp)\n",
    "alert(\"finished\")\n",
    "#data_file_list = pickle.load(fp) "
   ]
  },
  {
   "cell_type": "code",
   "execution_count": 7,
   "metadata": {},
   "outputs": [],
   "source": [
    "# archive(label=\"ID_{:s}_tot_data_cosy2021_lena_newMBOs\".format(dataset_id))\n",
    "\n",
    "\n",
    "# list_file =\"/workdir/jupyter/Cosy2021Nov_tot_data_taking_data/datasetID_06_b_hvscan_SettingB_highintens_list.pickle\"\n",
    "\n",
    "# if \".pickle\" in list_file:\n",
    "#     with open (list_file,'rb') as fp:\n",
    "#      data_file_list = pickle.load(fp) \n",
    "# # print(data_file_list)\n",
    "\n",
    "# list_file =\"/workdir/jupyter/Cosy2021Nov_tot_data_taking_data/datasetID_06_hvscan_SettingB_highintens_list.pickle\"\n",
    "\n",
    "# if \".pickle\" in list_file:\n",
    "#     with open (list_file,'rb') as fp:\n",
    "#      data_file_list += pickle.load(fp) \n",
    "    \n",
    "# print(data_file_list)"
   ]
  },
  {
   "cell_type": "code",
   "execution_count": null,
   "metadata": {
    "scrolled": false
   },
   "outputs": [],
   "source": [
    "\n",
    "##################################################\n",
    "##               slurp root file                ##\n",
    "##################################################\n",
    " \n",
    "#with open ('/workdir/jupyter/tot_data_taking_data/HV1600V_ptime_15_threshold_50_gain_4_boardsON_23.rootlist.pickle', 'rb') as fp:\n",
    "\n",
    "counts=[]\n",
    "\n",
    "#f = ROOT.TFile(\"/workdir/tree_out.root\".format(data_dir))\n",
    "#tree = f.Get(\"TDC_1503\")\n",
    "#print(\"data entries TDC_1503: \" + str(tree.GetEntries()))\n",
    "i = -1\n",
    "clist = [None]*100\n",
    "print(\"data file   ,\", \"tot_mostprob\", \"signalcounts\", \"noisecounts\", \"sn_ratio\", \"significance\")\n",
    "    \n",
    "for data_file in data_file_list:\n",
    "    i += 1\n",
    "    print(data_file)\n",
    "    f = ROOT.TFile(\"{:s}\".format(data_file))\n",
    "    #f = ROOT.TFile(\"{:s}\".format(\"/workdir/tree_out.root\"))    \n",
    "    tree = f.Get(\"joint_tree\")\n",
    "    #tree = f.Get(\"TDC_1800\")\n",
    "    #print(\"data entries: \" + str(tree.GetEntries()))\n",
    "    ## plot data:\n",
    "    clist[i] = ROOT.TCanvas(\"myCanvasName\"+str(i),str(data_file),1600,600)\n",
    "    clist[i].Divide(2,1)\n",
    "    clist[i].cd(1)    \n",
    "    #tree.Draw(\"tot>>htot(300,0,300)\",\"chan > 150300 && chan < 150316\")\n",
    "    #tree.Draw(\"tot>>htot2(300,0,300)\",\"chan > 035300 && chan < 035316\",\"same\")   \n",
    "    tree.Draw(\"tot>>htot3(300,0,1000)\",\"chan == 180704\") \n",
    "    tree.Draw(\"tot>>htot2(300,0,1000)\",\"chan == 181305\") \n",
    "    #tree = f.Get(\"TDC_1503\")\n",
    "    #tree.Draw(\"tot>>htot(300,0,1000)\",\"chan > 00\") \n",
    "    #tree.Draw(\"tot>>htot3(100,0,600)\",\"chan > 180000 && chan < 180099\")  \n",
    "    #tree.Draw(\"tot>>htot2(100,0,600)\",\"chan > 180100 && chan < 180199\") \n",
    "    #tree.Draw(\"tot>>htot3(100,0,600)\",\"chan > 180200 && chan < 180299\") \n",
    "    #tree.Draw(\"tot>>htot2(100,0,600)\",\"chan > 180300 && chan < 180399\")  \n",
    "    #tree.Draw(\"tot>>htot3(100,0,600)\",\"chan > 0\") \n",
    "    #tree.Draw(\"tot>>htot4(100,0,600)\",\"chan > 150300 && chan < 150399\")    \n",
    "    tree.Draw(\"tot>>htot4(300,0,1000)\",\"chan == 181305\") \n",
    "    tree.Draw(\"tot>>htot(100,0,300)\",\"chan == 180706\")\n",
    "    clist[i].Draw()\n",
    "    htot = f.Get(\"htot\")\n",
    "    htot2 = f.Get(\"htot2\")\n",
    "    htot3 = f.Get(\"htot3\")\n",
    "    htot4 = f.Get(\"htot4\")    \n",
    "    \n",
    "    htot.GetXaxis().SetTitle(\"ToT [ns]\")\n",
    "    htot.GetYaxis().SetTitle(\"counts\")\n",
    "    leg = ROOT.TLegend(.73,.32,.97,.53)\n",
    "    leg.SetBorderSize(0)\n",
    "    leg.SetFillColor(0)\n",
    "    leg.SetFillStyle(0)\n",
    "    leg.SetTextFont(42)\n",
    "    leg.SetTextSize(0.035)\n",
    "    leg.AddEntry(htot,htot.GetTitle());\n",
    "    leg.AddEntry(htot2,htot2.GetTitle());\n",
    "    leg.AddEntry(htot3,htot3.GetTitle());\n",
    "    leg.AddEntry(htot4,htot4.GetTitle());     \n",
    "    \n",
    "    htot.SetTitle(data_file.strip(\"workdir/jupyter/tot_data_taking_data\"))\n",
    "    htot2.SetLineColor(6)\n",
    "    htot.SetMinimum(0.1)\n",
    "    htot.DrawCopy(\"\")\n",
    "    htot2.DrawCopy(\"same\")\n",
    "    htot3.SetLineColor(7)\n",
    "#     htot3.DrawCopy(\"e p0 same\")\n",
    "    htot4.SetLineColor(8)\n",
    "    #htot4.DrawCopy(\"e p0 same\")\n",
    "   # tree.Draw(\"trig_no>>triggmdc(100,0,1e9)\",\"\") \n",
    "    #triggmdc = f.Get(\"triggmdc\")\n",
    "    #trigcounts =(triggmdc.GetEntries())\n",
    "  #  triggmdc.DrawCopy(\"colz\")\n",
    "    \n",
    "    leg.Draw();\n",
    "    #clist[i].cd(1).SetLogy()\n",
    "\n",
    "    fish = f.Get(\"meta_fish\")\n",
    "    fish = f.Get(\"0x1807_potato\")\n",
    "    #fish.GetXaxis().SetRangeUser(-200,100)\n",
    "    #fish.GetYaxis().SetRangeUser(50,500)\n",
    "    fish.DrawCopy(\"colz\")\n",
    "    clist[i].Draw()\n",
    "    clist[i].cd(2)      \n",
    "    tdc=1807\n",
    "    disp_channels = 10\n",
    "    tree.Draw(\"tot:t1>>tot_meta(100,-700,0,300,-10,400)\",\"chan>{:d} && chan<{:d}\".format(tdc*100,tdc*100+disp_channels),\"colz\")\n",
    "    potato = f.Get(\"tot_meta\")\n",
    "    potato.DrawCopy(\"colz\")\n",
    "   \n",
    "#     fish = f.Get(\"meta_fish\")\n",
    "    fish = f.Get(\"0x1807_potato\")\n",
    "    fish.GetXaxis().SetRangeUser(-200,100)\n",
    "    fish.GetYaxis().SetRangeUser(50,500)\n",
    "#     counts.append(fish.GetEntries())\n",
    "    \n",
    "    fish.DrawCopy(\"colz\")\n",
    "#\n",
    " #   tree.Draw(\"trig_no>>triggmdc(100,0,1e9)\",\"chan == 180706\") \n",
    "  #  triggmdc = f.Get(\"triggmdc\")\n",
    "   # counts.append(triggmdc.GetEntries()/trigcounts)\n",
    "    #triggmdc.DrawCopy(\"colz\")\n",
    "    clist[i].Draw()\n",
    "    \n",
    "    \n",
    "    tot_mostprob = htot.GetXaxis().GetBinCenter(htot.GetMaximumBin())\n",
    "    \n",
    "    signalcounts  = htot.Integral(htot.FindBin(40),htot.GetNbinsX())\n",
    "    noisecounts   = htot.Integral(1,htot.FindBin(40))\n",
    "    if noisecounts == 0:\n",
    "        sn_ratio = -1\n",
    "        significance = -1\n",
    "    else:\n",
    "        sn_ratio = signalcounts/noisecounts\n",
    "        significance = signalcounts/np.sqrt(signalcounts+noisecounts)\n",
    "    print(  htot.GetTitle() , \"| \",  tot_mostprob,\"| \", signalcounts,\"| \", noisecounts,\"| \", \"{:.2f}\".format(sn_ratio),\"| \", \"{:.2f}\".format(significance))\n",
    "    \n",
    "    \n",
    "    print(  htot.GetTitle() , \"| \",  tot_mostprob,\"| \", signalcounts,\"| \", noisecounts,\"| \", \"{:.2f}\".format(sn_ratio),\"| \", \"{:.2f}\".format(significance))\n"
   ]
  },
  {
   "cell_type": "code",
   "execution_count": 9,
   "metadata": {},
   "outputs": [
    {
     "data": {
      "image/png": "[encoded data removed]",
      "text/plain": [
       "<matplotlib.figure.Figure at 0x7fed4cef9ba8>"
      ]
     },
     "metadata": {},
     "output_type": "display_data"
    }
   ],
   "source": [
    "plt.figure(num=None, figsize=(5, 4), dpi=80, facecolor='w', edgecolor='k') \n",
    "plt.scatter(range(0,len(counts)),counts)\n",
    "plt.xlabel(\"HV / V\")\n",
    "plt.ylabel(\" counts  \")\n",
    " \n",
    "\n",
    "\n",
    "plt.show()"
   ]
  },
  {
   "cell_type": "code",
   "execution_count": 10,
   "metadata": {},
   "outputs": [
    {
     "name": "stdout",
     "output_type": "stream",
     "text": [
      "56228.0\n",
      "5414.0\n",
      "10.385666789804212\n",
      "16.93058201058201\n"
     ]
    }
   ],
   "source": [
    "tot_mostprob = htot.GetXaxis().GetBinCenter(htot.GetMaximumBin())\n",
    "    \n",
    "signalcounts  = htot.Integral(htot.FindBin(40),htot3.GetNbinsX())\n",
    "noisecounts   = htot.Integral(1,htot.FindBin(40))\n",
    "print(signalcounts)\n",
    "signalcounts2  = htot2.Integral(htot2.FindBin(40),htot2.GetNbinsX())\n",
    "noisecounts2   = htot2.Integral(1,htot2.FindBin(40))\n",
    "print(signalcounts2)\n",
    "print(signalcounts/signalcounts2)\n",
    "print(noisecounts/noisecounts2)"
   ]
  },
  {
   "cell_type": "code",
   "execution_count": 11,
   "metadata": {},
   "outputs": [],
   "source": [
    "\n",
    "c = ROOT.TCanvas(\"correl\",\"correlations\",640,480) "
   ]
  },
  {
   "cell_type": "code",
   "execution_count": 12,
   "metadata": {},
   "outputs": [
    {
     "data": {
      "image/png": "[encoded data removed]",
      "text/plain": [
       "<IPython.core.display.Image object>"
      ]
     },
     "metadata": {},
     "output_type": "display_data"
    }
   ],
   "source": [
    "tdc=1813\n",
    "disp_channels = 12\n",
    "tree.Draw(\"tot>>tot_meta(1000,-10,400)\",\"chan>{:d} && chan<{:d}\".format(tdc*100,tdc*100+disp_channels))\n",
    "c.Draw()"
   ]
  },
  {
   "cell_type": "code",
   "execution_count": 13,
   "metadata": {},
   "outputs": [
    {
     "data": {
      "image/png": "[encoded data removed]",
      "text/plain": [
       "<IPython.core.display.Image object>"
      ]
     },
     "metadata": {},
     "output_type": "display_data"
    }
   ],
   "source": [
    "tdc=1807\n",
    "disp_channels = 12\n",
    "tree.Draw(\"t1>>tot_meta(100,-300,200)\",\"chan>{:d} && chan<{:d}\".format(tdc*100,tdc*100+disp_channels))\n",
    "c.Draw()"
   ]
  },
  {
   "cell_type": "code",
   "execution_count": 14,
   "metadata": {},
   "outputs": [
    {
     "data": {
      "image/png": "[encoded data removed]",
      "text/plain": [
       "<IPython.core.display.Image object>"
      ]
     },
     "metadata": {},
     "output_type": "display_data"
    }
   ],
   "source": [
    "tdc=1807\n",
    "disp_channels = 12\n",
    "tree.Draw(\"tot:t1>>tot_meta(1000,-1000,2000,1000,-10,400)\",\"chan>{:d} && chan<{:d}\".format(tdc*100,tdc*100+disp_channels),\"colz\")\n",
    "c.Draw()"
   ]
  },
  {
   "cell_type": "code",
   "execution_count": null,
   "metadata": {},
   "outputs": [],
   "source": [
    "tdc=1813\n",
    "disp_channels = 10\n",
    "tree.Draw(\"tot:t1>>tot_meta(1000,-1000,2000,1000,-10,400)\",\"chan>{:d} && chan<{:d}\".format(tdc*100,tdc*100+disp_channels),\"colz\")\n",
    "c.Draw()"
   ]
  },
  {
   "cell_type": "code",
   "execution_count": null,
   "metadata": {},
   "outputs": [],
   "source": [
    "tree.Draw(\"tot:t1>>tot_meta(300,-100,500,1000,-10,40)\",\"chan>{:d} && chan<{:d}\".format(0,5000000),\"colz\")\n",
    "c.Draw()"
   ]
  },
  {
   "cell_type": "code",
   "execution_count": null,
   "metadata": {},
   "outputs": [],
   "source": [
    "\n",
    "tdc=1813\n",
    "disp_channels = 12\n",
    "#tree.Draw(\"chan:t1\",\"\",\"lego2\")\n",
    "tree.Draw(\"chan:tot>>tot_meta(1000,-300,800,{:d},{:d},{:d})\".format(disp_channels,tdc*100,tdc*100+disp_channels),\"\",\"colz\")\n",
    "c.Draw()"
   ]
  },
  {
   "cell_type": "code",
   "execution_count": null,
   "metadata": {
    "scrolled": false
   },
   "outputs": [],
   "source": [
    "##################################################\n",
    "##             overview TDC 0x0351              ##\n",
    "##################################################\n",
    "c = ROOT.TCanvas(\"myCanvasName\",\"The Canvas Title\",640,480)\n",
    "\n",
    "tdc=1802\n",
    "disp_channels = 12\n",
    "#tree.Draw(\"chan:t1\",\"\",\"lego2\")\n",
    "tree.Draw(\"chan:t1>>tot_meta(1000,-500,300,{:d},{:d},{:d})\".format(disp_channels,tdc*100,tdc*100+disp_channels),\"\",\"colz\")\n",
    "c.Draw()"
   ]
  },
  {
   "cell_type": "code",
   "execution_count": null,
   "metadata": {},
   "outputs": [],
   "source": [
    "plt.figure(num=None, figsize=(5, 4), dpi=80, facecolor='w', edgecolor='k') \n",
    "plt.scatter(range(0,len(scinti_rate[0])),scinti_rate[0],alpha=0.5,label = \"scintillator behind MDC\")\n",
    "plt.scatter(range(0,len(scinti_rate[1])),scinti_rate[1],alpha=0.5,label = \" MDC cell in beam center\")\n",
    "plt.xlabel(\"data set\")\n",
    "plt.ylabel\n",
    "plt.ylabel(\" scintillator rate / Hz \")\n",
    "# plt.yscale('log')\n",
    "plt.legend()\n",
    "\n",
    "plt.savefig('{:s}/ID_{:s}_tot_data_cosy2021_lena_beam_intensity.png'.format(data_dir,dataset_id), dpi=100)\n",
    "plt.show()\n",
    "print(scinti_rate)\n"
   ]
  },
  {
   "cell_type": "code",
   "execution_count": null,
   "metadata": {},
   "outputs": [],
   "source": [
    "import IPython.display as ipd\n",
    "import numpy\n",
    "t = numpy.linspace(0, 0.5, int(0.6*24090), endpoint=False) # time variable\n",
    "x = 0.5*numpy.sin(2*numpy.pi*550*t)    \n",
    "ipd.Audio(x, rate=24090, autoplay=True) # load a NumPy array"
   ]
  },
  {
   "cell_type": "markdown",
   "metadata": {},
   "source": [
    "#### "
   ]
  },
  {
   "cell_type": "code",
   "execution_count": null,
   "metadata": {},
   "outputs": [],
   "source": [
    "\n",
    "archive(label=\"ID_{:s}_tot_data_cosy2021_sandra_oldTDC\".format(dataset_id))\n"
   ]
  }
 ],
 "metadata": {
  "kernelspec": {
   "display_name": "Python 3",
   "language": "python",
   "name": "python3"
  },
  "language_info": {
   "codemirror_mode": {
    "name": "ipython",
    "version": 3
   },
   "file_extension": ".py",
   "mimetype": "text/x-python",
   "name": "python",
   "nbconvert_exporter": "python",
   "pygments_lexer": "ipython3",
   "version": "3.6.9"
  }
 },
 "nbformat": 4,
 "nbformat_minor": 2
}
