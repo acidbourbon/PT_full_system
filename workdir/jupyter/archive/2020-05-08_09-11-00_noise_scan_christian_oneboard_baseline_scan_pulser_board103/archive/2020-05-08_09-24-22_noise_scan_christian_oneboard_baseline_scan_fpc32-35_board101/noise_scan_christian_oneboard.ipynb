{
 "cells": [
  {
   "cell_type": "code",
   "execution_count": 1,
   "metadata": {
    "scrolled": true
   },
   "outputs": [
    {
     "name": "stdout",
     "output_type": "stream",
     "text": [
      "Welcome to JupyROOT 6.14/04\n"
     ]
    }
   ],
   "source": [
    "#%matplotlib notebook  \n",
    "from matplotlib import pyplot as plt\n",
    "import numpy as np\n",
    "import pasttrec_ctrl as ptc\n",
    "import json\n",
    "import sigproc_kit\n",
    "import tdc_daq as td\n",
    "import baseline_calib\n",
    "import ROOT\n",
    "\n",
    "from my_utils import *\n",
    "\n",
    "def fwhm(x,y):\n",
    "  dummy, t1, tot = sigproc_kit.discriminate(x,y,np.max(y)/2.,0,0)\n",
    "  return tot\n",
    "\n",
    "def hist_rms(x,y):\n",
    "  counts = np.sum(y)\n",
    "  weights = y / counts\n",
    "  mean = np.dot(x,weights)\n",
    "  deviations = x - mean\n",
    "  return np.sqrt(  np.dot(deviations**2,weights)   )\n",
    "def list_rms(x):\n",
    "  mean = sum(x)/len(x)\n",
    "  deviations = x - mean\n",
    "  return np.sqrt(  sum(deviations**2) /len(x)  )\n",
    "def list_mean(x):\n",
    "  mean = sum(x)/len(x)\n",
    "  return mean"
   ]
  },
  {
   "cell_type": "code",
   "execution_count": null,
   "metadata": {
    "scrolled": true
   },
   "outputs": [],
   "source": [
    "\n",
    "\n",
    "\n",
    "\n"
   ]
  },
  {
   "cell_type": "code",
   "execution_count": null,
   "metadata": {
    "scrolled": false
   },
   "outputs": [
    {
     "name": "stdout",
     "output_type": "stream",
     "text": [
      "[15, 15, 15, 15, 15, 15, 15, 15, 15, 15, 15, 15, 15, 15, 15, 15]\n"
     ]
    }
   ],
   "source": [
    "## scan threshold of all boar\n",
    "from functools import (reduce)\n",
    "from math import (sqrt)\n",
    "import numpy as np\n",
    "import time\n",
    "import tdc_daq as td\n",
    "import matplotlib.pyplot as plt\n",
    "import db\n",
    "\n",
    "# rootMeanSquare :: [Num] -> Float\n",
    "def rootMeanSquare(xs):\n",
    "    return sqrt(reduce(lambda a, x: a + x * x, xs, 0) / len(xs))\n",
    "def MeanArrays(xs,ys):\n",
    "    return np.dot(xs,ys)/sum(ys)\n",
    "\n",
    "\n",
    "\n",
    "#for my_board in db.board_list():\n",
    "#  db.unset_standby_board(my_board) #name = \"0029\" #PASSTEC board id (inside )\n",
    "\n",
    "#used_boards = [ \"0005\", \"0017\", \"0014\", \"0025\" ]\n",
    "#used_boards = [ \"0101\", \"0102\", \"0103\", \"0010\" , \"0009\", \"0004\", \"0025\"]\n",
    "used_boards = [  \"0029\"]\n",
    "#, \"0010\", \"0102\", \"0103\"]\n",
    "\n",
    "\n",
    "plt.rcParams[\"figure.figsize\"] = (8,5)\n",
    "trendtime_list = []\n",
    "rmsAverageTrend_list = []\n",
    "rmsAverageTrendError_list = []\n",
    "meanAverageTrend_list = []\n",
    "meanAverageTrendError_list = []\n",
    "\n",
    "#for p in range(0,1000):\n",
    "for name in used_boards: \n",
    "    #if name == \"0013\" or name == \"0018\":\n",
    "    #  continue\n",
    "    for my_board in db.board_list():\n",
    "      db.set_standby_board(my_board)\n",
    "    db.unset_standby_board(name)\n",
    "    td.enable_tdc_channels_of_active_boards()\n",
    "    ptc.init_active_boards()\n",
    "   \n",
    "    #time.sleep(60)\n",
    "    trendtime_list += [ name ]\n",
    "    baselines_set = [ 15 ] * 16\n",
    "    print (baselines_set)\n",
    "    baseline_calib.set_baselines_individual(name,baselines_set)\n",
    "    \n",
    "    baseline_calib.char_noise_by_thresh_scan(name,dummy_calib=True)\n",
    "    calib       = db.get_calib_json_by_name(name)\n",
    "    dummy_calib = db.get_calib_json_by_name(name,dummy_calib=True)\n",
    "    board_info  = db.find_board_by_name(name)\n",
    "\n",
    "    #print(json.dumps(dummy_calib,indent=2, sort_keys=True))\n",
    "    tsbl_scan_raw = dummy_calib[\"tsbl_scan_raw\"]\n",
    "    tsbl_range    = dummy_calib[\"tsbl_range\"]\n",
    "\n",
    "    scaler_list = []\n",
    "    scaler_list = td.scaler_rate_of_board(name,0.2)\n",
    "    \n",
    "\n",
    "    for i in range(0,16):\n",
    "     plt.scatter(tsbl_range,tsbl_scan_raw[i],alpha=0.2,label = \"{:d}\".format(i))\n",
    "\n",
    "     plt.legend()\n",
    "     plt.xlabel(\"threshold (at maximum baseline setting)\")\n",
    "     plt.ylabel(\"mean pulse rate (Hz)\")\n",
    "     #plt.yscale('log') \n",
    "    plt.show()\n",
    "\n",
    "    fwhm_list = []\n",
    "    max_list  = []\n",
    "    rms_list = []\n",
    "    mean_list = []\n",
    "    for i in range(0,16):\n",
    "      fwhm_list += [ fwhm(tsbl_range,tsbl_scan_raw[i]) ]\n",
    "      rms_list += [ hist_rms(tsbl_range,tsbl_scan_raw[i]) ]\n",
    "      mean_list += [ MeanArrays(tsbl_range,tsbl_scan_raw[i]) ]  \n",
    "      max_list  += [ np.max(tsbl_scan_raw[i])  ]\n",
    "\n",
    "\n",
    "    fwhm_list = np.array(fwhm_list)\n",
    "    max_list  = np.array(max_list)\n",
    "    \n",
    "    print(name, \"average(16chan) noise thresh: mean = \", round(sum(mean_list)/len(mean_list),3), \" +- \", round(list_rms(mean_list),3), \"  |  RMS  = \", round(sum(rms_list)/len(rms_list),3), \" +- \", round(list_rms(rms_list),3) )\n",
    "\n",
    "    meanAverageTrend_list += [ sum(mean_list)/len(mean_list) ]\n",
    "    meanAverageTrendError_list += [ list_rms(mean_list) ]\n",
    "    rmsAverageTrend_list += [ sum(rms_list)/len(rms_list) ]\n",
    "    rmsAverageTrendError_list += [ list_rms(rms_list) ]    \n",
    "    \n",
    "    plt.scatter(list(range(0,16)), mean_list)\n",
    "    plt.xlabel(\"channel no\")\n",
    "    plt.ylabel(\"mean\")\n",
    "    plt.show()\n",
    "    plt.scatter(list(range(0,16)), rms_list)\n",
    "    plt.xlabel(\"channel no\")\n",
    "    plt.ylabel(\"RMS\")\n",
    "    plt.title(\"noise width (RMS)\")\n",
    "    plt.show()\n",
    "\n",
    "\n",
    "\n",
    "    #plt.scatter(list(range(0,16)), max_list)\n",
    "    #plt.xlabel(\"channel no\")\n",
    "    #plt.ylabel(\"scaler rate\")\n",
    "    #plt.title(\"Max noise rate\")\n",
    "    #plt.show()\n",
    "archive(label=\"baseline_scan_fpc32-35_board101\")"
   ]
  },
  {
   "cell_type": "code",
   "execution_count": 3,
   "metadata": {},
   "outputs": [
    {
     "name": "stdout",
     "output_type": "stream",
     "text": [
      "Mean (of all boards) =  11.6118637435  +-  0.0\n",
      "RMS (of all boards) =  2.10734359416  +-  0.0\n"
     ]
    },
    {
     "data": {
      "image/png": "[encoded data removed]",
      "text/plain": [
       "<IPython.core.display.Image object>"
      ]
     },
     "metadata": {},
     "output_type": "display_data"
    },
    {
     "data": {
      "image/png": "[encoded data removed]",
      "text/plain": [
       "<IPython.core.display.Image object>"
      ]
     },
     "metadata": {},
     "output_type": "display_data"
    }
   ],
   "source": [
    "plt.errorbar(trendtime_list, meanAverageTrend_list, yerr=meanAverageTrendError_list, fmt='o')\n",
    "#plt.scatter(trendtime_list, meanAverageTrend_list)\n",
    "plt.xlabel(\"board\")\n",
    "plt.ylabel(\"Mean average of 16 channels\")\n",
    "plt.title(\"mean\")\n",
    "plt.show()\n",
    "    \n",
    "plt.errorbar(trendtime_list, rmsAverageTrend_list, yerr=rmsAverageTrendError_list, fmt='o')\n",
    "plt.xlabel(\"board\")\n",
    "plt.ylabel(\"RMS threshold [DAQ] average of 16 channels\")\n",
    "plt.title(\"RMS\")\n",
    "plt.legend()\n",
    "plt.show()\n",
    "\n",
    "import ROOT\n",
    "\n",
    "\n",
    "gr  = ROOT.TGraphErrors()\n",
    "gr2 = ROOT.TGraphErrors()\n",
    "#len(meanAverageTrend_list),np.array(trendtime_list),np.array(meanAverageTrend_list))\n",
    "for i in range(0,len(meanAverageTrend_list)):\n",
    "    gr.SetPoint(i, np.double(trendtime_list[i]), np.double(meanAverageTrend_list[i]))\n",
    "    gr.SetPointError(i, 0, np.double(meanAverageTrendError_list[i]) )\n",
    "    gr2.SetPoint(i, np.double(trendtime_list[i]), np.double(rmsAverageTrend_list[i]))\n",
    "    gr2.SetPointError(i, 0, np.double(rmsAverageTrendError_list[i]) )    \n",
    "c = ROOT.TCanvas(\"mean\",\"mean\",640,480)\n",
    "gr.Draw(\"A*\")\n",
    "c.Draw()\n",
    "c2 = ROOT.TCanvas(\"rms\",\"rms\",640,480)\n",
    "gr2.Draw(\"A*\")\n",
    "\n",
    "c2.Draw()\n",
    "print(\"Mean (of all boards) = \", list_mean(meanAverageTrend_list), \" +- \", list_rms(meanAverageTrend_list) )\n",
    "print(\"RMS (of all boards) = \", list_mean(rmsAverageTrend_list), \" +- \", list_rms(rmsAverageTrend_list) )\n",
    "\n",
    "#db.find_board_by_name(\"0030\")"
   ]
  },
  {
   "cell_type": "code",
   "execution_count": 4,
   "metadata": {},
   "outputs": [],
   "source": [
    "#db.find_board_by_tdc_connector(\"0x1503\",2) # TDC as string, Connector as integer"
   ]
  },
  {
   "cell_type": "code",
   "execution_count": 5,
   "metadata": {},
   "outputs": [],
   "source": [
    "#print(\"active board list (boards being programmed)\")\n",
    "#print(db.active_board_list())\n",
    "#print(\"\")\n",
    "#print(\"complete board list (all boards in the database)\")\n",
    "#print(db.board_list())"
   ]
  },
  {
   "cell_type": "code",
   "execution_count": 6,
   "metadata": {},
   "outputs": [],
   "source": [
    "#archive(label=\"my_important_thing\")"
   ]
  },
  {
   "cell_type": "code",
   "execution_count": 7,
   "metadata": {},
   "outputs": [],
   "source": [
    "#print(\"Hello World\")"
   ]
  }
 ],
 "metadata": {
  "kernelspec": {
   "display_name": "Python 3",
   "language": "python",
   "name": "python3"
  },
  "language_info": {
   "codemirror_mode": {
    "name": "ipython",
    "version": 3
   },
   "file_extension": ".py",
   "mimetype": "text/x-python",
   "name": "python",
   "nbconvert_exporter": "python",
   "pygments_lexer": "ipython3",
   "version": "3.6.9"
  }
 },
 "nbformat": 4,
 "nbformat_minor": 2
}
