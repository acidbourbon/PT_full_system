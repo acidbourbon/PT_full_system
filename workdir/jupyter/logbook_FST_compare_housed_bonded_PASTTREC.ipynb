{
 "cells": [
  {
   "cell_type": "code",
   "execution_count": 3,
   "metadata": {},
   "outputs": [
    {
     "data": {
      "text/html": [
       "\n",
       "    <style>\n",
       "        div#notebook-container    { width: 95%; }\n",
       "        div#menubar-container     { width: 65%; }\n",
       "        div#maintoolbar-container { width: 99%; }\n",
       "    </style>\n",
       "    "
      ],
      "text/plain": [
       "<IPython.core.display.HTML object>"
      ]
     },
     "metadata": {},
     "output_type": "display_data"
    }
   ],
   "source": [
    "from my_utils import *\n",
    "set_width_max_of_jupyterpad()\n",
    "\n",
    "\n",
    "\n",
    "            "
   ]
  },
  {
   "cell_type": "code",
   "execution_count": null,
   "metadata": {},
   "outputs": [],
   "source": [
    "tot_data_taking:\n",
    "    data lists in: \"/workdir/jupyter/tot_data_taking_data/datasetID_*_list.pickle\"\n",
    "    \n",
    "\n",
    "comparing board 10 (old bonded PASSTREC to PCB) with 101 (new housed PASTTREC):\n",
    "\n",
    " ID 31: Fe55, PT parameter space full scan (1600V, sr 15)\n",
    "     --> useful settings  (sr 15, ptime 15, gain 2, thr 30)\n",
    "                          (sr 15, ptime 15, gain 4, thr 40)\n",
    "            \n",
    " ID 40: Fe55, PT sequence of number of boards on swichting:\n",
    "            scan (1600V, sr 30, ptime 15, gain 4): threshold 25, 30, 35, 40\n",
    "       --> signal no noise disctance, similar and no dependence on number of boards active\n",
    "       --> signal no noise ratio: increasing with increasing threshold, board 10 small dependence, board 101 much much lower than board 10\n",
    "            "
   ]
  },
  {
   "cell_type": "code",
   "execution_count": null,
   "metadata": {},
   "outputs": [],
   "source": []
  }
 ],
 "metadata": {
  "kernelspec": {
   "display_name": "Python 3",
   "language": "python",
   "name": "python3"
  },
  "language_info": {
   "codemirror_mode": {
    "name": "ipython",
    "version": 3
   },
   "file_extension": ".py",
   "mimetype": "text/x-python",
   "name": "python",
   "nbconvert_exporter": "python",
   "pygments_lexer": "ipython3",
   "version": "3.6.9"
  }
 },
 "nbformat": 4,
 "nbformat_minor": 2
}
