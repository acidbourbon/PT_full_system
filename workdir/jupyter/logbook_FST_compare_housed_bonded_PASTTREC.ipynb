{
 "cells": [
  {
   "cell_type": "code",
   "execution_count": 4,
   "metadata": {},
   "outputs": [
    {
     "ename": "IndentationError",
     "evalue": "unindent does not match any outer indentation level (<tokenize>, line 6)",
     "output_type": "error",
     "traceback": [
      "\u001b[0;36m  File \u001b[0;32m\"<tokenize>\"\u001b[0;36m, line \u001b[0;32m6\u001b[0m\n\u001b[0;31m    ID 31: PT parameter space full scan (1600V, sr 15)\u001b[0m\n\u001b[0m    ^\u001b[0m\n\u001b[0;31mIndentationError\u001b[0m\u001b[0;31m:\u001b[0m unindent does not match any outer indentation level\n"
     ]
    }
   ],
   "source": [
    "\n",
    "tot_data_taking:\n",
    "    data lists in: \"/workdir/jupyter/tot_data_taking_data/datasetID_*_list.pickle\"\n",
    "    \n",
    "\n",
    "comparing board 10 (old bonded PASSTREC to PCB) with 101 (new housed PASTTREC):\n",
    "\n",
    " ID 31: Fe55, PT parameter space full scan (1600V, sr 15)\n",
    "     --> useful settings  (sr 15, ptime 15, gain 2, thr 30)\n",
    "                          (sr 15, ptime 15, gain 4, thr 40)\n",
    "            \n",
    " ID 40: Fe55, PT sequence of number of boards on swichting:\n",
    "            scan (1600V, sr 30, ptime 15, gain 4): threshold 25, 30, 35, 40\n",
    "       --> signal no noise disctance, similar and no dependence on number of boards active\n",
    "       --> signal no noise ratio: increasing with increasing threshold, board 10 small dependence, board 101 much much lower than board 10\n",
    "            \n",
    "            "
   ]
  },
  {
   "cell_type": "code",
   "execution_count": null,
   "metadata": {},
   "outputs": [],
   "source": []
  }
 ],
 "metadata": {
  "kernelspec": {
   "display_name": "Python 3",
   "language": "python",
   "name": "python3"
  },
  "language_info": {
   "codemirror_mode": {
    "name": "ipython",
    "version": 3
   },
   "file_extension": ".py",
   "mimetype": "text/x-python",
   "name": "python",
   "nbconvert_exporter": "python",
   "pygments_lexer": "ipython3",
   "version": "3.6.9"
  }
 },
 "nbformat": 4,
 "nbformat_minor": 2
}
