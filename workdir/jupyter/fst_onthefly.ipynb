{
 "cells": [
  {
   "cell_type": "code",
   "execution_count": 1,
   "metadata": {},
   "outputs": [
    {
     "name": "stdout",
     "output_type": "stream",
     "text": [
      "Welcome to JupyROOT 6.14/04\n"
     ]
    }
   ],
   "source": [
    "import ROOT\n",
    "import os\n",
    "from my_utils import *\n",
    "\n",
    "\n"
   ]
  },
  {
   "cell_type": "code",
   "execution_count": 2,
   "metadata": {},
   "outputs": [],
   "source": [
    "def take_data(**kwargs):\n",
    "    events  = int(kwargs.get(\"events\",0))\n",
    "    time = float(kwargs.get(\"time\",0))\n",
    "    \n",
    "    \n",
    "    os.system(\"rm /workdir/*.root\")\n",
    "    os.system(\"cd /workdir; tree_out=true go4analysis -number {:d} -stream localhost:6790\".format(int(events)))\n",
    "    os.system(\"cd /workdir; root -b -l unify.C -q\")\n",
    "    \n"
   ]
  },
  {
   "cell_type": "code",
   "execution_count": 3,
   "metadata": {
    "scrolled": true
   },
   "outputs": [
    {
     "name": "stdout",
     "output_type": "stream",
     "text": [
      "GO4-*> Reading library: libGo4UserAnalysis  \n",
      "GO4-*> Close of TUserSource  \n",
      "GO4-*> Create default analysis with processor class TFirstStepProcessor  \n",
      "GO4-*> Use class TStreamEvent as output event  \n",
      "GO4-*> Welcome to Go4 Analysis Framework Release v5.9.0 (build 50900) !  \n",
      "GO4-*> Analysis: Added analysis step Analysis  \n",
      "GO4-*> Main: starting analysis in batch mode ...    \n",
      "GO4-!> Fail to open AutoSave file Go4AutoSave.root  \n",
      "GO4-*> Analysis LoadObjects: Failed to load from file Go4AutoSave.root  \n",
      "Use MBS source port 6790\n",
      "f_evt_get_open for STREAM: port=6790 timeout=1  \n",
      "GO4-*> Factory: Create input event for MBS  \n",
      "GO4-*> Event MbsEvent101 has source localhost:6790 class: TGo4MbsStream  \n",
      "GO4-*> Factory: Create event processor Processor  \n",
      "GO4-*> Create TFirstStepProcessor Processor  \n",
      "GO4-*> Executing ROOT script first.C  \n",
      "HLD configure calibration calfile:test_  cnt:0 trig:0 temp:0\n",
      "GO4-*> Executing ROOT script second.C+  \n",
      "Create Sec_0350 for TDC_0350\n",
      "GO4-*> Factory: Create output event OutputEvent  \n",
      "GO4-*> Event OutputEvent has source Processor class: TFirstStepProcessor  \n",
      "GO4-*> Analysis --  Initializing EventClasses done.  \n",
      "GO4-*> Analysis loop for 1000 cycles is starting...  \n",
      "GO4-*> MBS source:: First event = 0 step = 0\n",
      "  \n",
      "Create TRB 0xc035 procmgr 0x55d517cafe28 hlvl 4 \n",
      "TRB_C035: Create TDC 0x0350 nch:53 edges:2\n",
      "TRB_C035: Saw ID 0x0351 in autocreate mode\n",
      "TRB_C035: Saw ID 0x0352 in autocreate mode\n",
      "TRB_C035: Saw ID 0x0353 in autocreate mode\n",
      "TRB_C035: Saw ID 0x8150 in autocreate mode\n",
      "TDC_0350 reading calibration from test_0350.cal, tcorr:  0.0 uset:0 done\n",
      "Create TRB 0x8150 procmgr 0x55d517cafe28 hlvl 4 \n",
      "TRB_8150: Saw ID 0x1500 in autocreate mode\n",
      "TRB_8150: Saw ID 0x1501 in autocreate mode\n",
      "TRB_8150: Saw ID 0x1502 in autocreate mode\n",
      "TRB_8150: Saw ID 0x1503 in autocreate mode\n",
      "direct func call after_create\n",
      "Called after all sub-components are created\n",
      "Configure TRB_8150!\n",
      "Configure TRB_C035!\n",
      "Configure TDC_0350!\n",
      "GO4-*> Analysis implicit Loop has finished after 1000 cycles.  \n",
      "TDC_0350 produce normal calibrations \n",
      "TDC_0350 storing calibration in test_0350.cal.info\n",
      "--- User Post Loop TDC_0350\n",
      "write tree_out.root\n",
      "GO4-*> Opening AutoSave file Go4AutoSave.root with RECREATE mode  \n",
      "GO4-*> AutoSave file Go4AutoSave.root was closed.  \n",
      "GO4-*> Input 1000  Output 1000  Total processed size = 476352  \n",
      "GO4-*> Main: analysis batch done  \n",
      "GO4-*> Main: THE END  \n",
      "\n",
      "Processing unify.C...\n",
      "get t1 offsets from database\n",
      "unify_channel_info/0353.channel_info.txt\n",
      "unify_channel_info/0x0350.channel_info.txt\n",
      "unify_channel_info/0x0351.channel_info.txt\n",
      "unify_channel_info/0x0352.channel_info.txt\n",
      "unify_channel_info/0x0353.channel_info.txt\n",
      "unify_channel_info/0x1500.channel_info.txt\n",
      "unify_channel_info/0x1501.channel_info.txt\n",
      "unify_channel_info/0x1502.channel_info.txt\n",
      "unify_channel_info/0x1503.channel_info.txt\n",
      "unify_channel_info/0xeeef.channel_info.txt\n",
      "unify!\n",
      "read global reference channel: 35049\n",
      "found data tree for tdc: TDC_0350\n",
      "get t1 offsets for tdc: 0x0350\n",
      "read t1 offsets of 0x0350\n",
      " \n",
      "line: -9.288794\t0\t2\t3\t15\n",
      "chan 1 t1_offset -9.28879 chamber 0 layer 2 fpc 3 wire 15\n",
      "line: -11.159857\t0\t2\t3\t14\n",
      "chan 2 t1_offset -11.1599 chamber 0 layer 2 fpc 3 wire 14\n",
      "line: -10.223099\t0\t2\t3\t13\n",
      "chan 3 t1_offset -10.2231 chamber 0 layer 2 fpc 3 wire 13\n",
      "line: -11.514480\t0\t2\t3\t12\n",
      "chan 4 t1_offset -11.5145 chamber 0 layer 2 fpc 3 wire 12\n",
      "line: -8.424129\t0\t2\t2\t11\n",
      "chan 5 t1_offset -8.42413 chamber 0 layer 2 fpc 2 wire 11\n",
      "line: -12.934562\t0\t2\t2\t10\n",
      "chan 6 t1_offset -12.9346 chamber 0 layer 2 fpc 2 wire 10\n",
      "line: -10.539336\t0\t2\t2\t9\n",
      "chan 7 t1_offset -10.5393 chamber 0 layer 2 fpc 2 wire 9\n",
      "line: -9.941548\t0\t2\t2\t8\n",
      "chan 8 t1_offset -9.94155 chamber 0 layer 2 fpc 2 wire 8\n",
      "line: -11.630276\t0\t2\t1\t7\n",
      "chan 9 t1_offset -11.6303 chamber 0 layer 2 fpc 1 wire 7\n",
      "line: -12.012691\t0\t2\t1\t6\n",
      "chan 10 t1_offset -12.0127 chamber 0 layer 2 fpc 1 wire 6\n",
      "line: -10.348764\t0\t2\t1\t5\n",
      "chan 11 t1_offset -10.3488 chamber 0 layer 2 fpc 1 wire 5\n",
      "line: -11.244469\t0\t2\t1\t4\n",
      "chan 12 t1_offset -11.2445 chamber 0 layer 2 fpc 1 wire 4\n",
      "line: -10.549174\t0\t2\t0\t3\n",
      "chan 13 t1_offset -10.5492 chamber 0 layer 2 fpc 0 wire 3\n",
      "line: -13.926312\t0\t2\t0\t2\n",
      "chan 14 t1_offset -13.9263 chamber 0 layer 2 fpc 0 wire 2\n",
      "line: -10.387232\t0\t2\t0\t1\n",
      "chan 15 t1_offset -10.3872 chamber 0 layer 2 fpc 0 wire 1\n",
      "line: -11.625690\t0\t2\t0\t0\n",
      "chan 16 t1_offset -11.6257 chamber 0 layer 2 fpc 0 wire 0\n",
      "line: -12.082166\t0\t2\t7\t31\n",
      "chan 17 t1_offset -12.0822 chamber 0 layer 2 fpc 7 wire 31\n",
      "line: -12.538071\t0\t2\t7\t30\n",
      "chan 18 t1_offset -12.5381 chamber 0 layer 2 fpc 7 wire 30\n",
      "line: -12.023208\t0\t2\t7\t29\n",
      "chan 19 t1_offset -12.0232 chamber 0 layer 2 fpc 7 wire 29\n",
      "line: -13.738293\t0\t2\t7\t28\n",
      "chan 20 t1_offset -13.7383 chamber 0 layer 2 fpc 7 wire 28\n",
      "line: -14.198562\t0\t2\t6\t27\n",
      "chan 21 t1_offset -14.1986 chamber 0 layer 2 fpc 6 wire 27\n",
      "line: -13.055859\t0\t2\t6\t26\n",
      "chan 22 t1_offset -13.0559 chamber 0 layer 2 fpc 6 wire 26\n",
      "line: -8.071987\t0\t2\t6\t25\n",
      "chan 23 t1_offset -8.07199 chamber 0 layer 2 fpc 6 wire 25\n",
      "line: -13.185161\t0\t2\t6\t24\n",
      "chan 24 t1_offset -13.1852 chamber 0 layer 2 fpc 6 wire 24\n",
      "line: -10.567132\t0\t2\t5\t23\n",
      "chan 25 t1_offset -10.5671 chamber 0 layer 2 fpc 5 wire 23\n",
      "line: -12.644178\t0\t2\t5\t22\n",
      "chan 26 t1_offset -12.6442 chamber 0 layer 2 fpc 5 wire 22\n",
      "line: -8.875171\t0\t2\t5\t21\n",
      "chan 27 t1_offset -8.87517 chamber 0 layer 2 fpc 5 wire 21\n",
      "line: -10.940226\t0\t2\t5\t20\n",
      "chan 28 t1_offset -10.9402 chamber 0 layer 2 fpc 5 wire 20\n",
      "line: -12.177673\t0\t2\t4\t19\n",
      "chan 29 t1_offset -12.1777 chamber 0 layer 2 fpc 4 wire 19\n",
      "line: -14.791716\t0\t2\t4\t18\n",
      "chan 30 t1_offset -14.7917 chamber 0 layer 2 fpc 4 wire 18\n",
      "line: -11.525323\t0\t2\t4\t17\n",
      "chan 31 t1_offset -11.5253 chamber 0 layer 2 fpc 4 wire 17\n",
      "line: -11.596269\t0\t2\t4\t16\n",
      "chan 32 t1_offset -11.5963 chamber 0 layer 2 fpc 4 wire 16\n",
      "line: -11.561535\t0\t2\t-1\t-1\n",
      "chan 33 t1_offset -11.5615 chamber 0 layer 2 fpc -1 wire -1\n",
      "line: -12.046441\t0\t2\t-1\t-2\n",
      "chan 34 t1_offset -12.0464 chamber 0 layer 2 fpc -1 wire -2\n",
      "line: -10.855118\t0\t2\t-1\t-3\n",
      "chan 35 t1_offset -10.8551 chamber 0 layer 2 fpc -1 wire -3\n",
      "line: -13.449825\t0\t2\t-1\t-4\n",
      "chan 36 t1_offset -13.4498 chamber 0 layer 2 fpc -1 wire -4\n",
      "line: -11.125367\t0\t2\t-1\t-1\n",
      "chan 37 t1_offset -11.1254 chamber 0 layer 2 fpc -1 wire -1\n",
      "line: -13.034907\t0\t2\t-1\t-2\n",
      "chan 38 t1_offset -13.0349 chamber 0 layer 2 fpc -1 wire -2\n",
      "line: -12.386124\t0\t2\t-1\t-3\n",
      "chan 39 t1_offset -12.3861 chamber 0 layer 2 fpc -1 wire -3\n",
      "line: -11.967872\t0\t2\t-1\t-4\n",
      "chan 40 t1_offset -11.9679 chamber 0 layer 2 fpc -1 wire -4\n",
      "line: -11.070013\t0\t2\t9\t39\n",
      "chan 41 t1_offset -11.07 chamber 0 layer 2 fpc 9 wire 39\n",
      "line: -13.903866\t0\t2\t9\t38\n",
      "chan 42 t1_offset -13.9039 chamber 0 layer 2 fpc 9 wire 38\n",
      "line: -12.890277\t0\t2\t9\t37\n",
      "chan 43 t1_offset -12.8903 chamber 0 layer 2 fpc 9 wire 37\n",
      "line: -13.081436\t0\t2\t9\t36\n",
      "chan 44 t1_offset -13.0814 chamber 0 layer 2 fpc 9 wire 36\n",
      "line: -13.693559\t0\t2\t8\t35\n",
      "chan 45 t1_offset -13.6936 chamber 0 layer 2 fpc 8 wire 35\n",
      "line: -13.825211\t0\t2\t8\t34\n",
      "chan 46 t1_offset -13.8252 chamber 0 layer 2 fpc 8 wire 34\n",
      "line: -11.618470\t0\t2\t8\t33\n",
      "chan 47 t1_offset -11.6185 chamber 0 layer 2 fpc 8 wire 33\n",
      "line: -9.331195\t0\t2\t8\t32\n",
      "chan 48 t1_offset -9.33119 chamber 0 layer 2 fpc 8 wire 32\n",
      "TDC channel prefix/offset (100 possible TDC channels left): 35000\n",
      "    tree: TDC_0350 entries: 16981\n",
      "\n",
      "\n",
      "found data tree for tdc: TDC_0350\n"
     ]
    }
   ],
   "source": [
    "take_data(events=1000)"
   ]
  },
  {
   "cell_type": "code",
   "execution_count": 4,
   "metadata": {},
   "outputs": [
    {
     "name": "stderr",
     "output_type": "stream",
     "text": [
      "Warning in <TClass::Init>: no dictionary for class Event is available\n",
      "Warning in <TClass::Init>: no dictionary for class Hit is available\n"
     ]
    },
    {
     "data": {
      "image/png": "[encoded data removed]",
      "text/plain": [
       "<IPython.core.display.Image object>"
      ]
     },
     "metadata": {},
     "output_type": "display_data"
    }
   ],
   "source": [
    "c = ROOT.TCanvas(\"myCanvasName\",\"The Canvas Title\",640,480)\n",
    "\n",
    "f = ROOT.TFile(\"/workdir/joint_tree.root\")\n",
    "tree = f.Get(\"joint_tree\")\n",
    "tree.Draw(\"t1>>t1(1000,-30,30)\",\"\",\"\")\n",
    "#tree.Draw(\"tot_a:t1_a >> potato(500,0,500e-9,500,0,500e-9)\",\"\",\"colz\")\n",
    "\n",
    "#potato = f.Get(\"potato\")\n",
    "#potato.SetTitle(\"potato\")\n",
    "#potato.GetXaxis().SetTitle(\"t1 (s)\")\n",
    "#potato.GetYaxis().SetTitle(\"tot (s)\")\n",
    "#potato.Draw(\"colz\")\n",
    "c.Draw()"
   ]
  },
  {
   "cell_type": "code",
   "execution_count": 14,
   "metadata": {},
   "outputs": [
    {
     "data": {
      "image/png": "[encoded data removed]",
      "text/plain": [
       "<IPython.core.display.Image object>"
      ]
     },
     "metadata": {},
     "output_type": "display_data"
    }
   ],
   "source": [
    "tdc=350\n",
    "disp_channels = 64\n",
    "tree.Draw(\"chan:t1>>t1_meta(1000,-30,30,{:d},{:d},{:d})\".format(disp_channels,tdc*100,tdc*100+disp_channels),\"\",\"colz\")\n",
    "c.Draw()"
   ]
  },
  {
   "cell_type": "markdown",
   "metadata": {},
   "source": [
    "    new TCanvas();\n",
    "    joint_tree->Draw(Form(\"hits.chan - %d: hits.t1>>0x%04d_t1_meta(1000,-1000,1000,%d,%d,%d)\",tdc_number*100,tdc_number,tdc_channels[i],1,1+tdc_channels[i]),\n",
    "            Form(\"hits.chan > %d && hits.chan < %d\",tdc_number*100,tdc_number*100+100),\"colz\");\n",
    "    new TCanvas();\n",
    "    joint_tree->Draw(Form(\"hits.chan - %d: hits.tot>>0x%04d_tot_meta(1000,0,2000,%d,%d,%d)\",tdc_number*100,tdc_number,tdc_channels[i],1,1+tdc_channels[i]),\n",
    "            Form(\"hits.chan > %d && hits.chan < %d\",tdc_number*100,tdc_number*100+100),\"colz\");\n",
    "    new TCanvas();\n",
    "    joint_tree->Draw(Form(\"hits.tot : hits.t1 >>0x%04d_potato(1000,-500,500,1000,0,1000)\",tdc_number),\n",
    "            Form(\"hits.chan > %d && hits.chan < %d\",tdc_number*100,tdc_number*100+100),\"colz\");\n"
   ]
  },
  {
   "cell_type": "code",
   "execution_count": null,
   "metadata": {},
   "outputs": [],
   "source": []
  }
 ],
 "metadata": {
  "kernelspec": {
   "display_name": "Python 3",
   "language": "python",
   "name": "python3"
  },
  "language_info": {
   "codemirror_mode": {
    "name": "ipython",
    "version": 3
   },
   "file_extension": ".py",
   "mimetype": "text/x-python",
   "name": "python",
   "nbconvert_exporter": "python",
   "pygments_lexer": "ipython3",
   "version": "3.6.8"
  }
 },
 "nbformat": 4,
 "nbformat_minor": 2
}
