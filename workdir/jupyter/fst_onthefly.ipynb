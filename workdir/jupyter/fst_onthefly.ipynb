{
 "cells": [
  {
   "cell_type": "code",
   "execution_count": 1,
   "metadata": {},
   "outputs": [
    {
     "name": "stdout",
     "output_type": "stream",
     "text": [
      "Welcome to JupyROOT 6.14/04\n"
     ]
    }
   ],
   "source": [
    "import ROOT\n",
    "import os\n",
    "from my_utils import *\n",
    "import fst\n",
    "\n"
   ]
  },
  {
   "cell_type": "code",
   "execution_count": 2,
   "metadata": {
    "scrolled": false
   },
   "outputs": [
    {
     "name": "stdout",
     "output_type": "stream",
     "text": [
      "GO4-*> Reading library: libGo4UserAnalysis  \n",
      "GO4-*> Close of TUserSource  \n",
      "GO4-*> Create default analysis with processor class TFirstStepProcessor  \n",
      "GO4-*> Use class TStreamEvent as output event  \n",
      "GO4-*> Welcome to Go4 Analysis Framework Release v5.9.0 (build 50900) !  \n",
      "GO4-*> Analysis: Added analysis step Analysis  \n",
      "GO4-*> Main: starting analysis in batch mode ...    \n",
      "GO4-!> Fail to open AutoSave file Go4AutoSave.root  \n",
      "GO4-*> Analysis LoadObjects: Failed to load from file Go4AutoSave.root  \n",
      "Use MBS source port 6790\n",
      "f_evt_get_open for STREAM: port=6790 timeout=1  \n",
      "GO4-*> Factory: Create input event for MBS  \n",
      "GO4-*> Event MbsEvent101 has source localhost:6790 class: TGo4MbsStream  \n",
      "GO4-*> Factory: Create event processor Processor  \n",
      "GO4-*> Create TFirstStepProcessor Processor  \n",
      "GO4-*> Executing ROOT script first.C  \n",
      "HLD configure calibration calfile:test_  cnt:0 trig:0 temp:0\n",
      "GO4-*> Executing ROOT script second.C+  \n",
      "Create Sec_0350 for TDC_0350\n",
      "Create Sec_0351 for TDC_0351\n",
      "GO4-*> Factory: Create output event OutputEvent  \n",
      "GO4-*> Event OutputEvent has source Processor class: TFirstStepProcessor  \n",
      "GO4-*> Analysis --  Initializing EventClasses done.  \n",
      "GO4-*> Analysis loop is starting...  \n",
      "GO4-*> MBS source:: First event = 0 step = 0\n",
      "  \n",
      "Create TRB 0xc035 procmgr 0x55d0dc1bb9b8 hlvl 4 \n",
      "TRB_C035: Create TDC 0x0350 nch:53 edges:2\n",
      "TRB_C035: Create TDC 0x0351 nch:53 edges:2\n",
      "TRB_C035: Saw ID 0x0352 in autocreate mode\n",
      "TRB_C035: Saw ID 0x0353 in autocreate mode\n",
      "TDC_0350 reading calibration from test_0350.cal, tcorr:  0.0 uset:0 done\n",
      "TDC_0351 reading calibration from test_0351.cal, tcorr:  0.0 uset:0 done\n",
      "direct func call after_create\n",
      "Called after all sub-components are created\n",
      "Configure TRB_C035!\n",
      "Configure TDC_0350!\n",
      "Configure TDC_0351!\n",
      "GO4-*> Analysis implicit Loop has finished after 560 cycles.  \n",
      "TDC_0350 produce normal calibrations \n",
      "TDC_0350 storing calibration in test_0350.cal.info\n",
      "TDC_0351 produce normal calibrations \n",
      "TDC_0351 storing calibration in test_0351.cal.info\n",
      "--- User Post Loop TDC_0350\n",
      "write tree_out.root\n",
      "\n",
      "Processing unify.C...\n",
      "--- User Post Loop TDC_0351\n",
      "write tree_out.root\n",
      "GO4-*> Opening AutoSave file Go4AutoSave.root with RECREATE mode  \n",
      "get t1 offsets from database\n",
      "unify_channel_info/0353.channel_info.txt\n",
      "unify_channel_info/0x0350.channel_info.txt\n",
      "unify_channel_info/0x0351.channel_info.txt\n",
      "unify_channel_info/0x0352.channel_info.txt\n",
      "unify_channel_info/0x0353.channel_info.txt\n",
      "unify_channel_info/0x1500.channel_info.txt\n",
      "unify_channel_info/0x1501.channel_info.txt\n",
      "unify_channel_info/0x1502.channel_info.txt\n",
      "unify_channel_info/0x1503.channel_info.txt\n",
      "unify_channel_info/0xeeef.channel_info.txt\n",
      "unify!\n",
      "read global reference channel: 35131\n",
      "found data tree for tdc: TDC_0350\n",
      "get t1 offsets for tdc: 0x0350\n",
      "read t1 offsets of 0x0350\n",
      " \n",
      "line: -9.288794\t0\t2\t-1\t-1\n",
      "chan 1 t1_offset -9.28879 chamber 0 layer 2 fpc -1 wire -1\n",
      "line: -11.159857\t0\t2\t-1\t-2\n",
      "chan 2 t1_offset -11.1599 chamber 0 layer 2 fpc -1 wire -2\n",
      "line: -10.223099\t0\t2\t-1\t-3\n",
      "chan 3 t1_offset -10.2231 chamber 0 layer 2 fpc -1 wire -3\n",
      "line: -11.514480\t0\t2\t-1\t-4\n",
      "chan 4 t1_offset -11.5145 chamber 0 layer 2 fpc -1 wire -4\n",
      "line: -8.424129\t0\t2\t-1\t-1\n",
      "chan 5 t1_offset -8.42413 chamber 0 layer 2 fpc -1 wire -1\n",
      "line: -12.934562\t0\t2\t-1\t-2\n",
      "chan 6 t1_offset -12.9346 chamber 0 layer 2 fpc -1 wire -2\n",
      "line: -10.539336\t0\t2\t-1\t-3\n",
      "chan 7 t1_offset -10.5393 chamber 0 layer 2 fpc -1 wire -3\n",
      "line: -9.941548\t0\t2\t-1\t-4\n",
      "chan 8 t1_offset -9.94155 chamber 0 layer 2 fpc -1 wire -4\n",
      "line: -11.630276\t0\t2\t9\t39\n",
      "chan 9 t1_offset -11.6303 chamber 0 layer 2 fpc 9 wire 39\n",
      "line: -12.012691\t0\t2\t9\t38\n",
      "chan 10 t1_offset -12.0127 chamber 0 layer 2 fpc 9 wire 38\n",
      "line: -10.348764\t0\t2\t9\t37\n",
      "chan 11 t1_offset -10.3488 chamber 0 layer 2 fpc 9 wire 37\n",
      "line: -11.244469\t0\t2\t9\t36\n",
      "chan 12 t1_offset -11.2445 chamber 0 layer 2 fpc 9 wire 36\n",
      "line: -10.549174\t0\t2\t8\t35\n",
      "chan 13 t1_offset -10.5492 chamber 0 layer 2 fpc 8 wire 35\n",
      "line: -13.926312\t0\t2\t8\t34\n",
      "chan 14 t1_offset -13.9263 chamber 0 layer 2 fpc 8 wire 34\n",
      "line: -10.387232\t0\t2\t8\t33\n",
      "chan 15 t1_offset -10.3872 chamber 0 layer 2 fpc 8 wire 33\n",
      "line: -11.625690\t0\t2\t8\t32\n",
      "chan 16 t1_offset -11.6257 chamber 0 layer 2 fpc 8 wire 32\n",
      "line: -12.082166\t0\t3\t36\t144\n",
      "chan 17 t1_offset -12.0822 chamber 0 layer 3 fpc 36 wire 144\n",
      "line: -12.538071\t0\t3\t36\t145\n",
      "chan 18 t1_offset -12.5381 chamber 0 layer 3 fpc 36 wire 145\n",
      "line: -12.023208\t0\t3\t36\t146\n",
      "chan 19 t1_offset -12.0232 chamber 0 layer 3 fpc 36 wire 146\n",
      "line: -13.738293\t0\t3\t36\t147\n",
      "chan 20 t1_offset -13.7383 chamber 0 layer 3 fpc 36 wire 147\n",
      "line: -14.198562\t0\t3\t37\t148\n",
      "chan 21 t1_offset -14.1986 chamber 0 layer 3 fpc 37 wire 148\n",
      "line: -13.055859\t0\t3\t37\t149\n",
      "chan 22 t1_offset -13.0559 chamber 0 layer 3 fpc 37 wire 149\n",
      "line: -8.071987\t0\t3\t37\t150\n",
      "chan 23 t1_offset -8.07199 chamber 0 layer 3 fpc 37 wire 150\n",
      "line: -13.185161\t0\t3\t37\t151\n",
      "chan 24 t1_offset -13.1852 chamber 0 layer 3 fpc 37 wire 151\n",
      "line: -10.567132\t0\t3\t38\t152\n",
      "chan 25 t1_offset -10.5671 chamber 0 layer 3 fpc 38 wire 152\n",
      "line: -12.644178\t0\t3\t38\t153\n",
      "chan 26 t1_offset -12.6442 chamber 0 layer 3 fpc 38 wire 153\n",
      "line: -8.875171\t0\t3\t38\t154\n",
      "chan 27 t1_offset -8.87517 chamber 0 layer 3 fpc 38 wire 154\n",
      "line: -10.940226\t0\t3\t38\t155\n",
      "chan 28 t1_offset -10.9402 chamber 0 layer 3 fpc 38 wire 155\n",
      "line: -12.177673\t0\t3\t39\t156\n",
      "chan 29 t1_offset -12.1777 chamber 0 layer 3 fpc 39 wire 156\n",
      "line: -14.791716\t0\t3\t39\t157\n",
      "chan 30 t1_offset -14.7917 chamber 0 layer 3 fpc 39 wire 157\n",
      "line: -11.525323\t0\t3\t39\t158\n",
      "chan 31 t1_offset -11.5253 chamber 0 layer 3 fpc 39 wire 158\n",
      "line: -11.596269\t0\t3\t39\t159\n",
      "chan 32 t1_offset -11.5963 chamber 0 layer 3 fpc 39 wire 159\n",
      "line: -11.561535\t-1\t-1\t-1\t-1\n",
      "chan 33 t1_offset -11.5615 chamber -1 layer -1 fpc -1 wire -1\n",
      "line: -12.046441\t-1\t-1\t-1\t-1\n",
      "chan 34 t1_offset -12.0464 chamber -1 layer -1 fpc -1 wire -1\n",
      "line: -10.855118\t-1\t-1\t-1\t-1\n",
      "chan 35 t1_offset -10.8551 chamber -1 layer -1 fpc -1 wire -1\n",
      "line: -13.449825\t-1\t-1\t-1\t-1\n",
      "chan 36 t1_offset -13.4498 chamber -1 layer -1 fpc -1 wire -1\n",
      "line: -11.125367\t-1\t-1\t-1\t-1\n",
      "chan 37 t1_offset -11.1254 chamber -1 layer -1 fpc -1 wire -1\n",
      "line: -13.034907\t-1\t-1\t-1\t-1\n",
      "chan 38 t1_offset -13.0349 chamber -1 layer -1 fpc -1 wire -1\n",
      "line: -12.386124\t-1\t-1\t-1\t-1\n",
      "chan 39 t1_offset -12.3861 chamber -1 layer -1 fpc -1 wire -1\n",
      "line: -11.967872\t-1\t-1\t-1\t-1\n",
      "chan 40 t1_offset -11.9679 chamber -1 layer -1 fpc -1 wire -1\n",
      "line: -11.070013\t-1\t-1\t-1\t-1\n",
      "chan 41 t1_offset -11.07 chamber -1 layer -1 fpc -1 wire -1\n",
      "line: -13.903866\t-1\t-1\t-1\t-1\n",
      "chan 42 t1_offset -13.9039 chamber -1 layer -1 fpc -1 wire -1\n",
      "line: -12.890277\t-1\t-1\t-1\t-1\n",
      "chan 43 t1_offset -12.8903 chamber -1 layer -1 fpc -1 wire -1\n",
      "line: -13.081436\t-1\t-1\t-1\t-1\n",
      "chan 44 t1_offset -13.0814 chamber -1 layer -1 fpc -1 wire -1\n",
      "line: -13.693559\t-1\t-1\t-1\t-1\n",
      "chan 45 t1_offset -13.6936 chamber -1 layer -1 fpc -1 wire -1\n",
      "line: -13.825211\t-1\t-1\t-1\t-1\n",
      "chan 46 t1_offset -13.8252 chamber -1 layer -1 fpc -1 wire -1\n",
      "line: -11.618470\t-1\t-1\t-1\t-1\n",
      "chan 47 t1_offset -11.6185 chamber -1 layer -1 fpc -1 wire -1\n",
      "line: -9.331195\t-1\t-1\t-1\t-1\n",
      "chan 48 t1_offset -9.33119 chamber -1 layer -1 fpc -1 wire -1\n",
      "TDC channel prefix/offset (100 possible TDC channels left): 35000\n",
      "    tree: TDC_0350 entries: 2496\n",
      "\n",
      "\n",
      "found data tree for tdc: TDC_0351\n",
      "get t1 offsets for tdc: 0x0351\n",
      "read t1 offsets of 0x0351\n",
      " \n",
      "line: -11.193056\t0\t2\t13\t55\n",
      "chan 1 t1_offset -11.1931 chamber 0 layer 2 fpc 13 wire 55\n",
      "line: -13.166650\t0\t2\t13\t54\n",
      "chan 2 t1_offset -13.1666 chamber 0 layer 2 fpc 13 wire 54\n",
      "line: -11.259544\t0\t2\t13\t53\n",
      "chan 3 t1_offset -11.2595 chamber 0 layer 2 fpc 13 wire 53\n",
      "line: -12.598782\t0\t2\t13\t52\n",
      "chan 4 t1_offset -12.5988 chamber 0 layer 2 fpc 13 wire 52\n",
      "line: -9.601245\t0\t2\t12\t51\n",
      "chan 5 t1_offset -9.60124 chamber 0 layer 2 fpc 12 wire 51\n",
      "line: -13.607232\t0\t2\t12\t50\n",
      "chan 6 t1_offset -13.6072 chamber 0 layer 2 fpc 12 wire 50\n",
      "line: -11.503416\t0\t2\t12\t49\n",
      "chan 7 t1_offset -11.5034 chamber 0 layer 2 fpc 12 wire 49\n",
      "line: -10.729133\t0\t2\t12\t48\n",
      "chan 8 t1_offset -10.7291 chamber 0 layer 2 fpc 12 wire 48\n",
      "line: -12.651144\t0\t2\t11\t47\n",
      "chan 9 t1_offset -12.6511 chamber 0 layer 2 fpc 11 wire 47\n",
      "line: -13.457971\t0\t2\t11\t46\n",
      "chan 10 t1_offset -13.458 chamber 0 layer 2 fpc 11 wire 46\n",
      "line: -11.882136\t0\t2\t11\t45\n",
      "chan 11 t1_offset -11.8821 chamber 0 layer 2 fpc 11 wire 45\n",
      "line: -12.613098\t0\t2\t11\t44\n",
      "chan 12 t1_offset -12.6131 chamber 0 layer 2 fpc 11 wire 44\n",
      "line: -12.056860\t0\t2\t10\t43\n",
      "chan 13 t1_offset -12.0569 chamber 0 layer 2 fpc 10 wire 43\n",
      "line: -15.055980\t0\t2\t10\t42\n",
      "chan 14 t1_offset -15.056 chamber 0 layer 2 fpc 10 wire 42\n",
      "line: -11.637590\t0\t2\t10\t41\n",
      "chan 15 t1_offset -11.6376 chamber 0 layer 2 fpc 10 wire 41\n",
      "line: -13.017920\t0\t2\t10\t40\n",
      "chan 16 t1_offset -13.0179 chamber 0 layer 2 fpc 10 wire 40\n",
      "line: -9.398501\t0\t2\t17\t71\n",
      "chan 17 t1_offset -9.3985 chamber 0 layer 2 fpc 17 wire 71\n",
      "line: -9.802767\t0\t2\t17\t70\n",
      "chan 18 t1_offset -9.80277 chamber 0 layer 2 fpc 17 wire 70\n",
      "line: -9.601917\t0\t2\t17\t69\n",
      "chan 19 t1_offset -9.60192 chamber 0 layer 2 fpc 17 wire 69\n",
      "line: -11.201095\t0\t2\t17\t68\n",
      "chan 20 t1_offset -11.2011 chamber 0 layer 2 fpc 17 wire 68\n",
      "line: -11.792897\t0\t2\t16\t67\n",
      "chan 21 t1_offset -11.7929 chamber 0 layer 2 fpc 16 wire 67\n",
      "line: -10.455660\t0\t2\t16\t66\n",
      "chan 22 t1_offset -10.4557 chamber 0 layer 2 fpc 16 wire 66\n",
      "line: -5.870917\t0\t2\t16\t65\n",
      "chan 23 t1_offset -5.87092 chamber 0 layer 2 fpc 16 wire 65\n",
      "line: -10.872486\t0\t2\t16\t64\n",
      "chan 24 t1_offset -10.8725 chamber 0 layer 2 fpc 16 wire 64\n",
      "line: -8.624268\t0\t2\t15\t63\n",
      "chan 25 t1_offset -8.62427 chamber 0 layer 2 fpc 15 wire 63\n",
      "line: -11.622337\t0\t2\t15\t62\n",
      "chan 26 t1_offset -11.6223 chamber 0 layer 2 fpc 15 wire 62\n",
      "line: -6.917201\t0\t2\t15\t61\n",
      "chan 27 t1_offset -6.9172 chamber 0 layer 2 fpc 15 wire 61\n",
      "line: -9.011486\t0\t2\t15\t60\n",
      "chan 28 t1_offset -9.01149 chamber 0 layer 2 fpc 15 wire 60\n",
      "line: -10.384979\t0\t2\t14\t59\n",
      "chan 29 t1_offset -10.385 chamber 0 layer 2 fpc 14 wire 59\n",
      "line: -12.948013\t0\t2\t14\t58\n",
      "chan 30 t1_offset -12.948 chamber 0 layer 2 fpc 14 wire 58\n",
      "line: -9.785527\t0\t2\t14\t57\n",
      "chan 31 t1_offset -9.78553 chamber 0 layer 2 fpc 14 wire 57\n",
      "line: -9.328754\t0\t2\t14\t56\n",
      "chan 32 t1_offset -9.32875 chamber 0 layer 2 fpc 14 wire 56\n",
      "line: -12.143891\t0\t2\t23\t95\n",
      "chan 33 t1_offset -12.1439 chamber 0 layer 2 fpc 23 wire 95\n",
      "line: -12.845504\t0\t2\t23\t94\n",
      "chan 34 t1_offset -12.8455 chamber 0 layer 2 fpc 23 wire 94\n",
      "line: -11.252515\t0\t2\t23\t93\n",
      "chan 35 t1_offset -11.2525 chamber 0 layer 2 fpc 23 wire 93\n",
      "line: -14.202573\t0\t2\t23\t92\n",
      "chan 36 t1_offset -14.2026 chamber 0 layer 2 fpc 23 wire 92\n",
      "line: -11.746534\t0\t2\t22\t91\n",
      "chan 37 t1_offset -11.7465 chamber 0 layer 2 fpc 22 wire 91\n",
      "line: -13.847972\t0\t2\t22\t90\n",
      "chan 38 t1_offset -13.848 chamber 0 layer 2 fpc 22 wire 90\n",
      "line: -12.922979\t0\t2\t22\t89\n",
      "chan 39 t1_offset -12.923 chamber 0 layer 2 fpc 22 wire 89\n",
      "line: -12.420961\t0\t2\t22\t88\n",
      "chan 40 t1_offset -12.421 chamber 0 layer 2 fpc 22 wire 88\n",
      "line: -11.518025\t0\t2\t21\t87\n",
      "chan 41 t1_offset -11.518 chamber 0 layer 2 fpc 21 wire 87\n",
      "line: -14.657226\t0\t2\t21\t86\n",
      "chan 42 t1_offset -14.6572 chamber 0 layer 2 fpc 21 wire 86\n",
      "line: -13.512579\t0\t2\t21\t85\n",
      "chan 43 t1_offset -13.5126 chamber 0 layer 2 fpc 21 wire 85\n",
      "line: -13.702288\t0\t2\t21\t84\n",
      "chan 44 t1_offset -13.7023 chamber 0 layer 2 fpc 21 wire 84\n",
      "line: -14.294878\t0\t2\t20\t83\n",
      "chan 45 t1_offset -14.2949 chamber 0 layer 2 fpc 20 wire 83\n",
      "line: -14.604696\t0\t2\t20\t82\n",
      "chan 46 t1_offset -14.6047 chamber 0 layer 2 fpc 20 wire 82\n",
      "line: -12.290672\t0\t2\t20\t81\n",
      "chan 47 t1_offset -12.2907 chamber 0 layer 2 fpc 20 wire 81\n",
      "line: -10.173099\t0\t2\t20\t80\n",
      "chan 48 t1_offset -10.1731 chamber 0 layer 2 fpc 20 wire 80\n",
      "TDC channel prefix/offset (100 possible TDC channels left): 35100\n",
      "    tree: TDC_0351 entries: 802\n",
      "\n",
      "\n",
      "found data tree for tdc: TDC_0350\n",
      "found data tree for tdc: TDC_0351\n",
      "GO4-*> AutoSave file Go4AutoSave.root was closed.  \n",
      "GO4-*> Input 560  Output 560  Total processed size = 152176  \n",
      "GO4-*> Main: analysis batch done  \n",
      "GO4-*> Main: THE END  \n"
     ]
    },
    {
     "name": "stderr",
     "output_type": "stream",
     "text": [
      "rm: cannot remove '*.root': No such file or directory\n",
      "Info in <TUnixSystem::ACLiC>: creating shared library /workdir/./second_C.so\n"
     ]
    }
   ],
   "source": [
    "#fst.take_data(events=500)\n",
    "fst.take_data(time=10)"
   ]
  },
  {
   "cell_type": "code",
   "execution_count": 3,
   "metadata": {},
   "outputs": [
    {
     "name": "stderr",
     "output_type": "stream",
     "text": [
      "Warning in <TClass::Init>: no dictionary for class Event is available\n",
      "Warning in <TClass::Init>: no dictionary for class Hit is available\n"
     ]
    },
    {
     "data": {
      "image/png": "[encoded data removed]",
      "text/plain": [
       "<IPython.core.display.Image object>"
      ]
     },
     "metadata": {},
     "output_type": "display_data"
    }
   ],
   "source": [
    "c = ROOT.TCanvas(\"myCanvasName\",\"The Canvas Title\",640,480)\n",
    "\n",
    "f = ROOT.TFile(\"/workdir/joint_tree.root\")\n",
    "tree = f.Get(\"joint_tree\")\n",
    "tree.Draw(\"t1\",\"\",\"\")\n",
    "#tree.Draw(\"tot_a:t1_a >> potato(500,0,500e-9,500,0,500e-9)\",\"\",\"colz\")\n",
    "\n",
    "#potato = f.Get(\"potato\")\n",
    "#potato.SetTitle(\"potato\")\n",
    "#potato.GetXaxis().SetTitle(\"t1 (s)\")\n",
    "#potato.GetYaxis().SetTitle(\"tot (s)\")\n",
    "#potato.Draw(\"colz\")\n",
    "c.Draw()"
   ]
  },
  {
   "cell_type": "code",
   "execution_count": 4,
   "metadata": {},
   "outputs": [
    {
     "data": {
      "image/png": "[encoded data removed]",
      "text/plain": [
       "<IPython.core.display.Image object>"
      ]
     },
     "metadata": {},
     "output_type": "display_data"
    }
   ],
   "source": [
    "tdc=351\n",
    "disp_channels = 64\n",
    "tree.Draw(\"chan:t1>>t1_meta(1000,-30,30,{:d},{:d},{:d})\".format(disp_channels,tdc*100,tdc*100+disp_channels),\"\",\"colz\")\n",
    "c.Draw()"
   ]
  },
  {
   "cell_type": "code",
   "execution_count": 5,
   "metadata": {},
   "outputs": [
    {
     "name": "stdout",
     "output_type": "stream",
     "text": [
      "-5.300020988970622e-08\n",
      "559.0\n",
      "1.7065651926230582e-06\n"
     ]
    },
    {
     "data": {
      "image/png": "[encoded data removed]",
      "text/plain": [
       "<IPython.core.display.Image object>"
      ]
     },
     "metadata": {},
     "output_type": "display_data"
    }
   ],
   "source": [
    "##################################################\n",
    "##              horiz scintillator              ##\n",
    "##################################################\n",
    "\n",
    "\n",
    "tdc=351\n",
    "chan = 31\n",
    "tree.Draw(\"t1>>dut_t1(100,-100,100)\",\"chan == {:d}\".format(tdc*100+chan),\"colz\")\n",
    "c.Draw()\n",
    "dut_t1 = f.Get(\"dut_t1\")\n",
    "print(dut_t1.GetMean())\n",
    "print(dut_t1.GetEntries())\n",
    "print(dut_t1.GetStdDev())"
   ]
  },
  {
   "cell_type": "code",
   "execution_count": 6,
   "metadata": {},
   "outputs": [
    {
     "name": "stdout",
     "output_type": "stream",
     "text": [
      "-0.13165428215870634\n",
      "8.0\n",
      "0.7687424055177436\n"
     ]
    },
    {
     "data": {
      "image/png": "[encoded data removed]",
      "text/plain": [
       "<IPython.core.display.Image object>"
      ]
     },
     "metadata": {},
     "output_type": "display_data"
    }
   ],
   "source": [
    "##################################################\n",
    "##               vert scintillator              ##\n",
    "##################################################\n",
    "\n",
    "\n",
    "tdc=351\n",
    "chan = 20\n",
    "tree.Draw(\"t1>>dut_t1(100,-100,100)\",\"chan == {:d}\".format(tdc*100+chan),\"colz\")\n",
    "c.Draw()\n",
    "dut_t1 = f.Get(\"dut_t1\")\n",
    "print(dut_t1.GetMean())\n",
    "print(dut_t1.GetEntries())\n",
    "print(dut_t1.GetStdDev())"
   ]
  }
 ],
 "metadata": {
  "kernelspec": {
   "display_name": "Python 3",
   "language": "python",
   "name": "python3"
  },
  "language_info": {
   "codemirror_mode": {
    "name": "ipython",
    "version": 3
   },
   "file_extension": ".py",
   "mimetype": "text/x-python",
   "name": "python",
   "nbconvert_exporter": "python",
   "pygments_lexer": "ipython3",
   "version": "3.6.8"
  }
 },
 "nbformat": 4,
 "nbformat_minor": 2
}
