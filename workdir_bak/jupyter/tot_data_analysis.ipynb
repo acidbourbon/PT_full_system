{
 "cells": [
  {
   "cell_type": "code",
   "execution_count": 1,
   "metadata": {},
   "outputs": [
    {
     "data": {
      "text/html": [
       "\n",
       "<style>\n",
       "    div#notebook-container    { width: 95%; }\n",
       "    div#menubar-container     { width: 65%; }\n",
       "    div#maintoolbar-container { width: 99%; }\n",
       "</style>\n"
      ],
      "text/plain": [
       "<IPython.core.display.HTML object>"
      ]
     },
     "metadata": {},
     "output_type": "display_data"
    }
   ],
   "source": [
    "from IPython.display import display, HTML\n",
    "\n",
    "display(HTML(data=\"\"\"\n",
    "<style>\n",
    "    div#notebook-container    { width: 95%; }\n",
    "    div#menubar-container     { width: 65%; }\n",
    "    div#maintoolbar-container { width: 99%; }\n",
    "</style>\n",
    "\"\"\"))\n"
   ]
  },
  {
   "cell_type": "code",
   "execution_count": 2,
   "metadata": {},
   "outputs": [
    {
     "name": "stdout",
     "output_type": "stream",
     "text": [
      "/workdir/jupyter/tot_data_taking_data/ID18_HV1600V_ptime_15_thr_30_gain_4_boardsON_0_sr_15.root\n"
     ]
    }
   ],
   "source": [
    "\n",
    "\n",
    "import pickle\n",
    "\n",
    "list_file=\"/workdir/jupyter/tot_data_taking_data/datasetID_18_list.pickle\"\n",
    "#list_file=\"/workdir/jupyter/tot_data_taking_data/datasetID_1_list.pickle\"\n",
    "with open (list_file,'rb') as fp:\n",
    "\n",
    "\n",
    "    #with open ('/workdir/jupyter/tot_data_taking_data/HV1600V_ptime_15_threshold_50_gain_4_boardsON_23.rootlist.pickle', 'rb') as fp:\n",
    "    data_file_list = pickle.load(fp)\n",
    "for f in data_file_list:\n",
    "    print (f)\n"
   ]
  },
  {
   "cell_type": "code",
   "execution_count": 3,
   "metadata": {
    "scrolled": false
   },
   "outputs": [
    {
     "name": "stdout",
     "output_type": "stream",
     "text": [
      "Welcome to JupyROOT 6.14/04\n",
      "data file   , tot_mostprob signalcounts noisecounts sn_ratio significance\n",
      "148.0 3.5924694730813703e+165 5.3865998224315775e+228\n",
      "ID0_HV1600V_ptime_15_thr_50_gain_4_boardsON_0_sr_15. |  140.0 |  63.0 |  1.0 |  63.00 |  7.88 3592469473081370347065308091421278676927222484290599646729961940311853640074986287216322631272563875914836891794906295220528570520148246288119509906362447864631656448.00\n"
     ]
    },
    {
     "data": {
      "text/plain": [
       "<function matplotlib.pyplot.show(*args, **kw)>"
      ]
     },
     "execution_count": 3,
     "metadata": {},
     "output_type": "execute_result"
    },
    {
     "data": {
      "image/png": "[encoded data removed]",
      "text/plain": [
       "<IPython.core.display.Image object>"
      ]
     },
     "metadata": {},
     "output_type": "display_data"
    }
   ],
   "source": [
    "\n",
    "import ROOT\n",
    "import pickle\n",
    "import numpy as np \n",
    "import math\n",
    "from matplotlib import pyplot as plt\n",
    "\n",
    "#from ROOT import gInterpreter, gSystem\n",
    "#gInterpreter.ProcessLine('#include \"/workdir/my_event.h\"')\n",
    "\n",
    "\n",
    "\n",
    "##################################################\n",
    "##               slurp root file                ##\n",
    "##################################################\n",
    "list_file=\"/workdir/jupyter/tot_data_taking_data/datasetID_0_list.pickle\"\n",
    "#list_file=\"/workdir/jupyter/tot_data_taking_data/datasetID_1_list.pickle\"\n",
    "with open (list_file,'rb') as fp:\n",
    "\n",
    "\n",
    "    #with open ('/workdir/jupyter/tot_data_taking_data/HV1600V_ptime_15_threshold_50_gain_4_boardsON_23.rootlist.pickle', 'rb') as fp:\n",
    "    data_file_list = pickle.load(fp)\n",
    "#change parameter in filelist / quick&dirty:    \n",
    "#data_file_list = [f.replace('threshold_10', 'threshold_40') for f in data_file_list]\n",
    "# threshold_10 10 files\n",
    "# threshold_15  5 files\n",
    "# threshold_18  2 files\n",
    "# threshold_30  11 files\n",
    "# threshold_40   files\n",
    "\n",
    "\n",
    "\n",
    "#f = ROOT.TFile(\"/workdir/tree_out.root\".format(data_dir))\n",
    "#tree = f.Get(\"TDC_1503\")\n",
    "#print(\"data entries TDC_1503: \" + str(tree.GetEntries()))\n",
    "i = -1\n",
    "clist = [None]*100\n",
    "print(\"data file   ,\", \"tot_mostprob\", \"signalcounts\", \"noisecounts\", \"sn_ratio\", \"significance\")\n",
    "\n",
    "tot_mostprob_list = []\n",
    "\n",
    "for data_file in data_file_list:\n",
    "    i += 1\n",
    "    #if i == 30:\n",
    "    #    break\n",
    "    #print(data_file)\n",
    "    f = ROOT.TFile(\"{:s}\".format(data_file))\n",
    "    tree = f.Get(\"joint_tree\")\n",
    "    #print(\"data entries: \" + str(tree.GetEntries()))\n",
    "    ## plot data:\n",
    "    clist[i] = ROOT.TCanvas(\"myCanvasName\"+str(i),str(data_file),700,600)\n",
    "#     tree.Draw(\"tot>>htot2(300,0,300)\",\"chan > 150301 && chan < 150303\")\n",
    "#     tree.Draw(\"tot>>htot(300,0,300)\",\"chan > 035313 && chan < 035315\",\"same\")  \n",
    "    tree.Draw(\"tot>>htot(100,0,800)\",\"chan > 150307 && chan < 150309\")\n",
    "    tree.Draw(\"tot>>htot2(100,0,800)\",\"chan > 035307 && chan < 035309\",\"same\")     \n",
    "    tree.Draw(\"tot>>htot3(200,0,300)\",\"chan > 035316 && chan < 035332\",\"same\")  \n",
    "    tree.Draw(\"tot>>htot4(200,0,300)\",\"chan > 150316 && chan < 150332\",\"same\")  \n",
    "    clist[i].Draw()\n",
    "    htot = f.Get(\"htot\")\n",
    "    htot2 = f.Get(\"htot2\")\n",
    "    htot3 = f.Get(\"htot3\")\n",
    "    htot4 = f.Get(\"htot4\")\n",
    "    clist[i].SetLogy()\n",
    "    htot.GetXaxis().SetTitle(\"ToT [ns]\")\n",
    "    htot.GetYaxis().SetTitle(\"counts\")\n",
    "    htot.SetTitle(data_file.strip(\"workdir/jupyter/tot_data_taking_data\"))\n",
    " \n",
    "    \n",
    "\n",
    "    #htot.ShowPeaks(2,\"\",0.5)\n",
    "    spectrum_peaks = ROOT.TSpectrum(4);\n",
    "    nfound_peaks = spectrum_peaks.Search(htot,2,\"\",0.5)  \n",
    "    if nfound_peaks < 2: \n",
    "       nfound_peaks = spectrum_peaks.Search(htot,2,\"\",0.01)  \n",
    "        \n",
    "    if nfound_peaks > 0:\n",
    "           xpeaks = spectrum_peaks.GetPositionX();\n",
    "           tot_mostprob_noise = xpeaks[0]\n",
    "           tot_mostprob_signal = xpeaks[1]\n",
    "           print (xpeaks[0],xpeaks[1],xpeaks[2])\n",
    "           sn_distance = math.fabs(tot_mostprob_noise-tot_mostprob_signal)\n",
    "    else:\n",
    "       sn_distance = -1\n",
    "    clist[i].Draw()\n",
    "    htot.SetLineColor(6)\n",
    "    htot.DrawCopy(\"\")\n",
    "    htot2.DrawCopy(\"same\")\n",
    "    htot3.SetLineColor(2)\n",
    "#     htot3.DrawCopy(\"same\")\n",
    "    htot4.SetLineColor(8)\n",
    "#     htot4.DrawCopy(\"same\")\n",
    "    \n",
    "    tot_mostprob = htot.GetXaxis().GetBinCenter(htot.GetMaximumBin())\n",
    "    tot_mostprob_list += [ sn_distance ]\n",
    "    signalcounts  = htot.Integral(htot.FindBin(50),htot.GetNbinsX())\n",
    "    noisecounts   = htot.Integral(1,htot.FindBin(50))\n",
    "    if noisecounts == 0:\n",
    "        sn_ratio = -1\n",
    "        significance = -1\n",
    "    else:\n",
    "        sn_ratio = signalcounts/noisecounts\n",
    "        significance = signalcounts/np.sqrt(signalcounts+noisecounts)\n",
    "    print(  htot.GetTitle() , \"| \",  tot_mostprob,\"| \", signalcounts,\"| \", noisecounts,\"| \", \"{:.2f}\".format(sn_ratio),\"| \", \"{:.2f}\".format(significance),  \"{:.2f}\".format(sn_distance))\n",
    " \n",
    "plt.scatter(range(0,len(tot_mostprob_list)),tot_mostprob_list)\n",
    "plt.yscale('log')\n",
    "plt.show\n"
   ]
  },
  {
   "cell_type": "code",
   "execution_count": 4,
   "metadata": {},
   "outputs": [
    {
     "data": {
      "image/png": "[encoded data removed]",
      "text/plain": [
       "<IPython.core.display.Image object>"
      ]
     },
     "metadata": {},
     "output_type": "display_data"
    }
   ],
   "source": [
    "##################################################\n",
    "##             overview TDC 0x0351              ##\n",
    "##################################################\n",
    "c = ROOT.TCanvas(\"myCanvasName\",\"The Canvas Title\",900,480)\n",
    "c.Divide(2,1)\n",
    "\n",
    "tdc=353\n",
    "disp_channels = 17\n",
    "#tree.Draw(\"chan:t1\",\"\",\"lego2\")\n",
    "c.cd(1)\n",
    "tree.Draw(\"chan:tot>>TDC0353(400,0,1200,{:d},{:d},{:d})\".format(disp_channels,tdc*100,tdc*100+disp_channels),\"\",\"colz\")\n",
    "c.SetLogz(1)\n",
    "c.Draw()\n",
    "c.cd(2)\n",
    "tdc=1503\n",
    "tree.Draw(\"chan:tot>>TDC1503(400,0,1200,{:d},{:d},{:d})\".format(disp_channels,tdc*100,tdc*100+disp_channels),\"\",\"colz\")\n",
    "c.SetLogz(1)\n",
    "c.Draw()\n"
   ]
  }
 ],
 "metadata": {
  "kernelspec": {
   "display_name": "Python 3",
   "language": "python",
   "name": "python3"
  },
  "language_info": {
   "codemirror_mode": {
    "name": "ipython",
    "version": 3
   },
   "file_extension": ".py",
   "mimetype": "text/x-python",
   "name": "python",
   "nbconvert_exporter": "python",
   "pygments_lexer": "ipython3",
   "version": "3.6.9"
  }
 },
 "nbformat": 4,
 "nbformat_minor": 2
}
