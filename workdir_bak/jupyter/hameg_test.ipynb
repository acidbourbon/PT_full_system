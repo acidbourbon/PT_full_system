{
 "cells": [
  {
   "cell_type": "code",
   "execution_count": 1,
   "metadata": {},
   "outputs": [],
   "source": [
    "import hameg_trb as htrb"
   ]
  },
  {
   "cell_type": "code",
   "execution_count": 2,
   "metadata": {},
   "outputs": [
    {
     "name": "stdout",
     "output_type": "stream",
     "text": [
      "24.0\n",
      "1.193\n",
      "1\n",
      "None\n",
      "None\n",
      "device: /dev/ttyUSB_HAMEG_TRB\n",
      "volt 0.000000 curr 0.000000 state 0\n",
      "volt 0.000000 curr 0.000000 state 0\n",
      "volt 0.000000 curr 0.000000 state 0\n",
      "volt 0.000000 curr 0.000000 state 0\n",
      "None\n",
      "None\n",
      "device: /dev/ttyUSB_HAMEG_TRB\n",
      "volt 22.434000 curr 0.124800 state 1\n",
      "volt 1.307000 curr 0.084200 state 1\n",
      "volt 4.998000 curr 3.985000 state 1\n",
      "volt 5.000000 curr 0.120000 state 1\n"
     ]
    }
   ],
   "source": [
    "print(htrb.get_volt(1))\n",
    "print(htrb.get_curr(1))\n",
    "print(htrb.get_state(1))\n",
    "print(htrb.all_off())\n",
    "print(htrb.set_state(2,0))\n",
    "htrb.report()\n",
    "print(htrb.all_on())\n",
    "print(htrb.set_state(2,1))\n",
    "htrb.report()"
   ]
  },
  {
   "cell_type": "code",
   "execution_count": null,
   "metadata": {},
   "outputs": [],
   "source": []
  }
 ],
 "metadata": {
  "kernelspec": {
   "display_name": "Python 3",
   "language": "python",
   "name": "python3"
  },
  "language_info": {
   "codemirror_mode": {
    "name": "ipython",
    "version": 3
   },
   "file_extension": ".py",
   "mimetype": "text/x-python",
   "name": "python",
   "nbconvert_exporter": "python",
   "pygments_lexer": "ipython3",
   "version": "3.6.9"
  }
 },
 "nbformat": 4,
 "nbformat_minor": 2
}
